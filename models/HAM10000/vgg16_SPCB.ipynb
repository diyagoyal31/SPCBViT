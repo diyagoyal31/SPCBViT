{
  "cells": [
    {
      "cell_type": "markdown",
      "metadata": {},
      "source": [
        "# SPCBViTNet – Vgg16 Notebook\n",
        "\n",
        "📌 Part of the submission titled:  \n",
        "**\"SPCBViTNet: Enhancing Skin Cancer Diagnosis with Multi-Scale Vision Transformers and Adaptive Spatial-Channel Attention\"**\n",
        "\n",
        "📝 This notebook supports reproducibility during peer review.  \n",
        "🔒 Not yet peer-reviewed. Please do not cite or reuse until publication.\n",
        "\n",
        "📁 See full repo: [https://github.com/diyagoyal31/SPCBViT](https://github.com/diyagoyal31/SPCBViT)\n"
      ]
    },
    {
      "cell_type": "code",
      "execution_count": null,
      "metadata": {
        "colab": {
          "base_uri": "https://localhost:8080/",
          "height": 73
        },
        "id": "bfpMdljgfDNI",
        "outputId": "b39b58f3-a646-4404-872e-41b0e58eb276"
      },
      "outputs": [
        {
          "data": {
            "text/html": [
              "\n",
              "     <input type=\"file\" id=\"files-49f905f3-f9d3-47ce-b706-f27d370786e2\" name=\"files[]\" multiple disabled\n",
              "        style=\"border:none\" />\n",
              "     <output id=\"result-49f905f3-f9d3-47ce-b706-f27d370786e2\">\n",
              "      Upload widget is only available when the cell has been executed in the\n",
              "      current browser session. Please rerun this cell to enable.\n",
              "      </output>\n",
              "      <script>// Copyright 2017 Google LLC\n",
              "//\n",
              "// Licensed under the Apache License, Version 2.0 (the \"License\");\n",
              "// you may not use this file except in compliance with the License.\n",
              "// You may obtain a copy of the License at\n",
              "//\n",
              "//      http://www.apache.org/licenses/LICENSE-2.0\n",
              "//\n",
              "// Unless required by applicable law or agreed to in writing, software\n",
              "// distributed under the License is distributed on an \"AS IS\" BASIS,\n",
              "// WITHOUT WARRANTIES OR CONDITIONS OF ANY KIND, either express or implied.\n",
              "// See the License for the specific language governing permissions and\n",
              "// limitations under the License.\n",
              "\n",
              "/**\n",
              " * @fileoverview Helpers for google.colab Python module.\n",
              " */\n",
              "(function(scope) {\n",
              "function span(text, styleAttributes = {}) {\n",
              "  const element = document.createElement('span');\n",
              "  element.textContent = text;\n",
              "  for (const key of Object.keys(styleAttributes)) {\n",
              "    element.style[key] = styleAttributes[key];\n",
              "  }\n",
              "  return element;\n",
              "}\n",
              "\n",
              "// Max number of bytes which will be uploaded at a time.\n",
              "const MAX_PAYLOAD_SIZE = 100 * 1024;\n",
              "\n",
              "function _uploadFiles(inputId, outputId) {\n",
              "  const steps = uploadFilesStep(inputId, outputId);\n",
              "  const outputElement = document.getElementById(outputId);\n",
              "  // Cache steps on the outputElement to make it available for the next call\n",
              "  // to uploadFilesContinue from Python.\n",
              "  outputElement.steps = steps;\n",
              "\n",
              "  return _uploadFilesContinue(outputId);\n",
              "}\n",
              "\n",
              "// This is roughly an async generator (not supported in the browser yet),\n",
              "// where there are multiple asynchronous steps and the Python side is going\n",
              "// to poll for completion of each step.\n",
              "// This uses a Promise to block the python side on completion of each step,\n",
              "// then passes the result of the previous step as the input to the next step.\n",
              "function _uploadFilesContinue(outputId) {\n",
              "  const outputElement = document.getElementById(outputId);\n",
              "  const steps = outputElement.steps;\n",
              "\n",
              "  const next = steps.next(outputElement.lastPromiseValue);\n",
              "  return Promise.resolve(next.value.promise).then((value) => {\n",
              "    // Cache the last promise value to make it available to the next\n",
              "    // step of the generator.\n",
              "    outputElement.lastPromiseValue = value;\n",
              "    return next.value.response;\n",
              "  });\n",
              "}\n",
              "\n",
              "/**\n",
              " * Generator function which is called between each async step of the upload\n",
              " * process.\n",
              " * @param {string} inputId Element ID of the input file picker element.\n",
              " * @param {string} outputId Element ID of the output display.\n",
              " * @return {!Iterable<!Object>} Iterable of next steps.\n",
              " */\n",
              "function* uploadFilesStep(inputId, outputId) {\n",
              "  const inputElement = document.getElementById(inputId);\n",
              "  inputElement.disabled = false;\n",
              "\n",
              "  const outputElement = document.getElementById(outputId);\n",
              "  outputElement.innerHTML = '';\n",
              "\n",
              "  const pickedPromise = new Promise((resolve) => {\n",
              "    inputElement.addEventListener('change', (e) => {\n",
              "      resolve(e.target.files);\n",
              "    });\n",
              "  });\n",
              "\n",
              "  const cancel = document.createElement('button');\n",
              "  inputElement.parentElement.appendChild(cancel);\n",
              "  cancel.textContent = 'Cancel upload';\n",
              "  const cancelPromise = new Promise((resolve) => {\n",
              "    cancel.onclick = () => {\n",
              "      resolve(null);\n",
              "    };\n",
              "  });\n",
              "\n",
              "  // Wait for the user to pick the files.\n",
              "  const files = yield {\n",
              "    promise: Promise.race([pickedPromise, cancelPromise]),\n",
              "    response: {\n",
              "      action: 'starting',\n",
              "    }\n",
              "  };\n",
              "\n",
              "  cancel.remove();\n",
              "\n",
              "  // Disable the input element since further picks are not allowed.\n",
              "  inputElement.disabled = true;\n",
              "\n",
              "  if (!files) {\n",
              "    return {\n",
              "      response: {\n",
              "        action: 'complete',\n",
              "      }\n",
              "    };\n",
              "  }\n",
              "\n",
              "  for (const file of files) {\n",
              "    const li = document.createElement('li');\n",
              "    li.append(span(file.name, {fontWeight: 'bold'}));\n",
              "    li.append(span(\n",
              "        `(${file.type || 'n/a'}) - ${file.size} bytes, ` +\n",
              "        `last modified: ${\n",
              "            file.lastModifiedDate ? file.lastModifiedDate.toLocaleDateString() :\n",
              "                                    'n/a'} - `));\n",
              "    const percent = span('0% done');\n",
              "    li.appendChild(percent);\n",
              "\n",
              "    outputElement.appendChild(li);\n",
              "\n",
              "    const fileDataPromise = new Promise((resolve) => {\n",
              "      const reader = new FileReader();\n",
              "      reader.onload = (e) => {\n",
              "        resolve(e.target.result);\n",
              "      };\n",
              "      reader.readAsArrayBuffer(file);\n",
              "    });\n",
              "    // Wait for the data to be ready.\n",
              "    let fileData = yield {\n",
              "      promise: fileDataPromise,\n",
              "      response: {\n",
              "        action: 'continue',\n",
              "      }\n",
              "    };\n",
              "\n",
              "    // Use a chunked sending to avoid message size limits. See b/62115660.\n",
              "    let position = 0;\n",
              "    do {\n",
              "      const length = Math.min(fileData.byteLength - position, MAX_PAYLOAD_SIZE);\n",
              "      const chunk = new Uint8Array(fileData, position, length);\n",
              "      position += length;\n",
              "\n",
              "      const base64 = btoa(String.fromCharCode.apply(null, chunk));\n",
              "      yield {\n",
              "        response: {\n",
              "          action: 'append',\n",
              "          file: file.name,\n",
              "          data: base64,\n",
              "        },\n",
              "      };\n",
              "\n",
              "      let percentDone = fileData.byteLength === 0 ?\n",
              "          100 :\n",
              "          Math.round((position / fileData.byteLength) * 100);\n",
              "      percent.textContent = `${percentDone}% done`;\n",
              "\n",
              "    } while (position < fileData.byteLength);\n",
              "  }\n",
              "\n",
              "  // All done.\n",
              "  yield {\n",
              "    response: {\n",
              "      action: 'complete',\n",
              "    }\n",
              "  };\n",
              "}\n",
              "\n",
              "scope.google = scope.google || {};\n",
              "scope.google.colab = scope.google.colab || {};\n",
              "scope.google.colab._files = {\n",
              "  _uploadFiles,\n",
              "  _uploadFilesContinue,\n",
              "};\n",
              "})(self);\n",
              "</script> "
            ],
            "text/plain": [
              "<IPython.core.display.HTML object>"
            ]
          },
          "metadata": {},
          "output_type": "display_data"
        },
        {
          "name": "stdout",
          "output_type": "stream",
          "text": [
            "Saving dataset.zip to dataset.zip\n"
          ]
        }
      ],
      "source": [
        "from google.colab import files\n",
        "uploaded = files.upload()\n"
      ]
    },
    {
      "cell_type": "code",
      "execution_count": null,
      "metadata": {
        "colab": {
          "base_uri": "https://localhost:8080/"
        },
        "id": "XRMg81O2iHk4",
        "outputId": "fef30ee7-84a7-4dc2-f301-651824964187"
      },
      "outputs": [
        {
          "name": "stdout",
          "output_type": "stream",
          "text": [
            "Extraction completed. Files are in: /content/dataset\n"
          ]
        }
      ],
      "source": [
        "import zipfile\n",
        "import os\n",
        "\n",
        "zip_path = \"/content/dataset.zip\"  # Change this to your file name\n",
        "extract_path = \"/content/dataset\"  # Change this if you want a different folder\n",
        "\n",
        "with zipfile.ZipFile(zip_path, 'r') as zip_ref:\n",
        "    zip_ref.extractall(extract_path)\n",
        "\n",
        "print(\"Extraction completed. Files are in:\", extract_path)"
      ]
    },
    {
      "cell_type": "code",
      "execution_count": null,
      "metadata": {
        "id": "4vGUD7syiHZb"
      },
      "outputs": [],
      "source": [
        "import torch\n",
        "import torch.nn as nn\n",
        "import torch.optim as optim\n",
        "from torch.utils.data import Dataset, DataLoader\n",
        "import torchvision.transforms as transforms\n",
        "from PIL import Image\n",
        "import os"
      ]
    },
    {
      "cell_type": "code",
      "execution_count": null,
      "metadata": {
        "id": "3Ulw3S9xiHQX"
      },
      "outputs": [],
      "source": [
        "# Device Configuration\n",
        "device = torch.device(\"cuda\" if torch.cuda.is_available() else \"cpu\")"
      ]
    },
    {
      "cell_type": "code",
      "execution_count": null,
      "metadata": {
        "id": "gjYr8Q00iHCE"
      },
      "outputs": [],
      "source": [
        "class SkinCancerDataset(Dataset):\n",
        "    def __init__(self, root_dir, transform=None):\n",
        "        self.root_dir = root_dir\n",
        "        self.transform = transform\n",
        "        self.image_paths = []\n",
        "        self.labels = []\n",
        "\n",
        "        self.class_names = sorted([d for d in os.listdir(root_dir) if os.path.isdir(os.path.join(root_dir, d))])\n",
        "        self.class_to_idx = {cls_name: i for i, cls_name in enumerate(self.class_names)}\n",
        "\n",
        "        for cls_name in self.class_names:\n",
        "            cls_folder = os.path.join(root_dir, cls_name)\n",
        "            if not os.path.isdir(cls_folder):  # ✅ Skip non-directory files (e.g., .DS_Store)\n",
        "                continue\n",
        "            for img_name in os.listdir(cls_folder):\n",
        "                img_path = os.path.join(cls_folder, img_name)\n",
        "                if img_path.lower().endswith(('.png', '.jpg', '.jpeg')):  # ✅ Ensure it's an image file\n",
        "                    self.image_paths.append(img_path)\n",
        "                    self.labels.append(self.class_to_idx[cls_name])\n",
        "\n",
        "    def __len__(self):\n",
        "        return len(self.image_paths)\n",
        "\n",
        "    def __getitem__(self, idx):\n",
        "        img_path = self.image_paths[idx]\n",
        "        label = self.labels[idx]\n",
        "        image = Image.open(img_path).convert(\"RGB\")  # Convert grayscale images to RGB\n",
        "\n",
        "        if self.transform:\n",
        "            image = self.transform(image)\n",
        "\n",
        "        return image, label"
      ]
    },
    {
      "cell_type": "code",
      "execution_count": null,
      "metadata": {
        "id": "c5tVZbD3lPky"
      },
      "outputs": [],
      "source": [
        "import torchvision.transforms.functional as TF\n",
        "import random"
      ]
    },
    {
      "cell_type": "code",
      "execution_count": null,
      "metadata": {
        "id": "viPTocEalPhK"
      },
      "outputs": [],
      "source": [
        "# Define Custom Transform with Probability for Color Adjustments\n",
        "class RandomColorJitter:\n",
        "    def __init__(self, p=0.4):\n",
        "        self.p = p\n",
        "        self.color_jitter = transforms.ColorJitter(brightness=0.2, contrast=0.2, saturation=0.2, hue=0.1)\n",
        "\n",
        "    def __call__(self, img):\n",
        "        if random.random() < self.p:\n",
        "            img = self.color_jitter(img)\n",
        "        return img"
      ]
    },
    {
      "cell_type": "code",
      "execution_count": null,
      "metadata": {
        "id": "TOrpG0VLlPeP"
      },
      "outputs": [],
      "source": [
        "def pad_to_224(image):\n",
        "    \"\"\"\n",
        "    Pad the image to 224x224 if it's smaller than that.\n",
        "    \"\"\"\n",
        "    width, height = image.size  # Get current image size\n",
        "    if width < 224 or height < 224:\n",
        "        padding_left = (224 - width) // 2\n",
        "        padding_top = (224 - height) // 2\n",
        "        padding_right = 224 - width - padding_left\n",
        "        padding_bottom = 224 - height - padding_top\n",
        "        image = transforms.Pad((padding_left, padding_top, padding_right, padding_bottom))(image)\n",
        "    return image"
      ]
    },
    {
      "cell_type": "code",
      "execution_count": null,
      "metadata": {
        "id": "7pnrUWTDlPbf"
      },
      "outputs": [],
      "source": [
        "train_transform = transforms.Compose([\n",
        "    transforms.Resize((224, 224)),  # Resize images to 224x224\n",
        "    transforms.RandomHorizontalFlip(p=0.5),  # 50% chance of flipping\n",
        "    RandomColorJitter(p=0.4),  # 40% chance of adjusting brightness, contrast, saturation, hue\n",
        "    transforms.Lambda(pad_to_224),\n",
        "    transforms.RandomRotation(30),\n",
        "    transforms.RandomVerticalFlip(p=0.5),\n",
        "    transforms.ToTensor(),\n",
        "    transforms.Normalize(mean=[0.5, 0.5, 0.5], std=[0.5, 0.5, 0.5])\n",
        "])\n",
        "\n",
        "# No augmentation for test data\n",
        "test_transform = transforms.Compose([\n",
        "    transforms.Resize((224, 224)),\n",
        "    transforms.Lambda(pad_to_224),\n",
        "    transforms.ToTensor(),\n",
        "    transforms.Normalize(mean=[0.5, 0.5, 0.5], std=[0.5, 0.5, 0.5])\n",
        "])"
      ]
    },
    {
      "cell_type": "code",
      "execution_count": null,
      "metadata": {
        "id": "i19yDINUlPY4"
      },
      "outputs": [],
      "source": [
        "# Define Paths\n",
        "train_dir = \"/content/dataset/dataset/train\"\n",
        "test_dir = \"/content/dataset/dataset/test\""
      ]
    },
    {
      "cell_type": "code",
      "execution_count": null,
      "metadata": {
        "id": "uc0MuOhblk_f"
      },
      "outputs": [],
      "source": [
        "train_dataset = SkinCancerDataset(root_dir=train_dir, transform=train_transform)\n",
        "test_dataset = SkinCancerDataset(root_dir=test_dir, transform=test_transform)"
      ]
    },
    {
      "cell_type": "code",
      "execution_count": null,
      "metadata": {
        "id": "4GexL8cOlPWO"
      },
      "outputs": [],
      "source": [
        "# Create Data Loaders\n",
        "batch_size = 32\n",
        "train_loader = DataLoader(train_dataset, batch_size=batch_size, shuffle=True, pin_memory=True)\n",
        "test_loader = DataLoader(test_dataset, batch_size=batch_size, shuffle=False, pin_memory=True)"
      ]
    },
    {
      "cell_type": "code",
      "execution_count": null,
      "metadata": {
        "colab": {
          "base_uri": "https://localhost:8080/"
        },
        "id": "lECmrLJblkvF",
        "outputId": "2d577d5e-2670-438d-e060-e07d22709f65"
      },
      "outputs": [
        {
          "name": "stdout",
          "output_type": "stream",
          "text": [
            "Number of classes: 7\n"
          ]
        }
      ],
      "source": [
        "# Get number of classes\n",
        "num_classes = len(train_dataset.class_names)\n",
        "print(f\"Number of classes: {num_classes}\")"
      ]
    },
    {
      "cell_type": "markdown",
      "metadata": {
        "id": "qgWrgjihl_dj"
      },
      "source": [
        "Model"
      ]
    },
    {
      "cell_type": "code",
      "execution_count": null,
      "metadata": {
        "id": "1aeBNyP3lklo"
      },
      "outputs": [],
      "source": [
        "import torch\n",
        "import torch.nn as nn\n",
        "import torch.nn.functional as F\n",
        "torch.cuda.empty_cache()\n",
        "\n",
        "\n",
        "# Selective Kernel Feature Pyramid Module (SKNet)\n",
        "class SKFeaturePyramid(nn.Module):\n",
        "    def __init__(self, in_channels):\n",
        "        super(SKFeaturePyramid, self).__init__()\n",
        "        self.conv1 = nn.Conv2d(in_channels, in_channels, kernel_size=1)\n",
        "        self.conv3 = nn.Conv2d(in_channels, in_channels, kernel_size=3, padding=1)\n",
        "        self.conv5 = nn.Conv2d(in_channels, in_channels, kernel_size=5, padding=2)\n",
        "        self.fc = nn.Linear(in_channels, in_channels)\n",
        "        self.softmax = nn.Softmax(dim=1)\n",
        "\n",
        "    def forward(self, x):\n",
        "        f1 = self.conv1(x)\n",
        "        f2 = self.conv3(x)\n",
        "        f3 = self.conv5(x)\n",
        "\n",
        "        f_sum = f1 + f2 + f3\n",
        "        f_weights = self.softmax(self.fc(f_sum.mean(dim=(2, 3))))\n",
        "\n",
        "        out = f1 * f_weights[:, 0].view(-1, 1, 1, 1) + \\\n",
        "              f2 * f_weights[:, 1].view(-1, 1, 1, 1) + \\\n",
        "              f3 * f_weights[:, 2].view(-1, 1, 1, 1)\n",
        "        return out\n",
        "\n",
        "# Self-Interactive Attention Pyramid (SAP)\n",
        "class SelfInteractiveAttention(nn.Module):\n",
        "    def __init__(self, in_channels):\n",
        "        super(SelfInteractiveAttention, self).__init__()\n",
        "        self.channel_attn = nn.Sequential(\n",
        "            nn.AdaptiveAvgPool2d(1),\n",
        "            nn.Conv2d(in_channels, in_channels, kernel_size=1),\n",
        "            nn.Sigmoid()\n",
        "        )\n",
        "        self.spatial_attn = nn.Conv2d(in_channels, 1, kernel_size=7, padding=3)\n",
        "\n",
        "    def forward(self, x):\n",
        "        ca = self.channel_attn(x) * x  # Channel Attention\n",
        "        sa = torch.sigmoid(self.spatial_attn(x)) * x  # Spatial Attention\n",
        "        out = ca + sa\n",
        "        return out\n",
        "\n",
        "# Higher-Order Interaction Module\n",
        "class HigherOrderInteraction(nn.Module):\n",
        "    def __init__(self, in_channels1, in_channels2, out_channels):\n",
        "        super(HigherOrderInteraction, self).__init__()\n",
        "        self.conv1 = nn.Conv2d(in_channels1, out_channels, kernel_size=1)\n",
        "        self.conv2 = nn.Conv2d(in_channels2, out_channels, kernel_size=1)\n",
        "        self.bilinear_pool = nn.Conv2d(out_channels, out_channels, kernel_size=1)\n",
        "        self.trilinear_pool = nn.Conv2d(out_channels, out_channels, kernel_size=1)\n",
        "\n",
        "    def forward(self, x1, x2):\n",
        "\n",
        "        x1 = self.conv1(x1)\n",
        "        x2 = self.conv2(x2)\n",
        "\n",
        "        # Match spatial sizes\n",
        "        if x1.shape[2:] != x2.shape[2:]:\n",
        "            x2 = F.interpolate(x2, size=x1.shape[2:], mode='bilinear', align_corners=False)\n",
        "\n",
        "        out = self.bilinear_pool(x1 * x2) + self.trilinear_pool(x1 + x2)\n",
        "        return out\n",
        "\n",
        "# SPCB-Net (VGG16 Backbone)\n",
        "class SPCBNet(nn.Module):\n",
        "    def __init__(self, num_classes):\n",
        "        super(SPCBNet, self).__init__()\n",
        "        self.features = nn.Sequential(\n",
        "            nn.Conv2d(3, 64, kernel_size=3, padding=1), nn.ReLU(inplace=True),\n",
        "            nn.Conv2d(64, 64, kernel_size=3, padding=1), nn.BatchNorm2d(64), nn.ReLU(inplace=True),\n",
        "            nn.MaxPool2d(kernel_size=2, stride=2),  # Output: (64, 112, 112)\n",
        "\n",
        "            nn.Conv2d(64, 128, kernel_size=3, padding=1), nn.ReLU(inplace=True),\n",
        "            nn.Conv2d(128, 128, kernel_size=3, padding=1), nn.BatchNorm2d(128), nn.ReLU(inplace=True),\n",
        "            nn.MaxPool2d(kernel_size=2, stride=2),  # Output: (128, 56, 56)\n",
        "\n",
        "            nn.Conv2d(128, 256, kernel_size=3, padding=1), nn.ReLU(inplace=True),\n",
        "            nn.Conv2d(256, 256, kernel_size=3, padding=1), nn.BatchNorm2d(256), nn.ReLU(inplace=True),\n",
        "            nn.Conv2d(256, 256, kernel_size=3, padding=1), nn.BatchNorm2d(256), nn.ReLU(inplace=True),\n",
        "            nn.MaxPool2d(kernel_size=2, stride=2),  # Output: (256, 28, 28)\n",
        "\n",
        "            nn.Conv2d(256, 512, kernel_size=3, padding=1), nn.ReLU(inplace=True),\n",
        "            nn.Conv2d(512, 512, kernel_size=3, padding=1),nn.BatchNorm2d(512), nn.ReLU(inplace=True),\n",
        "            nn.Conv2d(512, 512, kernel_size=3, padding=1),nn.BatchNorm2d(512), nn.ReLU(inplace=True),\n",
        "            nn.MaxPool2d(kernel_size=2, stride=2)  # Output: (512, 14, 14)\n",
        "        )\n",
        "\n",
        "        self.sk_block1 = SKFeaturePyramid(64)\n",
        "        self.sk_block2 = SKFeaturePyramid(128)\n",
        "        self.sk_block3 = SKFeaturePyramid(256)\n",
        "        self.sk_block4 = SKFeaturePyramid(512)\n",
        "\n",
        "        self.attention1 = SelfInteractiveAttention(64)\n",
        "        self.attention2 = SelfInteractiveAttention(128)\n",
        "        self.attention3 = SelfInteractiveAttention(256)\n",
        "        self.attention4 = SelfInteractiveAttention(512)\n",
        "\n",
        "        self.higher_order1 = HigherOrderInteraction(64, 128, 128)\n",
        "        self.higher_order2 = HigherOrderInteraction(256, 512, 512)\n",
        "\n",
        "        self.global_avg = nn.AdaptiveAvgPool2d(1)\n",
        "        self.fc1 = nn.Linear(512, num_classes)\n",
        "\n",
        "    def forward(self, x):\n",
        "        x1 = self.features[:4](x)   # B1 (64, 112, 112)\n",
        "        x2 = self.features[4:9](x1) # B2 (128, 56, 56)\n",
        "        x3 = self.features[9:16](x2)# B3 (256, 28, 28)\n",
        "        x4 = self.features[16:](x3) # B4 (512, 14, 14)\n",
        "\n",
        "        f1 = self.sk_block1(x1)\n",
        "        f2 = self.sk_block2(x2)\n",
        "        f3 = self.sk_block3(x3)\n",
        "        f4 = self.sk_block4(x4)\n",
        "\n",
        "        a1 = self.attention1(f1)\n",
        "        a2 = self.attention2(f2)\n",
        "        a3 = self.attention3(f3)\n",
        "        a4 = self.attention4(f4)\n",
        "\n",
        "        # Higher-Order Interaction\n",
        "        ho1 = self.higher_order1(a1, a2)  # (2, 128, 224, 224)\n",
        "        ho2 = self.higher_order2(a3, a4)  # (2, 512, 56, 56)\n",
        "\n",
        "        # Resize ho1 spatially to match ho2\n",
        "        ho1_resized = F.interpolate(ho1, size=ho2.shape[2:], mode='bilinear', align_corners=False)  # (2, 128, 56, 56)\n",
        "\n",
        "        # Use 1x1 convolution to match channel size\n",
        "        conv1x1 = nn.Conv2d(128, 512, kernel_size=1, stride=1, bias=False).to(ho1.device)\n",
        "        ho1_resized = conv1x1(ho1_resized)  # (2, 512, 56, 56)\n",
        "\n",
        "        # Global Average Pooling\n",
        "        out = self.global_avg(ho1_resized + ho2).view(x.size(0), -1)\n",
        "        out = self.fc1(out)\n",
        "\n",
        "\n",
        "\n",
        "        return out\n",
        "\n",
        "# Test Run\n",
        "model = SPCBNet(num_classes=7)\n",
        "x = torch.randn(2, 3, 224, 224)\n",
        "output = model(x)"
      ]
    },
    {
      "cell_type": "markdown",
      "metadata": {
        "id": "9oDw34p1mHZO"
      },
      "source": [
        "Training"
      ]
    },
    {
      "cell_type": "code",
      "execution_count": null,
      "metadata": {
        "id": "MDgm90IRmDV_"
      },
      "outputs": [],
      "source": [
        "from tqdm import tqdm\n",
        "import torch\n",
        "\n",
        "def train_model(model, train_loader, criterion, optimizer, num_epochs=10):\n",
        "    model.to(device)\n",
        "    criterion = nn.CrossEntropyLoss()\n",
        "    optimizer = optim.Adam(model.parameters(), lr=0.0001)\n",
        "    scaler = torch.cuda.amp.GradScaler()  # ✅ Mixed Precision Training\n",
        "    for epoch in range(num_epochs):\n",
        "        total_loss = 0.0\n",
        "        correct = 0\n",
        "        total = 0\n",
        "\n",
        "        progress_bar = tqdm(train_loader, desc=f\"Epoch {epoch+1}/{num_epochs}\", leave=True)\n",
        "\n",
        "        for images, labels in progress_bar:\n",
        "            images, labels = images.to(device), labels.to(device)\n",
        "            with torch.cuda.amp.autocast():\n",
        "                outputs = model(images)\n",
        "                loss = criterion(outputs, labels)\n",
        "\n",
        "            scaler.scale(loss).backward()  # ✅ Use GradScaler\n",
        "            scaler.step(optimizer)\n",
        "            scaler.update()\n",
        "            optimizer.zero_grad()\n",
        "\n",
        "\n",
        "            total_loss += loss.item()\n",
        "            _, predicted = torch.max(outputs, 1)\n",
        "            total += labels.size(0)\n",
        "            correct += (predicted == labels).sum().item()\n",
        "\n",
        "            # Update tqdm progress bar\n",
        "            progress_bar.set_postfix(loss=total_loss / total, accuracy=100 * correct / total)\n",
        "\n",
        "        accuracy = 100 * correct / total\n",
        "        print(f\"Epoch [{epoch+1}/{num_epochs}], Loss: {total_loss:.4f}, Accuracy: {accuracy:.2f}%\")\n"
      ]
    },
    {
      "cell_type": "code",
      "execution_count": null,
      "metadata": {
        "id": "rGmtNlA3mMQh"
      },
      "outputs": [],
      "source": [
        "criterion = nn.CrossEntropyLoss()\n",
        "optimizer = torch.optim.Adam(model.parameters(), lr=1e-4)  # Reduce LR\n",
        "scheduler = torch.optim.lr_scheduler.CosineAnnealingLR(optimizer, T_max=10)\n"
      ]
    },
    {
      "cell_type": "code",
      "execution_count": null,
      "metadata": {
        "colab": {
          "base_uri": "https://localhost:8080/"
        },
        "id": "iRXu37yjmDMF",
        "outputId": "5b29e75f-0e8c-429b-9ae3-f10657ce4a17"
      },
      "outputs": [
        {
          "name": "stderr",
          "output_type": "stream",
          "text": [
            "<ipython-input-36-be5b0441edac>:8: FutureWarning: `torch.cuda.amp.GradScaler(args...)` is deprecated. Please use `torch.amp.GradScaler('cuda', args...)` instead.\n",
            "  scaler = torch.cuda.amp.GradScaler()  # ✅ Mixed Precision Training\n"
          ]
        },
        {
          "name": "stdout",
          "output_type": "stream",
          "text": [
            "Fold 1:\n",
            "Training on Fold 1...\n"
          ]
        },
        {
          "name": "stderr",
          "output_type": "stream",
          "text": [
            "Epoch 1/50:   0%|          | 0/254 [00:00<?, ?it/s]<ipython-input-36-be5b0441edac>:18: FutureWarning: `torch.cuda.amp.autocast(args...)` is deprecated. Please use `torch.amp.autocast('cuda', args...)` instead.\n",
            "  with torch.cuda.amp.autocast():\n",
            "Epoch 1/50: 100%|██████████| 254/254 [01:21<00:00,  3.12it/s, accuracy=66.6, loss=0.031]\n"
          ]
        },
        {
          "name": "stdout",
          "output_type": "stream",
          "text": [
            "Epoch [1/50], Loss: 251.2646, Accuracy: 66.64%\n"
          ]
        },
        {
          "name": "stderr",
          "output_type": "stream",
          "text": [
            "Epoch 2/50: 100%|██████████| 254/254 [01:21<00:00,  3.13it/s, accuracy=67.9, loss=0.0284]\n"
          ]
        },
        {
          "name": "stdout",
          "output_type": "stream",
          "text": [
            "Epoch [2/50], Loss: 230.7252, Accuracy: 67.88%\n"
          ]
        },
        {
          "name": "stderr",
          "output_type": "stream",
          "text": [
            "Epoch 3/50: 100%|██████████| 254/254 [01:20<00:00,  3.15it/s, accuracy=68.9, loss=0.0273]\n"
          ]
        },
        {
          "name": "stdout",
          "output_type": "stream",
          "text": [
            "Epoch [3/50], Loss: 221.0871, Accuracy: 68.93%\n"
          ]
        },
        {
          "name": "stderr",
          "output_type": "stream",
          "text": [
            "Epoch 4/50: 100%|██████████| 254/254 [01:20<00:00,  3.14it/s, accuracy=69.5, loss=0.0265]\n"
          ]
        },
        {
          "name": "stdout",
          "output_type": "stream",
          "text": [
            "Epoch [4/50], Loss: 215.1118, Accuracy: 69.55%\n"
          ]
        },
        {
          "name": "stderr",
          "output_type": "stream",
          "text": [
            "Epoch 5/50: 100%|██████████| 254/254 [01:20<00:00,  3.14it/s, accuracy=69.9, loss=0.0262]\n"
          ]
        },
        {
          "name": "stdout",
          "output_type": "stream",
          "text": [
            "Epoch [5/50], Loss: 212.5193, Accuracy: 69.88%\n"
          ]
        },
        {
          "name": "stderr",
          "output_type": "stream",
          "text": [
            "Epoch 6/50: 100%|██████████| 254/254 [01:20<00:00,  3.15it/s, accuracy=70.2, loss=0.0256]\n"
          ]
        },
        {
          "name": "stdout",
          "output_type": "stream",
          "text": [
            "Epoch [6/50], Loss: 207.6099, Accuracy: 70.20%\n"
          ]
        },
        {
          "name": "stderr",
          "output_type": "stream",
          "text": [
            "Epoch 7/50: 100%|██████████| 254/254 [01:20<00:00,  3.15it/s, accuracy=70.6, loss=0.0254]\n"
          ]
        },
        {
          "name": "stdout",
          "output_type": "stream",
          "text": [
            "Epoch [7/50], Loss: 206.3017, Accuracy: 70.62%\n"
          ]
        },
        {
          "name": "stderr",
          "output_type": "stream",
          "text": [
            "Epoch 8/50: 100%|██████████| 254/254 [01:21<00:00,  3.12it/s, accuracy=70.8, loss=0.0251]\n"
          ]
        },
        {
          "name": "stdout",
          "output_type": "stream",
          "text": [
            "Epoch [8/50], Loss: 203.5376, Accuracy: 70.82%\n"
          ]
        },
        {
          "name": "stderr",
          "output_type": "stream",
          "text": [
            "Epoch 9/50: 100%|██████████| 254/254 [01:20<00:00,  3.15it/s, accuracy=71, loss=0.025]\n"
          ]
        },
        {
          "name": "stdout",
          "output_type": "stream",
          "text": [
            "Epoch [9/50], Loss: 202.9414, Accuracy: 70.99%\n"
          ]
        },
        {
          "name": "stderr",
          "output_type": "stream",
          "text": [
            "Epoch 10/50: 100%|██████████| 254/254 [01:21<00:00,  3.12it/s, accuracy=71.3, loss=0.0248]\n"
          ]
        },
        {
          "name": "stdout",
          "output_type": "stream",
          "text": [
            "Epoch [10/50], Loss: 201.3721, Accuracy: 71.31%\n"
          ]
        },
        {
          "name": "stderr",
          "output_type": "stream",
          "text": [
            "Epoch 11/50: 100%|██████████| 254/254 [01:20<00:00,  3.15it/s, accuracy=71.6, loss=0.0248]\n"
          ]
        },
        {
          "name": "stdout",
          "output_type": "stream",
          "text": [
            "Epoch [11/50], Loss: 200.7748, Accuracy: 71.56%\n"
          ]
        },
        {
          "name": "stderr",
          "output_type": "stream",
          "text": [
            "Epoch 12/50: 100%|██████████| 254/254 [01:20<00:00,  3.15it/s, accuracy=71.5, loss=0.0243]\n"
          ]
        },
        {
          "name": "stdout",
          "output_type": "stream",
          "text": [
            "Epoch [12/50], Loss: 197.2957, Accuracy: 71.46%\n"
          ]
        },
        {
          "name": "stderr",
          "output_type": "stream",
          "text": [
            "Epoch 13/50: 100%|██████████| 254/254 [01:21<00:00,  3.14it/s, accuracy=72, loss=0.0241]\n"
          ]
        },
        {
          "name": "stdout",
          "output_type": "stream",
          "text": [
            "Epoch [13/50], Loss: 195.6664, Accuracy: 72.00%\n"
          ]
        },
        {
          "name": "stderr",
          "output_type": "stream",
          "text": [
            "Epoch 14/50: 100%|██████████| 254/254 [01:21<00:00,  3.13it/s, accuracy=72.5, loss=0.0239]\n"
          ]
        },
        {
          "name": "stdout",
          "output_type": "stream",
          "text": [
            "Epoch [14/50], Loss: 193.7184, Accuracy: 72.51%\n"
          ]
        },
        {
          "name": "stderr",
          "output_type": "stream",
          "text": [
            "Epoch 15/50: 100%|██████████| 254/254 [01:20<00:00,  3.15it/s, accuracy=71.9, loss=0.0239]\n"
          ]
        },
        {
          "name": "stdout",
          "output_type": "stream",
          "text": [
            "Epoch [15/50], Loss: 193.5864, Accuracy: 71.89%\n"
          ]
        },
        {
          "name": "stderr",
          "output_type": "stream",
          "text": [
            "Epoch 16/50: 100%|██████████| 254/254 [01:20<00:00,  3.15it/s, accuracy=72.5, loss=0.0238]\n"
          ]
        },
        {
          "name": "stdout",
          "output_type": "stream",
          "text": [
            "Epoch [16/50], Loss: 192.8132, Accuracy: 72.52%\n"
          ]
        },
        {
          "name": "stderr",
          "output_type": "stream",
          "text": [
            "Epoch 17/50: 100%|██████████| 254/254 [01:20<00:00,  3.15it/s, accuracy=72.9, loss=0.0235]\n"
          ]
        },
        {
          "name": "stdout",
          "output_type": "stream",
          "text": [
            "Epoch [17/50], Loss: 190.9492, Accuracy: 72.89%\n"
          ]
        },
        {
          "name": "stderr",
          "output_type": "stream",
          "text": [
            "Epoch 18/50: 100%|██████████| 254/254 [01:21<00:00,  3.12it/s, accuracy=72.1, loss=0.0238]\n"
          ]
        },
        {
          "name": "stdout",
          "output_type": "stream",
          "text": [
            "Epoch [18/50], Loss: 192.8275, Accuracy: 72.14%\n"
          ]
        },
        {
          "name": "stderr",
          "output_type": "stream",
          "text": [
            "Epoch 19/50: 100%|██████████| 254/254 [01:20<00:00,  3.14it/s, accuracy=72.8, loss=0.0231]\n"
          ]
        },
        {
          "name": "stdout",
          "output_type": "stream",
          "text": [
            "Epoch [19/50], Loss: 187.0713, Accuracy: 72.75%\n"
          ]
        },
        {
          "name": "stderr",
          "output_type": "stream",
          "text": [
            "Epoch 20/50: 100%|██████████| 254/254 [01:21<00:00,  3.13it/s, accuracy=72.7, loss=0.0231]\n"
          ]
        },
        {
          "name": "stdout",
          "output_type": "stream",
          "text": [
            "Epoch [20/50], Loss: 187.5436, Accuracy: 72.73%\n"
          ]
        },
        {
          "name": "stderr",
          "output_type": "stream",
          "text": [
            "Epoch 21/50: 100%|██████████| 254/254 [01:21<00:00,  3.13it/s, accuracy=72.6, loss=0.0233]\n"
          ]
        },
        {
          "name": "stdout",
          "output_type": "stream",
          "text": [
            "Epoch [21/50], Loss: 189.1567, Accuracy: 72.64%\n"
          ]
        },
        {
          "name": "stderr",
          "output_type": "stream",
          "text": [
            "Epoch 22/50: 100%|██████████| 254/254 [01:20<00:00,  3.15it/s, accuracy=73.5, loss=0.0229]\n"
          ]
        },
        {
          "name": "stdout",
          "output_type": "stream",
          "text": [
            "Epoch [22/50], Loss: 186.0794, Accuracy: 73.48%\n"
          ]
        },
        {
          "name": "stderr",
          "output_type": "stream",
          "text": [
            "Epoch 23/50: 100%|██████████| 254/254 [01:21<00:00,  3.10it/s, accuracy=73.7, loss=0.0228]\n"
          ]
        },
        {
          "name": "stdout",
          "output_type": "stream",
          "text": [
            "Epoch [23/50], Loss: 184.7358, Accuracy: 73.67%\n"
          ]
        },
        {
          "name": "stderr",
          "output_type": "stream",
          "text": [
            "Epoch 24/50: 100%|██████████| 254/254 [01:21<00:00,  3.12it/s, accuracy=73.1, loss=0.0227]\n"
          ]
        },
        {
          "name": "stdout",
          "output_type": "stream",
          "text": [
            "Epoch [24/50], Loss: 184.0153, Accuracy: 73.06%\n"
          ]
        },
        {
          "name": "stderr",
          "output_type": "stream",
          "text": [
            "Epoch 25/50: 100%|██████████| 254/254 [01:21<00:00,  3.13it/s, accuracy=73.5, loss=0.0225]\n"
          ]
        },
        {
          "name": "stdout",
          "output_type": "stream",
          "text": [
            "Epoch [25/50], Loss: 182.5987, Accuracy: 73.51%\n"
          ]
        },
        {
          "name": "stderr",
          "output_type": "stream",
          "text": [
            "Epoch 26/50: 100%|██████████| 254/254 [01:20<00:00,  3.14it/s, accuracy=73.5, loss=0.0225]\n"
          ]
        },
        {
          "name": "stdout",
          "output_type": "stream",
          "text": [
            "Epoch [26/50], Loss: 182.4236, Accuracy: 73.48%\n"
          ]
        },
        {
          "name": "stderr",
          "output_type": "stream",
          "text": [
            "Epoch 27/50: 100%|██████████| 254/254 [01:21<00:00,  3.13it/s, accuracy=73.8, loss=0.0224]\n"
          ]
        },
        {
          "name": "stdout",
          "output_type": "stream",
          "text": [
            "Epoch [27/50], Loss: 181.9871, Accuracy: 73.79%\n"
          ]
        },
        {
          "name": "stderr",
          "output_type": "stream",
          "text": [
            "Epoch 28/50: 100%|██████████| 254/254 [01:21<00:00,  3.13it/s, accuracy=74.2, loss=0.0221]\n"
          ]
        },
        {
          "name": "stdout",
          "output_type": "stream",
          "text": [
            "Epoch [28/50], Loss: 179.0340, Accuracy: 74.20%\n"
          ]
        },
        {
          "name": "stderr",
          "output_type": "stream",
          "text": [
            "Epoch 29/50: 100%|██████████| 254/254 [01:20<00:00,  3.14it/s, accuracy=73.4, loss=0.0222]\n"
          ]
        },
        {
          "name": "stdout",
          "output_type": "stream",
          "text": [
            "Epoch [29/50], Loss: 180.4449, Accuracy: 73.44%\n"
          ]
        },
        {
          "name": "stderr",
          "output_type": "stream",
          "text": [
            "Epoch 30/50: 100%|██████████| 254/254 [01:21<00:00,  3.11it/s, accuracy=74.4, loss=0.0219]\n"
          ]
        },
        {
          "name": "stdout",
          "output_type": "stream",
          "text": [
            "Epoch [30/50], Loss: 177.7269, Accuracy: 74.37%\n"
          ]
        },
        {
          "name": "stderr",
          "output_type": "stream",
          "text": [
            "Epoch 31/50: 100%|██████████| 254/254 [01:21<00:00,  3.12it/s, accuracy=74.9, loss=0.0216]\n"
          ]
        },
        {
          "name": "stdout",
          "output_type": "stream",
          "text": [
            "Epoch [31/50], Loss: 175.2976, Accuracy: 74.87%\n"
          ]
        },
        {
          "name": "stderr",
          "output_type": "stream",
          "text": [
            "Epoch 32/50: 100%|██████████| 254/254 [01:20<00:00,  3.14it/s, accuracy=74.9, loss=0.0218]\n"
          ]
        },
        {
          "name": "stdout",
          "output_type": "stream",
          "text": [
            "Epoch [32/50], Loss: 177.0741, Accuracy: 74.87%\n"
          ]
        },
        {
          "name": "stderr",
          "output_type": "stream",
          "text": [
            "Epoch 33/50: 100%|██████████| 254/254 [01:20<00:00,  3.15it/s, accuracy=74.5, loss=0.0216]\n"
          ]
        },
        {
          "name": "stdout",
          "output_type": "stream",
          "text": [
            "Epoch [33/50], Loss: 175.4222, Accuracy: 74.54%\n"
          ]
        },
        {
          "name": "stderr",
          "output_type": "stream",
          "text": [
            "Epoch 34/50: 100%|██████████| 254/254 [01:20<00:00,  3.14it/s, accuracy=75.6, loss=0.0212]\n"
          ]
        },
        {
          "name": "stdout",
          "output_type": "stream",
          "text": [
            "Epoch [34/50], Loss: 171.7658, Accuracy: 75.63%\n"
          ]
        },
        {
          "name": "stderr",
          "output_type": "stream",
          "text": [
            "Epoch 35/50: 100%|██████████| 254/254 [01:21<00:00,  3.12it/s, accuracy=74.9, loss=0.0217]\n"
          ]
        },
        {
          "name": "stdout",
          "output_type": "stream",
          "text": [
            "Epoch [35/50], Loss: 175.6824, Accuracy: 74.91%\n"
          ]
        },
        {
          "name": "stderr",
          "output_type": "stream",
          "text": [
            "Epoch 36/50: 100%|██████████| 254/254 [01:20<00:00,  3.15it/s, accuracy=75.2, loss=0.0214]\n"
          ]
        },
        {
          "name": "stdout",
          "output_type": "stream",
          "text": [
            "Epoch [36/50], Loss: 173.7066, Accuracy: 75.16%\n"
          ]
        },
        {
          "name": "stderr",
          "output_type": "stream",
          "text": [
            "Epoch 37/50: 100%|██████████| 254/254 [01:21<00:00,  3.12it/s, accuracy=75, loss=0.0214]\n"
          ]
        },
        {
          "name": "stdout",
          "output_type": "stream",
          "text": [
            "Epoch [37/50], Loss: 173.7458, Accuracy: 74.97%\n"
          ]
        },
        {
          "name": "stderr",
          "output_type": "stream",
          "text": [
            "Epoch 38/50: 100%|██████████| 254/254 [01:21<00:00,  3.13it/s, accuracy=75, loss=0.0214]\n"
          ]
        },
        {
          "name": "stdout",
          "output_type": "stream",
          "text": [
            "Epoch [38/50], Loss: 173.1901, Accuracy: 75.00%\n"
          ]
        },
        {
          "name": "stderr",
          "output_type": "stream",
          "text": [
            "Epoch 39/50: 100%|██████████| 254/254 [01:20<00:00,  3.15it/s, accuracy=75.8, loss=0.0209]\n"
          ]
        },
        {
          "name": "stdout",
          "output_type": "stream",
          "text": [
            "Epoch [39/50], Loss: 169.6524, Accuracy: 75.81%\n"
          ]
        },
        {
          "name": "stderr",
          "output_type": "stream",
          "text": [
            "Epoch 40/50: 100%|██████████| 254/254 [01:21<00:00,  3.13it/s, accuracy=75.6, loss=0.0211]\n"
          ]
        },
        {
          "name": "stdout",
          "output_type": "stream",
          "text": [
            "Epoch [40/50], Loss: 171.0170, Accuracy: 75.55%\n"
          ]
        },
        {
          "name": "stderr",
          "output_type": "stream",
          "text": [
            "Epoch 41/50: 100%|██████████| 254/254 [01:21<00:00,  3.11it/s, accuracy=75.4, loss=0.0208]\n"
          ]
        },
        {
          "name": "stdout",
          "output_type": "stream",
          "text": [
            "Epoch [41/50], Loss: 169.0968, Accuracy: 75.39%\n"
          ]
        },
        {
          "name": "stderr",
          "output_type": "stream",
          "text": [
            "Epoch 42/50: 100%|██████████| 254/254 [01:20<00:00,  3.15it/s, accuracy=75.3, loss=0.0208]\n"
          ]
        },
        {
          "name": "stdout",
          "output_type": "stream",
          "text": [
            "Epoch [42/50], Loss: 168.4443, Accuracy: 75.27%\n"
          ]
        },
        {
          "name": "stderr",
          "output_type": "stream",
          "text": [
            "Epoch 43/50: 100%|██████████| 254/254 [01:20<00:00,  3.15it/s, accuracy=75.2, loss=0.0208]\n"
          ]
        },
        {
          "name": "stdout",
          "output_type": "stream",
          "text": [
            "Epoch [43/50], Loss: 168.6271, Accuracy: 75.16%\n"
          ]
        },
        {
          "name": "stderr",
          "output_type": "stream",
          "text": [
            "Epoch 44/50: 100%|██████████| 254/254 [01:21<00:00,  3.12it/s, accuracy=75.8, loss=0.0203]\n"
          ]
        },
        {
          "name": "stdout",
          "output_type": "stream",
          "text": [
            "Epoch [44/50], Loss: 164.8924, Accuracy: 75.81%\n"
          ]
        },
        {
          "name": "stderr",
          "output_type": "stream",
          "text": [
            "Epoch 45/50: 100%|██████████| 254/254 [01:20<00:00,  3.14it/s, accuracy=76.2, loss=0.0206]\n"
          ]
        },
        {
          "name": "stdout",
          "output_type": "stream",
          "text": [
            "Epoch [45/50], Loss: 166.8809, Accuracy: 76.19%\n"
          ]
        },
        {
          "name": "stderr",
          "output_type": "stream",
          "text": [
            "Epoch 46/50: 100%|██████████| 254/254 [01:20<00:00,  3.14it/s, accuracy=75.8, loss=0.0206]\n"
          ]
        },
        {
          "name": "stdout",
          "output_type": "stream",
          "text": [
            "Epoch [46/50], Loss: 167.4318, Accuracy: 75.85%\n"
          ]
        },
        {
          "name": "stderr",
          "output_type": "stream",
          "text": [
            "Epoch 47/50: 100%|██████████| 254/254 [01:21<00:00,  3.12it/s, accuracy=75.5, loss=0.0207]\n"
          ]
        },
        {
          "name": "stdout",
          "output_type": "stream",
          "text": [
            "Epoch [47/50], Loss: 167.9041, Accuracy: 75.54%\n"
          ]
        },
        {
          "name": "stderr",
          "output_type": "stream",
          "text": [
            "Epoch 48/50: 100%|██████████| 254/254 [01:20<00:00,  3.14it/s, accuracy=76.3, loss=0.0202]\n"
          ]
        },
        {
          "name": "stdout",
          "output_type": "stream",
          "text": [
            "Epoch [48/50], Loss: 164.2185, Accuracy: 76.34%\n"
          ]
        },
        {
          "name": "stderr",
          "output_type": "stream",
          "text": [
            "Epoch 49/50: 100%|██████████| 254/254 [01:21<00:00,  3.13it/s, accuracy=76.3, loss=0.0204]\n"
          ]
        },
        {
          "name": "stdout",
          "output_type": "stream",
          "text": [
            "Epoch [49/50], Loss: 165.5717, Accuracy: 76.28%\n"
          ]
        },
        {
          "name": "stderr",
          "output_type": "stream",
          "text": [
            "Epoch 50/50: 100%|██████████| 254/254 [01:21<00:00,  3.12it/s, accuracy=76.3, loss=0.0202]\n"
          ]
        },
        {
          "name": "stdout",
          "output_type": "stream",
          "text": [
            "Epoch [50/50], Loss: 164.2238, Accuracy: 76.27%\n",
            "Fold 2:\n",
            "Training on Fold 2...\n"
          ]
        },
        {
          "name": "stderr",
          "output_type": "stream",
          "text": [
            "Epoch 1/50: 100%|██████████| 254/254 [01:21<00:00,  3.13it/s, accuracy=76, loss=0.0203]\n"
          ]
        },
        {
          "name": "stdout",
          "output_type": "stream",
          "text": [
            "Epoch [1/50], Loss: 164.3007, Accuracy: 76.04%\n"
          ]
        },
        {
          "name": "stderr",
          "output_type": "stream",
          "text": [
            "Epoch 2/50: 100%|██████████| 254/254 [01:21<00:00,  3.13it/s, accuracy=77, loss=0.0198]\n"
          ]
        },
        {
          "name": "stdout",
          "output_type": "stream",
          "text": [
            "Epoch [2/50], Loss: 160.6060, Accuracy: 77.03%\n"
          ]
        },
        {
          "name": "stderr",
          "output_type": "stream",
          "text": [
            "Epoch 3/50: 100%|██████████| 254/254 [01:21<00:00,  3.14it/s, accuracy=76.9, loss=0.0197]\n"
          ]
        },
        {
          "name": "stdout",
          "output_type": "stream",
          "text": [
            "Epoch [3/50], Loss: 159.8870, Accuracy: 76.94%\n"
          ]
        },
        {
          "name": "stderr",
          "output_type": "stream",
          "text": [
            "Epoch 4/50: 100%|██████████| 254/254 [01:20<00:00,  3.14it/s, accuracy=76.8, loss=0.0198]\n"
          ]
        },
        {
          "name": "stdout",
          "output_type": "stream",
          "text": [
            "Epoch [4/50], Loss: 160.4901, Accuracy: 76.81%\n"
          ]
        },
        {
          "name": "stderr",
          "output_type": "stream",
          "text": [
            "Epoch 5/50: 100%|██████████| 254/254 [01:20<00:00,  3.16it/s, accuracy=76.6, loss=0.0196]\n"
          ]
        },
        {
          "name": "stdout",
          "output_type": "stream",
          "text": [
            "Epoch [5/50], Loss: 159.0551, Accuracy: 76.60%\n"
          ]
        },
        {
          "name": "stderr",
          "output_type": "stream",
          "text": [
            "Epoch 6/50: 100%|██████████| 254/254 [01:21<00:00,  3.13it/s, accuracy=77.6, loss=0.0195]\n"
          ]
        },
        {
          "name": "stdout",
          "output_type": "stream",
          "text": [
            "Epoch [6/50], Loss: 157.8635, Accuracy: 77.57%\n"
          ]
        },
        {
          "name": "stderr",
          "output_type": "stream",
          "text": [
            "Epoch 7/50: 100%|██████████| 254/254 [01:21<00:00,  3.12it/s, accuracy=77.3, loss=0.0194]\n"
          ]
        },
        {
          "name": "stdout",
          "output_type": "stream",
          "text": [
            "Epoch [7/50], Loss: 157.5131, Accuracy: 77.31%\n"
          ]
        },
        {
          "name": "stderr",
          "output_type": "stream",
          "text": [
            "Epoch 8/50: 100%|██████████| 254/254 [01:21<00:00,  3.12it/s, accuracy=78, loss=0.019]\n"
          ]
        },
        {
          "name": "stdout",
          "output_type": "stream",
          "text": [
            "Epoch [8/50], Loss: 154.2200, Accuracy: 77.99%\n"
          ]
        },
        {
          "name": "stderr",
          "output_type": "stream",
          "text": [
            "Epoch 9/50: 100%|██████████| 254/254 [01:21<00:00,  3.13it/s, accuracy=76.9, loss=0.0195]\n"
          ]
        },
        {
          "name": "stdout",
          "output_type": "stream",
          "text": [
            "Epoch [9/50], Loss: 158.4390, Accuracy: 76.91%\n"
          ]
        },
        {
          "name": "stderr",
          "output_type": "stream",
          "text": [
            "Epoch 10/50: 100%|██████████| 254/254 [01:21<00:00,  3.12it/s, accuracy=77.3, loss=0.0194]\n"
          ]
        },
        {
          "name": "stdout",
          "output_type": "stream",
          "text": [
            "Epoch [10/50], Loss: 157.6121, Accuracy: 77.28%\n"
          ]
        },
        {
          "name": "stderr",
          "output_type": "stream",
          "text": [
            "Epoch 11/50: 100%|██████████| 254/254 [01:21<00:00,  3.13it/s, accuracy=77.8, loss=0.0191]\n"
          ]
        },
        {
          "name": "stdout",
          "output_type": "stream",
          "text": [
            "Epoch [11/50], Loss: 154.7097, Accuracy: 77.83%\n"
          ]
        },
        {
          "name": "stderr",
          "output_type": "stream",
          "text": [
            "Epoch 12/50: 100%|██████████| 254/254 [01:21<00:00,  3.13it/s, accuracy=77.5, loss=0.0195]\n"
          ]
        },
        {
          "name": "stdout",
          "output_type": "stream",
          "text": [
            "Epoch [12/50], Loss: 157.8307, Accuracy: 77.48%\n"
          ]
        },
        {
          "name": "stderr",
          "output_type": "stream",
          "text": [
            "Epoch 13/50: 100%|██████████| 254/254 [01:21<00:00,  3.12it/s, accuracy=77.7, loss=0.0191]\n"
          ]
        },
        {
          "name": "stdout",
          "output_type": "stream",
          "text": [
            "Epoch [13/50], Loss: 155.1842, Accuracy: 77.72%\n"
          ]
        },
        {
          "name": "stderr",
          "output_type": "stream",
          "text": [
            "Epoch 14/50: 100%|██████████| 254/254 [01:21<00:00,  3.13it/s, accuracy=76.9, loss=0.0192]\n"
          ]
        },
        {
          "name": "stdout",
          "output_type": "stream",
          "text": [
            "Epoch [14/50], Loss: 156.1307, Accuracy: 76.91%\n"
          ]
        },
        {
          "name": "stderr",
          "output_type": "stream",
          "text": [
            "Epoch 15/50: 100%|██████████| 254/254 [01:20<00:00,  3.15it/s, accuracy=77.7, loss=0.0189]\n"
          ]
        },
        {
          "name": "stdout",
          "output_type": "stream",
          "text": [
            "Epoch [15/50], Loss: 153.2719, Accuracy: 77.72%\n"
          ]
        },
        {
          "name": "stderr",
          "output_type": "stream",
          "text": [
            "Epoch 16/50: 100%|██████████| 254/254 [01:21<00:00,  3.12it/s, accuracy=77.9, loss=0.019]\n"
          ]
        },
        {
          "name": "stdout",
          "output_type": "stream",
          "text": [
            "Epoch [16/50], Loss: 153.7104, Accuracy: 77.86%\n"
          ]
        },
        {
          "name": "stderr",
          "output_type": "stream",
          "text": [
            "Epoch 17/50: 100%|██████████| 254/254 [01:21<00:00,  3.12it/s, accuracy=78.2, loss=0.0188]\n"
          ]
        },
        {
          "name": "stdout",
          "output_type": "stream",
          "text": [
            "Epoch [17/50], Loss: 152.5359, Accuracy: 78.17%\n"
          ]
        },
        {
          "name": "stderr",
          "output_type": "stream",
          "text": [
            "Epoch 18/50: 100%|██████████| 254/254 [01:21<00:00,  3.13it/s, accuracy=78.4, loss=0.0185]\n"
          ]
        },
        {
          "name": "stdout",
          "output_type": "stream",
          "text": [
            "Epoch [18/50], Loss: 149.9020, Accuracy: 78.39%\n"
          ]
        },
        {
          "name": "stderr",
          "output_type": "stream",
          "text": [
            "Epoch 19/50: 100%|██████████| 254/254 [01:21<00:00,  3.12it/s, accuracy=77.7, loss=0.0187]\n"
          ]
        },
        {
          "name": "stdout",
          "output_type": "stream",
          "text": [
            "Epoch [19/50], Loss: 151.8527, Accuracy: 77.71%\n"
          ]
        },
        {
          "name": "stderr",
          "output_type": "stream",
          "text": [
            "Epoch 20/50: 100%|██████████| 254/254 [01:21<00:00,  3.13it/s, accuracy=78.5, loss=0.0186]\n"
          ]
        },
        {
          "name": "stdout",
          "output_type": "stream",
          "text": [
            "Epoch [20/50], Loss: 150.5298, Accuracy: 78.47%\n"
          ]
        },
        {
          "name": "stderr",
          "output_type": "stream",
          "text": [
            "Epoch 21/50: 100%|██████████| 254/254 [01:20<00:00,  3.14it/s, accuracy=78.2, loss=0.0185]\n"
          ]
        },
        {
          "name": "stdout",
          "output_type": "stream",
          "text": [
            "Epoch [21/50], Loss: 150.2097, Accuracy: 78.17%\n"
          ]
        },
        {
          "name": "stderr",
          "output_type": "stream",
          "text": [
            "Epoch 22/50: 100%|██████████| 254/254 [01:21<00:00,  3.12it/s, accuracy=78.8, loss=0.018]\n"
          ]
        },
        {
          "name": "stdout",
          "output_type": "stream",
          "text": [
            "Epoch [22/50], Loss: 145.8764, Accuracy: 78.82%\n"
          ]
        },
        {
          "name": "stderr",
          "output_type": "stream",
          "text": [
            "Epoch 23/50: 100%|██████████| 254/254 [01:20<00:00,  3.14it/s, accuracy=78.5, loss=0.0182]\n"
          ]
        },
        {
          "name": "stdout",
          "output_type": "stream",
          "text": [
            "Epoch [23/50], Loss: 147.4031, Accuracy: 78.49%\n"
          ]
        },
        {
          "name": "stderr",
          "output_type": "stream",
          "text": [
            "Epoch 24/50: 100%|██████████| 254/254 [01:21<00:00,  3.13it/s, accuracy=79.2, loss=0.018]\n"
          ]
        },
        {
          "name": "stdout",
          "output_type": "stream",
          "text": [
            "Epoch [24/50], Loss: 146.1733, Accuracy: 79.15%\n"
          ]
        },
        {
          "name": "stderr",
          "output_type": "stream",
          "text": [
            "Epoch 25/50: 100%|██████████| 254/254 [01:20<00:00,  3.14it/s, accuracy=79.3, loss=0.0182]\n"
          ]
        },
        {
          "name": "stdout",
          "output_type": "stream",
          "text": [
            "Epoch [25/50], Loss: 147.6055, Accuracy: 79.26%\n"
          ]
        },
        {
          "name": "stderr",
          "output_type": "stream",
          "text": [
            "Epoch 26/50: 100%|██████████| 254/254 [01:21<00:00,  3.12it/s, accuracy=78.7, loss=0.0179]\n"
          ]
        },
        {
          "name": "stdout",
          "output_type": "stream",
          "text": [
            "Epoch [26/50], Loss: 145.5227, Accuracy: 78.73%\n"
          ]
        },
        {
          "name": "stderr",
          "output_type": "stream",
          "text": [
            "Epoch 27/50: 100%|██████████| 254/254 [01:21<00:00,  3.13it/s, accuracy=79.1, loss=0.0178]\n"
          ]
        },
        {
          "name": "stdout",
          "output_type": "stream",
          "text": [
            "Epoch [27/50], Loss: 144.7445, Accuracy: 79.14%\n"
          ]
        },
        {
          "name": "stderr",
          "output_type": "stream",
          "text": [
            "Epoch 28/50: 100%|██████████| 254/254 [01:21<00:00,  3.13it/s, accuracy=79.1, loss=0.0178]\n"
          ]
        },
        {
          "name": "stdout",
          "output_type": "stream",
          "text": [
            "Epoch [28/50], Loss: 144.6687, Accuracy: 79.09%\n"
          ]
        },
        {
          "name": "stderr",
          "output_type": "stream",
          "text": [
            "Epoch 29/50: 100%|██████████| 254/254 [01:21<00:00,  3.13it/s, accuracy=79.3, loss=0.0176]\n"
          ]
        },
        {
          "name": "stdout",
          "output_type": "stream",
          "text": [
            "Epoch [29/50], Loss: 143.1511, Accuracy: 79.28%\n"
          ]
        },
        {
          "name": "stderr",
          "output_type": "stream",
          "text": [
            "Epoch 30/50: 100%|██████████| 254/254 [01:20<00:00,  3.15it/s, accuracy=79.4, loss=0.0176]\n"
          ]
        },
        {
          "name": "stdout",
          "output_type": "stream",
          "text": [
            "Epoch [30/50], Loss: 142.6212, Accuracy: 79.40%\n"
          ]
        },
        {
          "name": "stderr",
          "output_type": "stream",
          "text": [
            "Epoch 31/50: 100%|██████████| 254/254 [01:20<00:00,  3.14it/s, accuracy=79.1, loss=0.0178]\n"
          ]
        },
        {
          "name": "stdout",
          "output_type": "stream",
          "text": [
            "Epoch [31/50], Loss: 144.7724, Accuracy: 79.09%\n"
          ]
        },
        {
          "name": "stderr",
          "output_type": "stream",
          "text": [
            "Epoch 32/50: 100%|██████████| 254/254 [01:20<00:00,  3.14it/s, accuracy=79.3, loss=0.0175]\n"
          ]
        },
        {
          "name": "stdout",
          "output_type": "stream",
          "text": [
            "Epoch [32/50], Loss: 142.1479, Accuracy: 79.32%\n"
          ]
        },
        {
          "name": "stderr",
          "output_type": "stream",
          "text": [
            "Epoch 33/50: 100%|██████████| 254/254 [01:20<00:00,  3.15it/s, accuracy=79.1, loss=0.0178]\n"
          ]
        },
        {
          "name": "stdout",
          "output_type": "stream",
          "text": [
            "Epoch [33/50], Loss: 144.3651, Accuracy: 79.08%\n"
          ]
        },
        {
          "name": "stderr",
          "output_type": "stream",
          "text": [
            "Epoch 34/50: 100%|██████████| 254/254 [01:21<00:00,  3.13it/s, accuracy=79.7, loss=0.0174]\n"
          ]
        },
        {
          "name": "stdout",
          "output_type": "stream",
          "text": [
            "Epoch [34/50], Loss: 141.0164, Accuracy: 79.72%\n"
          ]
        },
        {
          "name": "stderr",
          "output_type": "stream",
          "text": [
            "Epoch 35/50: 100%|██████████| 254/254 [01:21<00:00,  3.13it/s, accuracy=79.7, loss=0.0174]\n"
          ]
        },
        {
          "name": "stdout",
          "output_type": "stream",
          "text": [
            "Epoch [35/50], Loss: 141.3095, Accuracy: 79.72%\n"
          ]
        },
        {
          "name": "stderr",
          "output_type": "stream",
          "text": [
            "Epoch 36/50: 100%|██████████| 254/254 [01:21<00:00,  3.13it/s, accuracy=79.6, loss=0.0172]\n"
          ]
        },
        {
          "name": "stdout",
          "output_type": "stream",
          "text": [
            "Epoch [36/50], Loss: 139.3529, Accuracy: 79.57%\n"
          ]
        },
        {
          "name": "stderr",
          "output_type": "stream",
          "text": [
            "Epoch 37/50: 100%|██████████| 254/254 [01:20<00:00,  3.16it/s, accuracy=79.7, loss=0.017]\n"
          ]
        },
        {
          "name": "stdout",
          "output_type": "stream",
          "text": [
            "Epoch [37/50], Loss: 138.0371, Accuracy: 79.66%\n"
          ]
        },
        {
          "name": "stderr",
          "output_type": "stream",
          "text": [
            "Epoch 38/50: 100%|██████████| 254/254 [01:20<00:00,  3.14it/s, accuracy=80, loss=0.017]\n"
          ]
        },
        {
          "name": "stdout",
          "output_type": "stream",
          "text": [
            "Epoch [38/50], Loss: 138.2178, Accuracy: 79.95%\n"
          ]
        },
        {
          "name": "stderr",
          "output_type": "stream",
          "text": [
            "Epoch 39/50: 100%|██████████| 254/254 [01:20<00:00,  3.14it/s, accuracy=79.9, loss=0.0171]\n"
          ]
        },
        {
          "name": "stdout",
          "output_type": "stream",
          "text": [
            "Epoch [39/50], Loss: 138.9741, Accuracy: 79.87%\n"
          ]
        },
        {
          "name": "stderr",
          "output_type": "stream",
          "text": [
            "Epoch 40/50: 100%|██████████| 254/254 [01:20<00:00,  3.14it/s, accuracy=79.9, loss=0.0171]\n"
          ]
        },
        {
          "name": "stdout",
          "output_type": "stream",
          "text": [
            "Epoch [40/50], Loss: 138.4542, Accuracy: 79.90%\n"
          ]
        },
        {
          "name": "stderr",
          "output_type": "stream",
          "text": [
            "Epoch 41/50: 100%|██████████| 254/254 [01:20<00:00,  3.15it/s, accuracy=80.2, loss=0.0171]\n"
          ]
        },
        {
          "name": "stdout",
          "output_type": "stream",
          "text": [
            "Epoch [41/50], Loss: 138.7593, Accuracy: 80.16%\n"
          ]
        },
        {
          "name": "stderr",
          "output_type": "stream",
          "text": [
            "Epoch 42/50: 100%|██████████| 254/254 [01:20<00:00,  3.14it/s, accuracy=80.4, loss=0.0169]\n"
          ]
        },
        {
          "name": "stdout",
          "output_type": "stream",
          "text": [
            "Epoch [42/50], Loss: 137.1817, Accuracy: 80.41%\n"
          ]
        },
        {
          "name": "stderr",
          "output_type": "stream",
          "text": [
            "Epoch 43/50: 100%|██████████| 254/254 [01:20<00:00,  3.14it/s, accuracy=80.2, loss=0.0168]\n"
          ]
        },
        {
          "name": "stdout",
          "output_type": "stream",
          "text": [
            "Epoch [43/50], Loss: 136.4519, Accuracy: 80.24%\n"
          ]
        },
        {
          "name": "stderr",
          "output_type": "stream",
          "text": [
            "Epoch 44/50: 100%|██████████| 254/254 [01:20<00:00,  3.15it/s, accuracy=80.1, loss=0.0168]\n"
          ]
        },
        {
          "name": "stdout",
          "output_type": "stream",
          "text": [
            "Epoch [44/50], Loss: 136.1100, Accuracy: 80.10%\n"
          ]
        },
        {
          "name": "stderr",
          "output_type": "stream",
          "text": [
            "Epoch 45/50: 100%|██████████| 254/254 [01:20<00:00,  3.14it/s, accuracy=80.2, loss=0.0168]\n"
          ]
        },
        {
          "name": "stdout",
          "output_type": "stream",
          "text": [
            "Epoch [45/50], Loss: 136.4620, Accuracy: 80.21%\n"
          ]
        },
        {
          "name": "stderr",
          "output_type": "stream",
          "text": [
            "Epoch 46/50: 100%|██████████| 254/254 [01:21<00:00,  3.14it/s, accuracy=80.2, loss=0.0168]\n"
          ]
        },
        {
          "name": "stdout",
          "output_type": "stream",
          "text": [
            "Epoch [46/50], Loss: 135.9878, Accuracy: 80.24%\n"
          ]
        },
        {
          "name": "stderr",
          "output_type": "stream",
          "text": [
            "Epoch 47/50: 100%|██████████| 254/254 [01:21<00:00,  3.13it/s, accuracy=80.4, loss=0.0167]\n"
          ]
        },
        {
          "name": "stdout",
          "output_type": "stream",
          "text": [
            "Epoch [47/50], Loss: 135.3454, Accuracy: 80.37%\n"
          ]
        },
        {
          "name": "stderr",
          "output_type": "stream",
          "text": [
            "Epoch 48/50: 100%|██████████| 254/254 [01:21<00:00,  3.11it/s, accuracy=81.2, loss=0.0165]\n"
          ]
        },
        {
          "name": "stdout",
          "output_type": "stream",
          "text": [
            "Epoch [48/50], Loss: 134.0445, Accuracy: 81.17%\n"
          ]
        },
        {
          "name": "stderr",
          "output_type": "stream",
          "text": [
            "Epoch 49/50: 100%|██████████| 254/254 [01:21<00:00,  3.13it/s, accuracy=80.7, loss=0.0163]\n"
          ]
        },
        {
          "name": "stdout",
          "output_type": "stream",
          "text": [
            "Epoch [49/50], Loss: 132.5999, Accuracy: 80.74%\n"
          ]
        },
        {
          "name": "stderr",
          "output_type": "stream",
          "text": [
            "Epoch 50/50: 100%|██████████| 254/254 [01:21<00:00,  3.13it/s, accuracy=80.4, loss=0.0164]\n"
          ]
        },
        {
          "name": "stdout",
          "output_type": "stream",
          "text": [
            "Epoch [50/50], Loss: 133.1935, Accuracy: 80.45%\n",
            "Fold 3:\n",
            "Training on Fold 3...\n"
          ]
        },
        {
          "name": "stderr",
          "output_type": "stream",
          "text": [
            "Epoch 1/50: 100%|██████████| 254/254 [01:20<00:00,  3.14it/s, accuracy=80, loss=0.017]\n"
          ]
        },
        {
          "name": "stdout",
          "output_type": "stream",
          "text": [
            "Epoch [1/50], Loss: 137.5803, Accuracy: 80.00%\n"
          ]
        },
        {
          "name": "stderr",
          "output_type": "stream",
          "text": [
            "Epoch 2/50: 100%|██████████| 254/254 [01:21<00:00,  3.12it/s, accuracy=80.1, loss=0.0168]\n"
          ]
        },
        {
          "name": "stdout",
          "output_type": "stream",
          "text": [
            "Epoch [2/50], Loss: 135.9268, Accuracy: 80.13%\n"
          ]
        },
        {
          "name": "stderr",
          "output_type": "stream",
          "text": [
            "Epoch 3/50: 100%|██████████| 254/254 [01:20<00:00,  3.15it/s, accuracy=80.4, loss=0.0168]\n"
          ]
        },
        {
          "name": "stdout",
          "output_type": "stream",
          "text": [
            "Epoch [3/50], Loss: 136.2901, Accuracy: 80.36%\n"
          ]
        },
        {
          "name": "stderr",
          "output_type": "stream",
          "text": [
            "Epoch 4/50: 100%|██████████| 254/254 [01:21<00:00,  3.13it/s, accuracy=80.5, loss=0.0168]\n"
          ]
        },
        {
          "name": "stdout",
          "output_type": "stream",
          "text": [
            "Epoch [4/50], Loss: 136.1283, Accuracy: 80.51%\n"
          ]
        },
        {
          "name": "stderr",
          "output_type": "stream",
          "text": [
            "Epoch 5/50: 100%|██████████| 254/254 [01:20<00:00,  3.14it/s, accuracy=80.5, loss=0.0165]\n"
          ]
        },
        {
          "name": "stdout",
          "output_type": "stream",
          "text": [
            "Epoch [5/50], Loss: 134.1219, Accuracy: 80.48%\n"
          ]
        },
        {
          "name": "stderr",
          "output_type": "stream",
          "text": [
            "Epoch 6/50: 100%|██████████| 254/254 [01:21<00:00,  3.11it/s, accuracy=81, loss=0.0163]\n"
          ]
        },
        {
          "name": "stdout",
          "output_type": "stream",
          "text": [
            "Epoch [6/50], Loss: 132.0704, Accuracy: 81.03%\n"
          ]
        },
        {
          "name": "stderr",
          "output_type": "stream",
          "text": [
            "Epoch 7/50: 100%|██████████| 254/254 [01:21<00:00,  3.11it/s, accuracy=80.8, loss=0.0166]\n"
          ]
        },
        {
          "name": "stdout",
          "output_type": "stream",
          "text": [
            "Epoch [7/50], Loss: 134.9559, Accuracy: 80.80%\n"
          ]
        },
        {
          "name": "stderr",
          "output_type": "stream",
          "text": [
            "Epoch 8/50: 100%|██████████| 254/254 [01:21<00:00,  3.13it/s, accuracy=80.6, loss=0.0167]\n"
          ]
        },
        {
          "name": "stdout",
          "output_type": "stream",
          "text": [
            "Epoch [8/50], Loss: 135.1522, Accuracy: 80.62%\n"
          ]
        },
        {
          "name": "stderr",
          "output_type": "stream",
          "text": [
            "Epoch 9/50: 100%|██████████| 254/254 [01:21<00:00,  3.13it/s, accuracy=80, loss=0.0166]\n"
          ]
        },
        {
          "name": "stdout",
          "output_type": "stream",
          "text": [
            "Epoch [9/50], Loss: 134.6217, Accuracy: 80.00%\n"
          ]
        },
        {
          "name": "stderr",
          "output_type": "stream",
          "text": [
            "Epoch 10/50: 100%|██████████| 254/254 [01:21<00:00,  3.12it/s, accuracy=80.4, loss=0.0164]\n"
          ]
        },
        {
          "name": "stdout",
          "output_type": "stream",
          "text": [
            "Epoch [10/50], Loss: 133.0052, Accuracy: 80.45%\n"
          ]
        },
        {
          "name": "stderr",
          "output_type": "stream",
          "text": [
            "Epoch 11/50: 100%|██████████| 254/254 [01:20<00:00,  3.14it/s, accuracy=81.1, loss=0.0163]\n"
          ]
        },
        {
          "name": "stdout",
          "output_type": "stream",
          "text": [
            "Epoch [11/50], Loss: 132.2139, Accuracy: 81.15%\n"
          ]
        },
        {
          "name": "stderr",
          "output_type": "stream",
          "text": [
            "Epoch 12/50: 100%|██████████| 254/254 [01:20<00:00,  3.16it/s, accuracy=81.5, loss=0.0159]\n"
          ]
        },
        {
          "name": "stdout",
          "output_type": "stream",
          "text": [
            "Epoch [12/50], Loss: 128.7791, Accuracy: 81.49%\n"
          ]
        },
        {
          "name": "stderr",
          "output_type": "stream",
          "text": [
            "Epoch 13/50: 100%|██████████| 254/254 [01:21<00:00,  3.12it/s, accuracy=81.2, loss=0.016]\n"
          ]
        },
        {
          "name": "stdout",
          "output_type": "stream",
          "text": [
            "Epoch [13/50], Loss: 130.0443, Accuracy: 81.25%\n"
          ]
        },
        {
          "name": "stderr",
          "output_type": "stream",
          "text": [
            "Epoch 14/50: 100%|██████████| 254/254 [01:20<00:00,  3.14it/s, accuracy=81, loss=0.016]\n"
          ]
        },
        {
          "name": "stdout",
          "output_type": "stream",
          "text": [
            "Epoch [14/50], Loss: 130.1730, Accuracy: 81.04%\n"
          ]
        },
        {
          "name": "stderr",
          "output_type": "stream",
          "text": [
            "Epoch 15/50: 100%|██████████| 254/254 [01:20<00:00,  3.15it/s, accuracy=81.5, loss=0.016]\n"
          ]
        },
        {
          "name": "stdout",
          "output_type": "stream",
          "text": [
            "Epoch [15/50], Loss: 129.6093, Accuracy: 81.53%\n"
          ]
        },
        {
          "name": "stderr",
          "output_type": "stream",
          "text": [
            "Epoch 16/50: 100%|██████████| 254/254 [01:21<00:00,  3.13it/s, accuracy=81.7, loss=0.0157]\n"
          ]
        },
        {
          "name": "stdout",
          "output_type": "stream",
          "text": [
            "Epoch [16/50], Loss: 127.6786, Accuracy: 81.73%\n"
          ]
        },
        {
          "name": "stderr",
          "output_type": "stream",
          "text": [
            "Epoch 17/50: 100%|██████████| 254/254 [01:21<00:00,  3.13it/s, accuracy=81.8, loss=0.0159]\n"
          ]
        },
        {
          "name": "stdout",
          "output_type": "stream",
          "text": [
            "Epoch [17/50], Loss: 128.6006, Accuracy: 81.77%\n"
          ]
        },
        {
          "name": "stderr",
          "output_type": "stream",
          "text": [
            "Epoch 18/50: 100%|██████████| 254/254 [01:21<00:00,  3.13it/s, accuracy=81.4, loss=0.0154]\n"
          ]
        },
        {
          "name": "stdout",
          "output_type": "stream",
          "text": [
            "Epoch [18/50], Loss: 125.0575, Accuracy: 81.38%\n"
          ]
        },
        {
          "name": "stderr",
          "output_type": "stream",
          "text": [
            "Epoch 19/50: 100%|██████████| 254/254 [01:20<00:00,  3.14it/s, accuracy=81.3, loss=0.0157]\n"
          ]
        },
        {
          "name": "stdout",
          "output_type": "stream",
          "text": [
            "Epoch [19/50], Loss: 127.1244, Accuracy: 81.28%\n"
          ]
        },
        {
          "name": "stderr",
          "output_type": "stream",
          "text": [
            "Epoch 20/50: 100%|██████████| 254/254 [01:21<00:00,  3.13it/s, accuracy=81.8, loss=0.0157]\n"
          ]
        },
        {
          "name": "stdout",
          "output_type": "stream",
          "text": [
            "Epoch [20/50], Loss: 127.0930, Accuracy: 81.80%\n"
          ]
        },
        {
          "name": "stderr",
          "output_type": "stream",
          "text": [
            "Epoch 21/50: 100%|██████████| 254/254 [01:21<00:00,  3.14it/s, accuracy=81.6, loss=0.0159]\n"
          ]
        },
        {
          "name": "stdout",
          "output_type": "stream",
          "text": [
            "Epoch [21/50], Loss: 128.6328, Accuracy: 81.57%\n"
          ]
        },
        {
          "name": "stderr",
          "output_type": "stream",
          "text": [
            "Epoch 22/50: 100%|██████████| 254/254 [01:21<00:00,  3.13it/s, accuracy=81.9, loss=0.0155]\n"
          ]
        },
        {
          "name": "stdout",
          "output_type": "stream",
          "text": [
            "Epoch [22/50], Loss: 125.4227, Accuracy: 81.93%\n"
          ]
        },
        {
          "name": "stderr",
          "output_type": "stream",
          "text": [
            "Epoch 23/50: 100%|██████████| 254/254 [01:21<00:00,  3.13it/s, accuracy=82, loss=0.0153]\n"
          ]
        },
        {
          "name": "stdout",
          "output_type": "stream",
          "text": [
            "Epoch [23/50], Loss: 124.4300, Accuracy: 82.00%\n"
          ]
        },
        {
          "name": "stderr",
          "output_type": "stream",
          "text": [
            "Epoch 24/50: 100%|██████████| 254/254 [01:21<00:00,  3.12it/s, accuracy=82.1, loss=0.0154]\n"
          ]
        },
        {
          "name": "stdout",
          "output_type": "stream",
          "text": [
            "Epoch [24/50], Loss: 125.2882, Accuracy: 82.07%\n"
          ]
        },
        {
          "name": "stderr",
          "output_type": "stream",
          "text": [
            "Epoch 25/50: 100%|██████████| 254/254 [01:20<00:00,  3.14it/s, accuracy=81.8, loss=0.0153]\n"
          ]
        },
        {
          "name": "stdout",
          "output_type": "stream",
          "text": [
            "Epoch [25/50], Loss: 124.1750, Accuracy: 81.79%\n"
          ]
        },
        {
          "name": "stderr",
          "output_type": "stream",
          "text": [
            "Epoch 26/50: 100%|██████████| 254/254 [01:21<00:00,  3.13it/s, accuracy=82.3, loss=0.0153]\n"
          ]
        },
        {
          "name": "stdout",
          "output_type": "stream",
          "text": [
            "Epoch [26/50], Loss: 123.8876, Accuracy: 82.27%\n"
          ]
        },
        {
          "name": "stderr",
          "output_type": "stream",
          "text": [
            "Epoch 27/50: 100%|██████████| 254/254 [01:21<00:00,  3.12it/s, accuracy=81.9, loss=0.0152]\n"
          ]
        },
        {
          "name": "stdout",
          "output_type": "stream",
          "text": [
            "Epoch [27/50], Loss: 123.4487, Accuracy: 81.86%\n"
          ]
        },
        {
          "name": "stderr",
          "output_type": "stream",
          "text": [
            "Epoch 28/50: 100%|██████████| 254/254 [01:21<00:00,  3.13it/s, accuracy=82.6, loss=0.0151]\n"
          ]
        },
        {
          "name": "stdout",
          "output_type": "stream",
          "text": [
            "Epoch [28/50], Loss: 122.2331, Accuracy: 82.57%\n"
          ]
        },
        {
          "name": "stderr",
          "output_type": "stream",
          "text": [
            "Epoch 29/50: 100%|██████████| 254/254 [01:21<00:00,  3.13it/s, accuracy=82.4, loss=0.0149]\n"
          ]
        },
        {
          "name": "stdout",
          "output_type": "stream",
          "text": [
            "Epoch [29/50], Loss: 121.0577, Accuracy: 82.38%\n"
          ]
        },
        {
          "name": "stderr",
          "output_type": "stream",
          "text": [
            "Epoch 30/50: 100%|██████████| 254/254 [01:20<00:00,  3.14it/s, accuracy=82.1, loss=0.0152]\n"
          ]
        },
        {
          "name": "stdout",
          "output_type": "stream",
          "text": [
            "Epoch [30/50], Loss: 123.0742, Accuracy: 82.15%\n"
          ]
        },
        {
          "name": "stderr",
          "output_type": "stream",
          "text": [
            "Epoch 31/50: 100%|██████████| 254/254 [01:21<00:00,  3.13it/s, accuracy=82, loss=0.0152]\n"
          ]
        },
        {
          "name": "stdout",
          "output_type": "stream",
          "text": [
            "Epoch [31/50], Loss: 123.3292, Accuracy: 82.00%\n"
          ]
        },
        {
          "name": "stderr",
          "output_type": "stream",
          "text": [
            "Epoch 32/50: 100%|██████████| 254/254 [01:21<00:00,  3.12it/s, accuracy=82.5, loss=0.0149]\n"
          ]
        },
        {
          "name": "stdout",
          "output_type": "stream",
          "text": [
            "Epoch [32/50], Loss: 120.6956, Accuracy: 82.46%\n"
          ]
        },
        {
          "name": "stderr",
          "output_type": "stream",
          "text": [
            "Epoch 33/50: 100%|██████████| 254/254 [01:20<00:00,  3.15it/s, accuracy=82.7, loss=0.0148]\n"
          ]
        },
        {
          "name": "stdout",
          "output_type": "stream",
          "text": [
            "Epoch [33/50], Loss: 119.8972, Accuracy: 82.70%\n"
          ]
        },
        {
          "name": "stderr",
          "output_type": "stream",
          "text": [
            "Epoch 34/50: 100%|██████████| 254/254 [01:21<00:00,  3.13it/s, accuracy=82.7, loss=0.0146]\n"
          ]
        },
        {
          "name": "stdout",
          "output_type": "stream",
          "text": [
            "Epoch [34/50], Loss: 118.3504, Accuracy: 82.65%\n"
          ]
        },
        {
          "name": "stderr",
          "output_type": "stream",
          "text": [
            "Epoch 35/50: 100%|██████████| 254/254 [01:21<00:00,  3.13it/s, accuracy=82.7, loss=0.0148]\n"
          ]
        },
        {
          "name": "stdout",
          "output_type": "stream",
          "text": [
            "Epoch [35/50], Loss: 120.3537, Accuracy: 82.67%\n"
          ]
        },
        {
          "name": "stderr",
          "output_type": "stream",
          "text": [
            "Epoch 36/50: 100%|██████████| 254/254 [01:21<00:00,  3.13it/s, accuracy=82.6, loss=0.0145]\n"
          ]
        },
        {
          "name": "stdout",
          "output_type": "stream",
          "text": [
            "Epoch [36/50], Loss: 117.8717, Accuracy: 82.63%\n"
          ]
        },
        {
          "name": "stderr",
          "output_type": "stream",
          "text": [
            "Epoch 37/50: 100%|██████████| 254/254 [01:21<00:00,  3.13it/s, accuracy=82.3, loss=0.0148]\n"
          ]
        },
        {
          "name": "stdout",
          "output_type": "stream",
          "text": [
            "Epoch [37/50], Loss: 120.3322, Accuracy: 82.31%\n"
          ]
        },
        {
          "name": "stderr",
          "output_type": "stream",
          "text": [
            "Epoch 38/50: 100%|██████████| 254/254 [01:21<00:00,  3.13it/s, accuracy=83.2, loss=0.0143]\n"
          ]
        },
        {
          "name": "stdout",
          "output_type": "stream",
          "text": [
            "Epoch [38/50], Loss: 115.7565, Accuracy: 83.24%\n"
          ]
        },
        {
          "name": "stderr",
          "output_type": "stream",
          "text": [
            "Epoch 39/50: 100%|██████████| 254/254 [01:21<00:00,  3.11it/s, accuracy=82.7, loss=0.0146]\n"
          ]
        },
        {
          "name": "stdout",
          "output_type": "stream",
          "text": [
            "Epoch [39/50], Loss: 118.1819, Accuracy: 82.73%\n"
          ]
        },
        {
          "name": "stderr",
          "output_type": "stream",
          "text": [
            "Epoch 40/50: 100%|██████████| 254/254 [01:21<00:00,  3.11it/s, accuracy=83.2, loss=0.0143]\n"
          ]
        },
        {
          "name": "stdout",
          "output_type": "stream",
          "text": [
            "Epoch [40/50], Loss: 115.7534, Accuracy: 83.16%\n"
          ]
        },
        {
          "name": "stderr",
          "output_type": "stream",
          "text": [
            "Epoch 41/50: 100%|██████████| 254/254 [01:21<00:00,  3.11it/s, accuracy=82.9, loss=0.0142]\n"
          ]
        },
        {
          "name": "stdout",
          "output_type": "stream",
          "text": [
            "Epoch [41/50], Loss: 115.4516, Accuracy: 82.91%\n"
          ]
        },
        {
          "name": "stderr",
          "output_type": "stream",
          "text": [
            "Epoch 42/50: 100%|██████████| 254/254 [01:21<00:00,  3.13it/s, accuracy=83.1, loss=0.0142]\n"
          ]
        },
        {
          "name": "stdout",
          "output_type": "stream",
          "text": [
            "Epoch [42/50], Loss: 114.8865, Accuracy: 83.12%\n"
          ]
        },
        {
          "name": "stderr",
          "output_type": "stream",
          "text": [
            "Epoch 43/50: 100%|██████████| 254/254 [01:21<00:00,  3.11it/s, accuracy=83.2, loss=0.0145]\n"
          ]
        },
        {
          "name": "stdout",
          "output_type": "stream",
          "text": [
            "Epoch [43/50], Loss: 117.5112, Accuracy: 83.23%\n"
          ]
        },
        {
          "name": "stderr",
          "output_type": "stream",
          "text": [
            "Epoch 44/50: 100%|██████████| 254/254 [01:20<00:00,  3.14it/s, accuracy=82.6, loss=0.0148]\n"
          ]
        },
        {
          "name": "stdout",
          "output_type": "stream",
          "text": [
            "Epoch [44/50], Loss: 120.2313, Accuracy: 82.62%\n"
          ]
        },
        {
          "name": "stderr",
          "output_type": "stream",
          "text": [
            "Epoch 45/50: 100%|██████████| 254/254 [01:21<00:00,  3.13it/s, accuracy=83.4, loss=0.0143]\n"
          ]
        },
        {
          "name": "stdout",
          "output_type": "stream",
          "text": [
            "Epoch [45/50], Loss: 116.1524, Accuracy: 83.41%\n"
          ]
        },
        {
          "name": "stderr",
          "output_type": "stream",
          "text": [
            "Epoch 46/50: 100%|██████████| 254/254 [01:20<00:00,  3.15it/s, accuracy=83, loss=0.0138]\n"
          ]
        },
        {
          "name": "stdout",
          "output_type": "stream",
          "text": [
            "Epoch [46/50], Loss: 112.1308, Accuracy: 82.97%\n"
          ]
        },
        {
          "name": "stderr",
          "output_type": "stream",
          "text": [
            "Epoch 47/50: 100%|██████████| 254/254 [01:21<00:00,  3.11it/s, accuracy=83.1, loss=0.0141]\n"
          ]
        },
        {
          "name": "stdout",
          "output_type": "stream",
          "text": [
            "Epoch [47/50], Loss: 114.2819, Accuracy: 83.13%\n"
          ]
        },
        {
          "name": "stderr",
          "output_type": "stream",
          "text": [
            "Epoch 48/50: 100%|██████████| 254/254 [01:21<00:00,  3.13it/s, accuracy=83, loss=0.0144]\n"
          ]
        },
        {
          "name": "stdout",
          "output_type": "stream",
          "text": [
            "Epoch [48/50], Loss: 116.9498, Accuracy: 83.04%\n"
          ]
        },
        {
          "name": "stderr",
          "output_type": "stream",
          "text": [
            "Epoch 49/50: 100%|██████████| 254/254 [01:21<00:00,  3.12it/s, accuracy=83.6, loss=0.0139]\n"
          ]
        },
        {
          "name": "stdout",
          "output_type": "stream",
          "text": [
            "Epoch [49/50], Loss: 113.0543, Accuracy: 83.63%\n"
          ]
        },
        {
          "name": "stderr",
          "output_type": "stream",
          "text": [
            "Epoch 50/50: 100%|██████████| 254/254 [01:21<00:00,  3.13it/s, accuracy=83.3, loss=0.0139]\n"
          ]
        },
        {
          "name": "stdout",
          "output_type": "stream",
          "text": [
            "Epoch [50/50], Loss: 112.8299, Accuracy: 83.28%\n",
            "Fold 4:\n",
            "Training on Fold 4...\n"
          ]
        },
        {
          "name": "stderr",
          "output_type": "stream",
          "text": [
            "Epoch 1/50: 100%|██████████| 254/254 [01:21<00:00,  3.12it/s, accuracy=83.4, loss=0.014]\n"
          ]
        },
        {
          "name": "stdout",
          "output_type": "stream",
          "text": [
            "Epoch [1/50], Loss: 113.4582, Accuracy: 83.37%\n"
          ]
        },
        {
          "name": "stderr",
          "output_type": "stream",
          "text": [
            "Epoch 2/50: 100%|██████████| 254/254 [01:21<00:00,  3.11it/s, accuracy=83.8, loss=0.0139]\n"
          ]
        },
        {
          "name": "stdout",
          "output_type": "stream",
          "text": [
            "Epoch [2/50], Loss: 112.7803, Accuracy: 83.78%\n"
          ]
        },
        {
          "name": "stderr",
          "output_type": "stream",
          "text": [
            "Epoch 3/50: 100%|██████████| 254/254 [01:21<00:00,  3.13it/s, accuracy=82.9, loss=0.0143]\n"
          ]
        },
        {
          "name": "stdout",
          "output_type": "stream",
          "text": [
            "Epoch [3/50], Loss: 115.9878, Accuracy: 82.85%\n"
          ]
        },
        {
          "name": "stderr",
          "output_type": "stream",
          "text": [
            "Epoch 4/50: 100%|██████████| 254/254 [01:21<00:00,  3.10it/s, accuracy=83.6, loss=0.0139]\n"
          ]
        },
        {
          "name": "stdout",
          "output_type": "stream",
          "text": [
            "Epoch [4/50], Loss: 112.5075, Accuracy: 83.62%\n"
          ]
        },
        {
          "name": "stderr",
          "output_type": "stream",
          "text": [
            "Epoch 5/50: 100%|██████████| 254/254 [01:21<00:00,  3.11it/s, accuracy=83.7, loss=0.0139]\n"
          ]
        },
        {
          "name": "stdout",
          "output_type": "stream",
          "text": [
            "Epoch [5/50], Loss: 112.9818, Accuracy: 83.69%\n"
          ]
        },
        {
          "name": "stderr",
          "output_type": "stream",
          "text": [
            "Epoch 6/50: 100%|██████████| 254/254 [01:21<00:00,  3.13it/s, accuracy=84, loss=0.0138]\n"
          ]
        },
        {
          "name": "stdout",
          "output_type": "stream",
          "text": [
            "Epoch [6/50], Loss: 111.8634, Accuracy: 84.05%\n"
          ]
        },
        {
          "name": "stderr",
          "output_type": "stream",
          "text": [
            "Epoch 7/50: 100%|██████████| 254/254 [01:20<00:00,  3.14it/s, accuracy=83.8, loss=0.0138]\n"
          ]
        },
        {
          "name": "stdout",
          "output_type": "stream",
          "text": [
            "Epoch [7/50], Loss: 112.2321, Accuracy: 83.78%\n"
          ]
        },
        {
          "name": "stderr",
          "output_type": "stream",
          "text": [
            "Epoch 8/50: 100%|██████████| 254/254 [01:20<00:00,  3.16it/s, accuracy=84.1, loss=0.0133]\n"
          ]
        },
        {
          "name": "stdout",
          "output_type": "stream",
          "text": [
            "Epoch [8/50], Loss: 108.2884, Accuracy: 84.15%\n"
          ]
        },
        {
          "name": "stderr",
          "output_type": "stream",
          "text": [
            "Epoch 9/50: 100%|██████████| 254/254 [01:21<00:00,  3.13it/s, accuracy=84.3, loss=0.0136]\n"
          ]
        },
        {
          "name": "stdout",
          "output_type": "stream",
          "text": [
            "Epoch [9/50], Loss: 109.9879, Accuracy: 84.28%\n"
          ]
        },
        {
          "name": "stderr",
          "output_type": "stream",
          "text": [
            "Epoch 10/50: 100%|██████████| 254/254 [01:20<00:00,  3.14it/s, accuracy=84.2, loss=0.0134]\n"
          ]
        },
        {
          "name": "stdout",
          "output_type": "stream",
          "text": [
            "Epoch [10/50], Loss: 108.9199, Accuracy: 84.22%\n"
          ]
        },
        {
          "name": "stderr",
          "output_type": "stream",
          "text": [
            "Epoch 11/50: 100%|██████████| 254/254 [01:20<00:00,  3.14it/s, accuracy=83.6, loss=0.0137]\n"
          ]
        },
        {
          "name": "stdout",
          "output_type": "stream",
          "text": [
            "Epoch [11/50], Loss: 111.3357, Accuracy: 83.56%\n"
          ]
        },
        {
          "name": "stderr",
          "output_type": "stream",
          "text": [
            "Epoch 12/50: 100%|██████████| 254/254 [01:21<00:00,  3.11it/s, accuracy=84.3, loss=0.0131]\n"
          ]
        },
        {
          "name": "stdout",
          "output_type": "stream",
          "text": [
            "Epoch [12/50], Loss: 106.6449, Accuracy: 84.33%\n"
          ]
        },
        {
          "name": "stderr",
          "output_type": "stream",
          "text": [
            "Epoch 13/50: 100%|██████████| 254/254 [01:20<00:00,  3.14it/s, accuracy=83.8, loss=0.0134]\n"
          ]
        },
        {
          "name": "stdout",
          "output_type": "stream",
          "text": [
            "Epoch [13/50], Loss: 108.6302, Accuracy: 83.84%\n"
          ]
        },
        {
          "name": "stderr",
          "output_type": "stream",
          "text": [
            "Epoch 14/50: 100%|██████████| 254/254 [01:21<00:00,  3.10it/s, accuracy=84, loss=0.0134]\n"
          ]
        },
        {
          "name": "stdout",
          "output_type": "stream",
          "text": [
            "Epoch [14/50], Loss: 109.0607, Accuracy: 84.04%\n"
          ]
        },
        {
          "name": "stderr",
          "output_type": "stream",
          "text": [
            "Epoch 15/50: 100%|██████████| 254/254 [01:21<00:00,  3.12it/s, accuracy=84.5, loss=0.0131]\n"
          ]
        },
        {
          "name": "stdout",
          "output_type": "stream",
          "text": [
            "Epoch [15/50], Loss: 106.5698, Accuracy: 84.48%\n"
          ]
        },
        {
          "name": "stderr",
          "output_type": "stream",
          "text": [
            "Epoch 16/50: 100%|██████████| 254/254 [01:21<00:00,  3.12it/s, accuracy=84.5, loss=0.0131]\n"
          ]
        },
        {
          "name": "stdout",
          "output_type": "stream",
          "text": [
            "Epoch [16/50], Loss: 106.3079, Accuracy: 84.48%\n"
          ]
        },
        {
          "name": "stderr",
          "output_type": "stream",
          "text": [
            "Epoch 17/50: 100%|██████████| 254/254 [01:21<00:00,  3.12it/s, accuracy=84.2, loss=0.0131]\n"
          ]
        },
        {
          "name": "stdout",
          "output_type": "stream",
          "text": [
            "Epoch [17/50], Loss: 105.9747, Accuracy: 84.22%\n"
          ]
        },
        {
          "name": "stderr",
          "output_type": "stream",
          "text": [
            "Epoch 18/50: 100%|██████████| 254/254 [01:21<00:00,  3.12it/s, accuracy=84.3, loss=0.013]\n"
          ]
        },
        {
          "name": "stdout",
          "output_type": "stream",
          "text": [
            "Epoch [18/50], Loss: 105.8229, Accuracy: 84.29%\n"
          ]
        },
        {
          "name": "stderr",
          "output_type": "stream",
          "text": [
            "Epoch 19/50: 100%|██████████| 254/254 [01:21<00:00,  3.12it/s, accuracy=84.9, loss=0.0129]\n"
          ]
        },
        {
          "name": "stdout",
          "output_type": "stream",
          "text": [
            "Epoch [19/50], Loss: 104.7357, Accuracy: 84.91%\n"
          ]
        },
        {
          "name": "stderr",
          "output_type": "stream",
          "text": [
            "Epoch 20/50: 100%|██████████| 254/254 [01:20<00:00,  3.14it/s, accuracy=84.4, loss=0.0128]\n"
          ]
        },
        {
          "name": "stdout",
          "output_type": "stream",
          "text": [
            "Epoch [20/50], Loss: 103.9157, Accuracy: 84.43%\n"
          ]
        },
        {
          "name": "stderr",
          "output_type": "stream",
          "text": [
            "Epoch 21/50: 100%|██████████| 254/254 [01:21<00:00,  3.11it/s, accuracy=85, loss=0.0127]\n"
          ]
        },
        {
          "name": "stdout",
          "output_type": "stream",
          "text": [
            "Epoch [21/50], Loss: 103.0213, Accuracy: 84.99%\n"
          ]
        },
        {
          "name": "stderr",
          "output_type": "stream",
          "text": [
            "Epoch 22/50: 100%|██████████| 254/254 [01:20<00:00,  3.14it/s, accuracy=84.7, loss=0.0129]\n"
          ]
        },
        {
          "name": "stdout",
          "output_type": "stream",
          "text": [
            "Epoch [22/50], Loss: 104.3100, Accuracy: 84.70%\n"
          ]
        },
        {
          "name": "stderr",
          "output_type": "stream",
          "text": [
            "Epoch 23/50: 100%|██████████| 254/254 [01:21<00:00,  3.11it/s, accuracy=84.9, loss=0.0129]\n"
          ]
        },
        {
          "name": "stdout",
          "output_type": "stream",
          "text": [
            "Epoch [23/50], Loss: 104.3036, Accuracy: 84.90%\n"
          ]
        },
        {
          "name": "stderr",
          "output_type": "stream",
          "text": [
            "Epoch 24/50: 100%|██████████| 254/254 [01:22<00:00,  3.09it/s, accuracy=85.2, loss=0.0125]\n"
          ]
        },
        {
          "name": "stdout",
          "output_type": "stream",
          "text": [
            "Epoch [24/50], Loss: 101.6429, Accuracy: 85.18%\n"
          ]
        },
        {
          "name": "stderr",
          "output_type": "stream",
          "text": [
            "Epoch 25/50: 100%|██████████| 254/254 [01:21<00:00,  3.13it/s, accuracy=84.8, loss=0.0126]\n"
          ]
        },
        {
          "name": "stdout",
          "output_type": "stream",
          "text": [
            "Epoch [25/50], Loss: 101.8438, Accuracy: 84.84%\n"
          ]
        },
        {
          "name": "stderr",
          "output_type": "stream",
          "text": [
            "Epoch 26/50: 100%|██████████| 254/254 [01:21<00:00,  3.12it/s, accuracy=85.1, loss=0.0125]\n"
          ]
        },
        {
          "name": "stdout",
          "output_type": "stream",
          "text": [
            "Epoch [26/50], Loss: 101.2499, Accuracy: 85.15%\n"
          ]
        },
        {
          "name": "stderr",
          "output_type": "stream",
          "text": [
            "Epoch 27/50: 100%|██████████| 254/254 [01:21<00:00,  3.11it/s, accuracy=85.4, loss=0.0124]\n"
          ]
        },
        {
          "name": "stdout",
          "output_type": "stream",
          "text": [
            "Epoch [27/50], Loss: 100.2217, Accuracy: 85.40%\n"
          ]
        },
        {
          "name": "stderr",
          "output_type": "stream",
          "text": [
            "Epoch 28/50: 100%|██████████| 254/254 [01:21<00:00,  3.13it/s, accuracy=84.8, loss=0.0126]\n"
          ]
        },
        {
          "name": "stdout",
          "output_type": "stream",
          "text": [
            "Epoch [28/50], Loss: 102.3017, Accuracy: 84.82%\n"
          ]
        },
        {
          "name": "stderr",
          "output_type": "stream",
          "text": [
            "Epoch 29/50: 100%|██████████| 254/254 [01:20<00:00,  3.14it/s, accuracy=85.9, loss=0.0122]\n"
          ]
        },
        {
          "name": "stdout",
          "output_type": "stream",
          "text": [
            "Epoch [29/50], Loss: 98.5746, Accuracy: 85.86%\n"
          ]
        },
        {
          "name": "stderr",
          "output_type": "stream",
          "text": [
            "Epoch 30/50: 100%|██████████| 254/254 [01:21<00:00,  3.13it/s, accuracy=85.6, loss=0.012]\n"
          ]
        },
        {
          "name": "stdout",
          "output_type": "stream",
          "text": [
            "Epoch [30/50], Loss: 97.7281, Accuracy: 85.61%\n"
          ]
        },
        {
          "name": "stderr",
          "output_type": "stream",
          "text": [
            "Epoch 31/50: 100%|██████████| 254/254 [01:21<00:00,  3.14it/s, accuracy=85.3, loss=0.0124]\n"
          ]
        },
        {
          "name": "stdout",
          "output_type": "stream",
          "text": [
            "Epoch [31/50], Loss: 100.7141, Accuracy: 85.28%\n"
          ]
        },
        {
          "name": "stderr",
          "output_type": "stream",
          "text": [
            "Epoch 32/50: 100%|██████████| 254/254 [01:21<00:00,  3.13it/s, accuracy=85.2, loss=0.0127]\n"
          ]
        },
        {
          "name": "stdout",
          "output_type": "stream",
          "text": [
            "Epoch [32/50], Loss: 102.7620, Accuracy: 85.24%\n"
          ]
        },
        {
          "name": "stderr",
          "output_type": "stream",
          "text": [
            "Epoch 33/50: 100%|██████████| 254/254 [01:21<00:00,  3.12it/s, accuracy=85.5, loss=0.0123]\n"
          ]
        },
        {
          "name": "stdout",
          "output_type": "stream",
          "text": [
            "Epoch [33/50], Loss: 99.9372, Accuracy: 85.52%\n"
          ]
        },
        {
          "name": "stderr",
          "output_type": "stream",
          "text": [
            "Epoch 34/50: 100%|██████████| 254/254 [01:21<00:00,  3.12it/s, accuracy=86, loss=0.0121]\n"
          ]
        },
        {
          "name": "stdout",
          "output_type": "stream",
          "text": [
            "Epoch [34/50], Loss: 97.8080, Accuracy: 85.96%\n"
          ]
        },
        {
          "name": "stderr",
          "output_type": "stream",
          "text": [
            "Epoch 35/50: 100%|██████████| 254/254 [01:21<00:00,  3.13it/s, accuracy=85.9, loss=0.0119]\n"
          ]
        },
        {
          "name": "stdout",
          "output_type": "stream",
          "text": [
            "Epoch [35/50], Loss: 96.3307, Accuracy: 85.91%\n"
          ]
        },
        {
          "name": "stderr",
          "output_type": "stream",
          "text": [
            "Epoch 36/50: 100%|██████████| 254/254 [01:21<00:00,  3.13it/s, accuracy=85.7, loss=0.0119]\n"
          ]
        },
        {
          "name": "stdout",
          "output_type": "stream",
          "text": [
            "Epoch [36/50], Loss: 96.7473, Accuracy: 85.69%\n"
          ]
        },
        {
          "name": "stderr",
          "output_type": "stream",
          "text": [
            "Epoch 37/50: 100%|██████████| 254/254 [01:21<00:00,  3.12it/s, accuracy=85.9, loss=0.0119]\n"
          ]
        },
        {
          "name": "stdout",
          "output_type": "stream",
          "text": [
            "Epoch [37/50], Loss: 96.2001, Accuracy: 85.95%\n"
          ]
        },
        {
          "name": "stderr",
          "output_type": "stream",
          "text": [
            "Epoch 38/50: 100%|██████████| 254/254 [01:21<00:00,  3.11it/s, accuracy=85.5, loss=0.012]\n"
          ]
        },
        {
          "name": "stdout",
          "output_type": "stream",
          "text": [
            "Epoch [38/50], Loss: 97.4493, Accuracy: 85.50%\n"
          ]
        },
        {
          "name": "stderr",
          "output_type": "stream",
          "text": [
            "Epoch 39/50: 100%|██████████| 254/254 [01:22<00:00,  3.09it/s, accuracy=85.6, loss=0.012]\n"
          ]
        },
        {
          "name": "stdout",
          "output_type": "stream",
          "text": [
            "Epoch [39/50], Loss: 97.6973, Accuracy: 85.60%\n"
          ]
        },
        {
          "name": "stderr",
          "output_type": "stream",
          "text": [
            "Epoch 40/50: 100%|██████████| 254/254 [01:20<00:00,  3.14it/s, accuracy=85.7, loss=0.0122]\n"
          ]
        },
        {
          "name": "stdout",
          "output_type": "stream",
          "text": [
            "Epoch [40/50], Loss: 98.6332, Accuracy: 85.66%\n"
          ]
        },
        {
          "name": "stderr",
          "output_type": "stream",
          "text": [
            "Epoch 41/50: 100%|██████████| 254/254 [01:20<00:00,  3.14it/s, accuracy=85.5, loss=0.0121]\n"
          ]
        },
        {
          "name": "stdout",
          "output_type": "stream",
          "text": [
            "Epoch [41/50], Loss: 98.0037, Accuracy: 85.49%\n"
          ]
        },
        {
          "name": "stderr",
          "output_type": "stream",
          "text": [
            "Epoch 42/50: 100%|██████████| 254/254 [01:20<00:00,  3.15it/s, accuracy=86.3, loss=0.0115]\n"
          ]
        },
        {
          "name": "stdout",
          "output_type": "stream",
          "text": [
            "Epoch [42/50], Loss: 93.0341, Accuracy: 86.33%\n"
          ]
        },
        {
          "name": "stderr",
          "output_type": "stream",
          "text": [
            "Epoch 43/50: 100%|██████████| 254/254 [01:20<00:00,  3.14it/s, accuracy=86.2, loss=0.0116]\n"
          ]
        },
        {
          "name": "stdout",
          "output_type": "stream",
          "text": [
            "Epoch [43/50], Loss: 94.0256, Accuracy: 86.23%\n"
          ]
        },
        {
          "name": "stderr",
          "output_type": "stream",
          "text": [
            "Epoch 44/50: 100%|██████████| 254/254 [01:20<00:00,  3.15it/s, accuracy=86.4, loss=0.0115]\n"
          ]
        },
        {
          "name": "stdout",
          "output_type": "stream",
          "text": [
            "Epoch [44/50], Loss: 93.0406, Accuracy: 86.42%\n"
          ]
        },
        {
          "name": "stderr",
          "output_type": "stream",
          "text": [
            "Epoch 45/50: 100%|██████████| 254/254 [01:21<00:00,  3.13it/s, accuracy=86.3, loss=0.0115]\n"
          ]
        },
        {
          "name": "stdout",
          "output_type": "stream",
          "text": [
            "Epoch [45/50], Loss: 93.0222, Accuracy: 86.34%\n"
          ]
        },
        {
          "name": "stderr",
          "output_type": "stream",
          "text": [
            "Epoch 46/50: 100%|██████████| 254/254 [01:20<00:00,  3.14it/s, accuracy=86.1, loss=0.0118]\n"
          ]
        },
        {
          "name": "stdout",
          "output_type": "stream",
          "text": [
            "Epoch [46/50], Loss: 95.9811, Accuracy: 86.06%\n"
          ]
        },
        {
          "name": "stderr",
          "output_type": "stream",
          "text": [
            "Epoch 47/50: 100%|██████████| 254/254 [01:21<00:00,  3.12it/s, accuracy=86.6, loss=0.0113]\n"
          ]
        },
        {
          "name": "stdout",
          "output_type": "stream",
          "text": [
            "Epoch [47/50], Loss: 91.2866, Accuracy: 86.59%\n"
          ]
        },
        {
          "name": "stderr",
          "output_type": "stream",
          "text": [
            "Epoch 48/50: 100%|██████████| 254/254 [01:21<00:00,  3.13it/s, accuracy=86.6, loss=0.0114]\n"
          ]
        },
        {
          "name": "stdout",
          "output_type": "stream",
          "text": [
            "Epoch [48/50], Loss: 92.2514, Accuracy: 86.55%\n"
          ]
        },
        {
          "name": "stderr",
          "output_type": "stream",
          "text": [
            "Epoch 49/50: 100%|██████████| 254/254 [01:20<00:00,  3.14it/s, accuracy=87.1, loss=0.0111]\n"
          ]
        },
        {
          "name": "stdout",
          "output_type": "stream",
          "text": [
            "Epoch [49/50], Loss: 90.0865, Accuracy: 87.06%\n"
          ]
        },
        {
          "name": "stderr",
          "output_type": "stream",
          "text": [
            "Epoch 50/50: 100%|██████████| 254/254 [01:20<00:00,  3.14it/s, accuracy=86.2, loss=0.0113]\n"
          ]
        },
        {
          "name": "stdout",
          "output_type": "stream",
          "text": [
            "Epoch [50/50], Loss: 91.5758, Accuracy: 86.21%\n",
            "Fold 5:\n",
            "Training on Fold 5...\n"
          ]
        },
        {
          "name": "stderr",
          "output_type": "stream",
          "text": [
            "Epoch 1/50: 100%|██████████| 254/254 [01:20<00:00,  3.14it/s, accuracy=85.3, loss=0.0121]\n"
          ]
        },
        {
          "name": "stdout",
          "output_type": "stream",
          "text": [
            "Epoch [1/50], Loss: 98.4368, Accuracy: 85.28%\n"
          ]
        },
        {
          "name": "stderr",
          "output_type": "stream",
          "text": [
            "Epoch 2/50: 100%|██████████| 254/254 [01:21<00:00,  3.13it/s, accuracy=86.2, loss=0.0116]\n"
          ]
        },
        {
          "name": "stdout",
          "output_type": "stream",
          "text": [
            "Epoch [2/50], Loss: 93.9471, Accuracy: 86.22%\n"
          ]
        },
        {
          "name": "stderr",
          "output_type": "stream",
          "text": [
            "Epoch 3/50: 100%|██████████| 254/254 [01:20<00:00,  3.14it/s, accuracy=86.1, loss=0.0116]\n"
          ]
        },
        {
          "name": "stdout",
          "output_type": "stream",
          "text": [
            "Epoch [3/50], Loss: 93.7761, Accuracy: 86.12%\n"
          ]
        },
        {
          "name": "stderr",
          "output_type": "stream",
          "text": [
            "Epoch 4/50: 100%|██████████| 254/254 [01:21<00:00,  3.13it/s, accuracy=86.4, loss=0.0114]\n"
          ]
        },
        {
          "name": "stdout",
          "output_type": "stream",
          "text": [
            "Epoch [4/50], Loss: 92.2931, Accuracy: 86.44%\n"
          ]
        },
        {
          "name": "stderr",
          "output_type": "stream",
          "text": [
            "Epoch 5/50: 100%|██████████| 254/254 [01:21<00:00,  3.14it/s, accuracy=86.1, loss=0.0115]\n"
          ]
        },
        {
          "name": "stdout",
          "output_type": "stream",
          "text": [
            "Epoch [5/50], Loss: 93.3071, Accuracy: 86.14%\n"
          ]
        },
        {
          "name": "stderr",
          "output_type": "stream",
          "text": [
            "Epoch 6/50: 100%|██████████| 254/254 [01:20<00:00,  3.15it/s, accuracy=86.5, loss=0.0115]\n"
          ]
        },
        {
          "name": "stdout",
          "output_type": "stream",
          "text": [
            "Epoch [6/50], Loss: 93.0507, Accuracy: 86.46%\n"
          ]
        },
        {
          "name": "stderr",
          "output_type": "stream",
          "text": [
            "Epoch 7/50: 100%|██████████| 254/254 [01:20<00:00,  3.15it/s, accuracy=86.6, loss=0.0113]\n"
          ]
        },
        {
          "name": "stdout",
          "output_type": "stream",
          "text": [
            "Epoch [7/50], Loss: 92.0201, Accuracy: 86.58%\n"
          ]
        },
        {
          "name": "stderr",
          "output_type": "stream",
          "text": [
            "Epoch 8/50: 100%|██████████| 254/254 [01:21<00:00,  3.13it/s, accuracy=86.5, loss=0.0115]\n"
          ]
        },
        {
          "name": "stdout",
          "output_type": "stream",
          "text": [
            "Epoch [8/50], Loss: 93.5142, Accuracy: 86.49%\n"
          ]
        },
        {
          "name": "stderr",
          "output_type": "stream",
          "text": [
            "Epoch 9/50: 100%|██████████| 254/254 [01:20<00:00,  3.15it/s, accuracy=87, loss=0.0109]\n"
          ]
        },
        {
          "name": "stdout",
          "output_type": "stream",
          "text": [
            "Epoch [9/50], Loss: 88.4913, Accuracy: 86.98%\n"
          ]
        },
        {
          "name": "stderr",
          "output_type": "stream",
          "text": [
            "Epoch 10/50: 100%|██████████| 254/254 [01:20<00:00,  3.14it/s, accuracy=86.9, loss=0.0109]\n"
          ]
        },
        {
          "name": "stdout",
          "output_type": "stream",
          "text": [
            "Epoch [10/50], Loss: 88.6689, Accuracy: 86.92%\n"
          ]
        },
        {
          "name": "stderr",
          "output_type": "stream",
          "text": [
            "Epoch 11/50: 100%|██████████| 254/254 [01:20<00:00,  3.14it/s, accuracy=86.9, loss=0.0109]\n"
          ]
        },
        {
          "name": "stdout",
          "output_type": "stream",
          "text": [
            "Epoch [11/50], Loss: 88.7364, Accuracy: 86.88%\n"
          ]
        },
        {
          "name": "stderr",
          "output_type": "stream",
          "text": [
            "Epoch 12/50: 100%|██████████| 254/254 [01:21<00:00,  3.13it/s, accuracy=86.9, loss=0.011]\n"
          ]
        },
        {
          "name": "stdout",
          "output_type": "stream",
          "text": [
            "Epoch [12/50], Loss: 89.2667, Accuracy: 86.86%\n"
          ]
        },
        {
          "name": "stderr",
          "output_type": "stream",
          "text": [
            "Epoch 13/50: 100%|██████████| 254/254 [01:20<00:00,  3.14it/s, accuracy=87.2, loss=0.0107]\n"
          ]
        },
        {
          "name": "stdout",
          "output_type": "stream",
          "text": [
            "Epoch [13/50], Loss: 86.6064, Accuracy: 87.19%\n"
          ]
        },
        {
          "name": "stderr",
          "output_type": "stream",
          "text": [
            "Epoch 14/50: 100%|██████████| 254/254 [01:21<00:00,  3.13it/s, accuracy=86.9, loss=0.0107]\n"
          ]
        },
        {
          "name": "stdout",
          "output_type": "stream",
          "text": [
            "Epoch [14/50], Loss: 87.0952, Accuracy: 86.95%\n"
          ]
        },
        {
          "name": "stderr",
          "output_type": "stream",
          "text": [
            "Epoch 15/50: 100%|██████████| 254/254 [01:21<00:00,  3.12it/s, accuracy=87.2, loss=0.0107]\n"
          ]
        },
        {
          "name": "stdout",
          "output_type": "stream",
          "text": [
            "Epoch [15/50], Loss: 86.7824, Accuracy: 87.15%\n"
          ]
        },
        {
          "name": "stderr",
          "output_type": "stream",
          "text": [
            "Epoch 16/50: 100%|██████████| 254/254 [01:21<00:00,  3.13it/s, accuracy=87.2, loss=0.0108]\n"
          ]
        },
        {
          "name": "stdout",
          "output_type": "stream",
          "text": [
            "Epoch [16/50], Loss: 87.5803, Accuracy: 87.20%\n"
          ]
        },
        {
          "name": "stderr",
          "output_type": "stream",
          "text": [
            "Epoch 17/50: 100%|██████████| 254/254 [01:20<00:00,  3.14it/s, accuracy=86.9, loss=0.011]\n"
          ]
        },
        {
          "name": "stdout",
          "output_type": "stream",
          "text": [
            "Epoch [17/50], Loss: 88.8457, Accuracy: 86.93%\n"
          ]
        },
        {
          "name": "stderr",
          "output_type": "stream",
          "text": [
            "Epoch 18/50: 100%|██████████| 254/254 [01:21<00:00,  3.13it/s, accuracy=87.7, loss=0.0103]\n"
          ]
        },
        {
          "name": "stdout",
          "output_type": "stream",
          "text": [
            "Epoch [18/50], Loss: 83.8428, Accuracy: 87.68%\n"
          ]
        },
        {
          "name": "stderr",
          "output_type": "stream",
          "text": [
            "Epoch 19/50: 100%|██████████| 254/254 [01:20<00:00,  3.14it/s, accuracy=87.5, loss=0.0104]\n"
          ]
        },
        {
          "name": "stdout",
          "output_type": "stream",
          "text": [
            "Epoch [19/50], Loss: 84.0870, Accuracy: 87.55%\n"
          ]
        },
        {
          "name": "stderr",
          "output_type": "stream",
          "text": [
            "Epoch 20/50: 100%|██████████| 254/254 [01:21<00:00,  3.12it/s, accuracy=87.6, loss=0.0106]\n"
          ]
        },
        {
          "name": "stdout",
          "output_type": "stream",
          "text": [
            "Epoch [20/50], Loss: 85.6416, Accuracy: 87.56%\n"
          ]
        },
        {
          "name": "stderr",
          "output_type": "stream",
          "text": [
            "Epoch 21/50: 100%|██████████| 254/254 [01:20<00:00,  3.14it/s, accuracy=87.4, loss=0.0104]\n"
          ]
        },
        {
          "name": "stdout",
          "output_type": "stream",
          "text": [
            "Epoch [21/50], Loss: 84.4379, Accuracy: 87.38%\n"
          ]
        },
        {
          "name": "stderr",
          "output_type": "stream",
          "text": [
            "Epoch 22/50: 100%|██████████| 254/254 [01:21<00:00,  3.12it/s, accuracy=87.5, loss=0.0106]\n"
          ]
        },
        {
          "name": "stdout",
          "output_type": "stream",
          "text": [
            "Epoch [22/50], Loss: 86.1713, Accuracy: 87.48%\n"
          ]
        },
        {
          "name": "stderr",
          "output_type": "stream",
          "text": [
            "Epoch 23/50: 100%|██████████| 254/254 [01:20<00:00,  3.14it/s, accuracy=87.9, loss=0.0102]\n"
          ]
        },
        {
          "name": "stdout",
          "output_type": "stream",
          "text": [
            "Epoch [23/50], Loss: 82.6970, Accuracy: 87.92%\n"
          ]
        },
        {
          "name": "stderr",
          "output_type": "stream",
          "text": [
            "Epoch 24/50: 100%|██████████| 254/254 [01:21<00:00,  3.12it/s, accuracy=88.3, loss=0.01]\n"
          ]
        },
        {
          "name": "stdout",
          "output_type": "stream",
          "text": [
            "Epoch [24/50], Loss: 81.0891, Accuracy: 88.29%\n"
          ]
        },
        {
          "name": "stderr",
          "output_type": "stream",
          "text": [
            "Epoch 25/50: 100%|██████████| 254/254 [01:20<00:00,  3.14it/s, accuracy=87.7, loss=0.0102]\n"
          ]
        },
        {
          "name": "stdout",
          "output_type": "stream",
          "text": [
            "Epoch [25/50], Loss: 82.8240, Accuracy: 87.75%\n"
          ]
        },
        {
          "name": "stderr",
          "output_type": "stream",
          "text": [
            "Epoch 26/50: 100%|██████████| 254/254 [01:20<00:00,  3.14it/s, accuracy=87.6, loss=0.0101]\n"
          ]
        },
        {
          "name": "stdout",
          "output_type": "stream",
          "text": [
            "Epoch [26/50], Loss: 81.7285, Accuracy: 87.64%\n"
          ]
        },
        {
          "name": "stderr",
          "output_type": "stream",
          "text": [
            "Epoch 27/50: 100%|██████████| 254/254 [01:21<00:00,  3.13it/s, accuracy=88.4, loss=0.00995]\n"
          ]
        },
        {
          "name": "stdout",
          "output_type": "stream",
          "text": [
            "Epoch [27/50], Loss: 80.7376, Accuracy: 88.45%\n"
          ]
        },
        {
          "name": "stderr",
          "output_type": "stream",
          "text": [
            "Epoch 28/50: 100%|██████████| 254/254 [01:21<00:00,  3.11it/s, accuracy=88, loss=0.0102]\n"
          ]
        },
        {
          "name": "stdout",
          "output_type": "stream",
          "text": [
            "Epoch [28/50], Loss: 82.9364, Accuracy: 88.02%\n"
          ]
        },
        {
          "name": "stderr",
          "output_type": "stream",
          "text": [
            "Epoch 29/50: 100%|██████████| 254/254 [01:20<00:00,  3.14it/s, accuracy=88, loss=0.00995]\n"
          ]
        },
        {
          "name": "stdout",
          "output_type": "stream",
          "text": [
            "Epoch [29/50], Loss: 80.6879, Accuracy: 87.97%\n"
          ]
        },
        {
          "name": "stderr",
          "output_type": "stream",
          "text": [
            "Epoch 30/50: 100%|██████████| 254/254 [01:21<00:00,  3.13it/s, accuracy=87.7, loss=0.0103]\n"
          ]
        },
        {
          "name": "stdout",
          "output_type": "stream",
          "text": [
            "Epoch [30/50], Loss: 83.8825, Accuracy: 87.71%\n"
          ]
        },
        {
          "name": "stderr",
          "output_type": "stream",
          "text": [
            "Epoch 31/50: 100%|██████████| 254/254 [01:20<00:00,  3.15it/s, accuracy=87.9, loss=0.0102]\n"
          ]
        },
        {
          "name": "stdout",
          "output_type": "stream",
          "text": [
            "Epoch [31/50], Loss: 82.3557, Accuracy: 87.86%\n"
          ]
        },
        {
          "name": "stderr",
          "output_type": "stream",
          "text": [
            "Epoch 32/50: 100%|██████████| 254/254 [01:21<00:00,  3.12it/s, accuracy=88.3, loss=0.00972]\n"
          ]
        },
        {
          "name": "stdout",
          "output_type": "stream",
          "text": [
            "Epoch [32/50], Loss: 78.8442, Accuracy: 88.25%\n"
          ]
        },
        {
          "name": "stderr",
          "output_type": "stream",
          "text": [
            "Epoch 33/50: 100%|██████████| 254/254 [01:21<00:00,  3.13it/s, accuracy=88.5, loss=0.00974]\n"
          ]
        },
        {
          "name": "stdout",
          "output_type": "stream",
          "text": [
            "Epoch [33/50], Loss: 79.0081, Accuracy: 88.50%\n"
          ]
        },
        {
          "name": "stderr",
          "output_type": "stream",
          "text": [
            "Epoch 34/50: 100%|██████████| 254/254 [01:20<00:00,  3.15it/s, accuracy=88.4, loss=0.00948]\n"
          ]
        },
        {
          "name": "stdout",
          "output_type": "stream",
          "text": [
            "Epoch [34/50], Loss: 76.9266, Accuracy: 88.45%\n"
          ]
        },
        {
          "name": "stderr",
          "output_type": "stream",
          "text": [
            "Epoch 35/50: 100%|██████████| 254/254 [01:20<00:00,  3.14it/s, accuracy=87.3, loss=0.0103]\n"
          ]
        },
        {
          "name": "stdout",
          "output_type": "stream",
          "text": [
            "Epoch [35/50], Loss: 83.8905, Accuracy: 87.32%\n"
          ]
        },
        {
          "name": "stderr",
          "output_type": "stream",
          "text": [
            "Epoch 36/50: 100%|██████████| 254/254 [01:21<00:00,  3.12it/s, accuracy=88.4, loss=0.00997]\n"
          ]
        },
        {
          "name": "stdout",
          "output_type": "stream",
          "text": [
            "Epoch [36/50], Loss: 80.9073, Accuracy: 88.45%\n"
          ]
        },
        {
          "name": "stderr",
          "output_type": "stream",
          "text": [
            "Epoch 37/50: 100%|██████████| 254/254 [01:20<00:00,  3.14it/s, accuracy=88.4, loss=0.0096]\n"
          ]
        },
        {
          "name": "stdout",
          "output_type": "stream",
          "text": [
            "Epoch [37/50], Loss: 77.8988, Accuracy: 88.41%\n"
          ]
        },
        {
          "name": "stderr",
          "output_type": "stream",
          "text": [
            "Epoch 38/50: 100%|██████████| 254/254 [01:21<00:00,  3.12it/s, accuracy=88.1, loss=0.01]\n"
          ]
        },
        {
          "name": "stdout",
          "output_type": "stream",
          "text": [
            "Epoch [38/50], Loss: 81.1273, Accuracy: 88.09%\n"
          ]
        },
        {
          "name": "stderr",
          "output_type": "stream",
          "text": [
            "Epoch 39/50: 100%|██████████| 254/254 [01:20<00:00,  3.15it/s, accuracy=89.3, loss=0.00925]\n"
          ]
        },
        {
          "name": "stdout",
          "output_type": "stream",
          "text": [
            "Epoch [39/50], Loss: 74.9982, Accuracy: 89.31%\n"
          ]
        },
        {
          "name": "stderr",
          "output_type": "stream",
          "text": [
            "Epoch 40/50: 100%|██████████| 254/254 [01:20<00:00,  3.14it/s, accuracy=89.3, loss=0.00925]\n"
          ]
        },
        {
          "name": "stdout",
          "output_type": "stream",
          "text": [
            "Epoch [40/50], Loss: 75.0101, Accuracy: 89.35%\n"
          ]
        },
        {
          "name": "stderr",
          "output_type": "stream",
          "text": [
            "Epoch 41/50: 100%|██████████| 254/254 [01:21<00:00,  3.13it/s, accuracy=88.8, loss=0.00952]\n"
          ]
        },
        {
          "name": "stdout",
          "output_type": "stream",
          "text": [
            "Epoch [41/50], Loss: 77.2361, Accuracy: 88.78%\n"
          ]
        },
        {
          "name": "stderr",
          "output_type": "stream",
          "text": [
            "Epoch 42/50: 100%|██████████| 254/254 [01:20<00:00,  3.14it/s, accuracy=89.1, loss=0.0092]\n"
          ]
        },
        {
          "name": "stdout",
          "output_type": "stream",
          "text": [
            "Epoch [42/50], Loss: 74.6592, Accuracy: 89.10%\n"
          ]
        },
        {
          "name": "stderr",
          "output_type": "stream",
          "text": [
            "Epoch 43/50: 100%|██████████| 254/254 [01:21<00:00,  3.13it/s, accuracy=88.6, loss=0.00967]\n"
          ]
        },
        {
          "name": "stdout",
          "output_type": "stream",
          "text": [
            "Epoch [43/50], Loss: 78.4185, Accuracy: 88.65%\n"
          ]
        },
        {
          "name": "stderr",
          "output_type": "stream",
          "text": [
            "Epoch 44/50: 100%|██████████| 254/254 [01:21<00:00,  3.13it/s, accuracy=89.1, loss=0.00924]\n"
          ]
        },
        {
          "name": "stdout",
          "output_type": "stream",
          "text": [
            "Epoch [44/50], Loss: 74.9571, Accuracy: 89.10%\n"
          ]
        },
        {
          "name": "stderr",
          "output_type": "stream",
          "text": [
            "Epoch 45/50: 100%|██████████| 254/254 [01:21<00:00,  3.13it/s, accuracy=88.6, loss=0.00986]\n"
          ]
        },
        {
          "name": "stdout",
          "output_type": "stream",
          "text": [
            "Epoch [45/50], Loss: 79.9812, Accuracy: 88.57%\n"
          ]
        },
        {
          "name": "stderr",
          "output_type": "stream",
          "text": [
            "Epoch 46/50: 100%|██████████| 254/254 [01:20<00:00,  3.14it/s, accuracy=89.4, loss=0.00908]\n"
          ]
        },
        {
          "name": "stdout",
          "output_type": "stream",
          "text": [
            "Epoch [46/50], Loss: 73.6953, Accuracy: 89.41%\n"
          ]
        },
        {
          "name": "stderr",
          "output_type": "stream",
          "text": [
            "Epoch 47/50: 100%|██████████| 254/254 [01:21<00:00,  3.13it/s, accuracy=89.1, loss=0.00918]\n"
          ]
        },
        {
          "name": "stdout",
          "output_type": "stream",
          "text": [
            "Epoch [47/50], Loss: 74.5086, Accuracy: 89.05%\n"
          ]
        },
        {
          "name": "stderr",
          "output_type": "stream",
          "text": [
            "Epoch 48/50: 100%|██████████| 254/254 [01:21<00:00,  3.12it/s, accuracy=88.9, loss=0.00951]\n"
          ]
        },
        {
          "name": "stdout",
          "output_type": "stream",
          "text": [
            "Epoch [48/50], Loss: 77.1646, Accuracy: 88.88%\n"
          ]
        },
        {
          "name": "stderr",
          "output_type": "stream",
          "text": [
            "Epoch 49/50: 100%|██████████| 254/254 [01:21<00:00,  3.13it/s, accuracy=88.9, loss=0.00924]\n"
          ]
        },
        {
          "name": "stdout",
          "output_type": "stream",
          "text": [
            "Epoch [49/50], Loss: 74.9878, Accuracy: 88.91%\n"
          ]
        },
        {
          "name": "stderr",
          "output_type": "stream",
          "text": [
            "Epoch 50/50: 100%|██████████| 254/254 [01:20<00:00,  3.14it/s, accuracy=89.7, loss=0.00854]\n"
          ]
        },
        {
          "name": "stdout",
          "output_type": "stream",
          "text": [
            "Epoch [50/50], Loss: 69.2825, Accuracy: 89.73%\n",
            "Fold 6:\n",
            "Training on Fold 6...\n"
          ]
        },
        {
          "name": "stderr",
          "output_type": "stream",
          "text": [
            "Epoch 1/50: 100%|██████████| 254/254 [01:20<00:00,  3.14it/s, accuracy=88.4, loss=0.00971]\n"
          ]
        },
        {
          "name": "stdout",
          "output_type": "stream",
          "text": [
            "Epoch [1/50], Loss: 78.7273, Accuracy: 88.39%\n"
          ]
        },
        {
          "name": "stderr",
          "output_type": "stream",
          "text": [
            "Epoch 2/50: 100%|██████████| 254/254 [01:21<00:00,  3.12it/s, accuracy=88.4, loss=0.00965]\n"
          ]
        },
        {
          "name": "stdout",
          "output_type": "stream",
          "text": [
            "Epoch [2/50], Loss: 78.2805, Accuracy: 88.40%\n"
          ]
        },
        {
          "name": "stderr",
          "output_type": "stream",
          "text": [
            "Epoch 3/50: 100%|██████████| 254/254 [01:21<00:00,  3.12it/s, accuracy=88.6, loss=0.00945]\n"
          ]
        },
        {
          "name": "stdout",
          "output_type": "stream",
          "text": [
            "Epoch [3/50], Loss: 76.6280, Accuracy: 88.61%\n"
          ]
        },
        {
          "name": "stderr",
          "output_type": "stream",
          "text": [
            "Epoch 4/50: 100%|██████████| 254/254 [01:21<00:00,  3.13it/s, accuracy=89.3, loss=0.00935]\n"
          ]
        },
        {
          "name": "stdout",
          "output_type": "stream",
          "text": [
            "Epoch [4/50], Loss: 75.8221, Accuracy: 89.28%\n"
          ]
        },
        {
          "name": "stderr",
          "output_type": "stream",
          "text": [
            "Epoch 5/50: 100%|██████████| 254/254 [01:21<00:00,  3.12it/s, accuracy=88.8, loss=0.00957]\n"
          ]
        },
        {
          "name": "stdout",
          "output_type": "stream",
          "text": [
            "Epoch [5/50], Loss: 77.5946, Accuracy: 88.76%\n"
          ]
        },
        {
          "name": "stderr",
          "output_type": "stream",
          "text": [
            "Epoch 6/50: 100%|██████████| 254/254 [01:21<00:00,  3.12it/s, accuracy=88.6, loss=0.00973]\n"
          ]
        },
        {
          "name": "stdout",
          "output_type": "stream",
          "text": [
            "Epoch [6/50], Loss: 78.9300, Accuracy: 88.56%\n"
          ]
        },
        {
          "name": "stderr",
          "output_type": "stream",
          "text": [
            "Epoch 7/50: 100%|██████████| 254/254 [01:20<00:00,  3.14it/s, accuracy=89.7, loss=0.00891]\n"
          ]
        },
        {
          "name": "stdout",
          "output_type": "stream",
          "text": [
            "Epoch [7/50], Loss: 72.3046, Accuracy: 89.66%\n"
          ]
        },
        {
          "name": "stderr",
          "output_type": "stream",
          "text": [
            "Epoch 8/50: 100%|██████████| 254/254 [01:21<00:00,  3.10it/s, accuracy=89.9, loss=0.00882]\n"
          ]
        },
        {
          "name": "stdout",
          "output_type": "stream",
          "text": [
            "Epoch [8/50], Loss: 71.5813, Accuracy: 89.94%\n"
          ]
        },
        {
          "name": "stderr",
          "output_type": "stream",
          "text": [
            "Epoch 9/50: 100%|██████████| 254/254 [01:21<00:00,  3.12it/s, accuracy=89.6, loss=0.00867]\n"
          ]
        },
        {
          "name": "stdout",
          "output_type": "stream",
          "text": [
            "Epoch [9/50], Loss: 70.3538, Accuracy: 89.64%\n"
          ]
        },
        {
          "name": "stderr",
          "output_type": "stream",
          "text": [
            "Epoch 10/50: 100%|██████████| 254/254 [01:20<00:00,  3.14it/s, accuracy=88.5, loss=0.00963]\n"
          ]
        },
        {
          "name": "stdout",
          "output_type": "stream",
          "text": [
            "Epoch [10/50], Loss: 78.0787, Accuracy: 88.47%\n"
          ]
        },
        {
          "name": "stderr",
          "output_type": "stream",
          "text": [
            "Epoch 11/50: 100%|██████████| 254/254 [01:20<00:00,  3.14it/s, accuracy=89.5, loss=0.00893]\n"
          ]
        },
        {
          "name": "stdout",
          "output_type": "stream",
          "text": [
            "Epoch [11/50], Loss: 72.4400, Accuracy: 89.51%\n"
          ]
        },
        {
          "name": "stderr",
          "output_type": "stream",
          "text": [
            "Epoch 12/50: 100%|██████████| 254/254 [01:20<00:00,  3.14it/s, accuracy=89.7, loss=0.0087]\n"
          ]
        },
        {
          "name": "stdout",
          "output_type": "stream",
          "text": [
            "Epoch [12/50], Loss: 70.5431, Accuracy: 89.69%\n"
          ]
        },
        {
          "name": "stderr",
          "output_type": "stream",
          "text": [
            "Epoch 13/50: 100%|██████████| 254/254 [01:21<00:00,  3.13it/s, accuracy=90.2, loss=0.0085]\n"
          ]
        },
        {
          "name": "stdout",
          "output_type": "stream",
          "text": [
            "Epoch [13/50], Loss: 68.9272, Accuracy: 90.21%\n"
          ]
        },
        {
          "name": "stderr",
          "output_type": "stream",
          "text": [
            "Epoch 14/50: 100%|██████████| 254/254 [01:20<00:00,  3.15it/s, accuracy=89.5, loss=0.00877]\n"
          ]
        },
        {
          "name": "stdout",
          "output_type": "stream",
          "text": [
            "Epoch [14/50], Loss: 71.1691, Accuracy: 89.46%\n"
          ]
        },
        {
          "name": "stderr",
          "output_type": "stream",
          "text": [
            "Epoch 15/50: 100%|██████████| 254/254 [01:21<00:00,  3.13it/s, accuracy=89.3, loss=0.00902]\n"
          ]
        },
        {
          "name": "stdout",
          "output_type": "stream",
          "text": [
            "Epoch [15/50], Loss: 73.1713, Accuracy: 89.32%\n"
          ]
        },
        {
          "name": "stderr",
          "output_type": "stream",
          "text": [
            "Epoch 16/50: 100%|██████████| 254/254 [01:20<00:00,  3.14it/s, accuracy=90.4, loss=0.00816]\n"
          ]
        },
        {
          "name": "stdout",
          "output_type": "stream",
          "text": [
            "Epoch [16/50], Loss: 66.2123, Accuracy: 90.45%\n"
          ]
        },
        {
          "name": "stderr",
          "output_type": "stream",
          "text": [
            "Epoch 17/50: 100%|██████████| 254/254 [01:20<00:00,  3.15it/s, accuracy=90, loss=0.00835]\n"
          ]
        },
        {
          "name": "stdout",
          "output_type": "stream",
          "text": [
            "Epoch [17/50], Loss: 67.7011, Accuracy: 90.00%\n"
          ]
        },
        {
          "name": "stderr",
          "output_type": "stream",
          "text": [
            "Epoch 18/50: 100%|██████████| 254/254 [01:21<00:00,  3.12it/s, accuracy=89.8, loss=0.00813]\n"
          ]
        },
        {
          "name": "stdout",
          "output_type": "stream",
          "text": [
            "Epoch [18/50], Loss: 65.9347, Accuracy: 89.82%\n"
          ]
        },
        {
          "name": "stderr",
          "output_type": "stream",
          "text": [
            "Epoch 19/50: 100%|██████████| 254/254 [01:20<00:00,  3.14it/s, accuracy=90.1, loss=0.00837]\n"
          ]
        },
        {
          "name": "stdout",
          "output_type": "stream",
          "text": [
            "Epoch [19/50], Loss: 67.8661, Accuracy: 90.06%\n"
          ]
        },
        {
          "name": "stderr",
          "output_type": "stream",
          "text": [
            "Epoch 20/50: 100%|██████████| 254/254 [01:21<00:00,  3.11it/s, accuracy=90.2, loss=0.00818]\n"
          ]
        },
        {
          "name": "stdout",
          "output_type": "stream",
          "text": [
            "Epoch [20/50], Loss: 66.3347, Accuracy: 90.20%\n"
          ]
        },
        {
          "name": "stderr",
          "output_type": "stream",
          "text": [
            "Epoch 21/50: 100%|██████████| 254/254 [01:21<00:00,  3.13it/s, accuracy=89.5, loss=0.00878]\n"
          ]
        },
        {
          "name": "stdout",
          "output_type": "stream",
          "text": [
            "Epoch [21/50], Loss: 71.2492, Accuracy: 89.46%\n"
          ]
        },
        {
          "name": "stderr",
          "output_type": "stream",
          "text": [
            "Epoch 22/50: 100%|██████████| 254/254 [01:21<00:00,  3.12it/s, accuracy=89.8, loss=0.00862]\n"
          ]
        },
        {
          "name": "stdout",
          "output_type": "stream",
          "text": [
            "Epoch [22/50], Loss: 69.9276, Accuracy: 89.83%\n"
          ]
        },
        {
          "name": "stderr",
          "output_type": "stream",
          "text": [
            "Epoch 23/50: 100%|██████████| 254/254 [01:21<00:00,  3.13it/s, accuracy=89.3, loss=0.00911]\n"
          ]
        },
        {
          "name": "stdout",
          "output_type": "stream",
          "text": [
            "Epoch [23/50], Loss: 73.8791, Accuracy: 89.26%\n"
          ]
        },
        {
          "name": "stderr",
          "output_type": "stream",
          "text": [
            "Epoch 24/50: 100%|██████████| 254/254 [01:20<00:00,  3.15it/s, accuracy=90.1, loss=0.0083]\n"
          ]
        },
        {
          "name": "stdout",
          "output_type": "stream",
          "text": [
            "Epoch [24/50], Loss: 67.3505, Accuracy: 90.09%\n"
          ]
        },
        {
          "name": "stderr",
          "output_type": "stream",
          "text": [
            "Epoch 25/50: 100%|██████████| 254/254 [01:20<00:00,  3.14it/s, accuracy=90.9, loss=0.00767]\n"
          ]
        },
        {
          "name": "stdout",
          "output_type": "stream",
          "text": [
            "Epoch [25/50], Loss: 62.2581, Accuracy: 90.88%\n"
          ]
        },
        {
          "name": "stderr",
          "output_type": "stream",
          "text": [
            "Epoch 26/50: 100%|██████████| 254/254 [01:21<00:00,  3.12it/s, accuracy=90.8, loss=0.00753]\n"
          ]
        },
        {
          "name": "stdout",
          "output_type": "stream",
          "text": [
            "Epoch [26/50], Loss: 61.1113, Accuracy: 90.75%\n"
          ]
        },
        {
          "name": "stderr",
          "output_type": "stream",
          "text": [
            "Epoch 27/50: 100%|██████████| 254/254 [01:20<00:00,  3.15it/s, accuracy=90.7, loss=0.00795]\n"
          ]
        },
        {
          "name": "stdout",
          "output_type": "stream",
          "text": [
            "Epoch [27/50], Loss: 64.5016, Accuracy: 90.67%\n"
          ]
        },
        {
          "name": "stderr",
          "output_type": "stream",
          "text": [
            "Epoch 28/50: 100%|██████████| 254/254 [01:21<00:00,  3.12it/s, accuracy=90.8, loss=0.0079]\n"
          ]
        },
        {
          "name": "stdout",
          "output_type": "stream",
          "text": [
            "Epoch [28/50], Loss: 64.0917, Accuracy: 90.80%\n"
          ]
        },
        {
          "name": "stderr",
          "output_type": "stream",
          "text": [
            "Epoch 29/50: 100%|██████████| 254/254 [01:21<00:00,  3.12it/s, accuracy=91.2, loss=0.00764]\n"
          ]
        },
        {
          "name": "stdout",
          "output_type": "stream",
          "text": [
            "Epoch [29/50], Loss: 62.0123, Accuracy: 91.16%\n"
          ]
        },
        {
          "name": "stderr",
          "output_type": "stream",
          "text": [
            "Epoch 30/50: 100%|██████████| 254/254 [01:21<00:00,  3.12it/s, accuracy=90.8, loss=0.00788]\n"
          ]
        },
        {
          "name": "stdout",
          "output_type": "stream",
          "text": [
            "Epoch [30/50], Loss: 63.9403, Accuracy: 90.84%\n"
          ]
        },
        {
          "name": "stderr",
          "output_type": "stream",
          "text": [
            "Epoch 31/50: 100%|██████████| 254/254 [01:21<00:00,  3.13it/s, accuracy=90.1, loss=0.00865]\n"
          ]
        },
        {
          "name": "stdout",
          "output_type": "stream",
          "text": [
            "Epoch [31/50], Loss: 70.1471, Accuracy: 90.14%\n"
          ]
        },
        {
          "name": "stderr",
          "output_type": "stream",
          "text": [
            "Epoch 32/50: 100%|██████████| 254/254 [01:20<00:00,  3.14it/s, accuracy=90.7, loss=0.00782]\n"
          ]
        },
        {
          "name": "stdout",
          "output_type": "stream",
          "text": [
            "Epoch [32/50], Loss: 63.4445, Accuracy: 90.68%\n"
          ]
        },
        {
          "name": "stderr",
          "output_type": "stream",
          "text": [
            "Epoch 33/50: 100%|██████████| 254/254 [01:21<00:00,  3.13it/s, accuracy=90.4, loss=0.00806]\n"
          ]
        },
        {
          "name": "stdout",
          "output_type": "stream",
          "text": [
            "Epoch [33/50], Loss: 65.4216, Accuracy: 90.38%\n"
          ]
        },
        {
          "name": "stderr",
          "output_type": "stream",
          "text": [
            "Epoch 34/50: 100%|██████████| 254/254 [01:20<00:00,  3.15it/s, accuracy=91, loss=0.00764]\n"
          ]
        },
        {
          "name": "stdout",
          "output_type": "stream",
          "text": [
            "Epoch [34/50], Loss: 61.9790, Accuracy: 91.00%\n"
          ]
        },
        {
          "name": "stderr",
          "output_type": "stream",
          "text": [
            "Epoch 35/50: 100%|██████████| 254/254 [01:20<00:00,  3.14it/s, accuracy=91.1, loss=0.00773]\n"
          ]
        },
        {
          "name": "stdout",
          "output_type": "stream",
          "text": [
            "Epoch [35/50], Loss: 62.7268, Accuracy: 91.09%\n"
          ]
        },
        {
          "name": "stderr",
          "output_type": "stream",
          "text": [
            "Epoch 36/50: 100%|██████████| 254/254 [01:20<00:00,  3.14it/s, accuracy=91, loss=0.00753]\n"
          ]
        },
        {
          "name": "stdout",
          "output_type": "stream",
          "text": [
            "Epoch [36/50], Loss: 61.0711, Accuracy: 91.04%\n"
          ]
        },
        {
          "name": "stderr",
          "output_type": "stream",
          "text": [
            "Epoch 37/50: 100%|██████████| 254/254 [01:21<00:00,  3.13it/s, accuracy=91.2, loss=0.00755]\n"
          ]
        },
        {
          "name": "stdout",
          "output_type": "stream",
          "text": [
            "Epoch [37/50], Loss: 61.2112, Accuracy: 91.24%\n"
          ]
        },
        {
          "name": "stderr",
          "output_type": "stream",
          "text": [
            "Epoch 38/50: 100%|██████████| 254/254 [01:20<00:00,  3.14it/s, accuracy=91.1, loss=0.00766]\n"
          ]
        },
        {
          "name": "stdout",
          "output_type": "stream",
          "text": [
            "Epoch [38/50], Loss: 62.1497, Accuracy: 91.10%\n"
          ]
        },
        {
          "name": "stderr",
          "output_type": "stream",
          "text": [
            "Epoch 39/50: 100%|██████████| 254/254 [01:21<00:00,  3.13it/s, accuracy=90.9, loss=0.00775]\n"
          ]
        },
        {
          "name": "stdout",
          "output_type": "stream",
          "text": [
            "Epoch [39/50], Loss: 62.9020, Accuracy: 90.89%\n"
          ]
        },
        {
          "name": "stderr",
          "output_type": "stream",
          "text": [
            "Epoch 40/50: 100%|██████████| 254/254 [01:20<00:00,  3.14it/s, accuracy=91.3, loss=0.00751]\n"
          ]
        },
        {
          "name": "stdout",
          "output_type": "stream",
          "text": [
            "Epoch [40/50], Loss: 60.9600, Accuracy: 91.26%\n"
          ]
        },
        {
          "name": "stderr",
          "output_type": "stream",
          "text": [
            "Epoch 41/50: 100%|██████████| 254/254 [01:20<00:00,  3.14it/s, accuracy=91.8, loss=0.00708]\n"
          ]
        },
        {
          "name": "stdout",
          "output_type": "stream",
          "text": [
            "Epoch [41/50], Loss: 57.3955, Accuracy: 91.77%\n"
          ]
        },
        {
          "name": "stderr",
          "output_type": "stream",
          "text": [
            "Epoch 42/50: 100%|██████████| 254/254 [01:20<00:00,  3.16it/s, accuracy=91.1, loss=0.00752]\n"
          ]
        },
        {
          "name": "stdout",
          "output_type": "stream",
          "text": [
            "Epoch [42/50], Loss: 60.9639, Accuracy: 91.14%\n"
          ]
        },
        {
          "name": "stderr",
          "output_type": "stream",
          "text": [
            "Epoch 43/50: 100%|██████████| 254/254 [01:21<00:00,  3.13it/s, accuracy=91.3, loss=0.00737]\n"
          ]
        },
        {
          "name": "stdout",
          "output_type": "stream",
          "text": [
            "Epoch [43/50], Loss: 59.7526, Accuracy: 91.26%\n"
          ]
        },
        {
          "name": "stderr",
          "output_type": "stream",
          "text": [
            "Epoch 44/50: 100%|██████████| 254/254 [01:21<00:00,  3.13it/s, accuracy=90.5, loss=0.00792]\n"
          ]
        },
        {
          "name": "stdout",
          "output_type": "stream",
          "text": [
            "Epoch [44/50], Loss: 64.2779, Accuracy: 90.54%\n"
          ]
        },
        {
          "name": "stderr",
          "output_type": "stream",
          "text": [
            "Epoch 45/50: 100%|██████████| 254/254 [01:21<00:00,  3.13it/s, accuracy=91.5, loss=0.00743]\n"
          ]
        },
        {
          "name": "stdout",
          "output_type": "stream",
          "text": [
            "Epoch [45/50], Loss: 60.2766, Accuracy: 91.49%\n"
          ]
        },
        {
          "name": "stderr",
          "output_type": "stream",
          "text": [
            "Epoch 46/50: 100%|██████████| 254/254 [01:20<00:00,  3.15it/s, accuracy=91.5, loss=0.00712]\n"
          ]
        },
        {
          "name": "stdout",
          "output_type": "stream",
          "text": [
            "Epoch [46/50], Loss: 57.7633, Accuracy: 91.54%\n"
          ]
        },
        {
          "name": "stderr",
          "output_type": "stream",
          "text": [
            "Epoch 47/50: 100%|██████████| 254/254 [01:20<00:00,  3.15it/s, accuracy=91.5, loss=0.00736]\n"
          ]
        },
        {
          "name": "stdout",
          "output_type": "stream",
          "text": [
            "Epoch [47/50], Loss: 59.7019, Accuracy: 91.47%\n"
          ]
        },
        {
          "name": "stderr",
          "output_type": "stream",
          "text": [
            "Epoch 48/50: 100%|██████████| 254/254 [01:21<00:00,  3.13it/s, accuracy=91.4, loss=0.00727]\n"
          ]
        },
        {
          "name": "stdout",
          "output_type": "stream",
          "text": [
            "Epoch [48/50], Loss: 58.9413, Accuracy: 91.42%\n"
          ]
        },
        {
          "name": "stderr",
          "output_type": "stream",
          "text": [
            "Epoch 49/50: 100%|██████████| 254/254 [01:21<00:00,  3.13it/s, accuracy=90.9, loss=0.0078]\n"
          ]
        },
        {
          "name": "stdout",
          "output_type": "stream",
          "text": [
            "Epoch [49/50], Loss: 63.3063, Accuracy: 90.85%\n"
          ]
        },
        {
          "name": "stderr",
          "output_type": "stream",
          "text": [
            "Epoch 50/50: 100%|██████████| 254/254 [01:20<00:00,  3.16it/s, accuracy=91.7, loss=0.00708]\n"
          ]
        },
        {
          "name": "stdout",
          "output_type": "stream",
          "text": [
            "Epoch [50/50], Loss: 57.4673, Accuracy: 91.69%\n",
            "Fold 7:\n",
            "Training on Fold 7...\n"
          ]
        },
        {
          "name": "stderr",
          "output_type": "stream",
          "text": [
            "Epoch 1/50: 100%|██████████| 254/254 [01:21<00:00,  3.13it/s, accuracy=90.7, loss=0.00764]\n"
          ]
        },
        {
          "name": "stdout",
          "output_type": "stream",
          "text": [
            "Epoch [1/50], Loss: 62.0107, Accuracy: 90.69%\n"
          ]
        },
        {
          "name": "stderr",
          "output_type": "stream",
          "text": [
            "Epoch 2/50: 100%|██████████| 254/254 [01:20<00:00,  3.14it/s, accuracy=91.1, loss=0.00749]\n"
          ]
        },
        {
          "name": "stdout",
          "output_type": "stream",
          "text": [
            "Epoch [2/50], Loss: 60.7652, Accuracy: 91.12%\n"
          ]
        },
        {
          "name": "stderr",
          "output_type": "stream",
          "text": [
            "Epoch 3/50: 100%|██████████| 254/254 [01:21<00:00,  3.13it/s, accuracy=90.5, loss=0.00773]\n"
          ]
        },
        {
          "name": "stdout",
          "output_type": "stream",
          "text": [
            "Epoch [3/50], Loss: 62.6944, Accuracy: 90.53%\n"
          ]
        },
        {
          "name": "stderr",
          "output_type": "stream",
          "text": [
            "Epoch 4/50: 100%|██████████| 254/254 [01:21<00:00,  3.13it/s, accuracy=91, loss=0.00748]\n"
          ]
        },
        {
          "name": "stdout",
          "output_type": "stream",
          "text": [
            "Epoch [4/50], Loss: 60.7101, Accuracy: 90.98%\n"
          ]
        },
        {
          "name": "stderr",
          "output_type": "stream",
          "text": [
            "Epoch 5/50: 100%|██████████| 254/254 [01:21<00:00,  3.14it/s, accuracy=91.9, loss=0.00704]\n"
          ]
        },
        {
          "name": "stdout",
          "output_type": "stream",
          "text": [
            "Epoch [5/50], Loss: 57.0796, Accuracy: 91.85%\n"
          ]
        },
        {
          "name": "stderr",
          "output_type": "stream",
          "text": [
            "Epoch 6/50: 100%|██████████| 254/254 [01:20<00:00,  3.15it/s, accuracy=90.9, loss=0.00766]\n"
          ]
        },
        {
          "name": "stdout",
          "output_type": "stream",
          "text": [
            "Epoch [6/50], Loss: 62.1226, Accuracy: 90.87%\n"
          ]
        },
        {
          "name": "stderr",
          "output_type": "stream",
          "text": [
            "Epoch 7/50: 100%|██████████| 254/254 [01:21<00:00,  3.13it/s, accuracy=91.6, loss=0.007]\n"
          ]
        },
        {
          "name": "stdout",
          "output_type": "stream",
          "text": [
            "Epoch [7/50], Loss: 56.8103, Accuracy: 91.57%\n"
          ]
        },
        {
          "name": "stderr",
          "output_type": "stream",
          "text": [
            "Epoch 8/50: 100%|██████████| 254/254 [01:21<00:00,  3.13it/s, accuracy=91.7, loss=0.00699]\n"
          ]
        },
        {
          "name": "stdout",
          "output_type": "stream",
          "text": [
            "Epoch [8/50], Loss: 56.6661, Accuracy: 91.69%\n"
          ]
        },
        {
          "name": "stderr",
          "output_type": "stream",
          "text": [
            "Epoch 9/50: 100%|██████████| 254/254 [01:21<00:00,  3.13it/s, accuracy=91.9, loss=0.00678]\n"
          ]
        },
        {
          "name": "stdout",
          "output_type": "stream",
          "text": [
            "Epoch [9/50], Loss: 54.9632, Accuracy: 91.85%\n"
          ]
        },
        {
          "name": "stderr",
          "output_type": "stream",
          "text": [
            "Epoch 10/50: 100%|██████████| 254/254 [01:20<00:00,  3.14it/s, accuracy=92.3, loss=0.0067]\n"
          ]
        },
        {
          "name": "stdout",
          "output_type": "stream",
          "text": [
            "Epoch [10/50], Loss: 54.3230, Accuracy: 92.26%\n"
          ]
        },
        {
          "name": "stderr",
          "output_type": "stream",
          "text": [
            "Epoch 11/50: 100%|██████████| 254/254 [01:21<00:00,  3.12it/s, accuracy=91.8, loss=0.00705]\n"
          ]
        },
        {
          "name": "stdout",
          "output_type": "stream",
          "text": [
            "Epoch [11/50], Loss: 57.1666, Accuracy: 91.80%\n"
          ]
        },
        {
          "name": "stderr",
          "output_type": "stream",
          "text": [
            "Epoch 12/50: 100%|██████████| 254/254 [01:21<00:00,  3.13it/s, accuracy=92.2, loss=0.00669]\n"
          ]
        },
        {
          "name": "stdout",
          "output_type": "stream",
          "text": [
            "Epoch [12/50], Loss: 54.2549, Accuracy: 92.16%\n"
          ]
        },
        {
          "name": "stderr",
          "output_type": "stream",
          "text": [
            "Epoch 13/50: 100%|██████████| 254/254 [01:21<00:00,  3.13it/s, accuracy=91, loss=0.00722]\n"
          ]
        },
        {
          "name": "stdout",
          "output_type": "stream",
          "text": [
            "Epoch [13/50], Loss: 58.5966, Accuracy: 90.95%\n"
          ]
        },
        {
          "name": "stderr",
          "output_type": "stream",
          "text": [
            "Epoch 14/50: 100%|██████████| 254/254 [01:20<00:00,  3.14it/s, accuracy=91.8, loss=0.00692]\n"
          ]
        },
        {
          "name": "stdout",
          "output_type": "stream",
          "text": [
            "Epoch [14/50], Loss: 56.1532, Accuracy: 91.80%\n"
          ]
        },
        {
          "name": "stderr",
          "output_type": "stream",
          "text": [
            "Epoch 15/50: 100%|██████████| 254/254 [01:20<00:00,  3.14it/s, accuracy=91.7, loss=0.0068]\n"
          ]
        },
        {
          "name": "stdout",
          "output_type": "stream",
          "text": [
            "Epoch [15/50], Loss: 55.1698, Accuracy: 91.72%\n"
          ]
        },
        {
          "name": "stderr",
          "output_type": "stream",
          "text": [
            "Epoch 16/50: 100%|██████████| 254/254 [01:21<00:00,  3.10it/s, accuracy=92.7, loss=0.00622]\n"
          ]
        },
        {
          "name": "stdout",
          "output_type": "stream",
          "text": [
            "Epoch [16/50], Loss: 50.4916, Accuracy: 92.69%\n"
          ]
        },
        {
          "name": "stderr",
          "output_type": "stream",
          "text": [
            "Epoch 17/50: 100%|██████████| 254/254 [01:21<00:00,  3.13it/s, accuracy=92.3, loss=0.00662]\n"
          ]
        },
        {
          "name": "stdout",
          "output_type": "stream",
          "text": [
            "Epoch [17/50], Loss: 53.7018, Accuracy: 92.30%\n"
          ]
        },
        {
          "name": "stderr",
          "output_type": "stream",
          "text": [
            "Epoch 18/50: 100%|██████████| 254/254 [01:20<00:00,  3.14it/s, accuracy=92.3, loss=0.00663]\n"
          ]
        },
        {
          "name": "stdout",
          "output_type": "stream",
          "text": [
            "Epoch [18/50], Loss: 53.8201, Accuracy: 92.32%\n"
          ]
        },
        {
          "name": "stderr",
          "output_type": "stream",
          "text": [
            "Epoch 19/50: 100%|██████████| 254/254 [01:21<00:00,  3.13it/s, accuracy=91.6, loss=0.00715]\n"
          ]
        },
        {
          "name": "stdout",
          "output_type": "stream",
          "text": [
            "Epoch [19/50], Loss: 58.0263, Accuracy: 91.58%\n"
          ]
        },
        {
          "name": "stderr",
          "output_type": "stream",
          "text": [
            "Epoch 20/50: 100%|██████████| 254/254 [01:21<00:00,  3.11it/s, accuracy=91.8, loss=0.00708]\n"
          ]
        },
        {
          "name": "stdout",
          "output_type": "stream",
          "text": [
            "Epoch [20/50], Loss: 57.4195, Accuracy: 91.80%\n"
          ]
        },
        {
          "name": "stderr",
          "output_type": "stream",
          "text": [
            "Epoch 21/50: 100%|██████████| 254/254 [01:21<00:00,  3.12it/s, accuracy=92.4, loss=0.00657]\n"
          ]
        },
        {
          "name": "stdout",
          "output_type": "stream",
          "text": [
            "Epoch [21/50], Loss: 53.3028, Accuracy: 92.38%\n"
          ]
        },
        {
          "name": "stderr",
          "output_type": "stream",
          "text": [
            "Epoch 22/50: 100%|██████████| 254/254 [01:20<00:00,  3.14it/s, accuracy=92.9, loss=0.0059]\n"
          ]
        },
        {
          "name": "stdout",
          "output_type": "stream",
          "text": [
            "Epoch [22/50], Loss: 47.8302, Accuracy: 92.85%\n"
          ]
        },
        {
          "name": "stderr",
          "output_type": "stream",
          "text": [
            "Epoch 23/50: 100%|██████████| 254/254 [01:20<00:00,  3.15it/s, accuracy=91.7, loss=0.00702]\n"
          ]
        },
        {
          "name": "stdout",
          "output_type": "stream",
          "text": [
            "Epoch [23/50], Loss: 56.9365, Accuracy: 91.70%\n"
          ]
        },
        {
          "name": "stderr",
          "output_type": "stream",
          "text": [
            "Epoch 24/50: 100%|██████████| 254/254 [01:20<00:00,  3.14it/s, accuracy=92.3, loss=0.00649]\n"
          ]
        },
        {
          "name": "stdout",
          "output_type": "stream",
          "text": [
            "Epoch [24/50], Loss: 52.6219, Accuracy: 92.31%\n"
          ]
        },
        {
          "name": "stderr",
          "output_type": "stream",
          "text": [
            "Epoch 25/50: 100%|██████████| 254/254 [01:21<00:00,  3.14it/s, accuracy=92.8, loss=0.00615]\n"
          ]
        },
        {
          "name": "stdout",
          "output_type": "stream",
          "text": [
            "Epoch [25/50], Loss: 49.9038, Accuracy: 92.76%\n"
          ]
        },
        {
          "name": "stderr",
          "output_type": "stream",
          "text": [
            "Epoch 26/50: 100%|██████████| 254/254 [01:21<00:00,  3.12it/s, accuracy=92.8, loss=0.00599]\n"
          ]
        },
        {
          "name": "stdout",
          "output_type": "stream",
          "text": [
            "Epoch [26/50], Loss: 48.6148, Accuracy: 92.81%\n"
          ]
        },
        {
          "name": "stderr",
          "output_type": "stream",
          "text": [
            "Epoch 27/50: 100%|██████████| 254/254 [01:21<00:00,  3.13it/s, accuracy=93.4, loss=0.00575]\n"
          ]
        },
        {
          "name": "stdout",
          "output_type": "stream",
          "text": [
            "Epoch [27/50], Loss: 46.6442, Accuracy: 93.42%\n"
          ]
        },
        {
          "name": "stderr",
          "output_type": "stream",
          "text": [
            "Epoch 28/50: 100%|██████████| 254/254 [01:20<00:00,  3.14it/s, accuracy=92.5, loss=0.00624]\n"
          ]
        },
        {
          "name": "stdout",
          "output_type": "stream",
          "text": [
            "Epoch [28/50], Loss: 50.6017, Accuracy: 92.54%\n"
          ]
        },
        {
          "name": "stderr",
          "output_type": "stream",
          "text": [
            "Epoch 29/50: 100%|██████████| 254/254 [01:20<00:00,  3.14it/s, accuracy=92.2, loss=0.00645]\n"
          ]
        },
        {
          "name": "stdout",
          "output_type": "stream",
          "text": [
            "Epoch [29/50], Loss: 52.3049, Accuracy: 92.21%\n"
          ]
        },
        {
          "name": "stderr",
          "output_type": "stream",
          "text": [
            "Epoch 30/50: 100%|██████████| 254/254 [01:21<00:00,  3.13it/s, accuracy=92.8, loss=0.0063]\n"
          ]
        },
        {
          "name": "stdout",
          "output_type": "stream",
          "text": [
            "Epoch [30/50], Loss: 51.1246, Accuracy: 92.80%\n"
          ]
        },
        {
          "name": "stderr",
          "output_type": "stream",
          "text": [
            "Epoch 31/50: 100%|██████████| 254/254 [01:20<00:00,  3.15it/s, accuracy=92.8, loss=0.00619]\n"
          ]
        },
        {
          "name": "stdout",
          "output_type": "stream",
          "text": [
            "Epoch [31/50], Loss: 50.1948, Accuracy: 92.84%\n"
          ]
        },
        {
          "name": "stderr",
          "output_type": "stream",
          "text": [
            "Epoch 32/50: 100%|██████████| 254/254 [01:21<00:00,  3.12it/s, accuracy=93, loss=0.00599]\n"
          ]
        },
        {
          "name": "stdout",
          "output_type": "stream",
          "text": [
            "Epoch [32/50], Loss: 48.6153, Accuracy: 93.02%\n"
          ]
        },
        {
          "name": "stderr",
          "output_type": "stream",
          "text": [
            "Epoch 33/50: 100%|██████████| 254/254 [01:21<00:00,  3.13it/s, accuracy=93, loss=0.00579]\n"
          ]
        },
        {
          "name": "stdout",
          "output_type": "stream",
          "text": [
            "Epoch [33/50], Loss: 46.9668, Accuracy: 92.99%\n"
          ]
        },
        {
          "name": "stderr",
          "output_type": "stream",
          "text": [
            "Epoch 34/50: 100%|██████████| 254/254 [01:20<00:00,  3.15it/s, accuracy=93, loss=0.00594]\n"
          ]
        },
        {
          "name": "stdout",
          "output_type": "stream",
          "text": [
            "Epoch [34/50], Loss: 48.1507, Accuracy: 92.96%\n"
          ]
        },
        {
          "name": "stderr",
          "output_type": "stream",
          "text": [
            "Epoch 35/50: 100%|██████████| 254/254 [01:21<00:00,  3.13it/s, accuracy=93.2, loss=0.00567]\n"
          ]
        },
        {
          "name": "stdout",
          "output_type": "stream",
          "text": [
            "Epoch [35/50], Loss: 46.0286, Accuracy: 93.24%\n"
          ]
        },
        {
          "name": "stderr",
          "output_type": "stream",
          "text": [
            "Epoch 36/50: 100%|██████████| 254/254 [01:21<00:00,  3.13it/s, accuracy=93.6, loss=0.00546]\n"
          ]
        },
        {
          "name": "stdout",
          "output_type": "stream",
          "text": [
            "Epoch [36/50], Loss: 44.3121, Accuracy: 93.57%\n"
          ]
        },
        {
          "name": "stderr",
          "output_type": "stream",
          "text": [
            "Epoch 37/50: 100%|██████████| 254/254 [01:21<00:00,  3.11it/s, accuracy=93.2, loss=0.00586]\n"
          ]
        },
        {
          "name": "stdout",
          "output_type": "stream",
          "text": [
            "Epoch [37/50], Loss: 47.5318, Accuracy: 93.16%\n"
          ]
        },
        {
          "name": "stderr",
          "output_type": "stream",
          "text": [
            "Epoch 38/50: 100%|██████████| 254/254 [01:21<00:00,  3.12it/s, accuracy=92.5, loss=0.00647]\n"
          ]
        },
        {
          "name": "stdout",
          "output_type": "stream",
          "text": [
            "Epoch [38/50], Loss: 52.4649, Accuracy: 92.49%\n"
          ]
        },
        {
          "name": "stderr",
          "output_type": "stream",
          "text": [
            "Epoch 39/50: 100%|██████████| 254/254 [01:21<00:00,  3.13it/s, accuracy=92.9, loss=0.00602]\n"
          ]
        },
        {
          "name": "stdout",
          "output_type": "stream",
          "text": [
            "Epoch [39/50], Loss: 48.8668, Accuracy: 92.85%\n"
          ]
        },
        {
          "name": "stderr",
          "output_type": "stream",
          "text": [
            "Epoch 40/50: 100%|██████████| 254/254 [01:21<00:00,  3.13it/s, accuracy=93.2, loss=0.00568]\n"
          ]
        },
        {
          "name": "stdout",
          "output_type": "stream",
          "text": [
            "Epoch [40/50], Loss: 46.0707, Accuracy: 93.24%\n"
          ]
        },
        {
          "name": "stderr",
          "output_type": "stream",
          "text": [
            "Epoch 41/50: 100%|██████████| 254/254 [01:21<00:00,  3.12it/s, accuracy=93.4, loss=0.00576]\n"
          ]
        },
        {
          "name": "stdout",
          "output_type": "stream",
          "text": [
            "Epoch [41/50], Loss: 46.6910, Accuracy: 93.42%\n"
          ]
        },
        {
          "name": "stderr",
          "output_type": "stream",
          "text": [
            "Epoch 42/50: 100%|██████████| 254/254 [01:21<00:00,  3.12it/s, accuracy=93, loss=0.00584]\n"
          ]
        },
        {
          "name": "stdout",
          "output_type": "stream",
          "text": [
            "Epoch [42/50], Loss: 47.3754, Accuracy: 92.96%\n"
          ]
        },
        {
          "name": "stderr",
          "output_type": "stream",
          "text": [
            "Epoch 43/50: 100%|██████████| 254/254 [01:20<00:00,  3.15it/s, accuracy=93.6, loss=0.00556]\n"
          ]
        },
        {
          "name": "stdout",
          "output_type": "stream",
          "text": [
            "Epoch [43/50], Loss: 45.0705, Accuracy: 93.59%\n"
          ]
        },
        {
          "name": "stderr",
          "output_type": "stream",
          "text": [
            "Epoch 44/50: 100%|██████████| 254/254 [01:20<00:00,  3.16it/s, accuracy=93, loss=0.00577]\n"
          ]
        },
        {
          "name": "stdout",
          "output_type": "stream",
          "text": [
            "Epoch [44/50], Loss: 46.8095, Accuracy: 93.02%\n"
          ]
        },
        {
          "name": "stderr",
          "output_type": "stream",
          "text": [
            "Epoch 45/50: 100%|██████████| 254/254 [01:21<00:00,  3.13it/s, accuracy=93.5, loss=0.0056]\n"
          ]
        },
        {
          "name": "stdout",
          "output_type": "stream",
          "text": [
            "Epoch [45/50], Loss: 45.4102, Accuracy: 93.50%\n"
          ]
        },
        {
          "name": "stderr",
          "output_type": "stream",
          "text": [
            "Epoch 46/50: 100%|██████████| 254/254 [01:21<00:00,  3.12it/s, accuracy=93.4, loss=0.00539]\n"
          ]
        },
        {
          "name": "stdout",
          "output_type": "stream",
          "text": [
            "Epoch [46/50], Loss: 43.7198, Accuracy: 93.42%\n"
          ]
        },
        {
          "name": "stderr",
          "output_type": "stream",
          "text": [
            "Epoch 47/50: 100%|██████████| 254/254 [01:21<00:00,  3.13it/s, accuracy=93.8, loss=0.00516]\n"
          ]
        },
        {
          "name": "stdout",
          "output_type": "stream",
          "text": [
            "Epoch [47/50], Loss: 41.8642, Accuracy: 93.85%\n"
          ]
        },
        {
          "name": "stderr",
          "output_type": "stream",
          "text": [
            "Epoch 48/50: 100%|██████████| 254/254 [01:20<00:00,  3.14it/s, accuracy=94, loss=0.00488]\n"
          ]
        },
        {
          "name": "stdout",
          "output_type": "stream",
          "text": [
            "Epoch [48/50], Loss: 39.5553, Accuracy: 94.01%\n"
          ]
        },
        {
          "name": "stderr",
          "output_type": "stream",
          "text": [
            "Epoch 49/50: 100%|██████████| 254/254 [01:21<00:00,  3.13it/s, accuracy=93.4, loss=0.00567]\n"
          ]
        },
        {
          "name": "stdout",
          "output_type": "stream",
          "text": [
            "Epoch [49/50], Loss: 45.9709, Accuracy: 93.36%\n"
          ]
        },
        {
          "name": "stderr",
          "output_type": "stream",
          "text": [
            "Epoch 50/50: 100%|██████████| 254/254 [01:21<00:00,  3.11it/s, accuracy=93.8, loss=0.00509]\n"
          ]
        },
        {
          "name": "stdout",
          "output_type": "stream",
          "text": [
            "Epoch [50/50], Loss: 41.3232, Accuracy: 93.76%\n",
            "Fold 8:\n",
            "Training on Fold 8...\n"
          ]
        },
        {
          "name": "stderr",
          "output_type": "stream",
          "text": [
            "Epoch 1/50: 100%|██████████| 254/254 [01:21<00:00,  3.13it/s, accuracy=93.4, loss=0.00608]\n"
          ]
        },
        {
          "name": "stdout",
          "output_type": "stream",
          "text": [
            "Epoch [1/50], Loss: 49.3596, Accuracy: 93.36%\n"
          ]
        },
        {
          "name": "stderr",
          "output_type": "stream",
          "text": [
            "Epoch 2/50: 100%|██████████| 254/254 [01:21<00:00,  3.12it/s, accuracy=94, loss=0.00557]\n"
          ]
        },
        {
          "name": "stdout",
          "output_type": "stream",
          "text": [
            "Epoch [2/50], Loss: 45.1563, Accuracy: 94.00%\n"
          ]
        },
        {
          "name": "stderr",
          "output_type": "stream",
          "text": [
            "Epoch 3/50: 100%|██████████| 254/254 [01:20<00:00,  3.14it/s, accuracy=93, loss=0.00587]\n"
          ]
        },
        {
          "name": "stdout",
          "output_type": "stream",
          "text": [
            "Epoch [3/50], Loss: 47.5995, Accuracy: 93.05%\n"
          ]
        },
        {
          "name": "stderr",
          "output_type": "stream",
          "text": [
            "Epoch 4/50: 100%|██████████| 254/254 [01:21<00:00,  3.13it/s, accuracy=94.1, loss=0.00524]\n"
          ]
        },
        {
          "name": "stdout",
          "output_type": "stream",
          "text": [
            "Epoch [4/50], Loss: 42.5245, Accuracy: 94.11%\n"
          ]
        },
        {
          "name": "stderr",
          "output_type": "stream",
          "text": [
            "Epoch 5/50: 100%|██████████| 254/254 [01:21<00:00,  3.12it/s, accuracy=93.5, loss=0.00553]\n"
          ]
        },
        {
          "name": "stdout",
          "output_type": "stream",
          "text": [
            "Epoch [5/50], Loss: 44.8832, Accuracy: 93.47%\n"
          ]
        },
        {
          "name": "stderr",
          "output_type": "stream",
          "text": [
            "Epoch 6/50: 100%|██████████| 254/254 [01:20<00:00,  3.14it/s, accuracy=93.7, loss=0.00549]\n"
          ]
        },
        {
          "name": "stdout",
          "output_type": "stream",
          "text": [
            "Epoch [6/50], Loss: 44.5308, Accuracy: 93.73%\n"
          ]
        },
        {
          "name": "stderr",
          "output_type": "stream",
          "text": [
            "Epoch 7/50: 100%|██████████| 254/254 [01:21<00:00,  3.12it/s, accuracy=94.1, loss=0.00509]\n"
          ]
        },
        {
          "name": "stdout",
          "output_type": "stream",
          "text": [
            "Epoch [7/50], Loss: 41.2870, Accuracy: 94.14%\n"
          ]
        },
        {
          "name": "stderr",
          "output_type": "stream",
          "text": [
            "Epoch 8/50: 100%|██████████| 254/254 [01:20<00:00,  3.15it/s, accuracy=93.1, loss=0.00571]\n"
          ]
        },
        {
          "name": "stdout",
          "output_type": "stream",
          "text": [
            "Epoch [8/50], Loss: 46.2864, Accuracy: 93.13%\n"
          ]
        },
        {
          "name": "stderr",
          "output_type": "stream",
          "text": [
            "Epoch 9/50: 100%|██████████| 254/254 [01:21<00:00,  3.14it/s, accuracy=93.8, loss=0.00538]\n"
          ]
        },
        {
          "name": "stdout",
          "output_type": "stream",
          "text": [
            "Epoch [9/50], Loss: 43.6049, Accuracy: 93.79%\n"
          ]
        },
        {
          "name": "stderr",
          "output_type": "stream",
          "text": [
            "Epoch 10/50: 100%|██████████| 254/254 [01:21<00:00,  3.12it/s, accuracy=94.4, loss=0.00489]\n"
          ]
        },
        {
          "name": "stdout",
          "output_type": "stream",
          "text": [
            "Epoch [10/50], Loss: 39.6570, Accuracy: 94.39%\n"
          ]
        },
        {
          "name": "stderr",
          "output_type": "stream",
          "text": [
            "Epoch 11/50: 100%|██████████| 254/254 [01:21<00:00,  3.13it/s, accuracy=94.5, loss=0.00474]\n"
          ]
        },
        {
          "name": "stdout",
          "output_type": "stream",
          "text": [
            "Epoch [11/50], Loss: 38.4527, Accuracy: 94.50%\n"
          ]
        },
        {
          "name": "stderr",
          "output_type": "stream",
          "text": [
            "Epoch 12/50: 100%|██████████| 254/254 [01:20<00:00,  3.14it/s, accuracy=93.6, loss=0.00548]\n"
          ]
        },
        {
          "name": "stdout",
          "output_type": "stream",
          "text": [
            "Epoch [12/50], Loss: 44.4544, Accuracy: 93.59%\n"
          ]
        },
        {
          "name": "stderr",
          "output_type": "stream",
          "text": [
            "Epoch 13/50: 100%|██████████| 254/254 [01:20<00:00,  3.16it/s, accuracy=93.7, loss=0.00537]\n"
          ]
        },
        {
          "name": "stdout",
          "output_type": "stream",
          "text": [
            "Epoch [13/50], Loss: 43.5334, Accuracy: 93.66%\n"
          ]
        },
        {
          "name": "stderr",
          "output_type": "stream",
          "text": [
            "Epoch 14/50: 100%|██████████| 254/254 [01:20<00:00,  3.15it/s, accuracy=93.8, loss=0.00523]\n"
          ]
        },
        {
          "name": "stdout",
          "output_type": "stream",
          "text": [
            "Epoch [14/50], Loss: 42.4151, Accuracy: 93.79%\n"
          ]
        },
        {
          "name": "stderr",
          "output_type": "stream",
          "text": [
            "Epoch 15/50: 100%|██████████| 254/254 [01:20<00:00,  3.15it/s, accuracy=94.2, loss=0.00522]\n"
          ]
        },
        {
          "name": "stdout",
          "output_type": "stream",
          "text": [
            "Epoch [15/50], Loss: 42.3360, Accuracy: 94.19%\n"
          ]
        },
        {
          "name": "stderr",
          "output_type": "stream",
          "text": [
            "Epoch 16/50: 100%|██████████| 254/254 [01:20<00:00,  3.14it/s, accuracy=94, loss=0.00531]\n"
          ]
        },
        {
          "name": "stdout",
          "output_type": "stream",
          "text": [
            "Epoch [16/50], Loss: 43.0871, Accuracy: 94.00%\n"
          ]
        },
        {
          "name": "stderr",
          "output_type": "stream",
          "text": [
            "Epoch 17/50: 100%|██████████| 254/254 [01:21<00:00,  3.13it/s, accuracy=92.8, loss=0.00639]\n"
          ]
        },
        {
          "name": "stdout",
          "output_type": "stream",
          "text": [
            "Epoch [17/50], Loss: 51.8045, Accuracy: 92.84%\n"
          ]
        },
        {
          "name": "stderr",
          "output_type": "stream",
          "text": [
            "Epoch 18/50: 100%|██████████| 254/254 [01:20<00:00,  3.14it/s, accuracy=93.4, loss=0.00571]\n"
          ]
        },
        {
          "name": "stdout",
          "output_type": "stream",
          "text": [
            "Epoch [18/50], Loss: 46.3045, Accuracy: 93.42%\n"
          ]
        },
        {
          "name": "stderr",
          "output_type": "stream",
          "text": [
            "Epoch 19/50: 100%|██████████| 254/254 [01:20<00:00,  3.15it/s, accuracy=94.3, loss=0.00489]\n"
          ]
        },
        {
          "name": "stdout",
          "output_type": "stream",
          "text": [
            "Epoch [19/50], Loss: 39.6646, Accuracy: 94.33%\n"
          ]
        },
        {
          "name": "stderr",
          "output_type": "stream",
          "text": [
            "Epoch 20/50: 100%|██████████| 254/254 [01:20<00:00,  3.14it/s, accuracy=94.4, loss=0.00483]\n"
          ]
        },
        {
          "name": "stdout",
          "output_type": "stream",
          "text": [
            "Epoch [20/50], Loss: 39.1658, Accuracy: 94.35%\n"
          ]
        },
        {
          "name": "stderr",
          "output_type": "stream",
          "text": [
            "Epoch 21/50: 100%|██████████| 254/254 [01:20<00:00,  3.16it/s, accuracy=94.5, loss=0.00465]\n"
          ]
        },
        {
          "name": "stdout",
          "output_type": "stream",
          "text": [
            "Epoch [21/50], Loss: 37.7568, Accuracy: 94.53%\n"
          ]
        },
        {
          "name": "stderr",
          "output_type": "stream",
          "text": [
            "Epoch 22/50: 100%|██████████| 254/254 [01:20<00:00,  3.15it/s, accuracy=94.1, loss=0.00497]\n"
          ]
        },
        {
          "name": "stdout",
          "output_type": "stream",
          "text": [
            "Epoch [22/50], Loss: 40.3262, Accuracy: 94.10%\n"
          ]
        },
        {
          "name": "stderr",
          "output_type": "stream",
          "text": [
            "Epoch 23/50: 100%|██████████| 254/254 [01:21<00:00,  3.13it/s, accuracy=94.1, loss=0.00505]\n"
          ]
        },
        {
          "name": "stdout",
          "output_type": "stream",
          "text": [
            "Epoch [23/50], Loss: 40.9324, Accuracy: 94.13%\n"
          ]
        },
        {
          "name": "stderr",
          "output_type": "stream",
          "text": [
            "Epoch 24/50: 100%|██████████| 254/254 [01:21<00:00,  3.13it/s, accuracy=93.6, loss=0.00549]\n"
          ]
        },
        {
          "name": "stdout",
          "output_type": "stream",
          "text": [
            "Epoch [24/50], Loss: 44.5384, Accuracy: 93.61%\n"
          ]
        },
        {
          "name": "stderr",
          "output_type": "stream",
          "text": [
            "Epoch 25/50: 100%|██████████| 254/254 [01:21<00:00,  3.12it/s, accuracy=94.8, loss=0.00444]\n"
          ]
        },
        {
          "name": "stdout",
          "output_type": "stream",
          "text": [
            "Epoch [25/50], Loss: 36.0389, Accuracy: 94.79%\n"
          ]
        },
        {
          "name": "stderr",
          "output_type": "stream",
          "text": [
            "Epoch 26/50: 100%|██████████| 254/254 [01:20<00:00,  3.14it/s, accuracy=94.7, loss=0.00459]\n"
          ]
        },
        {
          "name": "stdout",
          "output_type": "stream",
          "text": [
            "Epoch [26/50], Loss: 37.2714, Accuracy: 94.74%\n"
          ]
        },
        {
          "name": "stderr",
          "output_type": "stream",
          "text": [
            "Epoch 27/50: 100%|██████████| 254/254 [01:21<00:00,  3.12it/s, accuracy=94.1, loss=0.00507]\n"
          ]
        },
        {
          "name": "stdout",
          "output_type": "stream",
          "text": [
            "Epoch [27/50], Loss: 41.1239, Accuracy: 94.13%\n"
          ]
        },
        {
          "name": "stderr",
          "output_type": "stream",
          "text": [
            "Epoch 28/50: 100%|██████████| 254/254 [01:20<00:00,  3.15it/s, accuracy=94.1, loss=0.00531]\n"
          ]
        },
        {
          "name": "stdout",
          "output_type": "stream",
          "text": [
            "Epoch [28/50], Loss: 43.0387, Accuracy: 94.11%\n"
          ]
        },
        {
          "name": "stderr",
          "output_type": "stream",
          "text": [
            "Epoch 29/50: 100%|██████████| 254/254 [01:20<00:00,  3.14it/s, accuracy=94.2, loss=0.00501]\n"
          ]
        },
        {
          "name": "stdout",
          "output_type": "stream",
          "text": [
            "Epoch [29/50], Loss: 40.6645, Accuracy: 94.19%\n"
          ]
        },
        {
          "name": "stderr",
          "output_type": "stream",
          "text": [
            "Epoch 30/50: 100%|██████████| 254/254 [01:20<00:00,  3.14it/s, accuracy=94.8, loss=0.00435]\n"
          ]
        },
        {
          "name": "stdout",
          "output_type": "stream",
          "text": [
            "Epoch [30/50], Loss: 35.2548, Accuracy: 94.77%\n"
          ]
        },
        {
          "name": "stderr",
          "output_type": "stream",
          "text": [
            "Epoch 31/50: 100%|██████████| 254/254 [01:20<00:00,  3.15it/s, accuracy=93.8, loss=0.00521]\n"
          ]
        },
        {
          "name": "stdout",
          "output_type": "stream",
          "text": [
            "Epoch [31/50], Loss: 42.2726, Accuracy: 93.76%\n"
          ]
        },
        {
          "name": "stderr",
          "output_type": "stream",
          "text": [
            "Epoch 32/50: 100%|██████████| 254/254 [01:21<00:00,  3.13it/s, accuracy=94.8, loss=0.00456]\n"
          ]
        },
        {
          "name": "stdout",
          "output_type": "stream",
          "text": [
            "Epoch [32/50], Loss: 36.9510, Accuracy: 94.77%\n"
          ]
        },
        {
          "name": "stderr",
          "output_type": "stream",
          "text": [
            "Epoch 33/50: 100%|██████████| 254/254 [01:20<00:00,  3.15it/s, accuracy=94.6, loss=0.0047]\n"
          ]
        },
        {
          "name": "stdout",
          "output_type": "stream",
          "text": [
            "Epoch [33/50], Loss: 38.1381, Accuracy: 94.64%\n"
          ]
        },
        {
          "name": "stderr",
          "output_type": "stream",
          "text": [
            "Epoch 34/50: 100%|██████████| 254/254 [01:21<00:00,  3.13it/s, accuracy=94.3, loss=0.00492]\n"
          ]
        },
        {
          "name": "stdout",
          "output_type": "stream",
          "text": [
            "Epoch [34/50], Loss: 39.9242, Accuracy: 94.32%\n"
          ]
        },
        {
          "name": "stderr",
          "output_type": "stream",
          "text": [
            "Epoch 35/50: 100%|██████████| 254/254 [01:21<00:00,  3.12it/s, accuracy=94.2, loss=0.00497]\n"
          ]
        },
        {
          "name": "stdout",
          "output_type": "stream",
          "text": [
            "Epoch [35/50], Loss: 40.3210, Accuracy: 94.22%\n"
          ]
        },
        {
          "name": "stderr",
          "output_type": "stream",
          "text": [
            "Epoch 36/50: 100%|██████████| 254/254 [01:20<00:00,  3.15it/s, accuracy=94.3, loss=0.00499]\n"
          ]
        },
        {
          "name": "stdout",
          "output_type": "stream",
          "text": [
            "Epoch [36/50], Loss: 40.4799, Accuracy: 94.26%\n"
          ]
        },
        {
          "name": "stderr",
          "output_type": "stream",
          "text": [
            "Epoch 37/50: 100%|██████████| 254/254 [01:20<00:00,  3.14it/s, accuracy=94, loss=0.00492]\n"
          ]
        },
        {
          "name": "stdout",
          "output_type": "stream",
          "text": [
            "Epoch [37/50], Loss: 39.8807, Accuracy: 94.00%\n"
          ]
        },
        {
          "name": "stderr",
          "output_type": "stream",
          "text": [
            "Epoch 38/50: 100%|██████████| 254/254 [01:20<00:00,  3.14it/s, accuracy=95.1, loss=0.00437]\n"
          ]
        },
        {
          "name": "stdout",
          "output_type": "stream",
          "text": [
            "Epoch [38/50], Loss: 35.4118, Accuracy: 95.14%\n"
          ]
        },
        {
          "name": "stderr",
          "output_type": "stream",
          "text": [
            "Epoch 39/50: 100%|██████████| 254/254 [01:21<00:00,  3.13it/s, accuracy=95.3, loss=0.00415]\n"
          ]
        },
        {
          "name": "stdout",
          "output_type": "stream",
          "text": [
            "Epoch [39/50], Loss: 33.6805, Accuracy: 95.32%\n"
          ]
        },
        {
          "name": "stderr",
          "output_type": "stream",
          "text": [
            "Epoch 40/50: 100%|██████████| 254/254 [01:20<00:00,  3.15it/s, accuracy=95.1, loss=0.00417]\n"
          ]
        },
        {
          "name": "stdout",
          "output_type": "stream",
          "text": [
            "Epoch [40/50], Loss: 33.8646, Accuracy: 95.13%\n"
          ]
        },
        {
          "name": "stderr",
          "output_type": "stream",
          "text": [
            "Epoch 41/50: 100%|██████████| 254/254 [01:20<00:00,  3.15it/s, accuracy=95.3, loss=0.00412]\n"
          ]
        },
        {
          "name": "stdout",
          "output_type": "stream",
          "text": [
            "Epoch [41/50], Loss: 33.3925, Accuracy: 95.25%\n"
          ]
        },
        {
          "name": "stderr",
          "output_type": "stream",
          "text": [
            "Epoch 42/50: 100%|██████████| 254/254 [01:20<00:00,  3.15it/s, accuracy=95.1, loss=0.00414]\n"
          ]
        },
        {
          "name": "stdout",
          "output_type": "stream",
          "text": [
            "Epoch [42/50], Loss: 33.6218, Accuracy: 95.13%\n"
          ]
        },
        {
          "name": "stderr",
          "output_type": "stream",
          "text": [
            "Epoch 43/50: 100%|██████████| 254/254 [01:20<00:00,  3.14it/s, accuracy=95.2, loss=0.00411]\n"
          ]
        },
        {
          "name": "stdout",
          "output_type": "stream",
          "text": [
            "Epoch [43/50], Loss: 33.3799, Accuracy: 95.16%\n"
          ]
        },
        {
          "name": "stderr",
          "output_type": "stream",
          "text": [
            "Epoch 44/50: 100%|██████████| 254/254 [01:20<00:00,  3.17it/s, accuracy=94, loss=0.00487]\n"
          ]
        },
        {
          "name": "stdout",
          "output_type": "stream",
          "text": [
            "Epoch [44/50], Loss: 39.4886, Accuracy: 94.01%\n"
          ]
        },
        {
          "name": "stderr",
          "output_type": "stream",
          "text": [
            "Epoch 45/50: 100%|██████████| 254/254 [01:20<00:00,  3.14it/s, accuracy=94.8, loss=0.00456]\n"
          ]
        },
        {
          "name": "stdout",
          "output_type": "stream",
          "text": [
            "Epoch [45/50], Loss: 37.0290, Accuracy: 94.81%\n"
          ]
        },
        {
          "name": "stderr",
          "output_type": "stream",
          "text": [
            "Epoch 46/50: 100%|██████████| 254/254 [01:21<00:00,  3.13it/s, accuracy=95.4, loss=0.00417]\n"
          ]
        },
        {
          "name": "stdout",
          "output_type": "stream",
          "text": [
            "Epoch [46/50], Loss: 33.8628, Accuracy: 95.38%\n"
          ]
        },
        {
          "name": "stderr",
          "output_type": "stream",
          "text": [
            "Epoch 47/50: 100%|██████████| 254/254 [01:20<00:00,  3.15it/s, accuracy=95.2, loss=0.00431]\n"
          ]
        },
        {
          "name": "stdout",
          "output_type": "stream",
          "text": [
            "Epoch [47/50], Loss: 34.9887, Accuracy: 95.16%\n"
          ]
        },
        {
          "name": "stderr",
          "output_type": "stream",
          "text": [
            "Epoch 48/50: 100%|██████████| 254/254 [01:20<00:00,  3.15it/s, accuracy=95.2, loss=0.00405]\n"
          ]
        },
        {
          "name": "stdout",
          "output_type": "stream",
          "text": [
            "Epoch [48/50], Loss: 32.8600, Accuracy: 95.18%\n"
          ]
        },
        {
          "name": "stderr",
          "output_type": "stream",
          "text": [
            "Epoch 49/50: 100%|██████████| 254/254 [01:21<00:00,  3.13it/s, accuracy=95.1, loss=0.00418]\n"
          ]
        },
        {
          "name": "stdout",
          "output_type": "stream",
          "text": [
            "Epoch [49/50], Loss: 33.9426, Accuracy: 95.06%\n"
          ]
        },
        {
          "name": "stderr",
          "output_type": "stream",
          "text": [
            "Epoch 50/50: 100%|██████████| 254/254 [01:20<00:00,  3.14it/s, accuracy=95.1, loss=0.00424]\n"
          ]
        },
        {
          "name": "stdout",
          "output_type": "stream",
          "text": [
            "Epoch [50/50], Loss: 34.4324, Accuracy: 95.11%\n",
            "Fold 9:\n",
            "Training on Fold 9...\n"
          ]
        },
        {
          "name": "stderr",
          "output_type": "stream",
          "text": [
            "Epoch 1/50: 100%|██████████| 254/254 [01:20<00:00,  3.15it/s, accuracy=94.6, loss=0.00481]\n"
          ]
        },
        {
          "name": "stdout",
          "output_type": "stream",
          "text": [
            "Epoch [1/50], Loss: 39.0402, Accuracy: 94.65%\n"
          ]
        },
        {
          "name": "stderr",
          "output_type": "stream",
          "text": [
            "Epoch 2/50: 100%|██████████| 254/254 [01:21<00:00,  3.13it/s, accuracy=94.1, loss=0.00505]\n"
          ]
        },
        {
          "name": "stdout",
          "output_type": "stream",
          "text": [
            "Epoch [2/50], Loss: 41.0010, Accuracy: 94.08%\n"
          ]
        },
        {
          "name": "stderr",
          "output_type": "stream",
          "text": [
            "Epoch 3/50: 100%|██████████| 254/254 [01:20<00:00,  3.14it/s, accuracy=94.8, loss=0.00429]\n"
          ]
        },
        {
          "name": "stdout",
          "output_type": "stream",
          "text": [
            "Epoch [3/50], Loss: 34.8153, Accuracy: 94.82%\n"
          ]
        },
        {
          "name": "stderr",
          "output_type": "stream",
          "text": [
            "Epoch 4/50: 100%|██████████| 254/254 [01:20<00:00,  3.14it/s, accuracy=94.7, loss=0.00426]\n"
          ]
        },
        {
          "name": "stdout",
          "output_type": "stream",
          "text": [
            "Epoch [4/50], Loss: 34.5767, Accuracy: 94.74%\n"
          ]
        },
        {
          "name": "stderr",
          "output_type": "stream",
          "text": [
            "Epoch 5/50: 100%|██████████| 254/254 [01:20<00:00,  3.15it/s, accuracy=94.9, loss=0.00428]\n"
          ]
        },
        {
          "name": "stdout",
          "output_type": "stream",
          "text": [
            "Epoch [5/50], Loss: 34.7125, Accuracy: 94.88%\n"
          ]
        },
        {
          "name": "stderr",
          "output_type": "stream",
          "text": [
            "Epoch 6/50: 100%|██████████| 254/254 [01:21<00:00,  3.12it/s, accuracy=95.4, loss=0.00397]\n"
          ]
        },
        {
          "name": "stdout",
          "output_type": "stream",
          "text": [
            "Epoch [6/50], Loss: 32.1677, Accuracy: 95.35%\n"
          ]
        },
        {
          "name": "stderr",
          "output_type": "stream",
          "text": [
            "Epoch 7/50: 100%|██████████| 254/254 [01:21<00:00,  3.12it/s, accuracy=93.7, loss=0.00574]\n"
          ]
        },
        {
          "name": "stdout",
          "output_type": "stream",
          "text": [
            "Epoch [7/50], Loss: 46.5483, Accuracy: 93.66%\n"
          ]
        },
        {
          "name": "stderr",
          "output_type": "stream",
          "text": [
            "Epoch 8/50: 100%|██████████| 254/254 [01:21<00:00,  3.12it/s, accuracy=95, loss=0.00417]\n"
          ]
        },
        {
          "name": "stdout",
          "output_type": "stream",
          "text": [
            "Epoch [8/50], Loss: 33.8330, Accuracy: 95.02%\n"
          ]
        },
        {
          "name": "stderr",
          "output_type": "stream",
          "text": [
            "Epoch 9/50: 100%|██████████| 254/254 [01:20<00:00,  3.14it/s, accuracy=94.8, loss=0.00446]\n"
          ]
        },
        {
          "name": "stdout",
          "output_type": "stream",
          "text": [
            "Epoch [9/50], Loss: 36.1960, Accuracy: 94.81%\n"
          ]
        },
        {
          "name": "stderr",
          "output_type": "stream",
          "text": [
            "Epoch 10/50: 100%|██████████| 254/254 [01:20<00:00,  3.14it/s, accuracy=95.4, loss=0.00408]\n"
          ]
        },
        {
          "name": "stdout",
          "output_type": "stream",
          "text": [
            "Epoch [10/50], Loss: 33.0701, Accuracy: 95.43%\n"
          ]
        },
        {
          "name": "stderr",
          "output_type": "stream",
          "text": [
            "Epoch 11/50: 100%|██████████| 254/254 [01:21<00:00,  3.13it/s, accuracy=94.7, loss=0.00462]\n"
          ]
        },
        {
          "name": "stdout",
          "output_type": "stream",
          "text": [
            "Epoch [11/50], Loss: 37.4830, Accuracy: 94.69%\n"
          ]
        },
        {
          "name": "stderr",
          "output_type": "stream",
          "text": [
            "Epoch 12/50: 100%|██████████| 254/254 [01:20<00:00,  3.15it/s, accuracy=95.3, loss=0.00423]\n"
          ]
        },
        {
          "name": "stdout",
          "output_type": "stream",
          "text": [
            "Epoch [12/50], Loss: 34.3276, Accuracy: 95.28%\n"
          ]
        },
        {
          "name": "stderr",
          "output_type": "stream",
          "text": [
            "Epoch 13/50: 100%|██████████| 254/254 [01:20<00:00,  3.15it/s, accuracy=95.5, loss=0.00408]\n"
          ]
        },
        {
          "name": "stdout",
          "output_type": "stream",
          "text": [
            "Epoch [13/50], Loss: 33.1145, Accuracy: 95.51%\n"
          ]
        },
        {
          "name": "stderr",
          "output_type": "stream",
          "text": [
            "Epoch 14/50: 100%|██████████| 254/254 [01:21<00:00,  3.12it/s, accuracy=95.2, loss=0.00417]\n"
          ]
        },
        {
          "name": "stdout",
          "output_type": "stream",
          "text": [
            "Epoch [14/50], Loss: 33.8008, Accuracy: 95.18%\n"
          ]
        },
        {
          "name": "stderr",
          "output_type": "stream",
          "text": [
            "Epoch 15/50: 100%|██████████| 254/254 [01:21<00:00,  3.13it/s, accuracy=95.4, loss=0.00364]\n"
          ]
        },
        {
          "name": "stdout",
          "output_type": "stream",
          "text": [
            "Epoch [15/50], Loss: 29.4998, Accuracy: 95.38%\n"
          ]
        },
        {
          "name": "stderr",
          "output_type": "stream",
          "text": [
            "Epoch 16/50: 100%|██████████| 254/254 [01:21<00:00,  3.14it/s, accuracy=94.8, loss=0.00467]\n"
          ]
        },
        {
          "name": "stdout",
          "output_type": "stream",
          "text": [
            "Epoch [16/50], Loss: 37.9005, Accuracy: 94.80%\n"
          ]
        },
        {
          "name": "stderr",
          "output_type": "stream",
          "text": [
            "Epoch 17/50: 100%|██████████| 254/254 [01:20<00:00,  3.15it/s, accuracy=95.7, loss=0.00363]\n"
          ]
        },
        {
          "name": "stdout",
          "output_type": "stream",
          "text": [
            "Epoch [17/50], Loss: 29.4239, Accuracy: 95.66%\n"
          ]
        },
        {
          "name": "stderr",
          "output_type": "stream",
          "text": [
            "Epoch 18/50: 100%|██████████| 254/254 [01:21<00:00,  3.11it/s, accuracy=95, loss=0.00423]\n"
          ]
        },
        {
          "name": "stdout",
          "output_type": "stream",
          "text": [
            "Epoch [18/50], Loss: 34.3340, Accuracy: 94.97%\n"
          ]
        },
        {
          "name": "stderr",
          "output_type": "stream",
          "text": [
            "Epoch 19/50: 100%|██████████| 254/254 [01:21<00:00,  3.13it/s, accuracy=95.6, loss=0.00397]\n"
          ]
        },
        {
          "name": "stdout",
          "output_type": "stream",
          "text": [
            "Epoch [19/50], Loss: 32.1762, Accuracy: 95.61%\n"
          ]
        },
        {
          "name": "stderr",
          "output_type": "stream",
          "text": [
            "Epoch 20/50: 100%|██████████| 254/254 [01:21<00:00,  3.13it/s, accuracy=95.2, loss=0.0044]\n"
          ]
        },
        {
          "name": "stdout",
          "output_type": "stream",
          "text": [
            "Epoch [20/50], Loss: 35.6710, Accuracy: 95.16%\n"
          ]
        },
        {
          "name": "stderr",
          "output_type": "stream",
          "text": [
            "Epoch 21/50: 100%|██████████| 254/254 [01:21<00:00,  3.13it/s, accuracy=94.9, loss=0.00458]\n"
          ]
        },
        {
          "name": "stdout",
          "output_type": "stream",
          "text": [
            "Epoch [21/50], Loss: 37.1298, Accuracy: 94.91%\n"
          ]
        },
        {
          "name": "stderr",
          "output_type": "stream",
          "text": [
            "Epoch 22/50: 100%|██████████| 254/254 [01:21<00:00,  3.13it/s, accuracy=94.6, loss=0.00469]\n"
          ]
        },
        {
          "name": "stdout",
          "output_type": "stream",
          "text": [
            "Epoch [22/50], Loss: 38.0481, Accuracy: 94.59%\n"
          ]
        },
        {
          "name": "stderr",
          "output_type": "stream",
          "text": [
            "Epoch 23/50: 100%|██████████| 254/254 [01:20<00:00,  3.14it/s, accuracy=95.9, loss=0.00343]\n"
          ]
        },
        {
          "name": "stdout",
          "output_type": "stream",
          "text": [
            "Epoch [23/50], Loss: 27.8590, Accuracy: 95.93%\n"
          ]
        },
        {
          "name": "stderr",
          "output_type": "stream",
          "text": [
            "Epoch 24/50: 100%|██████████| 254/254 [01:20<00:00,  3.14it/s, accuracy=94.7, loss=0.00463]\n"
          ]
        },
        {
          "name": "stdout",
          "output_type": "stream",
          "text": [
            "Epoch [24/50], Loss: 37.5862, Accuracy: 94.66%\n"
          ]
        },
        {
          "name": "stderr",
          "output_type": "stream",
          "text": [
            "Epoch 25/50: 100%|██████████| 254/254 [01:21<00:00,  3.13it/s, accuracy=95.7, loss=0.00376]\n"
          ]
        },
        {
          "name": "stdout",
          "output_type": "stream",
          "text": [
            "Epoch [25/50], Loss: 30.4895, Accuracy: 95.70%\n"
          ]
        },
        {
          "name": "stderr",
          "output_type": "stream",
          "text": [
            "Epoch 26/50: 100%|██████████| 254/254 [01:21<00:00,  3.13it/s, accuracy=95.5, loss=0.00398]\n"
          ]
        },
        {
          "name": "stdout",
          "output_type": "stream",
          "text": [
            "Epoch [26/50], Loss: 32.3093, Accuracy: 95.51%\n"
          ]
        },
        {
          "name": "stderr",
          "output_type": "stream",
          "text": [
            "Epoch 27/50: 100%|██████████| 254/254 [01:21<00:00,  3.13it/s, accuracy=96, loss=0.00357]\n"
          ]
        },
        {
          "name": "stdout",
          "output_type": "stream",
          "text": [
            "Epoch [27/50], Loss: 28.9782, Accuracy: 95.99%\n"
          ]
        },
        {
          "name": "stderr",
          "output_type": "stream",
          "text": [
            "Epoch 28/50: 100%|██████████| 254/254 [01:20<00:00,  3.14it/s, accuracy=95.2, loss=0.0041]\n"
          ]
        },
        {
          "name": "stdout",
          "output_type": "stream",
          "text": [
            "Epoch [28/50], Loss: 33.2704, Accuracy: 95.23%\n"
          ]
        },
        {
          "name": "stderr",
          "output_type": "stream",
          "text": [
            "Epoch 29/50: 100%|██████████| 254/254 [01:20<00:00,  3.14it/s, accuracy=95.6, loss=0.00364]\n"
          ]
        },
        {
          "name": "stdout",
          "output_type": "stream",
          "text": [
            "Epoch [29/50], Loss: 29.5124, Accuracy: 95.61%\n"
          ]
        },
        {
          "name": "stderr",
          "output_type": "stream",
          "text": [
            "Epoch 30/50: 100%|██████████| 254/254 [01:20<00:00,  3.14it/s, accuracy=96, loss=0.00326]\n"
          ]
        },
        {
          "name": "stdout",
          "output_type": "stream",
          "text": [
            "Epoch [30/50], Loss: 26.4527, Accuracy: 95.98%\n"
          ]
        },
        {
          "name": "stderr",
          "output_type": "stream",
          "text": [
            "Epoch 31/50: 100%|██████████| 254/254 [01:20<00:00,  3.14it/s, accuracy=96.3, loss=0.00322]\n"
          ]
        },
        {
          "name": "stdout",
          "output_type": "stream",
          "text": [
            "Epoch [31/50], Loss: 26.0858, Accuracy: 96.33%\n"
          ]
        },
        {
          "name": "stderr",
          "output_type": "stream",
          "text": [
            "Epoch 32/50: 100%|██████████| 254/254 [01:20<00:00,  3.14it/s, accuracy=95.5, loss=0.00384]\n"
          ]
        },
        {
          "name": "stdout",
          "output_type": "stream",
          "text": [
            "Epoch [32/50], Loss: 31.1589, Accuracy: 95.51%\n"
          ]
        },
        {
          "name": "stderr",
          "output_type": "stream",
          "text": [
            "Epoch 33/50: 100%|██████████| 254/254 [01:21<00:00,  3.13it/s, accuracy=96.1, loss=0.00349]\n"
          ]
        },
        {
          "name": "stdout",
          "output_type": "stream",
          "text": [
            "Epoch [33/50], Loss: 28.2802, Accuracy: 96.12%\n"
          ]
        },
        {
          "name": "stderr",
          "output_type": "stream",
          "text": [
            "Epoch 34/50: 100%|██████████| 254/254 [01:20<00:00,  3.14it/s, accuracy=96.4, loss=0.0034]\n"
          ]
        },
        {
          "name": "stdout",
          "output_type": "stream",
          "text": [
            "Epoch [34/50], Loss: 27.5782, Accuracy: 96.41%\n"
          ]
        },
        {
          "name": "stderr",
          "output_type": "stream",
          "text": [
            "Epoch 35/50: 100%|██████████| 254/254 [01:21<00:00,  3.12it/s, accuracy=95.5, loss=0.00391]\n"
          ]
        },
        {
          "name": "stdout",
          "output_type": "stream",
          "text": [
            "Epoch [35/50], Loss: 31.7455, Accuracy: 95.53%\n"
          ]
        },
        {
          "name": "stderr",
          "output_type": "stream",
          "text": [
            "Epoch 36/50: 100%|██████████| 254/254 [01:21<00:00,  3.13it/s, accuracy=96.1, loss=0.00348]\n"
          ]
        },
        {
          "name": "stdout",
          "output_type": "stream",
          "text": [
            "Epoch [36/50], Loss: 28.2119, Accuracy: 96.07%\n"
          ]
        },
        {
          "name": "stderr",
          "output_type": "stream",
          "text": [
            "Epoch 37/50: 100%|██████████| 254/254 [01:20<00:00,  3.14it/s, accuracy=96.3, loss=0.00338]\n"
          ]
        },
        {
          "name": "stdout",
          "output_type": "stream",
          "text": [
            "Epoch [37/50], Loss: 27.3867, Accuracy: 96.25%\n"
          ]
        },
        {
          "name": "stderr",
          "output_type": "stream",
          "text": [
            "Epoch 38/50: 100%|██████████| 254/254 [01:20<00:00,  3.14it/s, accuracy=95.5, loss=0.00397]\n"
          ]
        },
        {
          "name": "stdout",
          "output_type": "stream",
          "text": [
            "Epoch [38/50], Loss: 32.2419, Accuracy: 95.46%\n"
          ]
        },
        {
          "name": "stderr",
          "output_type": "stream",
          "text": [
            "Epoch 39/50: 100%|██████████| 254/254 [01:21<00:00,  3.13it/s, accuracy=95.6, loss=0.00375]\n"
          ]
        },
        {
          "name": "stdout",
          "output_type": "stream",
          "text": [
            "Epoch [39/50], Loss: 30.4214, Accuracy: 95.65%\n"
          ]
        },
        {
          "name": "stderr",
          "output_type": "stream",
          "text": [
            "Epoch 40/50: 100%|██████████| 254/254 [01:21<00:00,  3.13it/s, accuracy=96.4, loss=0.00342]\n"
          ]
        },
        {
          "name": "stdout",
          "output_type": "stream",
          "text": [
            "Epoch [40/50], Loss: 27.7408, Accuracy: 96.43%\n"
          ]
        },
        {
          "name": "stderr",
          "output_type": "stream",
          "text": [
            "Epoch 41/50: 100%|██████████| 254/254 [01:20<00:00,  3.14it/s, accuracy=95.6, loss=0.00385]\n"
          ]
        },
        {
          "name": "stdout",
          "output_type": "stream",
          "text": [
            "Epoch [41/50], Loss: 31.2060, Accuracy: 95.61%\n"
          ]
        },
        {
          "name": "stderr",
          "output_type": "stream",
          "text": [
            "Epoch 42/50: 100%|██████████| 254/254 [01:20<00:00,  3.15it/s, accuracy=96.2, loss=0.00325]\n"
          ]
        },
        {
          "name": "stdout",
          "output_type": "stream",
          "text": [
            "Epoch [42/50], Loss: 26.3732, Accuracy: 96.22%\n"
          ]
        },
        {
          "name": "stderr",
          "output_type": "stream",
          "text": [
            "Epoch 43/50: 100%|██████████| 254/254 [01:20<00:00,  3.15it/s, accuracy=95.5, loss=0.00393]\n"
          ]
        },
        {
          "name": "stdout",
          "output_type": "stream",
          "text": [
            "Epoch [43/50], Loss: 31.8800, Accuracy: 95.48%\n"
          ]
        },
        {
          "name": "stderr",
          "output_type": "stream",
          "text": [
            "Epoch 44/50: 100%|██████████| 254/254 [01:21<00:00,  3.13it/s, accuracy=95.9, loss=0.0037]\n"
          ]
        },
        {
          "name": "stdout",
          "output_type": "stream",
          "text": [
            "Epoch [44/50], Loss: 29.9998, Accuracy: 95.88%\n"
          ]
        },
        {
          "name": "stderr",
          "output_type": "stream",
          "text": [
            "Epoch 45/50: 100%|██████████| 254/254 [01:20<00:00,  3.14it/s, accuracy=95.4, loss=0.00405]\n"
          ]
        },
        {
          "name": "stdout",
          "output_type": "stream",
          "text": [
            "Epoch [45/50], Loss: 32.8541, Accuracy: 95.38%\n"
          ]
        },
        {
          "name": "stderr",
          "output_type": "stream",
          "text": [
            "Epoch 46/50: 100%|██████████| 254/254 [01:21<00:00,  3.14it/s, accuracy=95.6, loss=0.00375]\n"
          ]
        },
        {
          "name": "stdout",
          "output_type": "stream",
          "text": [
            "Epoch [46/50], Loss: 30.4550, Accuracy: 95.65%\n"
          ]
        },
        {
          "name": "stderr",
          "output_type": "stream",
          "text": [
            "Epoch 47/50: 100%|██████████| 254/254 [01:20<00:00,  3.15it/s, accuracy=96.5, loss=0.003]\n"
          ]
        },
        {
          "name": "stdout",
          "output_type": "stream",
          "text": [
            "Epoch [47/50], Loss: 24.3613, Accuracy: 96.50%\n"
          ]
        },
        {
          "name": "stderr",
          "output_type": "stream",
          "text": [
            "Epoch 48/50: 100%|██████████| 254/254 [01:20<00:00,  3.14it/s, accuracy=96.5, loss=0.00317]\n"
          ]
        },
        {
          "name": "stdout",
          "output_type": "stream",
          "text": [
            "Epoch [48/50], Loss: 25.7405, Accuracy: 96.49%\n"
          ]
        },
        {
          "name": "stderr",
          "output_type": "stream",
          "text": [
            "Epoch 49/50: 100%|██████████| 254/254 [01:20<00:00,  3.14it/s, accuracy=96.3, loss=0.00302]\n"
          ]
        },
        {
          "name": "stdout",
          "output_type": "stream",
          "text": [
            "Epoch [49/50], Loss: 24.5290, Accuracy: 96.26%\n"
          ]
        },
        {
          "name": "stderr",
          "output_type": "stream",
          "text": [
            "Epoch 50/50: 100%|██████████| 254/254 [01:21<00:00,  3.12it/s, accuracy=95.7, loss=0.00362]\n"
          ]
        },
        {
          "name": "stdout",
          "output_type": "stream",
          "text": [
            "Epoch [50/50], Loss: 29.3414, Accuracy: 95.72%\n",
            "Fold 10:\n",
            "Training on Fold 10...\n"
          ]
        },
        {
          "name": "stderr",
          "output_type": "stream",
          "text": [
            "Epoch 1/50: 100%|██████████| 254/254 [01:20<00:00,  3.14it/s, accuracy=95.5, loss=0.00404]\n"
          ]
        },
        {
          "name": "stdout",
          "output_type": "stream",
          "text": [
            "Epoch [1/50], Loss: 32.7959, Accuracy: 95.54%\n"
          ]
        },
        {
          "name": "stderr",
          "output_type": "stream",
          "text": [
            "Epoch 2/50: 100%|██████████| 254/254 [01:20<00:00,  3.15it/s, accuracy=96.3, loss=0.00329]\n"
          ]
        },
        {
          "name": "stdout",
          "output_type": "stream",
          "text": [
            "Epoch [2/50], Loss: 26.6969, Accuracy: 96.33%\n"
          ]
        },
        {
          "name": "stderr",
          "output_type": "stream",
          "text": [
            "Epoch 3/50: 100%|██████████| 254/254 [01:20<00:00,  3.15it/s, accuracy=96.7, loss=0.00302]\n"
          ]
        },
        {
          "name": "stdout",
          "output_type": "stream",
          "text": [
            "Epoch [3/50], Loss: 24.5217, Accuracy: 96.71%\n"
          ]
        },
        {
          "name": "stderr",
          "output_type": "stream",
          "text": [
            "Epoch 4/50: 100%|██████████| 254/254 [01:21<00:00,  3.12it/s, accuracy=95.3, loss=0.0042]\n"
          ]
        },
        {
          "name": "stdout",
          "output_type": "stream",
          "text": [
            "Epoch [4/50], Loss: 34.1018, Accuracy: 95.30%\n"
          ]
        },
        {
          "name": "stderr",
          "output_type": "stream",
          "text": [
            "Epoch 5/50: 100%|██████████| 254/254 [01:21<00:00,  3.13it/s, accuracy=96, loss=0.00364]\n"
          ]
        },
        {
          "name": "stdout",
          "output_type": "stream",
          "text": [
            "Epoch [5/50], Loss: 29.5575, Accuracy: 96.04%\n"
          ]
        },
        {
          "name": "stderr",
          "output_type": "stream",
          "text": [
            "Epoch 6/50: 100%|██████████| 254/254 [01:21<00:00,  3.13it/s, accuracy=95.4, loss=0.00405]\n"
          ]
        },
        {
          "name": "stdout",
          "output_type": "stream",
          "text": [
            "Epoch [6/50], Loss: 32.8726, Accuracy: 95.40%\n"
          ]
        },
        {
          "name": "stderr",
          "output_type": "stream",
          "text": [
            "Epoch 7/50: 100%|██████████| 254/254 [01:21<00:00,  3.13it/s, accuracy=96.1, loss=0.00345]\n"
          ]
        },
        {
          "name": "stdout",
          "output_type": "stream",
          "text": [
            "Epoch [7/50], Loss: 27.9863, Accuracy: 96.12%\n"
          ]
        },
        {
          "name": "stderr",
          "output_type": "stream",
          "text": [
            "Epoch 8/50: 100%|██████████| 254/254 [01:20<00:00,  3.14it/s, accuracy=95.7, loss=0.00366]\n"
          ]
        },
        {
          "name": "stdout",
          "output_type": "stream",
          "text": [
            "Epoch [8/50], Loss: 29.6888, Accuracy: 95.75%\n"
          ]
        },
        {
          "name": "stderr",
          "output_type": "stream",
          "text": [
            "Epoch 9/50: 100%|██████████| 254/254 [01:20<00:00,  3.14it/s, accuracy=96.1, loss=0.0033]\n"
          ]
        },
        {
          "name": "stdout",
          "output_type": "stream",
          "text": [
            "Epoch [9/50], Loss: 26.7973, Accuracy: 96.09%\n"
          ]
        },
        {
          "name": "stderr",
          "output_type": "stream",
          "text": [
            "Epoch 10/50: 100%|██████████| 254/254 [01:21<00:00,  3.13it/s, accuracy=96.3, loss=0.00333]\n"
          ]
        },
        {
          "name": "stdout",
          "output_type": "stream",
          "text": [
            "Epoch [10/50], Loss: 27.0325, Accuracy: 96.25%\n"
          ]
        },
        {
          "name": "stderr",
          "output_type": "stream",
          "text": [
            "Epoch 11/50: 100%|██████████| 254/254 [01:21<00:00,  3.13it/s, accuracy=95.9, loss=0.00348]\n"
          ]
        },
        {
          "name": "stdout",
          "output_type": "stream",
          "text": [
            "Epoch [11/50], Loss: 28.2230, Accuracy: 95.89%\n"
          ]
        },
        {
          "name": "stderr",
          "output_type": "stream",
          "text": [
            "Epoch 12/50: 100%|██████████| 254/254 [01:21<00:00,  3.12it/s, accuracy=96.8, loss=0.0031]\n"
          ]
        },
        {
          "name": "stdout",
          "output_type": "stream",
          "text": [
            "Epoch [12/50], Loss: 25.1648, Accuracy: 96.83%\n"
          ]
        },
        {
          "name": "stderr",
          "output_type": "stream",
          "text": [
            "Epoch 13/50: 100%|██████████| 254/254 [01:20<00:00,  3.14it/s, accuracy=95.9, loss=0.00359]\n"
          ]
        },
        {
          "name": "stdout",
          "output_type": "stream",
          "text": [
            "Epoch [13/50], Loss: 29.1509, Accuracy: 95.92%\n"
          ]
        },
        {
          "name": "stderr",
          "output_type": "stream",
          "text": [
            "Epoch 14/50: 100%|██████████| 254/254 [01:20<00:00,  3.14it/s, accuracy=95.9, loss=0.00369]\n"
          ]
        },
        {
          "name": "stdout",
          "output_type": "stream",
          "text": [
            "Epoch [14/50], Loss: 29.9409, Accuracy: 95.93%\n"
          ]
        },
        {
          "name": "stderr",
          "output_type": "stream",
          "text": [
            "Epoch 15/50: 100%|██████████| 254/254 [01:21<00:00,  3.11it/s, accuracy=96.6, loss=0.00296]\n"
          ]
        },
        {
          "name": "stdout",
          "output_type": "stream",
          "text": [
            "Epoch [15/50], Loss: 23.9898, Accuracy: 96.63%\n"
          ]
        },
        {
          "name": "stderr",
          "output_type": "stream",
          "text": [
            "Epoch 16/50: 100%|██████████| 254/254 [01:21<00:00,  3.13it/s, accuracy=96.8, loss=0.00279]\n"
          ]
        },
        {
          "name": "stdout",
          "output_type": "stream",
          "text": [
            "Epoch [16/50], Loss: 22.6506, Accuracy: 96.79%\n"
          ]
        },
        {
          "name": "stderr",
          "output_type": "stream",
          "text": [
            "Epoch 17/50: 100%|██████████| 254/254 [01:20<00:00,  3.14it/s, accuracy=96, loss=0.00362]\n"
          ]
        },
        {
          "name": "stdout",
          "output_type": "stream",
          "text": [
            "Epoch [17/50], Loss: 29.3750, Accuracy: 96.03%\n"
          ]
        },
        {
          "name": "stderr",
          "output_type": "stream",
          "text": [
            "Epoch 18/50: 100%|██████████| 254/254 [01:20<00:00,  3.14it/s, accuracy=96.8, loss=0.00289]\n"
          ]
        },
        {
          "name": "stdout",
          "output_type": "stream",
          "text": [
            "Epoch [18/50], Loss: 23.4281, Accuracy: 96.83%\n"
          ]
        },
        {
          "name": "stderr",
          "output_type": "stream",
          "text": [
            "Epoch 19/50: 100%|██████████| 254/254 [01:20<00:00,  3.14it/s, accuracy=96.8, loss=0.00273]\n"
          ]
        },
        {
          "name": "stdout",
          "output_type": "stream",
          "text": [
            "Epoch [19/50], Loss: 22.1707, Accuracy: 96.78%\n"
          ]
        },
        {
          "name": "stderr",
          "output_type": "stream",
          "text": [
            "Epoch 20/50: 100%|██████████| 254/254 [01:21<00:00,  3.12it/s, accuracy=96.8, loss=0.00291]\n"
          ]
        },
        {
          "name": "stdout",
          "output_type": "stream",
          "text": [
            "Epoch [20/50], Loss: 23.6126, Accuracy: 96.82%\n"
          ]
        },
        {
          "name": "stderr",
          "output_type": "stream",
          "text": [
            "Epoch 21/50: 100%|██████████| 254/254 [01:20<00:00,  3.14it/s, accuracy=96.3, loss=0.00338]\n"
          ]
        },
        {
          "name": "stdout",
          "output_type": "stream",
          "text": [
            "Epoch [21/50], Loss: 27.3936, Accuracy: 96.30%\n"
          ]
        },
        {
          "name": "stderr",
          "output_type": "stream",
          "text": [
            "Epoch 22/50: 100%|██████████| 254/254 [01:20<00:00,  3.16it/s, accuracy=96.7, loss=0.00294]\n"
          ]
        },
        {
          "name": "stdout",
          "output_type": "stream",
          "text": [
            "Epoch [22/50], Loss: 23.8578, Accuracy: 96.71%\n"
          ]
        },
        {
          "name": "stderr",
          "output_type": "stream",
          "text": [
            "Epoch 23/50: 100%|██████████| 254/254 [01:21<00:00,  3.13it/s, accuracy=96.5, loss=0.00313]\n"
          ]
        },
        {
          "name": "stdout",
          "output_type": "stream",
          "text": [
            "Epoch [23/50], Loss: 25.3866, Accuracy: 96.52%\n"
          ]
        },
        {
          "name": "stderr",
          "output_type": "stream",
          "text": [
            "Epoch 24/50: 100%|██████████| 254/254 [01:21<00:00,  3.14it/s, accuracy=96.8, loss=0.00296]\n"
          ]
        },
        {
          "name": "stdout",
          "output_type": "stream",
          "text": [
            "Epoch [24/50], Loss: 23.9814, Accuracy: 96.76%\n"
          ]
        },
        {
          "name": "stderr",
          "output_type": "stream",
          "text": [
            "Epoch 25/50: 100%|██████████| 254/254 [01:20<00:00,  3.14it/s, accuracy=96.9, loss=0.00302]\n"
          ]
        },
        {
          "name": "stdout",
          "output_type": "stream",
          "text": [
            "Epoch [25/50], Loss: 24.4586, Accuracy: 96.87%\n"
          ]
        },
        {
          "name": "stderr",
          "output_type": "stream",
          "text": [
            "Epoch 26/50: 100%|██████████| 254/254 [01:21<00:00,  3.13it/s, accuracy=96.8, loss=0.00288]\n"
          ]
        },
        {
          "name": "stdout",
          "output_type": "stream",
          "text": [
            "Epoch [26/50], Loss: 23.3599, Accuracy: 96.81%\n"
          ]
        },
        {
          "name": "stderr",
          "output_type": "stream",
          "text": [
            "Epoch 27/50: 100%|██████████| 254/254 [01:21<00:00,  3.13it/s, accuracy=96.6, loss=0.0029]\n"
          ]
        },
        {
          "name": "stdout",
          "output_type": "stream",
          "text": [
            "Epoch [27/50], Loss: 23.5626, Accuracy: 96.59%\n"
          ]
        },
        {
          "name": "stderr",
          "output_type": "stream",
          "text": [
            "Epoch 28/50: 100%|██████████| 254/254 [01:21<00:00,  3.12it/s, accuracy=96.4, loss=0.003]\n"
          ]
        },
        {
          "name": "stdout",
          "output_type": "stream",
          "text": [
            "Epoch [28/50], Loss: 24.3368, Accuracy: 96.45%\n"
          ]
        },
        {
          "name": "stderr",
          "output_type": "stream",
          "text": [
            "Epoch 29/50: 100%|██████████| 254/254 [01:21<00:00,  3.12it/s, accuracy=97.1, loss=0.00272]\n"
          ]
        },
        {
          "name": "stdout",
          "output_type": "stream",
          "text": [
            "Epoch [29/50], Loss: 22.0645, Accuracy: 97.10%\n"
          ]
        },
        {
          "name": "stderr",
          "output_type": "stream",
          "text": [
            "Epoch 30/50: 100%|██████████| 254/254 [01:21<00:00,  3.12it/s, accuracy=96.5, loss=0.003]\n"
          ]
        },
        {
          "name": "stdout",
          "output_type": "stream",
          "text": [
            "Epoch [30/50], Loss: 24.3078, Accuracy: 96.50%\n"
          ]
        },
        {
          "name": "stderr",
          "output_type": "stream",
          "text": [
            "Epoch 31/50: 100%|██████████| 254/254 [01:21<00:00,  3.12it/s, accuracy=96.8, loss=0.0027]\n"
          ]
        },
        {
          "name": "stdout",
          "output_type": "stream",
          "text": [
            "Epoch [31/50], Loss: 21.9015, Accuracy: 96.81%\n"
          ]
        },
        {
          "name": "stderr",
          "output_type": "stream",
          "text": [
            "Epoch 32/50: 100%|██████████| 254/254 [01:21<00:00,  3.13it/s, accuracy=96.9, loss=0.0027]\n"
          ]
        },
        {
          "name": "stdout",
          "output_type": "stream",
          "text": [
            "Epoch [32/50], Loss: 21.9323, Accuracy: 96.86%\n"
          ]
        },
        {
          "name": "stderr",
          "output_type": "stream",
          "text": [
            "Epoch 33/50: 100%|██████████| 254/254 [01:21<00:00,  3.13it/s, accuracy=96.7, loss=0.00288]\n"
          ]
        },
        {
          "name": "stdout",
          "output_type": "stream",
          "text": [
            "Epoch [33/50], Loss: 23.3867, Accuracy: 96.67%\n"
          ]
        },
        {
          "name": "stderr",
          "output_type": "stream",
          "text": [
            "Epoch 34/50: 100%|██████████| 254/254 [01:20<00:00,  3.14it/s, accuracy=96.7, loss=0.00294]\n"
          ]
        },
        {
          "name": "stdout",
          "output_type": "stream",
          "text": [
            "Epoch [34/50], Loss: 23.8352, Accuracy: 96.70%\n"
          ]
        },
        {
          "name": "stderr",
          "output_type": "stream",
          "text": [
            "Epoch 35/50: 100%|██████████| 254/254 [01:21<00:00,  3.12it/s, accuracy=96.7, loss=0.00278]\n"
          ]
        },
        {
          "name": "stdout",
          "output_type": "stream",
          "text": [
            "Epoch [35/50], Loss: 22.5629, Accuracy: 96.75%\n"
          ]
        },
        {
          "name": "stderr",
          "output_type": "stream",
          "text": [
            "Epoch 36/50: 100%|██████████| 254/254 [01:21<00:00,  3.11it/s, accuracy=96.8, loss=0.00282]\n"
          ]
        },
        {
          "name": "stdout",
          "output_type": "stream",
          "text": [
            "Epoch [36/50], Loss: 22.8940, Accuracy: 96.83%\n"
          ]
        },
        {
          "name": "stderr",
          "output_type": "stream",
          "text": [
            "Epoch 37/50: 100%|██████████| 254/254 [01:21<00:00,  3.12it/s, accuracy=96.1, loss=0.00349]\n"
          ]
        },
        {
          "name": "stdout",
          "output_type": "stream",
          "text": [
            "Epoch [37/50], Loss: 28.3483, Accuracy: 96.08%\n"
          ]
        },
        {
          "name": "stderr",
          "output_type": "stream",
          "text": [
            "Epoch 38/50: 100%|██████████| 254/254 [01:21<00:00,  3.13it/s, accuracy=96.6, loss=0.00301]\n"
          ]
        },
        {
          "name": "stdout",
          "output_type": "stream",
          "text": [
            "Epoch [38/50], Loss: 24.4017, Accuracy: 96.59%\n"
          ]
        },
        {
          "name": "stderr",
          "output_type": "stream",
          "text": [
            "Epoch 39/50: 100%|██████████| 254/254 [01:21<00:00,  3.13it/s, accuracy=96.9, loss=0.00268]\n"
          ]
        },
        {
          "name": "stdout",
          "output_type": "stream",
          "text": [
            "Epoch [39/50], Loss: 21.7805, Accuracy: 96.94%\n"
          ]
        },
        {
          "name": "stderr",
          "output_type": "stream",
          "text": [
            "Epoch 40/50: 100%|██████████| 254/254 [01:21<00:00,  3.13it/s, accuracy=97.1, loss=0.00259]\n"
          ]
        },
        {
          "name": "stdout",
          "output_type": "stream",
          "text": [
            "Epoch [40/50], Loss: 20.9924, Accuracy: 97.07%\n"
          ]
        },
        {
          "name": "stderr",
          "output_type": "stream",
          "text": [
            "Epoch 41/50: 100%|██████████| 254/254 [01:21<00:00,  3.13it/s, accuracy=96.7, loss=0.00301]\n"
          ]
        },
        {
          "name": "stdout",
          "output_type": "stream",
          "text": [
            "Epoch [41/50], Loss: 24.4147, Accuracy: 96.66%\n"
          ]
        },
        {
          "name": "stderr",
          "output_type": "stream",
          "text": [
            "Epoch 42/50:  12%|█▏        | 31/254 [00:10<01:11,  3.10it/s, accuracy=96.2, loss=0.00298]"
          ]
        }
      ],
      "source": [
        "from sklearn.model_selection import StratifiedKFold\n",
        "from torch.utils.data import Subset, DataLoader\n",
        "import numpy as np\n",
        "\n",
        "\n",
        "# Number of folds\n",
        "k = 10\n",
        "skf = StratifiedKFold(n_splits=k, shuffle=True, random_state=42)\n",
        "\n",
        "# Assuming dataset is a PyTorch Dataset object\n",
        "dataset = train_loader.dataset  # Extract dataset from DataLoader\n",
        "X = np.arange(len(dataset))  # Indices of samples\n",
        "y = np.array([dataset[i][1] for i in range(len(dataset))])  # Labels\n",
        "\n",
        "# Loop over folds\n",
        "for fold, (train_idx, val_idx) in enumerate(skf.split(X, y)):\n",
        "    print(f\"Fold {fold + 1}:\")\n",
        "\n",
        "    # Create train and validation subsets\n",
        "    train_subset = Subset(dataset, train_idx)\n",
        "    val_subset = Subset(dataset, val_idx)\n",
        "\n",
        "    # Create DataLoaders\n",
        "    train_loader = DataLoader(train_subset, batch_size=32, shuffle=True)\n",
        "    val_loader = DataLoader(val_subset, batch_size=32, shuffle=False)\n",
        "\n",
        "    # Train model on this fold\n",
        "    print(f\"Training on Fold {fold + 1}...\")\n",
        "    train_model(model, train_loader, criterion, optimizer, num_epochs=50)\n"
      ]
    },
    {
      "cell_type": "code",
      "execution_count": null,
      "metadata": {
        "id": "p_JaMFtWm8gV"
      },
      "outputs": [],
      "source": [
        "import numpy as np\n",
        "import seaborn as sns\n",
        "import matplotlib.pyplot as plt\n",
        "from sklearn.metrics import confusion_matrix, classification_report\n",
        "\n",
        "# Function to Compute and Display Confusion Matrix as Percentages\n",
        "def plot_confusion_matrix(y_true, y_pred, class_names):\n",
        "    cm = confusion_matrix(y_true, y_pred)\n",
        "    cm_percentage = cm.astype('float') / cm.sum(axis=1)[:, np.newaxis] * 100  # Convert to percentages\n",
        "\n",
        "    plt.figure(figsize=(8, 6))\n",
        "    sns.heatmap(cm_percentage, annot=True, fmt=\".2f\", cmap=\"Blues\", xticklabels=class_names, yticklabels=class_names)\n",
        "    plt.xlabel(\"Predicted Labels\")\n",
        "    plt.ylabel(\"True Labels\")\n",
        "    plt.title(\"Confusion Matrix (Percentage)\")\n",
        "    plt.show()\n",
        "\n",
        "# Function to Print Precision, Recall, and F1-Score Table\n",
        "def print_classification_report(y_true, y_pred, class_names):\n",
        "    report = classification_report(y_true, y_pred, target_names=class_names)\n",
        "    print(\"🔹 Classification Report:\")\n",
        "    print(report)\n"
      ]
    },
    {
      "cell_type": "code",
      "execution_count": null,
      "metadata": {
        "id": "gjnt_u0qm8dO"
      },
      "outputs": [],
      "source": [
        "from sklearn.preprocessing import label_binarize\n",
        "\n",
        "# Function to Compute and Plot ROC Curve (Class-wise + Overall)\n",
        "def plot_roc_curve(y_true, y_scores, num_classes):\n",
        "    plt.figure(figsize=(8, 6))\n",
        "\n",
        "    # One-hot encode the true labels\n",
        "    y_true_bin = label_binarize(y_true, classes=np.arange(num_classes))\n",
        "\n",
        "    # Compute micro-average ROC curve and AUC\n",
        "    fpr_micro, tpr_micro, _ = roc_curve(y_true_bin.ravel(), y_scores.ravel())\n",
        "    roc_auc_micro = auc(fpr_micro, tpr_micro)\n",
        "\n",
        "    # Compute macro-average ROC curve and AUC\n",
        "    all_fpr = np.unique(np.concatenate([roc_curve(y_true_bin[:, i], y_scores[:, i])[0] for i in range(num_classes)]))\n",
        "    mean_tpr = np.zeros_like(all_fpr)\n",
        "\n",
        "    for i in range(num_classes):\n",
        "        fpr, tpr, _ = roc_curve(y_true_bin[:, i], y_scores[:, i])\n",
        "        roc_auc = auc(fpr, tpr)\n",
        "        plt.plot(fpr, tpr, label=f\"Class {i} (AUC = {roc_auc:.2f})\")\n",
        "\n",
        "        # Interpolating TPR at unique FPR values\n",
        "        mean_tpr += np.interp(all_fpr, fpr, tpr)\n",
        "\n",
        "    mean_tpr /= num_classes\n",
        "    roc_auc_macro = auc(all_fpr, mean_tpr)\n",
        "\n",
        "    # Plot macro and micro ROC curves\n",
        "    plt.plot(all_fpr, mean_tpr, label=f\"Macro Avg (AUC = {roc_auc_macro:.2f})\", linestyle=\"--\", linewidth=2)\n",
        "    plt.plot(fpr_micro, tpr_micro, label=f\"Micro Avg (AUC = {roc_auc_micro:.2f})\", linestyle=\":\", linewidth=2)\n",
        "\n",
        "    # Diagonal reference line\n",
        "    plt.plot([0, 1], [0, 1], 'k--', lw=2)\n",
        "    plt.xlabel(\"False Positive Rate\")\n",
        "    plt.ylabel(\"True Positive Rate\")\n",
        "    plt.title(\"ROC Curve (Class-wise + Overall)\")\n",
        "    plt.legend(loc=\"lower right\")\n",
        "    plt.show()\n"
      ]
    },
    {
      "cell_type": "code",
      "execution_count": null,
      "metadata": {
        "id": "auCoIQFsm8aa"
      },
      "outputs": [],
      "source": [
        "# Updated Evaluation Function\n",
        "def evaluate_model(model, test_loader, class_names):\n",
        "    model.eval()\n",
        "    all_labels = []\n",
        "    all_preds = []\n",
        "    all_probs = []\n",
        "\n",
        "    with torch.no_grad():\n",
        "        for images, labels in test_loader:\n",
        "            images, labels = images.to(device), labels.to(device)\n",
        "            outputs = model(images)\n",
        "            probs = torch.softmax(outputs, dim=1).cpu().numpy()  # Convert logits to probabilities\n",
        "            _, predicted = torch.max(outputs, 1)\n",
        "\n",
        "            all_labels.extend(labels.cpu().numpy())\n",
        "            all_preds.extend(predicted.cpu().numpy())\n",
        "            all_probs.extend(probs)\n",
        "\n",
        "    # Convert lists to numpy arrays\n",
        "    all_labels = np.array(all_labels)\n",
        "    all_preds = np.array(all_preds)\n",
        "    all_probs = np.array(all_probs)\n",
        "\n",
        "    # 📊 Confusion Matrix\n",
        "    plot_confusion_matrix(all_labels, all_preds, class_names)\n",
        "\n",
        "    # 🏆 Precision, Recall, and F1-Score Table\n",
        "    print_classification_report(all_labels, all_preds, class_names)\n",
        "\n",
        "    # 📈 ROC Curve\n",
        "    plot_roc_curve(all_labels, all_probs, num_classes=len(class_names))\n",
        "\n",
        "# Call Evaluation Function\n",
        "evaluate_model(model, test_loader, train_dataset.class_names)\n"
      ]
    },
    {
      "cell_type": "code",
      "execution_count": null,
      "metadata": {
        "id": "_rAjyGqdoKC9"
      },
      "outputs": [],
      "source": []
    },
    {
      "cell_type": "code",
      "execution_count": null,
      "metadata": {
        "id": "oHmBJJgtoJ-Q"
      },
      "outputs": [],
      "source": []
    }
  ],
  "metadata": {
    "accelerator": "GPU",
    "colab": {
      "gpuType": "T4",
      "machine_shape": "hm",
      "provenance": []
    },
    "kernelspec": {
      "display_name": "Python 3",
      "name": "python3"
    },
    "language_info": {
      "name": "python"
    }
  },
  "nbformat": 4,
  "nbformat_minor": 0
}
