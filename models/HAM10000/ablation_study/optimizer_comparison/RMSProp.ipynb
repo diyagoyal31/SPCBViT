{
 "cells": [
  {
   "cell_type": "markdown",
   "metadata": {},
   "source": [
    "# SPCBViTNet – RMSProp Ablation\n",
    "\n",
    "📌 Part of the ablation study for the submission:  \n",
    "**\"SPCBViTNet: Enhancing Skin Cancer Diagnosis with Multi-Scale Vision Transformers and Adaptive Spatial-Channel Attention\"**\n",
    "\n",
    "🔒 Not yet peer-reviewed. For review only.  \n",
    "📁 [GitHub Repo](https://github.com/diyagoyal31/SPCBViT)\n"
   ]
  },
  {
   "cell_type": "code",
   "execution_count": 1,
   "metadata": {},
   "outputs": [],
   "source": [
    "import torch\n",
    "import torch.nn as nn\n",
    "import torch.optim as optim\n",
    "from torch.utils.data import Dataset, DataLoader\n",
    "import torchvision.transforms as transforms\n",
    "from PIL import Image\n",
    "import os"
   ]
  },
  {
   "cell_type": "code",
   "execution_count": 2,
   "metadata": {},
   "outputs": [
    {
     "name": "stdout",
     "output_type": "stream",
     "text": [
      "Using device: cuda\n"
     ]
    }
   ],
   "source": [
    "device = torch.device(\"cuda\" if torch.cuda.is_available() else \"cpu\")\n",
    "print(f\"Using device: {device}\")\n"
   ]
  },
  {
   "cell_type": "code",
   "execution_count": 3,
   "metadata": {},
   "outputs": [],
   "source": [
    "from torchvision import transforms\n",
    "from PIL import Image\n",
    "class SkinCancerDataset(Dataset):\n",
    "    def __init__(self, root_dir, transform=None):\n",
    "        self.root_dir = root_dir\n",
    "        self.transform = transform  # Default transform applied in __getitem__\n",
    "        self.image_paths = []\n",
    "        self.labels = []\n",
    "\n",
    "        self.class_names = sorted([d for d in os.listdir(root_dir) if os.path.isdir(os.path.join(root_dir, d))])\n",
    "        self.class_to_idx = {cls_name: i for i, cls_name in enumerate(self.class_names)}\n",
    "\n",
    "        for cls_name in self.class_names:\n",
    "            cls_folder = os.path.join(root_dir, cls_name)\n",
    "            for img_name in os.listdir(cls_folder):\n",
    "                img_path = os.path.join(cls_folder, img_name)\n",
    "                if img_path.lower().endswith(('.jpg', '.jpeg', '.png')):  # Supports multiple formats\n",
    "                    self.image_paths.append(img_path)\n",
    "                    self.labels.append(self.class_to_idx[cls_name])\n",
    "\n",
    "    def __len__(self):\n",
    "        return len(self.image_paths)\n",
    "\n",
    "    def __getitem__(self, idx):\n",
    "        img_path = self.image_paths[idx]\n",
    "        label = self.labels[idx]\n",
    "\n",
    "        # Load and convert image\n",
    "        image = Image.open(img_path).convert(\"RGB\")\n",
    "\n",
    "        # Apply transform (if provided), otherwise apply default ToTensor\n",
    "        if self.transform:\n",
    "            image = self.transform(image)\n",
    "        else:\n",
    "            image = transforms.ToTensor()(image)\n",
    "\n",
    "        return image, torch.tensor(label, dtype=torch.long)"
   ]
  },
  {
   "cell_type": "code",
   "execution_count": 4,
   "metadata": {},
   "outputs": [],
   "source": [
    "import torchvision.transforms.functional as TF\n",
    "import random"
   ]
  },
  {
   "cell_type": "code",
   "execution_count": 5,
   "metadata": {},
   "outputs": [],
   "source": [
    "import torch\n",
    "import torch.nn as nn\n",
    "import torch.nn.functional as F\n",
    "\n",
    "\n",
    "class SKFeaturePyramid(nn.Module):\n",
    "    def __init__(self, in_channels):\n",
    "        super(SKFeaturePyramid, self).__init__()\n",
    "        self.conv1 = nn.Conv2d(in_channels, in_channels, kernel_size=1)\n",
    "        self.conv3 = nn.Conv2d(in_channels, in_channels, kernel_size=3, padding=1)\n",
    "        self.conv5 = nn.Conv2d(in_channels, in_channels, kernel_size=5, padding=2)\n",
    "        self.fc = nn.Linear(in_channels, 3)\n",
    "        self.softmax = nn.Softmax(dim=1)\n",
    "\n",
    "    def forward(self, x):\n",
    "        f1 = self.conv1(x)\n",
    "        f2 = self.conv3(x)\n",
    "        f3 = self.conv5(x)\n",
    "        f_sum = f1 + f2 + f3\n",
    "        f_weights = self.softmax(self.fc(f_sum.mean(dim=(2, 3)))).unsqueeze(-1).unsqueeze(-1)\n",
    "        return f1 * f_weights[:, 0].view(-1, 1, 1, 1) + \\\n",
    "               f2 * f_weights[:, 1].view(-1, 1, 1, 1) + \\\n",
    "               f3 * f_weights[:, 2].view(-1, 1, 1, 1)\n",
    "\n",
    "\n",
    "class SelfInteractiveAttention(nn.Module):\n",
    "    def __init__(self, in_channels):\n",
    "        super(SelfInteractiveAttention, self).__init__()\n",
    "        self.channel_attn = nn.Sequential(\n",
    "            nn.AdaptiveAvgPool2d(1),\n",
    "            nn.Conv2d(in_channels, in_channels, kernel_size=1),\n",
    "            nn.Sigmoid()\n",
    "        )\n",
    "        self.spatial_attn = nn.Conv2d(in_channels, 1, kernel_size=7, padding=3)\n",
    "\n",
    "    def forward(self, x):\n",
    "        ca = self.channel_attn(x) * x\n",
    "        sa = torch.sigmoid(self.spatial_attn(x)) * x\n",
    "        return ca + sa\n",
    "\n",
    "\n",
    "class HigherOrderInteraction(nn.Module):\n",
    "    def __init__(self, in_channels1, in_channels2, out_channels):\n",
    "        super(HigherOrderInteraction, self).__init__()\n",
    "        self.conv1 = nn.Conv2d(in_channels1, out_channels, kernel_size=1)\n",
    "        self.conv2 = nn.Conv2d(in_channels2, out_channels, kernel_size=1)\n",
    "        self.bilinear_pool = nn.Conv2d(out_channels, out_channels, kernel_size=1)\n",
    "        self.trilinear_pool = nn.Conv2d(out_channels, out_channels, kernel_size=1)\n",
    "\n",
    "    def forward(self, x1, x2):\n",
    "        x1 = self.conv1(x1)\n",
    "        x2 = self.conv2(x2)\n",
    "        if x1.shape[2:] != x2.shape[2:]:\n",
    "            x2 = F.interpolate(x2, size=x1.shape[2:], mode='bilinear', align_corners=False)\n",
    "        return self.bilinear_pool(x1 * x2) + self.trilinear_pool(x1 + x2)\n",
    "\n",
    "\n",
    "class SPCBViTNet(nn.Module):\n",
    "    def __init__(self, vit_model, num_classes, patch_grid=(14, 14)):\n",
    "        super(SPCBViTNet, self).__init__()\n",
    "        self.vit_model = vit_model\n",
    "        self.hidden_size = vit_model.config.hidden_size\n",
    "        self.patch_grid = patch_grid  # E.g. 14x14 for ViT-B/16\n",
    "\n",
    "        # SPCB modules\n",
    "        self.sk = SKFeaturePyramid(self.hidden_size)\n",
    "        self.attn = SelfInteractiveAttention(self.hidden_size)\n",
    "        self.higher_order = HigherOrderInteraction(self.hidden_size, self.hidden_size, self.hidden_size)\n",
    "\n",
    "        self.global_avg = nn.AdaptiveAvgPool2d(1)\n",
    "        self.classifier = nn.Sequential(\n",
    "            nn.Linear(self.hidden_size, 512),\n",
    "            nn.GELU(),\n",
    "            nn.Dropout(0.5),\n",
    "            nn.Linear(512, num_classes)\n",
    "        )\n",
    "\n",
    "    def forward(self, x):\n",
    "        vit_out = self.vit_model(pixel_values=x).last_hidden_state  # [B, N+1, C]\n",
    "        cls_token = vit_out[:, 0]  # CLS token\n",
    "        patch_tokens = vit_out[:, 1:]  # [B, N, C]\n",
    "\n",
    "        # Convert patch tokens to 2D feature maps\n",
    "        B, N, C = patch_tokens.size()\n",
    "        H, W = self.patch_grid\n",
    "        patch_map = patch_tokens.permute(0, 2, 1).contiguous().view(B, C, H, W)\n",
    "\n",
    "        # SPCB modules\n",
    "        f1 = self.sk(patch_map)\n",
    "        f2 = self.attn(f1)\n",
    "        f3 = self.higher_order(f1, f2)\n",
    "\n",
    "        out = self.global_avg(f3).view(B, -1)\n",
    "        return self.classifier(out)\n"
   ]
  },
  {
   "cell_type": "code",
   "execution_count": 6,
   "metadata": {},
   "outputs": [
    {
     "name": "stderr",
     "output_type": "stream",
     "text": [
      "/home/lab115/.local/lib/python3.8/site-packages/tqdm/auto.py:21: TqdmWarning: IProgress not found. Please update jupyter and ipywidgets. See https://ipywidgets.readthedocs.io/en/stable/user_install.html\n",
      "  from .autonotebook import tqdm as notebook_tqdm\n"
     ]
    }
   ],
   "source": [
    "from transformers import ViTModel\n",
    "\n",
    "vit_model = ViTModel.from_pretrained(\"google/vit-base-patch16-224-in21k\")\n",
    "\n",
    "model = SPCBViTNet(vit_model=vit_model, num_classes=7, patch_grid=(14, 14))\n"
   ]
  },
  {
   "cell_type": "code",
   "execution_count": 7,
   "metadata": {},
   "outputs": [
    {
     "name": "stdout",
     "output_type": "stream",
     "text": [
      "\n",
      "🚀 Training Fold 1/10\n",
      "🔄 Resuming from epoch 0, best accuracy: 0.00%\n"
     ]
    },
    {
     "name": "stderr",
     "output_type": "stream",
     "text": [
      "Epoch [1/50]: 100%|███████| 282/282 [01:55<00:00,  2.44it/s, acc=64, loss=0.843]\n"
     ]
    },
    {
     "name": "stdout",
     "output_type": "stream",
     "text": [
      "✅ Fold 1: Test Accuracy = 66.97%\n",
      "🎯 New best model saved with accuracy: 66.97%\n"
     ]
    },
    {
     "name": "stderr",
     "output_type": "stream",
     "text": [
      "Epoch [2/50]: 100%|█████| 282/282 [01:27<00:00,  3.22it/s, acc=66.9, loss=0.927]\n"
     ]
    },
    {
     "name": "stdout",
     "output_type": "stream",
     "text": [
      "✅ Fold 1: Test Accuracy = 66.97%\n"
     ]
    },
    {
     "name": "stderr",
     "output_type": "stream",
     "text": [
      "Epoch [3/50]: 100%|██████| 282/282 [01:27<00:00,  3.22it/s, acc=66.8, loss=1.17]\n"
     ]
    },
    {
     "name": "stdout",
     "output_type": "stream",
     "text": [
      "✅ Fold 1: Test Accuracy = 66.97%\n"
     ]
    },
    {
     "name": "stderr",
     "output_type": "stream",
     "text": [
      "Epoch [4/50]: 100%|██████| 282/282 [01:27<00:00,  3.21it/s, acc=66.4, loss=1.03]\n"
     ]
    },
    {
     "name": "stdout",
     "output_type": "stream",
     "text": [
      "✅ Fold 1: Test Accuracy = 66.97%\n"
     ]
    },
    {
     "name": "stderr",
     "output_type": "stream",
     "text": [
      "Epoch [5/50]: 100%|██████| 282/282 [01:27<00:00,  3.21it/s, acc=66.9, loss=1.25]\n"
     ]
    },
    {
     "name": "stdout",
     "output_type": "stream",
     "text": [
      "✅ Fold 1: Test Accuracy = 66.97%\n"
     ]
    },
    {
     "name": "stderr",
     "output_type": "stream",
     "text": [
      "Epoch [6/50]: 100%|██████| 282/282 [01:27<00:00,  3.21it/s, acc=66.9, loss=1.12]\n"
     ]
    },
    {
     "name": "stdout",
     "output_type": "stream",
     "text": [
      "✅ Fold 1: Test Accuracy = 66.97%\n"
     ]
    },
    {
     "name": "stderr",
     "output_type": "stream",
     "text": [
      "Epoch [7/50]: 100%|██████| 282/282 [01:27<00:00,  3.21it/s, acc=64.8, loss=2.21]\n"
     ]
    },
    {
     "name": "stdout",
     "output_type": "stream",
     "text": [
      "✅ Fold 1: Test Accuracy = 66.97%\n"
     ]
    },
    {
     "name": "stderr",
     "output_type": "stream",
     "text": [
      "Epoch [8/50]: 100%|█████| 282/282 [01:27<00:00,  3.21it/s, acc=66.9, loss=0.985]\n"
     ]
    },
    {
     "name": "stdout",
     "output_type": "stream",
     "text": [
      "✅ Fold 1: Test Accuracy = 66.97%\n"
     ]
    },
    {
     "name": "stderr",
     "output_type": "stream",
     "text": [
      "Epoch [9/50]: 100%|█████| 282/282 [01:27<00:00,  3.22it/s, acc=66.8, loss=0.999]\n"
     ]
    },
    {
     "name": "stdout",
     "output_type": "stream",
     "text": [
      "✅ Fold 1: Test Accuracy = 66.97%\n"
     ]
    },
    {
     "name": "stderr",
     "output_type": "stream",
     "text": [
      "Epoch [10/50]: 100%|█████| 282/282 [01:27<00:00,  3.22it/s, acc=65.7, loss=1.14]\n"
     ]
    },
    {
     "name": "stdout",
     "output_type": "stream",
     "text": [
      "✅ Fold 1: Test Accuracy = 66.97%\n"
     ]
    },
    {
     "name": "stderr",
     "output_type": "stream",
     "text": [
      "Epoch [11/50]: 100%|█████| 282/282 [01:27<00:00,  3.22it/s, acc=66.7, loss=1.21]\n"
     ]
    },
    {
     "name": "stdout",
     "output_type": "stream",
     "text": [
      "✅ Fold 1: Test Accuracy = 66.97%\n"
     ]
    },
    {
     "name": "stderr",
     "output_type": "stream",
     "text": [
      "Epoch [12/50]: 100%|█████| 282/282 [01:27<00:00,  3.23it/s, acc=66.6, loss=1.47]\n"
     ]
    },
    {
     "name": "stdout",
     "output_type": "stream",
     "text": [
      "✅ Fold 1: Test Accuracy = 66.97%\n"
     ]
    },
    {
     "name": "stderr",
     "output_type": "stream",
     "text": [
      "Epoch [13/50]: 100%|█████| 282/282 [01:27<00:00,  3.23it/s, acc=66.9, loss=1.11]\n"
     ]
    },
    {
     "name": "stdout",
     "output_type": "stream",
     "text": [
      "✅ Fold 1: Test Accuracy = 66.97%\n"
     ]
    },
    {
     "name": "stderr",
     "output_type": "stream",
     "text": [
      "Epoch [14/50]: 100%|█████| 282/282 [01:27<00:00,  3.23it/s, acc=66.9, loss=1.18]\n"
     ]
    },
    {
     "name": "stdout",
     "output_type": "stream",
     "text": [
      "✅ Fold 1: Test Accuracy = 66.97%\n"
     ]
    },
    {
     "name": "stderr",
     "output_type": "stream",
     "text": [
      "Epoch [15/50]: 100%|█████| 282/282 [01:27<00:00,  3.23it/s, acc=66.9, loss=1.57]\n"
     ]
    },
    {
     "name": "stdout",
     "output_type": "stream",
     "text": [
      "✅ Fold 1: Test Accuracy = 66.97%\n"
     ]
    },
    {
     "name": "stderr",
     "output_type": "stream",
     "text": [
      "Epoch [16/50]: 100%|█████| 282/282 [01:27<00:00,  3.23it/s, acc=66.9, loss=1.77]\n"
     ]
    },
    {
     "name": "stdout",
     "output_type": "stream",
     "text": [
      "✅ Fold 1: Test Accuracy = 64.57%\n"
     ]
    },
    {
     "name": "stderr",
     "output_type": "stream",
     "text": [
      "Epoch [17/50]: 100%|████| 282/282 [01:27<00:00,  3.24it/s, acc=65.4, loss=0.772]\n"
     ]
    },
    {
     "name": "stdout",
     "output_type": "stream",
     "text": [
      "✅ Fold 1: Test Accuracy = 66.97%\n"
     ]
    },
    {
     "name": "stderr",
     "output_type": "stream",
     "text": [
      "Epoch [18/50]: 100%|████| 282/282 [01:27<00:00,  3.23it/s, acc=66.9, loss=0.826]\n"
     ]
    },
    {
     "name": "stdout",
     "output_type": "stream",
     "text": [
      "✅ Fold 1: Test Accuracy = 66.97%\n"
     ]
    },
    {
     "name": "stderr",
     "output_type": "stream",
     "text": [
      "Epoch [19/50]: 100%|█████| 282/282 [01:27<00:00,  3.24it/s, acc=66.9, loss=1.02]\n"
     ]
    },
    {
     "name": "stdout",
     "output_type": "stream",
     "text": [
      "✅ Fold 1: Test Accuracy = 66.97%\n"
     ]
    },
    {
     "name": "stderr",
     "output_type": "stream",
     "text": [
      "Epoch [20/50]: 100%|█████| 282/282 [01:27<00:00,  3.23it/s, acc=66.9, loss=1.54]\n"
     ]
    },
    {
     "name": "stdout",
     "output_type": "stream",
     "text": [
      "✅ Fold 1: Test Accuracy = 66.97%\n"
     ]
    },
    {
     "name": "stderr",
     "output_type": "stream",
     "text": [
      "Epoch [21/50]: 100%|████| 282/282 [01:27<00:00,  3.23it/s, acc=66.9, loss=0.674]\n"
     ]
    },
    {
     "name": "stdout",
     "output_type": "stream",
     "text": [
      "✅ Fold 1: Test Accuracy = 66.97%\n"
     ]
    },
    {
     "name": "stderr",
     "output_type": "stream",
     "text": [
      "Epoch [22/50]: 100%|████| 282/282 [01:27<00:00,  3.23it/s, acc=66.9, loss=0.997]\n"
     ]
    },
    {
     "name": "stdout",
     "output_type": "stream",
     "text": [
      "✅ Fold 1: Test Accuracy = 66.97%\n"
     ]
    },
    {
     "name": "stderr",
     "output_type": "stream",
     "text": [
      "Epoch [23/50]: 100%|████| 282/282 [01:27<00:00,  3.23it/s, acc=66.9, loss=0.955]\n"
     ]
    },
    {
     "name": "stdout",
     "output_type": "stream",
     "text": [
      "✅ Fold 1: Test Accuracy = 66.97%\n"
     ]
    },
    {
     "name": "stderr",
     "output_type": "stream",
     "text": [
      "Epoch [24/50]: 100%|██████| 282/282 [01:27<00:00,  3.23it/s, acc=66.9, loss=1.2]\n"
     ]
    },
    {
     "name": "stdout",
     "output_type": "stream",
     "text": [
      "✅ Fold 1: Test Accuracy = 66.97%\n"
     ]
    },
    {
     "name": "stderr",
     "output_type": "stream",
     "text": [
      "Epoch [25/50]: 100%|█████| 282/282 [01:27<00:00,  3.23it/s, acc=66.9, loss=1.14]\n"
     ]
    },
    {
     "name": "stdout",
     "output_type": "stream",
     "text": [
      "✅ Fold 1: Test Accuracy = 66.97%\n"
     ]
    },
    {
     "name": "stderr",
     "output_type": "stream",
     "text": [
      "Epoch [26/50]: 100%|████| 282/282 [01:27<00:00,  3.23it/s, acc=66.9, loss=0.926]\n"
     ]
    },
    {
     "name": "stdout",
     "output_type": "stream",
     "text": [
      "✅ Fold 1: Test Accuracy = 66.97%\n"
     ]
    },
    {
     "name": "stderr",
     "output_type": "stream",
     "text": [
      "Epoch [27/50]: 100%|█████| 282/282 [01:27<00:00,  3.23it/s, acc=66.6, loss=1.24]\n"
     ]
    },
    {
     "name": "stdout",
     "output_type": "stream",
     "text": [
      "✅ Fold 1: Test Accuracy = 66.97%\n"
     ]
    },
    {
     "name": "stderr",
     "output_type": "stream",
     "text": [
      "Epoch [28/50]: 100%|████| 282/282 [01:27<00:00,  3.23it/s, acc=66.9, loss=0.967]\n"
     ]
    },
    {
     "name": "stdout",
     "output_type": "stream",
     "text": [
      "✅ Fold 1: Test Accuracy = 66.97%\n"
     ]
    },
    {
     "name": "stderr",
     "output_type": "stream",
     "text": [
      "Epoch [29/50]: 100%|█████| 282/282 [01:27<00:00,  3.23it/s, acc=66.9, loss=1.15]\n"
     ]
    },
    {
     "name": "stdout",
     "output_type": "stream",
     "text": [
      "✅ Fold 1: Test Accuracy = 66.97%\n"
     ]
    },
    {
     "name": "stderr",
     "output_type": "stream",
     "text": [
      "Epoch [30/50]: 100%|████| 282/282 [01:27<00:00,  3.23it/s, acc=66.9, loss=0.919]\n"
     ]
    },
    {
     "name": "stdout",
     "output_type": "stream",
     "text": [
      "✅ Fold 1: Test Accuracy = 66.97%\n"
     ]
    },
    {
     "name": "stderr",
     "output_type": "stream",
     "text": [
      "Epoch [31/50]: 100%|█████| 282/282 [01:27<00:00,  3.23it/s, acc=66.9, loss=1.08]\n"
     ]
    },
    {
     "name": "stdout",
     "output_type": "stream",
     "text": [
      "✅ Fold 1: Test Accuracy = 66.97%\n"
     ]
    },
    {
     "name": "stderr",
     "output_type": "stream",
     "text": [
      "Epoch [32/50]: 100%|█████| 282/282 [01:27<00:00,  3.23it/s, acc=66.9, loss=1.26]\n"
     ]
    },
    {
     "name": "stdout",
     "output_type": "stream",
     "text": [
      "✅ Fold 1: Test Accuracy = 66.97%\n"
     ]
    },
    {
     "name": "stderr",
     "output_type": "stream",
     "text": [
      "Epoch [33/50]: 100%|█████| 282/282 [01:27<00:00,  3.23it/s, acc=66.6, loss=1.48]\n"
     ]
    },
    {
     "name": "stdout",
     "output_type": "stream",
     "text": [
      "✅ Fold 1: Test Accuracy = 66.97%\n"
     ]
    },
    {
     "name": "stderr",
     "output_type": "stream",
     "text": [
      "Epoch [34/50]: 100%|████| 282/282 [01:27<00:00,  3.23it/s, acc=66.9, loss=0.841]\n"
     ]
    },
    {
     "name": "stdout",
     "output_type": "stream",
     "text": [
      "✅ Fold 1: Test Accuracy = 66.97%\n"
     ]
    },
    {
     "name": "stderr",
     "output_type": "stream",
     "text": [
      "Epoch [35/50]: 100%|████| 282/282 [01:27<00:00,  3.23it/s, acc=66.9, loss=0.802]\n"
     ]
    },
    {
     "name": "stdout",
     "output_type": "stream",
     "text": [
      "✅ Fold 1: Test Accuracy = 66.97%\n"
     ]
    },
    {
     "name": "stderr",
     "output_type": "stream",
     "text": [
      "Epoch [36/50]: 100%|████| 282/282 [01:27<00:00,  3.23it/s, acc=66.9, loss=0.923]\n"
     ]
    },
    {
     "name": "stdout",
     "output_type": "stream",
     "text": [
      "✅ Fold 1: Test Accuracy = 66.97%\n"
     ]
    },
    {
     "name": "stderr",
     "output_type": "stream",
     "text": [
      "Epoch [37/50]: 100%|█████| 282/282 [01:27<00:00,  3.23it/s, acc=66.9, loss=1.17]\n"
     ]
    },
    {
     "name": "stdout",
     "output_type": "stream",
     "text": [
      "✅ Fold 1: Test Accuracy = 66.97%\n"
     ]
    },
    {
     "name": "stderr",
     "output_type": "stream",
     "text": [
      "Epoch [38/50]: 100%|█████| 282/282 [01:27<00:00,  3.23it/s, acc=66.9, loss=1.07]\n"
     ]
    },
    {
     "name": "stdout",
     "output_type": "stream",
     "text": [
      "✅ Fold 1: Test Accuracy = 66.97%\n"
     ]
    },
    {
     "name": "stderr",
     "output_type": "stream",
     "text": [
      "Epoch [39/50]: 100%|█████| 282/282 [01:27<00:00,  3.23it/s, acc=66.9, loss=1.29]\n"
     ]
    },
    {
     "name": "stdout",
     "output_type": "stream",
     "text": [
      "✅ Fold 1: Test Accuracy = 66.97%\n"
     ]
    },
    {
     "name": "stderr",
     "output_type": "stream",
     "text": [
      "Epoch [40/50]: 100%|█████| 282/282 [01:27<00:00,  3.23it/s, acc=65.9, loss=1.43]\n"
     ]
    },
    {
     "name": "stdout",
     "output_type": "stream",
     "text": [
      "✅ Fold 1: Test Accuracy = 66.97%\n"
     ]
    },
    {
     "name": "stderr",
     "output_type": "stream",
     "text": [
      "Epoch [41/50]: 100%|██████| 282/282 [01:27<00:00,  3.24it/s, acc=66.9, loss=1.2]\n"
     ]
    },
    {
     "name": "stdout",
     "output_type": "stream",
     "text": [
      "✅ Fold 1: Test Accuracy = 66.97%\n"
     ]
    },
    {
     "name": "stderr",
     "output_type": "stream",
     "text": [
      "Epoch [42/50]: 100%|████| 282/282 [01:27<00:00,  3.24it/s, acc=66.9, loss=0.894]\n"
     ]
    },
    {
     "name": "stdout",
     "output_type": "stream",
     "text": [
      "✅ Fold 1: Test Accuracy = 66.97%\n"
     ]
    },
    {
     "name": "stderr",
     "output_type": "stream",
     "text": [
      "Epoch [43/50]: 100%|████| 282/282 [01:27<00:00,  3.23it/s, acc=66.9, loss=0.924]\n"
     ]
    },
    {
     "name": "stdout",
     "output_type": "stream",
     "text": [
      "✅ Fold 1: Test Accuracy = 66.97%\n"
     ]
    },
    {
     "name": "stderr",
     "output_type": "stream",
     "text": [
      "Epoch [44/50]: 100%|█████| 282/282 [01:27<00:00,  3.23it/s, acc=66.9, loss=1.57]\n"
     ]
    },
    {
     "name": "stdout",
     "output_type": "stream",
     "text": [
      "✅ Fold 1: Test Accuracy = 66.97%\n"
     ]
    },
    {
     "name": "stderr",
     "output_type": "stream",
     "text": [
      "Epoch [45/50]: 100%|█████| 282/282 [01:27<00:00,  3.23it/s, acc=66.9, loss=1.17]\n"
     ]
    },
    {
     "name": "stdout",
     "output_type": "stream",
     "text": [
      "✅ Fold 1: Test Accuracy = 66.87%\n"
     ]
    },
    {
     "name": "stderr",
     "output_type": "stream",
     "text": [
      "Epoch [46/50]: 100%|█████| 282/282 [01:27<00:00,  3.22it/s, acc=66.9, loss=1.12]\n"
     ]
    },
    {
     "name": "stdout",
     "output_type": "stream",
     "text": [
      "✅ Fold 1: Test Accuracy = 66.97%\n"
     ]
    },
    {
     "name": "stderr",
     "output_type": "stream",
     "text": [
      "Epoch [47/50]: 100%|████| 282/282 [01:27<00:00,  3.22it/s, acc=66.9, loss=0.973]\n"
     ]
    },
    {
     "name": "stdout",
     "output_type": "stream",
     "text": [
      "✅ Fold 1: Test Accuracy = 66.97%\n"
     ]
    },
    {
     "name": "stderr",
     "output_type": "stream",
     "text": [
      "Epoch [48/50]: 100%|████| 282/282 [01:27<00:00,  3.22it/s, acc=66.9, loss=0.975]\n"
     ]
    },
    {
     "name": "stdout",
     "output_type": "stream",
     "text": [
      "✅ Fold 1: Test Accuracy = 66.97%\n"
     ]
    },
    {
     "name": "stderr",
     "output_type": "stream",
     "text": [
      "Epoch [49/50]: 100%|█████| 282/282 [01:27<00:00,  3.22it/s, acc=66.9, loss=1.33]\n"
     ]
    },
    {
     "name": "stdout",
     "output_type": "stream",
     "text": [
      "✅ Fold 1: Test Accuracy = 66.97%\n"
     ]
    },
    {
     "name": "stderr",
     "output_type": "stream",
     "text": [
      "Epoch [50/50]: 100%|██████| 282/282 [01:27<00:00,  3.22it/s, acc=66.8, loss=1.5]\n"
     ]
    },
    {
     "name": "stdout",
     "output_type": "stream",
     "text": [
      "✅ Fold 1: Test Accuracy = 66.87%\n",
      "\n",
      "🚀 Training Fold 2/10\n",
      "🔄 Resuming from epoch 0, best accuracy: 0.00%\n"
     ]
    },
    {
     "name": "stderr",
     "output_type": "stream",
     "text": [
      "Epoch [1/50]: 100%|██████| 282/282 [01:27<00:00,  3.23it/s, acc=63.6, loss=1.02]\n"
     ]
    },
    {
     "name": "stdout",
     "output_type": "stream",
     "text": [
      "✅ Fold 2: Test Accuracy = 66.97%\n",
      "🎯 New best model saved with accuracy: 66.97%\n"
     ]
    },
    {
     "name": "stderr",
     "output_type": "stream",
     "text": [
      "Epoch [2/50]: 100%|█████| 282/282 [01:27<00:00,  3.23it/s, acc=66.8, loss=0.919]\n"
     ]
    },
    {
     "name": "stdout",
     "output_type": "stream",
     "text": [
      "✅ Fold 2: Test Accuracy = 66.97%\n"
     ]
    },
    {
     "name": "stderr",
     "output_type": "stream",
     "text": [
      "Epoch [3/50]: 100%|██████| 282/282 [01:27<00:00,  3.22it/s, acc=66.8, loss=1.11]\n"
     ]
    },
    {
     "name": "stdout",
     "output_type": "stream",
     "text": [
      "✅ Fold 2: Test Accuracy = 66.97%\n"
     ]
    },
    {
     "name": "stderr",
     "output_type": "stream",
     "text": [
      "Epoch [4/50]: 100%|██████| 282/282 [01:27<00:00,  3.22it/s, acc=66.9, loss=1.45]\n"
     ]
    },
    {
     "name": "stdout",
     "output_type": "stream",
     "text": [
      "✅ Fold 2: Test Accuracy = 66.97%\n"
     ]
    },
    {
     "name": "stderr",
     "output_type": "stream",
     "text": [
      "Epoch [5/50]: 100%|██████| 282/282 [01:27<00:00,  3.22it/s, acc=66.9, loss=1.23]\n"
     ]
    },
    {
     "name": "stdout",
     "output_type": "stream",
     "text": [
      "✅ Fold 2: Test Accuracy = 66.97%\n"
     ]
    },
    {
     "name": "stderr",
     "output_type": "stream",
     "text": [
      "Epoch [6/50]: 100%|█████| 282/282 [01:27<00:00,  3.22it/s, acc=66.9, loss=0.823]\n"
     ]
    },
    {
     "name": "stdout",
     "output_type": "stream",
     "text": [
      "✅ Fold 2: Test Accuracy = 66.97%\n"
     ]
    },
    {
     "name": "stderr",
     "output_type": "stream",
     "text": [
      "Epoch [7/50]: 100%|██████| 282/282 [01:27<00:00,  3.23it/s, acc=66.7, loss=1.64]\n"
     ]
    },
    {
     "name": "stdout",
     "output_type": "stream",
     "text": [
      "✅ Fold 2: Test Accuracy = 66.97%\n"
     ]
    },
    {
     "name": "stderr",
     "output_type": "stream",
     "text": [
      "Epoch [8/50]: 100%|█████| 282/282 [01:27<00:00,  3.22it/s, acc=66.9, loss=0.893]\n"
     ]
    },
    {
     "name": "stdout",
     "output_type": "stream",
     "text": [
      "✅ Fold 2: Test Accuracy = 66.97%\n"
     ]
    },
    {
     "name": "stderr",
     "output_type": "stream",
     "text": [
      "Epoch [9/50]: 100%|█████| 282/282 [01:27<00:00,  3.22it/s, acc=66.9, loss=0.763]\n"
     ]
    },
    {
     "name": "stdout",
     "output_type": "stream",
     "text": [
      "✅ Fold 2: Test Accuracy = 66.97%\n"
     ]
    },
    {
     "name": "stderr",
     "output_type": "stream",
     "text": [
      "Epoch [10/50]: 100%|██████| 282/282 [01:27<00:00,  3.22it/s, acc=66.9, loss=1.3]\n"
     ]
    },
    {
     "name": "stdout",
     "output_type": "stream",
     "text": [
      "✅ Fold 2: Test Accuracy = 66.97%\n"
     ]
    },
    {
     "name": "stderr",
     "output_type": "stream",
     "text": [
      "Epoch [11/50]: 100%|█████| 282/282 [01:27<00:00,  3.22it/s, acc=66.9, loss=1.22]\n"
     ]
    },
    {
     "name": "stdout",
     "output_type": "stream",
     "text": [
      "✅ Fold 2: Test Accuracy = 66.97%\n"
     ]
    },
    {
     "name": "stderr",
     "output_type": "stream",
     "text": [
      "Epoch [12/50]: 100%|█████| 282/282 [01:27<00:00,  3.22it/s, acc=66.8, loss=1.44]\n"
     ]
    },
    {
     "name": "stdout",
     "output_type": "stream",
     "text": [
      "✅ Fold 2: Test Accuracy = 66.97%\n"
     ]
    },
    {
     "name": "stderr",
     "output_type": "stream",
     "text": [
      "Epoch [13/50]: 100%|█████| 282/282 [01:27<00:00,  3.22it/s, acc=66.8, loss=1.01]\n"
     ]
    },
    {
     "name": "stdout",
     "output_type": "stream",
     "text": [
      "✅ Fold 2: Test Accuracy = 66.97%\n"
     ]
    },
    {
     "name": "stderr",
     "output_type": "stream",
     "text": [
      "Epoch [14/50]: 100%|█████| 282/282 [01:27<00:00,  3.22it/s, acc=66.7, loss=1.28]\n"
     ]
    },
    {
     "name": "stdout",
     "output_type": "stream",
     "text": [
      "✅ Fold 2: Test Accuracy = 66.97%\n"
     ]
    },
    {
     "name": "stderr",
     "output_type": "stream",
     "text": [
      "Epoch [15/50]: 100%|████| 282/282 [01:27<00:00,  3.22it/s, acc=66.9, loss=0.848]\n"
     ]
    },
    {
     "name": "stdout",
     "output_type": "stream",
     "text": [
      "✅ Fold 2: Test Accuracy = 66.97%\n"
     ]
    },
    {
     "name": "stderr",
     "output_type": "stream",
     "text": [
      "Epoch [16/50]: 100%|████| 282/282 [01:27<00:00,  3.22it/s, acc=66.7, loss=0.853]\n"
     ]
    },
    {
     "name": "stdout",
     "output_type": "stream",
     "text": [
      "✅ Fold 2: Test Accuracy = 67.07%\n",
      "🎯 New best model saved with accuracy: 67.07%\n"
     ]
    },
    {
     "name": "stderr",
     "output_type": "stream",
     "text": [
      "Epoch [17/50]: 100%|████| 282/282 [01:27<00:00,  3.23it/s, acc=66.9, loss=0.741]\n"
     ]
    },
    {
     "name": "stdout",
     "output_type": "stream",
     "text": [
      "✅ Fold 2: Test Accuracy = 66.47%\n"
     ]
    },
    {
     "name": "stderr",
     "output_type": "stream",
     "text": [
      "Epoch [18/50]: 100%|████| 282/282 [01:27<00:00,  3.22it/s, acc=66.6, loss=0.762]\n"
     ]
    },
    {
     "name": "stdout",
     "output_type": "stream",
     "text": [
      "✅ Fold 2: Test Accuracy = 66.97%\n"
     ]
    },
    {
     "name": "stderr",
     "output_type": "stream",
     "text": [
      "Epoch [19/50]: 100%|████| 282/282 [01:27<00:00,  3.22it/s, acc=66.7, loss=0.879]\n"
     ]
    },
    {
     "name": "stdout",
     "output_type": "stream",
     "text": [
      "✅ Fold 2: Test Accuracy = 67.27%\n",
      "🎯 New best model saved with accuracy: 67.27%\n"
     ]
    },
    {
     "name": "stderr",
     "output_type": "stream",
     "text": [
      "Epoch [20/50]: 100%|█████| 282/282 [01:27<00:00,  3.23it/s, acc=66.8, loss=1.36]\n"
     ]
    },
    {
     "name": "stdout",
     "output_type": "stream",
     "text": [
      "✅ Fold 2: Test Accuracy = 66.67%\n"
     ]
    },
    {
     "name": "stderr",
     "output_type": "stream",
     "text": [
      "Epoch [21/50]: 100%|█████| 282/282 [01:27<00:00,  3.22it/s, acc=66.7, loss=1.17]\n"
     ]
    },
    {
     "name": "stdout",
     "output_type": "stream",
     "text": [
      "✅ Fold 2: Test Accuracy = 66.97%\n"
     ]
    },
    {
     "name": "stderr",
     "output_type": "stream",
     "text": [
      "Epoch [22/50]: 100%|████| 282/282 [01:27<00:00,  3.22it/s, acc=66.5, loss=0.815]\n"
     ]
    },
    {
     "name": "stdout",
     "output_type": "stream",
     "text": [
      "✅ Fold 2: Test Accuracy = 66.97%\n"
     ]
    },
    {
     "name": "stderr",
     "output_type": "stream",
     "text": [
      "Epoch [23/50]: 100%|█████| 282/282 [01:27<00:00,  3.22it/s, acc=66.8, loss=1.65]\n"
     ]
    },
    {
     "name": "stdout",
     "output_type": "stream",
     "text": [
      "✅ Fold 2: Test Accuracy = 66.67%\n"
     ]
    },
    {
     "name": "stderr",
     "output_type": "stream",
     "text": [
      "Epoch [24/50]: 100%|████| 282/282 [01:27<00:00,  3.22it/s, acc=66.9, loss=0.694]\n"
     ]
    },
    {
     "name": "stdout",
     "output_type": "stream",
     "text": [
      "✅ Fold 2: Test Accuracy = 66.57%\n"
     ]
    },
    {
     "name": "stderr",
     "output_type": "stream",
     "text": [
      "Epoch [25/50]: 100%|█████| 282/282 [01:27<00:00,  3.22it/s, acc=66.8, loss=1.05]\n"
     ]
    },
    {
     "name": "stdout",
     "output_type": "stream",
     "text": [
      "✅ Fold 2: Test Accuracy = 66.97%\n"
     ]
    },
    {
     "name": "stderr",
     "output_type": "stream",
     "text": [
      "Epoch [26/50]: 100%|████| 282/282 [01:27<00:00,  3.22it/s, acc=67.1, loss=0.808]\n"
     ]
    },
    {
     "name": "stdout",
     "output_type": "stream",
     "text": [
      "✅ Fold 2: Test Accuracy = 66.57%\n"
     ]
    },
    {
     "name": "stderr",
     "output_type": "stream",
     "text": [
      "Epoch [27/50]: 100%|████| 282/282 [01:27<00:00,  3.22it/s, acc=66.9, loss=0.823]\n"
     ]
    },
    {
     "name": "stdout",
     "output_type": "stream",
     "text": [
      "✅ Fold 2: Test Accuracy = 67.07%\n"
     ]
    },
    {
     "name": "stderr",
     "output_type": "stream",
     "text": [
      "Epoch [28/50]: 100%|████| 282/282 [01:27<00:00,  3.21it/s, acc=67.3, loss=0.784]\n"
     ]
    },
    {
     "name": "stdout",
     "output_type": "stream",
     "text": [
      "✅ Fold 2: Test Accuracy = 67.27%\n"
     ]
    },
    {
     "name": "stderr",
     "output_type": "stream",
     "text": [
      "Epoch [29/50]: 100%|█████| 282/282 [01:27<00:00,  3.21it/s, acc=67.3, loss=1.04]\n"
     ]
    },
    {
     "name": "stdout",
     "output_type": "stream",
     "text": [
      "✅ Fold 2: Test Accuracy = 67.17%\n"
     ]
    },
    {
     "name": "stderr",
     "output_type": "stream",
     "text": [
      "Epoch [30/50]: 100%|████| 282/282 [01:27<00:00,  3.22it/s, acc=66.8, loss=0.727]\n"
     ]
    },
    {
     "name": "stdout",
     "output_type": "stream",
     "text": [
      "✅ Fold 2: Test Accuracy = 67.07%\n"
     ]
    },
    {
     "name": "stderr",
     "output_type": "stream",
     "text": [
      "Epoch [31/50]: 100%|█████| 282/282 [01:27<00:00,  3.21it/s, acc=67.2, loss=1.11]\n"
     ]
    },
    {
     "name": "stdout",
     "output_type": "stream",
     "text": [
      "✅ Fold 2: Test Accuracy = 67.27%\n"
     ]
    },
    {
     "name": "stderr",
     "output_type": "stream",
     "text": [
      "Epoch [32/50]: 100%|█████| 282/282 [01:27<00:00,  3.22it/s, acc=67.1, loss=1.41]\n"
     ]
    },
    {
     "name": "stdout",
     "output_type": "stream",
     "text": [
      "✅ Fold 2: Test Accuracy = 67.07%\n"
     ]
    },
    {
     "name": "stderr",
     "output_type": "stream",
     "text": [
      "Epoch [33/50]: 100%|█████| 282/282 [01:27<00:00,  3.22it/s, acc=67.4, loss=1.15]\n"
     ]
    },
    {
     "name": "stdout",
     "output_type": "stream",
     "text": [
      "✅ Fold 2: Test Accuracy = 66.47%\n"
     ]
    },
    {
     "name": "stderr",
     "output_type": "stream",
     "text": [
      "Epoch [34/50]: 100%|█████| 282/282 [01:27<00:00,  3.22it/s, acc=66.6, loss=1.06]\n"
     ]
    },
    {
     "name": "stdout",
     "output_type": "stream",
     "text": [
      "✅ Fold 2: Test Accuracy = 66.17%\n"
     ]
    },
    {
     "name": "stderr",
     "output_type": "stream",
     "text": [
      "Epoch [35/50]: 100%|█████| 282/282 [01:27<00:00,  3.21it/s, acc=67.1, loss=1.04]\n"
     ]
    },
    {
     "name": "stdout",
     "output_type": "stream",
     "text": [
      "✅ Fold 2: Test Accuracy = 66.97%\n"
     ]
    },
    {
     "name": "stderr",
     "output_type": "stream",
     "text": [
      "Epoch [36/50]: 100%|████| 282/282 [01:27<00:00,  3.21it/s, acc=66.9, loss=0.725]\n"
     ]
    },
    {
     "name": "stdout",
     "output_type": "stream",
     "text": [
      "✅ Fold 2: Test Accuracy = 66.67%\n"
     ]
    },
    {
     "name": "stderr",
     "output_type": "stream",
     "text": [
      "Epoch [37/50]: 100%|████| 282/282 [01:27<00:00,  3.21it/s, acc=67.4, loss=0.749]\n"
     ]
    },
    {
     "name": "stdout",
     "output_type": "stream",
     "text": [
      "✅ Fold 2: Test Accuracy = 67.96%\n",
      "🎯 New best model saved with accuracy: 67.96%\n"
     ]
    },
    {
     "name": "stderr",
     "output_type": "stream",
     "text": [
      "Epoch [38/50]: 100%|████| 282/282 [01:27<00:00,  3.23it/s, acc=67.1, loss=0.684]\n"
     ]
    },
    {
     "name": "stdout",
     "output_type": "stream",
     "text": [
      "✅ Fold 2: Test Accuracy = 66.57%\n"
     ]
    },
    {
     "name": "stderr",
     "output_type": "stream",
     "text": [
      "Epoch [39/50]: 100%|█████| 282/282 [01:27<00:00,  3.22it/s, acc=67.5, loss=1.53]\n"
     ]
    },
    {
     "name": "stdout",
     "output_type": "stream",
     "text": [
      "✅ Fold 2: Test Accuracy = 67.07%\n"
     ]
    },
    {
     "name": "stderr",
     "output_type": "stream",
     "text": [
      "Epoch [40/50]: 100%|████| 282/282 [01:27<00:00,  3.22it/s, acc=67.2, loss=0.812]\n"
     ]
    },
    {
     "name": "stdout",
     "output_type": "stream",
     "text": [
      "✅ Fold 2: Test Accuracy = 67.47%\n"
     ]
    },
    {
     "name": "stderr",
     "output_type": "stream",
     "text": [
      "Epoch [41/50]: 100%|████| 282/282 [01:27<00:00,  3.21it/s, acc=67.6, loss=0.756]\n"
     ]
    },
    {
     "name": "stdout",
     "output_type": "stream",
     "text": [
      "✅ Fold 2: Test Accuracy = 67.86%\n"
     ]
    },
    {
     "name": "stderr",
     "output_type": "stream",
     "text": [
      "Epoch [42/50]: 100%|████| 282/282 [01:27<00:00,  3.22it/s, acc=67.5, loss=0.673]\n"
     ]
    },
    {
     "name": "stdout",
     "output_type": "stream",
     "text": [
      "✅ Fold 2: Test Accuracy = 66.97%\n"
     ]
    },
    {
     "name": "stderr",
     "output_type": "stream",
     "text": [
      "Epoch [43/50]: 100%|█████| 282/282 [01:27<00:00,  3.21it/s, acc=67.6, loss=1.19]\n"
     ]
    },
    {
     "name": "stdout",
     "output_type": "stream",
     "text": [
      "✅ Fold 2: Test Accuracy = 67.37%\n"
     ]
    },
    {
     "name": "stderr",
     "output_type": "stream",
     "text": [
      "Epoch [44/50]: 100%|█████| 282/282 [01:27<00:00,  3.21it/s, acc=67.8, loss=1.21]\n"
     ]
    },
    {
     "name": "stdout",
     "output_type": "stream",
     "text": [
      "✅ Fold 2: Test Accuracy = 67.76%\n"
     ]
    },
    {
     "name": "stderr",
     "output_type": "stream",
     "text": [
      "Epoch [45/50]: 100%|█████| 282/282 [01:27<00:00,  3.22it/s, acc=67.1, loss=1.26]\n"
     ]
    },
    {
     "name": "stdout",
     "output_type": "stream",
     "text": [
      "✅ Fold 2: Test Accuracy = 67.56%\n"
     ]
    },
    {
     "name": "stderr",
     "output_type": "stream",
     "text": [
      "Epoch [46/50]: 100%|█████| 282/282 [01:27<00:00,  3.22it/s, acc=67.5, loss=1.21]\n"
     ]
    },
    {
     "name": "stdout",
     "output_type": "stream",
     "text": [
      "✅ Fold 2: Test Accuracy = 67.07%\n"
     ]
    },
    {
     "name": "stderr",
     "output_type": "stream",
     "text": [
      "Epoch [47/50]: 100%|████| 282/282 [01:27<00:00,  3.21it/s, acc=67.8, loss=0.825]\n"
     ]
    },
    {
     "name": "stdout",
     "output_type": "stream",
     "text": [
      "✅ Fold 2: Test Accuracy = 68.06%\n",
      "🎯 New best model saved with accuracy: 68.06%\n"
     ]
    },
    {
     "name": "stderr",
     "output_type": "stream",
     "text": [
      "Epoch [48/50]: 100%|████| 282/282 [01:27<00:00,  3.21it/s, acc=67.2, loss=0.534]\n"
     ]
    },
    {
     "name": "stdout",
     "output_type": "stream",
     "text": [
      "✅ Fold 2: Test Accuracy = 66.57%\n"
     ]
    },
    {
     "name": "stderr",
     "output_type": "stream",
     "text": [
      "Epoch [49/50]: 100%|████| 282/282 [01:27<00:00,  3.21it/s, acc=67.4, loss=0.842]\n"
     ]
    },
    {
     "name": "stdout",
     "output_type": "stream",
     "text": [
      "✅ Fold 2: Test Accuracy = 69.16%\n",
      "🎯 New best model saved with accuracy: 69.16%\n"
     ]
    },
    {
     "name": "stderr",
     "output_type": "stream",
     "text": [
      "Epoch [50/50]: 100%|█████| 282/282 [01:27<00:00,  3.22it/s, acc=67.3, loss=1.06]\n"
     ]
    },
    {
     "name": "stdout",
     "output_type": "stream",
     "text": [
      "✅ Fold 2: Test Accuracy = 68.46%\n",
      "\n",
      "🚀 Training Fold 3/10\n",
      "🔄 Resuming from epoch 0, best accuracy: 0.00%\n"
     ]
    },
    {
     "name": "stderr",
     "output_type": "stream",
     "text": [
      "Epoch [1/50]: 100%|███████| 282/282 [01:27<00:00,  3.22it/s, acc=65, loss=0.936]\n"
     ]
    },
    {
     "name": "stdout",
     "output_type": "stream",
     "text": [
      "✅ Fold 3: Test Accuracy = 66.97%\n",
      "🎯 New best model saved with accuracy: 66.97%\n"
     ]
    },
    {
     "name": "stderr",
     "output_type": "stream",
     "text": [
      "Epoch [2/50]: 100%|██████| 282/282 [01:27<00:00,  3.22it/s, acc=66.9, loss=1.09]\n"
     ]
    },
    {
     "name": "stdout",
     "output_type": "stream",
     "text": [
      "✅ Fold 3: Test Accuracy = 66.97%\n"
     ]
    },
    {
     "name": "stderr",
     "output_type": "stream",
     "text": [
      "Epoch [3/50]: 100%|██████| 282/282 [01:27<00:00,  3.22it/s, acc=66.8, loss=1.06]\n"
     ]
    },
    {
     "name": "stdout",
     "output_type": "stream",
     "text": [
      "✅ Fold 3: Test Accuracy = 66.97%\n"
     ]
    },
    {
     "name": "stderr",
     "output_type": "stream",
     "text": [
      "Epoch [4/50]: 100%|█████| 282/282 [01:27<00:00,  3.21it/s, acc=66.6, loss=0.846]\n"
     ]
    },
    {
     "name": "stdout",
     "output_type": "stream",
     "text": [
      "✅ Fold 3: Test Accuracy = 66.97%\n"
     ]
    },
    {
     "name": "stderr",
     "output_type": "stream",
     "text": [
      "Epoch [5/50]: 100%|█████| 282/282 [01:27<00:00,  3.22it/s, acc=67.1, loss=0.636]\n"
     ]
    },
    {
     "name": "stdout",
     "output_type": "stream",
     "text": [
      "✅ Fold 3: Test Accuracy = 68.76%\n",
      "🎯 New best model saved with accuracy: 68.76%\n"
     ]
    },
    {
     "name": "stderr",
     "output_type": "stream",
     "text": [
      "Epoch [6/50]: 100%|███████| 282/282 [01:27<00:00,  3.22it/s, acc=67, loss=0.998]\n"
     ]
    },
    {
     "name": "stdout",
     "output_type": "stream",
     "text": [
      "✅ Fold 3: Test Accuracy = 66.97%\n"
     ]
    },
    {
     "name": "stderr",
     "output_type": "stream",
     "text": [
      "Epoch [7/50]: 100%|█████| 282/282 [01:27<00:00,  3.21it/s, acc=66.9, loss=0.677]\n"
     ]
    },
    {
     "name": "stdout",
     "output_type": "stream",
     "text": [
      "✅ Fold 3: Test Accuracy = 67.56%\n"
     ]
    },
    {
     "name": "stderr",
     "output_type": "stream",
     "text": [
      "Epoch [8/50]: 100%|██████| 282/282 [01:27<00:00,  3.22it/s, acc=67.3, loss=1.28]\n"
     ]
    },
    {
     "name": "stdout",
     "output_type": "stream",
     "text": [
      "✅ Fold 3: Test Accuracy = 67.47%\n"
     ]
    },
    {
     "name": "stderr",
     "output_type": "stream",
     "text": [
      "Epoch [9/50]: 100%|██████| 282/282 [01:27<00:00,  3.21it/s, acc=66.9, loss=1.25]\n"
     ]
    },
    {
     "name": "stdout",
     "output_type": "stream",
     "text": [
      "✅ Fold 3: Test Accuracy = 66.87%\n"
     ]
    },
    {
     "name": "stderr",
     "output_type": "stream",
     "text": [
      "Epoch [10/50]: 100%|████| 282/282 [01:27<00:00,  3.21it/s, acc=67.3, loss=0.785]\n"
     ]
    },
    {
     "name": "stdout",
     "output_type": "stream",
     "text": [
      "✅ Fold 3: Test Accuracy = 66.97%\n"
     ]
    },
    {
     "name": "stderr",
     "output_type": "stream",
     "text": [
      "Epoch [11/50]: 100%|█████| 282/282 [01:27<00:00,  3.22it/s, acc=67.4, loss=1.41]\n"
     ]
    },
    {
     "name": "stdout",
     "output_type": "stream",
     "text": [
      "✅ Fold 3: Test Accuracy = 66.97%\n"
     ]
    },
    {
     "name": "stderr",
     "output_type": "stream",
     "text": [
      "Epoch [12/50]: 100%|█████| 282/282 [01:27<00:00,  3.22it/s, acc=67.5, loss=1.04]\n"
     ]
    },
    {
     "name": "stdout",
     "output_type": "stream",
     "text": [
      "✅ Fold 3: Test Accuracy = 68.76%\n"
     ]
    },
    {
     "name": "stderr",
     "output_type": "stream",
     "text": [
      "Epoch [13/50]: 100%|████| 282/282 [01:27<00:00,  3.22it/s, acc=67.4, loss=0.646]\n"
     ]
    },
    {
     "name": "stdout",
     "output_type": "stream",
     "text": [
      "✅ Fold 3: Test Accuracy = 67.86%\n"
     ]
    },
    {
     "name": "stderr",
     "output_type": "stream",
     "text": [
      "Epoch [14/50]: 100%|████| 282/282 [01:27<00:00,  3.22it/s, acc=67.8, loss=0.643]\n"
     ]
    },
    {
     "name": "stdout",
     "output_type": "stream",
     "text": [
      "✅ Fold 3: Test Accuracy = 66.97%\n"
     ]
    },
    {
     "name": "stderr",
     "output_type": "stream",
     "text": [
      "Epoch [15/50]: 100%|████| 282/282 [01:27<00:00,  3.22it/s, acc=67.5, loss=0.851]\n"
     ]
    },
    {
     "name": "stdout",
     "output_type": "stream",
     "text": [
      "✅ Fold 3: Test Accuracy = 67.56%\n"
     ]
    },
    {
     "name": "stderr",
     "output_type": "stream",
     "text": [
      "Epoch [16/50]: 100%|████| 282/282 [01:27<00:00,  3.22it/s, acc=68.1, loss=0.769]\n"
     ]
    },
    {
     "name": "stdout",
     "output_type": "stream",
     "text": [
      "✅ Fold 3: Test Accuracy = 67.47%\n"
     ]
    },
    {
     "name": "stderr",
     "output_type": "stream",
     "text": [
      "Epoch [17/50]: 100%|████████| 282/282 [01:27<00:00,  3.22it/s, acc=67.9, loss=1]\n"
     ]
    },
    {
     "name": "stdout",
     "output_type": "stream",
     "text": [
      "✅ Fold 3: Test Accuracy = 67.47%\n"
     ]
    },
    {
     "name": "stderr",
     "output_type": "stream",
     "text": [
      "Epoch [18/50]: 100%|█████| 282/282 [01:27<00:00,  3.22it/s, acc=67.8, loss=0.62]\n"
     ]
    },
    {
     "name": "stdout",
     "output_type": "stream",
     "text": [
      "✅ Fold 3: Test Accuracy = 67.76%\n"
     ]
    },
    {
     "name": "stderr",
     "output_type": "stream",
     "text": [
      "Epoch [19/50]: 100%|████| 282/282 [01:27<00:00,  3.22it/s, acc=67.6, loss=0.857]\n"
     ]
    },
    {
     "name": "stdout",
     "output_type": "stream",
     "text": [
      "✅ Fold 3: Test Accuracy = 68.36%\n"
     ]
    },
    {
     "name": "stderr",
     "output_type": "stream",
     "text": [
      "Epoch [20/50]: 100%|██████| 282/282 [01:27<00:00,  3.22it/s, acc=68, loss=0.781]\n"
     ]
    },
    {
     "name": "stdout",
     "output_type": "stream",
     "text": [
      "✅ Fold 3: Test Accuracy = 69.56%\n",
      "🎯 New best model saved with accuracy: 69.56%\n"
     ]
    },
    {
     "name": "stderr",
     "output_type": "stream",
     "text": [
      "Epoch [21/50]: 100%|████| 282/282 [01:27<00:00,  3.23it/s, acc=67.9, loss=0.531]\n"
     ]
    },
    {
     "name": "stdout",
     "output_type": "stream",
     "text": [
      "✅ Fold 3: Test Accuracy = 68.46%\n"
     ]
    },
    {
     "name": "stderr",
     "output_type": "stream",
     "text": [
      "Epoch [22/50]: 100%|███████| 282/282 [01:27<00:00,  3.22it/s, acc=68, loss=1.11]\n"
     ]
    },
    {
     "name": "stdout",
     "output_type": "stream",
     "text": [
      "✅ Fold 3: Test Accuracy = 68.16%\n"
     ]
    },
    {
     "name": "stderr",
     "output_type": "stream",
     "text": [
      "Epoch [23/50]: 100%|████| 282/282 [01:27<00:00,  3.22it/s, acc=68.1, loss=0.889]\n"
     ]
    },
    {
     "name": "stdout",
     "output_type": "stream",
     "text": [
      "✅ Fold 3: Test Accuracy = 69.16%\n"
     ]
    },
    {
     "name": "stderr",
     "output_type": "stream",
     "text": [
      "Epoch [24/50]: 100%|████| 282/282 [01:27<00:00,  3.21it/s, acc=68.3, loss=0.641]\n"
     ]
    },
    {
     "name": "stdout",
     "output_type": "stream",
     "text": [
      "✅ Fold 3: Test Accuracy = 68.36%\n"
     ]
    },
    {
     "name": "stderr",
     "output_type": "stream",
     "text": [
      "Epoch [25/50]: 100%|█████| 282/282 [01:27<00:00,  3.22it/s, acc=68.3, loss=1.12]\n"
     ]
    },
    {
     "name": "stdout",
     "output_type": "stream",
     "text": [
      "✅ Fold 3: Test Accuracy = 67.56%\n"
     ]
    },
    {
     "name": "stderr",
     "output_type": "stream",
     "text": [
      "Epoch [26/50]: 100%|███████| 282/282 [01:27<00:00,  3.22it/s, acc=68, loss=1.12]\n"
     ]
    },
    {
     "name": "stdout",
     "output_type": "stream",
     "text": [
      "✅ Fold 3: Test Accuracy = 68.36%\n"
     ]
    },
    {
     "name": "stderr",
     "output_type": "stream",
     "text": [
      "Epoch [27/50]: 100%|████| 282/282 [01:27<00:00,  3.21it/s, acc=68.1, loss=0.466]\n"
     ]
    },
    {
     "name": "stdout",
     "output_type": "stream",
     "text": [
      "✅ Fold 3: Test Accuracy = 68.16%\n"
     ]
    },
    {
     "name": "stderr",
     "output_type": "stream",
     "text": [
      "Epoch [28/50]: 100%|████| 282/282 [01:27<00:00,  3.22it/s, acc=68.1, loss=0.951]\n"
     ]
    },
    {
     "name": "stdout",
     "output_type": "stream",
     "text": [
      "✅ Fold 3: Test Accuracy = 69.16%\n"
     ]
    },
    {
     "name": "stderr",
     "output_type": "stream",
     "text": [
      "Epoch [29/50]: 100%|████| 282/282 [01:27<00:00,  3.22it/s, acc=68.3, loss=0.616]\n"
     ]
    },
    {
     "name": "stdout",
     "output_type": "stream",
     "text": [
      "✅ Fold 3: Test Accuracy = 67.86%\n"
     ]
    },
    {
     "name": "stderr",
     "output_type": "stream",
     "text": [
      "Epoch [30/50]: 100%|█████| 282/282 [01:27<00:00,  3.22it/s, acc=67.9, loss=1.25]\n"
     ]
    },
    {
     "name": "stdout",
     "output_type": "stream",
     "text": [
      "✅ Fold 3: Test Accuracy = 68.46%\n"
     ]
    },
    {
     "name": "stderr",
     "output_type": "stream",
     "text": [
      "Epoch [31/50]: 100%|██████| 282/282 [01:27<00:00,  3.22it/s, acc=68, loss=0.864]\n"
     ]
    },
    {
     "name": "stdout",
     "output_type": "stream",
     "text": [
      "✅ Fold 3: Test Accuracy = 67.47%\n"
     ]
    },
    {
     "name": "stderr",
     "output_type": "stream",
     "text": [
      "Epoch [32/50]: 100%|████| 282/282 [01:27<00:00,  3.22it/s, acc=67.9, loss=0.996]\n"
     ]
    },
    {
     "name": "stdout",
     "output_type": "stream",
     "text": [
      "✅ Fold 3: Test Accuracy = 68.66%\n"
     ]
    },
    {
     "name": "stderr",
     "output_type": "stream",
     "text": [
      "Epoch [33/50]: 100%|████| 282/282 [01:27<00:00,  3.22it/s, acc=68.2, loss=0.826]\n"
     ]
    },
    {
     "name": "stdout",
     "output_type": "stream",
     "text": [
      "✅ Fold 3: Test Accuracy = 68.46%\n"
     ]
    },
    {
     "name": "stderr",
     "output_type": "stream",
     "text": [
      "Epoch [34/50]: 100%|██████| 282/282 [01:27<00:00,  3.22it/s, acc=68, loss=0.486]\n"
     ]
    },
    {
     "name": "stdout",
     "output_type": "stream",
     "text": [
      "✅ Fold 3: Test Accuracy = 68.06%\n"
     ]
    },
    {
     "name": "stderr",
     "output_type": "stream",
     "text": [
      "Epoch [35/50]: 100%|████| 282/282 [01:27<00:00,  3.21it/s, acc=68.4, loss=0.819]\n"
     ]
    },
    {
     "name": "stdout",
     "output_type": "stream",
     "text": [
      "✅ Fold 3: Test Accuracy = 67.37%\n"
     ]
    },
    {
     "name": "stderr",
     "output_type": "stream",
     "text": [
      "Epoch [36/50]: 100%|██████| 282/282 [01:27<00:00,  3.22it/s, acc=68, loss=0.782]\n"
     ]
    },
    {
     "name": "stdout",
     "output_type": "stream",
     "text": [
      "✅ Fold 3: Test Accuracy = 68.56%\n"
     ]
    },
    {
     "name": "stderr",
     "output_type": "stream",
     "text": [
      "Epoch [37/50]: 100%|█████| 282/282 [01:27<00:00,  3.22it/s, acc=68.1, loss=0.88]\n"
     ]
    },
    {
     "name": "stdout",
     "output_type": "stream",
     "text": [
      "✅ Fold 3: Test Accuracy = 67.86%\n"
     ]
    },
    {
     "name": "stderr",
     "output_type": "stream",
     "text": [
      "Epoch [38/50]: 100%|█████| 282/282 [01:27<00:00,  3.22it/s, acc=68.1, loss=1.26]\n"
     ]
    },
    {
     "name": "stdout",
     "output_type": "stream",
     "text": [
      "✅ Fold 3: Test Accuracy = 69.26%\n"
     ]
    },
    {
     "name": "stderr",
     "output_type": "stream",
     "text": [
      "Epoch [39/50]: 100%|█████| 282/282 [01:27<00:00,  3.22it/s, acc=67.4, loss=1.23]\n"
     ]
    },
    {
     "name": "stdout",
     "output_type": "stream",
     "text": [
      "✅ Fold 3: Test Accuracy = 67.66%\n"
     ]
    },
    {
     "name": "stderr",
     "output_type": "stream",
     "text": [
      "Epoch [40/50]: 100%|█████| 282/282 [01:27<00:00,  3.22it/s, acc=67.6, loss=1.55]\n"
     ]
    },
    {
     "name": "stdout",
     "output_type": "stream",
     "text": [
      "✅ Fold 3: Test Accuracy = 68.56%\n"
     ]
    },
    {
     "name": "stderr",
     "output_type": "stream",
     "text": [
      "Epoch [41/50]: 100%|█████| 282/282 [01:27<00:00,  3.22it/s, acc=68.3, loss=1.11]\n"
     ]
    },
    {
     "name": "stdout",
     "output_type": "stream",
     "text": [
      "✅ Fold 3: Test Accuracy = 67.47%\n"
     ]
    },
    {
     "name": "stderr",
     "output_type": "stream",
     "text": [
      "Epoch [42/50]: 100%|█████| 282/282 [01:27<00:00,  3.22it/s, acc=68.1, loss=0.58]\n"
     ]
    },
    {
     "name": "stdout",
     "output_type": "stream",
     "text": [
      "✅ Fold 3: Test Accuracy = 67.76%\n"
     ]
    },
    {
     "name": "stderr",
     "output_type": "stream",
     "text": [
      "Epoch [43/50]: 100%|██████| 282/282 [01:27<00:00,  3.22it/s, acc=68, loss=0.714]\n"
     ]
    },
    {
     "name": "stdout",
     "output_type": "stream",
     "text": [
      "✅ Fold 3: Test Accuracy = 68.76%\n"
     ]
    },
    {
     "name": "stderr",
     "output_type": "stream",
     "text": [
      "Epoch [44/50]: 100%|█████| 282/282 [01:27<00:00,  3.22it/s, acc=68.3, loss=1.12]\n"
     ]
    },
    {
     "name": "stdout",
     "output_type": "stream",
     "text": [
      "✅ Fold 3: Test Accuracy = 67.86%\n"
     ]
    },
    {
     "name": "stderr",
     "output_type": "stream",
     "text": [
      "Epoch [45/50]: 100%|████| 282/282 [01:27<00:00,  3.22it/s, acc=68.3, loss=0.825]\n"
     ]
    },
    {
     "name": "stdout",
     "output_type": "stream",
     "text": [
      "✅ Fold 3: Test Accuracy = 67.17%\n"
     ]
    },
    {
     "name": "stderr",
     "output_type": "stream",
     "text": [
      "Epoch [46/50]: 100%|████| 282/282 [01:27<00:00,  3.22it/s, acc=68.4, loss=0.761]\n"
     ]
    },
    {
     "name": "stdout",
     "output_type": "stream",
     "text": [
      "✅ Fold 3: Test Accuracy = 67.27%\n"
     ]
    },
    {
     "name": "stderr",
     "output_type": "stream",
     "text": [
      "Epoch [47/50]: 100%|████| 282/282 [01:27<00:00,  3.22it/s, acc=68.1, loss=0.696]\n"
     ]
    },
    {
     "name": "stdout",
     "output_type": "stream",
     "text": [
      "✅ Fold 3: Test Accuracy = 68.86%\n"
     ]
    },
    {
     "name": "stderr",
     "output_type": "stream",
     "text": [
      "Epoch [48/50]: 100%|██████| 282/282 [01:27<00:00,  3.22it/s, acc=68, loss=0.637]\n"
     ]
    },
    {
     "name": "stdout",
     "output_type": "stream",
     "text": [
      "✅ Fold 3: Test Accuracy = 68.76%\n"
     ]
    },
    {
     "name": "stderr",
     "output_type": "stream",
     "text": [
      "Epoch [49/50]: 100%|████| 282/282 [01:27<00:00,  3.22it/s, acc=68.1, loss=0.715]\n"
     ]
    },
    {
     "name": "stdout",
     "output_type": "stream",
     "text": [
      "✅ Fold 3: Test Accuracy = 68.16%\n"
     ]
    },
    {
     "name": "stderr",
     "output_type": "stream",
     "text": [
      "Epoch [50/50]: 100%|████| 282/282 [01:27<00:00,  3.22it/s, acc=67.9, loss=0.886]\n"
     ]
    },
    {
     "name": "stdout",
     "output_type": "stream",
     "text": [
      "✅ Fold 3: Test Accuracy = 69.06%\n",
      "\n",
      "🚀 Training Fold 4/10\n",
      "🔄 Resuming from epoch 0, best accuracy: 0.00%\n"
     ]
    },
    {
     "name": "stderr",
     "output_type": "stream",
     "text": [
      "Epoch [1/50]: 100%|███████| 282/282 [01:27<00:00,  3.22it/s, acc=65.4, loss=1.4]\n"
     ]
    },
    {
     "name": "stdout",
     "output_type": "stream",
     "text": [
      "✅ Fold 4: Test Accuracy = 66.87%\n",
      "🎯 New best model saved with accuracy: 66.87%\n"
     ]
    },
    {
     "name": "stderr",
     "output_type": "stream",
     "text": [
      "Epoch [2/50]: 100%|█████| 282/282 [01:27<00:00,  3.22it/s, acc=66.9, loss=0.779]\n"
     ]
    },
    {
     "name": "stdout",
     "output_type": "stream",
     "text": [
      "✅ Fold 4: Test Accuracy = 66.87%\n"
     ]
    },
    {
     "name": "stderr",
     "output_type": "stream",
     "text": [
      "Epoch [3/50]: 100%|██████| 282/282 [01:27<00:00,  3.22it/s, acc=66.6, loss=0.92]\n"
     ]
    },
    {
     "name": "stdout",
     "output_type": "stream",
     "text": [
      "✅ Fold 4: Test Accuracy = 66.87%\n"
     ]
    },
    {
     "name": "stderr",
     "output_type": "stream",
     "text": [
      "Epoch [4/50]: 100%|████████| 282/282 [01:27<00:00,  3.22it/s, acc=67, loss=1.27]\n"
     ]
    },
    {
     "name": "stdout",
     "output_type": "stream",
     "text": [
      "✅ Fold 4: Test Accuracy = 67.76%\n",
      "🎯 New best model saved with accuracy: 67.76%\n"
     ]
    },
    {
     "name": "stderr",
     "output_type": "stream",
     "text": [
      "Epoch [5/50]: 100%|███████| 282/282 [01:27<00:00,  3.23it/s, acc=67.4, loss=1.5]\n"
     ]
    },
    {
     "name": "stdout",
     "output_type": "stream",
     "text": [
      "✅ Fold 4: Test Accuracy = 67.17%\n"
     ]
    },
    {
     "name": "stderr",
     "output_type": "stream",
     "text": [
      "Epoch [6/50]: 100%|█████| 282/282 [01:27<00:00,  3.22it/s, acc=67.3, loss=0.862]\n"
     ]
    },
    {
     "name": "stdout",
     "output_type": "stream",
     "text": [
      "✅ Fold 4: Test Accuracy = 69.56%\n",
      "🎯 New best model saved with accuracy: 69.56%\n"
     ]
    },
    {
     "name": "stderr",
     "output_type": "stream",
     "text": [
      "Epoch [7/50]: 100%|█████| 282/282 [01:27<00:00,  3.22it/s, acc=67.6, loss=0.588]\n"
     ]
    },
    {
     "name": "stdout",
     "output_type": "stream",
     "text": [
      "✅ Fold 4: Test Accuracy = 67.27%\n"
     ]
    },
    {
     "name": "stderr",
     "output_type": "stream",
     "text": [
      "Epoch [8/50]: 100%|█████| 282/282 [01:27<00:00,  3.22it/s, acc=67.6, loss=0.715]\n"
     ]
    },
    {
     "name": "stdout",
     "output_type": "stream",
     "text": [
      "✅ Fold 4: Test Accuracy = 67.56%\n"
     ]
    },
    {
     "name": "stderr",
     "output_type": "stream",
     "text": [
      "Epoch [9/50]: 100%|█████| 282/282 [01:27<00:00,  3.22it/s, acc=67.3, loss=0.707]\n"
     ]
    },
    {
     "name": "stdout",
     "output_type": "stream",
     "text": [
      "✅ Fold 4: Test Accuracy = 68.86%\n"
     ]
    },
    {
     "name": "stderr",
     "output_type": "stream",
     "text": [
      "Epoch [10/50]: 100%|█████| 282/282 [01:27<00:00,  3.21it/s, acc=67.9, loss=1.01]\n"
     ]
    },
    {
     "name": "stdout",
     "output_type": "stream",
     "text": [
      "✅ Fold 4: Test Accuracy = 67.47%\n"
     ]
    },
    {
     "name": "stderr",
     "output_type": "stream",
     "text": [
      "Epoch [11/50]: 100%|█████| 282/282 [01:27<00:00,  3.22it/s, acc=67.4, loss=0.69]\n"
     ]
    },
    {
     "name": "stdout",
     "output_type": "stream",
     "text": [
      "✅ Fold 4: Test Accuracy = 67.66%\n"
     ]
    },
    {
     "name": "stderr",
     "output_type": "stream",
     "text": [
      "Epoch [12/50]: 100%|█████| 282/282 [01:27<00:00,  3.22it/s, acc=67.6, loss=1.06]\n"
     ]
    },
    {
     "name": "stdout",
     "output_type": "stream",
     "text": [
      "✅ Fold 4: Test Accuracy = 67.66%\n"
     ]
    },
    {
     "name": "stderr",
     "output_type": "stream",
     "text": [
      "Epoch [13/50]: 100%|█████| 282/282 [01:27<00:00,  3.22it/s, acc=68.1, loss=1.07]\n"
     ]
    },
    {
     "name": "stdout",
     "output_type": "stream",
     "text": [
      "✅ Fold 4: Test Accuracy = 68.06%\n"
     ]
    },
    {
     "name": "stderr",
     "output_type": "stream",
     "text": [
      "Epoch [14/50]: 100%|█████| 282/282 [01:27<00:00,  3.22it/s, acc=67.7, loss=1.07]\n"
     ]
    },
    {
     "name": "stdout",
     "output_type": "stream",
     "text": [
      "✅ Fold 4: Test Accuracy = 67.27%\n"
     ]
    },
    {
     "name": "stderr",
     "output_type": "stream",
     "text": [
      "Epoch [15/50]: 100%|█████| 282/282 [01:27<00:00,  3.22it/s, acc=67.7, loss=1.15]\n"
     ]
    },
    {
     "name": "stdout",
     "output_type": "stream",
     "text": [
      "✅ Fold 4: Test Accuracy = 69.76%\n",
      "🎯 New best model saved with accuracy: 69.76%\n"
     ]
    },
    {
     "name": "stderr",
     "output_type": "stream",
     "text": [
      "Epoch [16/50]: 100%|█████| 282/282 [01:27<00:00,  3.22it/s, acc=68.2, loss=1.23]\n"
     ]
    },
    {
     "name": "stdout",
     "output_type": "stream",
     "text": [
      "✅ Fold 4: Test Accuracy = 69.66%\n"
     ]
    },
    {
     "name": "stderr",
     "output_type": "stream",
     "text": [
      "Epoch [17/50]: 100%|██████| 282/282 [01:27<00:00,  3.22it/s, acc=67.8, loss=0.8]\n"
     ]
    },
    {
     "name": "stdout",
     "output_type": "stream",
     "text": [
      "✅ Fold 4: Test Accuracy = 68.66%\n"
     ]
    },
    {
     "name": "stderr",
     "output_type": "stream",
     "text": [
      "Epoch [18/50]: 100%|████| 282/282 [01:27<00:00,  3.21it/s, acc=68.4, loss=0.603]\n"
     ]
    },
    {
     "name": "stdout",
     "output_type": "stream",
     "text": [
      "✅ Fold 4: Test Accuracy = 68.66%\n"
     ]
    },
    {
     "name": "stderr",
     "output_type": "stream",
     "text": [
      "Epoch [19/50]: 100%|████| 282/282 [01:27<00:00,  3.21it/s, acc=67.8, loss=0.811]\n"
     ]
    },
    {
     "name": "stdout",
     "output_type": "stream",
     "text": [
      "✅ Fold 4: Test Accuracy = 68.16%\n"
     ]
    },
    {
     "name": "stderr",
     "output_type": "stream",
     "text": [
      "Epoch [20/50]: 100%|█████| 282/282 [01:27<00:00,  3.22it/s, acc=68.3, loss=1.12]\n"
     ]
    },
    {
     "name": "stdout",
     "output_type": "stream",
     "text": [
      "✅ Fold 4: Test Accuracy = 67.27%\n"
     ]
    },
    {
     "name": "stderr",
     "output_type": "stream",
     "text": [
      "Epoch [21/50]: 100%|██████| 282/282 [01:27<00:00,  3.21it/s, acc=67.8, loss=1.4]\n"
     ]
    },
    {
     "name": "stdout",
     "output_type": "stream",
     "text": [
      "✅ Fold 4: Test Accuracy = 69.36%\n"
     ]
    },
    {
     "name": "stderr",
     "output_type": "stream",
     "text": [
      "Epoch [22/50]: 100%|█████| 282/282 [01:27<00:00,  3.22it/s, acc=68.2, loss=1.01]\n"
     ]
    },
    {
     "name": "stdout",
     "output_type": "stream",
     "text": [
      "✅ Fold 4: Test Accuracy = 68.66%\n"
     ]
    },
    {
     "name": "stderr",
     "output_type": "stream",
     "text": [
      "Epoch [23/50]: 100%|█████| 282/282 [01:27<00:00,  3.22it/s, acc=68.3, loss=1.07]\n"
     ]
    },
    {
     "name": "stdout",
     "output_type": "stream",
     "text": [
      "✅ Fold 4: Test Accuracy = 67.66%\n"
     ]
    },
    {
     "name": "stderr",
     "output_type": "stream",
     "text": [
      "Epoch [24/50]: 100%|████| 282/282 [01:27<00:00,  3.22it/s, acc=68.3, loss=0.821]\n"
     ]
    },
    {
     "name": "stdout",
     "output_type": "stream",
     "text": [
      "✅ Fold 4: Test Accuracy = 67.96%\n"
     ]
    },
    {
     "name": "stderr",
     "output_type": "stream",
     "text": [
      "Epoch [25/50]: 100%|████| 282/282 [01:27<00:00,  3.22it/s, acc=67.7, loss=0.777]\n"
     ]
    },
    {
     "name": "stdout",
     "output_type": "stream",
     "text": [
      "✅ Fold 4: Test Accuracy = 67.96%\n"
     ]
    },
    {
     "name": "stderr",
     "output_type": "stream",
     "text": [
      "Epoch [26/50]: 100%|████| 282/282 [01:27<00:00,  3.22it/s, acc=68.1, loss=0.765]\n"
     ]
    },
    {
     "name": "stdout",
     "output_type": "stream",
     "text": [
      "✅ Fold 4: Test Accuracy = 68.96%\n"
     ]
    },
    {
     "name": "stderr",
     "output_type": "stream",
     "text": [
      "Epoch [27/50]: 100%|████| 282/282 [01:27<00:00,  3.22it/s, acc=68.2, loss=0.795]\n"
     ]
    },
    {
     "name": "stdout",
     "output_type": "stream",
     "text": [
      "✅ Fold 4: Test Accuracy = 69.06%\n"
     ]
    },
    {
     "name": "stderr",
     "output_type": "stream",
     "text": [
      "Epoch [28/50]: 100%|████| 282/282 [01:27<00:00,  3.22it/s, acc=68.2, loss=0.871]\n"
     ]
    },
    {
     "name": "stdout",
     "output_type": "stream",
     "text": [
      "✅ Fold 4: Test Accuracy = 68.26%\n"
     ]
    },
    {
     "name": "stderr",
     "output_type": "stream",
     "text": [
      "Epoch [29/50]: 100%|████| 282/282 [01:27<00:00,  3.22it/s, acc=67.8, loss=0.748]\n"
     ]
    },
    {
     "name": "stdout",
     "output_type": "stream",
     "text": [
      "✅ Fold 4: Test Accuracy = 68.66%\n"
     ]
    },
    {
     "name": "stderr",
     "output_type": "stream",
     "text": [
      "Epoch [30/50]: 100%|█████| 282/282 [01:27<00:00,  3.21it/s, acc=67.9, loss=1.03]\n"
     ]
    },
    {
     "name": "stdout",
     "output_type": "stream",
     "text": [
      "✅ Fold 4: Test Accuracy = 69.06%\n"
     ]
    },
    {
     "name": "stderr",
     "output_type": "stream",
     "text": [
      "Epoch [31/50]: 100%|██████| 282/282 [01:27<00:00,  3.21it/s, acc=68, loss=0.901]\n"
     ]
    },
    {
     "name": "stdout",
     "output_type": "stream",
     "text": [
      "✅ Fold 4: Test Accuracy = 68.36%\n"
     ]
    },
    {
     "name": "stderr",
     "output_type": "stream",
     "text": [
      "Epoch [32/50]: 100%|████| 282/282 [01:27<00:00,  3.22it/s, acc=68.1, loss=0.941]\n"
     ]
    },
    {
     "name": "stdout",
     "output_type": "stream",
     "text": [
      "✅ Fold 4: Test Accuracy = 68.96%\n"
     ]
    },
    {
     "name": "stderr",
     "output_type": "stream",
     "text": [
      "Epoch [33/50]: 100%|████| 282/282 [01:27<00:00,  3.22it/s, acc=67.9, loss=0.875]\n"
     ]
    },
    {
     "name": "stdout",
     "output_type": "stream",
     "text": [
      "✅ Fold 4: Test Accuracy = 68.46%\n"
     ]
    },
    {
     "name": "stderr",
     "output_type": "stream",
     "text": [
      "Epoch [34/50]: 100%|██████| 282/282 [01:27<00:00,  3.22it/s, acc=68.1, loss=1.2]\n"
     ]
    },
    {
     "name": "stdout",
     "output_type": "stream",
     "text": [
      "✅ Fold 4: Test Accuracy = 68.36%\n"
     ]
    },
    {
     "name": "stderr",
     "output_type": "stream",
     "text": [
      "Epoch [35/50]: 100%|█████| 282/282 [01:27<00:00,  3.21it/s, acc=68.1, loss=1.11]\n"
     ]
    },
    {
     "name": "stdout",
     "output_type": "stream",
     "text": [
      "✅ Fold 4: Test Accuracy = 68.26%\n"
     ]
    },
    {
     "name": "stderr",
     "output_type": "stream",
     "text": [
      "Epoch [36/50]: 100%|█████| 282/282 [01:27<00:00,  3.22it/s, acc=68.3, loss=1.23]\n"
     ]
    },
    {
     "name": "stdout",
     "output_type": "stream",
     "text": [
      "✅ Fold 4: Test Accuracy = 69.26%\n"
     ]
    },
    {
     "name": "stderr",
     "output_type": "stream",
     "text": [
      "Epoch [37/50]: 100%|████| 282/282 [01:27<00:00,  3.21it/s, acc=68.1, loss=0.826]\n"
     ]
    },
    {
     "name": "stdout",
     "output_type": "stream",
     "text": [
      "✅ Fold 4: Test Accuracy = 69.06%\n"
     ]
    },
    {
     "name": "stderr",
     "output_type": "stream",
     "text": [
      "Epoch [38/50]: 100%|██████| 282/282 [01:27<00:00,  3.22it/s, acc=68, loss=0.989]\n"
     ]
    },
    {
     "name": "stdout",
     "output_type": "stream",
     "text": [
      "✅ Fold 4: Test Accuracy = 68.56%\n"
     ]
    },
    {
     "name": "stderr",
     "output_type": "stream",
     "text": [
      "Epoch [39/50]: 100%|██████| 282/282 [01:27<00:00,  3.22it/s, acc=68, loss=0.692]\n"
     ]
    },
    {
     "name": "stdout",
     "output_type": "stream",
     "text": [
      "✅ Fold 4: Test Accuracy = 68.96%\n"
     ]
    },
    {
     "name": "stderr",
     "output_type": "stream",
     "text": [
      "Epoch [40/50]: 100%|████| 282/282 [01:27<00:00,  3.22it/s, acc=68.2, loss=0.687]\n"
     ]
    },
    {
     "name": "stdout",
     "output_type": "stream",
     "text": [
      "✅ Fold 4: Test Accuracy = 68.66%\n"
     ]
    },
    {
     "name": "stderr",
     "output_type": "stream",
     "text": [
      "Epoch [41/50]: 100%|████| 282/282 [01:27<00:00,  3.22it/s, acc=67.8, loss=0.769]\n"
     ]
    },
    {
     "name": "stdout",
     "output_type": "stream",
     "text": [
      "✅ Fold 4: Test Accuracy = 70.26%\n",
      "🎯 New best model saved with accuracy: 70.26%\n"
     ]
    },
    {
     "name": "stderr",
     "output_type": "stream",
     "text": [
      "Epoch [42/50]: 100%|█████| 282/282 [01:27<00:00,  3.23it/s, acc=68.4, loss=0.63]\n"
     ]
    },
    {
     "name": "stdout",
     "output_type": "stream",
     "text": [
      "✅ Fold 4: Test Accuracy = 69.56%\n"
     ]
    },
    {
     "name": "stderr",
     "output_type": "stream",
     "text": [
      "Epoch [43/50]: 100%|████| 282/282 [01:27<00:00,  3.22it/s, acc=68.5, loss=0.685]\n"
     ]
    },
    {
     "name": "stdout",
     "output_type": "stream",
     "text": [
      "✅ Fold 4: Test Accuracy = 68.66%\n"
     ]
    },
    {
     "name": "stderr",
     "output_type": "stream",
     "text": [
      "Epoch [44/50]: 100%|█████| 282/282 [01:27<00:00,  3.21it/s, acc=68.1, loss=0.99]\n"
     ]
    },
    {
     "name": "stdout",
     "output_type": "stream",
     "text": [
      "✅ Fold 4: Test Accuracy = 67.96%\n"
     ]
    },
    {
     "name": "stderr",
     "output_type": "stream",
     "text": [
      "Epoch [45/50]: 100%|█████| 282/282 [01:27<00:00,  3.22it/s, acc=68.2, loss=1.02]\n"
     ]
    },
    {
     "name": "stdout",
     "output_type": "stream",
     "text": [
      "✅ Fold 4: Test Accuracy = 68.06%\n"
     ]
    },
    {
     "name": "stderr",
     "output_type": "stream",
     "text": [
      "Epoch [46/50]: 100%|████| 282/282 [01:27<00:00,  3.22it/s, acc=68.2, loss=0.785]\n"
     ]
    },
    {
     "name": "stdout",
     "output_type": "stream",
     "text": [
      "✅ Fold 4: Test Accuracy = 69.06%\n"
     ]
    },
    {
     "name": "stderr",
     "output_type": "stream",
     "text": [
      "Epoch [47/50]: 100%|████| 282/282 [01:27<00:00,  3.22it/s, acc=67.8, loss=0.651]\n"
     ]
    },
    {
     "name": "stdout",
     "output_type": "stream",
     "text": [
      "✅ Fold 4: Test Accuracy = 67.56%\n"
     ]
    },
    {
     "name": "stderr",
     "output_type": "stream",
     "text": [
      "Epoch [48/50]: 100%|█████| 282/282 [01:27<00:00,  3.22it/s, acc=68.3, loss=0.58]\n"
     ]
    },
    {
     "name": "stdout",
     "output_type": "stream",
     "text": [
      "✅ Fold 4: Test Accuracy = 67.17%\n"
     ]
    },
    {
     "name": "stderr",
     "output_type": "stream",
     "text": [
      "Epoch [49/50]: 100%|█████| 282/282 [01:27<00:00,  3.21it/s, acc=68.4, loss=1.01]\n"
     ]
    },
    {
     "name": "stdout",
     "output_type": "stream",
     "text": [
      "✅ Fold 4: Test Accuracy = 67.76%\n"
     ]
    },
    {
     "name": "stderr",
     "output_type": "stream",
     "text": [
      "Epoch [50/50]: 100%|████| 282/282 [01:27<00:00,  3.21it/s, acc=68.8, loss=0.851]\n"
     ]
    },
    {
     "name": "stdout",
     "output_type": "stream",
     "text": [
      "✅ Fold 4: Test Accuracy = 67.27%\n",
      "\n",
      "🚀 Training Fold 5/10\n",
      "🔄 Resuming from epoch 0, best accuracy: 0.00%\n"
     ]
    },
    {
     "name": "stderr",
     "output_type": "stream",
     "text": [
      "Epoch [1/50]: 100%|██████| 282/282 [01:27<00:00,  3.23it/s, acc=62.8, loss=1.59]\n"
     ]
    },
    {
     "name": "stdout",
     "output_type": "stream",
     "text": [
      "✅ Fold 5: Test Accuracy = 66.87%\n",
      "🎯 New best model saved with accuracy: 66.87%\n"
     ]
    },
    {
     "name": "stderr",
     "output_type": "stream",
     "text": [
      "Epoch [2/50]: 100%|█████| 282/282 [01:27<00:00,  3.22it/s, acc=66.9, loss=0.529]\n"
     ]
    },
    {
     "name": "stdout",
     "output_type": "stream",
     "text": [
      "✅ Fold 5: Test Accuracy = 66.87%\n"
     ]
    },
    {
     "name": "stderr",
     "output_type": "stream",
     "text": [
      "Epoch [3/50]: 100%|█████| 282/282 [01:27<00:00,  3.22it/s, acc=66.7, loss=0.703]\n"
     ]
    },
    {
     "name": "stdout",
     "output_type": "stream",
     "text": [
      "✅ Fold 5: Test Accuracy = 66.17%\n"
     ]
    },
    {
     "name": "stderr",
     "output_type": "stream",
     "text": [
      "Epoch [4/50]: 100%|█████| 282/282 [01:27<00:00,  3.22it/s, acc=67.1, loss=0.843]\n"
     ]
    },
    {
     "name": "stdout",
     "output_type": "stream",
     "text": [
      "✅ Fold 5: Test Accuracy = 67.17%\n",
      "🎯 New best model saved with accuracy: 67.17%\n"
     ]
    },
    {
     "name": "stderr",
     "output_type": "stream",
     "text": [
      "Epoch [5/50]: 100%|██████| 282/282 [01:27<00:00,  3.21it/s, acc=67.3, loss=1.24]\n"
     ]
    },
    {
     "name": "stdout",
     "output_type": "stream",
     "text": [
      "✅ Fold 5: Test Accuracy = 69.06%\n",
      "🎯 New best model saved with accuracy: 69.06%\n"
     ]
    },
    {
     "name": "stderr",
     "output_type": "stream",
     "text": [
      "Epoch [6/50]: 100%|█████| 282/282 [01:27<00:00,  3.22it/s, acc=67.5, loss=0.698]\n"
     ]
    },
    {
     "name": "stdout",
     "output_type": "stream",
     "text": [
      "✅ Fold 5: Test Accuracy = 68.06%\n"
     ]
    },
    {
     "name": "stderr",
     "output_type": "stream",
     "text": [
      "Epoch [7/50]: 100%|█████| 282/282 [01:27<00:00,  3.22it/s, acc=67.7, loss=0.766]\n"
     ]
    },
    {
     "name": "stdout",
     "output_type": "stream",
     "text": [
      "✅ Fold 5: Test Accuracy = 67.76%\n"
     ]
    },
    {
     "name": "stderr",
     "output_type": "stream",
     "text": [
      "Epoch [8/50]: 100%|█████| 282/282 [01:27<00:00,  3.22it/s, acc=68.2, loss=0.552]\n"
     ]
    },
    {
     "name": "stdout",
     "output_type": "stream",
     "text": [
      "✅ Fold 5: Test Accuracy = 68.86%\n"
     ]
    },
    {
     "name": "stderr",
     "output_type": "stream",
     "text": [
      "Epoch [9/50]: 100%|██████| 282/282 [01:27<00:00,  3.22it/s, acc=67.7, loss=0.95]\n"
     ]
    },
    {
     "name": "stdout",
     "output_type": "stream",
     "text": [
      "✅ Fold 5: Test Accuracy = 68.06%\n"
     ]
    },
    {
     "name": "stderr",
     "output_type": "stream",
     "text": [
      "Epoch [10/50]: 100%|████| 282/282 [01:27<00:00,  3.22it/s, acc=68.2, loss=0.729]\n"
     ]
    },
    {
     "name": "stdout",
     "output_type": "stream",
     "text": [
      "✅ Fold 5: Test Accuracy = 67.76%\n"
     ]
    },
    {
     "name": "stderr",
     "output_type": "stream",
     "text": [
      "Epoch [11/50]: 100%|████| 282/282 [01:27<00:00,  3.22it/s, acc=68.1, loss=0.505]\n"
     ]
    },
    {
     "name": "stdout",
     "output_type": "stream",
     "text": [
      "✅ Fold 5: Test Accuracy = 69.16%\n",
      "🎯 New best model saved with accuracy: 69.16%\n"
     ]
    },
    {
     "name": "stderr",
     "output_type": "stream",
     "text": [
      "Epoch [12/50]: 100%|████| 282/282 [01:27<00:00,  3.23it/s, acc=68.7, loss=0.882]\n"
     ]
    },
    {
     "name": "stdout",
     "output_type": "stream",
     "text": [
      "✅ Fold 5: Test Accuracy = 68.86%\n"
     ]
    },
    {
     "name": "stderr",
     "output_type": "stream",
     "text": [
      "Epoch [13/50]: 100%|█████| 282/282 [01:27<00:00,  3.22it/s, acc=68.4, loss=1.04]\n"
     ]
    },
    {
     "name": "stdout",
     "output_type": "stream",
     "text": [
      "✅ Fold 5: Test Accuracy = 68.46%\n"
     ]
    },
    {
     "name": "stderr",
     "output_type": "stream",
     "text": [
      "Epoch [14/50]: 100%|████| 282/282 [01:27<00:00,  3.21it/s, acc=68.9, loss=0.836]\n"
     ]
    },
    {
     "name": "stdout",
     "output_type": "stream",
     "text": [
      "✅ Fold 5: Test Accuracy = 68.96%\n"
     ]
    },
    {
     "name": "stderr",
     "output_type": "stream",
     "text": [
      "Epoch [15/50]: 100%|████| 282/282 [01:27<00:00,  3.21it/s, acc=68.7, loss=0.777]\n"
     ]
    },
    {
     "name": "stdout",
     "output_type": "stream",
     "text": [
      "✅ Fold 5: Test Accuracy = 69.96%\n",
      "🎯 New best model saved with accuracy: 69.96%\n"
     ]
    },
    {
     "name": "stderr",
     "output_type": "stream",
     "text": [
      "Epoch [16/50]: 100%|█████| 282/282 [01:27<00:00,  3.23it/s, acc=68.8, loss=0.88]\n"
     ]
    },
    {
     "name": "stdout",
     "output_type": "stream",
     "text": [
      "✅ Fold 5: Test Accuracy = 68.76%\n"
     ]
    },
    {
     "name": "stderr",
     "output_type": "stream",
     "text": [
      "Epoch [17/50]: 100%|████| 282/282 [01:27<00:00,  3.22it/s, acc=69.2, loss=0.768]\n"
     ]
    },
    {
     "name": "stdout",
     "output_type": "stream",
     "text": [
      "✅ Fold 5: Test Accuracy = 68.36%\n"
     ]
    },
    {
     "name": "stderr",
     "output_type": "stream",
     "text": [
      "Epoch [18/50]: 100%|██████| 282/282 [01:27<00:00,  3.22it/s, acc=69, loss=0.743]\n"
     ]
    },
    {
     "name": "stdout",
     "output_type": "stream",
     "text": [
      "✅ Fold 5: Test Accuracy = 68.26%\n"
     ]
    },
    {
     "name": "stderr",
     "output_type": "stream",
     "text": [
      "Epoch [19/50]: 100%|██████| 282/282 [01:27<00:00,  3.22it/s, acc=68.3, loss=1.1]\n"
     ]
    },
    {
     "name": "stdout",
     "output_type": "stream",
     "text": [
      "✅ Fold 5: Test Accuracy = 69.06%\n"
     ]
    },
    {
     "name": "stderr",
     "output_type": "stream",
     "text": [
      "Epoch [20/50]: 100%|██████| 282/282 [01:27<00:00,  3.22it/s, acc=69, loss=0.611]\n"
     ]
    },
    {
     "name": "stdout",
     "output_type": "stream",
     "text": [
      "✅ Fold 5: Test Accuracy = 70.06%\n",
      "🎯 New best model saved with accuracy: 70.06%\n"
     ]
    },
    {
     "name": "stderr",
     "output_type": "stream",
     "text": [
      "Epoch [21/50]: 100%|████| 282/282 [01:27<00:00,  3.22it/s, acc=69.5, loss=0.709]\n"
     ]
    },
    {
     "name": "stdout",
     "output_type": "stream",
     "text": [
      "✅ Fold 5: Test Accuracy = 70.06%\n"
     ]
    },
    {
     "name": "stderr",
     "output_type": "stream",
     "text": [
      "Epoch [22/50]: 100%|████| 282/282 [01:27<00:00,  3.22it/s, acc=68.8, loss=0.985]\n"
     ]
    },
    {
     "name": "stdout",
     "output_type": "stream",
     "text": [
      "✅ Fold 5: Test Accuracy = 68.86%\n"
     ]
    },
    {
     "name": "stderr",
     "output_type": "stream",
     "text": [
      "Epoch [23/50]: 100%|████| 282/282 [01:27<00:00,  3.22it/s, acc=69.5, loss=0.974]\n"
     ]
    },
    {
     "name": "stdout",
     "output_type": "stream",
     "text": [
      "✅ Fold 5: Test Accuracy = 69.96%\n"
     ]
    },
    {
     "name": "stderr",
     "output_type": "stream",
     "text": [
      "Epoch [24/50]: 100%|████| 282/282 [01:27<00:00,  3.21it/s, acc=69.1, loss=0.795]\n"
     ]
    },
    {
     "name": "stdout",
     "output_type": "stream",
     "text": [
      "✅ Fold 5: Test Accuracy = 69.26%\n"
     ]
    },
    {
     "name": "stderr",
     "output_type": "stream",
     "text": [
      "Epoch [25/50]: 100%|█████| 282/282 [01:27<00:00,  3.22it/s, acc=69.4, loss=0.67]\n"
     ]
    },
    {
     "name": "stdout",
     "output_type": "stream",
     "text": [
      "✅ Fold 5: Test Accuracy = 67.96%\n"
     ]
    },
    {
     "name": "stderr",
     "output_type": "stream",
     "text": [
      "Epoch [26/50]: 100%|████| 282/282 [01:27<00:00,  3.21it/s, acc=69.2, loss=0.987]\n"
     ]
    },
    {
     "name": "stdout",
     "output_type": "stream",
     "text": [
      "✅ Fold 5: Test Accuracy = 69.16%\n"
     ]
    },
    {
     "name": "stderr",
     "output_type": "stream",
     "text": [
      "Epoch [27/50]: 100%|██████| 282/282 [01:27<00:00,  3.21it/s, acc=69, loss=0.965]\n"
     ]
    },
    {
     "name": "stdout",
     "output_type": "stream",
     "text": [
      "✅ Fold 5: Test Accuracy = 70.66%\n",
      "🎯 New best model saved with accuracy: 70.66%\n"
     ]
    },
    {
     "name": "stderr",
     "output_type": "stream",
     "text": [
      "Epoch [28/50]: 100%|█████| 282/282 [01:27<00:00,  3.22it/s, acc=69.4, loss=1.01]\n"
     ]
    },
    {
     "name": "stdout",
     "output_type": "stream",
     "text": [
      "✅ Fold 5: Test Accuracy = 70.76%\n",
      "🎯 New best model saved with accuracy: 70.76%\n"
     ]
    },
    {
     "name": "stderr",
     "output_type": "stream",
     "text": [
      "Epoch [29/50]: 100%|██████| 282/282 [01:27<00:00,  3.23it/s, acc=69, loss=0.789]\n"
     ]
    },
    {
     "name": "stdout",
     "output_type": "stream",
     "text": [
      "✅ Fold 5: Test Accuracy = 70.46%\n"
     ]
    },
    {
     "name": "stderr",
     "output_type": "stream",
     "text": [
      "Epoch [30/50]: 100%|████| 282/282 [01:27<00:00,  3.21it/s, acc=69.1, loss=0.962]\n"
     ]
    },
    {
     "name": "stdout",
     "output_type": "stream",
     "text": [
      "✅ Fold 5: Test Accuracy = 70.56%\n"
     ]
    },
    {
     "name": "stderr",
     "output_type": "stream",
     "text": [
      "Epoch [31/50]: 100%|█████| 282/282 [01:27<00:00,  3.22it/s, acc=69.8, loss=0.72]\n"
     ]
    },
    {
     "name": "stdout",
     "output_type": "stream",
     "text": [
      "✅ Fold 5: Test Accuracy = 70.56%\n"
     ]
    },
    {
     "name": "stderr",
     "output_type": "stream",
     "text": [
      "Epoch [32/50]: 100%|████| 282/282 [01:27<00:00,  3.21it/s, acc=69.4, loss=0.673]\n"
     ]
    },
    {
     "name": "stdout",
     "output_type": "stream",
     "text": [
      "✅ Fold 5: Test Accuracy = 68.96%\n"
     ]
    },
    {
     "name": "stderr",
     "output_type": "stream",
     "text": [
      "Epoch [33/50]: 100%|█████| 282/282 [01:27<00:00,  3.22it/s, acc=69.4, loss=1.29]\n"
     ]
    },
    {
     "name": "stdout",
     "output_type": "stream",
     "text": [
      "✅ Fold 5: Test Accuracy = 69.56%\n"
     ]
    },
    {
     "name": "stderr",
     "output_type": "stream",
     "text": [
      "Epoch [34/50]: 100%|█████| 282/282 [01:27<00:00,  3.22it/s, acc=69.8, loss=1.13]\n"
     ]
    },
    {
     "name": "stdout",
     "output_type": "stream",
     "text": [
      "✅ Fold 5: Test Accuracy = 70.16%\n"
     ]
    },
    {
     "name": "stderr",
     "output_type": "stream",
     "text": [
      "Epoch [35/50]: 100%|████| 282/282 [01:27<00:00,  3.22it/s, acc=69.7, loss=0.928]\n"
     ]
    },
    {
     "name": "stdout",
     "output_type": "stream",
     "text": [
      "✅ Fold 5: Test Accuracy = 70.06%\n"
     ]
    },
    {
     "name": "stderr",
     "output_type": "stream",
     "text": [
      "Epoch [36/50]: 100%|████| 282/282 [01:27<00:00,  3.22it/s, acc=69.8, loss=0.675]\n"
     ]
    },
    {
     "name": "stdout",
     "output_type": "stream",
     "text": [
      "✅ Fold 5: Test Accuracy = 70.56%\n"
     ]
    },
    {
     "name": "stderr",
     "output_type": "stream",
     "text": [
      "Epoch [37/50]: 100%|████| 282/282 [01:27<00:00,  3.21it/s, acc=69.5, loss=0.947]\n"
     ]
    },
    {
     "name": "stdout",
     "output_type": "stream",
     "text": [
      "✅ Fold 5: Test Accuracy = 69.16%\n"
     ]
    },
    {
     "name": "stderr",
     "output_type": "stream",
     "text": [
      "Epoch [38/50]: 100%|████| 282/282 [01:27<00:00,  3.21it/s, acc=69.6, loss=0.966]\n"
     ]
    },
    {
     "name": "stdout",
     "output_type": "stream",
     "text": [
      "✅ Fold 5: Test Accuracy = 68.96%\n"
     ]
    },
    {
     "name": "stderr",
     "output_type": "stream",
     "text": [
      "Epoch [39/50]: 100%|████| 282/282 [01:27<00:00,  3.22it/s, acc=70.1, loss=0.544]\n"
     ]
    },
    {
     "name": "stdout",
     "output_type": "stream",
     "text": [
      "✅ Fold 5: Test Accuracy = 72.16%\n",
      "🎯 New best model saved with accuracy: 72.16%\n"
     ]
    },
    {
     "name": "stderr",
     "output_type": "stream",
     "text": [
      "Epoch [40/50]: 100%|█████| 282/282 [01:27<00:00,  3.23it/s, acc=70.1, loss=1.13]\n"
     ]
    },
    {
     "name": "stdout",
     "output_type": "stream",
     "text": [
      "✅ Fold 5: Test Accuracy = 71.26%\n"
     ]
    },
    {
     "name": "stderr",
     "output_type": "stream",
     "text": [
      "Epoch [41/50]: 100%|████| 282/282 [01:27<00:00,  3.22it/s, acc=69.6, loss=0.845]\n"
     ]
    },
    {
     "name": "stdout",
     "output_type": "stream",
     "text": [
      "✅ Fold 5: Test Accuracy = 68.86%\n"
     ]
    },
    {
     "name": "stderr",
     "output_type": "stream",
     "text": [
      "Epoch [42/50]: 100%|███████| 282/282 [01:27<00:00,  3.22it/s, acc=70, loss=1.05]\n"
     ]
    },
    {
     "name": "stdout",
     "output_type": "stream",
     "text": [
      "✅ Fold 5: Test Accuracy = 70.86%\n"
     ]
    },
    {
     "name": "stderr",
     "output_type": "stream",
     "text": [
      "Epoch [43/50]: 100%|████| 282/282 [01:27<00:00,  3.21it/s, acc=69.8, loss=0.779]\n"
     ]
    },
    {
     "name": "stdout",
     "output_type": "stream",
     "text": [
      "✅ Fold 5: Test Accuracy = 71.46%\n"
     ]
    },
    {
     "name": "stderr",
     "output_type": "stream",
     "text": [
      "Epoch [44/50]: 100%|█████| 282/282 [01:27<00:00,  3.21it/s, acc=69.8, loss=1.24]\n"
     ]
    },
    {
     "name": "stdout",
     "output_type": "stream",
     "text": [
      "✅ Fold 5: Test Accuracy = 70.36%\n"
     ]
    },
    {
     "name": "stderr",
     "output_type": "stream",
     "text": [
      "Epoch [45/50]: 100%|████| 282/282 [01:27<00:00,  3.22it/s, acc=69.9, loss=0.692]\n"
     ]
    },
    {
     "name": "stdout",
     "output_type": "stream",
     "text": [
      "✅ Fold 5: Test Accuracy = 69.56%\n"
     ]
    },
    {
     "name": "stderr",
     "output_type": "stream",
     "text": [
      "Epoch [46/50]: 100%|█████| 282/282 [01:27<00:00,  3.21it/s, acc=69.7, loss=1.14]\n"
     ]
    },
    {
     "name": "stdout",
     "output_type": "stream",
     "text": [
      "✅ Fold 5: Test Accuracy = 71.06%\n"
     ]
    },
    {
     "name": "stderr",
     "output_type": "stream",
     "text": [
      "Epoch [47/50]: 100%|████| 282/282 [01:27<00:00,  3.21it/s, acc=69.6, loss=0.621]\n"
     ]
    },
    {
     "name": "stdout",
     "output_type": "stream",
     "text": [
      "✅ Fold 5: Test Accuracy = 69.96%\n"
     ]
    },
    {
     "name": "stderr",
     "output_type": "stream",
     "text": [
      "Epoch [48/50]: 100%|████| 282/282 [01:27<00:00,  3.22it/s, acc=69.5, loss=0.786]\n"
     ]
    },
    {
     "name": "stdout",
     "output_type": "stream",
     "text": [
      "✅ Fold 5: Test Accuracy = 69.46%\n"
     ]
    },
    {
     "name": "stderr",
     "output_type": "stream",
     "text": [
      "Epoch [49/50]: 100%|████| 282/282 [01:27<00:00,  3.21it/s, acc=69.8, loss=0.629]\n"
     ]
    },
    {
     "name": "stdout",
     "output_type": "stream",
     "text": [
      "✅ Fold 5: Test Accuracy = 69.46%\n"
     ]
    },
    {
     "name": "stderr",
     "output_type": "stream",
     "text": [
      "Epoch [50/50]: 100%|████| 282/282 [01:27<00:00,  3.21it/s, acc=69.8, loss=0.764]\n"
     ]
    },
    {
     "name": "stdout",
     "output_type": "stream",
     "text": [
      "✅ Fold 5: Test Accuracy = 70.26%\n",
      "\n",
      "🚀 Training Fold 6/10\n",
      "🔄 Resuming from epoch 0, best accuracy: 0.00%\n"
     ]
    },
    {
     "name": "stderr",
     "output_type": "stream",
     "text": [
      "Epoch [1/50]: 100%|█████| 282/282 [01:27<00:00,  3.23it/s, acc=63.3, loss=0.971]\n"
     ]
    },
    {
     "name": "stdout",
     "output_type": "stream",
     "text": [
      "✅ Fold 6: Test Accuracy = 66.93%\n",
      "🎯 New best model saved with accuracy: 66.93%\n"
     ]
    },
    {
     "name": "stderr",
     "output_type": "stream",
     "text": [
      "Epoch [2/50]: 100%|██████| 282/282 [01:27<00:00,  3.23it/s, acc=66.6, loss=1.32]\n"
     ]
    },
    {
     "name": "stdout",
     "output_type": "stream",
     "text": [
      "✅ Fold 6: Test Accuracy = 66.93%\n"
     ]
    },
    {
     "name": "stderr",
     "output_type": "stream",
     "text": [
      "Epoch [3/50]: 100%|██████| 282/282 [01:27<00:00,  3.22it/s, acc=66.8, loss=1.23]\n"
     ]
    },
    {
     "name": "stdout",
     "output_type": "stream",
     "text": [
      "✅ Fold 6: Test Accuracy = 66.93%\n"
     ]
    },
    {
     "name": "stderr",
     "output_type": "stream",
     "text": [
      "Epoch [4/50]: 100%|██████| 282/282 [01:27<00:00,  3.22it/s, acc=66.5, loss=1.15]\n"
     ]
    },
    {
     "name": "stdout",
     "output_type": "stream",
     "text": [
      "✅ Fold 6: Test Accuracy = 66.93%\n"
     ]
    },
    {
     "name": "stderr",
     "output_type": "stream",
     "text": [
      "Epoch [5/50]: 100%|█████| 282/282 [01:27<00:00,  3.22it/s, acc=67.2, loss=0.691]\n"
     ]
    },
    {
     "name": "stdout",
     "output_type": "stream",
     "text": [
      "✅ Fold 6: Test Accuracy = 66.93%\n"
     ]
    },
    {
     "name": "stderr",
     "output_type": "stream",
     "text": [
      "Epoch [6/50]: 100%|██████| 282/282 [01:27<00:00,  3.21it/s, acc=67.2, loss=1.24]\n"
     ]
    },
    {
     "name": "stdout",
     "output_type": "stream",
     "text": [
      "✅ Fold 6: Test Accuracy = 67.13%\n",
      "🎯 New best model saved with accuracy: 67.13%\n"
     ]
    },
    {
     "name": "stderr",
     "output_type": "stream",
     "text": [
      "Epoch [7/50]: 100%|████████| 282/282 [01:27<00:00,  3.22it/s, acc=68, loss=1.16]\n"
     ]
    },
    {
     "name": "stdout",
     "output_type": "stream",
     "text": [
      "✅ Fold 6: Test Accuracy = 69.43%\n",
      "🎯 New best model saved with accuracy: 69.43%\n"
     ]
    },
    {
     "name": "stderr",
     "output_type": "stream",
     "text": [
      "Epoch [8/50]: 100%|██████| 282/282 [01:27<00:00,  3.22it/s, acc=67.8, loss=1.04]\n"
     ]
    },
    {
     "name": "stdout",
     "output_type": "stream",
     "text": [
      "✅ Fold 6: Test Accuracy = 69.13%\n"
     ]
    },
    {
     "name": "stderr",
     "output_type": "stream",
     "text": [
      "Epoch [9/50]: 100%|█████████| 282/282 [01:27<00:00,  3.21it/s, acc=68, loss=1.1]\n"
     ]
    },
    {
     "name": "stdout",
     "output_type": "stream",
     "text": [
      "✅ Fold 6: Test Accuracy = 70.33%\n",
      "🎯 New best model saved with accuracy: 70.33%\n"
     ]
    },
    {
     "name": "stderr",
     "output_type": "stream",
     "text": [
      "Epoch [10/50]: 100%|█████| 282/282 [01:27<00:00,  3.22it/s, acc=67.7, loss=2.37]\n"
     ]
    },
    {
     "name": "stdout",
     "output_type": "stream",
     "text": [
      "✅ Fold 6: Test Accuracy = 71.03%\n",
      "🎯 New best model saved with accuracy: 71.03%\n"
     ]
    },
    {
     "name": "stderr",
     "output_type": "stream",
     "text": [
      "Epoch [11/50]: 100%|████| 282/282 [01:27<00:00,  3.22it/s, acc=68.2, loss=0.795]\n"
     ]
    },
    {
     "name": "stdout",
     "output_type": "stream",
     "text": [
      "✅ Fold 6: Test Accuracy = 69.23%\n"
     ]
    },
    {
     "name": "stderr",
     "output_type": "stream",
     "text": [
      "Epoch [12/50]: 100%|████| 282/282 [01:27<00:00,  3.22it/s, acc=68.5, loss=0.784]\n"
     ]
    },
    {
     "name": "stdout",
     "output_type": "stream",
     "text": [
      "✅ Fold 6: Test Accuracy = 71.33%\n",
      "🎯 New best model saved with accuracy: 71.33%\n"
     ]
    },
    {
     "name": "stderr",
     "output_type": "stream",
     "text": [
      "Epoch [13/50]: 100%|████| 282/282 [01:27<00:00,  3.23it/s, acc=69.1, loss=0.987]\n"
     ]
    },
    {
     "name": "stdout",
     "output_type": "stream",
     "text": [
      "✅ Fold 6: Test Accuracy = 70.03%\n"
     ]
    },
    {
     "name": "stderr",
     "output_type": "stream",
     "text": [
      "Epoch [14/50]: 100%|████| 282/282 [01:27<00:00,  3.21it/s, acc=69.5, loss=0.889]\n"
     ]
    },
    {
     "name": "stdout",
     "output_type": "stream",
     "text": [
      "✅ Fold 6: Test Accuracy = 70.33%\n"
     ]
    },
    {
     "name": "stderr",
     "output_type": "stream",
     "text": [
      "Epoch [15/50]: 100%|█████| 282/282 [01:27<00:00,  3.22it/s, acc=69.3, loss=0.45]\n"
     ]
    },
    {
     "name": "stdout",
     "output_type": "stream",
     "text": [
      "✅ Fold 6: Test Accuracy = 69.63%\n"
     ]
    },
    {
     "name": "stderr",
     "output_type": "stream",
     "text": [
      "Epoch [16/50]: 100%|█████| 282/282 [01:27<00:00,  3.22it/s, acc=69.8, loss=1.28]\n"
     ]
    },
    {
     "name": "stdout",
     "output_type": "stream",
     "text": [
      "✅ Fold 6: Test Accuracy = 70.93%\n"
     ]
    },
    {
     "name": "stderr",
     "output_type": "stream",
     "text": [
      "Epoch [17/50]: 100%|████| 282/282 [01:27<00:00,  3.22it/s, acc=69.5, loss=0.847]\n"
     ]
    },
    {
     "name": "stdout",
     "output_type": "stream",
     "text": [
      "✅ Fold 6: Test Accuracy = 69.83%\n"
     ]
    },
    {
     "name": "stderr",
     "output_type": "stream",
     "text": [
      "Epoch [18/50]: 100%|████| 282/282 [01:27<00:00,  3.21it/s, acc=69.5, loss=0.551]\n"
     ]
    },
    {
     "name": "stdout",
     "output_type": "stream",
     "text": [
      "✅ Fold 6: Test Accuracy = 67.33%\n"
     ]
    },
    {
     "name": "stderr",
     "output_type": "stream",
     "text": [
      "Epoch [19/50]: 100%|█████| 282/282 [01:27<00:00,  3.22it/s, acc=69.5, loss=1.06]\n"
     ]
    },
    {
     "name": "stdout",
     "output_type": "stream",
     "text": [
      "✅ Fold 6: Test Accuracy = 70.63%\n"
     ]
    },
    {
     "name": "stderr",
     "output_type": "stream",
     "text": [
      "Epoch [20/50]: 100%|████| 282/282 [01:27<00:00,  3.22it/s, acc=69.4, loss=0.568]\n"
     ]
    },
    {
     "name": "stdout",
     "output_type": "stream",
     "text": [
      "✅ Fold 6: Test Accuracy = 70.03%\n"
     ]
    },
    {
     "name": "stderr",
     "output_type": "stream",
     "text": [
      "Epoch [21/50]: 100%|████| 282/282 [01:27<00:00,  3.21it/s, acc=69.3, loss=0.619]\n"
     ]
    },
    {
     "name": "stdout",
     "output_type": "stream",
     "text": [
      "✅ Fold 6: Test Accuracy = 66.83%\n"
     ]
    },
    {
     "name": "stderr",
     "output_type": "stream",
     "text": [
      "Epoch [22/50]: 100%|████| 282/282 [01:27<00:00,  3.21it/s, acc=68.6, loss=0.738]\n"
     ]
    },
    {
     "name": "stdout",
     "output_type": "stream",
     "text": [
      "✅ Fold 6: Test Accuracy = 69.23%\n"
     ]
    },
    {
     "name": "stderr",
     "output_type": "stream",
     "text": [
      "Epoch [23/50]: 100%|████| 282/282 [01:27<00:00,  3.21it/s, acc=69.2, loss=0.669]\n"
     ]
    },
    {
     "name": "stdout",
     "output_type": "stream",
     "text": [
      "✅ Fold 6: Test Accuracy = 70.73%\n"
     ]
    },
    {
     "name": "stderr",
     "output_type": "stream",
     "text": [
      "Epoch [24/50]: 100%|████| 282/282 [01:27<00:00,  3.22it/s, acc=68.6, loss=0.665]\n"
     ]
    },
    {
     "name": "stdout",
     "output_type": "stream",
     "text": [
      "✅ Fold 6: Test Accuracy = 72.03%\n",
      "🎯 New best model saved with accuracy: 72.03%\n"
     ]
    },
    {
     "name": "stderr",
     "output_type": "stream",
     "text": [
      "Epoch [25/50]: 100%|████| 282/282 [01:27<00:00,  3.22it/s, acc=69.9, loss=0.913]\n"
     ]
    },
    {
     "name": "stdout",
     "output_type": "stream",
     "text": [
      "✅ Fold 6: Test Accuracy = 70.13%\n"
     ]
    },
    {
     "name": "stderr",
     "output_type": "stream",
     "text": [
      "Epoch [26/50]: 100%|████| 282/282 [01:27<00:00,  3.22it/s, acc=69.6, loss=0.796]\n"
     ]
    },
    {
     "name": "stdout",
     "output_type": "stream",
     "text": [
      "✅ Fold 6: Test Accuracy = 70.43%\n"
     ]
    },
    {
     "name": "stderr",
     "output_type": "stream",
     "text": [
      "Epoch [27/50]: 100%|████| 282/282 [01:27<00:00,  3.21it/s, acc=69.6, loss=0.693]\n"
     ]
    },
    {
     "name": "stdout",
     "output_type": "stream",
     "text": [
      "✅ Fold 6: Test Accuracy = 70.93%\n"
     ]
    },
    {
     "name": "stderr",
     "output_type": "stream",
     "text": [
      "Epoch [28/50]: 100%|████| 282/282 [01:27<00:00,  3.22it/s, acc=69.9, loss=0.789]\n"
     ]
    },
    {
     "name": "stdout",
     "output_type": "stream",
     "text": [
      "✅ Fold 6: Test Accuracy = 71.93%\n"
     ]
    },
    {
     "name": "stderr",
     "output_type": "stream",
     "text": [
      "Epoch [29/50]: 100%|██████| 282/282 [01:27<00:00,  3.22it/s, acc=70, loss=0.654]\n"
     ]
    },
    {
     "name": "stdout",
     "output_type": "stream",
     "text": [
      "✅ Fold 6: Test Accuracy = 71.13%\n"
     ]
    },
    {
     "name": "stderr",
     "output_type": "stream",
     "text": [
      "Epoch [30/50]: 100%|█████| 282/282 [01:27<00:00,  3.22it/s, acc=70.1, loss=1.16]\n"
     ]
    },
    {
     "name": "stdout",
     "output_type": "stream",
     "text": [
      "✅ Fold 6: Test Accuracy = 70.63%\n"
     ]
    },
    {
     "name": "stderr",
     "output_type": "stream",
     "text": [
      "Epoch [31/50]: 100%|████| 282/282 [01:27<00:00,  3.22it/s, acc=70.1, loss=0.507]\n"
     ]
    },
    {
     "name": "stdout",
     "output_type": "stream",
     "text": [
      "✅ Fold 6: Test Accuracy = 71.93%\n"
     ]
    },
    {
     "name": "stderr",
     "output_type": "stream",
     "text": [
      "Epoch [32/50]: 100%|████| 282/282 [01:27<00:00,  3.22it/s, acc=69.3, loss=0.676]\n"
     ]
    },
    {
     "name": "stdout",
     "output_type": "stream",
     "text": [
      "✅ Fold 6: Test Accuracy = 72.53%\n",
      "🎯 New best model saved with accuracy: 72.53%\n"
     ]
    },
    {
     "name": "stderr",
     "output_type": "stream",
     "text": [
      "Epoch [33/50]: 100%|████| 282/282 [01:27<00:00,  3.23it/s, acc=70.4, loss=0.897]\n"
     ]
    },
    {
     "name": "stdout",
     "output_type": "stream",
     "text": [
      "✅ Fold 6: Test Accuracy = 69.53%\n"
     ]
    },
    {
     "name": "stderr",
     "output_type": "stream",
     "text": [
      "Epoch [34/50]: 100%|████| 282/282 [01:27<00:00,  3.22it/s, acc=70.8, loss=0.608]\n"
     ]
    },
    {
     "name": "stdout",
     "output_type": "stream",
     "text": [
      "✅ Fold 6: Test Accuracy = 71.83%\n"
     ]
    },
    {
     "name": "stderr",
     "output_type": "stream",
     "text": [
      "Epoch [35/50]: 100%|████| 282/282 [01:27<00:00,  3.22it/s, acc=70.1, loss=0.661]\n"
     ]
    },
    {
     "name": "stdout",
     "output_type": "stream",
     "text": [
      "✅ Fold 6: Test Accuracy = 70.13%\n"
     ]
    },
    {
     "name": "stderr",
     "output_type": "stream",
     "text": [
      "Epoch [36/50]: 100%|████| 282/282 [01:27<00:00,  3.22it/s, acc=69.9, loss=0.396]\n"
     ]
    },
    {
     "name": "stdout",
     "output_type": "stream",
     "text": [
      "✅ Fold 6: Test Accuracy = 71.73%\n"
     ]
    },
    {
     "name": "stderr",
     "output_type": "stream",
     "text": [
      "Epoch [37/50]: 100%|████| 282/282 [01:27<00:00,  3.21it/s, acc=70.5, loss=0.426]\n"
     ]
    },
    {
     "name": "stdout",
     "output_type": "stream",
     "text": [
      "✅ Fold 6: Test Accuracy = 71.23%\n"
     ]
    },
    {
     "name": "stderr",
     "output_type": "stream",
     "text": [
      "Epoch [38/50]: 100%|████| 282/282 [01:27<00:00,  3.22it/s, acc=70.6, loss=0.693]\n"
     ]
    },
    {
     "name": "stdout",
     "output_type": "stream",
     "text": [
      "✅ Fold 6: Test Accuracy = 70.23%\n"
     ]
    },
    {
     "name": "stderr",
     "output_type": "stream",
     "text": [
      "Epoch [39/50]: 100%|████| 282/282 [01:27<00:00,  3.22it/s, acc=70.7, loss=0.818]\n"
     ]
    },
    {
     "name": "stdout",
     "output_type": "stream",
     "text": [
      "✅ Fold 6: Test Accuracy = 71.43%\n"
     ]
    },
    {
     "name": "stderr",
     "output_type": "stream",
     "text": [
      "Epoch [40/50]: 100%|████| 282/282 [01:27<00:00,  3.21it/s, acc=71.1, loss=0.769]\n"
     ]
    },
    {
     "name": "stdout",
     "output_type": "stream",
     "text": [
      "✅ Fold 6: Test Accuracy = 72.13%\n"
     ]
    },
    {
     "name": "stderr",
     "output_type": "stream",
     "text": [
      "Epoch [41/50]: 100%|████| 282/282 [01:27<00:00,  3.22it/s, acc=70.8, loss=0.859]\n"
     ]
    },
    {
     "name": "stdout",
     "output_type": "stream",
     "text": [
      "✅ Fold 6: Test Accuracy = 71.73%\n"
     ]
    },
    {
     "name": "stderr",
     "output_type": "stream",
     "text": [
      "Epoch [42/50]: 100%|████| 282/282 [01:27<00:00,  3.21it/s, acc=70.9, loss=0.779]\n"
     ]
    },
    {
     "name": "stdout",
     "output_type": "stream",
     "text": [
      "✅ Fold 6: Test Accuracy = 71.63%\n"
     ]
    },
    {
     "name": "stderr",
     "output_type": "stream",
     "text": [
      "Epoch [43/50]: 100%|████| 282/282 [01:27<00:00,  3.21it/s, acc=70.7, loss=0.929]\n"
     ]
    },
    {
     "name": "stdout",
     "output_type": "stream",
     "text": [
      "✅ Fold 6: Test Accuracy = 71.03%\n"
     ]
    },
    {
     "name": "stderr",
     "output_type": "stream",
     "text": [
      "Epoch [44/50]: 100%|████| 282/282 [01:27<00:00,  3.21it/s, acc=71.3, loss=0.855]\n"
     ]
    },
    {
     "name": "stdout",
     "output_type": "stream",
     "text": [
      "✅ Fold 6: Test Accuracy = 69.63%\n"
     ]
    },
    {
     "name": "stderr",
     "output_type": "stream",
     "text": [
      "Epoch [45/50]: 100%|█████| 282/282 [01:27<00:00,  3.21it/s, acc=70.6, loss=1.12]\n"
     ]
    },
    {
     "name": "stdout",
     "output_type": "stream",
     "text": [
      "✅ Fold 6: Test Accuracy = 71.43%\n"
     ]
    },
    {
     "name": "stderr",
     "output_type": "stream",
     "text": [
      "Epoch [46/50]: 100%|████| 282/282 [01:27<00:00,  3.22it/s, acc=70.5, loss=0.476]\n"
     ]
    },
    {
     "name": "stdout",
     "output_type": "stream",
     "text": [
      "✅ Fold 6: Test Accuracy = 71.43%\n"
     ]
    },
    {
     "name": "stderr",
     "output_type": "stream",
     "text": [
      "Epoch [47/50]: 100%|████| 282/282 [01:27<00:00,  3.22it/s, acc=70.4, loss=0.769]\n"
     ]
    },
    {
     "name": "stdout",
     "output_type": "stream",
     "text": [
      "✅ Fold 6: Test Accuracy = 72.23%\n"
     ]
    },
    {
     "name": "stderr",
     "output_type": "stream",
     "text": [
      "Epoch [48/50]: 100%|█████| 282/282 [01:27<00:00,  3.21it/s, acc=70.8, loss=1.03]\n"
     ]
    },
    {
     "name": "stdout",
     "output_type": "stream",
     "text": [
      "✅ Fold 6: Test Accuracy = 70.63%\n"
     ]
    },
    {
     "name": "stderr",
     "output_type": "stream",
     "text": [
      "Epoch [49/50]: 100%|████| 282/282 [01:27<00:00,  3.21it/s, acc=71.1, loss=0.752]\n"
     ]
    },
    {
     "name": "stdout",
     "output_type": "stream",
     "text": [
      "✅ Fold 6: Test Accuracy = 70.73%\n"
     ]
    },
    {
     "name": "stderr",
     "output_type": "stream",
     "text": [
      "Epoch [50/50]: 100%|█████| 282/282 [01:27<00:00,  3.21it/s, acc=70.9, loss=1.03]\n"
     ]
    },
    {
     "name": "stdout",
     "output_type": "stream",
     "text": [
      "✅ Fold 6: Test Accuracy = 72.53%\n",
      "\n",
      "🚀 Training Fold 7/10\n",
      "🔄 Resuming from epoch 0, best accuracy: 0.00%\n"
     ]
    },
    {
     "name": "stderr",
     "output_type": "stream",
     "text": [
      "Epoch [1/50]: 100%|██████| 282/282 [01:27<00:00,  3.23it/s, acc=62.6, loss=1.18]\n"
     ]
    },
    {
     "name": "stdout",
     "output_type": "stream",
     "text": [
      "✅ Fold 7: Test Accuracy = 66.93%\n",
      "🎯 New best model saved with accuracy: 66.93%\n"
     ]
    },
    {
     "name": "stderr",
     "output_type": "stream",
     "text": [
      "Epoch [2/50]: 100%|████████| 282/282 [01:27<00:00,  3.22it/s, acc=67, loss=1.09]\n"
     ]
    },
    {
     "name": "stdout",
     "output_type": "stream",
     "text": [
      "✅ Fold 7: Test Accuracy = 66.93%\n"
     ]
    },
    {
     "name": "stderr",
     "output_type": "stream",
     "text": [
      "Epoch [3/50]: 100%|███████| 282/282 [01:27<00:00,  3.23it/s, acc=67, loss=0.957]\n"
     ]
    },
    {
     "name": "stdout",
     "output_type": "stream",
     "text": [
      "✅ Fold 7: Test Accuracy = 66.93%\n"
     ]
    },
    {
     "name": "stderr",
     "output_type": "stream",
     "text": [
      "Epoch [4/50]: 100%|███████| 282/282 [01:27<00:00,  3.23it/s, acc=66.3, loss=1.1]\n"
     ]
    },
    {
     "name": "stdout",
     "output_type": "stream",
     "text": [
      "✅ Fold 7: Test Accuracy = 66.93%\n"
     ]
    },
    {
     "name": "stderr",
     "output_type": "stream",
     "text": [
      "Epoch [5/50]: 100%|██████| 282/282 [01:27<00:00,  3.22it/s, acc=66.8, loss=1.16]\n"
     ]
    },
    {
     "name": "stdout",
     "output_type": "stream",
     "text": [
      "✅ Fold 7: Test Accuracy = 66.93%\n"
     ]
    },
    {
     "name": "stderr",
     "output_type": "stream",
     "text": [
      "Epoch [6/50]: 100%|█████| 282/282 [01:27<00:00,  3.22it/s, acc=66.9, loss=0.849]\n"
     ]
    },
    {
     "name": "stdout",
     "output_type": "stream",
     "text": [
      "✅ Fold 7: Test Accuracy = 67.23%\n",
      "🎯 New best model saved with accuracy: 67.23%\n"
     ]
    },
    {
     "name": "stderr",
     "output_type": "stream",
     "text": [
      "Epoch [7/50]: 100%|██████| 282/282 [01:27<00:00,  3.22it/s, acc=67.1, loss=1.08]\n"
     ]
    },
    {
     "name": "stdout",
     "output_type": "stream",
     "text": [
      "✅ Fold 7: Test Accuracy = 68.43%\n",
      "🎯 New best model saved with accuracy: 68.43%\n"
     ]
    },
    {
     "name": "stderr",
     "output_type": "stream",
     "text": [
      "Epoch [8/50]: 100%|█████| 282/282 [01:27<00:00,  3.22it/s, acc=67.8, loss=0.782]\n"
     ]
    },
    {
     "name": "stdout",
     "output_type": "stream",
     "text": [
      "✅ Fold 7: Test Accuracy = 66.93%\n"
     ]
    },
    {
     "name": "stderr",
     "output_type": "stream",
     "text": [
      "Epoch [9/50]: 100%|██████| 282/282 [01:27<00:00,  3.22it/s, acc=68.5, loss=1.03]\n"
     ]
    },
    {
     "name": "stdout",
     "output_type": "stream",
     "text": [
      "✅ Fold 7: Test Accuracy = 69.93%\n",
      "🎯 New best model saved with accuracy: 69.93%\n"
     ]
    },
    {
     "name": "stderr",
     "output_type": "stream",
     "text": [
      "Epoch [10/50]: 100%|████| 282/282 [01:27<00:00,  3.23it/s, acc=69.1, loss=0.869]\n"
     ]
    },
    {
     "name": "stdout",
     "output_type": "stream",
     "text": [
      "✅ Fold 7: Test Accuracy = 69.83%\n"
     ]
    },
    {
     "name": "stderr",
     "output_type": "stream",
     "text": [
      "Epoch [11/50]: 100%|████| 282/282 [01:27<00:00,  3.22it/s, acc=69.3, loss=0.776]\n"
     ]
    },
    {
     "name": "stdout",
     "output_type": "stream",
     "text": [
      "✅ Fold 7: Test Accuracy = 70.43%\n",
      "🎯 New best model saved with accuracy: 70.43%\n"
     ]
    },
    {
     "name": "stderr",
     "output_type": "stream",
     "text": [
      "Epoch [12/50]: 100%|████| 282/282 [01:27<00:00,  3.22it/s, acc=69.4, loss=0.578]\n"
     ]
    },
    {
     "name": "stdout",
     "output_type": "stream",
     "text": [
      "✅ Fold 7: Test Accuracy = 69.13%\n"
     ]
    },
    {
     "name": "stderr",
     "output_type": "stream",
     "text": [
      "Epoch [13/50]: 100%|█████| 282/282 [01:27<00:00,  3.22it/s, acc=70.1, loss=1.28]\n"
     ]
    },
    {
     "name": "stdout",
     "output_type": "stream",
     "text": [
      "✅ Fold 7: Test Accuracy = 71.33%\n",
      "🎯 New best model saved with accuracy: 71.33%\n"
     ]
    },
    {
     "name": "stderr",
     "output_type": "stream",
     "text": [
      "Epoch [14/50]: 100%|████| 282/282 [01:27<00:00,  3.22it/s, acc=69.8, loss=0.674]\n"
     ]
    },
    {
     "name": "stdout",
     "output_type": "stream",
     "text": [
      "✅ Fold 7: Test Accuracy = 70.13%\n"
     ]
    },
    {
     "name": "stderr",
     "output_type": "stream",
     "text": [
      "Epoch [15/50]: 100%|████| 282/282 [01:27<00:00,  3.22it/s, acc=70.1, loss=0.573]\n"
     ]
    },
    {
     "name": "stdout",
     "output_type": "stream",
     "text": [
      "✅ Fold 7: Test Accuracy = 71.03%\n"
     ]
    },
    {
     "name": "stderr",
     "output_type": "stream",
     "text": [
      "Epoch [16/50]: 100%|████| 282/282 [01:27<00:00,  3.21it/s, acc=70.2, loss=0.767]\n"
     ]
    },
    {
     "name": "stdout",
     "output_type": "stream",
     "text": [
      "✅ Fold 7: Test Accuracy = 69.03%\n"
     ]
    },
    {
     "name": "stderr",
     "output_type": "stream",
     "text": [
      "Epoch [17/50]: 100%|████| 282/282 [01:27<00:00,  3.22it/s, acc=70.2, loss=0.877]\n"
     ]
    },
    {
     "name": "stdout",
     "output_type": "stream",
     "text": [
      "✅ Fold 7: Test Accuracy = 69.33%\n"
     ]
    },
    {
     "name": "stderr",
     "output_type": "stream",
     "text": [
      "Epoch [18/50]: 100%|████| 282/282 [01:27<00:00,  3.22it/s, acc=70.1, loss=0.587]\n"
     ]
    },
    {
     "name": "stdout",
     "output_type": "stream",
     "text": [
      "✅ Fold 7: Test Accuracy = 70.63%\n"
     ]
    },
    {
     "name": "stderr",
     "output_type": "stream",
     "text": [
      "Epoch [19/50]: 100%|█████| 282/282 [01:27<00:00,  3.22it/s, acc=70.1, loss=1.17]\n"
     ]
    },
    {
     "name": "stdout",
     "output_type": "stream",
     "text": [
      "✅ Fold 7: Test Accuracy = 70.93%\n"
     ]
    },
    {
     "name": "stderr",
     "output_type": "stream",
     "text": [
      "Epoch [20/50]: 100%|████| 282/282 [01:27<00:00,  3.22it/s, acc=70.7, loss=0.774]\n"
     ]
    },
    {
     "name": "stdout",
     "output_type": "stream",
     "text": [
      "✅ Fold 7: Test Accuracy = 70.83%\n"
     ]
    },
    {
     "name": "stderr",
     "output_type": "stream",
     "text": [
      "Epoch [21/50]: 100%|█████| 282/282 [01:27<00:00,  3.22it/s, acc=70.7, loss=0.97]\n"
     ]
    },
    {
     "name": "stdout",
     "output_type": "stream",
     "text": [
      "✅ Fold 7: Test Accuracy = 70.53%\n"
     ]
    },
    {
     "name": "stderr",
     "output_type": "stream",
     "text": [
      "Epoch [22/50]: 100%|████| 282/282 [01:27<00:00,  3.22it/s, acc=70.2, loss=0.641]\n"
     ]
    },
    {
     "name": "stdout",
     "output_type": "stream",
     "text": [
      "✅ Fold 7: Test Accuracy = 71.93%\n",
      "🎯 New best model saved with accuracy: 71.93%\n"
     ]
    },
    {
     "name": "stderr",
     "output_type": "stream",
     "text": [
      "Epoch [23/50]: 100%|████| 282/282 [01:27<00:00,  3.22it/s, acc=70.5, loss=0.726]\n"
     ]
    },
    {
     "name": "stdout",
     "output_type": "stream",
     "text": [
      "✅ Fold 7: Test Accuracy = 71.83%\n"
     ]
    },
    {
     "name": "stderr",
     "output_type": "stream",
     "text": [
      "Epoch [24/50]: 100%|████| 282/282 [01:27<00:00,  3.21it/s, acc=70.6, loss=0.829]\n"
     ]
    },
    {
     "name": "stdout",
     "output_type": "stream",
     "text": [
      "✅ Fold 7: Test Accuracy = 72.83%\n",
      "🎯 New best model saved with accuracy: 72.83%\n"
     ]
    },
    {
     "name": "stderr",
     "output_type": "stream",
     "text": [
      "Epoch [25/50]: 100%|████| 282/282 [01:27<00:00,  3.23it/s, acc=70.7, loss=0.777]\n"
     ]
    },
    {
     "name": "stdout",
     "output_type": "stream",
     "text": [
      "✅ Fold 7: Test Accuracy = 70.83%\n"
     ]
    },
    {
     "name": "stderr",
     "output_type": "stream",
     "text": [
      "Epoch [26/50]: 100%|████| 282/282 [01:27<00:00,  3.22it/s, acc=70.5, loss=0.601]\n"
     ]
    },
    {
     "name": "stdout",
     "output_type": "stream",
     "text": [
      "✅ Fold 7: Test Accuracy = 70.23%\n"
     ]
    },
    {
     "name": "stderr",
     "output_type": "stream",
     "text": [
      "Epoch [27/50]: 100%|█████| 282/282 [01:27<00:00,  3.22it/s, acc=70.7, loss=1.14]\n"
     ]
    },
    {
     "name": "stdout",
     "output_type": "stream",
     "text": [
      "✅ Fold 7: Test Accuracy = 71.13%\n"
     ]
    },
    {
     "name": "stderr",
     "output_type": "stream",
     "text": [
      "Epoch [28/50]: 100%|█████| 282/282 [01:27<00:00,  3.22it/s, acc=70.9, loss=1.03]\n"
     ]
    },
    {
     "name": "stdout",
     "output_type": "stream",
     "text": [
      "✅ Fold 7: Test Accuracy = 70.43%\n"
     ]
    },
    {
     "name": "stderr",
     "output_type": "stream",
     "text": [
      "Epoch [29/50]: 100%|████| 282/282 [01:27<00:00,  3.22it/s, acc=70.9, loss=0.586]\n"
     ]
    },
    {
     "name": "stdout",
     "output_type": "stream",
     "text": [
      "✅ Fold 7: Test Accuracy = 71.63%\n"
     ]
    },
    {
     "name": "stderr",
     "output_type": "stream",
     "text": [
      "Epoch [30/50]: 100%|████| 282/282 [01:27<00:00,  3.22it/s, acc=71.1, loss=0.602]\n"
     ]
    },
    {
     "name": "stdout",
     "output_type": "stream",
     "text": [
      "✅ Fold 7: Test Accuracy = 69.73%\n"
     ]
    },
    {
     "name": "stderr",
     "output_type": "stream",
     "text": [
      "Epoch [31/50]: 100%|████| 282/282 [01:27<00:00,  3.21it/s, acc=71.1, loss=0.867]\n"
     ]
    },
    {
     "name": "stdout",
     "output_type": "stream",
     "text": [
      "✅ Fold 7: Test Accuracy = 70.63%\n"
     ]
    },
    {
     "name": "stderr",
     "output_type": "stream",
     "text": [
      "Epoch [32/50]: 100%|██████| 282/282 [01:27<00:00,  3.22it/s, acc=71, loss=0.661]\n"
     ]
    },
    {
     "name": "stdout",
     "output_type": "stream",
     "text": [
      "✅ Fold 7: Test Accuracy = 72.13%\n"
     ]
    },
    {
     "name": "stderr",
     "output_type": "stream",
     "text": [
      "Epoch [33/50]: 100%|████| 282/282 [01:27<00:00,  3.21it/s, acc=70.7, loss=0.946]\n"
     ]
    },
    {
     "name": "stdout",
     "output_type": "stream",
     "text": [
      "✅ Fold 7: Test Accuracy = 72.43%\n"
     ]
    },
    {
     "name": "stderr",
     "output_type": "stream",
     "text": [
      "Epoch [34/50]: 100%|█████| 282/282 [01:27<00:00,  3.21it/s, acc=71.2, loss=1.04]\n"
     ]
    },
    {
     "name": "stdout",
     "output_type": "stream",
     "text": [
      "✅ Fold 7: Test Accuracy = 72.73%\n"
     ]
    },
    {
     "name": "stderr",
     "output_type": "stream",
     "text": [
      "Epoch [35/50]: 100%|████| 282/282 [01:27<00:00,  3.21it/s, acc=70.8, loss=0.724]\n"
     ]
    },
    {
     "name": "stdout",
     "output_type": "stream",
     "text": [
      "✅ Fold 7: Test Accuracy = 73.23%\n",
      "🎯 New best model saved with accuracy: 73.23%\n"
     ]
    },
    {
     "name": "stderr",
     "output_type": "stream",
     "text": [
      "Epoch [36/50]: 100%|████| 282/282 [01:27<00:00,  3.23it/s, acc=70.6, loss=0.473]\n"
     ]
    },
    {
     "name": "stdout",
     "output_type": "stream",
     "text": [
      "✅ Fold 7: Test Accuracy = 71.63%\n"
     ]
    },
    {
     "name": "stderr",
     "output_type": "stream",
     "text": [
      "Epoch [37/50]: 100%|████| 282/282 [01:27<00:00,  3.22it/s, acc=71.5, loss=0.691]\n"
     ]
    },
    {
     "name": "stdout",
     "output_type": "stream",
     "text": [
      "✅ Fold 7: Test Accuracy = 72.63%\n"
     ]
    },
    {
     "name": "stderr",
     "output_type": "stream",
     "text": [
      "Epoch [38/50]: 100%|██████| 282/282 [01:27<00:00,  3.21it/s, acc=71, loss=0.945]\n"
     ]
    },
    {
     "name": "stdout",
     "output_type": "stream",
     "text": [
      "✅ Fold 7: Test Accuracy = 71.63%\n"
     ]
    },
    {
     "name": "stderr",
     "output_type": "stream",
     "text": [
      "Epoch [39/50]: 100%|████| 282/282 [01:27<00:00,  3.22it/s, acc=71.4, loss=0.756]\n"
     ]
    },
    {
     "name": "stdout",
     "output_type": "stream",
     "text": [
      "✅ Fold 7: Test Accuracy = 72.63%\n"
     ]
    },
    {
     "name": "stderr",
     "output_type": "stream",
     "text": [
      "Epoch [40/50]: 100%|███████| 282/282 [01:27<00:00,  3.21it/s, acc=71, loss=0.91]\n"
     ]
    },
    {
     "name": "stdout",
     "output_type": "stream",
     "text": [
      "✅ Fold 7: Test Accuracy = 71.33%\n"
     ]
    },
    {
     "name": "stderr",
     "output_type": "stream",
     "text": [
      "Epoch [41/50]: 100%|██████| 282/282 [01:27<00:00,  3.22it/s, acc=71.2, loss=1.3]\n"
     ]
    },
    {
     "name": "stdout",
     "output_type": "stream",
     "text": [
      "✅ Fold 7: Test Accuracy = 71.03%\n"
     ]
    },
    {
     "name": "stderr",
     "output_type": "stream",
     "text": [
      "Epoch [42/50]: 100%|█████| 282/282 [01:27<00:00,  3.22it/s, acc=71.6, loss=0.71]\n"
     ]
    },
    {
     "name": "stdout",
     "output_type": "stream",
     "text": [
      "✅ Fold 7: Test Accuracy = 71.73%\n"
     ]
    },
    {
     "name": "stderr",
     "output_type": "stream",
     "text": [
      "Epoch [43/50]: 100%|████| 282/282 [01:27<00:00,  3.22it/s, acc=71.3, loss=0.924]\n"
     ]
    },
    {
     "name": "stdout",
     "output_type": "stream",
     "text": [
      "✅ Fold 7: Test Accuracy = 69.73%\n"
     ]
    },
    {
     "name": "stderr",
     "output_type": "stream",
     "text": [
      "Epoch [44/50]: 100%|████| 282/282 [01:27<00:00,  3.22it/s, acc=71.5, loss=0.509]\n"
     ]
    },
    {
     "name": "stdout",
     "output_type": "stream",
     "text": [
      "✅ Fold 7: Test Accuracy = 72.73%\n"
     ]
    },
    {
     "name": "stderr",
     "output_type": "stream",
     "text": [
      "Epoch [45/50]: 100%|██████| 282/282 [01:27<00:00,  3.22it/s, acc=71, loss=0.953]\n"
     ]
    },
    {
     "name": "stdout",
     "output_type": "stream",
     "text": [
      "✅ Fold 7: Test Accuracy = 71.53%\n"
     ]
    },
    {
     "name": "stderr",
     "output_type": "stream",
     "text": [
      "Epoch [46/50]: 100%|████| 282/282 [01:27<00:00,  3.21it/s, acc=70.9, loss=0.473]\n"
     ]
    },
    {
     "name": "stdout",
     "output_type": "stream",
     "text": [
      "✅ Fold 7: Test Accuracy = 70.83%\n"
     ]
    },
    {
     "name": "stderr",
     "output_type": "stream",
     "text": [
      "Epoch [47/50]: 100%|████| 282/282 [01:27<00:00,  3.22it/s, acc=71.3, loss=0.977]\n"
     ]
    },
    {
     "name": "stdout",
     "output_type": "stream",
     "text": [
      "✅ Fold 7: Test Accuracy = 71.03%\n"
     ]
    },
    {
     "name": "stderr",
     "output_type": "stream",
     "text": [
      "Epoch [48/50]: 100%|████| 282/282 [01:27<00:00,  3.22it/s, acc=71.2, loss=0.537]\n"
     ]
    },
    {
     "name": "stdout",
     "output_type": "stream",
     "text": [
      "✅ Fold 7: Test Accuracy = 70.13%\n"
     ]
    },
    {
     "name": "stderr",
     "output_type": "stream",
     "text": [
      "Epoch [49/50]: 100%|████| 282/282 [01:27<00:00,  3.21it/s, acc=71.6, loss=0.503]\n"
     ]
    },
    {
     "name": "stdout",
     "output_type": "stream",
     "text": [
      "✅ Fold 7: Test Accuracy = 71.43%\n"
     ]
    },
    {
     "name": "stderr",
     "output_type": "stream",
     "text": [
      "Epoch [50/50]: 100%|████| 282/282 [01:27<00:00,  3.22it/s, acc=71.5, loss=0.639]\n"
     ]
    },
    {
     "name": "stdout",
     "output_type": "stream",
     "text": [
      "✅ Fold 7: Test Accuracy = 71.73%\n",
      "\n",
      "🚀 Training Fold 8/10\n",
      "🔄 Resuming from epoch 0, best accuracy: 0.00%\n"
     ]
    },
    {
     "name": "stderr",
     "output_type": "stream",
     "text": [
      "Epoch [1/50]: 100%|██████| 282/282 [01:27<00:00,  3.22it/s, acc=63.8, loss=1.37]\n"
     ]
    },
    {
     "name": "stdout",
     "output_type": "stream",
     "text": [
      "✅ Fold 8: Test Accuracy = 66.93%\n",
      "🎯 New best model saved with accuracy: 66.93%\n"
     ]
    },
    {
     "name": "stderr",
     "output_type": "stream",
     "text": [
      "Epoch [2/50]: 100%|█████| 282/282 [01:27<00:00,  3.22it/s, acc=66.4, loss=0.984]\n"
     ]
    },
    {
     "name": "stdout",
     "output_type": "stream",
     "text": [
      "✅ Fold 8: Test Accuracy = 67.33%\n",
      "🎯 New best model saved with accuracy: 67.33%\n"
     ]
    },
    {
     "name": "stderr",
     "output_type": "stream",
     "text": [
      "Epoch [3/50]: 100%|█████| 282/282 [01:27<00:00,  3.22it/s, acc=67.9, loss=0.971]\n"
     ]
    },
    {
     "name": "stdout",
     "output_type": "stream",
     "text": [
      "✅ Fold 8: Test Accuracy = 68.83%\n",
      "🎯 New best model saved with accuracy: 68.83%\n"
     ]
    },
    {
     "name": "stderr",
     "output_type": "stream",
     "text": [
      "Epoch [4/50]: 100%|█████| 282/282 [01:27<00:00,  3.22it/s, acc=69.2, loss=0.884]\n"
     ]
    },
    {
     "name": "stdout",
     "output_type": "stream",
     "text": [
      "✅ Fold 8: Test Accuracy = 69.33%\n",
      "🎯 New best model saved with accuracy: 69.33%\n"
     ]
    },
    {
     "name": "stderr",
     "output_type": "stream",
     "text": [
      "Epoch [5/50]: 100%|█████| 282/282 [01:27<00:00,  3.22it/s, acc=69.4, loss=0.814]\n"
     ]
    },
    {
     "name": "stdout",
     "output_type": "stream",
     "text": [
      "✅ Fold 8: Test Accuracy = 71.83%\n",
      "🎯 New best model saved with accuracy: 71.83%\n"
     ]
    },
    {
     "name": "stderr",
     "output_type": "stream",
     "text": [
      "Epoch [6/50]: 100%|███████| 282/282 [01:27<00:00,  3.23it/s, acc=70, loss=0.675]\n"
     ]
    },
    {
     "name": "stdout",
     "output_type": "stream",
     "text": [
      "✅ Fold 8: Test Accuracy = 72.03%\n",
      "🎯 New best model saved with accuracy: 72.03%\n"
     ]
    },
    {
     "name": "stderr",
     "output_type": "stream",
     "text": [
      "Epoch [7/50]: 100%|█████| 282/282 [01:27<00:00,  3.23it/s, acc=69.5, loss=0.863]\n"
     ]
    },
    {
     "name": "stdout",
     "output_type": "stream",
     "text": [
      "✅ Fold 8: Test Accuracy = 68.43%\n"
     ]
    },
    {
     "name": "stderr",
     "output_type": "stream",
     "text": [
      "Epoch [8/50]: 100%|█████| 282/282 [01:27<00:00,  3.21it/s, acc=69.9, loss=0.992]\n"
     ]
    },
    {
     "name": "stdout",
     "output_type": "stream",
     "text": [
      "✅ Fold 8: Test Accuracy = 71.43%\n"
     ]
    },
    {
     "name": "stderr",
     "output_type": "stream",
     "text": [
      "Epoch [9/50]: 100%|█████| 282/282 [01:27<00:00,  3.22it/s, acc=70.4, loss=0.771]\n"
     ]
    },
    {
     "name": "stdout",
     "output_type": "stream",
     "text": [
      "✅ Fold 8: Test Accuracy = 69.13%\n"
     ]
    },
    {
     "name": "stderr",
     "output_type": "stream",
     "text": [
      "Epoch [10/50]: 100%|████| 282/282 [01:27<00:00,  3.22it/s, acc=70.2, loss=0.672]\n"
     ]
    },
    {
     "name": "stdout",
     "output_type": "stream",
     "text": [
      "✅ Fold 8: Test Accuracy = 71.33%\n"
     ]
    },
    {
     "name": "stderr",
     "output_type": "stream",
     "text": [
      "Epoch [11/50]: 100%|████| 282/282 [01:27<00:00,  3.22it/s, acc=70.6, loss=0.797]\n"
     ]
    },
    {
     "name": "stdout",
     "output_type": "stream",
     "text": [
      "✅ Fold 8: Test Accuracy = 71.03%\n"
     ]
    },
    {
     "name": "stderr",
     "output_type": "stream",
     "text": [
      "Epoch [12/50]: 100%|████| 282/282 [01:27<00:00,  3.22it/s, acc=70.7, loss=0.973]\n"
     ]
    },
    {
     "name": "stdout",
     "output_type": "stream",
     "text": [
      "✅ Fold 8: Test Accuracy = 71.73%\n"
     ]
    },
    {
     "name": "stderr",
     "output_type": "stream",
     "text": [
      "Epoch [13/50]: 100%|████| 282/282 [01:27<00:00,  3.22it/s, acc=70.8, loss=0.473]\n"
     ]
    },
    {
     "name": "stdout",
     "output_type": "stream",
     "text": [
      "✅ Fold 8: Test Accuracy = 70.43%\n"
     ]
    },
    {
     "name": "stderr",
     "output_type": "stream",
     "text": [
      "Epoch [14/50]: 100%|████| 282/282 [01:27<00:00,  3.22it/s, acc=71.1, loss=0.489]\n"
     ]
    },
    {
     "name": "stdout",
     "output_type": "stream",
     "text": [
      "✅ Fold 8: Test Accuracy = 72.23%\n",
      "🎯 New best model saved with accuracy: 72.23%\n"
     ]
    },
    {
     "name": "stderr",
     "output_type": "stream",
     "text": [
      "Epoch [15/50]: 100%|████| 282/282 [01:27<00:00,  3.23it/s, acc=70.9, loss=0.811]\n"
     ]
    },
    {
     "name": "stdout",
     "output_type": "stream",
     "text": [
      "✅ Fold 8: Test Accuracy = 71.33%\n"
     ]
    },
    {
     "name": "stderr",
     "output_type": "stream",
     "text": [
      "Epoch [16/50]: 100%|█████| 282/282 [01:27<00:00,  3.22it/s, acc=71.1, loss=1.05]\n"
     ]
    },
    {
     "name": "stdout",
     "output_type": "stream",
     "text": [
      "✅ Fold 8: Test Accuracy = 72.13%\n"
     ]
    },
    {
     "name": "stderr",
     "output_type": "stream",
     "text": [
      "Epoch [17/50]: 100%|██████| 282/282 [01:27<00:00,  3.21it/s, acc=71, loss=0.627]\n"
     ]
    },
    {
     "name": "stdout",
     "output_type": "stream",
     "text": [
      "✅ Fold 8: Test Accuracy = 72.73%\n",
      "🎯 New best model saved with accuracy: 72.73%\n"
     ]
    },
    {
     "name": "stderr",
     "output_type": "stream",
     "text": [
      "Epoch [18/50]: 100%|████| 282/282 [01:27<00:00,  3.22it/s, acc=71.2, loss=0.654]\n"
     ]
    },
    {
     "name": "stdout",
     "output_type": "stream",
     "text": [
      "✅ Fold 8: Test Accuracy = 72.23%\n"
     ]
    },
    {
     "name": "stderr",
     "output_type": "stream",
     "text": [
      "Epoch [19/50]: 100%|████| 282/282 [01:27<00:00,  3.22it/s, acc=71.8, loss=0.677]\n"
     ]
    },
    {
     "name": "stdout",
     "output_type": "stream",
     "text": [
      "✅ Fold 8: Test Accuracy = 73.43%\n",
      "🎯 New best model saved with accuracy: 73.43%\n"
     ]
    },
    {
     "name": "stderr",
     "output_type": "stream",
     "text": [
      "Epoch [20/50]: 100%|████| 282/282 [01:27<00:00,  3.23it/s, acc=70.8, loss=0.485]\n"
     ]
    },
    {
     "name": "stdout",
     "output_type": "stream",
     "text": [
      "✅ Fold 8: Test Accuracy = 73.33%\n"
     ]
    },
    {
     "name": "stderr",
     "output_type": "stream",
     "text": [
      "Epoch [21/50]: 100%|████| 282/282 [01:27<00:00,  3.21it/s, acc=71.3, loss=0.478]\n"
     ]
    },
    {
     "name": "stdout",
     "output_type": "stream",
     "text": [
      "✅ Fold 8: Test Accuracy = 70.73%\n"
     ]
    },
    {
     "name": "stderr",
     "output_type": "stream",
     "text": [
      "Epoch [22/50]: 100%|██████| 282/282 [01:27<00:00,  3.21it/s, acc=72, loss=0.598]\n"
     ]
    },
    {
     "name": "stdout",
     "output_type": "stream",
     "text": [
      "✅ Fold 8: Test Accuracy = 71.93%\n"
     ]
    },
    {
     "name": "stderr",
     "output_type": "stream",
     "text": [
      "Epoch [23/50]: 100%|████| 282/282 [01:27<00:00,  3.21it/s, acc=71.3, loss=0.866]\n"
     ]
    },
    {
     "name": "stdout",
     "output_type": "stream",
     "text": [
      "✅ Fold 8: Test Accuracy = 71.03%\n"
     ]
    },
    {
     "name": "stderr",
     "output_type": "stream",
     "text": [
      "Epoch [24/50]: 100%|████| 282/282 [01:27<00:00,  3.22it/s, acc=71.3, loss=0.829]\n"
     ]
    },
    {
     "name": "stdout",
     "output_type": "stream",
     "text": [
      "✅ Fold 8: Test Accuracy = 71.33%\n"
     ]
    },
    {
     "name": "stderr",
     "output_type": "stream",
     "text": [
      "Epoch [25/50]: 100%|████| 282/282 [01:27<00:00,  3.21it/s, acc=71.2, loss=0.606]\n"
     ]
    },
    {
     "name": "stdout",
     "output_type": "stream",
     "text": [
      "✅ Fold 8: Test Accuracy = 72.43%\n"
     ]
    },
    {
     "name": "stderr",
     "output_type": "stream",
     "text": [
      "Epoch [26/50]: 100%|█████| 282/282 [01:27<00:00,  3.22it/s, acc=71.9, loss=1.15]\n"
     ]
    },
    {
     "name": "stdout",
     "output_type": "stream",
     "text": [
      "✅ Fold 8: Test Accuracy = 71.13%\n"
     ]
    },
    {
     "name": "stderr",
     "output_type": "stream",
     "text": [
      "Epoch [27/50]: 100%|████| 282/282 [01:27<00:00,  3.22it/s, acc=71.5, loss=0.919]\n"
     ]
    },
    {
     "name": "stdout",
     "output_type": "stream",
     "text": [
      "✅ Fold 8: Test Accuracy = 72.53%\n"
     ]
    },
    {
     "name": "stderr",
     "output_type": "stream",
     "text": [
      "Epoch [28/50]: 100%|████| 282/282 [01:27<00:00,  3.22it/s, acc=71.3, loss=0.844]\n"
     ]
    },
    {
     "name": "stdout",
     "output_type": "stream",
     "text": [
      "✅ Fold 8: Test Accuracy = 73.53%\n",
      "🎯 New best model saved with accuracy: 73.53%\n"
     ]
    },
    {
     "name": "stderr",
     "output_type": "stream",
     "text": [
      "Epoch [29/50]: 100%|████| 282/282 [01:27<00:00,  3.23it/s, acc=71.8, loss=0.814]\n"
     ]
    },
    {
     "name": "stdout",
     "output_type": "stream",
     "text": [
      "✅ Fold 8: Test Accuracy = 72.93%\n"
     ]
    },
    {
     "name": "stderr",
     "output_type": "stream",
     "text": [
      "Epoch [30/50]: 100%|████| 282/282 [01:27<00:00,  3.21it/s, acc=71.3, loss=0.961]\n"
     ]
    },
    {
     "name": "stdout",
     "output_type": "stream",
     "text": [
      "✅ Fold 8: Test Accuracy = 71.53%\n"
     ]
    },
    {
     "name": "stderr",
     "output_type": "stream",
     "text": [
      "Epoch [31/50]: 100%|████| 282/282 [01:27<00:00,  3.21it/s, acc=71.6, loss=0.572]\n"
     ]
    },
    {
     "name": "stdout",
     "output_type": "stream",
     "text": [
      "✅ Fold 8: Test Accuracy = 69.23%\n"
     ]
    },
    {
     "name": "stderr",
     "output_type": "stream",
     "text": [
      "Epoch [32/50]: 100%|████| 282/282 [01:27<00:00,  3.21it/s, acc=71.1, loss=0.976]\n"
     ]
    },
    {
     "name": "stdout",
     "output_type": "stream",
     "text": [
      "✅ Fold 8: Test Accuracy = 71.33%\n"
     ]
    },
    {
     "name": "stderr",
     "output_type": "stream",
     "text": [
      "Epoch [33/50]: 100%|██████| 282/282 [01:27<00:00,  3.22it/s, acc=72, loss=0.505]\n"
     ]
    },
    {
     "name": "stdout",
     "output_type": "stream",
     "text": [
      "✅ Fold 8: Test Accuracy = 74.03%\n",
      "🎯 New best model saved with accuracy: 74.03%\n"
     ]
    },
    {
     "name": "stderr",
     "output_type": "stream",
     "text": [
      "Epoch [34/50]: 100%|█████| 282/282 [01:27<00:00,  3.23it/s, acc=71.7, loss=0.87]\n"
     ]
    },
    {
     "name": "stdout",
     "output_type": "stream",
     "text": [
      "✅ Fold 8: Test Accuracy = 73.23%\n"
     ]
    },
    {
     "name": "stderr",
     "output_type": "stream",
     "text": [
      "Epoch [35/50]: 100%|███████| 282/282 [01:27<00:00,  3.21it/s, acc=72, loss=1.01]\n"
     ]
    },
    {
     "name": "stdout",
     "output_type": "stream",
     "text": [
      "✅ Fold 8: Test Accuracy = 73.03%\n"
     ]
    },
    {
     "name": "stderr",
     "output_type": "stream",
     "text": [
      "Epoch [36/50]: 100%|████| 282/282 [01:27<00:00,  3.22it/s, acc=71.7, loss=0.798]\n"
     ]
    },
    {
     "name": "stdout",
     "output_type": "stream",
     "text": [
      "✅ Fold 8: Test Accuracy = 73.53%\n"
     ]
    },
    {
     "name": "stderr",
     "output_type": "stream",
     "text": [
      "Epoch [37/50]: 100%|████| 282/282 [01:27<00:00,  3.21it/s, acc=72.2, loss=0.597]\n"
     ]
    },
    {
     "name": "stdout",
     "output_type": "stream",
     "text": [
      "✅ Fold 8: Test Accuracy = 72.13%\n"
     ]
    },
    {
     "name": "stderr",
     "output_type": "stream",
     "text": [
      "Epoch [38/50]: 100%|████| 282/282 [01:27<00:00,  3.22it/s, acc=71.9, loss=0.871]\n"
     ]
    },
    {
     "name": "stdout",
     "output_type": "stream",
     "text": [
      "✅ Fold 8: Test Accuracy = 71.03%\n"
     ]
    },
    {
     "name": "stderr",
     "output_type": "stream",
     "text": [
      "Epoch [39/50]: 100%|███████| 282/282 [01:27<00:00,  3.22it/s, acc=72, loss=1.05]\n"
     ]
    },
    {
     "name": "stdout",
     "output_type": "stream",
     "text": [
      "✅ Fold 8: Test Accuracy = 73.53%\n"
     ]
    },
    {
     "name": "stderr",
     "output_type": "stream",
     "text": [
      "Epoch [40/50]: 100%|█████| 282/282 [01:27<00:00,  3.21it/s, acc=71.3, loss=1.04]\n"
     ]
    },
    {
     "name": "stdout",
     "output_type": "stream",
     "text": [
      "✅ Fold 8: Test Accuracy = 73.73%\n"
     ]
    },
    {
     "name": "stderr",
     "output_type": "stream",
     "text": [
      "Epoch [41/50]: 100%|██████| 282/282 [01:27<00:00,  3.22it/s, acc=72, loss=0.891]\n"
     ]
    },
    {
     "name": "stdout",
     "output_type": "stream",
     "text": [
      "✅ Fold 8: Test Accuracy = 73.63%\n"
     ]
    },
    {
     "name": "stderr",
     "output_type": "stream",
     "text": [
      "Epoch [42/50]: 100%|█████| 282/282 [01:27<00:00,  3.21it/s, acc=71.4, loss=1.25]\n"
     ]
    },
    {
     "name": "stdout",
     "output_type": "stream",
     "text": [
      "✅ Fold 8: Test Accuracy = 73.53%\n"
     ]
    },
    {
     "name": "stderr",
     "output_type": "stream",
     "text": [
      "Epoch [43/50]: 100%|██████| 282/282 [01:27<00:00,  3.22it/s, acc=71.7, loss=0.8]\n"
     ]
    },
    {
     "name": "stdout",
     "output_type": "stream",
     "text": [
      "✅ Fold 8: Test Accuracy = 70.23%\n"
     ]
    },
    {
     "name": "stderr",
     "output_type": "stream",
     "text": [
      "Epoch [44/50]: 100%|████| 282/282 [01:27<00:00,  3.21it/s, acc=71.5, loss=0.787]\n"
     ]
    },
    {
     "name": "stdout",
     "output_type": "stream",
     "text": [
      "✅ Fold 8: Test Accuracy = 73.13%\n"
     ]
    },
    {
     "name": "stderr",
     "output_type": "stream",
     "text": [
      "Epoch [45/50]: 100%|████| 282/282 [01:27<00:00,  3.21it/s, acc=71.2, loss=0.772]\n"
     ]
    },
    {
     "name": "stdout",
     "output_type": "stream",
     "text": [
      "✅ Fold 8: Test Accuracy = 71.83%\n"
     ]
    },
    {
     "name": "stderr",
     "output_type": "stream",
     "text": [
      "Epoch [46/50]: 100%|████| 282/282 [01:27<00:00,  3.22it/s, acc=71.9, loss=0.404]\n"
     ]
    },
    {
     "name": "stdout",
     "output_type": "stream",
     "text": [
      "✅ Fold 8: Test Accuracy = 69.73%\n"
     ]
    },
    {
     "name": "stderr",
     "output_type": "stream",
     "text": [
      "Epoch [47/50]: 100%|█████| 282/282 [01:27<00:00,  3.22it/s, acc=72.2, loss=1.06]\n"
     ]
    },
    {
     "name": "stdout",
     "output_type": "stream",
     "text": [
      "✅ Fold 8: Test Accuracy = 73.13%\n"
     ]
    },
    {
     "name": "stderr",
     "output_type": "stream",
     "text": [
      "Epoch [48/50]: 100%|████| 282/282 [01:27<00:00,  3.21it/s, acc=72.1, loss=0.712]\n"
     ]
    },
    {
     "name": "stdout",
     "output_type": "stream",
     "text": [
      "✅ Fold 8: Test Accuracy = 73.23%\n"
     ]
    },
    {
     "name": "stderr",
     "output_type": "stream",
     "text": [
      "Epoch [49/50]: 100%|██████| 282/282 [01:27<00:00,  3.22it/s, acc=72, loss=0.735]\n"
     ]
    },
    {
     "name": "stdout",
     "output_type": "stream",
     "text": [
      "✅ Fold 8: Test Accuracy = 71.83%\n"
     ]
    },
    {
     "name": "stderr",
     "output_type": "stream",
     "text": [
      "Epoch [50/50]: 100%|██████| 282/282 [01:27<00:00,  3.21it/s, acc=72, loss=0.506]\n"
     ]
    },
    {
     "name": "stdout",
     "output_type": "stream",
     "text": [
      "✅ Fold 8: Test Accuracy = 73.83%\n",
      "\n",
      "🚀 Training Fold 9/10\n",
      "🔄 Resuming from epoch 0, best accuracy: 0.00%\n"
     ]
    },
    {
     "name": "stderr",
     "output_type": "stream",
     "text": [
      "Epoch [1/50]: 100%|██████| 282/282 [01:27<00:00,  3.22it/s, acc=63.2, loss=1.29]\n"
     ]
    },
    {
     "name": "stdout",
     "output_type": "stream",
     "text": [
      "✅ Fold 9: Test Accuracy = 67.03%\n",
      "🎯 New best model saved with accuracy: 67.03%\n"
     ]
    },
    {
     "name": "stderr",
     "output_type": "stream",
     "text": [
      "Epoch [2/50]: 100%|██████| 282/282 [01:27<00:00,  3.22it/s, acc=66.9, loss=1.52]\n"
     ]
    },
    {
     "name": "stdout",
     "output_type": "stream",
     "text": [
      "✅ Fold 9: Test Accuracy = 67.03%\n"
     ]
    },
    {
     "name": "stderr",
     "output_type": "stream",
     "text": [
      "Epoch [3/50]: 100%|████████| 282/282 [01:27<00:00,  3.22it/s, acc=66, loss=1.02]\n"
     ]
    },
    {
     "name": "stdout",
     "output_type": "stream",
     "text": [
      "✅ Fold 9: Test Accuracy = 67.03%\n"
     ]
    },
    {
     "name": "stderr",
     "output_type": "stream",
     "text": [
      "Epoch [4/50]: 100%|█████| 282/282 [01:27<00:00,  3.22it/s, acc=66.7, loss=0.874]\n"
     ]
    },
    {
     "name": "stdout",
     "output_type": "stream",
     "text": [
      "✅ Fold 9: Test Accuracy = 67.03%\n"
     ]
    },
    {
     "name": "stderr",
     "output_type": "stream",
     "text": [
      "Epoch [5/50]: 100%|██████| 282/282 [01:27<00:00,  3.22it/s, acc=66.7, loss=1.46]\n"
     ]
    },
    {
     "name": "stdout",
     "output_type": "stream",
     "text": [
      "✅ Fold 9: Test Accuracy = 67.13%\n",
      "🎯 New best model saved with accuracy: 67.13%\n"
     ]
    },
    {
     "name": "stderr",
     "output_type": "stream",
     "text": [
      "Epoch [6/50]: 100%|██████| 282/282 [01:27<00:00,  3.22it/s, acc=68.6, loss=1.35]\n"
     ]
    },
    {
     "name": "stdout",
     "output_type": "stream",
     "text": [
      "✅ Fold 9: Test Accuracy = 68.63%\n",
      "🎯 New best model saved with accuracy: 68.63%\n"
     ]
    },
    {
     "name": "stderr",
     "output_type": "stream",
     "text": [
      "Epoch [7/50]: 100%|██████| 282/282 [01:27<00:00,  3.22it/s, acc=69.3, loss=1.09]\n"
     ]
    },
    {
     "name": "stdout",
     "output_type": "stream",
     "text": [
      "✅ Fold 9: Test Accuracy = 70.13%\n",
      "🎯 New best model saved with accuracy: 70.13%\n"
     ]
    },
    {
     "name": "stderr",
     "output_type": "stream",
     "text": [
      "Epoch [8/50]: 100%|█████████| 282/282 [01:27<00:00,  3.20it/s, acc=70, loss=1.3]\n"
     ]
    },
    {
     "name": "stdout",
     "output_type": "stream",
     "text": [
      "✅ Fold 9: Test Accuracy = 69.93%\n"
     ]
    },
    {
     "name": "stderr",
     "output_type": "stream",
     "text": [
      "Epoch [9/50]: 100%|█████| 282/282 [01:27<00:00,  3.21it/s, acc=70.6, loss=0.833]\n"
     ]
    },
    {
     "name": "stdout",
     "output_type": "stream",
     "text": [
      "✅ Fold 9: Test Accuracy = 72.93%\n",
      "🎯 New best model saved with accuracy: 72.93%\n"
     ]
    },
    {
     "name": "stderr",
     "output_type": "stream",
     "text": [
      "Epoch [10/50]: 100%|████| 282/282 [01:27<00:00,  3.22it/s, acc=70.6, loss=0.681]\n"
     ]
    },
    {
     "name": "stdout",
     "output_type": "stream",
     "text": [
      "✅ Fold 9: Test Accuracy = 70.73%\n"
     ]
    },
    {
     "name": "stderr",
     "output_type": "stream",
     "text": [
      "Epoch [11/50]: 100%|████| 282/282 [01:27<00:00,  3.21it/s, acc=70.6, loss=0.727]\n"
     ]
    },
    {
     "name": "stdout",
     "output_type": "stream",
     "text": [
      "✅ Fold 9: Test Accuracy = 71.83%\n"
     ]
    },
    {
     "name": "stderr",
     "output_type": "stream",
     "text": [
      "Epoch [12/50]: 100%|████| 282/282 [01:27<00:00,  3.22it/s, acc=71.6, loss=0.919]\n"
     ]
    },
    {
     "name": "stdout",
     "output_type": "stream",
     "text": [
      "✅ Fold 9: Test Accuracy = 68.63%\n"
     ]
    },
    {
     "name": "stderr",
     "output_type": "stream",
     "text": [
      "Epoch [13/50]: 100%|████| 282/282 [01:27<00:00,  3.22it/s, acc=71.4, loss=0.542]\n"
     ]
    },
    {
     "name": "stdout",
     "output_type": "stream",
     "text": [
      "✅ Fold 9: Test Accuracy = 71.43%\n"
     ]
    },
    {
     "name": "stderr",
     "output_type": "stream",
     "text": [
      "Epoch [14/50]: 100%|████| 282/282 [01:27<00:00,  3.22it/s, acc=71.2, loss=0.937]\n"
     ]
    },
    {
     "name": "stdout",
     "output_type": "stream",
     "text": [
      "✅ Fold 9: Test Accuracy = 72.83%\n"
     ]
    },
    {
     "name": "stderr",
     "output_type": "stream",
     "text": [
      "Epoch [15/50]: 100%|█████| 282/282 [01:27<00:00,  3.22it/s, acc=71.8, loss=1.15]\n"
     ]
    },
    {
     "name": "stdout",
     "output_type": "stream",
     "text": [
      "✅ Fold 9: Test Accuracy = 70.83%\n"
     ]
    },
    {
     "name": "stderr",
     "output_type": "stream",
     "text": [
      "Epoch [16/50]: 100%|████| 282/282 [01:27<00:00,  3.21it/s, acc=72.1, loss=0.843]\n"
     ]
    },
    {
     "name": "stdout",
     "output_type": "stream",
     "text": [
      "✅ Fold 9: Test Accuracy = 71.33%\n"
     ]
    },
    {
     "name": "stderr",
     "output_type": "stream",
     "text": [
      "Epoch [17/50]: 100%|█████| 282/282 [01:27<00:00,  3.22it/s, acc=70.9, loss=1.23]\n"
     ]
    },
    {
     "name": "stdout",
     "output_type": "stream",
     "text": [
      "✅ Fold 9: Test Accuracy = 70.83%\n"
     ]
    },
    {
     "name": "stderr",
     "output_type": "stream",
     "text": [
      "Epoch [18/50]: 100%|████| 282/282 [01:27<00:00,  3.22it/s, acc=71.8, loss=0.676]\n"
     ]
    },
    {
     "name": "stdout",
     "output_type": "stream",
     "text": [
      "✅ Fold 9: Test Accuracy = 72.53%\n"
     ]
    },
    {
     "name": "stderr",
     "output_type": "stream",
     "text": [
      "Epoch [19/50]: 100%|████| 282/282 [01:27<00:00,  3.22it/s, acc=71.7, loss=0.577]\n"
     ]
    },
    {
     "name": "stdout",
     "output_type": "stream",
     "text": [
      "✅ Fold 9: Test Accuracy = 72.83%\n"
     ]
    },
    {
     "name": "stderr",
     "output_type": "stream",
     "text": [
      "Epoch [20/50]: 100%|█████| 282/282 [01:27<00:00,  3.22it/s, acc=71.7, loss=1.15]\n"
     ]
    },
    {
     "name": "stdout",
     "output_type": "stream",
     "text": [
      "✅ Fold 9: Test Accuracy = 71.83%\n"
     ]
    },
    {
     "name": "stderr",
     "output_type": "stream",
     "text": [
      "Epoch [21/50]: 100%|████| 282/282 [01:27<00:00,  3.21it/s, acc=72.1, loss=0.856]\n"
     ]
    },
    {
     "name": "stdout",
     "output_type": "stream",
     "text": [
      "✅ Fold 9: Test Accuracy = 73.03%\n",
      "🎯 New best model saved with accuracy: 73.03%\n"
     ]
    },
    {
     "name": "stderr",
     "output_type": "stream",
     "text": [
      "Epoch [22/50]: 100%|████| 282/282 [01:27<00:00,  3.22it/s, acc=71.9, loss=0.772]\n"
     ]
    },
    {
     "name": "stdout",
     "output_type": "stream",
     "text": [
      "✅ Fold 9: Test Accuracy = 72.93%\n"
     ]
    },
    {
     "name": "stderr",
     "output_type": "stream",
     "text": [
      "Epoch [23/50]: 100%|████| 282/282 [01:27<00:00,  3.21it/s, acc=72.4, loss=0.789]\n"
     ]
    },
    {
     "name": "stdout",
     "output_type": "stream",
     "text": [
      "✅ Fold 9: Test Accuracy = 71.83%\n"
     ]
    },
    {
     "name": "stderr",
     "output_type": "stream",
     "text": [
      "Epoch [24/50]: 100%|█████| 282/282 [01:27<00:00,  3.21it/s, acc=72.2, loss=1.21]\n"
     ]
    },
    {
     "name": "stdout",
     "output_type": "stream",
     "text": [
      "✅ Fold 9: Test Accuracy = 72.03%\n"
     ]
    },
    {
     "name": "stderr",
     "output_type": "stream",
     "text": [
      "Epoch [25/50]: 100%|████| 282/282 [01:27<00:00,  3.22it/s, acc=71.9, loss=0.373]\n"
     ]
    },
    {
     "name": "stdout",
     "output_type": "stream",
     "text": [
      "✅ Fold 9: Test Accuracy = 72.03%\n"
     ]
    },
    {
     "name": "stderr",
     "output_type": "stream",
     "text": [
      "Epoch [26/50]: 100%|████| 282/282 [01:27<00:00,  3.21it/s, acc=71.8, loss=0.832]\n"
     ]
    },
    {
     "name": "stdout",
     "output_type": "stream",
     "text": [
      "✅ Fold 9: Test Accuracy = 71.53%\n"
     ]
    },
    {
     "name": "stderr",
     "output_type": "stream",
     "text": [
      "Epoch [27/50]: 100%|██████| 282/282 [01:27<00:00,  3.22it/s, acc=72, loss=0.565]\n"
     ]
    },
    {
     "name": "stdout",
     "output_type": "stream",
     "text": [
      "✅ Fold 9: Test Accuracy = 72.73%\n"
     ]
    },
    {
     "name": "stderr",
     "output_type": "stream",
     "text": [
      "Epoch [28/50]: 100%|████| 282/282 [01:27<00:00,  3.22it/s, acc=71.9, loss=0.579]\n"
     ]
    },
    {
     "name": "stdout",
     "output_type": "stream",
     "text": [
      "✅ Fold 9: Test Accuracy = 72.73%\n"
     ]
    },
    {
     "name": "stderr",
     "output_type": "stream",
     "text": [
      "Epoch [29/50]: 100%|████| 282/282 [01:27<00:00,  3.22it/s, acc=71.9, loss=0.695]\n"
     ]
    },
    {
     "name": "stdout",
     "output_type": "stream",
     "text": [
      "✅ Fold 9: Test Accuracy = 72.23%\n"
     ]
    },
    {
     "name": "stderr",
     "output_type": "stream",
     "text": [
      "Epoch [30/50]: 100%|████| 282/282 [01:27<00:00,  3.22it/s, acc=72.4, loss=0.583]\n"
     ]
    },
    {
     "name": "stdout",
     "output_type": "stream",
     "text": [
      "✅ Fold 9: Test Accuracy = 70.63%\n"
     ]
    },
    {
     "name": "stderr",
     "output_type": "stream",
     "text": [
      "Epoch [31/50]: 100%|████| 282/282 [01:27<00:00,  3.21it/s, acc=72.2, loss=0.756]\n"
     ]
    },
    {
     "name": "stdout",
     "output_type": "stream",
     "text": [
      "✅ Fold 9: Test Accuracy = 71.93%\n"
     ]
    },
    {
     "name": "stderr",
     "output_type": "stream",
     "text": [
      "Epoch [32/50]: 100%|█████| 282/282 [01:27<00:00,  3.22it/s, acc=71.6, loss=0.66]\n"
     ]
    },
    {
     "name": "stdout",
     "output_type": "stream",
     "text": [
      "✅ Fold 9: Test Accuracy = 70.33%\n"
     ]
    },
    {
     "name": "stderr",
     "output_type": "stream",
     "text": [
      "Epoch [33/50]: 100%|███████| 282/282 [01:27<00:00,  3.22it/s, acc=72, loss=0.75]\n"
     ]
    },
    {
     "name": "stdout",
     "output_type": "stream",
     "text": [
      "✅ Fold 9: Test Accuracy = 73.13%\n",
      "🎯 New best model saved with accuracy: 73.13%\n"
     ]
    },
    {
     "name": "stderr",
     "output_type": "stream",
     "text": [
      "Epoch [34/50]: 100%|████| 282/282 [01:27<00:00,  3.22it/s, acc=71.6, loss=0.573]\n"
     ]
    },
    {
     "name": "stdout",
     "output_type": "stream",
     "text": [
      "✅ Fold 9: Test Accuracy = 69.63%\n"
     ]
    },
    {
     "name": "stderr",
     "output_type": "stream",
     "text": [
      "Epoch [35/50]: 100%|█████| 282/282 [01:27<00:00,  3.21it/s, acc=72.2, loss=0.65]\n"
     ]
    },
    {
     "name": "stdout",
     "output_type": "stream",
     "text": [
      "✅ Fold 9: Test Accuracy = 72.53%\n"
     ]
    },
    {
     "name": "stderr",
     "output_type": "stream",
     "text": [
      "Epoch [36/50]: 100%|████| 282/282 [01:27<00:00,  3.22it/s, acc=72.3, loss=0.893]\n"
     ]
    },
    {
     "name": "stdout",
     "output_type": "stream",
     "text": [
      "✅ Fold 9: Test Accuracy = 71.03%\n"
     ]
    },
    {
     "name": "stderr",
     "output_type": "stream",
     "text": [
      "Epoch [37/50]: 100%|████| 282/282 [01:27<00:00,  3.22it/s, acc=72.3, loss=0.692]\n"
     ]
    },
    {
     "name": "stdout",
     "output_type": "stream",
     "text": [
      "✅ Fold 9: Test Accuracy = 71.43%\n"
     ]
    },
    {
     "name": "stderr",
     "output_type": "stream",
     "text": [
      "Epoch [38/50]: 100%|████| 282/282 [01:27<00:00,  3.22it/s, acc=72.4, loss=0.397]\n"
     ]
    },
    {
     "name": "stdout",
     "output_type": "stream",
     "text": [
      "✅ Fold 9: Test Accuracy = 72.03%\n"
     ]
    },
    {
     "name": "stderr",
     "output_type": "stream",
     "text": [
      "Epoch [39/50]: 100%|████| 282/282 [01:27<00:00,  3.21it/s, acc=72.3, loss=0.514]\n"
     ]
    },
    {
     "name": "stdout",
     "output_type": "stream",
     "text": [
      "✅ Fold 9: Test Accuracy = 72.13%\n"
     ]
    },
    {
     "name": "stderr",
     "output_type": "stream",
     "text": [
      "Epoch [40/50]: 100%|██████| 282/282 [01:27<00:00,  3.22it/s, acc=72, loss=0.756]\n"
     ]
    },
    {
     "name": "stdout",
     "output_type": "stream",
     "text": [
      "✅ Fold 9: Test Accuracy = 73.33%\n",
      "🎯 New best model saved with accuracy: 73.33%\n"
     ]
    },
    {
     "name": "stderr",
     "output_type": "stream",
     "text": [
      "Epoch [41/50]: 100%|█████| 282/282 [01:27<00:00,  3.23it/s, acc=72.4, loss=1.04]\n"
     ]
    },
    {
     "name": "stdout",
     "output_type": "stream",
     "text": [
      "✅ Fold 9: Test Accuracy = 71.63%\n"
     ]
    },
    {
     "name": "stderr",
     "output_type": "stream",
     "text": [
      "Epoch [42/50]: 100%|████| 282/282 [01:27<00:00,  3.22it/s, acc=72.3, loss=0.981]\n"
     ]
    },
    {
     "name": "stdout",
     "output_type": "stream",
     "text": [
      "✅ Fold 9: Test Accuracy = 72.73%\n"
     ]
    },
    {
     "name": "stderr",
     "output_type": "stream",
     "text": [
      "Epoch [43/50]: 100%|████| 282/282 [01:27<00:00,  3.21it/s, acc=72.3, loss=0.991]\n"
     ]
    },
    {
     "name": "stdout",
     "output_type": "stream",
     "text": [
      "✅ Fold 9: Test Accuracy = 72.83%\n"
     ]
    },
    {
     "name": "stderr",
     "output_type": "stream",
     "text": [
      "Epoch [44/50]: 100%|████| 282/282 [01:27<00:00,  3.22it/s, acc=72.5, loss=0.658]\n"
     ]
    },
    {
     "name": "stdout",
     "output_type": "stream",
     "text": [
      "✅ Fold 9: Test Accuracy = 72.93%\n"
     ]
    },
    {
     "name": "stderr",
     "output_type": "stream",
     "text": [
      "Epoch [45/50]: 100%|████| 282/282 [01:27<00:00,  3.22it/s, acc=72.3, loss=0.654]\n"
     ]
    },
    {
     "name": "stdout",
     "output_type": "stream",
     "text": [
      "✅ Fold 9: Test Accuracy = 71.33%\n"
     ]
    },
    {
     "name": "stderr",
     "output_type": "stream",
     "text": [
      "Epoch [46/50]: 100%|████| 282/282 [01:27<00:00,  3.21it/s, acc=72.9, loss=0.785]\n"
     ]
    },
    {
     "name": "stdout",
     "output_type": "stream",
     "text": [
      "✅ Fold 9: Test Accuracy = 72.83%\n"
     ]
    },
    {
     "name": "stderr",
     "output_type": "stream",
     "text": [
      "Epoch [47/50]: 100%|█████| 282/282 [01:27<00:00,  3.22it/s, acc=72.1, loss=1.05]\n"
     ]
    },
    {
     "name": "stdout",
     "output_type": "stream",
     "text": [
      "✅ Fold 9: Test Accuracy = 73.43%\n",
      "🎯 New best model saved with accuracy: 73.43%\n"
     ]
    },
    {
     "name": "stderr",
     "output_type": "stream",
     "text": [
      "Epoch [48/50]: 100%|████| 282/282 [01:27<00:00,  3.23it/s, acc=72.6, loss=0.691]\n"
     ]
    },
    {
     "name": "stdout",
     "output_type": "stream",
     "text": [
      "✅ Fold 9: Test Accuracy = 72.33%\n"
     ]
    },
    {
     "name": "stderr",
     "output_type": "stream",
     "text": [
      "Epoch [49/50]: 100%|████| 282/282 [01:27<00:00,  3.21it/s, acc=72.4, loss=0.655]\n"
     ]
    },
    {
     "name": "stdout",
     "output_type": "stream",
     "text": [
      "✅ Fold 9: Test Accuracy = 73.13%\n"
     ]
    },
    {
     "name": "stderr",
     "output_type": "stream",
     "text": [
      "Epoch [50/50]: 100%|████| 282/282 [01:27<00:00,  3.22it/s, acc=72.6, loss=0.812]\n"
     ]
    },
    {
     "name": "stdout",
     "output_type": "stream",
     "text": [
      "✅ Fold 9: Test Accuracy = 71.83%\n",
      "\n",
      "🚀 Training Fold 10/10\n",
      "🔄 Resuming from epoch 0, best accuracy: 0.00%\n"
     ]
    },
    {
     "name": "stderr",
     "output_type": "stream",
     "text": [
      "Epoch [1/50]: 100%|██████| 282/282 [01:27<00:00,  3.23it/s, acc=63.6, loss=1.51]\n"
     ]
    },
    {
     "name": "stdout",
     "output_type": "stream",
     "text": [
      "✅ Fold 10: Test Accuracy = 67.03%\n",
      "🎯 New best model saved with accuracy: 67.03%\n"
     ]
    },
    {
     "name": "stderr",
     "output_type": "stream",
     "text": [
      "Epoch [2/50]: 100%|██████| 282/282 [01:27<00:00,  3.22it/s, acc=66.9, loss=1.04]\n"
     ]
    },
    {
     "name": "stdout",
     "output_type": "stream",
     "text": [
      "✅ Fold 10: Test Accuracy = 67.03%\n"
     ]
    },
    {
     "name": "stderr",
     "output_type": "stream",
     "text": [
      "Epoch [3/50]: 100%|██████| 282/282 [01:27<00:00,  3.22it/s, acc=66.7, loss=1.06]\n"
     ]
    },
    {
     "name": "stdout",
     "output_type": "stream",
     "text": [
      "✅ Fold 10: Test Accuracy = 67.03%\n"
     ]
    },
    {
     "name": "stderr",
     "output_type": "stream",
     "text": [
      "Epoch [4/50]: 100%|█████| 282/282 [01:27<00:00,  3.21it/s, acc=66.6, loss=0.956]\n"
     ]
    },
    {
     "name": "stdout",
     "output_type": "stream",
     "text": [
      "✅ Fold 10: Test Accuracy = 67.83%\n",
      "🎯 New best model saved with accuracy: 67.83%\n"
     ]
    },
    {
     "name": "stderr",
     "output_type": "stream",
     "text": [
      "Epoch [5/50]: 100%|█████| 282/282 [01:27<00:00,  3.22it/s, acc=68.1, loss=0.655]\n"
     ]
    },
    {
     "name": "stdout",
     "output_type": "stream",
     "text": [
      "✅ Fold 10: Test Accuracy = 70.13%\n",
      "🎯 New best model saved with accuracy: 70.13%\n"
     ]
    },
    {
     "name": "stderr",
     "output_type": "stream",
     "text": [
      "Epoch [6/50]: 100%|█████| 282/282 [01:27<00:00,  3.23it/s, acc=69.4, loss=0.702]\n"
     ]
    },
    {
     "name": "stdout",
     "output_type": "stream",
     "text": [
      "✅ Fold 10: Test Accuracy = 69.43%\n"
     ]
    },
    {
     "name": "stderr",
     "output_type": "stream",
     "text": [
      "Epoch [7/50]: 100%|█████| 282/282 [01:27<00:00,  3.21it/s, acc=69.5, loss=0.384]\n"
     ]
    },
    {
     "name": "stdout",
     "output_type": "stream",
     "text": [
      "✅ Fold 10: Test Accuracy = 73.13%\n",
      "🎯 New best model saved with accuracy: 73.13%\n"
     ]
    },
    {
     "name": "stderr",
     "output_type": "stream",
     "text": [
      "Epoch [8/50]: 100%|██████| 282/282 [01:27<00:00,  3.23it/s, acc=70.9, loss=1.03]\n"
     ]
    },
    {
     "name": "stdout",
     "output_type": "stream",
     "text": [
      "✅ Fold 10: Test Accuracy = 71.63%\n"
     ]
    },
    {
     "name": "stderr",
     "output_type": "stream",
     "text": [
      "Epoch [9/50]: 100%|██████| 282/282 [01:27<00:00,  3.22it/s, acc=71.7, loss=0.93]\n"
     ]
    },
    {
     "name": "stdout",
     "output_type": "stream",
     "text": [
      "✅ Fold 10: Test Accuracy = 71.53%\n"
     ]
    },
    {
     "name": "stderr",
     "output_type": "stream",
     "text": [
      "Epoch [10/50]: 100%|████| 282/282 [01:27<00:00,  3.22it/s, acc=70.8, loss=0.721]\n"
     ]
    },
    {
     "name": "stdout",
     "output_type": "stream",
     "text": [
      "✅ Fold 10: Test Accuracy = 72.93%\n"
     ]
    },
    {
     "name": "stderr",
     "output_type": "stream",
     "text": [
      "Epoch [11/50]: 100%|████| 282/282 [01:27<00:00,  3.21it/s, acc=70.9, loss=0.694]\n"
     ]
    },
    {
     "name": "stdout",
     "output_type": "stream",
     "text": [
      "✅ Fold 10: Test Accuracy = 72.73%\n"
     ]
    },
    {
     "name": "stderr",
     "output_type": "stream",
     "text": [
      "Epoch [12/50]: 100%|████| 282/282 [01:27<00:00,  3.21it/s, acc=71.3, loss=0.522]\n"
     ]
    },
    {
     "name": "stdout",
     "output_type": "stream",
     "text": [
      "✅ Fold 10: Test Accuracy = 73.43%\n",
      "🎯 New best model saved with accuracy: 73.43%\n"
     ]
    },
    {
     "name": "stderr",
     "output_type": "stream",
     "text": [
      "Epoch [13/50]: 100%|████| 282/282 [01:27<00:00,  3.23it/s, acc=71.9, loss=0.731]\n"
     ]
    },
    {
     "name": "stdout",
     "output_type": "stream",
     "text": [
      "✅ Fold 10: Test Accuracy = 73.43%\n"
     ]
    },
    {
     "name": "stderr",
     "output_type": "stream",
     "text": [
      "Epoch [14/50]: 100%|████| 282/282 [01:27<00:00,  3.22it/s, acc=71.9, loss=0.673]\n"
     ]
    },
    {
     "name": "stdout",
     "output_type": "stream",
     "text": [
      "✅ Fold 10: Test Accuracy = 71.83%\n"
     ]
    },
    {
     "name": "stderr",
     "output_type": "stream",
     "text": [
      "Epoch [15/50]: 100%|████| 282/282 [01:27<00:00,  3.21it/s, acc=71.6, loss=0.892]\n"
     ]
    },
    {
     "name": "stdout",
     "output_type": "stream",
     "text": [
      "✅ Fold 10: Test Accuracy = 73.03%\n"
     ]
    },
    {
     "name": "stderr",
     "output_type": "stream",
     "text": [
      "Epoch [16/50]: 100%|██████| 282/282 [01:27<00:00,  3.22it/s, acc=72, loss=0.635]\n"
     ]
    },
    {
     "name": "stdout",
     "output_type": "stream",
     "text": [
      "✅ Fold 10: Test Accuracy = 72.83%\n"
     ]
    },
    {
     "name": "stderr",
     "output_type": "stream",
     "text": [
      "Epoch [17/50]: 100%|██████| 282/282 [01:27<00:00,  3.22it/s, acc=72, loss=0.744]\n"
     ]
    },
    {
     "name": "stdout",
     "output_type": "stream",
     "text": [
      "✅ Fold 10: Test Accuracy = 70.03%\n"
     ]
    },
    {
     "name": "stderr",
     "output_type": "stream",
     "text": [
      "Epoch [18/50]: 100%|████| 282/282 [01:27<00:00,  3.22it/s, acc=71.9, loss=0.802]\n"
     ]
    },
    {
     "name": "stdout",
     "output_type": "stream",
     "text": [
      "✅ Fold 10: Test Accuracy = 72.03%\n"
     ]
    },
    {
     "name": "stderr",
     "output_type": "stream",
     "text": [
      "Epoch [19/50]: 100%|████| 282/282 [01:27<00:00,  3.21it/s, acc=71.5, loss=0.838]\n"
     ]
    },
    {
     "name": "stdout",
     "output_type": "stream",
     "text": [
      "✅ Fold 10: Test Accuracy = 71.73%\n"
     ]
    },
    {
     "name": "stderr",
     "output_type": "stream",
     "text": [
      "Epoch [20/50]: 100%|████| 282/282 [01:27<00:00,  3.21it/s, acc=72.3, loss=0.616]\n"
     ]
    },
    {
     "name": "stdout",
     "output_type": "stream",
     "text": [
      "✅ Fold 10: Test Accuracy = 70.53%\n"
     ]
    },
    {
     "name": "stderr",
     "output_type": "stream",
     "text": [
      "Epoch [21/50]: 100%|████| 282/282 [01:27<00:00,  3.22it/s, acc=72.2, loss=0.503]\n"
     ]
    },
    {
     "name": "stdout",
     "output_type": "stream",
     "text": [
      "✅ Fold 10: Test Accuracy = 73.53%\n",
      "🎯 New best model saved with accuracy: 73.53%\n"
     ]
    },
    {
     "name": "stderr",
     "output_type": "stream",
     "text": [
      "Epoch [22/50]: 100%|████| 282/282 [01:27<00:00,  3.22it/s, acc=71.6, loss=0.706]\n"
     ]
    },
    {
     "name": "stdout",
     "output_type": "stream",
     "text": [
      "✅ Fold 10: Test Accuracy = 72.93%\n"
     ]
    },
    {
     "name": "stderr",
     "output_type": "stream",
     "text": [
      "Epoch [23/50]: 100%|████| 282/282 [01:27<00:00,  3.21it/s, acc=72.3, loss=0.646]\n"
     ]
    },
    {
     "name": "stdout",
     "output_type": "stream",
     "text": [
      "✅ Fold 10: Test Accuracy = 73.23%\n"
     ]
    },
    {
     "name": "stderr",
     "output_type": "stream",
     "text": [
      "Epoch [24/50]: 100%|████| 282/282 [01:27<00:00,  3.22it/s, acc=71.9, loss=0.862]\n"
     ]
    },
    {
     "name": "stdout",
     "output_type": "stream",
     "text": [
      "✅ Fold 10: Test Accuracy = 72.83%\n"
     ]
    },
    {
     "name": "stderr",
     "output_type": "stream",
     "text": [
      "Epoch [25/50]: 100%|████| 282/282 [01:27<00:00,  3.21it/s, acc=72.2, loss=0.969]\n"
     ]
    },
    {
     "name": "stdout",
     "output_type": "stream",
     "text": [
      "✅ Fold 10: Test Accuracy = 71.83%\n"
     ]
    },
    {
     "name": "stderr",
     "output_type": "stream",
     "text": [
      "Epoch [26/50]: 100%|█████| 282/282 [01:27<00:00,  3.22it/s, acc=72.6, loss=1.17]\n"
     ]
    },
    {
     "name": "stdout",
     "output_type": "stream",
     "text": [
      "✅ Fold 10: Test Accuracy = 74.23%\n",
      "🎯 New best model saved with accuracy: 74.23%\n"
     ]
    },
    {
     "name": "stderr",
     "output_type": "stream",
     "text": [
      "Epoch [27/50]: 100%|█████| 282/282 [01:27<00:00,  3.23it/s, acc=72.2, loss=0.94]\n"
     ]
    },
    {
     "name": "stdout",
     "output_type": "stream",
     "text": [
      "✅ Fold 10: Test Accuracy = 73.33%\n"
     ]
    },
    {
     "name": "stderr",
     "output_type": "stream",
     "text": [
      "Epoch [28/50]: 100%|████| 282/282 [01:27<00:00,  3.22it/s, acc=72.5, loss=0.582]\n"
     ]
    },
    {
     "name": "stdout",
     "output_type": "stream",
     "text": [
      "✅ Fold 10: Test Accuracy = 74.63%\n",
      "🎯 New best model saved with accuracy: 74.63%\n"
     ]
    },
    {
     "name": "stderr",
     "output_type": "stream",
     "text": [
      "Epoch [29/50]: 100%|████| 282/282 [01:27<00:00,  3.23it/s, acc=71.9, loss=0.648]\n"
     ]
    },
    {
     "name": "stdout",
     "output_type": "stream",
     "text": [
      "✅ Fold 10: Test Accuracy = 73.23%\n"
     ]
    },
    {
     "name": "stderr",
     "output_type": "stream",
     "text": [
      "Epoch [30/50]: 100%|████| 282/282 [01:27<00:00,  3.21it/s, acc=72.6, loss=0.704]\n"
     ]
    },
    {
     "name": "stdout",
     "output_type": "stream",
     "text": [
      "✅ Fold 10: Test Accuracy = 72.23%\n"
     ]
    },
    {
     "name": "stderr",
     "output_type": "stream",
     "text": [
      "Epoch [31/50]: 100%|█████| 282/282 [01:27<00:00,  3.21it/s, acc=72.8, loss=1.17]\n"
     ]
    },
    {
     "name": "stdout",
     "output_type": "stream",
     "text": [
      "✅ Fold 10: Test Accuracy = 74.13%\n"
     ]
    },
    {
     "name": "stderr",
     "output_type": "stream",
     "text": [
      "Epoch [32/50]: 100%|████| 282/282 [01:27<00:00,  3.22it/s, acc=73.1, loss=0.992]\n"
     ]
    },
    {
     "name": "stdout",
     "output_type": "stream",
     "text": [
      "✅ Fold 10: Test Accuracy = 72.43%\n"
     ]
    },
    {
     "name": "stderr",
     "output_type": "stream",
     "text": [
      "Epoch [33/50]: 100%|████| 282/282 [01:27<00:00,  3.22it/s, acc=72.4, loss=0.863]\n"
     ]
    },
    {
     "name": "stdout",
     "output_type": "stream",
     "text": [
      "✅ Fold 10: Test Accuracy = 73.83%\n"
     ]
    },
    {
     "name": "stderr",
     "output_type": "stream",
     "text": [
      "Epoch [34/50]: 100%|███████| 282/282 [01:27<00:00,  3.21it/s, acc=72, loss=1.09]\n"
     ]
    },
    {
     "name": "stdout",
     "output_type": "stream",
     "text": [
      "✅ Fold 10: Test Accuracy = 74.43%\n"
     ]
    },
    {
     "name": "stderr",
     "output_type": "stream",
     "text": [
      "Epoch [35/50]: 100%|█████| 282/282 [01:27<00:00,  3.21it/s, acc=72.6, loss=0.66]\n"
     ]
    },
    {
     "name": "stdout",
     "output_type": "stream",
     "text": [
      "✅ Fold 10: Test Accuracy = 74.23%\n"
     ]
    },
    {
     "name": "stderr",
     "output_type": "stream",
     "text": [
      "Epoch [36/50]: 100%|█████| 282/282 [01:27<00:00,  3.22it/s, acc=72.5, loss=0.91]\n"
     ]
    },
    {
     "name": "stdout",
     "output_type": "stream",
     "text": [
      "✅ Fold 10: Test Accuracy = 72.63%\n"
     ]
    },
    {
     "name": "stderr",
     "output_type": "stream",
     "text": [
      "Epoch [37/50]: 100%|█████| 282/282 [01:27<00:00,  3.22it/s, acc=72.7, loss=0.86]\n"
     ]
    },
    {
     "name": "stdout",
     "output_type": "stream",
     "text": [
      "✅ Fold 10: Test Accuracy = 71.73%\n"
     ]
    },
    {
     "name": "stderr",
     "output_type": "stream",
     "text": [
      "Epoch [38/50]: 100%|█████| 282/282 [01:27<00:00,  3.21it/s, acc=72.5, loss=1.08]\n"
     ]
    },
    {
     "name": "stdout",
     "output_type": "stream",
     "text": [
      "✅ Fold 10: Test Accuracy = 73.03%\n"
     ]
    },
    {
     "name": "stderr",
     "output_type": "stream",
     "text": [
      "Epoch [39/50]: 100%|█████| 282/282 [01:27<00:00,  3.22it/s, acc=72.8, loss=0.41]\n"
     ]
    },
    {
     "name": "stdout",
     "output_type": "stream",
     "text": [
      "✅ Fold 10: Test Accuracy = 74.33%\n"
     ]
    },
    {
     "name": "stderr",
     "output_type": "stream",
     "text": [
      "Epoch [40/50]: 100%|████| 282/282 [01:27<00:00,  3.22it/s, acc=72.6, loss=0.779]\n"
     ]
    },
    {
     "name": "stdout",
     "output_type": "stream",
     "text": [
      "✅ Fold 10: Test Accuracy = 73.73%\n"
     ]
    },
    {
     "name": "stderr",
     "output_type": "stream",
     "text": [
      "Epoch [41/50]: 100%|█████| 282/282 [01:27<00:00,  3.22it/s, acc=72.7, loss=1.13]\n"
     ]
    },
    {
     "name": "stdout",
     "output_type": "stream",
     "text": [
      "✅ Fold 10: Test Accuracy = 73.83%\n"
     ]
    },
    {
     "name": "stderr",
     "output_type": "stream",
     "text": [
      "Epoch [42/50]: 100%|████| 282/282 [01:27<00:00,  3.21it/s, acc=72.5, loss=0.881]\n"
     ]
    },
    {
     "name": "stdout",
     "output_type": "stream",
     "text": [
      "✅ Fold 10: Test Accuracy = 73.63%\n"
     ]
    },
    {
     "name": "stderr",
     "output_type": "stream",
     "text": [
      "Epoch [43/50]: 100%|█████| 282/282 [01:27<00:00,  3.22it/s, acc=72.7, loss=1.24]\n"
     ]
    },
    {
     "name": "stdout",
     "output_type": "stream",
     "text": [
      "✅ Fold 10: Test Accuracy = 74.23%\n"
     ]
    },
    {
     "name": "stderr",
     "output_type": "stream",
     "text": [
      "Epoch [44/50]: 100%|█████| 282/282 [01:27<00:00,  3.21it/s, acc=72.4, loss=1.03]\n"
     ]
    },
    {
     "name": "stdout",
     "output_type": "stream",
     "text": [
      "✅ Fold 10: Test Accuracy = 71.33%\n"
     ]
    },
    {
     "name": "stderr",
     "output_type": "stream",
     "text": [
      "Epoch [45/50]: 100%|████| 282/282 [01:27<00:00,  3.22it/s, acc=72.9, loss=0.606]\n"
     ]
    },
    {
     "name": "stdout",
     "output_type": "stream",
     "text": [
      "✅ Fold 10: Test Accuracy = 73.23%\n"
     ]
    },
    {
     "name": "stderr",
     "output_type": "stream",
     "text": [
      "Epoch [46/50]: 100%|████| 282/282 [01:27<00:00,  3.21it/s, acc=72.5, loss=0.853]\n"
     ]
    },
    {
     "name": "stdout",
     "output_type": "stream",
     "text": [
      "✅ Fold 10: Test Accuracy = 71.33%\n"
     ]
    },
    {
     "name": "stderr",
     "output_type": "stream",
     "text": [
      "Epoch [47/50]: 100%|████| 282/282 [01:27<00:00,  3.22it/s, acc=72.8, loss=0.551]\n"
     ]
    },
    {
     "name": "stdout",
     "output_type": "stream",
     "text": [
      "✅ Fold 10: Test Accuracy = 73.03%\n"
     ]
    },
    {
     "name": "stderr",
     "output_type": "stream",
     "text": [
      "Epoch [48/50]: 100%|████| 282/282 [01:27<00:00,  3.22it/s, acc=72.5, loss=0.498]\n"
     ]
    },
    {
     "name": "stdout",
     "output_type": "stream",
     "text": [
      "✅ Fold 10: Test Accuracy = 71.63%\n"
     ]
    },
    {
     "name": "stderr",
     "output_type": "stream",
     "text": [
      "Epoch [49/50]: 100%|█████| 282/282 [01:27<00:00,  3.22it/s, acc=72.6, loss=1.27]\n"
     ]
    },
    {
     "name": "stdout",
     "output_type": "stream",
     "text": [
      "✅ Fold 10: Test Accuracy = 73.53%\n"
     ]
    },
    {
     "name": "stderr",
     "output_type": "stream",
     "text": [
      "Epoch [50/50]: 100%|████| 282/282 [01:27<00:00,  3.21it/s, acc=72.3, loss=0.574]\n"
     ]
    },
    {
     "name": "stdout",
     "output_type": "stream",
     "text": [
      "✅ Fold 10: Test Accuracy = 72.93%\n"
     ]
    }
   ],
   "source": [
    "from torchvision import transforms\n",
    "import torch\n",
    "import numpy as np\n",
    "import os\n",
    "import matplotlib.pyplot as plt\n",
    "import seaborn as sns\n",
    "from torch.utils.data import DataLoader, Subset\n",
    "from sklearn.model_selection import StratifiedKFold\n",
    "from sklearn.metrics import confusion_matrix, classification_report, roc_curve, auc\n",
    "from torch.optim import RMSprop\n",
    "from torch.nn import CrossEntropyLoss\n",
    "from tqdm import tqdm\n",
    "\n",
    "# ✅ Data Augmentation for Training\n",
    "train_transform = transforms.Compose([\n",
    "    transforms.RandomHorizontalFlip(p=0.5),\n",
    "    transforms.RandomVerticalFlip(p=0.5),\n",
    "    transforms.RandomRotation(degrees=30),\n",
    "    transforms.ColorJitter(brightness=0.2, contrast=0.2, saturation=0.2, hue=0.1),\n",
    "    transforms.ToTensor(),\n",
    "])\n",
    "\n",
    "# ✅ Only Tensor + Normalization for Testing\n",
    "test_transform = transforms.Compose([\n",
    "    transforms.ToTensor(),\n",
    "])\n",
    "\n",
    "# Load full dataset (with neutral transform for indexing)\n",
    "base_dataset = SkinCancerDataset(root_dir=\"/home/lab115/Downloads/dataset/dataset\", transform=transforms.ToTensor())\n",
    "\n",
    "NUM_CLASSES = len(base_dataset.class_to_idx)\n",
    "BATCH_SIZE = 32\n",
    "EPOCHS = 50\n",
    "K_FOLDS = 10\n",
    "LEARNING_RATE = 0.0001\n",
    "\n",
    "# Extract labels to stratify\n",
    "targets = [base_dataset[i][1] for i in range(len(base_dataset))]\n",
    "\n",
    "skf = StratifiedKFold(n_splits=K_FOLDS, shuffle=True, random_state=42)\n",
    "splits = list(skf.split(np.zeros(len(targets)), targets))\n",
    "\n",
    "all_true_labels = []\n",
    "all_pred_labels = []\n",
    "all_probs = []\n",
    "\n",
    "for fold, (train_idx, test_idx) in enumerate(splits):\n",
    "    print(f\"\\n🚀 Training Fold {fold + 1}/{K_FOLDS}\")\n",
    "\n",
    "    # Separate datasets to avoid transform leakage\n",
    "    train_dataset = SkinCancerDataset(root_dir=\"/home/lab115/Downloads/dataset/dataset\", transform=train_transform)\n",
    "    test_dataset = SkinCancerDataset(root_dir=\"/home/lab115/Downloads/dataset/dataset\", transform=test_transform)\n",
    "\n",
    "    train_subset = Subset(train_dataset, train_idx)\n",
    "    test_subset = Subset(test_dataset, test_idx)\n",
    "\n",
    "    # Data loaders\n",
    "    train_loader = DataLoader(train_subset, batch_size=BATCH_SIZE, shuffle=True, num_workers=2, pin_memory=True)\n",
    "    test_loader = DataLoader(test_subset, batch_size=BATCH_SIZE, shuffle=False, num_workers=2, pin_memory=True)\n",
    "\n",
    "    # Initialize model\n",
    "    model = SPCBViTNet(vit_model=vit_model, num_classes=NUM_CLASSES).to(device)\n",
    "\n",
    "    optimizer = RMSprop(\n",
    "        filter(lambda p: p.requires_grad, model.parameters()),  # Only trainable parameters\n",
    "        lr=LEARNING_RATE,\n",
    "        momentum=0.9,       # Common value for momentum in RMSprop\n",
    "        weight_decay=1e-4   # Optional: add weight decay (L2 regularization)\n",
    "    )\n",
    "\n",
    "\n",
    "    criterion = CrossEntropyLoss()\n",
    "\n",
    "    # Checkpoint path\n",
    "    checkpoint_path = f\"best_model_fold_{fold + 1}.pth\"\n",
    "\n",
    "    # Load checkpoint if available\n",
    "    best_acc = 0.0\n",
    "    start_epoch = 0\n",
    "    if os.path.exists(checkpoint_path):\n",
    "       checkpoint = torch.load(checkpoint_path)\n",
    "       model.load_state_dict(checkpoint[\"model_state_dict\"])\n",
    "       start_epoch = checkpoint[\"epoch\"] + 1\n",
    "       best_acc = checkpoint[\"best_acc\"]\n",
    "    print(f\"🔄 Resuming from epoch {start_epoch}, best accuracy: {best_acc:.2f}%\")\n",
    "\n",
    "    # Training Loop\n",
    "    for epoch in range(start_epoch, EPOCHS):\n",
    "        model.train()\n",
    "        running_loss, correct, total = 0.0, 0, 0\n",
    "\n",
    "        loop = tqdm(train_loader, leave=True)\n",
    "        for images, labels in loop:\n",
    "            images, labels = images.to(device), labels.to(device)\n",
    "\n",
    "            optimizer.zero_grad()\n",
    "            outputs = model(images)\n",
    "            loss = criterion(outputs, labels)\n",
    "            loss.backward()\n",
    "            optimizer.step()\n",
    "\n",
    "            running_loss += loss.item()\n",
    "            _, predicted = torch.max(outputs, 1)\n",
    "            correct += (predicted == labels).sum().item()\n",
    "            total += labels.size(0)\n",
    "\n",
    "            loop.set_description(f\"Epoch [{epoch+1}/{EPOCHS}]\")\n",
    "            loop.set_postfix(loss=loss.item(), acc=100 * correct / total)\n",
    "\n",
    "        # Testing Loop\n",
    "        model.eval()\n",
    "        test_correct, test_total = 0, 0\n",
    "        fold_preds, fold_labels, fold_probs = [], [], []\n",
    "\n",
    "        with torch.no_grad():\n",
    "            for images, labels in test_loader:\n",
    "                images, labels = images.to(device), labels.to(device)\n",
    "                outputs = model(images)\n",
    "\n",
    "                probs = torch.nn.functional.softmax(outputs, dim=1)\n",
    "                _, predicted = torch.max(outputs, 1)\n",
    "\n",
    "                fold_preds.extend(predicted.cpu().numpy())\n",
    "                fold_labels.extend(labels.cpu().numpy())\n",
    "                fold_probs.extend(probs.cpu().numpy())\n",
    "\n",
    "                test_correct += (predicted == labels).sum().item()\n",
    "                test_total += labels.size(0)\n",
    "\n",
    "        test_acc = 100 * test_correct / test_total\n",
    "        print(f\"✅ Fold {fold+1}: Test Accuracy = {test_acc:.2f}%\")\n",
    "\n",
    "        # Save checkpoint if accuracy improves\n",
    "        if test_acc > best_acc:\n",
    "            best_acc = test_acc\n",
    "            torch.save({\n",
    "                \"epoch\": epoch,\n",
    "                \"model_state_dict\": model.state_dict(),\n",
    "                \"optimizer_state_dict\": optimizer.state_dict(),\n",
    "                \"best_acc\": best_acc,\n",
    "            }, checkpoint_path)\n",
    "            print(f\"🎯 New best model saved with accuracy: {best_acc:.2f}%\")\n",
    "\n",
    "    all_true_labels.extend(fold_labels)\n",
    "    all_pred_labels.extend(fold_preds)\n",
    "    all_probs.extend(fold_probs)\n"
   ]
  },
  {
   "cell_type": "code",
   "execution_count": 8,
   "metadata": {},
   "outputs": [
    {
     "name": "stdout",
     "output_type": "stream",
     "text": [
      "\n",
      "📊 Final Evaluation Across All Folds:\n"
     ]
    },
    {
     "data": {
      "image/png": "[encoded data removed]",
      "text/plain": [
       "<Figure size 800x600 with 2 Axes>"
      ]
     },
     "metadata": {},
     "output_type": "display_data"
    },
    {
     "name": "stdout",
     "output_type": "stream",
     "text": [
      "              precision    recall  f1-score   support\n",
      "\n",
      "       akiec     0.3011    0.0856    0.1333       327\n",
      "         bcc     0.4414    0.2490    0.3184       514\n",
      "         bkl     0.4188    0.2912    0.3435      1099\n",
      "          df     0.0000    0.0000    0.0000       115\n",
      "         mel     0.4966    0.0656    0.1159      1113\n",
      "          nv     0.7467    0.9636    0.8414      6705\n",
      "        vasc     0.7059    0.3380    0.4571       142\n",
      "\n",
      "    accuracy                         0.7047     10015\n",
      "   macro avg     0.4444    0.2847    0.3157     10015\n",
      "weighted avg     0.6435    0.7047    0.6411     10015\n",
      "\n"
     ]
    },
    {
     "name": "stderr",
     "output_type": "stream",
     "text": [
      "/home/lab115/.local/lib/python3.8/site-packages/sklearn/metrics/_classification.py:1471: UndefinedMetricWarning: Precision and F-score are ill-defined and being set to 0.0 in labels with no predicted samples. Use `zero_division` parameter to control this behavior.\n",
      "  _warn_prf(average, modifier, msg_start, len(result))\n",
      "/home/lab115/.local/lib/python3.8/site-packages/sklearn/metrics/_classification.py:1471: UndefinedMetricWarning: Precision and F-score are ill-defined and being set to 0.0 in labels with no predicted samples. Use `zero_division` parameter to control this behavior.\n",
      "  _warn_prf(average, modifier, msg_start, len(result))\n",
      "/home/lab115/.local/lib/python3.8/site-packages/sklearn/metrics/_classification.py:1471: UndefinedMetricWarning: Precision and F-score are ill-defined and being set to 0.0 in labels with no predicted samples. Use `zero_division` parameter to control this behavior.\n",
      "  _warn_prf(average, modifier, msg_start, len(result))\n"
     ]
    },
    {
     "data": {
      "image/png": "[encoded data removed]",
      "text/plain": [
       "<Figure size 1000x800 with 1 Axes>"
      ]
     },
     "metadata": {},
     "output_type": "display_data"
    }
   ],
   "source": [
    "\n",
    "from sklearn.metrics import confusion_matrix\n",
    "import numpy as np  # Ensure numpy is also imported\n",
    "print(\"\\n📊 Final Evaluation Across All Folds:\")\n",
    "\n",
    "cm = confusion_matrix(all_true_labels, all_pred_labels)\n",
    "cm_percentage = cm.astype('float') / cm.sum(axis=1)[:, np.newaxis] * 100\n",
    "\n",
    "plt.figure(figsize=(8, 6))\n",
    "sns.heatmap(cm_percentage, annot=True, fmt=\".2f\", cmap=\"Blues\",\n",
    "            xticklabels=base_dataset.class_to_idx.keys(), \n",
    "            yticklabels=base_dataset.class_to_idx.keys())\n",
    "\n",
    "plt.xlabel(\"Predicted\")\n",
    "plt.ylabel(\"Actual\")\n",
    "plt.title(\"Final Confusion Matrix Across All Folds (Percentage-wise)\")\n",
    "plt.show()\n",
    "\n",
    "class_report = classification_report(all_true_labels, all_pred_labels, target_names=base_dataset.class_to_idx.keys(), digits=4)\n",
    "print(class_report)\n",
    "\n",
    "plt.figure(figsize=(10, 8))\n",
    "for i in range(NUM_CLASSES):\n",
    "    fpr, tpr, _ = roc_curve(np.array(all_true_labels) == i, np.array(all_probs)[:, i])\n",
    "    roc_auc = auc(fpr, tpr)\n",
    "    plt.plot(fpr, tpr, label=f\"Class {list(base_dataset.class_to_idx.keys())[i]} (AUC = {roc_auc:.2f})\")\n",
    "\n",
    "plt.plot([0, 1], [0, 1], \"k--\")\n",
    "plt.xlabel(\"False Positive Rate\")\n",
    "plt.ylabel(\"True Positive Rate\")\n",
    "plt.title(\"Final ROC Curve Across All Folds\")\n",
    "plt.legend(loc=\"lower right\")\n",
    "plt.show()\n"
   ]
  },
  {
   "cell_type": "code",
   "execution_count": null,
   "metadata": {},
   "outputs": [],
   "source": []
  }
 ],
 "metadata": {
  "kaggle": {
   "accelerator": "gpu",
   "dataSources": [
    {
     "datasetId": 7011822,
     "sourceId": 11226468,
     "sourceType": "datasetVersion"
    },
    {
     "datasetId": 7080709,
     "sourceId": 11320902,
     "sourceType": "datasetVersion"
    }
   ],
   "dockerImageVersionId": 30919,
   "isGpuEnabled": true,
   "isInternetEnabled": true,
   "language": "python",
   "sourceType": "notebook"
  },
  "kernelspec": {
   "display_name": "Python 3 (ipykernel)",
   "language": "python",
   "name": "python3"
  },
  "language_info": {
   "codemirror_mode": {
    "name": "ipython",
    "version": 3
   },
   "file_extension": ".py",
   "mimetype": "text/x-python",
   "name": "python",
   "nbconvert_exporter": "python",
   "pygments_lexer": "ipython3",
   "version": "3.8.10"
  }
 },
 "nbformat": 4,
 "nbformat_minor": 4
}
