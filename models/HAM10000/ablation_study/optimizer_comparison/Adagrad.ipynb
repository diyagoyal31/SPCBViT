{
 "cells": [
  {
   "cell_type": "markdown",
   "metadata": {},
   "source": [
    "# SPCBViTNet – Adagrad Ablation\n",
    "\n",
    "📌 Part of the ablation study for the submission:  \n",
    "**\"SPCBViTNet: A Self-Parallel Convolutional Block with Vision Transformers for Skin Cancer Classification\"**\n",
    "\n",
    "🔒 Not yet peer-reviewed. For review only.  \n",
    "📁 [GitHub Repo](https://github.com/diyagoyal31/SPCBViT)\n"
   ]
  },
  {
   "cell_type": "code",
   "execution_count": 1,
   "metadata": {},
   "outputs": [],
   "source": [
    "import torch\n",
    "import torch.nn as nn\n",
    "import torch.optim as optim\n",
    "from torch.utils.data import Dataset, DataLoader\n",
    "import torchvision.transforms as transforms\n",
    "from PIL import Image\n",
    "import os"
   ]
  },
  {
   "cell_type": "code",
   "execution_count": 2,
   "metadata": {},
   "outputs": [
    {
     "name": "stdout",
     "output_type": "stream",
     "text": [
      "Using device: cuda\n"
     ]
    }
   ],
   "source": [
    "device = torch.device(\"cuda\" if torch.cuda.is_available() else \"cpu\")\n",
    "print(f\"Using device: {device}\")\n"
   ]
  },
  {
   "cell_type": "code",
   "execution_count": 3,
   "metadata": {},
   "outputs": [],
   "source": [
    "from torchvision import transforms\n",
    "from PIL import Image\n",
    "class SkinCancerDataset(Dataset):\n",
    "    def __init__(self, root_dir, transform=None):\n",
    "        self.root_dir = root_dir\n",
    "        self.transform = transform  # Default transform applied in __getitem__\n",
    "        self.image_paths = []\n",
    "        self.labels = []\n",
    "\n",
    "        self.class_names = sorted([d for d in os.listdir(root_dir) if os.path.isdir(os.path.join(root_dir, d))])\n",
    "        self.class_to_idx = {cls_name: i for i, cls_name in enumerate(self.class_names)}\n",
    "\n",
    "        for cls_name in self.class_names:\n",
    "            cls_folder = os.path.join(root_dir, cls_name)\n",
    "            for img_name in os.listdir(cls_folder):\n",
    "                img_path = os.path.join(cls_folder, img_name)\n",
    "                if img_path.lower().endswith(('.jpg', '.jpeg', '.png')):  # Supports multiple formats\n",
    "                    self.image_paths.append(img_path)\n",
    "                    self.labels.append(self.class_to_idx[cls_name])\n",
    "\n",
    "    def __len__(self):\n",
    "        return len(self.image_paths)\n",
    "\n",
    "    def __getitem__(self, idx):\n",
    "        img_path = self.image_paths[idx]\n",
    "        label = self.labels[idx]\n",
    "\n",
    "        # Load and convert image\n",
    "        image = Image.open(img_path).convert(\"RGB\")\n",
    "\n",
    "        # Apply transform (if provided), otherwise apply default ToTensor\n",
    "        if self.transform:\n",
    "            image = self.transform(image)\n",
    "        else:\n",
    "            image = transforms.ToTensor()(image)\n",
    "\n",
    "        return image, torch.tensor(label, dtype=torch.long)"
   ]
  },
  {
   "cell_type": "code",
   "execution_count": 4,
   "metadata": {},
   "outputs": [],
   "source": [
    "import torchvision.transforms.functional as TF\n",
    "import random"
   ]
  },
  {
   "cell_type": "code",
   "execution_count": 5,
   "metadata": {},
   "outputs": [],
   "source": [
    "import torch\n",
    "import torch.nn as nn\n",
    "import torch.nn.functional as F\n",
    "\n",
    "\n",
    "class SKFeaturePyramid(nn.Module):\n",
    "    def __init__(self, in_channels):\n",
    "        super(SKFeaturePyramid, self).__init__()\n",
    "        self.conv1 = nn.Conv2d(in_channels, in_channels, kernel_size=1)\n",
    "        self.conv3 = nn.Conv2d(in_channels, in_channels, kernel_size=3, padding=1)\n",
    "        self.conv5 = nn.Conv2d(in_channels, in_channels, kernel_size=5, padding=2)\n",
    "        self.fc = nn.Linear(in_channels, 3)\n",
    "        self.softmax = nn.Softmax(dim=1)\n",
    "\n",
    "    def forward(self, x):\n",
    "        f1 = self.conv1(x)\n",
    "        f2 = self.conv3(x)\n",
    "        f3 = self.conv5(x)\n",
    "        f_sum = f1 + f2 + f3\n",
    "        f_weights = self.softmax(self.fc(f_sum.mean(dim=(2, 3)))).unsqueeze(-1).unsqueeze(-1)\n",
    "        return f1 * f_weights[:, 0].view(-1, 1, 1, 1) + \\\n",
    "               f2 * f_weights[:, 1].view(-1, 1, 1, 1) + \\\n",
    "               f3 * f_weights[:, 2].view(-1, 1, 1, 1)\n",
    "\n",
    "\n",
    "class SelfInteractiveAttention(nn.Module):\n",
    "    def __init__(self, in_channels):\n",
    "        super(SelfInteractiveAttention, self).__init__()\n",
    "        self.channel_attn = nn.Sequential(\n",
    "            nn.AdaptiveAvgPool2d(1),\n",
    "            nn.Conv2d(in_channels, in_channels, kernel_size=1),\n",
    "            nn.Sigmoid()\n",
    "        )\n",
    "        self.spatial_attn = nn.Conv2d(in_channels, 1, kernel_size=7, padding=3)\n",
    "\n",
    "    def forward(self, x):\n",
    "        ca = self.channel_attn(x) * x\n",
    "        sa = torch.sigmoid(self.spatial_attn(x)) * x\n",
    "        return ca + sa\n",
    "\n",
    "\n",
    "class HigherOrderInteraction(nn.Module):\n",
    "    def __init__(self, in_channels1, in_channels2, out_channels):\n",
    "        super(HigherOrderInteraction, self).__init__()\n",
    "        self.conv1 = nn.Conv2d(in_channels1, out_channels, kernel_size=1)\n",
    "        self.conv2 = nn.Conv2d(in_channels2, out_channels, kernel_size=1)\n",
    "        self.bilinear_pool = nn.Conv2d(out_channels, out_channels, kernel_size=1)\n",
    "        self.trilinear_pool = nn.Conv2d(out_channels, out_channels, kernel_size=1)\n",
    "\n",
    "    def forward(self, x1, x2):\n",
    "        x1 = self.conv1(x1)\n",
    "        x2 = self.conv2(x2)\n",
    "        if x1.shape[2:] != x2.shape[2:]:\n",
    "            x2 = F.interpolate(x2, size=x1.shape[2:], mode='bilinear', align_corners=False)\n",
    "        return self.bilinear_pool(x1 * x2) + self.trilinear_pool(x1 + x2)\n",
    "\n",
    "\n",
    "class SPCBViTNet(nn.Module):\n",
    "    def __init__(self, vit_model, num_classes, patch_grid=(14, 14)):\n",
    "        super(SPCBViTNet, self).__init__()\n",
    "        self.vit_model = vit_model\n",
    "        self.hidden_size = vit_model.config.hidden_size\n",
    "        self.patch_grid = patch_grid  # E.g. 14x14 for ViT-B/16\n",
    "\n",
    "        # SPCB modules\n",
    "        self.sk = SKFeaturePyramid(self.hidden_size)\n",
    "        self.attn = SelfInteractiveAttention(self.hidden_size)\n",
    "        self.higher_order = HigherOrderInteraction(self.hidden_size, self.hidden_size, self.hidden_size)\n",
    "\n",
    "        self.global_avg = nn.AdaptiveAvgPool2d(1)\n",
    "        self.classifier = nn.Sequential(\n",
    "            nn.Linear(self.hidden_size, 512),\n",
    "            nn.GELU(),\n",
    "            nn.Dropout(0.5),\n",
    "            nn.Linear(512, num_classes)\n",
    "        )\n",
    "\n",
    "    def forward(self, x):\n",
    "        vit_out = self.vit_model(pixel_values=x).last_hidden_state  # [B, N+1, C]\n",
    "        cls_token = vit_out[:, 0]  # CLS token\n",
    "        patch_tokens = vit_out[:, 1:]  # [B, N, C]\n",
    "\n",
    "        # Convert patch tokens to 2D feature maps\n",
    "        B, N, C = patch_tokens.size()\n",
    "        H, W = self.patch_grid\n",
    "        patch_map = patch_tokens.permute(0, 2, 1).contiguous().view(B, C, H, W)\n",
    "\n",
    "        # SPCB modules\n",
    "        f1 = self.sk(patch_map)\n",
    "        f2 = self.attn(f1)\n",
    "        f3 = self.higher_order(f1, f2)\n",
    "\n",
    "        out = self.global_avg(f3).view(B, -1)\n",
    "        return self.classifier(out)\n"
   ]
  },
  {
   "cell_type": "code",
   "execution_count": 6,
   "metadata": {},
   "outputs": [
    {
     "name": "stderr",
     "output_type": "stream",
     "text": [
      "/home/lab115/.local/lib/python3.8/site-packages/tqdm/auto.py:21: TqdmWarning: IProgress not found. Please update jupyter and ipywidgets. See https://ipywidgets.readthedocs.io/en/stable/user_install.html\n",
      "  from .autonotebook import tqdm as notebook_tqdm\n"
     ]
    }
   ],
   "source": [
    "from transformers import ViTModel\n",
    "\n",
    "vit_model = ViTModel.from_pretrained(\"google/vit-base-patch16-224-in21k\")\n",
    "\n",
    "model = SPCBViTNet(vit_model=vit_model, num_classes=7, patch_grid=(14, 14))\n"
   ]
  },
  {
   "cell_type": "code",
   "execution_count": 7,
   "metadata": {},
   "outputs": [
    {
     "name": "stdout",
     "output_type": "stream",
     "text": [
      "\n",
      "🚀 Training Fold 1/10\n"
     ]
    },
    {
     "name": "stderr",
     "output_type": "stream",
     "text": [
      "Epoch [1/50]: 100%|█████| 282/282 [01:27<00:00,  3.23it/s, acc=71.7, loss=0.306]\n"
     ]
    },
    {
     "name": "stdout",
     "output_type": "stream",
     "text": [
      "✅ Fold 1: Test Accuracy = 75.35%\n",
      "🎯 New best model saved with accuracy: 75.35%\n"
     ]
    },
    {
     "name": "stderr",
     "output_type": "stream",
     "text": [
      "Epoch [2/50]: 100%|█████| 282/282 [01:26<00:00,  3.27it/s, acc=76.5, loss=0.703]\n"
     ]
    },
    {
     "name": "stdout",
     "output_type": "stream",
     "text": [
      "✅ Fold 1: Test Accuracy = 78.54%\n",
      "🎯 New best model saved with accuracy: 78.54%\n"
     ]
    },
    {
     "name": "stderr",
     "output_type": "stream",
     "text": [
      "Epoch [3/50]: 100%|███████| 282/282 [01:26<00:00,  3.27it/s, acc=79, loss=0.717]\n"
     ]
    },
    {
     "name": "stdout",
     "output_type": "stream",
     "text": [
      "✅ Fold 1: Test Accuracy = 78.74%\n",
      "🎯 New best model saved with accuracy: 78.74%\n"
     ]
    },
    {
     "name": "stderr",
     "output_type": "stream",
     "text": [
      "Epoch [4/50]: 100%|█████| 282/282 [01:26<00:00,  3.25it/s, acc=79.7, loss=0.425]\n"
     ]
    },
    {
     "name": "stdout",
     "output_type": "stream",
     "text": [
      "✅ Fold 1: Test Accuracy = 79.54%\n",
      "🎯 New best model saved with accuracy: 79.54%\n"
     ]
    },
    {
     "name": "stderr",
     "output_type": "stream",
     "text": [
      "Epoch [5/50]: 100%|█████| 282/282 [01:26<00:00,  3.25it/s, acc=80.8, loss=0.821]\n"
     ]
    },
    {
     "name": "stdout",
     "output_type": "stream",
     "text": [
      "✅ Fold 1: Test Accuracy = 80.34%\n",
      "🎯 New best model saved with accuracy: 80.34%\n"
     ]
    },
    {
     "name": "stderr",
     "output_type": "stream",
     "text": [
      "Epoch [6/50]: 100%|█████| 282/282 [01:26<00:00,  3.25it/s, acc=81.9, loss=0.633]\n"
     ]
    },
    {
     "name": "stdout",
     "output_type": "stream",
     "text": [
      "✅ Fold 1: Test Accuracy = 81.44%\n",
      "🎯 New best model saved with accuracy: 81.44%\n"
     ]
    },
    {
     "name": "stderr",
     "output_type": "stream",
     "text": [
      "Epoch [7/50]: 100%|█████| 282/282 [01:26<00:00,  3.25it/s, acc=82.5, loss=0.502]\n"
     ]
    },
    {
     "name": "stdout",
     "output_type": "stream",
     "text": [
      "✅ Fold 1: Test Accuracy = 81.14%\n"
     ]
    },
    {
     "name": "stderr",
     "output_type": "stream",
     "text": [
      "Epoch [8/50]: 100%|█████| 282/282 [01:27<00:00,  3.24it/s, acc=83.1, loss=0.234]\n"
     ]
    },
    {
     "name": "stdout",
     "output_type": "stream",
     "text": [
      "✅ Fold 1: Test Accuracy = 81.74%\n",
      "🎯 New best model saved with accuracy: 81.74%\n"
     ]
    },
    {
     "name": "stderr",
     "output_type": "stream",
     "text": [
      "Epoch [9/50]: 100%|█████| 282/282 [01:26<00:00,  3.24it/s, acc=83.6, loss=0.223]\n"
     ]
    },
    {
     "name": "stdout",
     "output_type": "stream",
     "text": [
      "✅ Fold 1: Test Accuracy = 82.63%\n",
      "🎯 New best model saved with accuracy: 82.63%\n"
     ]
    },
    {
     "name": "stderr",
     "output_type": "stream",
     "text": [
      "Epoch [10/50]: 100%|████| 282/282 [01:26<00:00,  3.24it/s, acc=84.3, loss=0.269]\n"
     ]
    },
    {
     "name": "stdout",
     "output_type": "stream",
     "text": [
      "✅ Fold 1: Test Accuracy = 83.33%\n",
      "🎯 New best model saved with accuracy: 83.33%\n"
     ]
    },
    {
     "name": "stderr",
     "output_type": "stream",
     "text": [
      "Epoch [11/50]: 100%|█████| 282/282 [01:26<00:00,  3.24it/s, acc=84.5, loss=0.78]\n"
     ]
    },
    {
     "name": "stdout",
     "output_type": "stream",
     "text": [
      "✅ Fold 1: Test Accuracy = 82.93%\n"
     ]
    },
    {
     "name": "stderr",
     "output_type": "stream",
     "text": [
      "Epoch [12/50]: 100%|████| 282/282 [01:27<00:00,  3.24it/s, acc=85.3, loss=0.489]\n"
     ]
    },
    {
     "name": "stdout",
     "output_type": "stream",
     "text": [
      "✅ Fold 1: Test Accuracy = 83.03%\n"
     ]
    },
    {
     "name": "stderr",
     "output_type": "stream",
     "text": [
      "Epoch [13/50]: 100%|████| 282/282 [01:27<00:00,  3.23it/s, acc=85.7, loss=0.125]\n"
     ]
    },
    {
     "name": "stdout",
     "output_type": "stream",
     "text": [
      "✅ Fold 1: Test Accuracy = 83.23%\n"
     ]
    },
    {
     "name": "stderr",
     "output_type": "stream",
     "text": [
      "Epoch [14/50]: 100%|████| 282/282 [01:27<00:00,  3.23it/s, acc=86.2, loss=0.496]\n"
     ]
    },
    {
     "name": "stdout",
     "output_type": "stream",
     "text": [
      "✅ Fold 1: Test Accuracy = 82.63%\n"
     ]
    },
    {
     "name": "stderr",
     "output_type": "stream",
     "text": [
      "Epoch [15/50]: 100%|████| 282/282 [01:27<00:00,  3.23it/s, acc=86.4, loss=0.296]\n"
     ]
    },
    {
     "name": "stdout",
     "output_type": "stream",
     "text": [
      "✅ Fold 1: Test Accuracy = 84.13%\n",
      "🎯 New best model saved with accuracy: 84.13%\n"
     ]
    },
    {
     "name": "stderr",
     "output_type": "stream",
     "text": [
      "Epoch [16/50]: 100%|████| 282/282 [01:27<00:00,  3.24it/s, acc=86.6, loss=0.285]\n"
     ]
    },
    {
     "name": "stdout",
     "output_type": "stream",
     "text": [
      "✅ Fold 1: Test Accuracy = 84.53%\n",
      "🎯 New best model saved with accuracy: 84.53%\n"
     ]
    },
    {
     "name": "stderr",
     "output_type": "stream",
     "text": [
      "Epoch [17/50]: 100%|████| 282/282 [01:27<00:00,  3.24it/s, acc=87.2, loss=0.208]\n"
     ]
    },
    {
     "name": "stdout",
     "output_type": "stream",
     "text": [
      "✅ Fold 1: Test Accuracy = 83.93%\n"
     ]
    },
    {
     "name": "stderr",
     "output_type": "stream",
     "text": [
      "Epoch [18/50]: 100%|████| 282/282 [01:27<00:00,  3.24it/s, acc=87.6, loss=0.538]\n"
     ]
    },
    {
     "name": "stdout",
     "output_type": "stream",
     "text": [
      "✅ Fold 1: Test Accuracy = 84.43%\n"
     ]
    },
    {
     "name": "stderr",
     "output_type": "stream",
     "text": [
      "Epoch [19/50]: 100%|█████| 282/282 [01:27<00:00,  3.24it/s, acc=87.6, loss=0.38]\n"
     ]
    },
    {
     "name": "stdout",
     "output_type": "stream",
     "text": [
      "✅ Fold 1: Test Accuracy = 84.33%\n"
     ]
    },
    {
     "name": "stderr",
     "output_type": "stream",
     "text": [
      "Epoch [20/50]: 100%|████| 282/282 [01:27<00:00,  3.23it/s, acc=88.1, loss=0.191]\n"
     ]
    },
    {
     "name": "stdout",
     "output_type": "stream",
     "text": [
      "✅ Fold 1: Test Accuracy = 85.23%\n",
      "🎯 New best model saved with accuracy: 85.23%\n"
     ]
    },
    {
     "name": "stderr",
     "output_type": "stream",
     "text": [
      "Epoch [21/50]: 100%|██████| 282/282 [01:26<00:00,  3.25it/s, acc=88.6, loss=0.6]\n"
     ]
    },
    {
     "name": "stdout",
     "output_type": "stream",
     "text": [
      "✅ Fold 1: Test Accuracy = 84.13%\n"
     ]
    },
    {
     "name": "stderr",
     "output_type": "stream",
     "text": [
      "Epoch [22/50]: 100%|████| 282/282 [01:27<00:00,  3.24it/s, acc=88.5, loss=0.225]\n"
     ]
    },
    {
     "name": "stdout",
     "output_type": "stream",
     "text": [
      "✅ Fold 1: Test Accuracy = 85.13%\n"
     ]
    },
    {
     "name": "stderr",
     "output_type": "stream",
     "text": [
      "Epoch [23/50]: 100%|████| 282/282 [01:27<00:00,  3.22it/s, acc=88.8, loss=0.161]\n"
     ]
    },
    {
     "name": "stdout",
     "output_type": "stream",
     "text": [
      "✅ Fold 1: Test Accuracy = 84.53%\n"
     ]
    },
    {
     "name": "stderr",
     "output_type": "stream",
     "text": [
      "Epoch [24/50]: 100%|████| 282/282 [01:28<00:00,  3.18it/s, acc=89.1, loss=0.226]\n"
     ]
    },
    {
     "name": "stdout",
     "output_type": "stream",
     "text": [
      "✅ Fold 1: Test Accuracy = 84.73%\n"
     ]
    },
    {
     "name": "stderr",
     "output_type": "stream",
     "text": [
      "Epoch [25/50]: 100%|████| 282/282 [01:28<00:00,  3.19it/s, acc=89.3, loss=0.451]\n"
     ]
    },
    {
     "name": "stdout",
     "output_type": "stream",
     "text": [
      "✅ Fold 1: Test Accuracy = 84.13%\n"
     ]
    },
    {
     "name": "stderr",
     "output_type": "stream",
     "text": [
      "Epoch [26/50]: 100%|███| 282/282 [01:27<00:00,  3.24it/s, acc=89.9, loss=0.0666]\n"
     ]
    },
    {
     "name": "stdout",
     "output_type": "stream",
     "text": [
      "✅ Fold 1: Test Accuracy = 84.83%\n"
     ]
    },
    {
     "name": "stderr",
     "output_type": "stream",
     "text": [
      "Epoch [27/50]: 100%|██████| 282/282 [01:26<00:00,  3.25it/s, acc=90, loss=0.154]\n"
     ]
    },
    {
     "name": "stdout",
     "output_type": "stream",
     "text": [
      "✅ Fold 1: Test Accuracy = 84.53%\n"
     ]
    },
    {
     "name": "stderr",
     "output_type": "stream",
     "text": [
      "Epoch [28/50]: 100%|████| 282/282 [01:26<00:00,  3.25it/s, acc=90.4, loss=0.307]\n"
     ]
    },
    {
     "name": "stdout",
     "output_type": "stream",
     "text": [
      "✅ Fold 1: Test Accuracy = 85.13%\n"
     ]
    },
    {
     "name": "stderr",
     "output_type": "stream",
     "text": [
      "Epoch [29/50]: 100%|████| 282/282 [01:26<00:00,  3.25it/s, acc=89.8, loss=0.198]\n"
     ]
    },
    {
     "name": "stdout",
     "output_type": "stream",
     "text": [
      "✅ Fold 1: Test Accuracy = 84.43%\n"
     ]
    },
    {
     "name": "stderr",
     "output_type": "stream",
     "text": [
      "Epoch [30/50]: 100%|████| 282/282 [01:26<00:00,  3.25it/s, acc=90.6, loss=0.294]\n"
     ]
    },
    {
     "name": "stdout",
     "output_type": "stream",
     "text": [
      "✅ Fold 1: Test Accuracy = 84.83%\n"
     ]
    },
    {
     "name": "stderr",
     "output_type": "stream",
     "text": [
      "Epoch [31/50]: 100%|████| 282/282 [01:26<00:00,  3.25it/s, acc=90.9, loss=0.366]\n"
     ]
    },
    {
     "name": "stdout",
     "output_type": "stream",
     "text": [
      "✅ Fold 1: Test Accuracy = 85.33%\n",
      "🎯 New best model saved with accuracy: 85.33%\n"
     ]
    },
    {
     "name": "stderr",
     "output_type": "stream",
     "text": [
      "Epoch [32/50]: 100%|████| 282/282 [01:26<00:00,  3.25it/s, acc=91.1, loss=0.315]\n"
     ]
    },
    {
     "name": "stdout",
     "output_type": "stream",
     "text": [
      "✅ Fold 1: Test Accuracy = 84.73%\n"
     ]
    },
    {
     "name": "stderr",
     "output_type": "stream",
     "text": [
      "Epoch [33/50]: 100%|████| 282/282 [01:27<00:00,  3.24it/s, acc=91.3, loss=0.308]\n"
     ]
    },
    {
     "name": "stdout",
     "output_type": "stream",
     "text": [
      "✅ Fold 1: Test Accuracy = 84.93%\n"
     ]
    },
    {
     "name": "stderr",
     "output_type": "stream",
     "text": [
      "Epoch [34/50]: 100%|█████| 282/282 [01:27<00:00,  3.24it/s, acc=91, loss=0.0831]\n"
     ]
    },
    {
     "name": "stdout",
     "output_type": "stream",
     "text": [
      "✅ Fold 1: Test Accuracy = 84.33%\n"
     ]
    },
    {
     "name": "stderr",
     "output_type": "stream",
     "text": [
      "Epoch [35/50]: 100%|████| 282/282 [01:27<00:00,  3.24it/s, acc=91.7, loss=0.418]\n"
     ]
    },
    {
     "name": "stdout",
     "output_type": "stream",
     "text": [
      "✅ Fold 1: Test Accuracy = 84.33%\n"
     ]
    },
    {
     "name": "stderr",
     "output_type": "stream",
     "text": [
      "Epoch [36/50]: 100%|████| 282/282 [01:27<00:00,  3.24it/s, acc=91.9, loss=0.145]\n"
     ]
    },
    {
     "name": "stdout",
     "output_type": "stream",
     "text": [
      "✅ Fold 1: Test Accuracy = 85.33%\n"
     ]
    },
    {
     "name": "stderr",
     "output_type": "stream",
     "text": [
      "Epoch [37/50]: 100%|████| 282/282 [01:27<00:00,  3.24it/s, acc=91.9, loss=0.188]\n"
     ]
    },
    {
     "name": "stdout",
     "output_type": "stream",
     "text": [
      "✅ Fold 1: Test Accuracy = 86.03%\n",
      "🎯 New best model saved with accuracy: 86.03%\n"
     ]
    },
    {
     "name": "stderr",
     "output_type": "stream",
     "text": [
      "Epoch [38/50]: 100%|█████| 282/282 [01:26<00:00,  3.25it/s, acc=92.3, loss=0.16]\n"
     ]
    },
    {
     "name": "stdout",
     "output_type": "stream",
     "text": [
      "✅ Fold 1: Test Accuracy = 85.93%\n"
     ]
    },
    {
     "name": "stderr",
     "output_type": "stream",
     "text": [
      "Epoch [39/50]: 100%|████| 282/282 [01:27<00:00,  3.24it/s, acc=92.4, loss=0.165]\n"
     ]
    },
    {
     "name": "stdout",
     "output_type": "stream",
     "text": [
      "✅ Fold 1: Test Accuracy = 86.13%\n",
      "🎯 New best model saved with accuracy: 86.13%\n"
     ]
    },
    {
     "name": "stderr",
     "output_type": "stream",
     "text": [
      "Epoch [40/50]: 100%|███| 282/282 [01:26<00:00,  3.24it/s, acc=92.7, loss=0.0667]\n"
     ]
    },
    {
     "name": "stdout",
     "output_type": "stream",
     "text": [
      "✅ Fold 1: Test Accuracy = 86.33%\n",
      "🎯 New best model saved with accuracy: 86.33%\n"
     ]
    },
    {
     "name": "stderr",
     "output_type": "stream",
     "text": [
      "Epoch [41/50]: 100%|████| 282/282 [01:26<00:00,  3.24it/s, acc=92.4, loss=0.236]\n"
     ]
    },
    {
     "name": "stdout",
     "output_type": "stream",
     "text": [
      "✅ Fold 1: Test Accuracy = 85.93%\n"
     ]
    },
    {
     "name": "stderr",
     "output_type": "stream",
     "text": [
      "Epoch [42/50]: 100%|████| 282/282 [01:27<00:00,  3.23it/s, acc=92.6, loss=0.107]\n"
     ]
    },
    {
     "name": "stdout",
     "output_type": "stream",
     "text": [
      "✅ Fold 1: Test Accuracy = 85.63%\n"
     ]
    },
    {
     "name": "stderr",
     "output_type": "stream",
     "text": [
      "Epoch [43/50]: 100%|████| 282/282 [01:27<00:00,  3.24it/s, acc=92.9, loss=0.131]\n"
     ]
    },
    {
     "name": "stdout",
     "output_type": "stream",
     "text": [
      "✅ Fold 1: Test Accuracy = 85.03%\n"
     ]
    },
    {
     "name": "stderr",
     "output_type": "stream",
     "text": [
      "Epoch [44/50]: 100%|████| 282/282 [01:27<00:00,  3.24it/s, acc=93.2, loss=0.507]\n"
     ]
    },
    {
     "name": "stdout",
     "output_type": "stream",
     "text": [
      "✅ Fold 1: Test Accuracy = 85.73%\n"
     ]
    },
    {
     "name": "stderr",
     "output_type": "stream",
     "text": [
      "Epoch [45/50]: 100%|████| 282/282 [01:27<00:00,  3.24it/s, acc=93.4, loss=0.122]\n"
     ]
    },
    {
     "name": "stdout",
     "output_type": "stream",
     "text": [
      "✅ Fold 1: Test Accuracy = 86.13%\n"
     ]
    },
    {
     "name": "stderr",
     "output_type": "stream",
     "text": [
      "Epoch [46/50]: 100%|████| 282/282 [01:27<00:00,  3.24it/s, acc=93.3, loss=0.309]\n"
     ]
    },
    {
     "name": "stdout",
     "output_type": "stream",
     "text": [
      "✅ Fold 1: Test Accuracy = 85.93%\n"
     ]
    },
    {
     "name": "stderr",
     "output_type": "stream",
     "text": [
      "Epoch [47/50]: 100%|███| 282/282 [01:27<00:00,  3.23it/s, acc=93.5, loss=0.0876]\n"
     ]
    },
    {
     "name": "stdout",
     "output_type": "stream",
     "text": [
      "✅ Fold 1: Test Accuracy = 85.23%\n"
     ]
    },
    {
     "name": "stderr",
     "output_type": "stream",
     "text": [
      "Epoch [48/50]: 100%|████| 282/282 [01:27<00:00,  3.23it/s, acc=93.7, loss=0.288]\n"
     ]
    },
    {
     "name": "stdout",
     "output_type": "stream",
     "text": [
      "✅ Fold 1: Test Accuracy = 85.13%\n"
     ]
    },
    {
     "name": "stderr",
     "output_type": "stream",
     "text": [
      "Epoch [49/50]: 100%|████| 282/282 [01:27<00:00,  3.23it/s, acc=93.5, loss=0.121]\n"
     ]
    },
    {
     "name": "stdout",
     "output_type": "stream",
     "text": [
      "✅ Fold 1: Test Accuracy = 86.73%\n",
      "🎯 New best model saved with accuracy: 86.73%\n"
     ]
    },
    {
     "name": "stderr",
     "output_type": "stream",
     "text": [
      "Epoch [50/50]: 100%|███| 282/282 [01:27<00:00,  3.24it/s, acc=93.4, loss=0.0728]\n"
     ]
    },
    {
     "name": "stdout",
     "output_type": "stream",
     "text": [
      "✅ Fold 1: Test Accuracy = 85.83%\n",
      "\n",
      "🚀 Training Fold 2/10\n"
     ]
    },
    {
     "name": "stderr",
     "output_type": "stream",
     "text": [
      "Epoch [1/50]: 100%|█████| 282/282 [01:27<00:00,  3.23it/s, acc=81.7, loss=0.117]\n"
     ]
    },
    {
     "name": "stdout",
     "output_type": "stream",
     "text": [
      "✅ Fold 2: Test Accuracy = 86.83%\n",
      "🎯 New best model saved with accuracy: 86.83%\n"
     ]
    },
    {
     "name": "stderr",
     "output_type": "stream",
     "text": [
      "Epoch [2/50]: 100%|█████| 282/282 [01:27<00:00,  3.23it/s, acc=88.4, loss=0.286]\n"
     ]
    },
    {
     "name": "stdout",
     "output_type": "stream",
     "text": [
      "✅ Fold 2: Test Accuracy = 88.42%\n",
      "🎯 New best model saved with accuracy: 88.42%\n"
     ]
    },
    {
     "name": "stderr",
     "output_type": "stream",
     "text": [
      "Epoch [3/50]: 100%|█████| 282/282 [01:26<00:00,  3.24it/s, acc=90.5, loss=0.205]\n"
     ]
    },
    {
     "name": "stdout",
     "output_type": "stream",
     "text": [
      "✅ Fold 2: Test Accuracy = 89.22%\n",
      "🎯 New best model saved with accuracy: 89.22%\n"
     ]
    },
    {
     "name": "stderr",
     "output_type": "stream",
     "text": [
      "Epoch [4/50]: 100%|█████| 282/282 [01:26<00:00,  3.24it/s, acc=91.7, loss=0.248]\n"
     ]
    },
    {
     "name": "stdout",
     "output_type": "stream",
     "text": [
      "✅ Fold 2: Test Accuracy = 89.52%\n",
      "🎯 New best model saved with accuracy: 89.52%\n"
     ]
    },
    {
     "name": "stderr",
     "output_type": "stream",
     "text": [
      "Epoch [5/50]: 100%|█████| 282/282 [01:27<00:00,  3.24it/s, acc=92.9, loss=0.263]\n"
     ]
    },
    {
     "name": "stdout",
     "output_type": "stream",
     "text": [
      "✅ Fold 2: Test Accuracy = 89.02%\n"
     ]
    },
    {
     "name": "stderr",
     "output_type": "stream",
     "text": [
      "Epoch [6/50]: 100%|████| 282/282 [01:27<00:00,  3.23it/s, acc=93.2, loss=0.0606]\n"
     ]
    },
    {
     "name": "stdout",
     "output_type": "stream",
     "text": [
      "✅ Fold 2: Test Accuracy = 89.82%\n",
      "🎯 New best model saved with accuracy: 89.82%\n"
     ]
    },
    {
     "name": "stderr",
     "output_type": "stream",
     "text": [
      "Epoch [7/50]: 100%|█████| 282/282 [01:27<00:00,  3.24it/s, acc=93.5, loss=0.108]\n"
     ]
    },
    {
     "name": "stdout",
     "output_type": "stream",
     "text": [
      "✅ Fold 2: Test Accuracy = 89.72%\n"
     ]
    },
    {
     "name": "stderr",
     "output_type": "stream",
     "text": [
      "Epoch [8/50]: 100%|█████| 282/282 [01:27<00:00,  3.23it/s, acc=94.1, loss=0.157]\n"
     ]
    },
    {
     "name": "stdout",
     "output_type": "stream",
     "text": [
      "✅ Fold 2: Test Accuracy = 89.82%\n"
     ]
    },
    {
     "name": "stderr",
     "output_type": "stream",
     "text": [
      "Epoch [9/50]: 100%|█████| 282/282 [01:27<00:00,  3.23it/s, acc=94.4, loss=0.166]\n"
     ]
    },
    {
     "name": "stdout",
     "output_type": "stream",
     "text": [
      "✅ Fold 2: Test Accuracy = 90.12%\n",
      "🎯 New best model saved with accuracy: 90.12%\n"
     ]
    },
    {
     "name": "stderr",
     "output_type": "stream",
     "text": [
      "Epoch [10/50]: 100%|████| 282/282 [01:27<00:00,  3.24it/s, acc=94.6, loss=0.121]\n"
     ]
    },
    {
     "name": "stdout",
     "output_type": "stream",
     "text": [
      "✅ Fold 2: Test Accuracy = 91.72%\n",
      "🎯 New best model saved with accuracy: 91.72%\n"
     ]
    },
    {
     "name": "stderr",
     "output_type": "stream",
     "text": [
      "Epoch [11/50]: 100%|████| 282/282 [01:27<00:00,  3.24it/s, acc=95.2, loss=0.571]\n"
     ]
    },
    {
     "name": "stdout",
     "output_type": "stream",
     "text": [
      "✅ Fold 2: Test Accuracy = 90.22%\n"
     ]
    },
    {
     "name": "stderr",
     "output_type": "stream",
     "text": [
      "Epoch [12/50]: 100%|███| 282/282 [01:27<00:00,  3.23it/s, acc=94.9, loss=0.0471]\n"
     ]
    },
    {
     "name": "stdout",
     "output_type": "stream",
     "text": [
      "✅ Fold 2: Test Accuracy = 90.42%\n"
     ]
    },
    {
     "name": "stderr",
     "output_type": "stream",
     "text": [
      "Epoch [13/50]: 100%|████| 282/282 [01:27<00:00,  3.23it/s, acc=95.6, loss=0.146]\n"
     ]
    },
    {
     "name": "stdout",
     "output_type": "stream",
     "text": [
      "✅ Fold 2: Test Accuracy = 90.82%\n"
     ]
    },
    {
     "name": "stderr",
     "output_type": "stream",
     "text": [
      "Epoch [14/50]: 100%|████| 282/282 [01:27<00:00,  3.23it/s, acc=95.3, loss=0.128]\n"
     ]
    },
    {
     "name": "stdout",
     "output_type": "stream",
     "text": [
      "✅ Fold 2: Test Accuracy = 91.82%\n",
      "🎯 New best model saved with accuracy: 91.82%\n"
     ]
    },
    {
     "name": "stderr",
     "output_type": "stream",
     "text": [
      "Epoch [15/50]: 100%|███| 282/282 [01:27<00:00,  3.24it/s, acc=95.7, loss=0.0447]\n"
     ]
    },
    {
     "name": "stdout",
     "output_type": "stream",
     "text": [
      "✅ Fold 2: Test Accuracy = 91.42%\n"
     ]
    },
    {
     "name": "stderr",
     "output_type": "stream",
     "text": [
      "Epoch [16/50]: 100%|████| 282/282 [01:27<00:00,  3.23it/s, acc=96.2, loss=0.279]\n"
     ]
    },
    {
     "name": "stdout",
     "output_type": "stream",
     "text": [
      "✅ Fold 2: Test Accuracy = 91.92%\n",
      "🎯 New best model saved with accuracy: 91.92%\n"
     ]
    },
    {
     "name": "stderr",
     "output_type": "stream",
     "text": [
      "Epoch [17/50]: 100%|██| 282/282 [01:27<00:00,  3.23it/s, acc=96.1, loss=0.00685]\n"
     ]
    },
    {
     "name": "stdout",
     "output_type": "stream",
     "text": [
      "✅ Fold 2: Test Accuracy = 90.72%\n"
     ]
    },
    {
     "name": "stderr",
     "output_type": "stream",
     "text": [
      "Epoch [18/50]: 100%|████| 282/282 [01:27<00:00,  3.23it/s, acc=96.1, loss=0.315]\n"
     ]
    },
    {
     "name": "stdout",
     "output_type": "stream",
     "text": [
      "✅ Fold 2: Test Accuracy = 89.72%\n"
     ]
    },
    {
     "name": "stderr",
     "output_type": "stream",
     "text": [
      "Epoch [19/50]: 100%|███| 282/282 [01:27<00:00,  3.23it/s, acc=96.7, loss=0.0764]\n"
     ]
    },
    {
     "name": "stdout",
     "output_type": "stream",
     "text": [
      "✅ Fold 2: Test Accuracy = 91.12%\n"
     ]
    },
    {
     "name": "stderr",
     "output_type": "stream",
     "text": [
      "Epoch [20/50]: 100%|███| 282/282 [01:27<00:00,  3.23it/s, acc=96.7, loss=0.0416]\n"
     ]
    },
    {
     "name": "stdout",
     "output_type": "stream",
     "text": [
      "✅ Fold 2: Test Accuracy = 91.12%\n"
     ]
    },
    {
     "name": "stderr",
     "output_type": "stream",
     "text": [
      "Epoch [21/50]: 100%|███| 282/282 [01:27<00:00,  3.23it/s, acc=96.8, loss=0.0608]\n"
     ]
    },
    {
     "name": "stdout",
     "output_type": "stream",
     "text": [
      "✅ Fold 2: Test Accuracy = 90.92%\n"
     ]
    },
    {
     "name": "stderr",
     "output_type": "stream",
     "text": [
      "Epoch [22/50]: 100%|███████| 282/282 [01:27<00:00,  3.23it/s, acc=97, loss=0.13]\n"
     ]
    },
    {
     "name": "stdout",
     "output_type": "stream",
     "text": [
      "✅ Fold 2: Test Accuracy = 90.52%\n"
     ]
    },
    {
     "name": "stderr",
     "output_type": "stream",
     "text": [
      "Epoch [23/50]: 100%|███| 282/282 [01:27<00:00,  3.23it/s, acc=96.7, loss=0.0977]\n"
     ]
    },
    {
     "name": "stdout",
     "output_type": "stream",
     "text": [
      "✅ Fold 2: Test Accuracy = 90.32%\n"
     ]
    },
    {
     "name": "stderr",
     "output_type": "stream",
     "text": [
      "Epoch [24/50]: 100%|███| 282/282 [01:27<00:00,  3.23it/s, acc=96.9, loss=0.0593]\n"
     ]
    },
    {
     "name": "stdout",
     "output_type": "stream",
     "text": [
      "✅ Fold 2: Test Accuracy = 90.92%\n"
     ]
    },
    {
     "name": "stderr",
     "output_type": "stream",
     "text": [
      "Epoch [25/50]: 100%|████| 282/282 [01:27<00:00,  3.23it/s, acc=97, loss=0.00787]\n"
     ]
    },
    {
     "name": "stdout",
     "output_type": "stream",
     "text": [
      "✅ Fold 2: Test Accuracy = 91.12%\n"
     ]
    },
    {
     "name": "stderr",
     "output_type": "stream",
     "text": [
      "Epoch [26/50]: 100%|████| 282/282 [01:27<00:00,  3.23it/s, acc=97.2, loss=0.373]\n"
     ]
    },
    {
     "name": "stdout",
     "output_type": "stream",
     "text": [
      "✅ Fold 2: Test Accuracy = 91.22%\n"
     ]
    },
    {
     "name": "stderr",
     "output_type": "stream",
     "text": [
      "Epoch [27/50]: 100%|██| 282/282 [01:27<00:00,  3.23it/s, acc=97.4, loss=0.00694]\n"
     ]
    },
    {
     "name": "stdout",
     "output_type": "stream",
     "text": [
      "✅ Fold 2: Test Accuracy = 90.72%\n"
     ]
    },
    {
     "name": "stderr",
     "output_type": "stream",
     "text": [
      "Epoch [28/50]: 100%|█████| 282/282 [01:27<00:00,  3.23it/s, acc=97.3, loss=0.13]\n"
     ]
    },
    {
     "name": "stdout",
     "output_type": "stream",
     "text": [
      "✅ Fold 2: Test Accuracy = 90.52%\n"
     ]
    },
    {
     "name": "stderr",
     "output_type": "stream",
     "text": [
      "Epoch [29/50]: 100%|████| 282/282 [01:27<00:00,  3.23it/s, acc=97.6, loss=0.021]\n"
     ]
    },
    {
     "name": "stdout",
     "output_type": "stream",
     "text": [
      "✅ Fold 2: Test Accuracy = 90.62%\n"
     ]
    },
    {
     "name": "stderr",
     "output_type": "stream",
     "text": [
      "Epoch [30/50]: 100%|███| 282/282 [01:27<00:00,  3.23it/s, acc=97.2, loss=0.0986]\n"
     ]
    },
    {
     "name": "stdout",
     "output_type": "stream",
     "text": [
      "✅ Fold 2: Test Accuracy = 90.52%\n"
     ]
    },
    {
     "name": "stderr",
     "output_type": "stream",
     "text": [
      "Epoch [31/50]: 100%|████| 282/282 [01:27<00:00,  3.23it/s, acc=97.6, loss=0.187]\n"
     ]
    },
    {
     "name": "stdout",
     "output_type": "stream",
     "text": [
      "✅ Fold 2: Test Accuracy = 90.92%\n"
     ]
    },
    {
     "name": "stderr",
     "output_type": "stream",
     "text": [
      "Epoch [32/50]: 100%|███| 282/282 [01:27<00:00,  3.23it/s, acc=97.6, loss=0.0331]\n"
     ]
    },
    {
     "name": "stdout",
     "output_type": "stream",
     "text": [
      "✅ Fold 2: Test Accuracy = 90.72%\n"
     ]
    },
    {
     "name": "stderr",
     "output_type": "stream",
     "text": [
      "Epoch [33/50]: 100%|████| 282/282 [01:27<00:00,  3.23it/s, acc=97.9, loss=0.098]\n"
     ]
    },
    {
     "name": "stdout",
     "output_type": "stream",
     "text": [
      "✅ Fold 2: Test Accuracy = 90.32%\n"
     ]
    },
    {
     "name": "stderr",
     "output_type": "stream",
     "text": [
      "Epoch [34/50]: 100%|██| 282/282 [01:27<00:00,  3.23it/s, acc=97.6, loss=0.00199]\n"
     ]
    },
    {
     "name": "stdout",
     "output_type": "stream",
     "text": [
      "✅ Fold 2: Test Accuracy = 90.62%\n"
     ]
    },
    {
     "name": "stderr",
     "output_type": "stream",
     "text": [
      "Epoch [35/50]: 100%|████| 282/282 [01:27<00:00,  3.23it/s, acc=97.8, loss=0.186]\n"
     ]
    },
    {
     "name": "stdout",
     "output_type": "stream",
     "text": [
      "✅ Fold 2: Test Accuracy = 91.42%\n"
     ]
    },
    {
     "name": "stderr",
     "output_type": "stream",
     "text": [
      "Epoch [36/50]: 100%|██| 282/282 [01:27<00:00,  3.23it/s, acc=97.7, loss=0.00251]\n"
     ]
    },
    {
     "name": "stdout",
     "output_type": "stream",
     "text": [
      "✅ Fold 2: Test Accuracy = 91.72%\n"
     ]
    },
    {
     "name": "stderr",
     "output_type": "stream",
     "text": [
      "Epoch [37/50]: 100%|█████| 282/282 [01:27<00:00,  3.23it/s, acc=98, loss=0.0758]\n"
     ]
    },
    {
     "name": "stdout",
     "output_type": "stream",
     "text": [
      "✅ Fold 2: Test Accuracy = 90.52%\n"
     ]
    },
    {
     "name": "stderr",
     "output_type": "stream",
     "text": [
      "Epoch [38/50]: 100%|███| 282/282 [01:27<00:00,  3.23it/s, acc=97.9, loss=0.0611]\n"
     ]
    },
    {
     "name": "stdout",
     "output_type": "stream",
     "text": [
      "✅ Fold 2: Test Accuracy = 91.82%\n"
     ]
    },
    {
     "name": "stderr",
     "output_type": "stream",
     "text": [
      "Epoch [39/50]: 100%|████| 282/282 [01:27<00:00,  3.23it/s, acc=97.8, loss=0.285]\n"
     ]
    },
    {
     "name": "stdout",
     "output_type": "stream",
     "text": [
      "✅ Fold 2: Test Accuracy = 90.82%\n"
     ]
    },
    {
     "name": "stderr",
     "output_type": "stream",
     "text": [
      "Epoch [40/50]: 100%|███| 282/282 [01:27<00:00,  3.23it/s, acc=98.1, loss=0.0979]\n"
     ]
    },
    {
     "name": "stdout",
     "output_type": "stream",
     "text": [
      "✅ Fold 2: Test Accuracy = 90.82%\n"
     ]
    },
    {
     "name": "stderr",
     "output_type": "stream",
     "text": [
      "Epoch [41/50]: 100%|████| 282/282 [01:27<00:00,  3.23it/s, acc=98, loss=0.00291]\n"
     ]
    },
    {
     "name": "stdout",
     "output_type": "stream",
     "text": [
      "✅ Fold 2: Test Accuracy = 91.42%\n"
     ]
    },
    {
     "name": "stderr",
     "output_type": "stream",
     "text": [
      "Epoch [42/50]: 100%|███| 282/282 [01:27<00:00,  3.23it/s, acc=98.2, loss=0.0816]\n"
     ]
    },
    {
     "name": "stdout",
     "output_type": "stream",
     "text": [
      "✅ Fold 2: Test Accuracy = 90.62%\n"
     ]
    },
    {
     "name": "stderr",
     "output_type": "stream",
     "text": [
      "Epoch [43/50]: 100%|████| 282/282 [01:27<00:00,  3.23it/s, acc=98.2, loss=0.177]\n"
     ]
    },
    {
     "name": "stdout",
     "output_type": "stream",
     "text": [
      "✅ Fold 2: Test Accuracy = 90.92%\n"
     ]
    },
    {
     "name": "stderr",
     "output_type": "stream",
     "text": [
      "Epoch [44/50]: 100%|██| 282/282 [01:27<00:00,  3.23it/s, acc=98.3, loss=0.00977]\n"
     ]
    },
    {
     "name": "stdout",
     "output_type": "stream",
     "text": [
      "✅ Fold 2: Test Accuracy = 91.32%\n"
     ]
    },
    {
     "name": "stderr",
     "output_type": "stream",
     "text": [
      "Epoch [45/50]: 100%|███| 282/282 [01:27<00:00,  3.23it/s, acc=98.2, loss=0.0024]\n"
     ]
    },
    {
     "name": "stdout",
     "output_type": "stream",
     "text": [
      "✅ Fold 2: Test Accuracy = 90.72%\n"
     ]
    },
    {
     "name": "stderr",
     "output_type": "stream",
     "text": [
      "Epoch [46/50]: 100%|███| 282/282 [01:27<00:00,  3.23it/s, acc=98.4, loss=0.0306]\n"
     ]
    },
    {
     "name": "stdout",
     "output_type": "stream",
     "text": [
      "✅ Fold 2: Test Accuracy = 91.02%\n"
     ]
    },
    {
     "name": "stderr",
     "output_type": "stream",
     "text": [
      "Epoch [47/50]: 100%|██| 282/282 [01:27<00:00,  3.23it/s, acc=98.2, loss=0.00284]\n"
     ]
    },
    {
     "name": "stdout",
     "output_type": "stream",
     "text": [
      "✅ Fold 2: Test Accuracy = 91.32%\n"
     ]
    },
    {
     "name": "stderr",
     "output_type": "stream",
     "text": [
      "Epoch [48/50]: 100%|███| 282/282 [01:27<00:00,  3.23it/s, acc=98.3, loss=0.0376]\n"
     ]
    },
    {
     "name": "stdout",
     "output_type": "stream",
     "text": [
      "✅ Fold 2: Test Accuracy = 90.42%\n"
     ]
    },
    {
     "name": "stderr",
     "output_type": "stream",
     "text": [
      "Epoch [49/50]: 100%|███| 282/282 [01:27<00:00,  3.23it/s, acc=98.5, loss=0.0648]\n"
     ]
    },
    {
     "name": "stdout",
     "output_type": "stream",
     "text": [
      "✅ Fold 2: Test Accuracy = 90.12%\n"
     ]
    },
    {
     "name": "stderr",
     "output_type": "stream",
     "text": [
      "Epoch [50/50]: 100%|███| 282/282 [01:27<00:00,  3.23it/s, acc=98.5, loss=0.0913]\n"
     ]
    },
    {
     "name": "stdout",
     "output_type": "stream",
     "text": [
      "✅ Fold 2: Test Accuracy = 90.92%\n",
      "\n",
      "🚀 Training Fold 3/10\n"
     ]
    },
    {
     "name": "stderr",
     "output_type": "stream",
     "text": [
      "Epoch [1/50]: 100%|████| 282/282 [01:27<00:00,  3.23it/s, acc=86.3, loss=0.0322]\n"
     ]
    },
    {
     "name": "stdout",
     "output_type": "stream",
     "text": [
      "✅ Fold 3: Test Accuracy = 93.21%\n",
      "🎯 New best model saved with accuracy: 93.21%\n"
     ]
    },
    {
     "name": "stderr",
     "output_type": "stream",
     "text": [
      "Epoch [2/50]: 100%|████| 282/282 [01:27<00:00,  3.23it/s, acc=93.9, loss=0.0364]\n"
     ]
    },
    {
     "name": "stdout",
     "output_type": "stream",
     "text": [
      "✅ Fold 3: Test Accuracy = 95.31%\n",
      "🎯 New best model saved with accuracy: 95.31%\n"
     ]
    },
    {
     "name": "stderr",
     "output_type": "stream",
     "text": [
      "Epoch [3/50]: 100%|████| 282/282 [01:27<00:00,  3.23it/s, acc=95.7, loss=0.0508]\n"
     ]
    },
    {
     "name": "stdout",
     "output_type": "stream",
     "text": [
      "✅ Fold 3: Test Accuracy = 95.11%\n"
     ]
    },
    {
     "name": "stderr",
     "output_type": "stream",
     "text": [
      "Epoch [4/50]: 100%|████| 282/282 [01:27<00:00,  3.22it/s, acc=96.6, loss=0.0371]\n"
     ]
    },
    {
     "name": "stdout",
     "output_type": "stream",
     "text": [
      "✅ Fold 3: Test Accuracy = 94.21%\n"
     ]
    },
    {
     "name": "stderr",
     "output_type": "stream",
     "text": [
      "Epoch [5/50]: 100%|████| 282/282 [01:27<00:00,  3.22it/s, acc=97.2, loss=0.0289]\n"
     ]
    },
    {
     "name": "stdout",
     "output_type": "stream",
     "text": [
      "✅ Fold 3: Test Accuracy = 95.11%\n"
     ]
    },
    {
     "name": "stderr",
     "output_type": "stream",
     "text": [
      "Epoch [6/50]: 100%|██████| 282/282 [01:27<00:00,  3.22it/s, acc=97.3, loss=0.14]\n"
     ]
    },
    {
     "name": "stdout",
     "output_type": "stream",
     "text": [
      "✅ Fold 3: Test Accuracy = 95.71%\n",
      "🎯 New best model saved with accuracy: 95.71%\n"
     ]
    },
    {
     "name": "stderr",
     "output_type": "stream",
     "text": [
      "Epoch [7/50]: 100%|█████| 282/282 [01:27<00:00,  3.23it/s, acc=97.6, loss=0.218]\n"
     ]
    },
    {
     "name": "stdout",
     "output_type": "stream",
     "text": [
      "✅ Fold 3: Test Accuracy = 95.41%\n"
     ]
    },
    {
     "name": "stderr",
     "output_type": "stream",
     "text": [
      "Epoch [8/50]: 100%|██████| 282/282 [01:27<00:00,  3.22it/s, acc=98, loss=0.0221]\n"
     ]
    },
    {
     "name": "stdout",
     "output_type": "stream",
     "text": [
      "✅ Fold 3: Test Accuracy = 96.41%\n",
      "🎯 New best model saved with accuracy: 96.41%\n"
     ]
    },
    {
     "name": "stderr",
     "output_type": "stream",
     "text": [
      "Epoch [9/50]: 100%|████| 282/282 [01:27<00:00,  3.23it/s, acc=97.8, loss=0.0314]\n"
     ]
    },
    {
     "name": "stdout",
     "output_type": "stream",
     "text": [
      "✅ Fold 3: Test Accuracy = 95.81%\n"
     ]
    },
    {
     "name": "stderr",
     "output_type": "stream",
     "text": [
      "Epoch [10/50]: 100%|██████| 282/282 [01:27<00:00,  3.22it/s, acc=98, loss=0.147]\n"
     ]
    },
    {
     "name": "stdout",
     "output_type": "stream",
     "text": [
      "✅ Fold 3: Test Accuracy = 95.91%\n"
     ]
    },
    {
     "name": "stderr",
     "output_type": "stream",
     "text": [
      "Epoch [11/50]: 100%|███| 282/282 [01:27<00:00,  3.22it/s, acc=98.2, loss=0.0166]\n"
     ]
    },
    {
     "name": "stdout",
     "output_type": "stream",
     "text": [
      "✅ Fold 3: Test Accuracy = 95.81%\n"
     ]
    },
    {
     "name": "stderr",
     "output_type": "stream",
     "text": [
      "Epoch [12/50]: 100%|███| 282/282 [01:27<00:00,  3.22it/s, acc=98.4, loss=0.0021]\n"
     ]
    },
    {
     "name": "stdout",
     "output_type": "stream",
     "text": [
      "✅ Fold 3: Test Accuracy = 95.71%\n"
     ]
    },
    {
     "name": "stderr",
     "output_type": "stream",
     "text": [
      "Epoch [13/50]: 100%|███| 282/282 [01:27<00:00,  3.22it/s, acc=98.5, loss=0.0323]\n"
     ]
    },
    {
     "name": "stdout",
     "output_type": "stream",
     "text": [
      "✅ Fold 3: Test Accuracy = 96.41%\n"
     ]
    },
    {
     "name": "stderr",
     "output_type": "stream",
     "text": [
      "Epoch [14/50]: 100%|███| 282/282 [01:27<00:00,  3.22it/s, acc=98.5, loss=0.0207]\n"
     ]
    },
    {
     "name": "stdout",
     "output_type": "stream",
     "text": [
      "✅ Fold 3: Test Accuracy = 96.51%\n",
      "🎯 New best model saved with accuracy: 96.51%\n"
     ]
    },
    {
     "name": "stderr",
     "output_type": "stream",
     "text": [
      "Epoch [15/50]: 100%|███| 282/282 [01:27<00:00,  3.23it/s, acc=98.4, loss=0.0117]\n"
     ]
    },
    {
     "name": "stdout",
     "output_type": "stream",
     "text": [
      "✅ Fold 3: Test Accuracy = 96.21%\n"
     ]
    },
    {
     "name": "stderr",
     "output_type": "stream",
     "text": [
      "Epoch [16/50]: 100%|███| 282/282 [01:27<00:00,  3.23it/s, acc=98.7, loss=0.0423]\n"
     ]
    },
    {
     "name": "stdout",
     "output_type": "stream",
     "text": [
      "✅ Fold 3: Test Accuracy = 96.61%\n",
      "🎯 New best model saved with accuracy: 96.61%\n"
     ]
    },
    {
     "name": "stderr",
     "output_type": "stream",
     "text": [
      "Epoch [17/50]: 100%|███| 282/282 [01:27<00:00,  3.23it/s, acc=98.8, loss=0.0248]\n"
     ]
    },
    {
     "name": "stdout",
     "output_type": "stream",
     "text": [
      "✅ Fold 3: Test Accuracy = 96.61%\n"
     ]
    },
    {
     "name": "stderr",
     "output_type": "stream",
     "text": [
      "Epoch [18/50]: 100%|███| 282/282 [01:27<00:00,  3.23it/s, acc=98.8, loss=0.0134]\n"
     ]
    },
    {
     "name": "stdout",
     "output_type": "stream",
     "text": [
      "✅ Fold 3: Test Accuracy = 96.81%\n",
      "🎯 New best model saved with accuracy: 96.81%\n"
     ]
    },
    {
     "name": "stderr",
     "output_type": "stream",
     "text": [
      "Epoch [19/50]: 100%|███| 282/282 [01:27<00:00,  3.23it/s, acc=98.8, loss=0.0257]\n"
     ]
    },
    {
     "name": "stdout",
     "output_type": "stream",
     "text": [
      "✅ Fold 3: Test Accuracy = 96.31%\n"
     ]
    },
    {
     "name": "stderr",
     "output_type": "stream",
     "text": [
      "Epoch [20/50]: 100%|███| 282/282 [01:27<00:00,  3.22it/s, acc=98.9, loss=0.0325]\n"
     ]
    },
    {
     "name": "stdout",
     "output_type": "stream",
     "text": [
      "✅ Fold 3: Test Accuracy = 96.71%\n"
     ]
    },
    {
     "name": "stderr",
     "output_type": "stream",
     "text": [
      "Epoch [21/50]: 100%|████| 282/282 [01:27<00:00,  3.22it/s, acc=98.9, loss=0.206]\n"
     ]
    },
    {
     "name": "stdout",
     "output_type": "stream",
     "text": [
      "✅ Fold 3: Test Accuracy = 95.81%\n"
     ]
    },
    {
     "name": "stderr",
     "output_type": "stream",
     "text": [
      "Epoch [22/50]: 100%|█████| 282/282 [01:27<00:00,  3.22it/s, acc=99, loss=0.0803]\n"
     ]
    },
    {
     "name": "stdout",
     "output_type": "stream",
     "text": [
      "✅ Fold 3: Test Accuracy = 96.01%\n"
     ]
    },
    {
     "name": "stderr",
     "output_type": "stream",
     "text": [
      "Epoch [23/50]: 100%|███| 282/282 [01:27<00:00,  3.22it/s, acc=98.8, loss=0.0101]\n"
     ]
    },
    {
     "name": "stdout",
     "output_type": "stream",
     "text": [
      "✅ Fold 3: Test Accuracy = 96.21%\n"
     ]
    },
    {
     "name": "stderr",
     "output_type": "stream",
     "text": [
      "Epoch [24/50]: 100%|██| 282/282 [01:27<00:00,  3.23it/s, acc=98.9, loss=0.00224]\n"
     ]
    },
    {
     "name": "stdout",
     "output_type": "stream",
     "text": [
      "✅ Fold 3: Test Accuracy = 96.61%\n"
     ]
    },
    {
     "name": "stderr",
     "output_type": "stream",
     "text": [
      "Epoch [25/50]: 100%|████| 282/282 [01:27<00:00,  3.23it/s, acc=99.1, loss=0.199]\n"
     ]
    },
    {
     "name": "stdout",
     "output_type": "stream",
     "text": [
      "✅ Fold 3: Test Accuracy = 96.71%\n"
     ]
    },
    {
     "name": "stderr",
     "output_type": "stream",
     "text": [
      "Epoch [26/50]: 100%|███| 282/282 [01:27<00:00,  3.22it/s, acc=99.1, loss=0.0146]\n"
     ]
    },
    {
     "name": "stdout",
     "output_type": "stream",
     "text": [
      "✅ Fold 3: Test Accuracy = 96.61%\n"
     ]
    },
    {
     "name": "stderr",
     "output_type": "stream",
     "text": [
      "Epoch [27/50]: 100%|██| 282/282 [01:27<00:00,  3.23it/s, acc=99.2, loss=0.00896]\n"
     ]
    },
    {
     "name": "stdout",
     "output_type": "stream",
     "text": [
      "✅ Fold 3: Test Accuracy = 96.81%\n"
     ]
    },
    {
     "name": "stderr",
     "output_type": "stream",
     "text": [
      "Epoch [28/50]: 100%|███| 282/282 [01:27<00:00,  3.22it/s, acc=99.2, loss=0.0163]\n"
     ]
    },
    {
     "name": "stdout",
     "output_type": "stream",
     "text": [
      "✅ Fold 3: Test Accuracy = 96.71%\n"
     ]
    },
    {
     "name": "stderr",
     "output_type": "stream",
     "text": [
      "Epoch [29/50]: 100%|██| 282/282 [01:27<00:00,  3.22it/s, acc=99.3, loss=0.00247]\n"
     ]
    },
    {
     "name": "stdout",
     "output_type": "stream",
     "text": [
      "✅ Fold 3: Test Accuracy = 96.61%\n"
     ]
    },
    {
     "name": "stderr",
     "output_type": "stream",
     "text": [
      "Epoch [30/50]: 100%|█| 282/282 [01:27<00:00,  3.22it/s, acc=99.2, loss=0.000301]\n"
     ]
    },
    {
     "name": "stdout",
     "output_type": "stream",
     "text": [
      "✅ Fold 3: Test Accuracy = 96.81%\n"
     ]
    },
    {
     "name": "stderr",
     "output_type": "stream",
     "text": [
      "Epoch [31/50]: 100%|██| 282/282 [01:27<00:00,  3.22it/s, acc=99.4, loss=0.00641]\n"
     ]
    },
    {
     "name": "stdout",
     "output_type": "stream",
     "text": [
      "✅ Fold 3: Test Accuracy = 97.01%\n",
      "🎯 New best model saved with accuracy: 97.01%\n"
     ]
    },
    {
     "name": "stderr",
     "output_type": "stream",
     "text": [
      "Epoch [32/50]: 100%|██| 282/282 [01:27<00:00,  3.23it/s, acc=99.2, loss=0.00372]\n"
     ]
    },
    {
     "name": "stdout",
     "output_type": "stream",
     "text": [
      "✅ Fold 3: Test Accuracy = 96.91%\n"
     ]
    },
    {
     "name": "stderr",
     "output_type": "stream",
     "text": [
      "Epoch [33/50]: 100%|██| 282/282 [01:27<00:00,  3.23it/s, acc=99.3, loss=0.00469]\n"
     ]
    },
    {
     "name": "stdout",
     "output_type": "stream",
     "text": [
      "✅ Fold 3: Test Accuracy = 96.71%\n"
     ]
    },
    {
     "name": "stderr",
     "output_type": "stream",
     "text": [
      "Epoch [34/50]: 100%|█| 282/282 [01:27<00:00,  3.22it/s, acc=99.4, loss=0.000705]\n"
     ]
    },
    {
     "name": "stdout",
     "output_type": "stream",
     "text": [
      "✅ Fold 3: Test Accuracy = 97.11%\n",
      "🎯 New best model saved with accuracy: 97.11%\n"
     ]
    },
    {
     "name": "stderr",
     "output_type": "stream",
     "text": [
      "Epoch [35/50]: 100%|█| 282/282 [01:27<00:00,  3.23it/s, acc=99.4, loss=0.000166]\n"
     ]
    },
    {
     "name": "stdout",
     "output_type": "stream",
     "text": [
      "✅ Fold 3: Test Accuracy = 96.61%\n"
     ]
    },
    {
     "name": "stderr",
     "output_type": "stream",
     "text": [
      "Epoch [36/50]: 100%|██| 282/282 [01:27<00:00,  3.22it/s, acc=99.2, loss=0.00128]\n"
     ]
    },
    {
     "name": "stdout",
     "output_type": "stream",
     "text": [
      "✅ Fold 3: Test Accuracy = 96.41%\n"
     ]
    },
    {
     "name": "stderr",
     "output_type": "stream",
     "text": [
      "Epoch [37/50]: 100%|██| 282/282 [01:27<00:00,  3.22it/s, acc=99.4, loss=0.00143]\n"
     ]
    },
    {
     "name": "stdout",
     "output_type": "stream",
     "text": [
      "✅ Fold 3: Test Accuracy = 96.51%\n"
     ]
    },
    {
     "name": "stderr",
     "output_type": "stream",
     "text": [
      "Epoch [38/50]: 100%|███| 282/282 [01:27<00:00,  3.22it/s, acc=99.3, loss=0.0206]\n"
     ]
    },
    {
     "name": "stdout",
     "output_type": "stream",
     "text": [
      "✅ Fold 3: Test Accuracy = 96.91%\n"
     ]
    },
    {
     "name": "stderr",
     "output_type": "stream",
     "text": [
      "Epoch [39/50]: 100%|██| 282/282 [01:27<00:00,  3.22it/s, acc=99.4, loss=0.00294]\n"
     ]
    },
    {
     "name": "stdout",
     "output_type": "stream",
     "text": [
      "✅ Fold 3: Test Accuracy = 96.61%\n"
     ]
    },
    {
     "name": "stderr",
     "output_type": "stream",
     "text": [
      "Epoch [40/50]: 100%|███| 282/282 [01:27<00:00,  3.22it/s, acc=99.4, loss=0.0102]\n"
     ]
    },
    {
     "name": "stdout",
     "output_type": "stream",
     "text": [
      "✅ Fold 3: Test Accuracy = 96.61%\n"
     ]
    },
    {
     "name": "stderr",
     "output_type": "stream",
     "text": [
      "Epoch [41/50]: 100%|█| 282/282 [01:27<00:00,  3.22it/s, acc=99.4, loss=0.000846]\n"
     ]
    },
    {
     "name": "stdout",
     "output_type": "stream",
     "text": [
      "✅ Fold 3: Test Accuracy = 96.91%\n"
     ]
    },
    {
     "name": "stderr",
     "output_type": "stream",
     "text": [
      "Epoch [42/50]: 100%|██| 282/282 [01:27<00:00,  3.22it/s, acc=99.4, loss=0.00978]\n"
     ]
    },
    {
     "name": "stdout",
     "output_type": "stream",
     "text": [
      "✅ Fold 3: Test Accuracy = 96.81%\n"
     ]
    },
    {
     "name": "stderr",
     "output_type": "stream",
     "text": [
      "Epoch [43/50]: 100%|█| 282/282 [01:27<00:00,  3.22it/s, acc=99.3, loss=0.000297]\n"
     ]
    },
    {
     "name": "stdout",
     "output_type": "stream",
     "text": [
      "✅ Fold 3: Test Accuracy = 96.11%\n"
     ]
    },
    {
     "name": "stderr",
     "output_type": "stream",
     "text": [
      "Epoch [44/50]: 100%|███| 282/282 [01:27<00:00,  3.22it/s, acc=99.3, loss=0.0206]\n"
     ]
    },
    {
     "name": "stdout",
     "output_type": "stream",
     "text": [
      "✅ Fold 3: Test Accuracy = 96.21%\n"
     ]
    },
    {
     "name": "stderr",
     "output_type": "stream",
     "text": [
      "Epoch [45/50]: 100%|██| 282/282 [01:27<00:00,  3.22it/s, acc=99.3, loss=0.00273]\n"
     ]
    },
    {
     "name": "stdout",
     "output_type": "stream",
     "text": [
      "✅ Fold 3: Test Accuracy = 96.31%\n"
     ]
    },
    {
     "name": "stderr",
     "output_type": "stream",
     "text": [
      "Epoch [46/50]: 100%|████| 282/282 [01:27<00:00,  3.22it/s, acc=99.5, loss=0.151]\n"
     ]
    },
    {
     "name": "stdout",
     "output_type": "stream",
     "text": [
      "✅ Fold 3: Test Accuracy = 96.41%\n"
     ]
    },
    {
     "name": "stderr",
     "output_type": "stream",
     "text": [
      "Epoch [47/50]: 100%|███| 282/282 [01:27<00:00,  3.22it/s, acc=99.4, loss=0.0173]\n"
     ]
    },
    {
     "name": "stdout",
     "output_type": "stream",
     "text": [
      "✅ Fold 3: Test Accuracy = 96.31%\n"
     ]
    },
    {
     "name": "stderr",
     "output_type": "stream",
     "text": [
      "Epoch [48/50]: 100%|█| 282/282 [01:27<00:00,  3.22it/s, acc=99.5, loss=0.000188]\n"
     ]
    },
    {
     "name": "stdout",
     "output_type": "stream",
     "text": [
      "✅ Fold 3: Test Accuracy = 96.31%\n"
     ]
    },
    {
     "name": "stderr",
     "output_type": "stream",
     "text": [
      "Epoch [49/50]: 100%|██| 282/282 [01:27<00:00,  3.22it/s, acc=99.5, loss=0.00372]\n"
     ]
    },
    {
     "name": "stdout",
     "output_type": "stream",
     "text": [
      "✅ Fold 3: Test Accuracy = 96.21%\n"
     ]
    },
    {
     "name": "stderr",
     "output_type": "stream",
     "text": [
      "Epoch [50/50]: 100%|█| 282/282 [01:27<00:00,  3.22it/s, acc=99.5, loss=0.000775]\n"
     ]
    },
    {
     "name": "stdout",
     "output_type": "stream",
     "text": [
      "✅ Fold 3: Test Accuracy = 96.61%\n",
      "\n",
      "🚀 Training Fold 4/10\n"
     ]
    },
    {
     "name": "stderr",
     "output_type": "stream",
     "text": [
      "Epoch [1/50]: 100%|███████| 282/282 [01:27<00:00,  3.22it/s, acc=90, loss=0.334]\n"
     ]
    },
    {
     "name": "stdout",
     "output_type": "stream",
     "text": [
      "✅ Fold 4: Test Accuracy = 96.21%\n",
      "🎯 New best model saved with accuracy: 96.21%\n"
     ]
    },
    {
     "name": "stderr",
     "output_type": "stream",
     "text": [
      "Epoch [2/50]: 100%|█████| 282/282 [01:27<00:00,  3.22it/s, acc=96.9, loss=0.115]\n"
     ]
    },
    {
     "name": "stdout",
     "output_type": "stream",
     "text": [
      "✅ Fold 4: Test Accuracy = 97.50%\n",
      "🎯 New best model saved with accuracy: 97.50%\n"
     ]
    },
    {
     "name": "stderr",
     "output_type": "stream",
     "text": [
      "Epoch [3/50]: 100%|███████| 282/282 [01:27<00:00,  3.23it/s, acc=98, loss=0.205]\n"
     ]
    },
    {
     "name": "stdout",
     "output_type": "stream",
     "text": [
      "✅ Fold 4: Test Accuracy = 96.51%\n"
     ]
    },
    {
     "name": "stderr",
     "output_type": "stream",
     "text": [
      "Epoch [4/50]: 100%|████| 282/282 [01:27<00:00,  3.22it/s, acc=98.4, loss=0.0357]\n"
     ]
    },
    {
     "name": "stdout",
     "output_type": "stream",
     "text": [
      "✅ Fold 4: Test Accuracy = 97.90%\n",
      "🎯 New best model saved with accuracy: 97.90%\n"
     ]
    },
    {
     "name": "stderr",
     "output_type": "stream",
     "text": [
      "Epoch [5/50]: 100%|████| 282/282 [01:27<00:00,  3.23it/s, acc=98.8, loss=0.0848]\n"
     ]
    },
    {
     "name": "stdout",
     "output_type": "stream",
     "text": [
      "✅ Fold 4: Test Accuracy = 97.11%\n"
     ]
    },
    {
     "name": "stderr",
     "output_type": "stream",
     "text": [
      "Epoch [6/50]: 100%|████| 282/282 [01:27<00:00,  3.22it/s, acc=98.6, loss=0.0683]\n"
     ]
    },
    {
     "name": "stdout",
     "output_type": "stream",
     "text": [
      "✅ Fold 4: Test Accuracy = 97.50%\n"
     ]
    },
    {
     "name": "stderr",
     "output_type": "stream",
     "text": [
      "Epoch [7/50]: 100%|███| 282/282 [01:27<00:00,  3.22it/s, acc=98.8, loss=0.00491]\n"
     ]
    },
    {
     "name": "stdout",
     "output_type": "stream",
     "text": [
      "✅ Fold 4: Test Accuracy = 98.00%\n",
      "🎯 New best model saved with accuracy: 98.00%\n"
     ]
    },
    {
     "name": "stderr",
     "output_type": "stream",
     "text": [
      "Epoch [8/50]: 100%|████| 282/282 [01:27<00:00,  3.23it/s, acc=98.9, loss=0.0306]\n"
     ]
    },
    {
     "name": "stdout",
     "output_type": "stream",
     "text": [
      "✅ Fold 4: Test Accuracy = 97.80%\n"
     ]
    },
    {
     "name": "stderr",
     "output_type": "stream",
     "text": [
      "Epoch [9/50]: 100%|███| 282/282 [01:27<00:00,  3.22it/s, acc=99.1, loss=0.00298]\n"
     ]
    },
    {
     "name": "stdout",
     "output_type": "stream",
     "text": [
      "✅ Fold 4: Test Accuracy = 98.00%\n"
     ]
    },
    {
     "name": "stderr",
     "output_type": "stream",
     "text": [
      "Epoch [10/50]: 100%|█████| 282/282 [01:27<00:00,  3.22it/s, acc=99, loss=0.0445]\n"
     ]
    },
    {
     "name": "stdout",
     "output_type": "stream",
     "text": [
      "✅ Fold 4: Test Accuracy = 96.91%\n"
     ]
    },
    {
     "name": "stderr",
     "output_type": "stream",
     "text": [
      "Epoch [11/50]: 100%|███| 282/282 [01:27<00:00,  3.22it/s, acc=99.4, loss=0.0822]\n"
     ]
    },
    {
     "name": "stdout",
     "output_type": "stream",
     "text": [
      "✅ Fold 4: Test Accuracy = 97.60%\n"
     ]
    },
    {
     "name": "stderr",
     "output_type": "stream",
     "text": [
      "Epoch [12/50]: 100%|████| 282/282 [01:27<00:00,  3.22it/s, acc=99.5, loss=0.002]\n"
     ]
    },
    {
     "name": "stdout",
     "output_type": "stream",
     "text": [
      "✅ Fold 4: Test Accuracy = 97.31%\n"
     ]
    },
    {
     "name": "stderr",
     "output_type": "stream",
     "text": [
      "Epoch [13/50]: 100%|██| 282/282 [01:27<00:00,  3.22it/s, acc=99.3, loss=4.84e-5]\n"
     ]
    },
    {
     "name": "stdout",
     "output_type": "stream",
     "text": [
      "✅ Fold 4: Test Accuracy = 97.41%\n"
     ]
    },
    {
     "name": "stderr",
     "output_type": "stream",
     "text": [
      "Epoch [14/50]: 100%|██| 282/282 [01:27<00:00,  3.22it/s, acc=99.4, loss=0.00215]\n"
     ]
    },
    {
     "name": "stdout",
     "output_type": "stream",
     "text": [
      "✅ Fold 4: Test Accuracy = 97.41%\n"
     ]
    },
    {
     "name": "stderr",
     "output_type": "stream",
     "text": [
      "Epoch [15/50]: 100%|█| 282/282 [01:27<00:00,  3.22it/s, acc=99.4, loss=0.000663]\n"
     ]
    },
    {
     "name": "stdout",
     "output_type": "stream",
     "text": [
      "✅ Fold 4: Test Accuracy = 97.60%\n"
     ]
    },
    {
     "name": "stderr",
     "output_type": "stream",
     "text": [
      "Epoch [16/50]: 100%|█| 282/282 [01:27<00:00,  3.22it/s, acc=99.4, loss=0.000823]\n"
     ]
    },
    {
     "name": "stdout",
     "output_type": "stream",
     "text": [
      "✅ Fold 4: Test Accuracy = 97.50%\n"
     ]
    },
    {
     "name": "stderr",
     "output_type": "stream",
     "text": [
      "Epoch [17/50]: 100%|█| 282/282 [01:27<00:00,  3.22it/s, acc=99.5, loss=0.000643]\n"
     ]
    },
    {
     "name": "stdout",
     "output_type": "stream",
     "text": [
      "✅ Fold 4: Test Accuracy = 98.10%\n",
      "🎯 New best model saved with accuracy: 98.10%\n"
     ]
    },
    {
     "name": "stderr",
     "output_type": "stream",
     "text": [
      "Epoch [18/50]: 100%|██| 282/282 [01:27<00:00,  3.23it/s, acc=99.4, loss=0.00148]\n"
     ]
    },
    {
     "name": "stdout",
     "output_type": "stream",
     "text": [
      "✅ Fold 4: Test Accuracy = 98.00%\n"
     ]
    },
    {
     "name": "stderr",
     "output_type": "stream",
     "text": [
      "Epoch [19/50]: 100%|██| 282/282 [01:27<00:00,  3.22it/s, acc=99.5, loss=0.00317]\n"
     ]
    },
    {
     "name": "stdout",
     "output_type": "stream",
     "text": [
      "✅ Fold 4: Test Accuracy = 97.80%\n"
     ]
    },
    {
     "name": "stderr",
     "output_type": "stream",
     "text": [
      "Epoch [20/50]: 100%|█| 282/282 [01:27<00:00,  3.22it/s, acc=99.3, loss=0.000467]\n"
     ]
    },
    {
     "name": "stdout",
     "output_type": "stream",
     "text": [
      "✅ Fold 4: Test Accuracy = 97.60%\n"
     ]
    },
    {
     "name": "stderr",
     "output_type": "stream",
     "text": [
      "Epoch [21/50]: 100%|██| 282/282 [01:27<00:00,  3.22it/s, acc=99.6, loss=0.00349]\n"
     ]
    },
    {
     "name": "stdout",
     "output_type": "stream",
     "text": [
      "✅ Fold 4: Test Accuracy = 97.80%\n"
     ]
    },
    {
     "name": "stderr",
     "output_type": "stream",
     "text": [
      "Epoch [22/50]: 100%|██| 282/282 [01:27<00:00,  3.22it/s, acc=99.5, loss=0.00693]\n"
     ]
    },
    {
     "name": "stdout",
     "output_type": "stream",
     "text": [
      "✅ Fold 4: Test Accuracy = 97.90%\n"
     ]
    },
    {
     "name": "stderr",
     "output_type": "stream",
     "text": [
      "Epoch [23/50]: 100%|███| 282/282 [01:27<00:00,  3.22it/s, acc=99.5, loss=0.0287]\n"
     ]
    },
    {
     "name": "stdout",
     "output_type": "stream",
     "text": [
      "✅ Fold 4: Test Accuracy = 97.90%\n"
     ]
    },
    {
     "name": "stderr",
     "output_type": "stream",
     "text": [
      "Epoch [24/50]: 100%|██| 282/282 [01:27<00:00,  3.22it/s, acc=99.5, loss=0.00059]\n"
     ]
    },
    {
     "name": "stdout",
     "output_type": "stream",
     "text": [
      "✅ Fold 4: Test Accuracy = 97.60%\n"
     ]
    },
    {
     "name": "stderr",
     "output_type": "stream",
     "text": [
      "Epoch [25/50]: 100%|███| 282/282 [01:27<00:00,  3.22it/s, acc=99.6, loss=0.0014]\n"
     ]
    },
    {
     "name": "stdout",
     "output_type": "stream",
     "text": [
      "✅ Fold 4: Test Accuracy = 98.00%\n"
     ]
    },
    {
     "name": "stderr",
     "output_type": "stream",
     "text": [
      "Epoch [26/50]: 100%|██| 282/282 [01:27<00:00,  3.22it/s, acc=99.6, loss=0.00101]\n"
     ]
    },
    {
     "name": "stdout",
     "output_type": "stream",
     "text": [
      "✅ Fold 4: Test Accuracy = 97.80%\n"
     ]
    },
    {
     "name": "stderr",
     "output_type": "stream",
     "text": [
      "Epoch [27/50]: 100%|██| 282/282 [01:27<00:00,  3.22it/s, acc=99.7, loss=0.00183]\n"
     ]
    },
    {
     "name": "stdout",
     "output_type": "stream",
     "text": [
      "✅ Fold 4: Test Accuracy = 97.60%\n"
     ]
    },
    {
     "name": "stderr",
     "output_type": "stream",
     "text": [
      "Epoch [28/50]: 100%|██| 282/282 [01:27<00:00,  3.22it/s, acc=99.6, loss=0.00359]\n"
     ]
    },
    {
     "name": "stdout",
     "output_type": "stream",
     "text": [
      "✅ Fold 4: Test Accuracy = 98.00%\n"
     ]
    },
    {
     "name": "stderr",
     "output_type": "stream",
     "text": [
      "Epoch [29/50]: 100%|█| 282/282 [01:27<00:00,  3.22it/s, acc=99.5, loss=0.000128]\n"
     ]
    },
    {
     "name": "stdout",
     "output_type": "stream",
     "text": [
      "✅ Fold 4: Test Accuracy = 97.70%\n"
     ]
    },
    {
     "name": "stderr",
     "output_type": "stream",
     "text": [
      "Epoch [30/50]: 100%|████| 282/282 [01:27<00:00,  3.22it/s, acc=99.6, loss=0.018]\n"
     ]
    },
    {
     "name": "stdout",
     "output_type": "stream",
     "text": [
      "✅ Fold 4: Test Accuracy = 97.90%\n"
     ]
    },
    {
     "name": "stderr",
     "output_type": "stream",
     "text": [
      "Epoch [31/50]: 100%|██| 282/282 [01:27<00:00,  3.22it/s, acc=99.7, loss=7.27e-5]\n"
     ]
    },
    {
     "name": "stdout",
     "output_type": "stream",
     "text": [
      "✅ Fold 4: Test Accuracy = 97.80%\n"
     ]
    },
    {
     "name": "stderr",
     "output_type": "stream",
     "text": [
      "Epoch [32/50]: 100%|█| 282/282 [01:27<00:00,  3.22it/s, acc=99.6, loss=0.000512]\n"
     ]
    },
    {
     "name": "stdout",
     "output_type": "stream",
     "text": [
      "✅ Fold 4: Test Accuracy = 97.80%\n"
     ]
    },
    {
     "name": "stderr",
     "output_type": "stream",
     "text": [
      "Epoch [33/50]: 100%|█| 282/282 [01:27<00:00,  3.22it/s, acc=99.7, loss=0.000466]\n"
     ]
    },
    {
     "name": "stdout",
     "output_type": "stream",
     "text": [
      "✅ Fold 4: Test Accuracy = 97.41%\n"
     ]
    },
    {
     "name": "stderr",
     "output_type": "stream",
     "text": [
      "Epoch [34/50]: 100%|█| 282/282 [01:27<00:00,  3.22it/s, acc=99.7, loss=0.000211]\n"
     ]
    },
    {
     "name": "stdout",
     "output_type": "stream",
     "text": [
      "✅ Fold 4: Test Accuracy = 97.70%\n"
     ]
    },
    {
     "name": "stderr",
     "output_type": "stream",
     "text": [
      "Epoch [35/50]: 100%|██| 282/282 [01:27<00:00,  3.22it/s, acc=99.7, loss=0.00062]\n"
     ]
    },
    {
     "name": "stdout",
     "output_type": "stream",
     "text": [
      "✅ Fold 4: Test Accuracy = 97.90%\n"
     ]
    },
    {
     "name": "stderr",
     "output_type": "stream",
     "text": [
      "Epoch [36/50]: 100%|███| 282/282 [01:27<00:00,  3.22it/s, acc=99.8, loss=0.0214]\n"
     ]
    },
    {
     "name": "stdout",
     "output_type": "stream",
     "text": [
      "✅ Fold 4: Test Accuracy = 98.40%\n",
      "🎯 New best model saved with accuracy: 98.40%\n"
     ]
    },
    {
     "name": "stderr",
     "output_type": "stream",
     "text": [
      "Epoch [37/50]: 100%|██| 282/282 [01:27<00:00,  3.22it/s, acc=99.6, loss=0.00377]\n"
     ]
    },
    {
     "name": "stdout",
     "output_type": "stream",
     "text": [
      "✅ Fold 4: Test Accuracy = 97.90%\n"
     ]
    },
    {
     "name": "stderr",
     "output_type": "stream",
     "text": [
      "Epoch [38/50]: 100%|█| 282/282 [01:27<00:00,  3.22it/s, acc=99.7, loss=0.000179]\n"
     ]
    },
    {
     "name": "stdout",
     "output_type": "stream",
     "text": [
      "✅ Fold 4: Test Accuracy = 98.00%\n"
     ]
    },
    {
     "name": "stderr",
     "output_type": "stream",
     "text": [
      "Epoch [39/50]: 100%|██| 282/282 [01:27<00:00,  3.22it/s, acc=99.7, loss=0.00387]\n"
     ]
    },
    {
     "name": "stdout",
     "output_type": "stream",
     "text": [
      "✅ Fold 4: Test Accuracy = 98.00%\n"
     ]
    },
    {
     "name": "stderr",
     "output_type": "stream",
     "text": [
      "Epoch [40/50]: 100%|█| 282/282 [01:27<00:00,  3.22it/s, acc=99.7, loss=0.000571]\n"
     ]
    },
    {
     "name": "stdout",
     "output_type": "stream",
     "text": [
      "✅ Fold 4: Test Accuracy = 98.10%\n"
     ]
    },
    {
     "name": "stderr",
     "output_type": "stream",
     "text": [
      "Epoch [41/50]: 100%|█| 282/282 [01:27<00:00,  3.22it/s, acc=99.6, loss=0.000532]\n"
     ]
    },
    {
     "name": "stdout",
     "output_type": "stream",
     "text": [
      "✅ Fold 4: Test Accuracy = 97.31%\n"
     ]
    },
    {
     "name": "stderr",
     "output_type": "stream",
     "text": [
      "Epoch [42/50]: 100%|█| 282/282 [01:27<00:00,  3.22it/s, acc=99.7, loss=0.000378]\n"
     ]
    },
    {
     "name": "stdout",
     "output_type": "stream",
     "text": [
      "✅ Fold 4: Test Accuracy = 98.20%\n"
     ]
    },
    {
     "name": "stderr",
     "output_type": "stream",
     "text": [
      "Epoch [43/50]: 100%|██| 282/282 [01:27<00:00,  3.22it/s, acc=99.7, loss=0.00203]\n"
     ]
    },
    {
     "name": "stdout",
     "output_type": "stream",
     "text": [
      "✅ Fold 4: Test Accuracy = 97.50%\n"
     ]
    },
    {
     "name": "stderr",
     "output_type": "stream",
     "text": [
      "Epoch [44/50]: 100%|█| 282/282 [01:27<00:00,  3.22it/s, acc=99.8, loss=0.000643]\n"
     ]
    },
    {
     "name": "stdout",
     "output_type": "stream",
     "text": [
      "✅ Fold 4: Test Accuracy = 98.10%\n"
     ]
    },
    {
     "name": "stderr",
     "output_type": "stream",
     "text": [
      "Epoch [45/50]: 100%|█| 282/282 [01:27<00:00,  3.22it/s, acc=99.7, loss=0.000726]\n"
     ]
    },
    {
     "name": "stdout",
     "output_type": "stream",
     "text": [
      "✅ Fold 4: Test Accuracy = 98.30%\n"
     ]
    },
    {
     "name": "stderr",
     "output_type": "stream",
     "text": [
      "Epoch [46/50]: 100%|██| 282/282 [01:27<00:00,  3.22it/s, acc=99.7, loss=0.00728]\n"
     ]
    },
    {
     "name": "stdout",
     "output_type": "stream",
     "text": [
      "✅ Fold 4: Test Accuracy = 97.41%\n"
     ]
    },
    {
     "name": "stderr",
     "output_type": "stream",
     "text": [
      "Epoch [47/50]: 100%|█| 282/282 [01:27<00:00,  3.22it/s, acc=99.8, loss=0.000338]\n"
     ]
    },
    {
     "name": "stdout",
     "output_type": "stream",
     "text": [
      "✅ Fold 4: Test Accuracy = 97.70%\n"
     ]
    },
    {
     "name": "stderr",
     "output_type": "stream",
     "text": [
      "Epoch [48/50]: 100%|██| 282/282 [01:27<00:00,  3.22it/s, acc=99.8, loss=0.00126]\n"
     ]
    },
    {
     "name": "stdout",
     "output_type": "stream",
     "text": [
      "✅ Fold 4: Test Accuracy = 97.31%\n"
     ]
    },
    {
     "name": "stderr",
     "output_type": "stream",
     "text": [
      "Epoch [49/50]: 100%|██| 282/282 [01:27<00:00,  3.22it/s, acc=99.8, loss=0.00192]\n"
     ]
    },
    {
     "name": "stdout",
     "output_type": "stream",
     "text": [
      "✅ Fold 4: Test Accuracy = 97.31%\n"
     ]
    },
    {
     "name": "stderr",
     "output_type": "stream",
     "text": [
      "Epoch [50/50]: 100%|███| 282/282 [01:27<00:00,  3.22it/s, acc=99.6, loss=0.0936]\n"
     ]
    },
    {
     "name": "stdout",
     "output_type": "stream",
     "text": [
      "✅ Fold 4: Test Accuracy = 98.10%\n",
      "\n",
      "🚀 Training Fold 5/10\n"
     ]
    },
    {
     "name": "stderr",
     "output_type": "stream",
     "text": [
      "Epoch [1/50]: 100%|█████| 282/282 [01:27<00:00,  3.22it/s, acc=92.1, loss=0.244]\n"
     ]
    },
    {
     "name": "stdout",
     "output_type": "stream",
     "text": [
      "✅ Fold 5: Test Accuracy = 96.91%\n",
      "🎯 New best model saved with accuracy: 96.91%\n"
     ]
    },
    {
     "name": "stderr",
     "output_type": "stream",
     "text": [
      "Epoch [2/50]: 100%|████| 282/282 [01:27<00:00,  3.22it/s, acc=98.4, loss=0.0225]\n"
     ]
    },
    {
     "name": "stdout",
     "output_type": "stream",
     "text": [
      "✅ Fold 5: Test Accuracy = 98.10%\n",
      "🎯 New best model saved with accuracy: 98.10%\n"
     ]
    },
    {
     "name": "stderr",
     "output_type": "stream",
     "text": [
      "Epoch [3/50]: 100%|███| 282/282 [01:27<00:00,  3.23it/s, acc=98.8, loss=0.00832]\n"
     ]
    },
    {
     "name": "stdout",
     "output_type": "stream",
     "text": [
      "✅ Fold 5: Test Accuracy = 98.30%\n",
      "🎯 New best model saved with accuracy: 98.30%\n"
     ]
    },
    {
     "name": "stderr",
     "output_type": "stream",
     "text": [
      "Epoch [4/50]: 100%|████| 282/282 [01:27<00:00,  3.23it/s, acc=99.1, loss=0.0558]\n"
     ]
    },
    {
     "name": "stdout",
     "output_type": "stream",
     "text": [
      "✅ Fold 5: Test Accuracy = 97.80%\n"
     ]
    },
    {
     "name": "stderr",
     "output_type": "stream",
     "text": [
      "Epoch [5/50]: 100%|███████| 282/282 [01:27<00:00,  3.22it/s, acc=99.2, loss=0.2]\n"
     ]
    },
    {
     "name": "stdout",
     "output_type": "stream",
     "text": [
      "✅ Fold 5: Test Accuracy = 97.01%\n"
     ]
    },
    {
     "name": "stderr",
     "output_type": "stream",
     "text": [
      "Epoch [6/50]: 100%|██| 282/282 [01:27<00:00,  3.22it/s, acc=99.3, loss=0.000388]\n"
     ]
    },
    {
     "name": "stdout",
     "output_type": "stream",
     "text": [
      "✅ Fold 5: Test Accuracy = 98.40%\n",
      "🎯 New best model saved with accuracy: 98.40%\n"
     ]
    },
    {
     "name": "stderr",
     "output_type": "stream",
     "text": [
      "Epoch [7/50]: 100%|████| 282/282 [01:27<00:00,  3.23it/s, acc=99.3, loss=0.0244]\n"
     ]
    },
    {
     "name": "stdout",
     "output_type": "stream",
     "text": [
      "✅ Fold 5: Test Accuracy = 97.50%\n"
     ]
    },
    {
     "name": "stderr",
     "output_type": "stream",
     "text": [
      "Epoch [8/50]: 100%|███| 282/282 [01:27<00:00,  3.22it/s, acc=99.5, loss=0.00107]\n"
     ]
    },
    {
     "name": "stdout",
     "output_type": "stream",
     "text": [
      "✅ Fold 5: Test Accuracy = 98.20%\n"
     ]
    },
    {
     "name": "stderr",
     "output_type": "stream",
     "text": [
      "Epoch [9/50]: 100%|█████| 282/282 [01:27<00:00,  3.22it/s, acc=99.6, loss=0.084]\n"
     ]
    },
    {
     "name": "stdout",
     "output_type": "stream",
     "text": [
      "✅ Fold 5: Test Accuracy = 98.50%\n",
      "🎯 New best model saved with accuracy: 98.50%\n"
     ]
    },
    {
     "name": "stderr",
     "output_type": "stream",
     "text": [
      "Epoch [10/50]: 100%|█| 282/282 [01:27<00:00,  3.23it/s, acc=99.5, loss=0.000201]\n"
     ]
    },
    {
     "name": "stdout",
     "output_type": "stream",
     "text": [
      "✅ Fold 5: Test Accuracy = 99.20%\n",
      "🎯 New best model saved with accuracy: 99.20%\n"
     ]
    },
    {
     "name": "stderr",
     "output_type": "stream",
     "text": [
      "Epoch [11/50]: 100%|██| 282/282 [01:27<00:00,  3.23it/s, acc=99.5, loss=0.00362]\n"
     ]
    },
    {
     "name": "stdout",
     "output_type": "stream",
     "text": [
      "✅ Fold 5: Test Accuracy = 99.10%\n"
     ]
    },
    {
     "name": "stderr",
     "output_type": "stream",
     "text": [
      "Epoch [12/50]: 100%|██| 282/282 [01:27<00:00,  3.22it/s, acc=99.6, loss=0.00116]\n"
     ]
    },
    {
     "name": "stdout",
     "output_type": "stream",
     "text": [
      "✅ Fold 5: Test Accuracy = 98.70%\n"
     ]
    },
    {
     "name": "stderr",
     "output_type": "stream",
     "text": [
      "Epoch [13/50]: 100%|███| 282/282 [01:27<00:00,  3.22it/s, acc=99.6, loss=0.0664]\n"
     ]
    },
    {
     "name": "stdout",
     "output_type": "stream",
     "text": [
      "✅ Fold 5: Test Accuracy = 98.90%\n"
     ]
    },
    {
     "name": "stderr",
     "output_type": "stream",
     "text": [
      "Epoch [14/50]: 100%|██| 282/282 [01:27<00:00,  3.22it/s, acc=99.6, loss=0.00143]\n"
     ]
    },
    {
     "name": "stdout",
     "output_type": "stream",
     "text": [
      "✅ Fold 5: Test Accuracy = 98.00%\n"
     ]
    },
    {
     "name": "stderr",
     "output_type": "stream",
     "text": [
      "Epoch [15/50]: 100%|███| 282/282 [01:27<00:00,  3.22it/s, acc=99.6, loss=0.0196]\n"
     ]
    },
    {
     "name": "stdout",
     "output_type": "stream",
     "text": [
      "✅ Fold 5: Test Accuracy = 98.40%\n"
     ]
    },
    {
     "name": "stderr",
     "output_type": "stream",
     "text": [
      "Epoch [16/50]: 100%|███| 282/282 [01:27<00:00,  3.22it/s, acc=99.6, loss=0.0326]\n"
     ]
    },
    {
     "name": "stdout",
     "output_type": "stream",
     "text": [
      "✅ Fold 5: Test Accuracy = 98.50%\n"
     ]
    },
    {
     "name": "stderr",
     "output_type": "stream",
     "text": [
      "Epoch [17/50]: 100%|█| 282/282 [01:27<00:00,  3.22it/s, acc=99.5, loss=0.000633]\n"
     ]
    },
    {
     "name": "stdout",
     "output_type": "stream",
     "text": [
      "✅ Fold 5: Test Accuracy = 98.40%\n"
     ]
    },
    {
     "name": "stderr",
     "output_type": "stream",
     "text": [
      "Epoch [18/50]: 100%|█| 282/282 [01:27<00:00,  3.22it/s, acc=99.7, loss=0.000375]\n"
     ]
    },
    {
     "name": "stdout",
     "output_type": "stream",
     "text": [
      "✅ Fold 5: Test Accuracy = 99.00%\n"
     ]
    },
    {
     "name": "stderr",
     "output_type": "stream",
     "text": [
      "Epoch [19/50]: 100%|███| 282/282 [01:27<00:00,  3.22it/s, acc=99.7, loss=0.0147]\n"
     ]
    },
    {
     "name": "stdout",
     "output_type": "stream",
     "text": [
      "✅ Fold 5: Test Accuracy = 98.20%\n"
     ]
    },
    {
     "name": "stderr",
     "output_type": "stream",
     "text": [
      "Epoch [20/50]: 100%|█| 282/282 [01:27<00:00,  3.22it/s, acc=99.6, loss=0.000999]\n"
     ]
    },
    {
     "name": "stdout",
     "output_type": "stream",
     "text": [
      "✅ Fold 5: Test Accuracy = 98.20%\n"
     ]
    },
    {
     "name": "stderr",
     "output_type": "stream",
     "text": [
      "Epoch [21/50]: 100%|██| 282/282 [01:27<00:00,  3.22it/s, acc=99.7, loss=4.62e-5]\n"
     ]
    },
    {
     "name": "stdout",
     "output_type": "stream",
     "text": [
      "✅ Fold 5: Test Accuracy = 98.30%\n"
     ]
    },
    {
     "name": "stderr",
     "output_type": "stream",
     "text": [
      "Epoch [22/50]: 100%|█| 282/282 [01:27<00:00,  3.22it/s, acc=99.8, loss=0.000209]\n"
     ]
    },
    {
     "name": "stdout",
     "output_type": "stream",
     "text": [
      "✅ Fold 5: Test Accuracy = 98.20%\n"
     ]
    },
    {
     "name": "stderr",
     "output_type": "stream",
     "text": [
      "Epoch [23/50]: 100%|██| 282/282 [01:27<00:00,  3.22it/s, acc=99.8, loss=0.00143]\n"
     ]
    },
    {
     "name": "stdout",
     "output_type": "stream",
     "text": [
      "✅ Fold 5: Test Accuracy = 98.60%\n"
     ]
    },
    {
     "name": "stderr",
     "output_type": "stream",
     "text": [
      "Epoch [24/50]: 100%|██| 282/282 [01:27<00:00,  3.22it/s, acc=99.8, loss=0.00118]\n"
     ]
    },
    {
     "name": "stdout",
     "output_type": "stream",
     "text": [
      "✅ Fold 5: Test Accuracy = 98.90%\n"
     ]
    },
    {
     "name": "stderr",
     "output_type": "stream",
     "text": [
      "Epoch [25/50]: 100%|███| 282/282 [01:27<00:00,  3.22it/s, acc=99.8, loss=0.0462]\n"
     ]
    },
    {
     "name": "stdout",
     "output_type": "stream",
     "text": [
      "✅ Fold 5: Test Accuracy = 98.60%\n"
     ]
    },
    {
     "name": "stderr",
     "output_type": "stream",
     "text": [
      "Epoch [26/50]: 100%|██| 282/282 [01:27<00:00,  3.22it/s, acc=99.8, loss=0.00518]\n"
     ]
    },
    {
     "name": "stdout",
     "output_type": "stream",
     "text": [
      "✅ Fold 5: Test Accuracy = 98.80%\n"
     ]
    },
    {
     "name": "stderr",
     "output_type": "stream",
     "text": [
      "Epoch [27/50]: 100%|█| 282/282 [01:27<00:00,  3.22it/s, acc=99.7, loss=0.000246]\n"
     ]
    },
    {
     "name": "stdout",
     "output_type": "stream",
     "text": [
      "✅ Fold 5: Test Accuracy = 98.60%\n"
     ]
    },
    {
     "name": "stderr",
     "output_type": "stream",
     "text": [
      "Epoch [28/50]: 100%|███| 282/282 [01:27<00:00,  3.22it/s, acc=99.7, loss=0.0113]\n"
     ]
    },
    {
     "name": "stdout",
     "output_type": "stream",
     "text": [
      "✅ Fold 5: Test Accuracy = 98.40%\n"
     ]
    },
    {
     "name": "stderr",
     "output_type": "stream",
     "text": [
      "Epoch [29/50]: 100%|███| 282/282 [01:27<00:00,  3.22it/s, acc=99.8, loss=0.0323]\n"
     ]
    },
    {
     "name": "stdout",
     "output_type": "stream",
     "text": [
      "✅ Fold 5: Test Accuracy = 98.70%\n"
     ]
    },
    {
     "name": "stderr",
     "output_type": "stream",
     "text": [
      "Epoch [30/50]: 100%|█| 282/282 [01:27<00:00,  3.22it/s, acc=99.8, loss=0.000286]\n"
     ]
    },
    {
     "name": "stdout",
     "output_type": "stream",
     "text": [
      "✅ Fold 5: Test Accuracy = 98.30%\n"
     ]
    },
    {
     "name": "stderr",
     "output_type": "stream",
     "text": [
      "Epoch [31/50]: 100%|██| 282/282 [01:27<00:00,  3.22it/s, acc=99.8, loss=0.00143]\n"
     ]
    },
    {
     "name": "stdout",
     "output_type": "stream",
     "text": [
      "✅ Fold 5: Test Accuracy = 99.10%\n"
     ]
    },
    {
     "name": "stderr",
     "output_type": "stream",
     "text": [
      "Epoch [32/50]: 100%|██| 282/282 [01:27<00:00,  3.22it/s, acc=99.8, loss=0.00117]\n"
     ]
    },
    {
     "name": "stdout",
     "output_type": "stream",
     "text": [
      "✅ Fold 5: Test Accuracy = 98.50%\n"
     ]
    },
    {
     "name": "stderr",
     "output_type": "stream",
     "text": [
      "Epoch [33/50]: 100%|█| 282/282 [01:27<00:00,  3.22it/s, acc=99.9, loss=0.000499]\n"
     ]
    },
    {
     "name": "stdout",
     "output_type": "stream",
     "text": [
      "✅ Fold 5: Test Accuracy = 98.30%\n"
     ]
    },
    {
     "name": "stderr",
     "output_type": "stream",
     "text": [
      "Epoch [34/50]: 100%|██| 282/282 [01:27<00:00,  3.22it/s, acc=99.8, loss=0.00397]\n"
     ]
    },
    {
     "name": "stdout",
     "output_type": "stream",
     "text": [
      "✅ Fold 5: Test Accuracy = 97.90%\n"
     ]
    },
    {
     "name": "stderr",
     "output_type": "stream",
     "text": [
      "Epoch [35/50]: 100%|█| 282/282 [01:27<00:00,  3.22it/s, acc=99.9, loss=0.000369]\n"
     ]
    },
    {
     "name": "stdout",
     "output_type": "stream",
     "text": [
      "✅ Fold 5: Test Accuracy = 98.20%\n"
     ]
    },
    {
     "name": "stderr",
     "output_type": "stream",
     "text": [
      "Epoch [36/50]: 100%|███| 282/282 [01:27<00:00,  3.22it/s, acc=99.8, loss=6.4e-5]\n"
     ]
    },
    {
     "name": "stdout",
     "output_type": "stream",
     "text": [
      "✅ Fold 5: Test Accuracy = 98.50%\n"
     ]
    },
    {
     "name": "stderr",
     "output_type": "stream",
     "text": [
      "Epoch [37/50]: 100%|███| 282/282 [01:27<00:00,  3.22it/s, acc=99.8, loss=0.0804]\n"
     ]
    },
    {
     "name": "stdout",
     "output_type": "stream",
     "text": [
      "✅ Fold 5: Test Accuracy = 98.80%\n"
     ]
    },
    {
     "name": "stderr",
     "output_type": "stream",
     "text": [
      "Epoch [38/50]: 100%|██| 282/282 [01:27<00:00,  3.22it/s, acc=99.8, loss=6.05e-5]\n"
     ]
    },
    {
     "name": "stdout",
     "output_type": "stream",
     "text": [
      "✅ Fold 5: Test Accuracy = 98.60%\n"
     ]
    },
    {
     "name": "stderr",
     "output_type": "stream",
     "text": [
      "Epoch [39/50]: 100%|██| 282/282 [01:27<00:00,  3.22it/s, acc=99.8, loss=2.48e-5]\n"
     ]
    },
    {
     "name": "stdout",
     "output_type": "stream",
     "text": [
      "✅ Fold 5: Test Accuracy = 99.10%\n"
     ]
    },
    {
     "name": "stderr",
     "output_type": "stream",
     "text": [
      "Epoch [40/50]: 100%|██| 282/282 [01:27<00:00,  3.22it/s, acc=99.8, loss=0.00255]\n"
     ]
    },
    {
     "name": "stdout",
     "output_type": "stream",
     "text": [
      "✅ Fold 5: Test Accuracy = 98.70%\n"
     ]
    },
    {
     "name": "stderr",
     "output_type": "stream",
     "text": [
      "Epoch [41/50]: 100%|███| 282/282 [01:27<00:00,  3.22it/s, acc=99.7, loss=0.0012]\n"
     ]
    },
    {
     "name": "stdout",
     "output_type": "stream",
     "text": [
      "✅ Fold 5: Test Accuracy = 98.50%\n"
     ]
    },
    {
     "name": "stderr",
     "output_type": "stream",
     "text": [
      "Epoch [42/50]: 100%|██| 282/282 [01:27<00:00,  3.22it/s, acc=99.9, loss=0.00749]\n"
     ]
    },
    {
     "name": "stdout",
     "output_type": "stream",
     "text": [
      "✅ Fold 5: Test Accuracy = 98.70%\n"
     ]
    },
    {
     "name": "stderr",
     "output_type": "stream",
     "text": [
      "Epoch [43/50]: 100%|██| 282/282 [01:27<00:00,  3.22it/s, acc=99.9, loss=3.99e-5]\n"
     ]
    },
    {
     "name": "stdout",
     "output_type": "stream",
     "text": [
      "✅ Fold 5: Test Accuracy = 99.00%\n"
     ]
    },
    {
     "name": "stderr",
     "output_type": "stream",
     "text": [
      "Epoch [44/50]: 100%|██| 282/282 [01:27<00:00,  3.22it/s, acc=99.8, loss=3.33e-5]\n"
     ]
    },
    {
     "name": "stdout",
     "output_type": "stream",
     "text": [
      "✅ Fold 5: Test Accuracy = 99.00%\n"
     ]
    },
    {
     "name": "stderr",
     "output_type": "stream",
     "text": [
      "Epoch [45/50]: 100%|███| 282/282 [01:27<00:00,  3.22it/s, acc=99.8, loss=0.0212]\n"
     ]
    },
    {
     "name": "stdout",
     "output_type": "stream",
     "text": [
      "✅ Fold 5: Test Accuracy = 99.20%\n"
     ]
    },
    {
     "name": "stderr",
     "output_type": "stream",
     "text": [
      "Epoch [46/50]: 100%|███| 282/282 [01:27<00:00,  3.22it/s, acc=99.8, loss=0.0555]\n"
     ]
    },
    {
     "name": "stdout",
     "output_type": "stream",
     "text": [
      "✅ Fold 5: Test Accuracy = 98.90%\n"
     ]
    },
    {
     "name": "stderr",
     "output_type": "stream",
     "text": [
      "Epoch [47/50]: 100%|█| 282/282 [01:27<00:00,  3.22it/s, acc=99.8, loss=0.000812]\n"
     ]
    },
    {
     "name": "stdout",
     "output_type": "stream",
     "text": [
      "✅ Fold 5: Test Accuracy = 98.90%\n"
     ]
    },
    {
     "name": "stderr",
     "output_type": "stream",
     "text": [
      "Epoch [48/50]: 100%|█| 282/282 [01:27<00:00,  3.22it/s, acc=99.9, loss=0.000878]\n"
     ]
    },
    {
     "name": "stdout",
     "output_type": "stream",
     "text": [
      "✅ Fold 5: Test Accuracy = 99.10%\n"
     ]
    },
    {
     "name": "stderr",
     "output_type": "stream",
     "text": [
      "Epoch [49/50]: 100%|██| 282/282 [01:27<00:00,  3.22it/s, acc=99.8, loss=0.00464]\n"
     ]
    },
    {
     "name": "stdout",
     "output_type": "stream",
     "text": [
      "✅ Fold 5: Test Accuracy = 98.60%\n"
     ]
    },
    {
     "name": "stderr",
     "output_type": "stream",
     "text": [
      "Epoch [50/50]: 100%|█| 282/282 [01:27<00:00,  3.22it/s, acc=99.9, loss=0.000229]\n"
     ]
    },
    {
     "name": "stdout",
     "output_type": "stream",
     "text": [
      "✅ Fold 5: Test Accuracy = 98.70%\n",
      "\n",
      "🚀 Training Fold 6/10\n"
     ]
    },
    {
     "name": "stderr",
     "output_type": "stream",
     "text": [
      "Epoch [1/50]: 100%|████| 282/282 [01:27<00:00,  3.22it/s, acc=93.9, loss=0.0308]\n"
     ]
    },
    {
     "name": "stdout",
     "output_type": "stream",
     "text": [
      "✅ Fold 6: Test Accuracy = 97.30%\n",
      "🎯 New best model saved with accuracy: 97.30%\n"
     ]
    },
    {
     "name": "stderr",
     "output_type": "stream",
     "text": [
      "Epoch [2/50]: 100%|███| 282/282 [01:27<00:00,  3.22it/s, acc=98.9, loss=0.00651]\n"
     ]
    },
    {
     "name": "stdout",
     "output_type": "stream",
     "text": [
      "✅ Fold 6: Test Accuracy = 99.00%\n",
      "🎯 New best model saved with accuracy: 99.00%\n"
     ]
    },
    {
     "name": "stderr",
     "output_type": "stream",
     "text": [
      "Epoch [3/50]: 100%|███| 282/282 [01:27<00:00,  3.23it/s, acc=99.2, loss=0.00388]\n"
     ]
    },
    {
     "name": "stdout",
     "output_type": "stream",
     "text": [
      "✅ Fold 6: Test Accuracy = 99.30%\n",
      "🎯 New best model saved with accuracy: 99.30%\n"
     ]
    },
    {
     "name": "stderr",
     "output_type": "stream",
     "text": [
      "Epoch [4/50]: 100%|████| 282/282 [01:27<00:00,  3.23it/s, acc=99.4, loss=0.0134]\n"
     ]
    },
    {
     "name": "stdout",
     "output_type": "stream",
     "text": [
      "✅ Fold 6: Test Accuracy = 98.90%\n"
     ]
    },
    {
     "name": "stderr",
     "output_type": "stream",
     "text": [
      "Epoch [5/50]: 100%|███| 282/282 [01:27<00:00,  3.22it/s, acc=99.6, loss=0.00857]\n"
     ]
    },
    {
     "name": "stdout",
     "output_type": "stream",
     "text": [
      "✅ Fold 6: Test Accuracy = 99.40%\n",
      "🎯 New best model saved with accuracy: 99.40%\n"
     ]
    },
    {
     "name": "stderr",
     "output_type": "stream",
     "text": [
      "Epoch [6/50]: 100%|████| 282/282 [01:27<00:00,  3.23it/s, acc=99.6, loss=0.0137]\n"
     ]
    },
    {
     "name": "stdout",
     "output_type": "stream",
     "text": [
      "✅ Fold 6: Test Accuracy = 99.70%\n",
      "🎯 New best model saved with accuracy: 99.70%\n"
     ]
    },
    {
     "name": "stderr",
     "output_type": "stream",
     "text": [
      "Epoch [7/50]: 100%|██| 282/282 [01:27<00:00,  3.23it/s, acc=99.5, loss=0.000487]\n"
     ]
    },
    {
     "name": "stdout",
     "output_type": "stream",
     "text": [
      "✅ Fold 6: Test Accuracy = 99.40%\n"
     ]
    },
    {
     "name": "stderr",
     "output_type": "stream",
     "text": [
      "Epoch [8/50]: 100%|██| 282/282 [01:27<00:00,  3.23it/s, acc=99.6, loss=0.000735]\n"
     ]
    },
    {
     "name": "stdout",
     "output_type": "stream",
     "text": [
      "✅ Fold 6: Test Accuracy = 99.20%\n"
     ]
    },
    {
     "name": "stderr",
     "output_type": "stream",
     "text": [
      "Epoch [9/50]: 100%|██| 282/282 [01:27<00:00,  3.22it/s, acc=99.7, loss=0.000551]\n"
     ]
    },
    {
     "name": "stdout",
     "output_type": "stream",
     "text": [
      "✅ Fold 6: Test Accuracy = 99.50%\n"
     ]
    },
    {
     "name": "stderr",
     "output_type": "stream",
     "text": [
      "Epoch [10/50]: 100%|█| 282/282 [01:27<00:00,  3.22it/s, acc=99.7, loss=0.000542]\n"
     ]
    },
    {
     "name": "stdout",
     "output_type": "stream",
     "text": [
      "✅ Fold 6: Test Accuracy = 99.10%\n"
     ]
    },
    {
     "name": "stderr",
     "output_type": "stream",
     "text": [
      "Epoch [11/50]: 100%|███| 282/282 [01:27<00:00,  3.22it/s, acc=99.6, loss=0.0044]\n"
     ]
    },
    {
     "name": "stdout",
     "output_type": "stream",
     "text": [
      "✅ Fold 6: Test Accuracy = 99.50%\n"
     ]
    },
    {
     "name": "stderr",
     "output_type": "stream",
     "text": [
      "Epoch [12/50]: 100%|█| 282/282 [01:27<00:00,  3.22it/s, acc=99.7, loss=0.000303]\n"
     ]
    },
    {
     "name": "stdout",
     "output_type": "stream",
     "text": [
      "✅ Fold 6: Test Accuracy = 99.70%\n"
     ]
    },
    {
     "name": "stderr",
     "output_type": "stream",
     "text": [
      "Epoch [13/50]: 100%|██| 282/282 [01:27<00:00,  3.22it/s, acc=99.8, loss=0.00328]\n"
     ]
    },
    {
     "name": "stdout",
     "output_type": "stream",
     "text": [
      "✅ Fold 6: Test Accuracy = 99.50%\n"
     ]
    },
    {
     "name": "stderr",
     "output_type": "stream",
     "text": [
      "Epoch [14/50]: 100%|██| 282/282 [01:27<00:00,  3.22it/s, acc=99.8, loss=0.00553]\n"
     ]
    },
    {
     "name": "stdout",
     "output_type": "stream",
     "text": [
      "✅ Fold 6: Test Accuracy = 99.40%\n"
     ]
    },
    {
     "name": "stderr",
     "output_type": "stream",
     "text": [
      "Epoch [15/50]: 100%|█| 282/282 [01:27<00:00,  3.22it/s, acc=99.8, loss=0.000907]\n"
     ]
    },
    {
     "name": "stdout",
     "output_type": "stream",
     "text": [
      "✅ Fold 6: Test Accuracy = 99.70%\n"
     ]
    },
    {
     "name": "stderr",
     "output_type": "stream",
     "text": [
      "Epoch [16/50]: 100%|█| 282/282 [01:27<00:00,  3.22it/s, acc=99.8, loss=0.000425]\n"
     ]
    },
    {
     "name": "stdout",
     "output_type": "stream",
     "text": [
      "✅ Fold 6: Test Accuracy = 99.00%\n"
     ]
    },
    {
     "name": "stderr",
     "output_type": "stream",
     "text": [
      "Epoch [17/50]: 100%|████| 282/282 [01:27<00:00,  3.22it/s, acc=99.7, loss=0.013]\n"
     ]
    },
    {
     "name": "stdout",
     "output_type": "stream",
     "text": [
      "✅ Fold 6: Test Accuracy = 99.40%\n"
     ]
    },
    {
     "name": "stderr",
     "output_type": "stream",
     "text": [
      "Epoch [18/50]: 100%|█| 282/282 [01:27<00:00,  3.22it/s, acc=99.8, loss=0.000255]\n"
     ]
    },
    {
     "name": "stdout",
     "output_type": "stream",
     "text": [
      "✅ Fold 6: Test Accuracy = 99.40%\n"
     ]
    },
    {
     "name": "stderr",
     "output_type": "stream",
     "text": [
      "Epoch [19/50]: 100%|██| 282/282 [01:27<00:00,  3.22it/s, acc=99.8, loss=0.00816]\n"
     ]
    },
    {
     "name": "stdout",
     "output_type": "stream",
     "text": [
      "✅ Fold 6: Test Accuracy = 99.40%\n"
     ]
    },
    {
     "name": "stderr",
     "output_type": "stream",
     "text": [
      "Epoch [20/50]: 100%|███| 282/282 [01:27<00:00,  3.22it/s, acc=99.8, loss=0.0173]\n"
     ]
    },
    {
     "name": "stdout",
     "output_type": "stream",
     "text": [
      "✅ Fold 6: Test Accuracy = 99.60%\n"
     ]
    },
    {
     "name": "stderr",
     "output_type": "stream",
     "text": [
      "Epoch [21/50]: 100%|██| 282/282 [01:27<00:00,  3.22it/s, acc=99.8, loss=0.00114]\n"
     ]
    },
    {
     "name": "stdout",
     "output_type": "stream",
     "text": [
      "✅ Fold 6: Test Accuracy = 99.60%\n"
     ]
    },
    {
     "name": "stderr",
     "output_type": "stream",
     "text": [
      "Epoch [22/50]: 100%|██| 282/282 [01:27<00:00,  3.22it/s, acc=99.7, loss=0.00347]\n"
     ]
    },
    {
     "name": "stdout",
     "output_type": "stream",
     "text": [
      "✅ Fold 6: Test Accuracy = 99.40%\n"
     ]
    },
    {
     "name": "stderr",
     "output_type": "stream",
     "text": [
      "Epoch [23/50]: 100%|██| 282/282 [01:27<00:00,  3.22it/s, acc=99.8, loss=1.41e-5]\n"
     ]
    },
    {
     "name": "stdout",
     "output_type": "stream",
     "text": [
      "✅ Fold 6: Test Accuracy = 99.50%\n"
     ]
    },
    {
     "name": "stderr",
     "output_type": "stream",
     "text": [
      "Epoch [24/50]: 100%|█| 282/282 [01:27<00:00,  3.22it/s, acc=99.9, loss=0.000369]\n"
     ]
    },
    {
     "name": "stdout",
     "output_type": "stream",
     "text": [
      "✅ Fold 6: Test Accuracy = 99.40%\n"
     ]
    },
    {
     "name": "stderr",
     "output_type": "stream",
     "text": [
      "Epoch [25/50]: 100%|█| 282/282 [01:27<00:00,  3.22it/s, acc=99.8, loss=0.000128]\n"
     ]
    },
    {
     "name": "stdout",
     "output_type": "stream",
     "text": [
      "✅ Fold 6: Test Accuracy = 99.40%\n"
     ]
    },
    {
     "name": "stderr",
     "output_type": "stream",
     "text": [
      "Epoch [26/50]: 100%|█| 282/282 [01:27<00:00,  3.22it/s, acc=99.9, loss=0.000191]\n"
     ]
    },
    {
     "name": "stdout",
     "output_type": "stream",
     "text": [
      "✅ Fold 6: Test Accuracy = 99.60%\n"
     ]
    },
    {
     "name": "stderr",
     "output_type": "stream",
     "text": [
      "Epoch [27/50]: 100%|██| 282/282 [01:27<00:00,  3.22it/s, acc=99.8, loss=9.13e-5]\n"
     ]
    },
    {
     "name": "stdout",
     "output_type": "stream",
     "text": [
      "✅ Fold 6: Test Accuracy = 99.40%\n"
     ]
    },
    {
     "name": "stderr",
     "output_type": "stream",
     "text": [
      "Epoch [28/50]: 100%|███| 282/282 [01:27<00:00,  3.22it/s, acc=99.8, loss=0.0121]\n"
     ]
    },
    {
     "name": "stdout",
     "output_type": "stream",
     "text": [
      "✅ Fold 6: Test Accuracy = 99.30%\n"
     ]
    },
    {
     "name": "stderr",
     "output_type": "stream",
     "text": [
      "Epoch [29/50]: 100%|███| 282/282 [01:27<00:00,  3.22it/s, acc=99.8, loss=0.0014]\n"
     ]
    },
    {
     "name": "stdout",
     "output_type": "stream",
     "text": [
      "✅ Fold 6: Test Accuracy = 99.30%\n"
     ]
    },
    {
     "name": "stderr",
     "output_type": "stream",
     "text": [
      "Epoch [30/50]: 100%|██| 282/282 [01:27<00:00,  3.22it/s, acc=99.9, loss=0.00129]\n"
     ]
    },
    {
     "name": "stdout",
     "output_type": "stream",
     "text": [
      "✅ Fold 6: Test Accuracy = 99.60%\n"
     ]
    },
    {
     "name": "stderr",
     "output_type": "stream",
     "text": [
      "Epoch [31/50]: 100%|█| 282/282 [01:27<00:00,  3.22it/s, acc=99.8, loss=0.000847]\n"
     ]
    },
    {
     "name": "stdout",
     "output_type": "stream",
     "text": [
      "✅ Fold 6: Test Accuracy = 99.40%\n"
     ]
    },
    {
     "name": "stderr",
     "output_type": "stream",
     "text": [
      "Epoch [32/50]: 100%|██| 282/282 [01:27<00:00,  3.22it/s, acc=99.8, loss=0.00198]\n"
     ]
    },
    {
     "name": "stdout",
     "output_type": "stream",
     "text": [
      "✅ Fold 6: Test Accuracy = 99.70%\n"
     ]
    },
    {
     "name": "stderr",
     "output_type": "stream",
     "text": [
      "Epoch [33/50]: 100%|█| 282/282 [01:27<00:00,  3.22it/s, acc=99.8, loss=0.000257]\n"
     ]
    },
    {
     "name": "stdout",
     "output_type": "stream",
     "text": [
      "✅ Fold 6: Test Accuracy = 99.50%\n"
     ]
    },
    {
     "name": "stderr",
     "output_type": "stream",
     "text": [
      "Epoch [34/50]: 100%|██| 282/282 [01:27<00:00,  3.22it/s, acc=99.9, loss=2.58e-5]\n"
     ]
    },
    {
     "name": "stdout",
     "output_type": "stream",
     "text": [
      "✅ Fold 6: Test Accuracy = 99.30%\n"
     ]
    },
    {
     "name": "stderr",
     "output_type": "stream",
     "text": [
      "Epoch [35/50]: 100%|█| 282/282 [01:27<00:00,  3.22it/s, acc=99.9, loss=0.000326]\n"
     ]
    },
    {
     "name": "stdout",
     "output_type": "stream",
     "text": [
      "✅ Fold 6: Test Accuracy = 99.80%\n",
      "🎯 New best model saved with accuracy: 99.80%\n"
     ]
    },
    {
     "name": "stderr",
     "output_type": "stream",
     "text": [
      "Epoch [36/50]: 100%|█| 282/282 [01:27<00:00,  3.23it/s, acc=99.9, loss=0.000201]\n"
     ]
    },
    {
     "name": "stdout",
     "output_type": "stream",
     "text": [
      "✅ Fold 6: Test Accuracy = 99.80%\n"
     ]
    },
    {
     "name": "stderr",
     "output_type": "stream",
     "text": [
      "Epoch [37/50]: 100%|█| 282/282 [01:27<00:00,  3.22it/s, acc=99.8, loss=0.000748]\n"
     ]
    },
    {
     "name": "stdout",
     "output_type": "stream",
     "text": [
      "✅ Fold 6: Test Accuracy = 99.80%\n"
     ]
    },
    {
     "name": "stderr",
     "output_type": "stream",
     "text": [
      "Epoch [38/50]: 100%|█| 282/282 [01:27<00:00,  3.22it/s, acc=99.8, loss=0.000371]\n"
     ]
    },
    {
     "name": "stdout",
     "output_type": "stream",
     "text": [
      "✅ Fold 6: Test Accuracy = 99.70%\n"
     ]
    },
    {
     "name": "stderr",
     "output_type": "stream",
     "text": [
      "Epoch [39/50]: 100%|██| 282/282 [01:27<00:00,  3.22it/s, acc=99.9, loss=7.07e-5]\n"
     ]
    },
    {
     "name": "stdout",
     "output_type": "stream",
     "text": [
      "✅ Fold 6: Test Accuracy = 99.30%\n"
     ]
    },
    {
     "name": "stderr",
     "output_type": "stream",
     "text": [
      "Epoch [40/50]: 100%|██| 282/282 [01:27<00:00,  3.22it/s, acc=99.8, loss=0.00396]\n"
     ]
    },
    {
     "name": "stdout",
     "output_type": "stream",
     "text": [
      "✅ Fold 6: Test Accuracy = 99.00%\n"
     ]
    },
    {
     "name": "stderr",
     "output_type": "stream",
     "text": [
      "Epoch [41/50]: 100%|█| 282/282 [01:27<00:00,  3.22it/s, acc=99.9, loss=0.000412]\n"
     ]
    },
    {
     "name": "stdout",
     "output_type": "stream",
     "text": [
      "✅ Fold 6: Test Accuracy = 99.70%\n"
     ]
    },
    {
     "name": "stderr",
     "output_type": "stream",
     "text": [
      "Epoch [42/50]: 100%|██| 282/282 [01:27<00:00,  3.22it/s, acc=99.9, loss=5.32e-5]\n"
     ]
    },
    {
     "name": "stdout",
     "output_type": "stream",
     "text": [
      "✅ Fold 6: Test Accuracy = 99.40%\n"
     ]
    },
    {
     "name": "stderr",
     "output_type": "stream",
     "text": [
      "Epoch [43/50]: 100%|██| 282/282 [01:27<00:00,  3.22it/s, acc=99.9, loss=0.00272]\n"
     ]
    },
    {
     "name": "stdout",
     "output_type": "stream",
     "text": [
      "✅ Fold 6: Test Accuracy = 99.50%\n"
     ]
    },
    {
     "name": "stderr",
     "output_type": "stream",
     "text": [
      "Epoch [44/50]: 100%|█| 282/282 [01:27<00:00,  3.22it/s, acc=99.9, loss=0.000523]\n"
     ]
    },
    {
     "name": "stdout",
     "output_type": "stream",
     "text": [
      "✅ Fold 6: Test Accuracy = 99.70%\n"
     ]
    },
    {
     "name": "stderr",
     "output_type": "stream",
     "text": [
      "Epoch [45/50]: 100%|██| 282/282 [01:27<00:00,  3.22it/s, acc=99.9, loss=0.00976]\n"
     ]
    },
    {
     "name": "stdout",
     "output_type": "stream",
     "text": [
      "✅ Fold 6: Test Accuracy = 99.60%\n"
     ]
    },
    {
     "name": "stderr",
     "output_type": "stream",
     "text": [
      "Epoch [46/50]: 100%|█| 282/282 [01:27<00:00,  3.22it/s, acc=99.9, loss=0.000659]\n"
     ]
    },
    {
     "name": "stdout",
     "output_type": "stream",
     "text": [
      "✅ Fold 6: Test Accuracy = 99.50%\n"
     ]
    },
    {
     "name": "stderr",
     "output_type": "stream",
     "text": [
      "Epoch [47/50]: 100%|█| 282/282 [01:27<00:00,  3.22it/s, acc=99.9, loss=0.000397]\n"
     ]
    },
    {
     "name": "stdout",
     "output_type": "stream",
     "text": [
      "✅ Fold 6: Test Accuracy = 99.40%\n"
     ]
    },
    {
     "name": "stderr",
     "output_type": "stream",
     "text": [
      "Epoch [48/50]: 100%|███| 282/282 [01:27<00:00,  3.22it/s, acc=99.9, loss=0.0277]\n"
     ]
    },
    {
     "name": "stdout",
     "output_type": "stream",
     "text": [
      "✅ Fold 6: Test Accuracy = 99.80%\n"
     ]
    },
    {
     "name": "stderr",
     "output_type": "stream",
     "text": [
      "Epoch [49/50]: 100%|██| 282/282 [01:27<00:00,  3.22it/s, acc=99.9, loss=0.00513]\n"
     ]
    },
    {
     "name": "stdout",
     "output_type": "stream",
     "text": [
      "✅ Fold 6: Test Accuracy = 99.80%\n"
     ]
    },
    {
     "name": "stderr",
     "output_type": "stream",
     "text": [
      "Epoch [50/50]: 100%|██| 282/282 [01:27<00:00,  3.22it/s, acc=99.9, loss=6.24e-5]\n"
     ]
    },
    {
     "name": "stdout",
     "output_type": "stream",
     "text": [
      "✅ Fold 6: Test Accuracy = 99.80%\n",
      "\n",
      "🚀 Training Fold 7/10\n"
     ]
    },
    {
     "name": "stderr",
     "output_type": "stream",
     "text": [
      "Epoch [1/50]: 100%|████| 282/282 [01:27<00:00,  3.22it/s, acc=94.8, loss=0.0214]\n"
     ]
    },
    {
     "name": "stdout",
     "output_type": "stream",
     "text": [
      "✅ Fold 7: Test Accuracy = 98.90%\n",
      "🎯 New best model saved with accuracy: 98.90%\n"
     ]
    },
    {
     "name": "stderr",
     "output_type": "stream",
     "text": [
      "Epoch [2/50]: 100%|████| 282/282 [01:27<00:00,  3.21it/s, acc=99.3, loss=0.0114]\n"
     ]
    },
    {
     "name": "stdout",
     "output_type": "stream",
     "text": [
      "✅ Fold 7: Test Accuracy = 98.80%\n"
     ]
    },
    {
     "name": "stderr",
     "output_type": "stream",
     "text": [
      "Epoch [3/50]: 100%|██| 282/282 [01:27<00:00,  3.22it/s, acc=99.3, loss=0.000501]\n"
     ]
    },
    {
     "name": "stdout",
     "output_type": "stream",
     "text": [
      "✅ Fold 7: Test Accuracy = 99.30%\n",
      "🎯 New best model saved with accuracy: 99.30%\n"
     ]
    },
    {
     "name": "stderr",
     "output_type": "stream",
     "text": [
      "Epoch [4/50]: 100%|█████| 282/282 [01:27<00:00,  3.23it/s, acc=99.5, loss=0.119]\n"
     ]
    },
    {
     "name": "stdout",
     "output_type": "stream",
     "text": [
      "✅ Fold 7: Test Accuracy = 99.20%\n"
     ]
    },
    {
     "name": "stderr",
     "output_type": "stream",
     "text": [
      "Epoch [5/50]: 100%|███| 282/282 [01:27<00:00,  3.22it/s, acc=99.7, loss=0.00149]\n"
     ]
    },
    {
     "name": "stdout",
     "output_type": "stream",
     "text": [
      "✅ Fold 7: Test Accuracy = 99.50%\n",
      "🎯 New best model saved with accuracy: 99.50%\n"
     ]
    },
    {
     "name": "stderr",
     "output_type": "stream",
     "text": [
      "Epoch [6/50]: 100%|███| 282/282 [01:27<00:00,  3.22it/s, acc=99.6, loss=0.00282]\n"
     ]
    },
    {
     "name": "stdout",
     "output_type": "stream",
     "text": [
      "✅ Fold 7: Test Accuracy = 99.70%\n",
      "🎯 New best model saved with accuracy: 99.70%\n"
     ]
    },
    {
     "name": "stderr",
     "output_type": "stream",
     "text": [
      "Epoch [7/50]: 100%|██| 282/282 [01:27<00:00,  3.23it/s, acc=99.8, loss=0.000541]\n"
     ]
    },
    {
     "name": "stdout",
     "output_type": "stream",
     "text": [
      "✅ Fold 7: Test Accuracy = 99.50%\n"
     ]
    },
    {
     "name": "stderr",
     "output_type": "stream",
     "text": [
      "Epoch [8/50]: 100%|███| 282/282 [01:27<00:00,  3.22it/s, acc=99.8, loss=8.41e-5]\n"
     ]
    },
    {
     "name": "stdout",
     "output_type": "stream",
     "text": [
      "✅ Fold 7: Test Accuracy = 99.50%\n"
     ]
    },
    {
     "name": "stderr",
     "output_type": "stream",
     "text": [
      "Epoch [9/50]: 100%|███| 282/282 [01:27<00:00,  3.22it/s, acc=99.7, loss=0.00045]\n"
     ]
    },
    {
     "name": "stdout",
     "output_type": "stream",
     "text": [
      "✅ Fold 7: Test Accuracy = 99.50%\n"
     ]
    },
    {
     "name": "stderr",
     "output_type": "stream",
     "text": [
      "Epoch [10/50]: 100%|█| 282/282 [01:27<00:00,  3.22it/s, acc=99.8, loss=0.000336]\n"
     ]
    },
    {
     "name": "stdout",
     "output_type": "stream",
     "text": [
      "✅ Fold 7: Test Accuracy = 99.70%\n"
     ]
    },
    {
     "name": "stderr",
     "output_type": "stream",
     "text": [
      "Epoch [11/50]: 100%|█| 282/282 [01:27<00:00,  3.22it/s, acc=99.8, loss=0.000192]\n"
     ]
    },
    {
     "name": "stdout",
     "output_type": "stream",
     "text": [
      "✅ Fold 7: Test Accuracy = 99.80%\n",
      "🎯 New best model saved with accuracy: 99.80%\n"
     ]
    },
    {
     "name": "stderr",
     "output_type": "stream",
     "text": [
      "Epoch [12/50]: 100%|█| 282/282 [01:27<00:00,  3.23it/s, acc=99.8, loss=0.000377]\n"
     ]
    },
    {
     "name": "stdout",
     "output_type": "stream",
     "text": [
      "✅ Fold 7: Test Accuracy = 99.50%\n"
     ]
    },
    {
     "name": "stderr",
     "output_type": "stream",
     "text": [
      "Epoch [13/50]: 100%|██| 282/282 [01:27<00:00,  3.22it/s, acc=99.7, loss=3.24e-5]\n"
     ]
    },
    {
     "name": "stdout",
     "output_type": "stream",
     "text": [
      "✅ Fold 7: Test Accuracy = 99.80%\n"
     ]
    },
    {
     "name": "stderr",
     "output_type": "stream",
     "text": [
      "Epoch [14/50]: 100%|███| 282/282 [01:27<00:00,  3.22it/s, acc=99.8, loss=0.0125]\n"
     ]
    },
    {
     "name": "stdout",
     "output_type": "stream",
     "text": [
      "✅ Fold 7: Test Accuracy = 99.40%\n"
     ]
    },
    {
     "name": "stderr",
     "output_type": "stream",
     "text": [
      "Epoch [15/50]: 100%|████| 282/282 [01:27<00:00,  3.22it/s, acc=99.7, loss=0.085]\n"
     ]
    },
    {
     "name": "stdout",
     "output_type": "stream",
     "text": [
      "✅ Fold 7: Test Accuracy = 99.30%\n"
     ]
    },
    {
     "name": "stderr",
     "output_type": "stream",
     "text": [
      "Epoch [16/50]: 100%|███| 282/282 [01:27<00:00,  3.22it/s, acc=99.7, loss=0.0141]\n"
     ]
    },
    {
     "name": "stdout",
     "output_type": "stream",
     "text": [
      "✅ Fold 7: Test Accuracy = 100.00%\n",
      "🎯 New best model saved with accuracy: 100.00%\n"
     ]
    },
    {
     "name": "stderr",
     "output_type": "stream",
     "text": [
      "Epoch [17/50]: 100%|██| 282/282 [01:27<00:00,  3.23it/s, acc=99.7, loss=4.36e-5]\n"
     ]
    },
    {
     "name": "stdout",
     "output_type": "stream",
     "text": [
      "✅ Fold 7: Test Accuracy = 99.60%\n"
     ]
    },
    {
     "name": "stderr",
     "output_type": "stream",
     "text": [
      "Epoch [18/50]: 100%|█| 282/282 [01:27<00:00,  3.22it/s, acc=99.9, loss=0.000413]\n"
     ]
    },
    {
     "name": "stdout",
     "output_type": "stream",
     "text": [
      "✅ Fold 7: Test Accuracy = 99.90%\n"
     ]
    },
    {
     "name": "stderr",
     "output_type": "stream",
     "text": [
      "Epoch [19/50]: 100%|████| 282/282 [01:27<00:00,  3.22it/s, acc=99.9, loss=0.118]\n"
     ]
    },
    {
     "name": "stdout",
     "output_type": "stream",
     "text": [
      "✅ Fold 7: Test Accuracy = 99.60%\n"
     ]
    },
    {
     "name": "stderr",
     "output_type": "stream",
     "text": [
      "Epoch [20/50]: 100%|█| 282/282 [01:27<00:00,  3.22it/s, acc=99.9, loss=0.000928]\n"
     ]
    },
    {
     "name": "stdout",
     "output_type": "stream",
     "text": [
      "✅ Fold 7: Test Accuracy = 99.80%\n"
     ]
    },
    {
     "name": "stderr",
     "output_type": "stream",
     "text": [
      "Epoch [21/50]: 100%|█| 282/282 [01:27<00:00,  3.22it/s, acc=99.9, loss=0.000261]\n"
     ]
    },
    {
     "name": "stdout",
     "output_type": "stream",
     "text": [
      "✅ Fold 7: Test Accuracy = 99.60%\n"
     ]
    },
    {
     "name": "stderr",
     "output_type": "stream",
     "text": [
      "Epoch [22/50]: 100%|█| 282/282 [01:27<00:00,  3.22it/s, acc=99.9, loss=0.000502]\n"
     ]
    },
    {
     "name": "stdout",
     "output_type": "stream",
     "text": [
      "✅ Fold 7: Test Accuracy = 99.80%\n"
     ]
    },
    {
     "name": "stderr",
     "output_type": "stream",
     "text": [
      "Epoch [23/50]: 100%|█| 282/282 [01:27<00:00,  3.22it/s, acc=99.8, loss=0.000421]\n"
     ]
    },
    {
     "name": "stdout",
     "output_type": "stream",
     "text": [
      "✅ Fold 7: Test Accuracy = 99.70%\n"
     ]
    },
    {
     "name": "stderr",
     "output_type": "stream",
     "text": [
      "Epoch [24/50]: 100%|██| 282/282 [01:27<00:00,  3.22it/s, acc=99.8, loss=0.00121]\n"
     ]
    },
    {
     "name": "stdout",
     "output_type": "stream",
     "text": [
      "✅ Fold 7: Test Accuracy = 99.80%\n"
     ]
    },
    {
     "name": "stderr",
     "output_type": "stream",
     "text": [
      "Epoch [25/50]: 100%|███| 282/282 [01:27<00:00,  3.22it/s, acc=99.9, loss=1.9e-5]\n"
     ]
    },
    {
     "name": "stdout",
     "output_type": "stream",
     "text": [
      "✅ Fold 7: Test Accuracy = 99.60%\n"
     ]
    },
    {
     "name": "stderr",
     "output_type": "stream",
     "text": [
      "Epoch [26/50]: 100%|██| 282/282 [01:27<00:00,  3.22it/s, acc=99.9, loss=0.00107]\n"
     ]
    },
    {
     "name": "stdout",
     "output_type": "stream",
     "text": [
      "✅ Fold 7: Test Accuracy = 99.70%\n"
     ]
    },
    {
     "name": "stderr",
     "output_type": "stream",
     "text": [
      "Epoch [27/50]: 100%|█| 282/282 [01:27<00:00,  3.22it/s, acc=99.9, loss=0.000351]\n"
     ]
    },
    {
     "name": "stdout",
     "output_type": "stream",
     "text": [
      "✅ Fold 7: Test Accuracy = 99.50%\n"
     ]
    },
    {
     "name": "stderr",
     "output_type": "stream",
     "text": [
      "Epoch [28/50]: 100%|██| 282/282 [01:27<00:00,  3.22it/s, acc=99.8, loss=0.00017]\n"
     ]
    },
    {
     "name": "stdout",
     "output_type": "stream",
     "text": [
      "✅ Fold 7: Test Accuracy = 99.20%\n"
     ]
    },
    {
     "name": "stderr",
     "output_type": "stream",
     "text": [
      "Epoch [29/50]: 100%|██| 282/282 [01:27<00:00,  3.22it/s, acc=99.8, loss=0.00239]\n"
     ]
    },
    {
     "name": "stdout",
     "output_type": "stream",
     "text": [
      "✅ Fold 7: Test Accuracy = 99.70%\n"
     ]
    },
    {
     "name": "stderr",
     "output_type": "stream",
     "text": [
      "Epoch [30/50]: 100%|██| 282/282 [01:27<00:00,  3.22it/s, acc=99.9, loss=4.85e-6]\n"
     ]
    },
    {
     "name": "stdout",
     "output_type": "stream",
     "text": [
      "✅ Fold 7: Test Accuracy = 99.40%\n"
     ]
    },
    {
     "name": "stderr",
     "output_type": "stream",
     "text": [
      "Epoch [31/50]: 100%|██| 282/282 [01:27<00:00,  3.22it/s, acc=99.9, loss=1.81e-5]\n"
     ]
    },
    {
     "name": "stdout",
     "output_type": "stream",
     "text": [
      "✅ Fold 7: Test Accuracy = 99.60%\n"
     ]
    },
    {
     "name": "stderr",
     "output_type": "stream",
     "text": [
      "Epoch [32/50]: 100%|███| 282/282 [01:27<00:00,  3.22it/s, acc=99.9, loss=0.0002]\n"
     ]
    },
    {
     "name": "stdout",
     "output_type": "stream",
     "text": [
      "✅ Fold 7: Test Accuracy = 99.60%\n"
     ]
    },
    {
     "name": "stderr",
     "output_type": "stream",
     "text": [
      "Epoch [33/50]: 100%|█| 282/282 [01:27<00:00,  3.22it/s, acc=99.9, loss=0.000728]\n"
     ]
    },
    {
     "name": "stdout",
     "output_type": "stream",
     "text": [
      "✅ Fold 7: Test Accuracy = 99.80%\n"
     ]
    },
    {
     "name": "stderr",
     "output_type": "stream",
     "text": [
      "Epoch [34/50]: 100%|███| 282/282 [01:27<00:00,  3.22it/s, acc=99.9, loss=9.7e-6]\n"
     ]
    },
    {
     "name": "stdout",
     "output_type": "stream",
     "text": [
      "✅ Fold 7: Test Accuracy = 99.70%\n"
     ]
    },
    {
     "name": "stderr",
     "output_type": "stream",
     "text": [
      "Epoch [35/50]: 100%|█| 282/282 [01:27<00:00,  3.22it/s, acc=99.9, loss=0.000546]\n"
     ]
    },
    {
     "name": "stdout",
     "output_type": "stream",
     "text": [
      "✅ Fold 7: Test Accuracy = 99.50%\n"
     ]
    },
    {
     "name": "stderr",
     "output_type": "stream",
     "text": [
      "Epoch [36/50]: 100%|██| 282/282 [01:27<00:00,  3.22it/s, acc=99.9, loss=0.00012]\n"
     ]
    },
    {
     "name": "stdout",
     "output_type": "stream",
     "text": [
      "✅ Fold 7: Test Accuracy = 99.80%\n"
     ]
    },
    {
     "name": "stderr",
     "output_type": "stream",
     "text": [
      "Epoch [37/50]: 100%|██| 282/282 [01:27<00:00,  3.22it/s, acc=99.9, loss=0.00014]\n"
     ]
    },
    {
     "name": "stdout",
     "output_type": "stream",
     "text": [
      "✅ Fold 7: Test Accuracy = 99.60%\n"
     ]
    },
    {
     "name": "stderr",
     "output_type": "stream",
     "text": [
      "Epoch [38/50]: 100%|██| 282/282 [01:27<00:00,  3.22it/s, acc=99.9, loss=8.35e-5]\n"
     ]
    },
    {
     "name": "stdout",
     "output_type": "stream",
     "text": [
      "✅ Fold 7: Test Accuracy = 99.60%\n"
     ]
    },
    {
     "name": "stderr",
     "output_type": "stream",
     "text": [
      "Epoch [39/50]: 100%|█| 282/282 [01:27<00:00,  3.22it/s, acc=99.9, loss=0.000229]\n"
     ]
    },
    {
     "name": "stdout",
     "output_type": "stream",
     "text": [
      "✅ Fold 7: Test Accuracy = 99.50%\n"
     ]
    },
    {
     "name": "stderr",
     "output_type": "stream",
     "text": [
      "Epoch [40/50]: 100%|██| 282/282 [01:27<00:00,  3.22it/s, acc=99.9, loss=0.00139]\n"
     ]
    },
    {
     "name": "stdout",
     "output_type": "stream",
     "text": [
      "✅ Fold 7: Test Accuracy = 99.50%\n"
     ]
    },
    {
     "name": "stderr",
     "output_type": "stream",
     "text": [
      "Epoch [41/50]: 100%|███| 282/282 [01:27<00:00,  3.22it/s, acc=100, loss=2.05e-5]\n"
     ]
    },
    {
     "name": "stdout",
     "output_type": "stream",
     "text": [
      "✅ Fold 7: Test Accuracy = 99.60%\n"
     ]
    },
    {
     "name": "stderr",
     "output_type": "stream",
     "text": [
      "Epoch [42/50]: 100%|█| 282/282 [01:27<00:00,  3.22it/s, acc=99.9, loss=0.000697]\n"
     ]
    },
    {
     "name": "stdout",
     "output_type": "stream",
     "text": [
      "✅ Fold 7: Test Accuracy = 99.60%\n"
     ]
    },
    {
     "name": "stderr",
     "output_type": "stream",
     "text": [
      "Epoch [43/50]: 100%|███| 282/282 [01:27<00:00,  3.22it/s, acc=100, loss=2.64e-5]\n"
     ]
    },
    {
     "name": "stdout",
     "output_type": "stream",
     "text": [
      "✅ Fold 7: Test Accuracy = 99.80%\n"
     ]
    },
    {
     "name": "stderr",
     "output_type": "stream",
     "text": [
      "Epoch [44/50]: 100%|█| 282/282 [01:27<00:00,  3.22it/s, acc=99.9, loss=0.000152]\n"
     ]
    },
    {
     "name": "stdout",
     "output_type": "stream",
     "text": [
      "✅ Fold 7: Test Accuracy = 99.60%\n"
     ]
    },
    {
     "name": "stderr",
     "output_type": "stream",
     "text": [
      "Epoch [45/50]: 100%|████| 282/282 [01:27<00:00,  3.22it/s, acc=100, loss=0.0179]\n"
     ]
    },
    {
     "name": "stdout",
     "output_type": "stream",
     "text": [
      "✅ Fold 7: Test Accuracy = 99.40%\n"
     ]
    },
    {
     "name": "stderr",
     "output_type": "stream",
     "text": [
      "Epoch [46/50]: 100%|██| 282/282 [01:27<00:00,  3.22it/s, acc=99.9, loss=9.53e-5]\n"
     ]
    },
    {
     "name": "stdout",
     "output_type": "stream",
     "text": [
      "✅ Fold 7: Test Accuracy = 99.50%\n"
     ]
    },
    {
     "name": "stderr",
     "output_type": "stream",
     "text": [
      "Epoch [47/50]: 100%|██| 282/282 [01:27<00:00,  3.22it/s, acc=99.9, loss=3.16e-6]\n"
     ]
    },
    {
     "name": "stdout",
     "output_type": "stream",
     "text": [
      "✅ Fold 7: Test Accuracy = 99.50%\n"
     ]
    },
    {
     "name": "stderr",
     "output_type": "stream",
     "text": [
      "Epoch [48/50]: 100%|██| 282/282 [01:27<00:00,  3.22it/s, acc=99.9, loss=3.19e-5]\n"
     ]
    },
    {
     "name": "stdout",
     "output_type": "stream",
     "text": [
      "✅ Fold 7: Test Accuracy = 99.60%\n"
     ]
    },
    {
     "name": "stderr",
     "output_type": "stream",
     "text": [
      "Epoch [49/50]: 100%|███| 282/282 [01:27<00:00,  3.22it/s, acc=100, loss=9.75e-5]\n"
     ]
    },
    {
     "name": "stdout",
     "output_type": "stream",
     "text": [
      "✅ Fold 7: Test Accuracy = 99.70%\n"
     ]
    },
    {
     "name": "stderr",
     "output_type": "stream",
     "text": [
      "Epoch [50/50]: 100%|█| 282/282 [01:27<00:00,  3.22it/s, acc=99.8, loss=0.000162]\n"
     ]
    },
    {
     "name": "stdout",
     "output_type": "stream",
     "text": [
      "✅ Fold 7: Test Accuracy = 99.50%\n",
      "\n",
      "🚀 Training Fold 8/10\n"
     ]
    },
    {
     "name": "stderr",
     "output_type": "stream",
     "text": [
      "Epoch [1/50]: 100%|████| 282/282 [01:27<00:00,  3.22it/s, acc=94.9, loss=0.0619]\n"
     ]
    },
    {
     "name": "stdout",
     "output_type": "stream",
     "text": [
      "✅ Fold 8: Test Accuracy = 98.20%\n",
      "🎯 New best model saved with accuracy: 98.20%\n"
     ]
    },
    {
     "name": "stderr",
     "output_type": "stream",
     "text": [
      "Epoch [2/50]: 100%|█████| 282/282 [01:27<00:00,  3.22it/s, acc=99.2, loss=0.139]\n"
     ]
    },
    {
     "name": "stdout",
     "output_type": "stream",
     "text": [
      "✅ Fold 8: Test Accuracy = 98.80%\n",
      "🎯 New best model saved with accuracy: 98.80%\n"
     ]
    },
    {
     "name": "stderr",
     "output_type": "stream",
     "text": [
      "Epoch [3/50]: 100%|████| 282/282 [01:27<00:00,  3.23it/s, acc=99.4, loss=0.0375]\n"
     ]
    },
    {
     "name": "stdout",
     "output_type": "stream",
     "text": [
      "✅ Fold 8: Test Accuracy = 99.20%\n",
      "🎯 New best model saved with accuracy: 99.20%\n"
     ]
    },
    {
     "name": "stderr",
     "output_type": "stream",
     "text": [
      "Epoch [4/50]: 100%|██| 282/282 [01:27<00:00,  3.22it/s, acc=99.6, loss=0.000616]\n"
     ]
    },
    {
     "name": "stdout",
     "output_type": "stream",
     "text": [
      "✅ Fold 8: Test Accuracy = 98.80%\n"
     ]
    },
    {
     "name": "stderr",
     "output_type": "stream",
     "text": [
      "Epoch [5/50]: 100%|███| 282/282 [01:27<00:00,  3.22it/s, acc=99.6, loss=0.00144]\n"
     ]
    },
    {
     "name": "stdout",
     "output_type": "stream",
     "text": [
      "✅ Fold 8: Test Accuracy = 99.30%\n",
      "🎯 New best model saved with accuracy: 99.30%\n"
     ]
    },
    {
     "name": "stderr",
     "output_type": "stream",
     "text": [
      "Epoch [6/50]: 100%|██| 282/282 [01:27<00:00,  3.23it/s, acc=99.7, loss=0.000471]\n"
     ]
    },
    {
     "name": "stdout",
     "output_type": "stream",
     "text": [
      "✅ Fold 8: Test Accuracy = 99.10%\n"
     ]
    },
    {
     "name": "stderr",
     "output_type": "stream",
     "text": [
      "Epoch [7/50]: 100%|███| 282/282 [01:27<00:00,  3.22it/s, acc=99.8, loss=0.00136]\n"
     ]
    },
    {
     "name": "stdout",
     "output_type": "stream",
     "text": [
      "✅ Fold 8: Test Accuracy = 99.20%\n"
     ]
    },
    {
     "name": "stderr",
     "output_type": "stream",
     "text": [
      "Epoch [8/50]: 100%|██| 282/282 [01:27<00:00,  3.22it/s, acc=99.7, loss=0.000446]\n"
     ]
    },
    {
     "name": "stdout",
     "output_type": "stream",
     "text": [
      "✅ Fold 8: Test Accuracy = 99.30%\n"
     ]
    },
    {
     "name": "stderr",
     "output_type": "stream",
     "text": [
      "Epoch [9/50]: 100%|███| 282/282 [01:27<00:00,  3.22it/s, acc=99.9, loss=0.00158]\n"
     ]
    },
    {
     "name": "stdout",
     "output_type": "stream",
     "text": [
      "✅ Fold 8: Test Accuracy = 99.10%\n"
     ]
    },
    {
     "name": "stderr",
     "output_type": "stream",
     "text": [
      "Epoch [10/50]: 100%|██| 282/282 [01:27<00:00,  3.22it/s, acc=99.8, loss=0.00195]\n"
     ]
    },
    {
     "name": "stdout",
     "output_type": "stream",
     "text": [
      "✅ Fold 8: Test Accuracy = 99.40%\n",
      "🎯 New best model saved with accuracy: 99.40%\n"
     ]
    },
    {
     "name": "stderr",
     "output_type": "stream",
     "text": [
      "Epoch [11/50]: 100%|████| 282/282 [01:27<00:00,  3.23it/s, acc=99.8, loss=0.018]\n"
     ]
    },
    {
     "name": "stdout",
     "output_type": "stream",
     "text": [
      "✅ Fold 8: Test Accuracy = 99.30%\n"
     ]
    },
    {
     "name": "stderr",
     "output_type": "stream",
     "text": [
      "Epoch [12/50]: 100%|██| 282/282 [01:27<00:00,  3.22it/s, acc=99.8, loss=0.00274]\n"
     ]
    },
    {
     "name": "stdout",
     "output_type": "stream",
     "text": [
      "✅ Fold 8: Test Accuracy = 99.00%\n"
     ]
    },
    {
     "name": "stderr",
     "output_type": "stream",
     "text": [
      "Epoch [13/50]: 100%|██| 282/282 [01:27<00:00,  3.22it/s, acc=99.9, loss=7.15e-5]\n"
     ]
    },
    {
     "name": "stdout",
     "output_type": "stream",
     "text": [
      "✅ Fold 8: Test Accuracy = 99.10%\n"
     ]
    },
    {
     "name": "stderr",
     "output_type": "stream",
     "text": [
      "Epoch [14/50]: 100%|█| 282/282 [01:27<00:00,  3.22it/s, acc=99.9, loss=0.000119]\n"
     ]
    },
    {
     "name": "stdout",
     "output_type": "stream",
     "text": [
      "✅ Fold 8: Test Accuracy = 99.30%\n"
     ]
    },
    {
     "name": "stderr",
     "output_type": "stream",
     "text": [
      "Epoch [15/50]: 100%|███| 282/282 [01:27<00:00,  3.22it/s, acc=99.8, loss=0.0175]\n"
     ]
    },
    {
     "name": "stdout",
     "output_type": "stream",
     "text": [
      "✅ Fold 8: Test Accuracy = 99.30%\n"
     ]
    },
    {
     "name": "stderr",
     "output_type": "stream",
     "text": [
      "Epoch [16/50]: 100%|██| 282/282 [01:27<00:00,  3.22it/s, acc=99.9, loss=9.86e-5]\n"
     ]
    },
    {
     "name": "stdout",
     "output_type": "stream",
     "text": [
      "✅ Fold 8: Test Accuracy = 99.40%\n"
     ]
    },
    {
     "name": "stderr",
     "output_type": "stream",
     "text": [
      "Epoch [17/50]: 100%|██| 282/282 [01:27<00:00,  3.22it/s, acc=99.9, loss=7.48e-5]\n"
     ]
    },
    {
     "name": "stdout",
     "output_type": "stream",
     "text": [
      "✅ Fold 8: Test Accuracy = 99.20%\n"
     ]
    },
    {
     "name": "stderr",
     "output_type": "stream",
     "text": [
      "Epoch [18/50]: 100%|█| 282/282 [01:27<00:00,  3.22it/s, acc=99.8, loss=0.000314]\n"
     ]
    },
    {
     "name": "stdout",
     "output_type": "stream",
     "text": [
      "✅ Fold 8: Test Accuracy = 99.50%\n",
      "🎯 New best model saved with accuracy: 99.50%\n"
     ]
    },
    {
     "name": "stderr",
     "output_type": "stream",
     "text": [
      "Epoch [19/50]: 100%|███| 282/282 [01:27<00:00,  3.23it/s, acc=99.8, loss=0.0108]\n"
     ]
    },
    {
     "name": "stdout",
     "output_type": "stream",
     "text": [
      "✅ Fold 8: Test Accuracy = 99.40%\n"
     ]
    },
    {
     "name": "stderr",
     "output_type": "stream",
     "text": [
      "Epoch [20/50]: 100%|█| 282/282 [01:27<00:00,  3.22it/s, acc=99.8, loss=0.000226]\n"
     ]
    },
    {
     "name": "stdout",
     "output_type": "stream",
     "text": [
      "✅ Fold 8: Test Accuracy = 99.60%\n",
      "🎯 New best model saved with accuracy: 99.60%\n"
     ]
    },
    {
     "name": "stderr",
     "output_type": "stream",
     "text": [
      "Epoch [21/50]: 100%|███| 282/282 [01:27<00:00,  3.23it/s, acc=99.9, loss=2.6e-5]\n"
     ]
    },
    {
     "name": "stdout",
     "output_type": "stream",
     "text": [
      "✅ Fold 8: Test Accuracy = 99.50%\n"
     ]
    },
    {
     "name": "stderr",
     "output_type": "stream",
     "text": [
      "Epoch [22/50]: 100%|██| 282/282 [01:27<00:00,  3.22it/s, acc=99.8, loss=8.74e-5]\n"
     ]
    },
    {
     "name": "stdout",
     "output_type": "stream",
     "text": [
      "✅ Fold 8: Test Accuracy = 99.30%\n"
     ]
    },
    {
     "name": "stderr",
     "output_type": "stream",
     "text": [
      "Epoch [23/50]: 100%|██| 282/282 [01:27<00:00,  3.22it/s, acc=99.9, loss=0.00334]\n"
     ]
    },
    {
     "name": "stdout",
     "output_type": "stream",
     "text": [
      "✅ Fold 8: Test Accuracy = 99.60%\n"
     ]
    },
    {
     "name": "stderr",
     "output_type": "stream",
     "text": [
      "Epoch [24/50]: 100%|█| 282/282 [01:27<00:00,  3.22it/s, acc=99.9, loss=0.000122]\n"
     ]
    },
    {
     "name": "stdout",
     "output_type": "stream",
     "text": [
      "✅ Fold 8: Test Accuracy = 99.40%\n"
     ]
    },
    {
     "name": "stderr",
     "output_type": "stream",
     "text": [
      "Epoch [25/50]: 100%|█| 282/282 [01:27<00:00,  3.22it/s, acc=99.9, loss=0.000113]\n"
     ]
    },
    {
     "name": "stdout",
     "output_type": "stream",
     "text": [
      "✅ Fold 8: Test Accuracy = 99.50%\n"
     ]
    },
    {
     "name": "stderr",
     "output_type": "stream",
     "text": [
      "Epoch [26/50]: 100%|██| 282/282 [01:27<00:00,  3.22it/s, acc=99.9, loss=5.27e-5]\n"
     ]
    },
    {
     "name": "stdout",
     "output_type": "stream",
     "text": [
      "✅ Fold 8: Test Accuracy = 99.50%\n"
     ]
    },
    {
     "name": "stderr",
     "output_type": "stream",
     "text": [
      "Epoch [27/50]: 100%|█| 282/282 [01:27<00:00,  3.22it/s, acc=99.9, loss=0.000182]\n"
     ]
    },
    {
     "name": "stdout",
     "output_type": "stream",
     "text": [
      "✅ Fold 8: Test Accuracy = 99.20%\n"
     ]
    },
    {
     "name": "stderr",
     "output_type": "stream",
     "text": [
      "Epoch [28/50]: 100%|█| 282/282 [01:27<00:00,  3.22it/s, acc=99.9, loss=0.000117]\n"
     ]
    },
    {
     "name": "stdout",
     "output_type": "stream",
     "text": [
      "✅ Fold 8: Test Accuracy = 99.50%\n"
     ]
    },
    {
     "name": "stderr",
     "output_type": "stream",
     "text": [
      "Epoch [29/50]: 100%|███| 282/282 [01:27<00:00,  3.22it/s, acc=100, loss=1.53e-5]\n"
     ]
    },
    {
     "name": "stdout",
     "output_type": "stream",
     "text": [
      "✅ Fold 8: Test Accuracy = 99.50%\n"
     ]
    },
    {
     "name": "stderr",
     "output_type": "stream",
     "text": [
      "Epoch [30/50]: 100%|███| 282/282 [01:27<00:00,  3.22it/s, acc=100, loss=0.00024]\n"
     ]
    },
    {
     "name": "stdout",
     "output_type": "stream",
     "text": [
      "✅ Fold 8: Test Accuracy = 99.60%\n"
     ]
    },
    {
     "name": "stderr",
     "output_type": "stream",
     "text": [
      "Epoch [31/50]: 100%|███| 282/282 [01:27<00:00,  3.22it/s, acc=100, loss=0.00245]\n"
     ]
    },
    {
     "name": "stdout",
     "output_type": "stream",
     "text": [
      "✅ Fold 8: Test Accuracy = 99.50%\n"
     ]
    },
    {
     "name": "stderr",
     "output_type": "stream",
     "text": [
      "Epoch [32/50]: 100%|██| 282/282 [01:27<00:00,  3.22it/s, acc=99.9, loss=0.00159]\n"
     ]
    },
    {
     "name": "stdout",
     "output_type": "stream",
     "text": [
      "✅ Fold 8: Test Accuracy = 99.50%\n"
     ]
    },
    {
     "name": "stderr",
     "output_type": "stream",
     "text": [
      "Epoch [33/50]: 100%|██| 282/282 [01:27<00:00,  3.22it/s, acc=99.9, loss=5.76e-5]\n"
     ]
    },
    {
     "name": "stdout",
     "output_type": "stream",
     "text": [
      "✅ Fold 8: Test Accuracy = 99.50%\n"
     ]
    },
    {
     "name": "stderr",
     "output_type": "stream",
     "text": [
      "Epoch [34/50]: 100%|██| 282/282 [01:27<00:00,  3.22it/s, acc=99.9, loss=6.06e-5]\n"
     ]
    },
    {
     "name": "stdout",
     "output_type": "stream",
     "text": [
      "✅ Fold 8: Test Accuracy = 99.50%\n"
     ]
    },
    {
     "name": "stderr",
     "output_type": "stream",
     "text": [
      "Epoch [35/50]: 100%|██| 282/282 [01:27<00:00,  3.22it/s, acc=99.9, loss=6.85e-5]\n"
     ]
    },
    {
     "name": "stdout",
     "output_type": "stream",
     "text": [
      "✅ Fold 8: Test Accuracy = 99.50%\n"
     ]
    },
    {
     "name": "stderr",
     "output_type": "stream",
     "text": [
      "Epoch [36/50]: 100%|██| 282/282 [01:27<00:00,  3.22it/s, acc=99.8, loss=0.00121]\n"
     ]
    },
    {
     "name": "stdout",
     "output_type": "stream",
     "text": [
      "✅ Fold 8: Test Accuracy = 99.40%\n"
     ]
    },
    {
     "name": "stderr",
     "output_type": "stream",
     "text": [
      "Epoch [37/50]: 100%|█| 282/282 [01:27<00:00,  3.22it/s, acc=99.9, loss=0.000263]\n"
     ]
    },
    {
     "name": "stdout",
     "output_type": "stream",
     "text": [
      "✅ Fold 8: Test Accuracy = 99.20%\n"
     ]
    },
    {
     "name": "stderr",
     "output_type": "stream",
     "text": [
      "Epoch [38/50]: 100%|███| 282/282 [01:27<00:00,  3.22it/s, acc=99.9, loss=0.0002]\n"
     ]
    },
    {
     "name": "stdout",
     "output_type": "stream",
     "text": [
      "✅ Fold 8: Test Accuracy = 99.40%\n"
     ]
    },
    {
     "name": "stderr",
     "output_type": "stream",
     "text": [
      "Epoch [39/50]: 100%|███| 282/282 [01:27<00:00,  3.22it/s, acc=100, loss=7.41e-5]\n"
     ]
    },
    {
     "name": "stdout",
     "output_type": "stream",
     "text": [
      "✅ Fold 8: Test Accuracy = 99.60%\n"
     ]
    },
    {
     "name": "stderr",
     "output_type": "stream",
     "text": [
      "Epoch [40/50]: 100%|███| 282/282 [01:27<00:00,  3.22it/s, acc=99.9, loss=8.7e-5]\n"
     ]
    },
    {
     "name": "stdout",
     "output_type": "stream",
     "text": [
      "✅ Fold 8: Test Accuracy = 99.50%\n"
     ]
    },
    {
     "name": "stderr",
     "output_type": "stream",
     "text": [
      "Epoch [41/50]: 100%|███| 282/282 [01:27<00:00,  3.22it/s, acc=99.9, loss=0.0218]\n"
     ]
    },
    {
     "name": "stdout",
     "output_type": "stream",
     "text": [
      "✅ Fold 8: Test Accuracy = 99.50%\n"
     ]
    },
    {
     "name": "stderr",
     "output_type": "stream",
     "text": [
      "Epoch [42/50]: 100%|██| 282/282 [01:27<00:00,  3.22it/s, acc=100, loss=0.000469]\n"
     ]
    },
    {
     "name": "stdout",
     "output_type": "stream",
     "text": [
      "✅ Fold 8: Test Accuracy = 99.50%\n"
     ]
    },
    {
     "name": "stderr",
     "output_type": "stream",
     "text": [
      "Epoch [43/50]: 100%|███| 282/282 [01:27<00:00,  3.22it/s, acc=100, loss=2.01e-5]\n"
     ]
    },
    {
     "name": "stdout",
     "output_type": "stream",
     "text": [
      "✅ Fold 8: Test Accuracy = 99.60%\n"
     ]
    },
    {
     "name": "stderr",
     "output_type": "stream",
     "text": [
      "Epoch [44/50]: 100%|██| 282/282 [01:27<00:00,  3.22it/s, acc=99.9, loss=0.00138]\n"
     ]
    },
    {
     "name": "stdout",
     "output_type": "stream",
     "text": [
      "✅ Fold 8: Test Accuracy = 99.50%\n"
     ]
    },
    {
     "name": "stderr",
     "output_type": "stream",
     "text": [
      "Epoch [45/50]: 100%|██| 282/282 [01:27<00:00,  3.22it/s, acc=99.9, loss=1.06e-5]\n"
     ]
    },
    {
     "name": "stdout",
     "output_type": "stream",
     "text": [
      "✅ Fold 8: Test Accuracy = 99.50%\n"
     ]
    },
    {
     "name": "stderr",
     "output_type": "stream",
     "text": [
      "Epoch [46/50]: 100%|██| 282/282 [01:27<00:00,  3.22it/s, acc=99.9, loss=2.28e-5]\n"
     ]
    },
    {
     "name": "stdout",
     "output_type": "stream",
     "text": [
      "✅ Fold 8: Test Accuracy = 99.60%\n"
     ]
    },
    {
     "name": "stderr",
     "output_type": "stream",
     "text": [
      "Epoch [47/50]: 100%|███| 282/282 [01:27<00:00,  3.22it/s, acc=100, loss=0.00036]\n"
     ]
    },
    {
     "name": "stdout",
     "output_type": "stream",
     "text": [
      "✅ Fold 8: Test Accuracy = 99.60%\n"
     ]
    },
    {
     "name": "stderr",
     "output_type": "stream",
     "text": [
      "Epoch [48/50]: 100%|██| 282/282 [01:27<00:00,  3.22it/s, acc=99.9, loss=4.58e-5]\n"
     ]
    },
    {
     "name": "stdout",
     "output_type": "stream",
     "text": [
      "✅ Fold 8: Test Accuracy = 99.60%\n"
     ]
    },
    {
     "name": "stderr",
     "output_type": "stream",
     "text": [
      "Epoch [49/50]: 100%|███| 282/282 [01:27<00:00,  3.22it/s, acc=100, loss=5.77e-5]\n"
     ]
    },
    {
     "name": "stdout",
     "output_type": "stream",
     "text": [
      "✅ Fold 8: Test Accuracy = 99.60%\n"
     ]
    },
    {
     "name": "stderr",
     "output_type": "stream",
     "text": [
      "Epoch [50/50]: 100%|███| 282/282 [01:27<00:00,  3.22it/s, acc=99.9, loss=0.0149]\n"
     ]
    },
    {
     "name": "stdout",
     "output_type": "stream",
     "text": [
      "✅ Fold 8: Test Accuracy = 99.50%\n",
      "\n",
      "🚀 Training Fold 9/10\n"
     ]
    },
    {
     "name": "stderr",
     "output_type": "stream",
     "text": [
      "Epoch [1/50]: 100%|████| 282/282 [01:27<00:00,  3.22it/s, acc=95.9, loss=0.0763]\n"
     ]
    },
    {
     "name": "stdout",
     "output_type": "stream",
     "text": [
      "✅ Fold 9: Test Accuracy = 99.30%\n",
      "🎯 New best model saved with accuracy: 99.30%\n"
     ]
    },
    {
     "name": "stderr",
     "output_type": "stream",
     "text": [
      "Epoch [2/50]: 100%|████| 282/282 [01:27<00:00,  3.22it/s, acc=99.3, loss=0.0223]\n"
     ]
    },
    {
     "name": "stdout",
     "output_type": "stream",
     "text": [
      "✅ Fold 9: Test Accuracy = 99.70%\n",
      "🎯 New best model saved with accuracy: 99.70%\n"
     ]
    },
    {
     "name": "stderr",
     "output_type": "stream",
     "text": [
      "Epoch [3/50]: 100%|███| 282/282 [01:27<00:00,  3.23it/s, acc=99.5, loss=0.00335]\n"
     ]
    },
    {
     "name": "stdout",
     "output_type": "stream",
     "text": [
      "✅ Fold 9: Test Accuracy = 99.60%\n"
     ]
    },
    {
     "name": "stderr",
     "output_type": "stream",
     "text": [
      "Epoch [4/50]: 100%|██| 282/282 [01:27<00:00,  3.22it/s, acc=99.7, loss=0.000638]\n"
     ]
    },
    {
     "name": "stdout",
     "output_type": "stream",
     "text": [
      "✅ Fold 9: Test Accuracy = 99.60%\n"
     ]
    },
    {
     "name": "stderr",
     "output_type": "stream",
     "text": [
      "Epoch [5/50]: 100%|██| 282/282 [01:27<00:00,  3.22it/s, acc=99.8, loss=0.000558]\n"
     ]
    },
    {
     "name": "stdout",
     "output_type": "stream",
     "text": [
      "✅ Fold 9: Test Accuracy = 99.50%\n"
     ]
    },
    {
     "name": "stderr",
     "output_type": "stream",
     "text": [
      "Epoch [6/50]: 100%|███| 282/282 [01:27<00:00,  3.22it/s, acc=99.8, loss=0.00152]\n"
     ]
    },
    {
     "name": "stdout",
     "output_type": "stream",
     "text": [
      "✅ Fold 9: Test Accuracy = 99.70%\n"
     ]
    },
    {
     "name": "stderr",
     "output_type": "stream",
     "text": [
      "Epoch [7/50]: 100%|███| 282/282 [01:27<00:00,  3.22it/s, acc=99.9, loss=0.00949]\n"
     ]
    },
    {
     "name": "stdout",
     "output_type": "stream",
     "text": [
      "✅ Fold 9: Test Accuracy = 99.90%\n",
      "🎯 New best model saved with accuracy: 99.90%\n"
     ]
    },
    {
     "name": "stderr",
     "output_type": "stream",
     "text": [
      "Epoch [8/50]: 100%|██| 282/282 [01:27<00:00,  3.22it/s, acc=99.8, loss=0.000306]\n"
     ]
    },
    {
     "name": "stdout",
     "output_type": "stream",
     "text": [
      "✅ Fold 9: Test Accuracy = 99.50%\n"
     ]
    },
    {
     "name": "stderr",
     "output_type": "stream",
     "text": [
      "Epoch [9/50]: 100%|██| 282/282 [01:27<00:00,  3.22it/s, acc=99.9, loss=0.000335]\n"
     ]
    },
    {
     "name": "stdout",
     "output_type": "stream",
     "text": [
      "✅ Fold 9: Test Accuracy = 99.70%\n"
     ]
    },
    {
     "name": "stderr",
     "output_type": "stream",
     "text": [
      "Epoch [10/50]: 100%|█| 282/282 [01:27<00:00,  3.22it/s, acc=99.9, loss=0.000248]\n"
     ]
    },
    {
     "name": "stdout",
     "output_type": "stream",
     "text": [
      "✅ Fold 9: Test Accuracy = 99.80%\n"
     ]
    },
    {
     "name": "stderr",
     "output_type": "stream",
     "text": [
      "Epoch [11/50]: 100%|█| 282/282 [01:27<00:00,  3.22it/s, acc=99.8, loss=0.000237]\n"
     ]
    },
    {
     "name": "stdout",
     "output_type": "stream",
     "text": [
      "✅ Fold 9: Test Accuracy = 99.70%\n"
     ]
    },
    {
     "name": "stderr",
     "output_type": "stream",
     "text": [
      "Epoch [12/50]: 100%|██| 282/282 [01:27<00:00,  3.22it/s, acc=99.8, loss=0.00274]\n"
     ]
    },
    {
     "name": "stdout",
     "output_type": "stream",
     "text": [
      "✅ Fold 9: Test Accuracy = 99.70%\n"
     ]
    },
    {
     "name": "stderr",
     "output_type": "stream",
     "text": [
      "Epoch [13/50]: 100%|█| 282/282 [01:27<00:00,  3.22it/s, acc=99.9, loss=0.000525]\n"
     ]
    },
    {
     "name": "stdout",
     "output_type": "stream",
     "text": [
      "✅ Fold 9: Test Accuracy = 99.80%\n"
     ]
    },
    {
     "name": "stderr",
     "output_type": "stream",
     "text": [
      "Epoch [14/50]: 100%|█| 282/282 [01:27<00:00,  3.22it/s, acc=99.9, loss=0.000151]\n"
     ]
    },
    {
     "name": "stdout",
     "output_type": "stream",
     "text": [
      "✅ Fold 9: Test Accuracy = 99.80%\n"
     ]
    },
    {
     "name": "stderr",
     "output_type": "stream",
     "text": [
      "Epoch [15/50]: 100%|█| 282/282 [01:27<00:00,  3.22it/s, acc=99.9, loss=0.000316]\n"
     ]
    },
    {
     "name": "stdout",
     "output_type": "stream",
     "text": [
      "✅ Fold 9: Test Accuracy = 99.80%\n"
     ]
    },
    {
     "name": "stderr",
     "output_type": "stream",
     "text": [
      "Epoch [16/50]: 100%|█| 282/282 [01:27<00:00,  3.22it/s, acc=99.9, loss=0.000246]\n"
     ]
    },
    {
     "name": "stdout",
     "output_type": "stream",
     "text": [
      "✅ Fold 9: Test Accuracy = 99.80%\n"
     ]
    },
    {
     "name": "stderr",
     "output_type": "stream",
     "text": [
      "Epoch [17/50]: 100%|█| 282/282 [01:27<00:00,  3.22it/s, acc=99.8, loss=0.000472]\n"
     ]
    },
    {
     "name": "stdout",
     "output_type": "stream",
     "text": [
      "✅ Fold 9: Test Accuracy = 99.60%\n"
     ]
    },
    {
     "name": "stderr",
     "output_type": "stream",
     "text": [
      "Epoch [18/50]: 100%|█| 282/282 [01:27<00:00,  3.22it/s, acc=99.9, loss=0.000128]\n"
     ]
    },
    {
     "name": "stdout",
     "output_type": "stream",
     "text": [
      "✅ Fold 9: Test Accuracy = 99.50%\n"
     ]
    },
    {
     "name": "stderr",
     "output_type": "stream",
     "text": [
      "Epoch [19/50]: 100%|█| 282/282 [01:27<00:00,  3.22it/s, acc=99.9, loss=0.000126]\n"
     ]
    },
    {
     "name": "stdout",
     "output_type": "stream",
     "text": [
      "✅ Fold 9: Test Accuracy = 99.70%\n"
     ]
    },
    {
     "name": "stderr",
     "output_type": "stream",
     "text": [
      "Epoch [20/50]: 100%|██| 282/282 [01:27<00:00,  3.22it/s, acc=99.9, loss=0.00057]\n"
     ]
    },
    {
     "name": "stdout",
     "output_type": "stream",
     "text": [
      "✅ Fold 9: Test Accuracy = 99.60%\n"
     ]
    },
    {
     "name": "stderr",
     "output_type": "stream",
     "text": [
      "Epoch [21/50]: 100%|█| 282/282 [01:27<00:00,  3.22it/s, acc=99.9, loss=0.000733]\n"
     ]
    },
    {
     "name": "stdout",
     "output_type": "stream",
     "text": [
      "✅ Fold 9: Test Accuracy = 99.70%\n"
     ]
    },
    {
     "name": "stderr",
     "output_type": "stream",
     "text": [
      "Epoch [22/50]: 100%|█| 282/282 [01:27<00:00,  3.22it/s, acc=99.9, loss=0.000187]\n"
     ]
    },
    {
     "name": "stdout",
     "output_type": "stream",
     "text": [
      "✅ Fold 9: Test Accuracy = 99.70%\n"
     ]
    },
    {
     "name": "stderr",
     "output_type": "stream",
     "text": [
      "Epoch [23/50]: 100%|█| 282/282 [01:27<00:00,  3.22it/s, acc=99.9, loss=0.000288]\n"
     ]
    },
    {
     "name": "stdout",
     "output_type": "stream",
     "text": [
      "✅ Fold 9: Test Accuracy = 99.90%\n"
     ]
    },
    {
     "name": "stderr",
     "output_type": "stream",
     "text": [
      "Epoch [24/50]: 100%|███| 282/282 [01:27<00:00,  3.22it/s, acc=100, loss=5.81e-5]\n"
     ]
    },
    {
     "name": "stdout",
     "output_type": "stream",
     "text": [
      "✅ Fold 9: Test Accuracy = 99.90%\n"
     ]
    },
    {
     "name": "stderr",
     "output_type": "stream",
     "text": [
      "Epoch [25/50]: 100%|██| 282/282 [01:27<00:00,  3.22it/s, acc=99.9, loss=0.00481]\n"
     ]
    },
    {
     "name": "stdout",
     "output_type": "stream",
     "text": [
      "✅ Fold 9: Test Accuracy = 99.90%\n"
     ]
    },
    {
     "name": "stderr",
     "output_type": "stream",
     "text": [
      "Epoch [26/50]: 100%|███| 282/282 [01:27<00:00,  3.22it/s, acc=99.9, loss=0.0108]\n"
     ]
    },
    {
     "name": "stdout",
     "output_type": "stream",
     "text": [
      "✅ Fold 9: Test Accuracy = 99.90%\n"
     ]
    },
    {
     "name": "stderr",
     "output_type": "stream",
     "text": [
      "Epoch [27/50]: 100%|█| 282/282 [01:27<00:00,  3.22it/s, acc=99.9, loss=0.000115]\n"
     ]
    },
    {
     "name": "stdout",
     "output_type": "stream",
     "text": [
      "✅ Fold 9: Test Accuracy = 99.80%\n"
     ]
    },
    {
     "name": "stderr",
     "output_type": "stream",
     "text": [
      "Epoch [28/50]: 100%|█| 282/282 [01:27<00:00,  3.22it/s, acc=99.9, loss=0.000127]\n"
     ]
    },
    {
     "name": "stdout",
     "output_type": "stream",
     "text": [
      "✅ Fold 9: Test Accuracy = 99.80%\n"
     ]
    },
    {
     "name": "stderr",
     "output_type": "stream",
     "text": [
      "Epoch [29/50]: 100%|███| 282/282 [01:27<00:00,  3.22it/s, acc=99.9, loss=3.9e-5]\n"
     ]
    },
    {
     "name": "stdout",
     "output_type": "stream",
     "text": [
      "✅ Fold 9: Test Accuracy = 99.80%\n"
     ]
    },
    {
     "name": "stderr",
     "output_type": "stream",
     "text": [
      "Epoch [30/50]: 100%|██| 282/282 [01:27<00:00,  3.22it/s, acc=100, loss=0.000322]\n"
     ]
    },
    {
     "name": "stdout",
     "output_type": "stream",
     "text": [
      "✅ Fold 9: Test Accuracy = 99.80%\n"
     ]
    },
    {
     "name": "stderr",
     "output_type": "stream",
     "text": [
      "Epoch [31/50]: 100%|███| 282/282 [01:27<00:00,  3.22it/s, acc=99.8, loss=0.0002]\n"
     ]
    },
    {
     "name": "stdout",
     "output_type": "stream",
     "text": [
      "✅ Fold 9: Test Accuracy = 99.60%\n"
     ]
    },
    {
     "name": "stderr",
     "output_type": "stream",
     "text": [
      "Epoch [32/50]: 100%|███| 282/282 [01:27<00:00,  3.22it/s, acc=100, loss=2.42e-5]\n"
     ]
    },
    {
     "name": "stdout",
     "output_type": "stream",
     "text": [
      "✅ Fold 9: Test Accuracy = 99.70%\n"
     ]
    },
    {
     "name": "stderr",
     "output_type": "stream",
     "text": [
      "Epoch [33/50]: 100%|█| 282/282 [01:27<00:00,  3.22it/s, acc=99.9, loss=0.000174]\n"
     ]
    },
    {
     "name": "stdout",
     "output_type": "stream",
     "text": [
      "✅ Fold 9: Test Accuracy = 99.70%\n"
     ]
    },
    {
     "name": "stderr",
     "output_type": "stream",
     "text": [
      "Epoch [34/50]: 100%|█| 282/282 [01:27<00:00,  3.22it/s, acc=99.9, loss=0.000214]\n"
     ]
    },
    {
     "name": "stdout",
     "output_type": "stream",
     "text": [
      "✅ Fold 9: Test Accuracy = 99.90%\n"
     ]
    },
    {
     "name": "stderr",
     "output_type": "stream",
     "text": [
      "Epoch [35/50]: 100%|██| 282/282 [01:27<00:00,  3.22it/s, acc=100, loss=0.000247]\n"
     ]
    },
    {
     "name": "stdout",
     "output_type": "stream",
     "text": [
      "✅ Fold 9: Test Accuracy = 99.80%\n"
     ]
    },
    {
     "name": "stderr",
     "output_type": "stream",
     "text": [
      "Epoch [36/50]: 100%|█| 282/282 [01:27<00:00,  3.22it/s, acc=99.9, loss=0.000117]\n"
     ]
    },
    {
     "name": "stdout",
     "output_type": "stream",
     "text": [
      "✅ Fold 9: Test Accuracy = 99.90%\n"
     ]
    },
    {
     "name": "stderr",
     "output_type": "stream",
     "text": [
      "Epoch [37/50]: 100%|██| 282/282 [01:27<00:00,  3.22it/s, acc=99.9, loss=6.01e-5]\n"
     ]
    },
    {
     "name": "stdout",
     "output_type": "stream",
     "text": [
      "✅ Fold 9: Test Accuracy = 99.90%\n"
     ]
    },
    {
     "name": "stderr",
     "output_type": "stream",
     "text": [
      "Epoch [38/50]: 100%|██| 282/282 [01:27<00:00,  3.22it/s, acc=100, loss=0.000129]\n"
     ]
    },
    {
     "name": "stdout",
     "output_type": "stream",
     "text": [
      "✅ Fold 9: Test Accuracy = 99.90%\n"
     ]
    },
    {
     "name": "stderr",
     "output_type": "stream",
     "text": [
      "Epoch [39/50]: 100%|██| 282/282 [01:27<00:00,  3.22it/s, acc=100, loss=0.000122]\n"
     ]
    },
    {
     "name": "stdout",
     "output_type": "stream",
     "text": [
      "✅ Fold 9: Test Accuracy = 99.80%\n"
     ]
    },
    {
     "name": "stderr",
     "output_type": "stream",
     "text": [
      "Epoch [40/50]: 100%|██| 282/282 [01:27<00:00,  3.22it/s, acc=99.9, loss=3.74e-5]\n"
     ]
    },
    {
     "name": "stdout",
     "output_type": "stream",
     "text": [
      "✅ Fold 9: Test Accuracy = 99.80%\n"
     ]
    },
    {
     "name": "stderr",
     "output_type": "stream",
     "text": [
      "Epoch [41/50]: 100%|████| 282/282 [01:27<00:00,  3.22it/s, acc=100, loss=0.0619]\n"
     ]
    },
    {
     "name": "stdout",
     "output_type": "stream",
     "text": [
      "✅ Fold 9: Test Accuracy = 99.50%\n"
     ]
    },
    {
     "name": "stderr",
     "output_type": "stream",
     "text": [
      "Epoch [42/50]: 100%|█| 282/282 [01:27<00:00,  3.22it/s, acc=99.9, loss=0.000373]\n"
     ]
    },
    {
     "name": "stdout",
     "output_type": "stream",
     "text": [
      "✅ Fold 9: Test Accuracy = 99.80%\n"
     ]
    },
    {
     "name": "stderr",
     "output_type": "stream",
     "text": [
      "Epoch [43/50]: 100%|████| 282/282 [01:27<00:00,  3.22it/s, acc=100, loss=3.8e-5]\n"
     ]
    },
    {
     "name": "stdout",
     "output_type": "stream",
     "text": [
      "✅ Fold 9: Test Accuracy = 99.80%\n"
     ]
    },
    {
     "name": "stderr",
     "output_type": "stream",
     "text": [
      "Epoch [44/50]: 100%|███| 282/282 [01:27<00:00,  3.22it/s, acc=100, loss=0.00107]\n"
     ]
    },
    {
     "name": "stdout",
     "output_type": "stream",
     "text": [
      "✅ Fold 9: Test Accuracy = 99.90%\n"
     ]
    },
    {
     "name": "stderr",
     "output_type": "stream",
     "text": [
      "Epoch [45/50]: 100%|███| 282/282 [01:27<00:00,  3.22it/s, acc=100, loss=3.29e-5]\n"
     ]
    },
    {
     "name": "stdout",
     "output_type": "stream",
     "text": [
      "✅ Fold 9: Test Accuracy = 99.70%\n"
     ]
    },
    {
     "name": "stderr",
     "output_type": "stream",
     "text": [
      "Epoch [46/50]: 100%|█| 282/282 [01:27<00:00,  3.22it/s, acc=99.9, loss=0.000174]\n"
     ]
    },
    {
     "name": "stdout",
     "output_type": "stream",
     "text": [
      "✅ Fold 9: Test Accuracy = 99.90%\n"
     ]
    },
    {
     "name": "stderr",
     "output_type": "stream",
     "text": [
      "Epoch [47/50]: 100%|███| 282/282 [01:27<00:00,  3.22it/s, acc=100, loss=8.12e-5]\n"
     ]
    },
    {
     "name": "stdout",
     "output_type": "stream",
     "text": [
      "✅ Fold 9: Test Accuracy = 99.80%\n"
     ]
    },
    {
     "name": "stderr",
     "output_type": "stream",
     "text": [
      "Epoch [48/50]: 100%|███| 282/282 [01:27<00:00,  3.22it/s, acc=100, loss=7.08e-6]\n"
     ]
    },
    {
     "name": "stdout",
     "output_type": "stream",
     "text": [
      "✅ Fold 9: Test Accuracy = 99.60%\n"
     ]
    },
    {
     "name": "stderr",
     "output_type": "stream",
     "text": [
      "Epoch [49/50]: 100%|███| 282/282 [01:27<00:00,  3.22it/s, acc=100, loss=6.65e-5]\n"
     ]
    },
    {
     "name": "stdout",
     "output_type": "stream",
     "text": [
      "✅ Fold 9: Test Accuracy = 99.80%\n"
     ]
    },
    {
     "name": "stderr",
     "output_type": "stream",
     "text": [
      "Epoch [50/50]: 100%|███| 282/282 [01:27<00:00,  3.22it/s, acc=100, loss=2.67e-5]\n"
     ]
    },
    {
     "name": "stdout",
     "output_type": "stream",
     "text": [
      "✅ Fold 9: Test Accuracy = 99.80%\n",
      "\n",
      "🚀 Training Fold 10/10\n"
     ]
    },
    {
     "name": "stderr",
     "output_type": "stream",
     "text": [
      "Epoch [1/50]: 100%|███| 282/282 [01:27<00:00,  3.22it/s, acc=96.1, loss=0.00573]\n"
     ]
    },
    {
     "name": "stdout",
     "output_type": "stream",
     "text": [
      "✅ Fold 10: Test Accuracy = 99.20%\n",
      "🎯 New best model saved with accuracy: 99.20%\n"
     ]
    },
    {
     "name": "stderr",
     "output_type": "stream",
     "text": [
      "Epoch [2/50]: 100%|████| 282/282 [01:27<00:00,  3.22it/s, acc=99.6, loss=0.0144]\n"
     ]
    },
    {
     "name": "stdout",
     "output_type": "stream",
     "text": [
      "✅ Fold 10: Test Accuracy = 99.10%\n"
     ]
    },
    {
     "name": "stderr",
     "output_type": "stream",
     "text": [
      "Epoch [3/50]: 100%|████| 282/282 [01:27<00:00,  3.22it/s, acc=99.7, loss=0.0288]\n"
     ]
    },
    {
     "name": "stdout",
     "output_type": "stream",
     "text": [
      "✅ Fold 10: Test Accuracy = 99.00%\n"
     ]
    },
    {
     "name": "stderr",
     "output_type": "stream",
     "text": [
      "Epoch [4/50]: 100%|███| 282/282 [01:27<00:00,  3.22it/s, acc=99.6, loss=0.00148]\n"
     ]
    },
    {
     "name": "stdout",
     "output_type": "stream",
     "text": [
      "✅ Fold 10: Test Accuracy = 99.60%\n",
      "🎯 New best model saved with accuracy: 99.60%\n"
     ]
    },
    {
     "name": "stderr",
     "output_type": "stream",
     "text": [
      "Epoch [5/50]: 100%|██| 282/282 [01:27<00:00,  3.23it/s, acc=99.8, loss=0.000377]\n"
     ]
    },
    {
     "name": "stdout",
     "output_type": "stream",
     "text": [
      "✅ Fold 10: Test Accuracy = 99.50%\n"
     ]
    },
    {
     "name": "stderr",
     "output_type": "stream",
     "text": [
      "Epoch [6/50]: 100%|███| 282/282 [01:27<00:00,  3.22it/s, acc=99.8, loss=0.00559]\n"
     ]
    },
    {
     "name": "stdout",
     "output_type": "stream",
     "text": [
      "✅ Fold 10: Test Accuracy = 99.60%\n"
     ]
    },
    {
     "name": "stderr",
     "output_type": "stream",
     "text": [
      "Epoch [7/50]: 100%|████| 282/282 [01:27<00:00,  3.22it/s, acc=99.7, loss=0.0018]\n"
     ]
    },
    {
     "name": "stdout",
     "output_type": "stream",
     "text": [
      "✅ Fold 10: Test Accuracy = 99.80%\n",
      "🎯 New best model saved with accuracy: 99.80%\n"
     ]
    },
    {
     "name": "stderr",
     "output_type": "stream",
     "text": [
      "Epoch [8/50]: 100%|███| 282/282 [01:27<00:00,  3.23it/s, acc=99.8, loss=0.00111]\n"
     ]
    },
    {
     "name": "stdout",
     "output_type": "stream",
     "text": [
      "✅ Fold 10: Test Accuracy = 99.60%\n"
     ]
    },
    {
     "name": "stderr",
     "output_type": "stream",
     "text": [
      "Epoch [9/50]: 100%|██| 282/282 [01:27<00:00,  3.22it/s, acc=99.9, loss=0.000465]\n"
     ]
    },
    {
     "name": "stdout",
     "output_type": "stream",
     "text": [
      "✅ Fold 10: Test Accuracy = 99.90%\n",
      "🎯 New best model saved with accuracy: 99.90%\n"
     ]
    },
    {
     "name": "stderr",
     "output_type": "stream",
     "text": [
      "Epoch [10/50]: 100%|██| 282/282 [01:27<00:00,  3.23it/s, acc=99.8, loss=0.00159]\n"
     ]
    },
    {
     "name": "stdout",
     "output_type": "stream",
     "text": [
      "✅ Fold 10: Test Accuracy = 99.60%\n"
     ]
    },
    {
     "name": "stderr",
     "output_type": "stream",
     "text": [
      "Epoch [11/50]: 100%|█| 282/282 [01:27<00:00,  3.22it/s, acc=99.9, loss=0.000124]\n"
     ]
    },
    {
     "name": "stdout",
     "output_type": "stream",
     "text": [
      "✅ Fold 10: Test Accuracy = 99.80%\n"
     ]
    },
    {
     "name": "stderr",
     "output_type": "stream",
     "text": [
      "Epoch [12/50]: 100%|███| 282/282 [01:27<00:00,  3.22it/s, acc=99.9, loss=0.0054]\n"
     ]
    },
    {
     "name": "stdout",
     "output_type": "stream",
     "text": [
      "✅ Fold 10: Test Accuracy = 99.80%\n"
     ]
    },
    {
     "name": "stderr",
     "output_type": "stream",
     "text": [
      "Epoch [13/50]: 100%|██| 282/282 [01:27<00:00,  3.22it/s, acc=99.8, loss=1.97e-5]\n"
     ]
    },
    {
     "name": "stdout",
     "output_type": "stream",
     "text": [
      "✅ Fold 10: Test Accuracy = 99.60%\n"
     ]
    },
    {
     "name": "stderr",
     "output_type": "stream",
     "text": [
      "Epoch [14/50]: 100%|██| 282/282 [01:27<00:00,  3.22it/s, acc=99.9, loss=8.57e-5]\n"
     ]
    },
    {
     "name": "stdout",
     "output_type": "stream",
     "text": [
      "✅ Fold 10: Test Accuracy = 99.70%\n"
     ]
    },
    {
     "name": "stderr",
     "output_type": "stream",
     "text": [
      "Epoch [15/50]: 100%|█| 282/282 [01:27<00:00,  3.22it/s, acc=99.9, loss=0.000995]\n"
     ]
    },
    {
     "name": "stdout",
     "output_type": "stream",
     "text": [
      "✅ Fold 10: Test Accuracy = 99.80%\n"
     ]
    },
    {
     "name": "stderr",
     "output_type": "stream",
     "text": [
      "Epoch [16/50]: 100%|█| 282/282 [01:27<00:00,  3.22it/s, acc=99.9, loss=0.000344]\n"
     ]
    },
    {
     "name": "stdout",
     "output_type": "stream",
     "text": [
      "✅ Fold 10: Test Accuracy = 99.70%\n"
     ]
    },
    {
     "name": "stderr",
     "output_type": "stream",
     "text": [
      "Epoch [17/50]: 100%|█| 282/282 [01:27<00:00,  3.22it/s, acc=99.9, loss=0.000364]\n"
     ]
    },
    {
     "name": "stdout",
     "output_type": "stream",
     "text": [
      "✅ Fold 10: Test Accuracy = 99.60%\n"
     ]
    },
    {
     "name": "stderr",
     "output_type": "stream",
     "text": [
      "Epoch [18/50]: 100%|█| 282/282 [01:27<00:00,  3.22it/s, acc=99.9, loss=0.000104]\n"
     ]
    },
    {
     "name": "stdout",
     "output_type": "stream",
     "text": [
      "✅ Fold 10: Test Accuracy = 99.60%\n"
     ]
    },
    {
     "name": "stderr",
     "output_type": "stream",
     "text": [
      "Epoch [19/50]: 100%|█| 282/282 [01:27<00:00,  3.22it/s, acc=99.9, loss=0.000121]\n"
     ]
    },
    {
     "name": "stdout",
     "output_type": "stream",
     "text": [
      "✅ Fold 10: Test Accuracy = 99.80%\n"
     ]
    },
    {
     "name": "stderr",
     "output_type": "stream",
     "text": [
      "Epoch [20/50]: 100%|██| 282/282 [01:27<00:00,  3.22it/s, acc=99.9, loss=4.43e-5]\n"
     ]
    },
    {
     "name": "stdout",
     "output_type": "stream",
     "text": [
      "✅ Fold 10: Test Accuracy = 99.70%\n"
     ]
    },
    {
     "name": "stderr",
     "output_type": "stream",
     "text": [
      "Epoch [21/50]: 100%|███| 282/282 [01:27<00:00,  3.22it/s, acc=100, loss=9.08e-5]\n"
     ]
    },
    {
     "name": "stdout",
     "output_type": "stream",
     "text": [
      "✅ Fold 10: Test Accuracy = 99.80%\n"
     ]
    },
    {
     "name": "stderr",
     "output_type": "stream",
     "text": [
      "Epoch [22/50]: 100%|██| 282/282 [01:27<00:00,  3.22it/s, acc=99.9, loss=0.00912]\n"
     ]
    },
    {
     "name": "stdout",
     "output_type": "stream",
     "text": [
      "✅ Fold 10: Test Accuracy = 99.60%\n"
     ]
    },
    {
     "name": "stderr",
     "output_type": "stream",
     "text": [
      "Epoch [23/50]: 100%|█| 282/282 [01:27<00:00,  3.22it/s, acc=99.9, loss=0.000366]\n"
     ]
    },
    {
     "name": "stdout",
     "output_type": "stream",
     "text": [
      "✅ Fold 10: Test Accuracy = 99.70%\n"
     ]
    },
    {
     "name": "stderr",
     "output_type": "stream",
     "text": [
      "Epoch [24/50]: 100%|██| 282/282 [01:27<00:00,  3.22it/s, acc=99.9, loss=1.49e-5]\n"
     ]
    },
    {
     "name": "stdout",
     "output_type": "stream",
     "text": [
      "✅ Fold 10: Test Accuracy = 99.70%\n"
     ]
    },
    {
     "name": "stderr",
     "output_type": "stream",
     "text": [
      "Epoch [25/50]: 100%|██| 282/282 [01:27<00:00,  3.22it/s, acc=99.9, loss=4.64e-5]\n"
     ]
    },
    {
     "name": "stdout",
     "output_type": "stream",
     "text": [
      "✅ Fold 10: Test Accuracy = 99.60%\n"
     ]
    },
    {
     "name": "stderr",
     "output_type": "stream",
     "text": [
      "Epoch [26/50]: 100%|█| 282/282 [01:27<00:00,  3.22it/s, acc=99.9, loss=0.000224]\n"
     ]
    },
    {
     "name": "stdout",
     "output_type": "stream",
     "text": [
      "✅ Fold 10: Test Accuracy = 99.60%\n"
     ]
    },
    {
     "name": "stderr",
     "output_type": "stream",
     "text": [
      "Epoch [27/50]: 100%|█| 282/282 [01:27<00:00,  3.21it/s, acc=99.9, loss=0.000543]\n"
     ]
    },
    {
     "name": "stdout",
     "output_type": "stream",
     "text": [
      "✅ Fold 10: Test Accuracy = 99.60%\n"
     ]
    },
    {
     "name": "stderr",
     "output_type": "stream",
     "text": [
      "Epoch [28/50]: 100%|██| 282/282 [01:27<00:00,  3.22it/s, acc=99.9, loss=2.55e-5]\n"
     ]
    },
    {
     "name": "stdout",
     "output_type": "stream",
     "text": [
      "✅ Fold 10: Test Accuracy = 99.60%\n"
     ]
    },
    {
     "name": "stderr",
     "output_type": "stream",
     "text": [
      "Epoch [29/50]: 100%|██| 282/282 [01:27<00:00,  3.22it/s, acc=100, loss=0.000562]\n"
     ]
    },
    {
     "name": "stdout",
     "output_type": "stream",
     "text": [
      "✅ Fold 10: Test Accuracy = 99.70%\n"
     ]
    },
    {
     "name": "stderr",
     "output_type": "stream",
     "text": [
      "Epoch [30/50]: 100%|██| 282/282 [01:27<00:00,  3.22it/s, acc=100, loss=0.000185]\n"
     ]
    },
    {
     "name": "stdout",
     "output_type": "stream",
     "text": [
      "✅ Fold 10: Test Accuracy = 99.70%\n"
     ]
    },
    {
     "name": "stderr",
     "output_type": "stream",
     "text": [
      "Epoch [31/50]: 100%|███| 282/282 [01:27<00:00,  3.22it/s, acc=100, loss=6.39e-5]\n"
     ]
    },
    {
     "name": "stdout",
     "output_type": "stream",
     "text": [
      "✅ Fold 10: Test Accuracy = 99.70%\n"
     ]
    },
    {
     "name": "stderr",
     "output_type": "stream",
     "text": [
      "Epoch [32/50]: 100%|██| 282/282 [01:27<00:00,  3.22it/s, acc=99.9, loss=2.21e-5]\n"
     ]
    },
    {
     "name": "stdout",
     "output_type": "stream",
     "text": [
      "✅ Fold 10: Test Accuracy = 99.80%\n"
     ]
    },
    {
     "name": "stderr",
     "output_type": "stream",
     "text": [
      "Epoch [33/50]: 100%|██| 282/282 [01:27<00:00,  3.22it/s, acc=100, loss=0.000715]\n"
     ]
    },
    {
     "name": "stdout",
     "output_type": "stream",
     "text": [
      "✅ Fold 10: Test Accuracy = 99.60%\n"
     ]
    },
    {
     "name": "stderr",
     "output_type": "stream",
     "text": [
      "Epoch [34/50]: 100%|███| 282/282 [01:27<00:00,  3.22it/s, acc=100, loss=5.75e-5]\n"
     ]
    },
    {
     "name": "stdout",
     "output_type": "stream",
     "text": [
      "✅ Fold 10: Test Accuracy = 99.70%\n"
     ]
    },
    {
     "name": "stderr",
     "output_type": "stream",
     "text": [
      "Epoch [35/50]: 100%|███| 282/282 [01:27<00:00,  3.22it/s, acc=100, loss=1.83e-5]\n"
     ]
    },
    {
     "name": "stdout",
     "output_type": "stream",
     "text": [
      "✅ Fold 10: Test Accuracy = 99.90%\n"
     ]
    },
    {
     "name": "stderr",
     "output_type": "stream",
     "text": [
      "Epoch [36/50]: 100%|█| 282/282 [01:27<00:00,  3.22it/s, acc=99.9, loss=0.000645]\n"
     ]
    },
    {
     "name": "stdout",
     "output_type": "stream",
     "text": [
      "✅ Fold 10: Test Accuracy = 99.70%\n"
     ]
    },
    {
     "name": "stderr",
     "output_type": "stream",
     "text": [
      "Epoch [37/50]: 100%|██| 282/282 [01:27<00:00,  3.22it/s, acc=99.9, loss=3.96e-5]\n"
     ]
    },
    {
     "name": "stdout",
     "output_type": "stream",
     "text": [
      "✅ Fold 10: Test Accuracy = 99.90%\n"
     ]
    },
    {
     "name": "stderr",
     "output_type": "stream",
     "text": [
      "Epoch [38/50]: 100%|██| 282/282 [01:27<00:00,  3.22it/s, acc=99.9, loss=4.98e-5]\n"
     ]
    },
    {
     "name": "stdout",
     "output_type": "stream",
     "text": [
      "✅ Fold 10: Test Accuracy = 99.70%\n"
     ]
    },
    {
     "name": "stderr",
     "output_type": "stream",
     "text": [
      "Epoch [39/50]: 100%|█| 282/282 [01:27<00:00,  3.22it/s, acc=99.9, loss=0.000172]\n"
     ]
    },
    {
     "name": "stdout",
     "output_type": "stream",
     "text": [
      "✅ Fold 10: Test Accuracy = 99.70%\n"
     ]
    },
    {
     "name": "stderr",
     "output_type": "stream",
     "text": [
      "Epoch [40/50]: 100%|███| 282/282 [01:27<00:00,  3.22it/s, acc=100, loss=0.00483]\n"
     ]
    },
    {
     "name": "stdout",
     "output_type": "stream",
     "text": [
      "✅ Fold 10: Test Accuracy = 99.70%\n"
     ]
    },
    {
     "name": "stderr",
     "output_type": "stream",
     "text": [
      "Epoch [41/50]: 100%|███| 282/282 [01:27<00:00,  3.22it/s, acc=99.9, loss=3.5e-5]\n"
     ]
    },
    {
     "name": "stdout",
     "output_type": "stream",
     "text": [
      "✅ Fold 10: Test Accuracy = 99.80%\n"
     ]
    },
    {
     "name": "stderr",
     "output_type": "stream",
     "text": [
      "Epoch [42/50]: 100%|██| 282/282 [01:27<00:00,  3.22it/s, acc=99.9, loss=8.64e-5]\n"
     ]
    },
    {
     "name": "stdout",
     "output_type": "stream",
     "text": [
      "✅ Fold 10: Test Accuracy = 99.80%\n"
     ]
    },
    {
     "name": "stderr",
     "output_type": "stream",
     "text": [
      "Epoch [43/50]: 100%|█| 282/282 [01:27<00:00,  3.22it/s, acc=99.9, loss=0.000116]\n"
     ]
    },
    {
     "name": "stdout",
     "output_type": "stream",
     "text": [
      "✅ Fold 10: Test Accuracy = 99.80%\n"
     ]
    },
    {
     "name": "stderr",
     "output_type": "stream",
     "text": [
      "Epoch [44/50]: 100%|██| 282/282 [01:27<00:00,  3.22it/s, acc=99.9, loss=8.47e-5]\n"
     ]
    },
    {
     "name": "stdout",
     "output_type": "stream",
     "text": [
      "✅ Fold 10: Test Accuracy = 99.80%\n"
     ]
    },
    {
     "name": "stderr",
     "output_type": "stream",
     "text": [
      "Epoch [45/50]: 100%|███| 282/282 [01:27<00:00,  3.22it/s, acc=100, loss=1.15e-5]\n"
     ]
    },
    {
     "name": "stdout",
     "output_type": "stream",
     "text": [
      "✅ Fold 10: Test Accuracy = 99.80%\n"
     ]
    },
    {
     "name": "stderr",
     "output_type": "stream",
     "text": [
      "Epoch [46/50]: 100%|██| 282/282 [01:27<00:00,  3.22it/s, acc=99.9, loss=5.91e-5]\n"
     ]
    },
    {
     "name": "stdout",
     "output_type": "stream",
     "text": [
      "✅ Fold 10: Test Accuracy = 99.60%\n"
     ]
    },
    {
     "name": "stderr",
     "output_type": "stream",
     "text": [
      "Epoch [47/50]: 100%|██| 282/282 [01:27<00:00,  3.22it/s, acc=100, loss=0.000503]\n"
     ]
    },
    {
     "name": "stdout",
     "output_type": "stream",
     "text": [
      "✅ Fold 10: Test Accuracy = 99.70%\n"
     ]
    },
    {
     "name": "stderr",
     "output_type": "stream",
     "text": [
      "Epoch [48/50]: 100%|██| 282/282 [01:27<00:00,  3.22it/s, acc=100, loss=0.000974]\n"
     ]
    },
    {
     "name": "stdout",
     "output_type": "stream",
     "text": [
      "✅ Fold 10: Test Accuracy = 99.50%\n"
     ]
    },
    {
     "name": "stderr",
     "output_type": "stream",
     "text": [
      "Epoch [49/50]: 100%|███| 282/282 [01:27<00:00,  3.21it/s, acc=100, loss=5.96e-5]\n"
     ]
    },
    {
     "name": "stdout",
     "output_type": "stream",
     "text": [
      "✅ Fold 10: Test Accuracy = 99.70%\n"
     ]
    },
    {
     "name": "stderr",
     "output_type": "stream",
     "text": [
      "Epoch [50/50]: 100%|███| 282/282 [01:27<00:00,  3.22it/s, acc=100, loss=2.71e-5]\n"
     ]
    },
    {
     "name": "stdout",
     "output_type": "stream",
     "text": [
      "✅ Fold 10: Test Accuracy = 99.80%\n"
     ]
    }
   ],
   "source": [
    "from torchvision import transforms\n",
    "import torch\n",
    "import numpy as np\n",
    "import os\n",
    "import matplotlib.pyplot as plt\n",
    "import seaborn as sns\n",
    "from torch.utils.data import DataLoader, Subset\n",
    "from sklearn.model_selection import StratifiedKFold\n",
    "from sklearn.metrics import confusion_matrix, classification_report, roc_curve, auc\n",
    "from torch.optim import Adagrad\n",
    "from torch.nn import CrossEntropyLoss\n",
    "from tqdm import tqdm\n",
    "\n",
    "# ✅ Data Augmentation for Training\n",
    "train_transform = transforms.Compose([\n",
    "    transforms.RandomHorizontalFlip(p=0.5),\n",
    "    transforms.RandomVerticalFlip(p=0.5),\n",
    "    transforms.RandomRotation(degrees=30),\n",
    "    transforms.ColorJitter(brightness=0.2, contrast=0.2, saturation=0.2, hue=0.1),\n",
    "    transforms.ToTensor(),\n",
    "])\n",
    "\n",
    "# ✅ Only Tensor + Normalization for Testing\n",
    "test_transform = transforms.Compose([\n",
    "    transforms.ToTensor(),\n",
    "])\n",
    "\n",
    "# Load full dataset (with neutral transform for indexing)\n",
    "base_dataset = SkinCancerDataset(root_dir=\"/home/lab115/Downloads/dataset/dataset\", transform=transforms.ToTensor())\n",
    "\n",
    "NUM_CLASSES = len(base_dataset.class_to_idx)\n",
    "BATCH_SIZE = 32\n",
    "EPOCHS = 50\n",
    "K_FOLDS = 10\n",
    "LEARNING_RATE = 0.0001\n",
    "\n",
    "# Extract labels to stratify\n",
    "targets = [base_dataset[i][1] for i in range(len(base_dataset))]\n",
    "\n",
    "skf = StratifiedKFold(n_splits=K_FOLDS, shuffle=True, random_state=42)\n",
    "splits = list(skf.split(np.zeros(len(targets)), targets))\n",
    "\n",
    "all_true_labels = []\n",
    "all_pred_labels = []\n",
    "all_probs = []\n",
    "\n",
    "for fold, (train_idx, test_idx) in enumerate(splits):\n",
    "    print(f\"\\n🚀 Training Fold {fold + 1}/{K_FOLDS}\")\n",
    "\n",
    "    # Separate datasets to avoid transform leakage\n",
    "    train_dataset = SkinCancerDataset(root_dir=\"/home/lab115/Downloads/dataset/dataset\", transform=train_transform)\n",
    "    test_dataset = SkinCancerDataset(root_dir=\"/home/lab115/Downloads/dataset/dataset\", transform=test_transform)\n",
    "\n",
    "    train_subset = Subset(train_dataset, train_idx)\n",
    "    test_subset = Subset(test_dataset, test_idx)\n",
    "\n",
    "    # Data loaders\n",
    "    train_loader = DataLoader(train_subset, batch_size=BATCH_SIZE, shuffle=True, num_workers=2, pin_memory=True)\n",
    "    test_loader = DataLoader(test_subset, batch_size=BATCH_SIZE, shuffle=False, num_workers=2, pin_memory=True)\n",
    "\n",
    "    # Initialize model\n",
    "    model = SPCBViTNet(vit_model=vit_model, num_classes=NUM_CLASSES).to(device)\n",
    "\n",
    "    # Optimizer & Loss\n",
    "    optimizer = Adagrad(model.parameters(), lr=LEARNING_RATE)\n",
    "    criterion = CrossEntropyLoss()\n",
    "\n",
    "    # Checkpoint path\n",
    "    checkpoint_path = f\"best_model_fold_{fold + 1}.pth\"\n",
    "\n",
    "    # Load checkpoint if available\n",
    "    best_acc = 0.0\n",
    "    start_epoch = 0\n",
    "    if os.path.exists(checkpoint_path):\n",
    "        checkpoint = torch.load(checkpoint_path)\n",
    "        model.load_state_dict(checkpoint[\"model_state_dict\"])\n",
    "        optimizer.load_state_dict(checkpoint[\"optimizer_state_dict\"])\n",
    "        start_epoch = checkpoint[\"epoch\"] + 1\n",
    "        best_acc = checkpoint[\"best_acc\"]\n",
    "        print(f\"🔄 Resuming from epoch {start_epoch}, best accuracy: {best_acc:.2f}%\")\n",
    "\n",
    "    # Training Loop\n",
    "    for epoch in range(start_epoch, EPOCHS):\n",
    "        model.train()\n",
    "        running_loss, correct, total = 0.0, 0, 0\n",
    "\n",
    "        loop = tqdm(train_loader, leave=True)\n",
    "        for images, labels in loop:\n",
    "            images, labels = images.to(device), labels.to(device)\n",
    "\n",
    "            optimizer.zero_grad()\n",
    "            outputs = model(images)\n",
    "            loss = criterion(outputs, labels)\n",
    "            loss.backward()\n",
    "            optimizer.step()\n",
    "\n",
    "            running_loss += loss.item()\n",
    "            _, predicted = torch.max(outputs, 1)\n",
    "            correct += (predicted == labels).sum().item()\n",
    "            total += labels.size(0)\n",
    "\n",
    "            loop.set_description(f\"Epoch [{epoch+1}/{EPOCHS}]\")\n",
    "            loop.set_postfix(loss=loss.item(), acc=100 * correct / total)\n",
    "\n",
    "        # Testing Loop\n",
    "        model.eval()\n",
    "        test_correct, test_total = 0, 0\n",
    "        fold_preds, fold_labels, fold_probs = [], [], []\n",
    "\n",
    "        with torch.no_grad():\n",
    "            for images, labels in test_loader:\n",
    "                images, labels = images.to(device), labels.to(device)\n",
    "                outputs = model(images)\n",
    "\n",
    "                probs = torch.nn.functional.softmax(outputs, dim=1)\n",
    "                _, predicted = torch.max(outputs, 1)\n",
    "\n",
    "                fold_preds.extend(predicted.cpu().numpy())\n",
    "                fold_labels.extend(labels.cpu().numpy())\n",
    "                fold_probs.extend(probs.cpu().numpy())\n",
    "\n",
    "                test_correct += (predicted == labels).sum().item()\n",
    "                test_total += labels.size(0)\n",
    "\n",
    "        test_acc = 100 * test_correct / test_total\n",
    "        print(f\"✅ Fold {fold+1}: Test Accuracy = {test_acc:.2f}%\")\n",
    "\n",
    "        # Save checkpoint if accuracy improves\n",
    "        if test_acc > best_acc:\n",
    "            best_acc = test_acc\n",
    "            torch.save({\n",
    "                \"epoch\": epoch,\n",
    "                \"model_state_dict\": model.state_dict(),\n",
    "                \"optimizer_state_dict\": optimizer.state_dict(),\n",
    "                \"best_acc\": best_acc,\n",
    "            }, checkpoint_path)\n",
    "            print(f\"🎯 New best model saved with accuracy: {best_acc:.2f}%\")\n",
    "\n",
    "    all_true_labels.extend(fold_labels)\n",
    "    all_pred_labels.extend(fold_preds)\n",
    "    all_probs.extend(fold_probs)\n"
   ]
  },
  {
   "cell_type": "code",
   "execution_count": 8,
   "metadata": {},
   "outputs": [
    {
     "name": "stdout",
     "output_type": "stream",
     "text": [
      "\n",
      "📊 Final Evaluation Across All Folds:\n"
     ]
    },
    {
     "data": {
      "image/png": "[encoded data removed]",
      "text/plain": [
       "<Figure size 800x600 with 2 Axes>"
      ]
     },
     "metadata": {},
     "output_type": "display_data"
    },
    {
     "name": "stdout",
     "output_type": "stream",
     "text": [
      "              precision    recall  f1-score   support\n",
      "\n",
      "       akiec     0.8853    0.9205    0.9025       327\n",
      "         bcc     0.9626    0.9514    0.9569       514\n",
      "         bkl     0.9453    0.9117    0.9282      1099\n",
      "          df     0.9478    0.9478    0.9478       115\n",
      "         mel     0.9288    0.9263    0.9276      1113\n",
      "          nv     0.9834    0.9888    0.9861      6705\n",
      "        vasc     0.9857    0.9718    0.9787       142\n",
      "\n",
      "    accuracy                         0.9685     10015\n",
      "   macro avg     0.9484    0.9455    0.9468     10015\n",
      "weighted avg     0.9685    0.9685    0.9685     10015\n",
      "\n"
     ]
    },
    {
     "data": {
      "image/png": "[encoded data removed]",
      "text/plain": [
       "<Figure size 1000x800 with 1 Axes>"
      ]
     },
     "metadata": {},
     "output_type": "display_data"
    }
   ],
   "source": [
    "\n",
    "from sklearn.metrics import confusion_matrix\n",
    "import numpy as np  # Ensure numpy is also imported\n",
    "print(\"\\n📊 Final Evaluation Across All Folds:\")\n",
    "\n",
    "cm = confusion_matrix(all_true_labels, all_pred_labels)\n",
    "cm_percentage = cm.astype('float') / cm.sum(axis=1)[:, np.newaxis] * 100\n",
    "\n",
    "plt.figure(figsize=(8, 6))\n",
    "sns.heatmap(cm_percentage, annot=True, fmt=\".2f\", cmap=\"Blues\",\n",
    "            xticklabels=base_dataset.class_to_idx.keys(), \n",
    "            yticklabels=base_dataset.class_to_idx.keys())\n",
    "\n",
    "plt.xlabel(\"Predicted\")\n",
    "plt.ylabel(\"Actual\")\n",
    "plt.title(\"Final Confusion Matrix Across All Folds (Percentage-wise)\")\n",
    "plt.show()\n",
    "\n",
    "class_report = classification_report(all_true_labels, all_pred_labels, target_names=base_dataset.class_to_idx.keys(), digits=4)\n",
    "print(class_report)\n",
    "\n",
    "plt.figure(figsize=(10, 8))\n",
    "for i in range(NUM_CLASSES):\n",
    "    fpr, tpr, _ = roc_curve(np.array(all_true_labels) == i, np.array(all_probs)[:, i])\n",
    "    roc_auc = auc(fpr, tpr)\n",
    "    plt.plot(fpr, tpr, label=f\"Class {list(base_dataset.class_to_idx.keys())[i]} (AUC = {roc_auc:.2f})\")\n",
    "\n",
    "plt.plot([0, 1], [0, 1], \"k--\")\n",
    "plt.xlabel(\"False Positive Rate\")\n",
    "plt.ylabel(\"True Positive Rate\")\n",
    "plt.title(\"Final ROC Curve Across All Folds\")\n",
    "plt.legend(loc=\"lower right\")\n",
    "plt.show()\n"
   ]
  },
  {
   "cell_type": "code",
   "execution_count": null,
   "metadata": {},
   "outputs": [],
   "source": []
  }
 ],
 "metadata": {
  "kaggle": {
   "accelerator": "gpu",
   "dataSources": [
    {
     "datasetId": 7011822,
     "sourceId": 11226468,
     "sourceType": "datasetVersion"
    },
    {
     "datasetId": 7080709,
     "sourceId": 11320902,
     "sourceType": "datasetVersion"
    }
   ],
   "dockerImageVersionId": 30919,
   "isGpuEnabled": true,
   "isInternetEnabled": true,
   "language": "python",
   "sourceType": "notebook"
  },
  "kernelspec": {
   "display_name": "Python 3 (ipykernel)",
   "language": "python",
   "name": "python3"
  },
  "language_info": {
   "codemirror_mode": {
    "name": "ipython",
    "version": 3
   },
   "file_extension": ".py",
   "mimetype": "text/x-python",
   "name": "python",
   "nbconvert_exporter": "python",
   "pygments_lexer": "ipython3",
   "version": "3.8.10"
  }
 },
 "nbformat": 4,
 "nbformat_minor": 4
}
