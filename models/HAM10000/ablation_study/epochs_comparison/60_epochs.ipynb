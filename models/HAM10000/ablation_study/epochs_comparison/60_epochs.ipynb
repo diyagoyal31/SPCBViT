{
 "cells": [
  {
   "cell_type": "markdown",
   "metadata": {},
   "source": [
    "# SPCBViTNet – Epoch 60 Ablation\n",
    "\n",
    "📌 Part of the ablation study for the submission:  \n",
    "**\"SPCBViTNet: Enhancing Skin Cancer Diagnosis with Multi-Scale Vision Transformers and Adaptive Spatial-Channel Attention\"**\n",
    "\n",
    "🔒 Not yet peer-reviewed. For review only.  \n",
    "📁 [GitHub Repo](https://github.com/diyagoyal31/SPCBViT)\n"
   ]
  },
  {
   "cell_type": "code",
   "execution_count": 1,
   "metadata": {},
   "outputs": [],
   "source": [
    "import torch\n",
    "import torch.nn as nn\n",
    "import torch.optim as optim\n",
    "from torch.utils.data import Dataset, DataLoader\n",
    "import torchvision.transforms as transforms\n",
    "from PIL import Image\n",
    "import os"
   ]
  },
  {
   "cell_type": "code",
   "execution_count": 2,
   "metadata": {},
   "outputs": [
    {
     "name": "stdout",
     "output_type": "stream",
     "text": [
      "Using device: cuda\n"
     ]
    }
   ],
   "source": [
    "device = torch.device(\"cuda\" if torch.cuda.is_available() else \"cpu\")\n",
    "print(f\"Using device: {device}\")\n"
   ]
  },
  {
   "cell_type": "code",
   "execution_count": 3,
   "metadata": {},
   "outputs": [],
   "source": [
    "from torchvision import transforms\n",
    "from PIL import Image\n",
    "class SkinCancerDataset(Dataset):\n",
    "    def __init__(self, root_dir, transform=None):\n",
    "        self.root_dir = root_dir\n",
    "        self.transform = transform  # Default transform applied in __getitem__\n",
    "        self.image_paths = []\n",
    "        self.labels = []\n",
    "\n",
    "        self.class_names = sorted([d for d in os.listdir(root_dir) if os.path.isdir(os.path.join(root_dir, d))])\n",
    "        self.class_to_idx = {cls_name: i for i, cls_name in enumerate(self.class_names)}\n",
    "\n",
    "        for cls_name in self.class_names:\n",
    "            cls_folder = os.path.join(root_dir, cls_name)\n",
    "            for img_name in os.listdir(cls_folder):\n",
    "                img_path = os.path.join(cls_folder, img_name)\n",
    "                if img_path.lower().endswith(('.jpg', '.jpeg', '.png')):  # Supports multiple formats\n",
    "                    self.image_paths.append(img_path)\n",
    "                    self.labels.append(self.class_to_idx[cls_name])\n",
    "\n",
    "    def __len__(self):\n",
    "        return len(self.image_paths)\n",
    "\n",
    "    def __getitem__(self, idx):\n",
    "        img_path = self.image_paths[idx]\n",
    "        label = self.labels[idx]\n",
    "\n",
    "        # Load and convert image\n",
    "        image = Image.open(img_path).convert(\"RGB\")\n",
    "\n",
    "        # Apply transform (if provided), otherwise apply default ToTensor\n",
    "        if self.transform:\n",
    "            image = self.transform(image)\n",
    "        else:\n",
    "            image = transforms.ToTensor()(image)\n",
    "\n",
    "        return image, torch.tensor(label, dtype=torch.long)"
   ]
  },
  {
   "cell_type": "code",
   "execution_count": 4,
   "metadata": {},
   "outputs": [],
   "source": [
    "import torchvision.transforms.functional as TF\n",
    "import random"
   ]
  },
  {
   "cell_type": "code",
   "execution_count": 5,
   "metadata": {},
   "outputs": [],
   "source": [
    "import torch\n",
    "import torch.nn as nn\n",
    "import torch.nn.functional as F\n",
    "\n",
    "\n",
    "class SKFeaturePyramid(nn.Module):\n",
    "    def __init__(self, in_channels):\n",
    "        super(SKFeaturePyramid, self).__init__()\n",
    "        self.conv1 = nn.Conv2d(in_channels, in_channels, kernel_size=1)\n",
    "        self.conv3 = nn.Conv2d(in_channels, in_channels, kernel_size=3, padding=1)\n",
    "        self.conv5 = nn.Conv2d(in_channels, in_channels, kernel_size=5, padding=2)\n",
    "        self.fc = nn.Linear(in_channels, 3)\n",
    "        self.softmax = nn.Softmax(dim=1)\n",
    "\n",
    "    def forward(self, x):\n",
    "        f1 = self.conv1(x)\n",
    "        f2 = self.conv3(x)\n",
    "        f3 = self.conv5(x)\n",
    "        f_sum = f1 + f2 + f3\n",
    "        f_weights = self.softmax(self.fc(f_sum.mean(dim=(2, 3)))).unsqueeze(-1).unsqueeze(-1)\n",
    "        return f1 * f_weights[:, 0].view(-1, 1, 1, 1) + \\\n",
    "               f2 * f_weights[:, 1].view(-1, 1, 1, 1) + \\\n",
    "               f3 * f_weights[:, 2].view(-1, 1, 1, 1)\n",
    "\n",
    "\n",
    "class SelfInteractiveAttention(nn.Module):\n",
    "    def __init__(self, in_channels):\n",
    "        super(SelfInteractiveAttention, self).__init__()\n",
    "        self.channel_attn = nn.Sequential(\n",
    "            nn.AdaptiveAvgPool2d(1),\n",
    "            nn.Conv2d(in_channels, in_channels, kernel_size=1),\n",
    "            nn.Sigmoid()\n",
    "        )\n",
    "        self.spatial_attn = nn.Conv2d(in_channels, 1, kernel_size=7, padding=3)\n",
    "\n",
    "    def forward(self, x):\n",
    "        ca = self.channel_attn(x) * x\n",
    "        sa = torch.sigmoid(self.spatial_attn(x)) * x\n",
    "        return ca + sa\n",
    "\n",
    "\n",
    "class HigherOrderInteraction(nn.Module):\n",
    "    def __init__(self, in_channels1, in_channels2, out_channels):\n",
    "        super(HigherOrderInteraction, self).__init__()\n",
    "        self.conv1 = nn.Conv2d(in_channels1, out_channels, kernel_size=1)\n",
    "        self.conv2 = nn.Conv2d(in_channels2, out_channels, kernel_size=1)\n",
    "        self.bilinear_pool = nn.Conv2d(out_channels, out_channels, kernel_size=1)\n",
    "        self.trilinear_pool = nn.Conv2d(out_channels, out_channels, kernel_size=1)\n",
    "\n",
    "    def forward(self, x1, x2):\n",
    "        x1 = self.conv1(x1)\n",
    "        x2 = self.conv2(x2)\n",
    "        if x1.shape[2:] != x2.shape[2:]:\n",
    "            x2 = F.interpolate(x2, size=x1.shape[2:], mode='bilinear', align_corners=False)\n",
    "        return self.bilinear_pool(x1 * x2) + self.trilinear_pool(x1 + x2)\n",
    "\n",
    "\n",
    "class SPCBViTNet(nn.Module):\n",
    "    def __init__(self, vit_model, num_classes, patch_grid=(14, 14)):\n",
    "        super(SPCBViTNet, self).__init__()\n",
    "        self.vit_model = vit_model\n",
    "        self.hidden_size = vit_model.config.hidden_size\n",
    "        self.patch_grid = patch_grid  # E.g. 14x14 for ViT-B/16\n",
    "\n",
    "        # SPCB modules\n",
    "        self.sk = SKFeaturePyramid(self.hidden_size)\n",
    "        self.attn = SelfInteractiveAttention(self.hidden_size)\n",
    "        self.higher_order = HigherOrderInteraction(self.hidden_size, self.hidden_size, self.hidden_size)\n",
    "\n",
    "        self.global_avg = nn.AdaptiveAvgPool2d(1)\n",
    "        self.classifier = nn.Sequential(\n",
    "            nn.Linear(self.hidden_size, 512),\n",
    "            nn.GELU(),\n",
    "            nn.Dropout(0.5),\n",
    "            nn.Linear(512, num_classes)\n",
    "        )\n",
    "\n",
    "    def forward(self, x):\n",
    "        vit_out = self.vit_model(pixel_values=x).last_hidden_state  # [B, N+1, C]\n",
    "        cls_token = vit_out[:, 0]  # CLS token\n",
    "        patch_tokens = vit_out[:, 1:]  # [B, N, C]\n",
    "\n",
    "        # Convert patch tokens to 2D feature maps\n",
    "        B, N, C = patch_tokens.size()\n",
    "        H, W = self.patch_grid\n",
    "        patch_map = patch_tokens.permute(0, 2, 1).contiguous().view(B, C, H, W)\n",
    "\n",
    "        # SPCB modules\n",
    "        f1 = self.sk(patch_map)\n",
    "        f2 = self.attn(f1)\n",
    "        f3 = self.higher_order(f1, f2)\n",
    "\n",
    "        out = self.global_avg(f3).view(B, -1)\n",
    "        return self.classifier(out)\n"
   ]
  },
  {
   "cell_type": "code",
   "execution_count": 6,
   "metadata": {},
   "outputs": [
    {
     "name": "stderr",
     "output_type": "stream",
     "text": [
      "/home/lab115/.local/lib/python3.8/site-packages/tqdm/auto.py:21: TqdmWarning: IProgress not found. Please update jupyter and ipywidgets. See https://ipywidgets.readthedocs.io/en/stable/user_install.html\n",
      "  from .autonotebook import tqdm as notebook_tqdm\n"
     ]
    }
   ],
   "source": [
    "from transformers import ViTModel\n",
    "\n",
    "vit_model = ViTModel.from_pretrained(\"google/vit-base-patch16-224-in21k\")\n",
    "\n",
    "model = SPCBViTNet(vit_model=vit_model, num_classes=7, patch_grid=(14, 14))\n"
   ]
  },
  {
   "cell_type": "code",
   "execution_count": 7,
   "metadata": {},
   "outputs": [
    {
     "name": "stdout",
     "output_type": "stream",
     "text": [
      "\n",
      "🚀 Training Fold 1/10\n"
     ]
    },
    {
     "name": "stderr",
     "output_type": "stream",
     "text": [
      "Epoch [1/60]: 100%|█████| 282/282 [01:27<00:00,  3.21it/s, acc=72.4, loss=0.356]\n"
     ]
    },
    {
     "name": "stdout",
     "output_type": "stream",
     "text": [
      "✅ Fold 1: Test Accuracy = 76.95%\n",
      "🎯 New best model saved with accuracy: 76.95%\n"
     ]
    },
    {
     "name": "stderr",
     "output_type": "stream",
     "text": [
      "Epoch [2/60]: 100%|█████| 282/282 [01:27<00:00,  3.22it/s, acc=77.1, loss=0.676]\n"
     ]
    },
    {
     "name": "stdout",
     "output_type": "stream",
     "text": [
      "✅ Fold 1: Test Accuracy = 79.34%\n",
      "🎯 New best model saved with accuracy: 79.34%\n"
     ]
    },
    {
     "name": "stderr",
     "output_type": "stream",
     "text": [
      "Epoch [3/60]: 100%|█████| 282/282 [01:28<00:00,  3.18it/s, acc=79.4, loss=0.624]\n"
     ]
    },
    {
     "name": "stdout",
     "output_type": "stream",
     "text": [
      "✅ Fold 1: Test Accuracy = 80.84%\n",
      "🎯 New best model saved with accuracy: 80.84%\n"
     ]
    },
    {
     "name": "stderr",
     "output_type": "stream",
     "text": [
      "Epoch [4/60]: 100%|█████| 282/282 [01:27<00:00,  3.24it/s, acc=80.9, loss=0.913]\n"
     ]
    },
    {
     "name": "stdout",
     "output_type": "stream",
     "text": [
      "✅ Fold 1: Test Accuracy = 81.74%\n",
      "🎯 New best model saved with accuracy: 81.74%\n"
     ]
    },
    {
     "name": "stderr",
     "output_type": "stream",
     "text": [
      "Epoch [5/60]: 100%|███████| 282/282 [01:27<00:00,  3.23it/s, acc=83, loss=0.494]\n"
     ]
    },
    {
     "name": "stdout",
     "output_type": "stream",
     "text": [
      "✅ Fold 1: Test Accuracy = 83.53%\n",
      "🎯 New best model saved with accuracy: 83.53%\n"
     ]
    },
    {
     "name": "stderr",
     "output_type": "stream",
     "text": [
      "Epoch [6/60]: 100%|█████| 282/282 [01:27<00:00,  3.23it/s, acc=84.2, loss=0.274]\n"
     ]
    },
    {
     "name": "stdout",
     "output_type": "stream",
     "text": [
      "✅ Fold 1: Test Accuracy = 82.24%\n"
     ]
    },
    {
     "name": "stderr",
     "output_type": "stream",
     "text": [
      "Epoch [7/60]: 100%|█████| 282/282 [01:27<00:00,  3.22it/s, acc=85.2, loss=0.484]\n"
     ]
    },
    {
     "name": "stdout",
     "output_type": "stream",
     "text": [
      "✅ Fold 1: Test Accuracy = 84.03%\n",
      "🎯 New best model saved with accuracy: 84.03%\n"
     ]
    },
    {
     "name": "stderr",
     "output_type": "stream",
     "text": [
      "Epoch [8/60]: 100%|█████| 282/282 [01:27<00:00,  3.22it/s, acc=87.1, loss=0.184]\n"
     ]
    },
    {
     "name": "stdout",
     "output_type": "stream",
     "text": [
      "✅ Fold 1: Test Accuracy = 83.93%\n"
     ]
    },
    {
     "name": "stderr",
     "output_type": "stream",
     "text": [
      "Epoch [9/60]: 100%|█████| 282/282 [01:27<00:00,  3.22it/s, acc=88.1, loss=0.501]\n"
     ]
    },
    {
     "name": "stdout",
     "output_type": "stream",
     "text": [
      "✅ Fold 1: Test Accuracy = 85.03%\n",
      "🎯 New best model saved with accuracy: 85.03%\n"
     ]
    },
    {
     "name": "stderr",
     "output_type": "stream",
     "text": [
      "Epoch [10/60]: 100%|████| 282/282 [01:27<00:00,  3.22it/s, acc=88.9, loss=0.397]\n"
     ]
    },
    {
     "name": "stdout",
     "output_type": "stream",
     "text": [
      "✅ Fold 1: Test Accuracy = 84.23%\n"
     ]
    },
    {
     "name": "stderr",
     "output_type": "stream",
     "text": [
      "Epoch [11/60]: 100%|█████| 282/282 [01:27<00:00,  3.22it/s, acc=89.3, loss=0.29]\n"
     ]
    },
    {
     "name": "stdout",
     "output_type": "stream",
     "text": [
      "✅ Fold 1: Test Accuracy = 85.63%\n",
      "🎯 New best model saved with accuracy: 85.63%\n"
     ]
    },
    {
     "name": "stderr",
     "output_type": "stream",
     "text": [
      "Epoch [12/60]: 100%|████| 282/282 [01:27<00:00,  3.22it/s, acc=90.3, loss=0.844]\n"
     ]
    },
    {
     "name": "stdout",
     "output_type": "stream",
     "text": [
      "✅ Fold 1: Test Accuracy = 85.83%\n",
      "🎯 New best model saved with accuracy: 85.83%\n"
     ]
    },
    {
     "name": "stderr",
     "output_type": "stream",
     "text": [
      "Epoch [13/60]: 100%|████| 282/282 [01:27<00:00,  3.22it/s, acc=91.5, loss=0.289]\n"
     ]
    },
    {
     "name": "stdout",
     "output_type": "stream",
     "text": [
      "✅ Fold 1: Test Accuracy = 83.73%\n"
     ]
    },
    {
     "name": "stderr",
     "output_type": "stream",
     "text": [
      "Epoch [14/60]: 100%|████| 282/282 [01:27<00:00,  3.21it/s, acc=91.7, loss=0.547]\n"
     ]
    },
    {
     "name": "stdout",
     "output_type": "stream",
     "text": [
      "✅ Fold 1: Test Accuracy = 84.53%\n"
     ]
    },
    {
     "name": "stderr",
     "output_type": "stream",
     "text": [
      "Epoch [15/60]: 100%|████| 282/282 [01:27<00:00,  3.21it/s, acc=92.8, loss=0.209]\n"
     ]
    },
    {
     "name": "stdout",
     "output_type": "stream",
     "text": [
      "✅ Fold 1: Test Accuracy = 83.33%\n"
     ]
    },
    {
     "name": "stderr",
     "output_type": "stream",
     "text": [
      "Epoch [16/60]: 100%|████| 282/282 [01:27<00:00,  3.21it/s, acc=93.4, loss=0.254]\n"
     ]
    },
    {
     "name": "stdout",
     "output_type": "stream",
     "text": [
      "✅ Fold 1: Test Accuracy = 83.93%\n"
     ]
    },
    {
     "name": "stderr",
     "output_type": "stream",
     "text": [
      "Epoch [17/60]: 100%|████| 282/282 [01:27<00:00,  3.21it/s, acc=93.7, loss=0.107]\n"
     ]
    },
    {
     "name": "stdout",
     "output_type": "stream",
     "text": [
      "✅ Fold 1: Test Accuracy = 85.73%\n"
     ]
    },
    {
     "name": "stderr",
     "output_type": "stream",
     "text": [
      "Epoch [18/60]: 100%|█████| 282/282 [01:27<00:00,  3.21it/s, acc=94.3, loss=0.11]\n"
     ]
    },
    {
     "name": "stdout",
     "output_type": "stream",
     "text": [
      "✅ Fold 1: Test Accuracy = 86.03%\n",
      "🎯 New best model saved with accuracy: 86.03%\n"
     ]
    },
    {
     "name": "stderr",
     "output_type": "stream",
     "text": [
      "Epoch [19/60]: 100%|████| 282/282 [01:27<00:00,  3.22it/s, acc=94.5, loss=0.161]\n"
     ]
    },
    {
     "name": "stdout",
     "output_type": "stream",
     "text": [
      "✅ Fold 1: Test Accuracy = 86.53%\n",
      "🎯 New best model saved with accuracy: 86.53%\n"
     ]
    },
    {
     "name": "stderr",
     "output_type": "stream",
     "text": [
      "Epoch [20/60]: 100%|███| 282/282 [01:27<00:00,  3.22it/s, acc=95.2, loss=0.0366]\n"
     ]
    },
    {
     "name": "stdout",
     "output_type": "stream",
     "text": [
      "✅ Fold 1: Test Accuracy = 86.03%\n"
     ]
    },
    {
     "name": "stderr",
     "output_type": "stream",
     "text": [
      "Epoch [21/60]: 100%|████| 282/282 [01:27<00:00,  3.21it/s, acc=95.4, loss=0.257]\n"
     ]
    },
    {
     "name": "stdout",
     "output_type": "stream",
     "text": [
      "✅ Fold 1: Test Accuracy = 86.23%\n"
     ]
    },
    {
     "name": "stderr",
     "output_type": "stream",
     "text": [
      "Epoch [22/60]: 100%|█████| 282/282 [01:27<00:00,  3.21it/s, acc=96, loss=0.0666]\n"
     ]
    },
    {
     "name": "stdout",
     "output_type": "stream",
     "text": [
      "✅ Fold 1: Test Accuracy = 85.73%\n"
     ]
    },
    {
     "name": "stderr",
     "output_type": "stream",
     "text": [
      "Epoch [23/60]: 100%|████| 282/282 [01:27<00:00,  3.21it/s, acc=96.2, loss=0.314]\n"
     ]
    },
    {
     "name": "stdout",
     "output_type": "stream",
     "text": [
      "✅ Fold 1: Test Accuracy = 86.23%\n"
     ]
    },
    {
     "name": "stderr",
     "output_type": "stream",
     "text": [
      "Epoch [24/60]: 100%|████| 282/282 [01:27<00:00,  3.21it/s, acc=96.2, loss=0.178]\n"
     ]
    },
    {
     "name": "stdout",
     "output_type": "stream",
     "text": [
      "✅ Fold 1: Test Accuracy = 85.23%\n"
     ]
    },
    {
     "name": "stderr",
     "output_type": "stream",
     "text": [
      "Epoch [25/60]: 100%|████| 282/282 [01:27<00:00,  3.21it/s, acc=96.1, loss=0.172]\n"
     ]
    },
    {
     "name": "stdout",
     "output_type": "stream",
     "text": [
      "✅ Fold 1: Test Accuracy = 86.63%\n",
      "🎯 New best model saved with accuracy: 86.63%\n"
     ]
    },
    {
     "name": "stderr",
     "output_type": "stream",
     "text": [
      "Epoch [26/60]: 100%|████| 282/282 [01:27<00:00,  3.22it/s, acc=96.6, loss=0.147]\n"
     ]
    },
    {
     "name": "stdout",
     "output_type": "stream",
     "text": [
      "✅ Fold 1: Test Accuracy = 86.63%\n"
     ]
    },
    {
     "name": "stderr",
     "output_type": "stream",
     "text": [
      "Epoch [27/60]: 100%|███| 282/282 [01:27<00:00,  3.21it/s, acc=96.8, loss=0.0208]\n"
     ]
    },
    {
     "name": "stdout",
     "output_type": "stream",
     "text": [
      "✅ Fold 1: Test Accuracy = 87.33%\n",
      "🎯 New best model saved with accuracy: 87.33%\n"
     ]
    },
    {
     "name": "stderr",
     "output_type": "stream",
     "text": [
      "Epoch [28/60]: 100%|██████| 282/282 [01:27<00:00,  3.22it/s, acc=97, loss=0.109]\n"
     ]
    },
    {
     "name": "stdout",
     "output_type": "stream",
     "text": [
      "✅ Fold 1: Test Accuracy = 86.53%\n"
     ]
    },
    {
     "name": "stderr",
     "output_type": "stream",
     "text": [
      "Epoch [29/60]: 100%|██| 282/282 [01:27<00:00,  3.21it/s, acc=96.9, loss=0.00684]\n"
     ]
    },
    {
     "name": "stdout",
     "output_type": "stream",
     "text": [
      "✅ Fold 1: Test Accuracy = 84.43%\n"
     ]
    },
    {
     "name": "stderr",
     "output_type": "stream",
     "text": [
      "Epoch [30/60]: 100%|███| 282/282 [01:27<00:00,  3.21it/s, acc=97.1, loss=0.0478]\n"
     ]
    },
    {
     "name": "stdout",
     "output_type": "stream",
     "text": [
      "✅ Fold 1: Test Accuracy = 86.33%\n"
     ]
    },
    {
     "name": "stderr",
     "output_type": "stream",
     "text": [
      "Epoch [31/60]: 100%|████| 282/282 [01:27<00:00,  3.21it/s, acc=97.5, loss=0.131]\n"
     ]
    },
    {
     "name": "stdout",
     "output_type": "stream",
     "text": [
      "✅ Fold 1: Test Accuracy = 85.43%\n"
     ]
    },
    {
     "name": "stderr",
     "output_type": "stream",
     "text": [
      "Epoch [32/60]: 100%|███| 282/282 [01:27<00:00,  3.21it/s, acc=97.5, loss=0.0785]\n"
     ]
    },
    {
     "name": "stdout",
     "output_type": "stream",
     "text": [
      "✅ Fold 1: Test Accuracy = 86.63%\n"
     ]
    },
    {
     "name": "stderr",
     "output_type": "stream",
     "text": [
      "Epoch [33/60]: 100%|███| 282/282 [01:27<00:00,  3.21it/s, acc=97.8, loss=0.0932]\n"
     ]
    },
    {
     "name": "stdout",
     "output_type": "stream",
     "text": [
      "✅ Fold 1: Test Accuracy = 86.83%\n"
     ]
    },
    {
     "name": "stderr",
     "output_type": "stream",
     "text": [
      "Epoch [34/60]: 100%|██| 282/282 [01:27<00:00,  3.21it/s, acc=97.7, loss=0.00575]\n"
     ]
    },
    {
     "name": "stdout",
     "output_type": "stream",
     "text": [
      "✅ Fold 1: Test Accuracy = 86.63%\n"
     ]
    },
    {
     "name": "stderr",
     "output_type": "stream",
     "text": [
      "Epoch [35/60]: 100%|███| 282/282 [01:27<00:00,  3.21it/s, acc=97.5, loss=0.0566]\n"
     ]
    },
    {
     "name": "stdout",
     "output_type": "stream",
     "text": [
      "✅ Fold 1: Test Accuracy = 87.82%\n",
      "🎯 New best model saved with accuracy: 87.82%\n"
     ]
    },
    {
     "name": "stderr",
     "output_type": "stream",
     "text": [
      "Epoch [36/60]: 100%|█████| 282/282 [01:27<00:00,  3.22it/s, acc=98, loss=0.0888]\n"
     ]
    },
    {
     "name": "stdout",
     "output_type": "stream",
     "text": [
      "✅ Fold 1: Test Accuracy = 86.23%\n"
     ]
    },
    {
     "name": "stderr",
     "output_type": "stream",
     "text": [
      "Epoch [37/60]: 100%|███| 282/282 [01:27<00:00,  3.21it/s, acc=97.9, loss=0.0829]\n"
     ]
    },
    {
     "name": "stdout",
     "output_type": "stream",
     "text": [
      "✅ Fold 1: Test Accuracy = 85.63%\n"
     ]
    },
    {
     "name": "stderr",
     "output_type": "stream",
     "text": [
      "Epoch [38/60]: 100%|████| 282/282 [01:27<00:00,  3.21it/s, acc=98.1, loss=0.118]\n"
     ]
    },
    {
     "name": "stdout",
     "output_type": "stream",
     "text": [
      "✅ Fold 1: Test Accuracy = 86.83%\n"
     ]
    },
    {
     "name": "stderr",
     "output_type": "stream",
     "text": [
      "Epoch [39/60]: 100%|███| 282/282 [01:27<00:00,  3.21it/s, acc=97.5, loss=0.0117]\n"
     ]
    },
    {
     "name": "stdout",
     "output_type": "stream",
     "text": [
      "✅ Fold 1: Test Accuracy = 87.23%\n"
     ]
    },
    {
     "name": "stderr",
     "output_type": "stream",
     "text": [
      "Epoch [40/60]: 100%|███| 282/282 [01:27<00:00,  3.21it/s, acc=97.9, loss=0.0548]\n"
     ]
    },
    {
     "name": "stdout",
     "output_type": "stream",
     "text": [
      "✅ Fold 1: Test Accuracy = 86.83%\n"
     ]
    },
    {
     "name": "stderr",
     "output_type": "stream",
     "text": [
      "Epoch [41/60]: 100%|████| 282/282 [01:27<00:00,  3.21it/s, acc=97.9, loss=0.168]\n"
     ]
    },
    {
     "name": "stdout",
     "output_type": "stream",
     "text": [
      "✅ Fold 1: Test Accuracy = 86.83%\n"
     ]
    },
    {
     "name": "stderr",
     "output_type": "stream",
     "text": [
      "Epoch [42/60]: 100%|███| 282/282 [01:27<00:00,  3.21it/s, acc=98.2, loss=0.0027]\n"
     ]
    },
    {
     "name": "stdout",
     "output_type": "stream",
     "text": [
      "✅ Fold 1: Test Accuracy = 88.12%\n",
      "🎯 New best model saved with accuracy: 88.12%\n"
     ]
    },
    {
     "name": "stderr",
     "output_type": "stream",
     "text": [
      "Epoch [43/60]: 100%|████| 282/282 [01:27<00:00,  3.22it/s, acc=98.3, loss=0.213]\n"
     ]
    },
    {
     "name": "stdout",
     "output_type": "stream",
     "text": [
      "✅ Fold 1: Test Accuracy = 86.93%\n"
     ]
    },
    {
     "name": "stderr",
     "output_type": "stream",
     "text": [
      "Epoch [44/60]: 100%|███| 282/282 [01:27<00:00,  3.21it/s, acc=98.3, loss=0.0568]\n"
     ]
    },
    {
     "name": "stdout",
     "output_type": "stream",
     "text": [
      "✅ Fold 1: Test Accuracy = 87.82%\n"
     ]
    },
    {
     "name": "stderr",
     "output_type": "stream",
     "text": [
      "Epoch [45/60]: 100%|████| 282/282 [01:27<00:00,  3.21it/s, acc=98.1, loss=0.159]\n"
     ]
    },
    {
     "name": "stdout",
     "output_type": "stream",
     "text": [
      "✅ Fold 1: Test Accuracy = 86.63%\n"
     ]
    },
    {
     "name": "stderr",
     "output_type": "stream",
     "text": [
      "Epoch [46/60]: 100%|███| 282/282 [01:27<00:00,  3.21it/s, acc=98.1, loss=0.0462]\n"
     ]
    },
    {
     "name": "stdout",
     "output_type": "stream",
     "text": [
      "✅ Fold 1: Test Accuracy = 86.23%\n"
     ]
    },
    {
     "name": "stderr",
     "output_type": "stream",
     "text": [
      "Epoch [47/60]: 100%|████| 282/282 [01:27<00:00,  3.21it/s, acc=98, loss=0.00474]\n"
     ]
    },
    {
     "name": "stdout",
     "output_type": "stream",
     "text": [
      "✅ Fold 1: Test Accuracy = 86.73%\n"
     ]
    },
    {
     "name": "stderr",
     "output_type": "stream",
     "text": [
      "Epoch [48/60]: 100%|███| 282/282 [01:27<00:00,  3.21it/s, acc=98.5, loss=0.0182]\n"
     ]
    },
    {
     "name": "stdout",
     "output_type": "stream",
     "text": [
      "✅ Fold 1: Test Accuracy = 86.73%\n"
     ]
    },
    {
     "name": "stderr",
     "output_type": "stream",
     "text": [
      "Epoch [49/60]: 100%|███| 282/282 [01:27<00:00,  3.21it/s, acc=98.3, loss=0.0389]\n"
     ]
    },
    {
     "name": "stdout",
     "output_type": "stream",
     "text": [
      "✅ Fold 1: Test Accuracy = 86.53%\n"
     ]
    },
    {
     "name": "stderr",
     "output_type": "stream",
     "text": [
      "Epoch [50/60]: 100%|██| 282/282 [01:27<00:00,  3.22it/s, acc=98.3, loss=0.00473]\n"
     ]
    },
    {
     "name": "stdout",
     "output_type": "stream",
     "text": [
      "✅ Fold 1: Test Accuracy = 87.43%\n"
     ]
    },
    {
     "name": "stderr",
     "output_type": "stream",
     "text": [
      "Epoch [51/60]: 100%|███| 282/282 [01:27<00:00,  3.21it/s, acc=98.2, loss=0.0417]\n"
     ]
    },
    {
     "name": "stdout",
     "output_type": "stream",
     "text": [
      "✅ Fold 1: Test Accuracy = 87.13%\n"
     ]
    },
    {
     "name": "stderr",
     "output_type": "stream",
     "text": [
      "Epoch [52/60]: 100%|███| 282/282 [01:27<00:00,  3.21it/s, acc=98.3, loss=0.0917]\n"
     ]
    },
    {
     "name": "stdout",
     "output_type": "stream",
     "text": [
      "✅ Fold 1: Test Accuracy = 86.83%\n"
     ]
    },
    {
     "name": "stderr",
     "output_type": "stream",
     "text": [
      "Epoch [53/60]: 100%|██| 282/282 [01:27<00:00,  3.21it/s, acc=98.5, loss=0.00919]\n"
     ]
    },
    {
     "name": "stdout",
     "output_type": "stream",
     "text": [
      "✅ Fold 1: Test Accuracy = 86.53%\n"
     ]
    },
    {
     "name": "stderr",
     "output_type": "stream",
     "text": [
      "Epoch [54/60]: 100%|██| 282/282 [01:27<00:00,  3.21it/s, acc=98.7, loss=0.00956]\n"
     ]
    },
    {
     "name": "stdout",
     "output_type": "stream",
     "text": [
      "✅ Fold 1: Test Accuracy = 87.03%\n"
     ]
    },
    {
     "name": "stderr",
     "output_type": "stream",
     "text": [
      "Epoch [55/60]: 100%|███| 282/282 [01:27<00:00,  3.21it/s, acc=98.4, loss=0.0275]\n"
     ]
    },
    {
     "name": "stdout",
     "output_type": "stream",
     "text": [
      "✅ Fold 1: Test Accuracy = 85.33%\n"
     ]
    },
    {
     "name": "stderr",
     "output_type": "stream",
     "text": [
      "Epoch [56/60]: 100%|███| 282/282 [01:27<00:00,  3.21it/s, acc=98.2, loss=0.0667]\n"
     ]
    },
    {
     "name": "stdout",
     "output_type": "stream",
     "text": [
      "✅ Fold 1: Test Accuracy = 86.53%\n"
     ]
    },
    {
     "name": "stderr",
     "output_type": "stream",
     "text": [
      "Epoch [57/60]: 100%|██| 282/282 [01:27<00:00,  3.21it/s, acc=98.5, loss=0.00248]\n"
     ]
    },
    {
     "name": "stdout",
     "output_type": "stream",
     "text": [
      "✅ Fold 1: Test Accuracy = 85.53%\n"
     ]
    },
    {
     "name": "stderr",
     "output_type": "stream",
     "text": [
      "Epoch [58/60]: 100%|████| 282/282 [01:27<00:00,  3.21it/s, acc=98.5, loss=0.129]\n"
     ]
    },
    {
     "name": "stdout",
     "output_type": "stream",
     "text": [
      "✅ Fold 1: Test Accuracy = 87.23%\n"
     ]
    },
    {
     "name": "stderr",
     "output_type": "stream",
     "text": [
      "Epoch [59/60]: 100%|██| 282/282 [01:27<00:00,  3.21it/s, acc=98.4, loss=0.00514]\n"
     ]
    },
    {
     "name": "stdout",
     "output_type": "stream",
     "text": [
      "✅ Fold 1: Test Accuracy = 86.63%\n"
     ]
    },
    {
     "name": "stderr",
     "output_type": "stream",
     "text": [
      "Epoch [60/60]: 100%|███| 282/282 [01:28<00:00,  3.20it/s, acc=98.9, loss=0.0677]\n"
     ]
    },
    {
     "name": "stdout",
     "output_type": "stream",
     "text": [
      "✅ Fold 1: Test Accuracy = 87.92%\n",
      "\n",
      "🚀 Training Fold 2/10\n"
     ]
    },
    {
     "name": "stderr",
     "output_type": "stream",
     "text": [
      "Epoch [1/60]: 100%|█████| 282/282 [01:27<00:00,  3.21it/s, acc=93.9, loss=0.205]\n"
     ]
    },
    {
     "name": "stdout",
     "output_type": "stream",
     "text": [
      "✅ Fold 2: Test Accuracy = 98.20%\n",
      "🎯 New best model saved with accuracy: 98.20%\n"
     ]
    },
    {
     "name": "stderr",
     "output_type": "stream",
     "text": [
      "Epoch [2/60]: 100%|█████| 282/282 [01:27<00:00,  3.21it/s, acc=97.5, loss=0.205]\n"
     ]
    },
    {
     "name": "stdout",
     "output_type": "stream",
     "text": [
      "✅ Fold 2: Test Accuracy = 99.00%\n",
      "🎯 New best model saved with accuracy: 99.00%\n"
     ]
    },
    {
     "name": "stderr",
     "output_type": "stream",
     "text": [
      "Epoch [3/60]: 100%|████| 282/282 [01:27<00:00,  3.22it/s, acc=97.6, loss=0.0274]\n"
     ]
    },
    {
     "name": "stdout",
     "output_type": "stream",
     "text": [
      "✅ Fold 2: Test Accuracy = 98.10%\n"
     ]
    },
    {
     "name": "stderr",
     "output_type": "stream",
     "text": [
      "Epoch [4/60]: 100%|███| 282/282 [01:27<00:00,  3.20it/s, acc=97.8, loss=0.00624]\n"
     ]
    },
    {
     "name": "stdout",
     "output_type": "stream",
     "text": [
      "✅ Fold 2: Test Accuracy = 98.50%\n"
     ]
    },
    {
     "name": "stderr",
     "output_type": "stream",
     "text": [
      "Epoch [5/60]: 100%|███| 282/282 [01:27<00:00,  3.21it/s, acc=97.8, loss=0.00474]\n"
     ]
    },
    {
     "name": "stdout",
     "output_type": "stream",
     "text": [
      "✅ Fold 2: Test Accuracy = 98.40%\n"
     ]
    },
    {
     "name": "stderr",
     "output_type": "stream",
     "text": [
      "Epoch [6/60]: 100%|███| 282/282 [01:27<00:00,  3.21it/s, acc=98.3, loss=0.00806]\n"
     ]
    },
    {
     "name": "stdout",
     "output_type": "stream",
     "text": [
      "✅ Fold 2: Test Accuracy = 97.31%\n"
     ]
    },
    {
     "name": "stderr",
     "output_type": "stream",
     "text": [
      "Epoch [7/60]: 100%|████| 282/282 [01:27<00:00,  3.21it/s, acc=98.8, loss=0.0216]\n"
     ]
    },
    {
     "name": "stdout",
     "output_type": "stream",
     "text": [
      "✅ Fold 2: Test Accuracy = 98.30%\n"
     ]
    },
    {
     "name": "stderr",
     "output_type": "stream",
     "text": [
      "Epoch [8/60]: 100%|█████| 282/282 [01:28<00:00,  3.20it/s, acc=98.6, loss=0.012]\n"
     ]
    },
    {
     "name": "stdout",
     "output_type": "stream",
     "text": [
      "✅ Fold 2: Test Accuracy = 96.71%\n"
     ]
    },
    {
     "name": "stderr",
     "output_type": "stream",
     "text": [
      "Epoch [9/60]: 100%|████| 282/282 [01:27<00:00,  3.21it/s, acc=98.4, loss=0.0891]\n"
     ]
    },
    {
     "name": "stdout",
     "output_type": "stream",
     "text": [
      "✅ Fold 2: Test Accuracy = 97.80%\n"
     ]
    },
    {
     "name": "stderr",
     "output_type": "stream",
     "text": [
      "Epoch [10/60]: 100%|███| 282/282 [01:27<00:00,  3.21it/s, acc=98.4, loss=0.0392]\n"
     ]
    },
    {
     "name": "stdout",
     "output_type": "stream",
     "text": [
      "✅ Fold 2: Test Accuracy = 97.80%\n"
     ]
    },
    {
     "name": "stderr",
     "output_type": "stream",
     "text": [
      "Epoch [11/60]: 100%|██| 282/282 [01:28<00:00,  3.20it/s, acc=98.1, loss=0.00899]\n"
     ]
    },
    {
     "name": "stdout",
     "output_type": "stream",
     "text": [
      "✅ Fold 2: Test Accuracy = 95.81%\n"
     ]
    },
    {
     "name": "stderr",
     "output_type": "stream",
     "text": [
      "Epoch [12/60]: 100%|███| 282/282 [01:27<00:00,  3.21it/s, acc=98.2, loss=0.0335]\n"
     ]
    },
    {
     "name": "stdout",
     "output_type": "stream",
     "text": [
      "✅ Fold 2: Test Accuracy = 97.50%\n"
     ]
    },
    {
     "name": "stderr",
     "output_type": "stream",
     "text": [
      "Epoch [13/60]: 100%|█| 282/282 [01:27<00:00,  3.21it/s, acc=98.6, loss=0.000188]\n"
     ]
    },
    {
     "name": "stdout",
     "output_type": "stream",
     "text": [
      "✅ Fold 2: Test Accuracy = 98.40%\n"
     ]
    },
    {
     "name": "stderr",
     "output_type": "stream",
     "text": [
      "Epoch [14/60]: 100%|███| 282/282 [01:27<00:00,  3.21it/s, acc=98, loss=0.000169]\n"
     ]
    },
    {
     "name": "stdout",
     "output_type": "stream",
     "text": [
      "✅ Fold 2: Test Accuracy = 98.60%\n"
     ]
    },
    {
     "name": "stderr",
     "output_type": "stream",
     "text": [
      "Epoch [15/60]: 100%|███| 282/282 [01:27<00:00,  3.21it/s, acc=98.5, loss=0.0132]\n"
     ]
    },
    {
     "name": "stdout",
     "output_type": "stream",
     "text": [
      "✅ Fold 2: Test Accuracy = 98.00%\n"
     ]
    },
    {
     "name": "stderr",
     "output_type": "stream",
     "text": [
      "Epoch [16/60]: 100%|███| 282/282 [01:27<00:00,  3.21it/s, acc=98.7, loss=0.0061]\n"
     ]
    },
    {
     "name": "stdout",
     "output_type": "stream",
     "text": [
      "✅ Fold 2: Test Accuracy = 97.50%\n"
     ]
    },
    {
     "name": "stderr",
     "output_type": "stream",
     "text": [
      "Epoch [17/60]: 100%|███| 282/282 [01:28<00:00,  3.20it/s, acc=98.7, loss=0.0169]\n"
     ]
    },
    {
     "name": "stdout",
     "output_type": "stream",
     "text": [
      "✅ Fold 2: Test Accuracy = 95.81%\n"
     ]
    },
    {
     "name": "stderr",
     "output_type": "stream",
     "text": [
      "Epoch [18/60]: 100%|███| 282/282 [01:27<00:00,  3.21it/s, acc=98.6, loss=0.0108]\n"
     ]
    },
    {
     "name": "stdout",
     "output_type": "stream",
     "text": [
      "✅ Fold 2: Test Accuracy = 97.50%\n"
     ]
    },
    {
     "name": "stderr",
     "output_type": "stream",
     "text": [
      "Epoch [19/60]: 100%|████| 282/282 [01:27<00:00,  3.21it/s, acc=98.7, loss=0.167]\n"
     ]
    },
    {
     "name": "stdout",
     "output_type": "stream",
     "text": [
      "✅ Fold 2: Test Accuracy = 97.01%\n"
     ]
    },
    {
     "name": "stderr",
     "output_type": "stream",
     "text": [
      "Epoch [20/60]: 100%|█| 282/282 [01:27<00:00,  3.21it/s, acc=98.2, loss=0.000893]\n"
     ]
    },
    {
     "name": "stdout",
     "output_type": "stream",
     "text": [
      "✅ Fold 2: Test Accuracy = 97.90%\n"
     ]
    },
    {
     "name": "stderr",
     "output_type": "stream",
     "text": [
      "Epoch [21/60]: 100%|████| 282/282 [01:27<00:00,  3.21it/s, acc=98.5, loss=0.116]\n"
     ]
    },
    {
     "name": "stdout",
     "output_type": "stream",
     "text": [
      "✅ Fold 2: Test Accuracy = 96.31%\n"
     ]
    },
    {
     "name": "stderr",
     "output_type": "stream",
     "text": [
      "Epoch [22/60]: 100%|██| 282/282 [01:27<00:00,  3.21it/s, acc=98.7, loss=0.00534]\n"
     ]
    },
    {
     "name": "stdout",
     "output_type": "stream",
     "text": [
      "✅ Fold 2: Test Accuracy = 96.81%\n"
     ]
    },
    {
     "name": "stderr",
     "output_type": "stream",
     "text": [
      "Epoch [23/60]: 100%|███| 282/282 [01:27<00:00,  3.21it/s, acc=99.1, loss=0.0253]\n"
     ]
    },
    {
     "name": "stdout",
     "output_type": "stream",
     "text": [
      "✅ Fold 2: Test Accuracy = 96.61%\n"
     ]
    },
    {
     "name": "stderr",
     "output_type": "stream",
     "text": [
      "Epoch [24/60]: 100%|██| 282/282 [01:27<00:00,  3.21it/s, acc=98.4, loss=0.00495]\n"
     ]
    },
    {
     "name": "stdout",
     "output_type": "stream",
     "text": [
      "✅ Fold 2: Test Accuracy = 96.41%\n"
     ]
    },
    {
     "name": "stderr",
     "output_type": "stream",
     "text": [
      "Epoch [25/60]: 100%|██| 282/282 [01:27<00:00,  3.20it/s, acc=99.1, loss=0.00413]\n"
     ]
    },
    {
     "name": "stdout",
     "output_type": "stream",
     "text": [
      "✅ Fold 2: Test Accuracy = 97.70%\n"
     ]
    },
    {
     "name": "stderr",
     "output_type": "stream",
     "text": [
      "Epoch [26/60]: 100%|██████| 282/282 [01:27<00:00,  3.21it/s, acc=99, loss=0.091]\n"
     ]
    },
    {
     "name": "stdout",
     "output_type": "stream",
     "text": [
      "✅ Fold 2: Test Accuracy = 95.71%\n"
     ]
    },
    {
     "name": "stderr",
     "output_type": "stream",
     "text": [
      "Epoch [27/60]: 100%|███| 282/282 [01:27<00:00,  3.21it/s, acc=98.4, loss=0.0436]\n"
     ]
    },
    {
     "name": "stdout",
     "output_type": "stream",
     "text": [
      "✅ Fold 2: Test Accuracy = 96.61%\n"
     ]
    },
    {
     "name": "stderr",
     "output_type": "stream",
     "text": [
      "Epoch [28/60]: 100%|██| 282/282 [01:27<00:00,  3.21it/s, acc=98.6, loss=0.00213]\n"
     ]
    },
    {
     "name": "stdout",
     "output_type": "stream",
     "text": [
      "✅ Fold 2: Test Accuracy = 97.31%\n"
     ]
    },
    {
     "name": "stderr",
     "output_type": "stream",
     "text": [
      "Epoch [29/60]: 100%|██| 282/282 [01:27<00:00,  3.21it/s, acc=98.6, loss=0.00908]\n"
     ]
    },
    {
     "name": "stdout",
     "output_type": "stream",
     "text": [
      "✅ Fold 2: Test Accuracy = 97.60%\n"
     ]
    },
    {
     "name": "stderr",
     "output_type": "stream",
     "text": [
      "Epoch [30/60]: 100%|████| 282/282 [01:27<00:00,  3.21it/s, acc=99, loss=0.00841]\n"
     ]
    },
    {
     "name": "stdout",
     "output_type": "stream",
     "text": [
      "✅ Fold 2: Test Accuracy = 95.81%\n"
     ]
    },
    {
     "name": "stderr",
     "output_type": "stream",
     "text": [
      "Epoch [31/60]: 100%|███| 282/282 [01:27<00:00,  3.21it/s, acc=98.9, loss=0.0127]\n"
     ]
    },
    {
     "name": "stdout",
     "output_type": "stream",
     "text": [
      "✅ Fold 2: Test Accuracy = 96.21%\n"
     ]
    },
    {
     "name": "stderr",
     "output_type": "stream",
     "text": [
      "Epoch [32/60]: 100%|███| 282/282 [01:27<00:00,  3.21it/s, acc=98.7, loss=0.0113]\n"
     ]
    },
    {
     "name": "stdout",
     "output_type": "stream",
     "text": [
      "✅ Fold 2: Test Accuracy = 95.11%\n"
     ]
    },
    {
     "name": "stderr",
     "output_type": "stream",
     "text": [
      "Epoch [33/60]: 100%|█| 282/282 [01:27<00:00,  3.21it/s, acc=99.1, loss=0.000188]\n"
     ]
    },
    {
     "name": "stdout",
     "output_type": "stream",
     "text": [
      "✅ Fold 2: Test Accuracy = 96.61%\n"
     ]
    },
    {
     "name": "stderr",
     "output_type": "stream",
     "text": [
      "Epoch [34/60]: 100%|████| 282/282 [01:27<00:00,  3.20it/s, acc=98.1, loss=0.493]\n"
     ]
    },
    {
     "name": "stdout",
     "output_type": "stream",
     "text": [
      "✅ Fold 2: Test Accuracy = 94.81%\n"
     ]
    },
    {
     "name": "stderr",
     "output_type": "stream",
     "text": [
      "Epoch [35/60]: 100%|███| 282/282 [01:27<00:00,  3.21it/s, acc=98.9, loss=0.0109]\n"
     ]
    },
    {
     "name": "stdout",
     "output_type": "stream",
     "text": [
      "✅ Fold 2: Test Accuracy = 97.01%\n"
     ]
    },
    {
     "name": "stderr",
     "output_type": "stream",
     "text": [
      "Epoch [36/60]: 100%|██| 282/282 [01:27<00:00,  3.21it/s, acc=98.7, loss=0.00239]\n"
     ]
    },
    {
     "name": "stdout",
     "output_type": "stream",
     "text": [
      "✅ Fold 2: Test Accuracy = 96.71%\n"
     ]
    },
    {
     "name": "stderr",
     "output_type": "stream",
     "text": [
      "Epoch [37/60]: 100%|███| 282/282 [01:27<00:00,  3.21it/s, acc=98.8, loss=0.0284]\n"
     ]
    },
    {
     "name": "stdout",
     "output_type": "stream",
     "text": [
      "✅ Fold 2: Test Accuracy = 96.11%\n"
     ]
    },
    {
     "name": "stderr",
     "output_type": "stream",
     "text": [
      "Epoch [38/60]: 100%|█| 282/282 [01:27<00:00,  3.21it/s, acc=99.1, loss=0.000382]\n"
     ]
    },
    {
     "name": "stdout",
     "output_type": "stream",
     "text": [
      "✅ Fold 2: Test Accuracy = 95.51%\n"
     ]
    },
    {
     "name": "stderr",
     "output_type": "stream",
     "text": [
      "Epoch [39/60]: 100%|█| 282/282 [01:27<00:00,  3.21it/s, acc=99.1, loss=0.000799]\n"
     ]
    },
    {
     "name": "stdout",
     "output_type": "stream",
     "text": [
      "✅ Fold 2: Test Accuracy = 94.01%\n"
     ]
    },
    {
     "name": "stderr",
     "output_type": "stream",
     "text": [
      "Epoch [40/60]: 100%|█| 282/282 [01:28<00:00,  3.20it/s, acc=99.1, loss=0.000614]\n"
     ]
    },
    {
     "name": "stdout",
     "output_type": "stream",
     "text": [
      "✅ Fold 2: Test Accuracy = 95.81%\n"
     ]
    },
    {
     "name": "stderr",
     "output_type": "stream",
     "text": [
      "Epoch [41/60]: 100%|███| 282/282 [01:28<00:00,  3.20it/s, acc=98.9, loss=0.0688]\n"
     ]
    },
    {
     "name": "stdout",
     "output_type": "stream",
     "text": [
      "✅ Fold 2: Test Accuracy = 95.61%\n"
     ]
    },
    {
     "name": "stderr",
     "output_type": "stream",
     "text": [
      "Epoch [42/60]: 100%|██| 282/282 [01:27<00:00,  3.21it/s, acc=98.9, loss=0.00237]\n"
     ]
    },
    {
     "name": "stdout",
     "output_type": "stream",
     "text": [
      "✅ Fold 2: Test Accuracy = 96.21%\n"
     ]
    },
    {
     "name": "stderr",
     "output_type": "stream",
     "text": [
      "Epoch [43/60]: 100%|███| 282/282 [01:27<00:00,  3.21it/s, acc=98.9, loss=0.0738]\n"
     ]
    },
    {
     "name": "stdout",
     "output_type": "stream",
     "text": [
      "✅ Fold 2: Test Accuracy = 94.51%\n"
     ]
    },
    {
     "name": "stderr",
     "output_type": "stream",
     "text": [
      "Epoch [44/60]: 100%|███| 282/282 [01:27<00:00,  3.21it/s, acc=99.1, loss=0.0162]\n"
     ]
    },
    {
     "name": "stdout",
     "output_type": "stream",
     "text": [
      "✅ Fold 2: Test Accuracy = 93.61%\n"
     ]
    },
    {
     "name": "stderr",
     "output_type": "stream",
     "text": [
      "Epoch [45/60]: 100%|██| 282/282 [01:27<00:00,  3.21it/s, acc=99.2, loss=0.00388]\n"
     ]
    },
    {
     "name": "stdout",
     "output_type": "stream",
     "text": [
      "✅ Fold 2: Test Accuracy = 95.01%\n"
     ]
    },
    {
     "name": "stderr",
     "output_type": "stream",
     "text": [
      "Epoch [46/60]: 100%|██| 282/282 [01:27<00:00,  3.21it/s, acc=99.3, loss=0.00261]\n"
     ]
    },
    {
     "name": "stdout",
     "output_type": "stream",
     "text": [
      "✅ Fold 2: Test Accuracy = 95.81%\n"
     ]
    },
    {
     "name": "stderr",
     "output_type": "stream",
     "text": [
      "Epoch [47/60]: 100%|██| 282/282 [01:27<00:00,  3.21it/s, acc=98.8, loss=0.00436]\n"
     ]
    },
    {
     "name": "stdout",
     "output_type": "stream",
     "text": [
      "✅ Fold 2: Test Accuracy = 93.81%\n"
     ]
    },
    {
     "name": "stderr",
     "output_type": "stream",
     "text": [
      "Epoch [48/60]: 100%|██| 282/282 [01:27<00:00,  3.21it/s, acc=99.2, loss=0.00066]\n"
     ]
    },
    {
     "name": "stdout",
     "output_type": "stream",
     "text": [
      "✅ Fold 2: Test Accuracy = 94.81%\n"
     ]
    },
    {
     "name": "stderr",
     "output_type": "stream",
     "text": [
      "Epoch [49/60]: 100%|██| 282/282 [01:27<00:00,  3.21it/s, acc=99.1, loss=9.39e-5]\n"
     ]
    },
    {
     "name": "stdout",
     "output_type": "stream",
     "text": [
      "✅ Fold 2: Test Accuracy = 96.41%\n"
     ]
    },
    {
     "name": "stderr",
     "output_type": "stream",
     "text": [
      "Epoch [50/60]: 100%|██| 282/282 [01:27<00:00,  3.21it/s, acc=98.7, loss=0.00177]\n"
     ]
    },
    {
     "name": "stdout",
     "output_type": "stream",
     "text": [
      "✅ Fold 2: Test Accuracy = 95.31%\n"
     ]
    },
    {
     "name": "stderr",
     "output_type": "stream",
     "text": [
      "Epoch [51/60]: 100%|███| 282/282 [01:27<00:00,  3.21it/s, acc=99.1, loss=0.0705]\n"
     ]
    },
    {
     "name": "stdout",
     "output_type": "stream",
     "text": [
      "✅ Fold 2: Test Accuracy = 95.01%\n"
     ]
    },
    {
     "name": "stderr",
     "output_type": "stream",
     "text": [
      "Epoch [52/60]: 100%|████| 282/282 [01:27<00:00,  3.21it/s, acc=99, loss=0.00545]\n"
     ]
    },
    {
     "name": "stdout",
     "output_type": "stream",
     "text": [
      "✅ Fold 2: Test Accuracy = 95.81%\n"
     ]
    },
    {
     "name": "stderr",
     "output_type": "stream",
     "text": [
      "Epoch [53/60]: 100%|██| 282/282 [01:27<00:00,  3.21it/s, acc=99.3, loss=0.00254]\n"
     ]
    },
    {
     "name": "stdout",
     "output_type": "stream",
     "text": [
      "✅ Fold 2: Test Accuracy = 92.61%\n"
     ]
    },
    {
     "name": "stderr",
     "output_type": "stream",
     "text": [
      "Epoch [54/60]: 100%|████| 282/282 [01:27<00:00,  3.21it/s, acc=99, loss=0.00264]\n"
     ]
    },
    {
     "name": "stdout",
     "output_type": "stream",
     "text": [
      "✅ Fold 2: Test Accuracy = 94.51%\n"
     ]
    },
    {
     "name": "stderr",
     "output_type": "stream",
     "text": [
      "Epoch [55/60]: 100%|█| 282/282 [01:27<00:00,  3.21it/s, acc=99.2, loss=0.000423]\n"
     ]
    },
    {
     "name": "stdout",
     "output_type": "stream",
     "text": [
      "✅ Fold 2: Test Accuracy = 95.91%\n"
     ]
    },
    {
     "name": "stderr",
     "output_type": "stream",
     "text": [
      "Epoch [56/60]: 100%|███| 282/282 [01:27<00:00,  3.21it/s, acc=99.2, loss=0.0034]\n"
     ]
    },
    {
     "name": "stdout",
     "output_type": "stream",
     "text": [
      "✅ Fold 2: Test Accuracy = 94.91%\n"
     ]
    },
    {
     "name": "stderr",
     "output_type": "stream",
     "text": [
      "Epoch [57/60]: 100%|███| 282/282 [01:27<00:00,  3.21it/s, acc=98.9, loss=0.0268]\n"
     ]
    },
    {
     "name": "stdout",
     "output_type": "stream",
     "text": [
      "✅ Fold 2: Test Accuracy = 93.01%\n"
     ]
    },
    {
     "name": "stderr",
     "output_type": "stream",
     "text": [
      "Epoch [58/60]: 100%|██| 282/282 [01:27<00:00,  3.21it/s, acc=99.1, loss=0.00072]\n"
     ]
    },
    {
     "name": "stdout",
     "output_type": "stream",
     "text": [
      "✅ Fold 2: Test Accuracy = 95.01%\n"
     ]
    },
    {
     "name": "stderr",
     "output_type": "stream",
     "text": [
      "Epoch [59/60]: 100%|██| 282/282 [01:27<00:00,  3.21it/s, acc=98.9, loss=0.00547]\n"
     ]
    },
    {
     "name": "stdout",
     "output_type": "stream",
     "text": [
      "✅ Fold 2: Test Accuracy = 94.01%\n"
     ]
    },
    {
     "name": "stderr",
     "output_type": "stream",
     "text": [
      "Epoch [60/60]: 100%|██| 282/282 [01:27<00:00,  3.21it/s, acc=99.2, loss=0.00306]\n"
     ]
    },
    {
     "name": "stdout",
     "output_type": "stream",
     "text": [
      "✅ Fold 2: Test Accuracy = 95.41%\n",
      "\n",
      "🚀 Training Fold 3/10\n"
     ]
    },
    {
     "name": "stderr",
     "output_type": "stream",
     "text": [
      "Epoch [1/60]: 100%|██████| 282/282 [01:27<00:00,  3.21it/s, acc=97, loss=0.0343]\n"
     ]
    },
    {
     "name": "stdout",
     "output_type": "stream",
     "text": [
      "✅ Fold 3: Test Accuracy = 99.20%\n",
      "🎯 New best model saved with accuracy: 99.20%\n"
     ]
    },
    {
     "name": "stderr",
     "output_type": "stream",
     "text": [
      "Epoch [2/60]: 100%|███| 282/282 [01:27<00:00,  3.21it/s, acc=98.7, loss=0.00742]\n"
     ]
    },
    {
     "name": "stdout",
     "output_type": "stream",
     "text": [
      "✅ Fold 3: Test Accuracy = 99.90%\n",
      "🎯 New best model saved with accuracy: 99.90%\n"
     ]
    },
    {
     "name": "stderr",
     "output_type": "stream",
     "text": [
      "Epoch [3/60]: 100%|██████| 282/282 [01:27<00:00,  3.21it/s, acc=99, loss=0.0183]\n"
     ]
    },
    {
     "name": "stdout",
     "output_type": "stream",
     "text": [
      "✅ Fold 3: Test Accuracy = 98.90%\n"
     ]
    },
    {
     "name": "stderr",
     "output_type": "stream",
     "text": [
      "Epoch [4/60]: 100%|███| 282/282 [01:27<00:00,  3.21it/s, acc=99.1, loss=0.00425]\n"
     ]
    },
    {
     "name": "stdout",
     "output_type": "stream",
     "text": [
      "✅ Fold 3: Test Accuracy = 99.40%\n"
     ]
    },
    {
     "name": "stderr",
     "output_type": "stream",
     "text": [
      "Epoch [5/60]: 100%|███| 282/282 [01:27<00:00,  3.21it/s, acc=98.9, loss=0.00497]\n"
     ]
    },
    {
     "name": "stdout",
     "output_type": "stream",
     "text": [
      "✅ Fold 3: Test Accuracy = 98.80%\n"
     ]
    },
    {
     "name": "stderr",
     "output_type": "stream",
     "text": [
      "Epoch [6/60]: 100%|██| 282/282 [01:27<00:00,  3.21it/s, acc=99.1, loss=0.000682]\n"
     ]
    },
    {
     "name": "stdout",
     "output_type": "stream",
     "text": [
      "✅ Fold 3: Test Accuracy = 99.20%\n"
     ]
    },
    {
     "name": "stderr",
     "output_type": "stream",
     "text": [
      "Epoch [7/60]: 100%|█████| 282/282 [01:27<00:00,  3.21it/s, acc=99, loss=0.00049]\n"
     ]
    },
    {
     "name": "stdout",
     "output_type": "stream",
     "text": [
      "✅ Fold 3: Test Accuracy = 99.50%\n"
     ]
    },
    {
     "name": "stderr",
     "output_type": "stream",
     "text": [
      "Epoch [8/60]: 100%|████| 282/282 [01:27<00:00,  3.21it/s, acc=99.3, loss=0.0077]\n"
     ]
    },
    {
     "name": "stdout",
     "output_type": "stream",
     "text": [
      "✅ Fold 3: Test Accuracy = 98.80%\n"
     ]
    },
    {
     "name": "stderr",
     "output_type": "stream",
     "text": [
      "Epoch [9/60]: 100%|███| 282/282 [01:27<00:00,  3.21it/s, acc=98.9, loss=0.00493]\n"
     ]
    },
    {
     "name": "stdout",
     "output_type": "stream",
     "text": [
      "✅ Fold 3: Test Accuracy = 98.40%\n"
     ]
    },
    {
     "name": "stderr",
     "output_type": "stream",
     "text": [
      "Epoch [10/60]: 100%|████| 282/282 [01:27<00:00,  3.21it/s, acc=98.6, loss=0.267]\n"
     ]
    },
    {
     "name": "stdout",
     "output_type": "stream",
     "text": [
      "✅ Fold 3: Test Accuracy = 98.80%\n"
     ]
    },
    {
     "name": "stderr",
     "output_type": "stream",
     "text": [
      "Epoch [11/60]: 100%|███| 282/282 [01:27<00:00,  3.21it/s, acc=99.1, loss=0.0406]\n"
     ]
    },
    {
     "name": "stdout",
     "output_type": "stream",
     "text": [
      "✅ Fold 3: Test Accuracy = 98.90%\n"
     ]
    },
    {
     "name": "stderr",
     "output_type": "stream",
     "text": [
      "Epoch [12/60]: 100%|███| 282/282 [01:27<00:00,  3.21it/s, acc=98.9, loss=0.0033]\n"
     ]
    },
    {
     "name": "stdout",
     "output_type": "stream",
     "text": [
      "✅ Fold 3: Test Accuracy = 99.40%\n"
     ]
    },
    {
     "name": "stderr",
     "output_type": "stream",
     "text": [
      "Epoch [13/60]: 100%|██| 282/282 [01:27<00:00,  3.21it/s, acc=98.7, loss=0.00237]\n"
     ]
    },
    {
     "name": "stdout",
     "output_type": "stream",
     "text": [
      "✅ Fold 3: Test Accuracy = 99.30%\n"
     ]
    },
    {
     "name": "stderr",
     "output_type": "stream",
     "text": [
      "Epoch [14/60]: 100%|███| 282/282 [01:27<00:00,  3.21it/s, acc=99.2, loss=0.0379]\n"
     ]
    },
    {
     "name": "stdout",
     "output_type": "stream",
     "text": [
      "✅ Fold 3: Test Accuracy = 97.31%\n"
     ]
    },
    {
     "name": "stderr",
     "output_type": "stream",
     "text": [
      "Epoch [15/60]: 100%|██| 282/282 [01:27<00:00,  3.21it/s, acc=98.8, loss=0.00342]\n"
     ]
    },
    {
     "name": "stdout",
     "output_type": "stream",
     "text": [
      "✅ Fold 3: Test Accuracy = 98.90%\n"
     ]
    },
    {
     "name": "stderr",
     "output_type": "stream",
     "text": [
      "Epoch [16/60]: 100%|█| 282/282 [01:27<00:00,  3.21it/s, acc=99.1, loss=0.000748]\n"
     ]
    },
    {
     "name": "stdout",
     "output_type": "stream",
     "text": [
      "✅ Fold 3: Test Accuracy = 97.90%\n"
     ]
    },
    {
     "name": "stderr",
     "output_type": "stream",
     "text": [
      "Epoch [17/60]: 100%|███| 282/282 [01:27<00:00,  3.21it/s, acc=98.9, loss=0.0211]\n"
     ]
    },
    {
     "name": "stdout",
     "output_type": "stream",
     "text": [
      "✅ Fold 3: Test Accuracy = 99.60%\n"
     ]
    },
    {
     "name": "stderr",
     "output_type": "stream",
     "text": [
      "Epoch [18/60]: 100%|███| 282/282 [01:27<00:00,  3.21it/s, acc=99.1, loss=0.0565]\n"
     ]
    },
    {
     "name": "stdout",
     "output_type": "stream",
     "text": [
      "✅ Fold 3: Test Accuracy = 98.50%\n"
     ]
    },
    {
     "name": "stderr",
     "output_type": "stream",
     "text": [
      "Epoch [19/60]: 100%|██| 282/282 [01:27<00:00,  3.21it/s, acc=99.4, loss=0.00048]\n"
     ]
    },
    {
     "name": "stdout",
     "output_type": "stream",
     "text": [
      "✅ Fold 3: Test Accuracy = 98.30%\n"
     ]
    },
    {
     "name": "stderr",
     "output_type": "stream",
     "text": [
      "Epoch [20/60]: 100%|███| 282/282 [01:27<00:00,  3.21it/s, acc=99.4, loss=0.0184]\n"
     ]
    },
    {
     "name": "stdout",
     "output_type": "stream",
     "text": [
      "✅ Fold 3: Test Accuracy = 98.50%\n"
     ]
    },
    {
     "name": "stderr",
     "output_type": "stream",
     "text": [
      "Epoch [21/60]: 100%|██| 282/282 [01:27<00:00,  3.21it/s, acc=99.1, loss=0.00118]\n"
     ]
    },
    {
     "name": "stdout",
     "output_type": "stream",
     "text": [
      "✅ Fold 3: Test Accuracy = 99.00%\n"
     ]
    },
    {
     "name": "stderr",
     "output_type": "stream",
     "text": [
      "Epoch [22/60]: 100%|████| 282/282 [01:27<00:00,  3.21it/s, acc=99, loss=0.00185]\n"
     ]
    },
    {
     "name": "stdout",
     "output_type": "stream",
     "text": [
      "✅ Fold 3: Test Accuracy = 97.80%\n"
     ]
    },
    {
     "name": "stderr",
     "output_type": "stream",
     "text": [
      "Epoch [23/60]: 100%|███| 282/282 [01:27<00:00,  3.20it/s, acc=98.8, loss=0.0783]\n"
     ]
    },
    {
     "name": "stdout",
     "output_type": "stream",
     "text": [
      "✅ Fold 3: Test Accuracy = 97.01%\n"
     ]
    },
    {
     "name": "stderr",
     "output_type": "stream",
     "text": [
      "Epoch [24/60]: 100%|████| 282/282 [01:27<00:00,  3.21it/s, acc=99, loss=0.00143]\n"
     ]
    },
    {
     "name": "stdout",
     "output_type": "stream",
     "text": [
      "✅ Fold 3: Test Accuracy = 98.80%\n"
     ]
    },
    {
     "name": "stderr",
     "output_type": "stream",
     "text": [
      "Epoch [25/60]: 100%|█| 282/282 [01:27<00:00,  3.21it/s, acc=99.2, loss=0.000938]\n"
     ]
    },
    {
     "name": "stdout",
     "output_type": "stream",
     "text": [
      "✅ Fold 3: Test Accuracy = 98.20%\n"
     ]
    },
    {
     "name": "stderr",
     "output_type": "stream",
     "text": [
      "Epoch [26/60]: 100%|███| 282/282 [01:27<00:00,  3.21it/s, acc=99.5, loss=0.0108]\n"
     ]
    },
    {
     "name": "stdout",
     "output_type": "stream",
     "text": [
      "✅ Fold 3: Test Accuracy = 97.90%\n"
     ]
    },
    {
     "name": "stderr",
     "output_type": "stream",
     "text": [
      "Epoch [27/60]: 100%|██████| 282/282 [01:27<00:00,  3.21it/s, acc=99, loss=0.261]\n"
     ]
    },
    {
     "name": "stdout",
     "output_type": "stream",
     "text": [
      "✅ Fold 3: Test Accuracy = 98.10%\n"
     ]
    },
    {
     "name": "stderr",
     "output_type": "stream",
     "text": [
      "Epoch [28/60]: 100%|███| 282/282 [01:27<00:00,  3.21it/s, acc=99.1, loss=0.0269]\n"
     ]
    },
    {
     "name": "stdout",
     "output_type": "stream",
     "text": [
      "✅ Fold 3: Test Accuracy = 97.31%\n"
     ]
    },
    {
     "name": "stderr",
     "output_type": "stream",
     "text": [
      "Epoch [29/60]: 100%|██| 282/282 [01:27<00:00,  3.21it/s, acc=98.8, loss=0.00471]\n"
     ]
    },
    {
     "name": "stdout",
     "output_type": "stream",
     "text": [
      "✅ Fold 3: Test Accuracy = 97.41%\n"
     ]
    },
    {
     "name": "stderr",
     "output_type": "stream",
     "text": [
      "Epoch [30/60]: 100%|████| 282/282 [01:27<00:00,  3.21it/s, acc=99.1, loss=0.123]\n"
     ]
    },
    {
     "name": "stdout",
     "output_type": "stream",
     "text": [
      "✅ Fold 3: Test Accuracy = 98.60%\n"
     ]
    },
    {
     "name": "stderr",
     "output_type": "stream",
     "text": [
      "Epoch [31/60]: 100%|██████| 282/282 [01:27<00:00,  3.21it/s, acc=99, loss=0.014]\n"
     ]
    },
    {
     "name": "stdout",
     "output_type": "stream",
     "text": [
      "✅ Fold 3: Test Accuracy = 97.21%\n"
     ]
    },
    {
     "name": "stderr",
     "output_type": "stream",
     "text": [
      "Epoch [32/60]: 100%|██| 282/282 [01:27<00:00,  3.21it/s, acc=99.6, loss=0.00108]\n"
     ]
    },
    {
     "name": "stdout",
     "output_type": "stream",
     "text": [
      "✅ Fold 3: Test Accuracy = 97.41%\n"
     ]
    },
    {
     "name": "stderr",
     "output_type": "stream",
     "text": [
      "Epoch [33/60]: 100%|█████| 282/282 [01:27<00:00,  3.21it/s, acc=99, loss=0.0155]\n"
     ]
    },
    {
     "name": "stdout",
     "output_type": "stream",
     "text": [
      "✅ Fold 3: Test Accuracy = 98.10%\n"
     ]
    },
    {
     "name": "stderr",
     "output_type": "stream",
     "text": [
      "Epoch [34/60]: 100%|██| 282/282 [01:27<00:00,  3.21it/s, acc=99.4, loss=3.23e-5]\n"
     ]
    },
    {
     "name": "stdout",
     "output_type": "stream",
     "text": [
      "✅ Fold 3: Test Accuracy = 98.80%\n"
     ]
    },
    {
     "name": "stderr",
     "output_type": "stream",
     "text": [
      "Epoch [35/60]: 100%|███| 282/282 [01:27<00:00,  3.21it/s, acc=99.5, loss=0.0179]\n"
     ]
    },
    {
     "name": "stdout",
     "output_type": "stream",
     "text": [
      "✅ Fold 3: Test Accuracy = 98.10%\n"
     ]
    },
    {
     "name": "stderr",
     "output_type": "stream",
     "text": [
      "Epoch [36/60]: 100%|██████| 282/282 [01:27<00:00,  3.21it/s, acc=98.9, loss=0.1]\n"
     ]
    },
    {
     "name": "stdout",
     "output_type": "stream",
     "text": [
      "✅ Fold 3: Test Accuracy = 97.80%\n"
     ]
    },
    {
     "name": "stderr",
     "output_type": "stream",
     "text": [
      "Epoch [37/60]: 100%|█| 282/282 [01:27<00:00,  3.21it/s, acc=99.3, loss=0.000928]\n"
     ]
    },
    {
     "name": "stdout",
     "output_type": "stream",
     "text": [
      "✅ Fold 3: Test Accuracy = 99.30%\n"
     ]
    },
    {
     "name": "stderr",
     "output_type": "stream",
     "text": [
      "Epoch [38/60]: 100%|██| 282/282 [01:27<00:00,  3.21it/s, acc=99.6, loss=0.00259]\n"
     ]
    },
    {
     "name": "stdout",
     "output_type": "stream",
     "text": [
      "✅ Fold 3: Test Accuracy = 98.30%\n"
     ]
    },
    {
     "name": "stderr",
     "output_type": "stream",
     "text": [
      "Epoch [39/60]: 100%|██| 282/282 [01:27<00:00,  3.21it/s, acc=98.9, loss=0.00263]\n"
     ]
    },
    {
     "name": "stdout",
     "output_type": "stream",
     "text": [
      "✅ Fold 3: Test Accuracy = 98.00%\n"
     ]
    },
    {
     "name": "stderr",
     "output_type": "stream",
     "text": [
      "Epoch [40/60]: 100%|██| 282/282 [01:27<00:00,  3.21it/s, acc=99.2, loss=0.00352]\n"
     ]
    },
    {
     "name": "stdout",
     "output_type": "stream",
     "text": [
      "✅ Fold 3: Test Accuracy = 97.70%\n"
     ]
    },
    {
     "name": "stderr",
     "output_type": "stream",
     "text": [
      "Epoch [41/60]: 100%|███| 282/282 [01:27<00:00,  3.21it/s, acc=98.8, loss=0.0223]\n"
     ]
    },
    {
     "name": "stdout",
     "output_type": "stream",
     "text": [
      "✅ Fold 3: Test Accuracy = 97.41%\n"
     ]
    },
    {
     "name": "stderr",
     "output_type": "stream",
     "text": [
      "Epoch [42/60]: 100%|██| 282/282 [01:27<00:00,  3.21it/s, acc=99.4, loss=0.00285]\n"
     ]
    },
    {
     "name": "stdout",
     "output_type": "stream",
     "text": [
      "✅ Fold 3: Test Accuracy = 95.31%\n"
     ]
    },
    {
     "name": "stderr",
     "output_type": "stream",
     "text": [
      "Epoch [43/60]: 100%|███| 282/282 [01:27<00:00,  3.21it/s, acc=99.4, loss=2.5e-5]\n"
     ]
    },
    {
     "name": "stdout",
     "output_type": "stream",
     "text": [
      "✅ Fold 3: Test Accuracy = 98.10%\n"
     ]
    },
    {
     "name": "stderr",
     "output_type": "stream",
     "text": [
      "Epoch [44/60]: 100%|████| 282/282 [01:27<00:00,  3.21it/s, acc=99, loss=0.00362]\n"
     ]
    },
    {
     "name": "stdout",
     "output_type": "stream",
     "text": [
      "✅ Fold 3: Test Accuracy = 97.70%\n"
     ]
    },
    {
     "name": "stderr",
     "output_type": "stream",
     "text": [
      "Epoch [45/60]: 100%|███| 282/282 [01:27<00:00,  3.21it/s, acc=99.2, loss=0.0114]\n"
     ]
    },
    {
     "name": "stdout",
     "output_type": "stream",
     "text": [
      "✅ Fold 3: Test Accuracy = 97.80%\n"
     ]
    },
    {
     "name": "stderr",
     "output_type": "stream",
     "text": [
      "Epoch [46/60]: 100%|██| 282/282 [01:27<00:00,  3.21it/s, acc=99.3, loss=0.00425]\n"
     ]
    },
    {
     "name": "stdout",
     "output_type": "stream",
     "text": [
      "✅ Fold 3: Test Accuracy = 98.50%\n"
     ]
    },
    {
     "name": "stderr",
     "output_type": "stream",
     "text": [
      "Epoch [47/60]: 100%|███| 282/282 [01:27<00:00,  3.21it/s, acc=99.1, loss=0.0378]\n"
     ]
    },
    {
     "name": "stdout",
     "output_type": "stream",
     "text": [
      "✅ Fold 3: Test Accuracy = 96.81%\n"
     ]
    },
    {
     "name": "stderr",
     "output_type": "stream",
     "text": [
      "Epoch [48/60]: 100%|██| 282/282 [01:27<00:00,  3.21it/s, acc=99.4, loss=0.00589]\n"
     ]
    },
    {
     "name": "stdout",
     "output_type": "stream",
     "text": [
      "✅ Fold 3: Test Accuracy = 98.20%\n"
     ]
    },
    {
     "name": "stderr",
     "output_type": "stream",
     "text": [
      "Epoch [49/60]: 100%|██| 282/282 [01:27<00:00,  3.21it/s, acc=99.7, loss=0.00146]\n"
     ]
    },
    {
     "name": "stdout",
     "output_type": "stream",
     "text": [
      "✅ Fold 3: Test Accuracy = 97.41%\n"
     ]
    },
    {
     "name": "stderr",
     "output_type": "stream",
     "text": [
      "Epoch [50/60]: 100%|███| 282/282 [01:27<00:00,  3.21it/s, acc=98.6, loss=0.0115]\n"
     ]
    },
    {
     "name": "stdout",
     "output_type": "stream",
     "text": [
      "✅ Fold 3: Test Accuracy = 96.91%\n"
     ]
    },
    {
     "name": "stderr",
     "output_type": "stream",
     "text": [
      "Epoch [51/60]: 100%|██| 282/282 [01:27<00:00,  3.21it/s, acc=99.2, loss=0.00579]\n"
     ]
    },
    {
     "name": "stdout",
     "output_type": "stream",
     "text": [
      "✅ Fold 3: Test Accuracy = 97.60%\n"
     ]
    },
    {
     "name": "stderr",
     "output_type": "stream",
     "text": [
      "Epoch [52/60]: 100%|██| 282/282 [01:27<00:00,  3.21it/s, acc=99.2, loss=0.00131]\n"
     ]
    },
    {
     "name": "stdout",
     "output_type": "stream",
     "text": [
      "✅ Fold 3: Test Accuracy = 96.91%\n"
     ]
    },
    {
     "name": "stderr",
     "output_type": "stream",
     "text": [
      "Epoch [53/60]: 100%|█| 282/282 [01:27<00:00,  3.21it/s, acc=99.3, loss=0.000611]\n"
     ]
    },
    {
     "name": "stdout",
     "output_type": "stream",
     "text": [
      "✅ Fold 3: Test Accuracy = 97.41%\n"
     ]
    },
    {
     "name": "stderr",
     "output_type": "stream",
     "text": [
      "Epoch [54/60]: 100%|█| 282/282 [01:27<00:00,  3.21it/s, acc=99.4, loss=0.000174]\n"
     ]
    },
    {
     "name": "stdout",
     "output_type": "stream",
     "text": [
      "✅ Fold 3: Test Accuracy = 97.21%\n"
     ]
    },
    {
     "name": "stderr",
     "output_type": "stream",
     "text": [
      "Epoch [55/60]: 100%|███| 282/282 [01:27<00:00,  3.21it/s, acc=99.1, loss=0.0974]\n"
     ]
    },
    {
     "name": "stdout",
     "output_type": "stream",
     "text": [
      "✅ Fold 3: Test Accuracy = 94.91%\n"
     ]
    },
    {
     "name": "stderr",
     "output_type": "stream",
     "text": [
      "Epoch [56/60]: 100%|██| 282/282 [01:27<00:00,  3.21it/s, acc=99.5, loss=0.00835]\n"
     ]
    },
    {
     "name": "stdout",
     "output_type": "stream",
     "text": [
      "✅ Fold 3: Test Accuracy = 97.01%\n"
     ]
    },
    {
     "name": "stderr",
     "output_type": "stream",
     "text": [
      "Epoch [57/60]: 100%|█| 282/282 [01:27<00:00,  3.21it/s, acc=99.2, loss=0.000409]\n"
     ]
    },
    {
     "name": "stdout",
     "output_type": "stream",
     "text": [
      "✅ Fold 3: Test Accuracy = 97.60%\n"
     ]
    },
    {
     "name": "stderr",
     "output_type": "stream",
     "text": [
      "Epoch [58/60]: 100%|███| 282/282 [01:27<00:00,  3.21it/s, acc=99.1, loss=0.0707]\n"
     ]
    },
    {
     "name": "stdout",
     "output_type": "stream",
     "text": [
      "✅ Fold 3: Test Accuracy = 96.11%\n"
     ]
    },
    {
     "name": "stderr",
     "output_type": "stream",
     "text": [
      "Epoch [59/60]: 100%|██| 282/282 [01:28<00:00,  3.20it/s, acc=99.3, loss=0.00304]\n"
     ]
    },
    {
     "name": "stdout",
     "output_type": "stream",
     "text": [
      "✅ Fold 3: Test Accuracy = 97.80%\n"
     ]
    },
    {
     "name": "stderr",
     "output_type": "stream",
     "text": [
      "Epoch [60/60]: 100%|█| 282/282 [01:27<00:00,  3.21it/s, acc=99.3, loss=0.000343]\n"
     ]
    },
    {
     "name": "stdout",
     "output_type": "stream",
     "text": [
      "✅ Fold 3: Test Accuracy = 96.31%\n",
      "\n",
      "🚀 Training Fold 4/10\n"
     ]
    },
    {
     "name": "stderr",
     "output_type": "stream",
     "text": [
      "Epoch [1/60]: 100%|████| 282/282 [01:28<00:00,  3.20it/s, acc=96.9, loss=0.0556]\n"
     ]
    },
    {
     "name": "stdout",
     "output_type": "stream",
     "text": [
      "✅ Fold 4: Test Accuracy = 99.90%\n",
      "🎯 New best model saved with accuracy: 99.90%\n"
     ]
    },
    {
     "name": "stderr",
     "output_type": "stream",
     "text": [
      "Epoch [2/60]: 100%|████| 282/282 [01:28<00:00,  3.20it/s, acc=99.3, loss=0.0353]\n"
     ]
    },
    {
     "name": "stdout",
     "output_type": "stream",
     "text": [
      "✅ Fold 4: Test Accuracy = 99.30%\n"
     ]
    },
    {
     "name": "stderr",
     "output_type": "stream",
     "text": [
      "Epoch [3/60]: 100%|████| 282/282 [01:27<00:00,  3.21it/s, acc=99.3, loss=9.3e-5]\n"
     ]
    },
    {
     "name": "stdout",
     "output_type": "stream",
     "text": [
      "✅ Fold 4: Test Accuracy = 99.70%\n"
     ]
    },
    {
     "name": "stderr",
     "output_type": "stream",
     "text": [
      "Epoch [4/60]: 100%|██| 282/282 [01:27<00:00,  3.21it/s, acc=99.3, loss=0.000966]\n"
     ]
    },
    {
     "name": "stdout",
     "output_type": "stream",
     "text": [
      "✅ Fold 4: Test Accuracy = 99.50%\n"
     ]
    },
    {
     "name": "stderr",
     "output_type": "stream",
     "text": [
      "Epoch [5/60]: 100%|████| 282/282 [01:27<00:00,  3.21it/s, acc=99.2, loss=0.0596]\n"
     ]
    },
    {
     "name": "stdout",
     "output_type": "stream",
     "text": [
      "✅ Fold 4: Test Accuracy = 99.30%\n"
     ]
    },
    {
     "name": "stderr",
     "output_type": "stream",
     "text": [
      "Epoch [6/60]: 100%|████| 282/282 [01:27<00:00,  3.21it/s, acc=99.1, loss=0.0945]\n"
     ]
    },
    {
     "name": "stdout",
     "output_type": "stream",
     "text": [
      "✅ Fold 4: Test Accuracy = 97.60%\n"
     ]
    },
    {
     "name": "stderr",
     "output_type": "stream",
     "text": [
      "Epoch [7/60]: 100%|█████| 282/282 [01:27<00:00,  3.21it/s, acc=98.4, loss=0.122]\n"
     ]
    },
    {
     "name": "stdout",
     "output_type": "stream",
     "text": [
      "✅ Fold 4: Test Accuracy = 98.00%\n"
     ]
    },
    {
     "name": "stderr",
     "output_type": "stream",
     "text": [
      "Epoch [8/60]: 100%|████| 282/282 [01:27<00:00,  3.21it/s, acc=98.9, loss=0.0754]\n"
     ]
    },
    {
     "name": "stdout",
     "output_type": "stream",
     "text": [
      "✅ Fold 4: Test Accuracy = 99.60%\n"
     ]
    },
    {
     "name": "stderr",
     "output_type": "stream",
     "text": [
      "Epoch [9/60]: 100%|███| 282/282 [01:27<00:00,  3.21it/s, acc=99.2, loss=0.00611]\n"
     ]
    },
    {
     "name": "stdout",
     "output_type": "stream",
     "text": [
      "✅ Fold 4: Test Accuracy = 99.80%\n"
     ]
    },
    {
     "name": "stderr",
     "output_type": "stream",
     "text": [
      "Epoch [10/60]: 100%|██| 282/282 [01:27<00:00,  3.21it/s, acc=99.5, loss=0.00301]\n"
     ]
    },
    {
     "name": "stdout",
     "output_type": "stream",
     "text": [
      "✅ Fold 4: Test Accuracy = 99.60%\n"
     ]
    },
    {
     "name": "stderr",
     "output_type": "stream",
     "text": [
      "Epoch [11/60]: 100%|█████| 282/282 [01:27<00:00,  3.21it/s, acc=99, loss=0.0904]\n"
     ]
    },
    {
     "name": "stdout",
     "output_type": "stream",
     "text": [
      "✅ Fold 4: Test Accuracy = 98.90%\n"
     ]
    },
    {
     "name": "stderr",
     "output_type": "stream",
     "text": [
      "Epoch [12/60]: 100%|█| 282/282 [01:27<00:00,  3.21it/s, acc=99.3, loss=0.000372]\n"
     ]
    },
    {
     "name": "stdout",
     "output_type": "stream",
     "text": [
      "✅ Fold 4: Test Accuracy = 99.40%\n"
     ]
    },
    {
     "name": "stderr",
     "output_type": "stream",
     "text": [
      "Epoch [13/60]: 100%|██| 282/282 [01:27<00:00,  3.21it/s, acc=99.7, loss=5.45e-5]\n"
     ]
    },
    {
     "name": "stdout",
     "output_type": "stream",
     "text": [
      "✅ Fold 4: Test Accuracy = 99.60%\n"
     ]
    },
    {
     "name": "stderr",
     "output_type": "stream",
     "text": [
      "Epoch [14/60]: 100%|███| 282/282 [01:27<00:00,  3.21it/s, acc=99.2, loss=0.0978]\n"
     ]
    },
    {
     "name": "stdout",
     "output_type": "stream",
     "text": [
      "✅ Fold 4: Test Accuracy = 96.11%\n"
     ]
    },
    {
     "name": "stderr",
     "output_type": "stream",
     "text": [
      "Epoch [15/60]: 100%|███| 282/282 [01:27<00:00,  3.21it/s, acc=98.8, loss=0.0267]\n"
     ]
    },
    {
     "name": "stdout",
     "output_type": "stream",
     "text": [
      "✅ Fold 4: Test Accuracy = 99.20%\n"
     ]
    },
    {
     "name": "stderr",
     "output_type": "stream",
     "text": [
      "Epoch [16/60]: 100%|█| 282/282 [01:27<00:00,  3.21it/s, acc=99.3, loss=0.000183]\n"
     ]
    },
    {
     "name": "stdout",
     "output_type": "stream",
     "text": [
      "✅ Fold 4: Test Accuracy = 99.70%\n"
     ]
    },
    {
     "name": "stderr",
     "output_type": "stream",
     "text": [
      "Epoch [17/60]: 100%|█| 282/282 [01:27<00:00,  3.21it/s, acc=99.4, loss=0.000104]\n"
     ]
    },
    {
     "name": "stdout",
     "output_type": "stream",
     "text": [
      "✅ Fold 4: Test Accuracy = 99.70%\n"
     ]
    },
    {
     "name": "stderr",
     "output_type": "stream",
     "text": [
      "Epoch [18/60]: 100%|██| 282/282 [01:27<00:00,  3.21it/s, acc=99.2, loss=0.00407]\n"
     ]
    },
    {
     "name": "stdout",
     "output_type": "stream",
     "text": [
      "✅ Fold 4: Test Accuracy = 99.20%\n"
     ]
    },
    {
     "name": "stderr",
     "output_type": "stream",
     "text": [
      "Epoch [19/60]: 100%|██| 282/282 [01:27<00:00,  3.21it/s, acc=99.2, loss=0.00062]\n"
     ]
    },
    {
     "name": "stdout",
     "output_type": "stream",
     "text": [
      "✅ Fold 4: Test Accuracy = 99.80%\n"
     ]
    },
    {
     "name": "stderr",
     "output_type": "stream",
     "text": [
      "Epoch [20/60]: 100%|█| 282/282 [01:28<00:00,  3.20it/s, acc=99.1, loss=0.000286]\n"
     ]
    },
    {
     "name": "stdout",
     "output_type": "stream",
     "text": [
      "✅ Fold 4: Test Accuracy = 97.80%\n"
     ]
    },
    {
     "name": "stderr",
     "output_type": "stream",
     "text": [
      "Epoch [21/60]: 100%|██████| 282/282 [01:28<00:00,  3.20it/s, acc=99, loss=0.005]\n"
     ]
    },
    {
     "name": "stdout",
     "output_type": "stream",
     "text": [
      "✅ Fold 4: Test Accuracy = 98.30%\n"
     ]
    },
    {
     "name": "stderr",
     "output_type": "stream",
     "text": [
      "Epoch [22/60]: 100%|██| 282/282 [01:27<00:00,  3.20it/s, acc=99.4, loss=0.00037]\n"
     ]
    },
    {
     "name": "stdout",
     "output_type": "stream",
     "text": [
      "✅ Fold 4: Test Accuracy = 99.10%\n"
     ]
    },
    {
     "name": "stderr",
     "output_type": "stream",
     "text": [
      "Epoch [23/60]: 100%|██| 282/282 [01:28<00:00,  3.20it/s, acc=99.7, loss=0.00126]\n"
     ]
    },
    {
     "name": "stdout",
     "output_type": "stream",
     "text": [
      "✅ Fold 4: Test Accuracy = 98.40%\n"
     ]
    },
    {
     "name": "stderr",
     "output_type": "stream",
     "text": [
      "Epoch [24/60]: 100%|██| 282/282 [01:28<00:00,  3.20it/s, acc=98.9, loss=0.00815]\n"
     ]
    },
    {
     "name": "stdout",
     "output_type": "stream",
     "text": [
      "✅ Fold 4: Test Accuracy = 98.80%\n"
     ]
    },
    {
     "name": "stderr",
     "output_type": "stream",
     "text": [
      "Epoch [25/60]: 100%|███| 282/282 [01:28<00:00,  3.20it/s, acc=99.5, loss=0.0174]\n"
     ]
    },
    {
     "name": "stdout",
     "output_type": "stream",
     "text": [
      "✅ Fold 4: Test Accuracy = 99.00%\n"
     ]
    },
    {
     "name": "stderr",
     "output_type": "stream",
     "text": [
      "Epoch [26/60]: 100%|████| 282/282 [01:28<00:00,  3.20it/s, acc=99.1, loss=0.358]\n"
     ]
    },
    {
     "name": "stdout",
     "output_type": "stream",
     "text": [
      "✅ Fold 4: Test Accuracy = 99.60%\n"
     ]
    },
    {
     "name": "stderr",
     "output_type": "stream",
     "text": [
      "Epoch [27/60]: 100%|██| 282/282 [01:28<00:00,  3.20it/s, acc=99.4, loss=0.00266]\n"
     ]
    },
    {
     "name": "stdout",
     "output_type": "stream",
     "text": [
      "✅ Fold 4: Test Accuracy = 97.90%\n"
     ]
    },
    {
     "name": "stderr",
     "output_type": "stream",
     "text": [
      "Epoch [28/60]: 100%|██| 282/282 [01:28<00:00,  3.20it/s, acc=99.3, loss=0.00316]\n"
     ]
    },
    {
     "name": "stdout",
     "output_type": "stream",
     "text": [
      "✅ Fold 4: Test Accuracy = 97.70%\n"
     ]
    },
    {
     "name": "stderr",
     "output_type": "stream",
     "text": [
      "Epoch [29/60]: 100%|████| 282/282 [01:28<00:00,  3.20it/s, acc=99.4, loss=0.163]\n"
     ]
    },
    {
     "name": "stdout",
     "output_type": "stream",
     "text": [
      "✅ Fold 4: Test Accuracy = 99.10%\n"
     ]
    },
    {
     "name": "stderr",
     "output_type": "stream",
     "text": [
      "Epoch [30/60]: 100%|█| 282/282 [01:28<00:00,  3.20it/s, acc=99.5, loss=0.000397]\n"
     ]
    },
    {
     "name": "stdout",
     "output_type": "stream",
     "text": [
      "✅ Fold 4: Test Accuracy = 98.80%\n"
     ]
    },
    {
     "name": "stderr",
     "output_type": "stream",
     "text": [
      "Epoch [31/60]: 100%|███| 282/282 [01:28<00:00,  3.19it/s, acc=99.1, loss=0.0416]\n"
     ]
    },
    {
     "name": "stdout",
     "output_type": "stream",
     "text": [
      "✅ Fold 4: Test Accuracy = 98.30%\n"
     ]
    },
    {
     "name": "stderr",
     "output_type": "stream",
     "text": [
      "Epoch [32/60]: 100%|██| 282/282 [01:28<00:00,  3.20it/s, acc=99.1, loss=3.65e-5]\n"
     ]
    },
    {
     "name": "stdout",
     "output_type": "stream",
     "text": [
      "✅ Fold 4: Test Accuracy = 99.20%\n"
     ]
    },
    {
     "name": "stderr",
     "output_type": "stream",
     "text": [
      "Epoch [33/60]: 100%|███| 282/282 [01:28<00:00,  3.20it/s, acc=99.3, loss=0.0317]\n"
     ]
    },
    {
     "name": "stdout",
     "output_type": "stream",
     "text": [
      "✅ Fold 4: Test Accuracy = 98.50%\n"
     ]
    },
    {
     "name": "stderr",
     "output_type": "stream",
     "text": [
      "Epoch [34/60]: 100%|██| 282/282 [01:28<00:00,  3.20it/s, acc=99.1, loss=0.00132]\n"
     ]
    },
    {
     "name": "stdout",
     "output_type": "stream",
     "text": [
      "✅ Fold 4: Test Accuracy = 98.30%\n"
     ]
    },
    {
     "name": "stderr",
     "output_type": "stream",
     "text": [
      "Epoch [35/60]: 100%|███| 282/282 [01:28<00:00,  3.19it/s, acc=99.2, loss=0.0394]\n"
     ]
    },
    {
     "name": "stdout",
     "output_type": "stream",
     "text": [
      "✅ Fold 4: Test Accuracy = 98.60%\n"
     ]
    },
    {
     "name": "stderr",
     "output_type": "stream",
     "text": [
      "Epoch [36/60]: 100%|███| 282/282 [01:28<00:00,  3.19it/s, acc=99.5, loss=4.9e-5]\n"
     ]
    },
    {
     "name": "stdout",
     "output_type": "stream",
     "text": [
      "✅ Fold 4: Test Accuracy = 99.10%\n"
     ]
    },
    {
     "name": "stderr",
     "output_type": "stream",
     "text": [
      "Epoch [37/60]: 100%|████| 282/282 [01:28<00:00,  3.20it/s, acc=99.4, loss=0.596]\n"
     ]
    },
    {
     "name": "stdout",
     "output_type": "stream",
     "text": [
      "✅ Fold 4: Test Accuracy = 98.30%\n"
     ]
    },
    {
     "name": "stderr",
     "output_type": "stream",
     "text": [
      "Epoch [38/60]: 100%|██| 282/282 [01:28<00:00,  3.19it/s, acc=98.5, loss=0.00523]\n"
     ]
    },
    {
     "name": "stdout",
     "output_type": "stream",
     "text": [
      "✅ Fold 4: Test Accuracy = 99.20%\n"
     ]
    },
    {
     "name": "stderr",
     "output_type": "stream",
     "text": [
      "Epoch [39/60]: 100%|███| 282/282 [01:28<00:00,  3.19it/s, acc=99.6, loss=0.0446]\n"
     ]
    },
    {
     "name": "stdout",
     "output_type": "stream",
     "text": [
      "✅ Fold 4: Test Accuracy = 99.60%\n"
     ]
    },
    {
     "name": "stderr",
     "output_type": "stream",
     "text": [
      "Epoch [40/60]: 100%|███| 282/282 [01:28<00:00,  3.19it/s, acc=99.3, loss=0.0309]\n"
     ]
    },
    {
     "name": "stdout",
     "output_type": "stream",
     "text": [
      "✅ Fold 4: Test Accuracy = 98.60%\n"
     ]
    },
    {
     "name": "stderr",
     "output_type": "stream",
     "text": [
      "Epoch [41/60]: 100%|███| 282/282 [01:28<00:00,  3.20it/s, acc=99.4, loss=0.0004]\n"
     ]
    },
    {
     "name": "stdout",
     "output_type": "stream",
     "text": [
      "✅ Fold 4: Test Accuracy = 98.40%\n"
     ]
    },
    {
     "name": "stderr",
     "output_type": "stream",
     "text": [
      "Epoch [42/60]: 100%|█| 282/282 [01:28<00:00,  3.20it/s, acc=99.4, loss=0.000579]\n"
     ]
    },
    {
     "name": "stdout",
     "output_type": "stream",
     "text": [
      "✅ Fold 4: Test Accuracy = 98.30%\n"
     ]
    },
    {
     "name": "stderr",
     "output_type": "stream",
     "text": [
      "Epoch [43/60]: 100%|██| 282/282 [01:28<00:00,  3.19it/s, acc=99.4, loss=0.00351]\n"
     ]
    },
    {
     "name": "stdout",
     "output_type": "stream",
     "text": [
      "✅ Fold 4: Test Accuracy = 98.70%\n"
     ]
    },
    {
     "name": "stderr",
     "output_type": "stream",
     "text": [
      "Epoch [44/60]: 100%|██| 282/282 [01:28<00:00,  3.20it/s, acc=99.5, loss=3.75e-5]\n"
     ]
    },
    {
     "name": "stdout",
     "output_type": "stream",
     "text": [
      "✅ Fold 4: Test Accuracy = 98.50%\n"
     ]
    },
    {
     "name": "stderr",
     "output_type": "stream",
     "text": [
      "Epoch [45/60]: 100%|█| 282/282 [01:28<00:00,  3.19it/s, acc=99.4, loss=0.000124]\n"
     ]
    },
    {
     "name": "stdout",
     "output_type": "stream",
     "text": [
      "✅ Fold 4: Test Accuracy = 99.30%\n"
     ]
    },
    {
     "name": "stderr",
     "output_type": "stream",
     "text": [
      "Epoch [46/60]: 100%|██| 282/282 [01:28<00:00,  3.20it/s, acc=99.5, loss=0.00104]\n"
     ]
    },
    {
     "name": "stdout",
     "output_type": "stream",
     "text": [
      "✅ Fold 4: Test Accuracy = 97.01%\n"
     ]
    },
    {
     "name": "stderr",
     "output_type": "stream",
     "text": [
      "Epoch [47/60]: 100%|██| 282/282 [01:28<00:00,  3.20it/s, acc=99.3, loss=0.00354]\n"
     ]
    },
    {
     "name": "stdout",
     "output_type": "stream",
     "text": [
      "✅ Fold 4: Test Accuracy = 99.50%\n"
     ]
    },
    {
     "name": "stderr",
     "output_type": "stream",
     "text": [
      "Epoch [48/60]: 100%|█████| 282/282 [01:28<00:00,  3.20it/s, acc=99.2, loss=0.11]\n"
     ]
    },
    {
     "name": "stdout",
     "output_type": "stream",
     "text": [
      "✅ Fold 4: Test Accuracy = 98.40%\n"
     ]
    },
    {
     "name": "stderr",
     "output_type": "stream",
     "text": [
      "Epoch [49/60]: 100%|█| 282/282 [01:28<00:00,  3.19it/s, acc=99.3, loss=0.000445]\n"
     ]
    },
    {
     "name": "stdout",
     "output_type": "stream",
     "text": [
      "✅ Fold 4: Test Accuracy = 98.80%\n"
     ]
    },
    {
     "name": "stderr",
     "output_type": "stream",
     "text": [
      "Epoch [50/60]: 100%|██| 282/282 [01:28<00:00,  3.20it/s, acc=99.2, loss=0.00183]\n"
     ]
    },
    {
     "name": "stdout",
     "output_type": "stream",
     "text": [
      "✅ Fold 4: Test Accuracy = 98.00%\n"
     ]
    },
    {
     "name": "stderr",
     "output_type": "stream",
     "text": [
      "Epoch [51/60]: 100%|██| 282/282 [01:28<00:00,  3.20it/s, acc=99.2, loss=0.00626]\n"
     ]
    },
    {
     "name": "stdout",
     "output_type": "stream",
     "text": [
      "✅ Fold 4: Test Accuracy = 97.90%\n"
     ]
    },
    {
     "name": "stderr",
     "output_type": "stream",
     "text": [
      "Epoch [52/60]: 100%|█| 282/282 [01:28<00:00,  3.19it/s, acc=99.3, loss=0.000264]\n"
     ]
    },
    {
     "name": "stdout",
     "output_type": "stream",
     "text": [
      "✅ Fold 4: Test Accuracy = 98.00%\n"
     ]
    },
    {
     "name": "stderr",
     "output_type": "stream",
     "text": [
      "Epoch [53/60]: 100%|████| 282/282 [01:28<00:00,  3.19it/s, acc=99.4, loss=0.249]\n"
     ]
    },
    {
     "name": "stdout",
     "output_type": "stream",
     "text": [
      "✅ Fold 4: Test Accuracy = 98.00%\n"
     ]
    },
    {
     "name": "stderr",
     "output_type": "stream",
     "text": [
      "Epoch [54/60]: 100%|████| 282/282 [01:28<00:00,  3.19it/s, acc=99.5, loss=0.582]\n"
     ]
    },
    {
     "name": "stdout",
     "output_type": "stream",
     "text": [
      "✅ Fold 4: Test Accuracy = 98.70%\n"
     ]
    },
    {
     "name": "stderr",
     "output_type": "stream",
     "text": [
      "Epoch [55/60]: 100%|████| 282/282 [01:28<00:00,  3.19it/s, acc=99.5, loss=0.217]\n"
     ]
    },
    {
     "name": "stdout",
     "output_type": "stream",
     "text": [
      "✅ Fold 4: Test Accuracy = 99.00%\n"
     ]
    },
    {
     "name": "stderr",
     "output_type": "stream",
     "text": [
      "Epoch [56/60]: 100%|██| 282/282 [01:28<00:00,  3.18it/s, acc=99.3, loss=0.00373]\n"
     ]
    },
    {
     "name": "stdout",
     "output_type": "stream",
     "text": [
      "✅ Fold 4: Test Accuracy = 98.30%\n"
     ]
    },
    {
     "name": "stderr",
     "output_type": "stream",
     "text": [
      "Epoch [57/60]: 100%|███| 282/282 [01:28<00:00,  3.19it/s, acc=99.5, loss=0.0025]\n"
     ]
    },
    {
     "name": "stdout",
     "output_type": "stream",
     "text": [
      "✅ Fold 4: Test Accuracy = 97.60%\n"
     ]
    },
    {
     "name": "stderr",
     "output_type": "stream",
     "text": [
      "Epoch [58/60]: 100%|██| 282/282 [01:28<00:00,  3.19it/s, acc=99.3, loss=0.00259]\n"
     ]
    },
    {
     "name": "stdout",
     "output_type": "stream",
     "text": [
      "✅ Fold 4: Test Accuracy = 98.50%\n"
     ]
    },
    {
     "name": "stderr",
     "output_type": "stream",
     "text": [
      "Epoch [59/60]: 100%|██| 282/282 [01:28<00:00,  3.19it/s, acc=99.6, loss=0.00658]\n"
     ]
    },
    {
     "name": "stdout",
     "output_type": "stream",
     "text": [
      "✅ Fold 4: Test Accuracy = 98.30%\n"
     ]
    },
    {
     "name": "stderr",
     "output_type": "stream",
     "text": [
      "Epoch [60/60]: 100%|███| 282/282 [01:28<00:00,  3.19it/s, acc=99.5, loss=4.2e-5]\n"
     ]
    },
    {
     "name": "stdout",
     "output_type": "stream",
     "text": [
      "✅ Fold 4: Test Accuracy = 97.60%\n",
      "\n",
      "🚀 Training Fold 5/10\n"
     ]
    },
    {
     "name": "stderr",
     "output_type": "stream",
     "text": [
      "Epoch [1/60]: 100%|██████| 282/282 [01:28<00:00,  3.19it/s, acc=96, loss=0.0202]\n"
     ]
    },
    {
     "name": "stdout",
     "output_type": "stream",
     "text": [
      "✅ Fold 5: Test Accuracy = 99.70%\n",
      "🎯 New best model saved with accuracy: 99.70%\n"
     ]
    },
    {
     "name": "stderr",
     "output_type": "stream",
     "text": [
      "Epoch [2/60]: 100%|██| 282/282 [01:28<00:00,  3.19it/s, acc=99.6, loss=0.000978]\n"
     ]
    },
    {
     "name": "stdout",
     "output_type": "stream",
     "text": [
      "✅ Fold 5: Test Accuracy = 99.60%\n"
     ]
    },
    {
     "name": "stderr",
     "output_type": "stream",
     "text": [
      "Epoch [3/60]: 100%|████| 282/282 [01:28<00:00,  3.19it/s, acc=99.6, loss=0.0931]\n"
     ]
    },
    {
     "name": "stdout",
     "output_type": "stream",
     "text": [
      "✅ Fold 5: Test Accuracy = 99.40%\n"
     ]
    },
    {
     "name": "stderr",
     "output_type": "stream",
     "text": [
      "Epoch [4/60]: 100%|██| 282/282 [01:28<00:00,  3.19it/s, acc=99.4, loss=0.000191]\n"
     ]
    },
    {
     "name": "stdout",
     "output_type": "stream",
     "text": [
      "✅ Fold 5: Test Accuracy = 99.80%\n",
      "🎯 New best model saved with accuracy: 99.80%\n"
     ]
    },
    {
     "name": "stderr",
     "output_type": "stream",
     "text": [
      "Epoch [5/60]: 100%|███| 282/282 [01:28<00:00,  3.20it/s, acc=99.4, loss=0.00501]\n"
     ]
    },
    {
     "name": "stdout",
     "output_type": "stream",
     "text": [
      "✅ Fold 5: Test Accuracy = 98.80%\n"
     ]
    },
    {
     "name": "stderr",
     "output_type": "stream",
     "text": [
      "Epoch [6/60]: 100%|███| 282/282 [01:28<00:00,  3.19it/s, acc=99.3, loss=7.79e-5]\n"
     ]
    },
    {
     "name": "stdout",
     "output_type": "stream",
     "text": [
      "✅ Fold 5: Test Accuracy = 99.70%\n"
     ]
    },
    {
     "name": "stderr",
     "output_type": "stream",
     "text": [
      "Epoch [7/60]: 100%|████| 282/282 [01:28<00:00,  3.19it/s, acc=99.1, loss=0.0516]\n"
     ]
    },
    {
     "name": "stdout",
     "output_type": "stream",
     "text": [
      "✅ Fold 5: Test Accuracy = 99.30%\n"
     ]
    },
    {
     "name": "stderr",
     "output_type": "stream",
     "text": [
      "Epoch [8/60]: 100%|███| 282/282 [01:28<00:00,  3.18it/s, acc=99.4, loss=0.00266]\n"
     ]
    },
    {
     "name": "stdout",
     "output_type": "stream",
     "text": [
      "✅ Fold 5: Test Accuracy = 99.30%\n"
     ]
    },
    {
     "name": "stderr",
     "output_type": "stream",
     "text": [
      "Epoch [9/60]: 100%|███| 282/282 [01:28<00:00,  3.19it/s, acc=99.1, loss=0.00506]\n"
     ]
    },
    {
     "name": "stdout",
     "output_type": "stream",
     "text": [
      "✅ Fold 5: Test Accuracy = 99.90%\n",
      "🎯 New best model saved with accuracy: 99.90%\n"
     ]
    },
    {
     "name": "stderr",
     "output_type": "stream",
     "text": [
      "Epoch [10/60]: 100%|█| 282/282 [01:28<00:00,  3.20it/s, acc=99.5, loss=0.000547]\n"
     ]
    },
    {
     "name": "stdout",
     "output_type": "stream",
     "text": [
      "✅ Fold 5: Test Accuracy = 99.70%\n"
     ]
    },
    {
     "name": "stderr",
     "output_type": "stream",
     "text": [
      "Epoch [11/60]: 100%|██| 282/282 [01:28<00:00,  3.19it/s, acc=99.5, loss=1.61e-5]\n"
     ]
    },
    {
     "name": "stdout",
     "output_type": "stream",
     "text": [
      "✅ Fold 5: Test Accuracy = 99.70%\n"
     ]
    },
    {
     "name": "stderr",
     "output_type": "stream",
     "text": [
      "Epoch [12/60]: 100%|████| 282/282 [01:28<00:00,  3.19it/s, acc=99.4, loss=0.154]\n"
     ]
    },
    {
     "name": "stdout",
     "output_type": "stream",
     "text": [
      "✅ Fold 5: Test Accuracy = 97.11%\n"
     ]
    },
    {
     "name": "stderr",
     "output_type": "stream",
     "text": [
      "Epoch [13/60]: 100%|██| 282/282 [01:28<00:00,  3.19it/s, acc=99.2, loss=8.82e-5]\n"
     ]
    },
    {
     "name": "stdout",
     "output_type": "stream",
     "text": [
      "✅ Fold 5: Test Accuracy = 99.50%\n"
     ]
    },
    {
     "name": "stderr",
     "output_type": "stream",
     "text": [
      "Epoch [14/60]: 100%|██| 282/282 [01:28<00:00,  3.19it/s, acc=99.6, loss=0.00175]\n"
     ]
    },
    {
     "name": "stdout",
     "output_type": "stream",
     "text": [
      "✅ Fold 5: Test Accuracy = 99.60%\n"
     ]
    },
    {
     "name": "stderr",
     "output_type": "stream",
     "text": [
      "Epoch [15/60]: 100%|███| 282/282 [01:28<00:00,  3.19it/s, acc=99.3, loss=0.0116]\n"
     ]
    },
    {
     "name": "stdout",
     "output_type": "stream",
     "text": [
      "✅ Fold 5: Test Accuracy = 99.00%\n"
     ]
    },
    {
     "name": "stderr",
     "output_type": "stream",
     "text": [
      "Epoch [16/60]: 100%|██| 282/282 [01:28<00:00,  3.19it/s, acc=99.5, loss=0.00477]\n"
     ]
    },
    {
     "name": "stdout",
     "output_type": "stream",
     "text": [
      "✅ Fold 5: Test Accuracy = 99.40%\n"
     ]
    },
    {
     "name": "stderr",
     "output_type": "stream",
     "text": [
      "Epoch [17/60]: 100%|█| 282/282 [01:28<00:00,  3.19it/s, acc=98.9, loss=0.000194]\n"
     ]
    },
    {
     "name": "stdout",
     "output_type": "stream",
     "text": [
      "✅ Fold 5: Test Accuracy = 99.70%\n"
     ]
    },
    {
     "name": "stderr",
     "output_type": "stream",
     "text": [
      "Epoch [18/60]: 100%|███| 282/282 [01:28<00:00,  3.19it/s, acc=99.2, loss=0.0174]\n"
     ]
    },
    {
     "name": "stdout",
     "output_type": "stream",
     "text": [
      "✅ Fold 5: Test Accuracy = 98.90%\n"
     ]
    },
    {
     "name": "stderr",
     "output_type": "stream",
     "text": [
      "Epoch [19/60]: 100%|█| 282/282 [01:28<00:00,  3.19it/s, acc=99.5, loss=0.000383]\n"
     ]
    },
    {
     "name": "stdout",
     "output_type": "stream",
     "text": [
      "✅ Fold 5: Test Accuracy = 97.50%\n"
     ]
    },
    {
     "name": "stderr",
     "output_type": "stream",
     "text": [
      "Epoch [20/60]: 100%|█| 282/282 [01:28<00:00,  3.19it/s, acc=99.1, loss=0.000772]\n"
     ]
    },
    {
     "name": "stdout",
     "output_type": "stream",
     "text": [
      "✅ Fold 5: Test Accuracy = 98.30%\n"
     ]
    },
    {
     "name": "stderr",
     "output_type": "stream",
     "text": [
      "Epoch [21/60]: 100%|████| 282/282 [01:28<00:00,  3.19it/s, acc=99.6, loss=0.137]\n"
     ]
    },
    {
     "name": "stdout",
     "output_type": "stream",
     "text": [
      "✅ Fold 5: Test Accuracy = 99.80%\n"
     ]
    },
    {
     "name": "stderr",
     "output_type": "stream",
     "text": [
      "Epoch [22/60]: 100%|█| 282/282 [01:28<00:00,  3.19it/s, acc=99.1, loss=0.000196]\n"
     ]
    },
    {
     "name": "stdout",
     "output_type": "stream",
     "text": [
      "✅ Fold 5: Test Accuracy = 98.60%\n"
     ]
    },
    {
     "name": "stderr",
     "output_type": "stream",
     "text": [
      "Epoch [23/60]: 100%|██| 282/282 [01:28<00:00,  3.19it/s, acc=99.6, loss=0.00134]\n"
     ]
    },
    {
     "name": "stdout",
     "output_type": "stream",
     "text": [
      "✅ Fold 5: Test Accuracy = 99.60%\n"
     ]
    },
    {
     "name": "stderr",
     "output_type": "stream",
     "text": [
      "Epoch [24/60]: 100%|██| 282/282 [01:28<00:00,  3.19it/s, acc=99.6, loss=2.24e-5]\n"
     ]
    },
    {
     "name": "stdout",
     "output_type": "stream",
     "text": [
      "✅ Fold 5: Test Accuracy = 98.30%\n"
     ]
    },
    {
     "name": "stderr",
     "output_type": "stream",
     "text": [
      "Epoch [25/60]: 100%|███| 282/282 [01:28<00:00,  3.19it/s, acc=99.6, loss=0.0723]\n"
     ]
    },
    {
     "name": "stdout",
     "output_type": "stream",
     "text": [
      "✅ Fold 5: Test Accuracy = 99.10%\n"
     ]
    },
    {
     "name": "stderr",
     "output_type": "stream",
     "text": [
      "Epoch [26/60]: 100%|██| 282/282 [01:28<00:00,  3.19it/s, acc=99.6, loss=0.00106]\n"
     ]
    },
    {
     "name": "stdout",
     "output_type": "stream",
     "text": [
      "✅ Fold 5: Test Accuracy = 99.70%\n"
     ]
    },
    {
     "name": "stderr",
     "output_type": "stream",
     "text": [
      "Epoch [27/60]: 100%|████| 282/282 [01:28<00:00,  3.19it/s, acc=99.1, loss=0.293]\n"
     ]
    },
    {
     "name": "stdout",
     "output_type": "stream",
     "text": [
      "✅ Fold 5: Test Accuracy = 98.30%\n"
     ]
    },
    {
     "name": "stderr",
     "output_type": "stream",
     "text": [
      "Epoch [28/60]: 100%|██| 282/282 [01:28<00:00,  3.19it/s, acc=99.2, loss=0.00113]\n"
     ]
    },
    {
     "name": "stdout",
     "output_type": "stream",
     "text": [
      "✅ Fold 5: Test Accuracy = 99.10%\n"
     ]
    },
    {
     "name": "stderr",
     "output_type": "stream",
     "text": [
      "Epoch [29/60]: 100%|███| 282/282 [01:28<00:00,  3.19it/s, acc=99.6, loss=0.0101]\n"
     ]
    },
    {
     "name": "stdout",
     "output_type": "stream",
     "text": [
      "✅ Fold 5: Test Accuracy = 96.81%\n"
     ]
    },
    {
     "name": "stderr",
     "output_type": "stream",
     "text": [
      "Epoch [30/60]: 100%|██| 282/282 [01:28<00:00,  3.18it/s, acc=99.4, loss=0.00229]\n"
     ]
    },
    {
     "name": "stdout",
     "output_type": "stream",
     "text": [
      "✅ Fold 5: Test Accuracy = 99.00%\n"
     ]
    },
    {
     "name": "stderr",
     "output_type": "stream",
     "text": [
      "Epoch [31/60]: 100%|███| 282/282 [01:28<00:00,  3.19it/s, acc=99.4, loss=0.0104]\n"
     ]
    },
    {
     "name": "stdout",
     "output_type": "stream",
     "text": [
      "✅ Fold 5: Test Accuracy = 98.30%\n"
     ]
    },
    {
     "name": "stderr",
     "output_type": "stream",
     "text": [
      "Epoch [32/60]: 100%|████| 282/282 [01:28<00:00,  3.19it/s, acc=99.4, loss=0.031]\n"
     ]
    },
    {
     "name": "stdout",
     "output_type": "stream",
     "text": [
      "✅ Fold 5: Test Accuracy = 99.30%\n"
     ]
    },
    {
     "name": "stderr",
     "output_type": "stream",
     "text": [
      "Epoch [33/60]: 100%|███| 282/282 [01:28<00:00,  3.19it/s, acc=99.3, loss=0.0186]\n"
     ]
    },
    {
     "name": "stdout",
     "output_type": "stream",
     "text": [
      "✅ Fold 5: Test Accuracy = 98.90%\n"
     ]
    },
    {
     "name": "stderr",
     "output_type": "stream",
     "text": [
      "Epoch [34/60]: 100%|██| 282/282 [01:28<00:00,  3.18it/s, acc=99.3, loss=0.00203]\n"
     ]
    },
    {
     "name": "stdout",
     "output_type": "stream",
     "text": [
      "✅ Fold 5: Test Accuracy = 99.10%\n"
     ]
    },
    {
     "name": "stderr",
     "output_type": "stream",
     "text": [
      "Epoch [35/60]: 100%|███| 282/282 [01:28<00:00,  3.19it/s, acc=99.2, loss=0.0011]\n"
     ]
    },
    {
     "name": "stdout",
     "output_type": "stream",
     "text": [
      "✅ Fold 5: Test Accuracy = 99.10%\n"
     ]
    },
    {
     "name": "stderr",
     "output_type": "stream",
     "text": [
      "Epoch [36/60]: 100%|█| 282/282 [01:28<00:00,  3.19it/s, acc=99.4, loss=0.000352]\n"
     ]
    },
    {
     "name": "stdout",
     "output_type": "stream",
     "text": [
      "✅ Fold 5: Test Accuracy = 98.80%\n"
     ]
    },
    {
     "name": "stderr",
     "output_type": "stream",
     "text": [
      "Epoch [37/60]: 100%|█| 282/282 [01:28<00:00,  3.18it/s, acc=99.4, loss=0.000781]\n"
     ]
    },
    {
     "name": "stdout",
     "output_type": "stream",
     "text": [
      "✅ Fold 5: Test Accuracy = 99.10%\n"
     ]
    },
    {
     "name": "stderr",
     "output_type": "stream",
     "text": [
      "Epoch [38/60]: 100%|██| 282/282 [01:28<00:00,  3.18it/s, acc=99.5, loss=0.00209]\n"
     ]
    },
    {
     "name": "stdout",
     "output_type": "stream",
     "text": [
      "✅ Fold 5: Test Accuracy = 98.80%\n"
     ]
    },
    {
     "name": "stderr",
     "output_type": "stream",
     "text": [
      "Epoch [39/60]: 100%|█| 282/282 [01:28<00:00,  3.19it/s, acc=99.6, loss=0.000644]\n"
     ]
    },
    {
     "name": "stdout",
     "output_type": "stream",
     "text": [
      "✅ Fold 5: Test Accuracy = 98.90%\n"
     ]
    },
    {
     "name": "stderr",
     "output_type": "stream",
     "text": [
      "Epoch [40/60]: 100%|██| 282/282 [01:28<00:00,  3.19it/s, acc=99.6, loss=0.00488]\n"
     ]
    },
    {
     "name": "stdout",
     "output_type": "stream",
     "text": [
      "✅ Fold 5: Test Accuracy = 98.30%\n"
     ]
    },
    {
     "name": "stderr",
     "output_type": "stream",
     "text": [
      "Epoch [41/60]: 100%|██| 282/282 [01:28<00:00,  3.19it/s, acc=99.5, loss=7.22e-5]\n"
     ]
    },
    {
     "name": "stdout",
     "output_type": "stream",
     "text": [
      "✅ Fold 5: Test Accuracy = 97.90%\n"
     ]
    },
    {
     "name": "stderr",
     "output_type": "stream",
     "text": [
      "Epoch [42/60]: 100%|██| 282/282 [01:28<00:00,  3.19it/s, acc=99.4, loss=0.00287]\n"
     ]
    },
    {
     "name": "stdout",
     "output_type": "stream",
     "text": [
      "✅ Fold 5: Test Accuracy = 98.90%\n"
     ]
    },
    {
     "name": "stderr",
     "output_type": "stream",
     "text": [
      "Epoch [43/60]: 100%|█| 282/282 [01:28<00:00,  3.18it/s, acc=99.2, loss=0.000117]\n"
     ]
    },
    {
     "name": "stdout",
     "output_type": "stream",
     "text": [
      "✅ Fold 5: Test Accuracy = 98.40%\n"
     ]
    },
    {
     "name": "stderr",
     "output_type": "stream",
     "text": [
      "Epoch [44/60]: 100%|█| 282/282 [01:28<00:00,  3.18it/s, acc=99.5, loss=0.000704]\n"
     ]
    },
    {
     "name": "stdout",
     "output_type": "stream",
     "text": [
      "✅ Fold 5: Test Accuracy = 98.60%\n"
     ]
    },
    {
     "name": "stderr",
     "output_type": "stream",
     "text": [
      "Epoch [45/60]: 100%|█| 282/282 [01:28<00:00,  3.19it/s, acc=99.4, loss=0.000472]\n"
     ]
    },
    {
     "name": "stdout",
     "output_type": "stream",
     "text": [
      "✅ Fold 5: Test Accuracy = 98.60%\n"
     ]
    },
    {
     "name": "stderr",
     "output_type": "stream",
     "text": [
      "Epoch [46/60]: 100%|███| 282/282 [01:28<00:00,  3.19it/s, acc=99.4, loss=0.0421]\n"
     ]
    },
    {
     "name": "stdout",
     "output_type": "stream",
     "text": [
      "✅ Fold 5: Test Accuracy = 98.00%\n"
     ]
    },
    {
     "name": "stderr",
     "output_type": "stream",
     "text": [
      "Epoch [47/60]: 100%|█| 282/282 [01:28<00:00,  3.18it/s, acc=99.5, loss=0.000309]\n"
     ]
    },
    {
     "name": "stdout",
     "output_type": "stream",
     "text": [
      "✅ Fold 5: Test Accuracy = 99.00%\n"
     ]
    },
    {
     "name": "stderr",
     "output_type": "stream",
     "text": [
      "Epoch [48/60]: 100%|█| 282/282 [01:28<00:00,  3.18it/s, acc=99.7, loss=0.000233]\n"
     ]
    },
    {
     "name": "stdout",
     "output_type": "stream",
     "text": [
      "✅ Fold 5: Test Accuracy = 99.20%\n"
     ]
    },
    {
     "name": "stderr",
     "output_type": "stream",
     "text": [
      "Epoch [49/60]: 100%|██| 282/282 [01:28<00:00,  3.19it/s, acc=99.6, loss=0.00363]\n"
     ]
    },
    {
     "name": "stdout",
     "output_type": "stream",
     "text": [
      "✅ Fold 5: Test Accuracy = 98.40%\n"
     ]
    },
    {
     "name": "stderr",
     "output_type": "stream",
     "text": [
      "Epoch [50/60]: 100%|██| 282/282 [01:28<00:00,  3.18it/s, acc=99.2, loss=0.00442]\n"
     ]
    },
    {
     "name": "stdout",
     "output_type": "stream",
     "text": [
      "✅ Fold 5: Test Accuracy = 97.50%\n"
     ]
    },
    {
     "name": "stderr",
     "output_type": "stream",
     "text": [
      "Epoch [51/60]: 100%|██| 282/282 [01:28<00:00,  3.19it/s, acc=99.3, loss=0.00246]\n"
     ]
    },
    {
     "name": "stdout",
     "output_type": "stream",
     "text": [
      "✅ Fold 5: Test Accuracy = 97.70%\n"
     ]
    },
    {
     "name": "stderr",
     "output_type": "stream",
     "text": [
      "Epoch [52/60]: 100%|██| 282/282 [01:28<00:00,  3.18it/s, acc=99.5, loss=0.00182]\n"
     ]
    },
    {
     "name": "stdout",
     "output_type": "stream",
     "text": [
      "✅ Fold 5: Test Accuracy = 99.10%\n"
     ]
    },
    {
     "name": "stderr",
     "output_type": "stream",
     "text": [
      "Epoch [53/60]: 100%|██| 282/282 [01:28<00:00,  3.19it/s, acc=99.6, loss=0.00232]\n"
     ]
    },
    {
     "name": "stdout",
     "output_type": "stream",
     "text": [
      "✅ Fold 5: Test Accuracy = 98.50%\n"
     ]
    },
    {
     "name": "stderr",
     "output_type": "stream",
     "text": [
      "Epoch [54/60]: 100%|████| 282/282 [01:28<00:00,  3.18it/s, acc=99.5, loss=0.264]\n"
     ]
    },
    {
     "name": "stdout",
     "output_type": "stream",
     "text": [
      "✅ Fold 5: Test Accuracy = 96.11%\n"
     ]
    },
    {
     "name": "stderr",
     "output_type": "stream",
     "text": [
      "Epoch [55/60]: 100%|██| 282/282 [01:28<00:00,  3.18it/s, acc=99.2, loss=0.00358]\n"
     ]
    },
    {
     "name": "stdout",
     "output_type": "stream",
     "text": [
      "✅ Fold 5: Test Accuracy = 98.20%\n"
     ]
    },
    {
     "name": "stderr",
     "output_type": "stream",
     "text": [
      "Epoch [56/60]: 100%|██| 282/282 [01:28<00:00,  3.18it/s, acc=99.2, loss=0.00196]\n"
     ]
    },
    {
     "name": "stdout",
     "output_type": "stream",
     "text": [
      "✅ Fold 5: Test Accuracy = 98.40%\n"
     ]
    },
    {
     "name": "stderr",
     "output_type": "stream",
     "text": [
      "Epoch [57/60]: 100%|█| 282/282 [01:28<00:00,  3.18it/s, acc=99.5, loss=0.000751]\n"
     ]
    },
    {
     "name": "stdout",
     "output_type": "stream",
     "text": [
      "✅ Fold 5: Test Accuracy = 98.50%\n"
     ]
    },
    {
     "name": "stderr",
     "output_type": "stream",
     "text": [
      "Epoch [58/60]: 100%|█| 282/282 [01:28<00:00,  3.19it/s, acc=99.7, loss=0.000289]\n"
     ]
    },
    {
     "name": "stdout",
     "output_type": "stream",
     "text": [
      "✅ Fold 5: Test Accuracy = 99.20%\n"
     ]
    },
    {
     "name": "stderr",
     "output_type": "stream",
     "text": [
      "Epoch [59/60]: 100%|███| 282/282 [01:28<00:00,  3.18it/s, acc=99.6, loss=0.0229]\n"
     ]
    },
    {
     "name": "stdout",
     "output_type": "stream",
     "text": [
      "✅ Fold 5: Test Accuracy = 97.11%\n"
     ]
    },
    {
     "name": "stderr",
     "output_type": "stream",
     "text": [
      "Epoch [60/60]: 100%|█| 282/282 [01:28<00:00,  3.18it/s, acc=99.4, loss=0.000116]\n"
     ]
    },
    {
     "name": "stdout",
     "output_type": "stream",
     "text": [
      "✅ Fold 5: Test Accuracy = 97.90%\n",
      "\n",
      "🚀 Training Fold 6/10\n"
     ]
    },
    {
     "name": "stderr",
     "output_type": "stream",
     "text": [
      "Epoch [1/60]: 100%|███| 282/282 [01:28<00:00,  3.18it/s, acc=96.6, loss=0.00388]\n"
     ]
    },
    {
     "name": "stdout",
     "output_type": "stream",
     "text": [
      "✅ Fold 6: Test Accuracy = 99.90%\n",
      "🎯 New best model saved with accuracy: 99.90%\n"
     ]
    },
    {
     "name": "stderr",
     "output_type": "stream",
     "text": [
      "Epoch [2/60]: 100%|███| 282/282 [01:28<00:00,  3.18it/s, acc=99.3, loss=0.00152]\n"
     ]
    },
    {
     "name": "stdout",
     "output_type": "stream",
     "text": [
      "✅ Fold 6: Test Accuracy = 99.80%\n"
     ]
    },
    {
     "name": "stderr",
     "output_type": "stream",
     "text": [
      "Epoch [3/60]: 100%|██| 282/282 [01:28<00:00,  3.18it/s, acc=99.7, loss=0.000596]\n"
     ]
    },
    {
     "name": "stdout",
     "output_type": "stream",
     "text": [
      "✅ Fold 6: Test Accuracy = 100.00%\n",
      "🎯 New best model saved with accuracy: 100.00%\n"
     ]
    },
    {
     "name": "stderr",
     "output_type": "stream",
     "text": [
      "Epoch [4/60]: 100%|████| 282/282 [01:28<00:00,  3.20it/s, acc=99.4, loss=0.0253]\n"
     ]
    },
    {
     "name": "stdout",
     "output_type": "stream",
     "text": [
      "✅ Fold 6: Test Accuracy = 99.30%\n"
     ]
    },
    {
     "name": "stderr",
     "output_type": "stream",
     "text": [
      "Epoch [5/60]: 100%|███| 282/282 [01:28<00:00,  3.18it/s, acc=99.5, loss=0.00142]\n"
     ]
    },
    {
     "name": "stdout",
     "output_type": "stream",
     "text": [
      "✅ Fold 6: Test Accuracy = 99.10%\n"
     ]
    },
    {
     "name": "stderr",
     "output_type": "stream",
     "text": [
      "Epoch [6/60]: 100%|████| 282/282 [01:28<00:00,  3.19it/s, acc=99.3, loss=0.0217]\n"
     ]
    },
    {
     "name": "stdout",
     "output_type": "stream",
     "text": [
      "✅ Fold 6: Test Accuracy = 99.40%\n"
     ]
    },
    {
     "name": "stderr",
     "output_type": "stream",
     "text": [
      "Epoch [7/60]: 100%|█████| 282/282 [01:28<00:00,  3.18it/s, acc=99.2, loss=0.016]\n"
     ]
    },
    {
     "name": "stdout",
     "output_type": "stream",
     "text": [
      "✅ Fold 6: Test Accuracy = 99.20%\n"
     ]
    },
    {
     "name": "stderr",
     "output_type": "stream",
     "text": [
      "Epoch [8/60]: 100%|███| 282/282 [01:28<00:00,  3.18it/s, acc=99.6, loss=0.00145]\n"
     ]
    },
    {
     "name": "stdout",
     "output_type": "stream",
     "text": [
      "✅ Fold 6: Test Accuracy = 99.50%\n"
     ]
    },
    {
     "name": "stderr",
     "output_type": "stream",
     "text": [
      "Epoch [9/60]: 100%|███| 282/282 [01:28<00:00,  3.19it/s, acc=99.5, loss=8.76e-5]\n"
     ]
    },
    {
     "name": "stdout",
     "output_type": "stream",
     "text": [
      "✅ Fold 6: Test Accuracy = 99.50%\n"
     ]
    },
    {
     "name": "stderr",
     "output_type": "stream",
     "text": [
      "Epoch [10/60]: 100%|█| 282/282 [01:28<00:00,  3.18it/s, acc=99.1, loss=0.000669]\n"
     ]
    },
    {
     "name": "stdout",
     "output_type": "stream",
     "text": [
      "✅ Fold 6: Test Accuracy = 98.90%\n"
     ]
    },
    {
     "name": "stderr",
     "output_type": "stream",
     "text": [
      "Epoch [11/60]: 100%|██| 282/282 [01:28<00:00,  3.18it/s, acc=99.6, loss=0.00175]\n"
     ]
    },
    {
     "name": "stdout",
     "output_type": "stream",
     "text": [
      "✅ Fold 6: Test Accuracy = 99.90%\n"
     ]
    },
    {
     "name": "stderr",
     "output_type": "stream",
     "text": [
      "Epoch [12/60]: 100%|████| 282/282 [01:28<00:00,  3.18it/s, acc=99.3, loss=0.147]\n"
     ]
    },
    {
     "name": "stdout",
     "output_type": "stream",
     "text": [
      "✅ Fold 6: Test Accuracy = 99.00%\n"
     ]
    },
    {
     "name": "stderr",
     "output_type": "stream",
     "text": [
      "Epoch [13/60]: 100%|██| 282/282 [01:28<00:00,  3.18it/s, acc=99.3, loss=0.00246]\n"
     ]
    },
    {
     "name": "stdout",
     "output_type": "stream",
     "text": [
      "✅ Fold 6: Test Accuracy = 99.30%\n"
     ]
    },
    {
     "name": "stderr",
     "output_type": "stream",
     "text": [
      "Epoch [14/60]: 100%|██| 282/282 [01:28<00:00,  3.18it/s, acc=99.6, loss=0.00109]\n"
     ]
    },
    {
     "name": "stdout",
     "output_type": "stream",
     "text": [
      "✅ Fold 6: Test Accuracy = 99.50%\n"
     ]
    },
    {
     "name": "stderr",
     "output_type": "stream",
     "text": [
      "Epoch [15/60]: 100%|█| 282/282 [01:28<00:00,  3.18it/s, acc=99.5, loss=0.000233]\n"
     ]
    },
    {
     "name": "stdout",
     "output_type": "stream",
     "text": [
      "✅ Fold 6: Test Accuracy = 99.70%\n"
     ]
    },
    {
     "name": "stderr",
     "output_type": "stream",
     "text": [
      "Epoch [16/60]: 100%|████| 282/282 [01:28<00:00,  3.19it/s, acc=99.8, loss=0.003]\n"
     ]
    },
    {
     "name": "stdout",
     "output_type": "stream",
     "text": [
      "✅ Fold 6: Test Accuracy = 99.70%\n"
     ]
    },
    {
     "name": "stderr",
     "output_type": "stream",
     "text": [
      "Epoch [17/60]: 100%|██| 282/282 [01:28<00:00,  3.18it/s, acc=98.9, loss=0.00244]\n"
     ]
    },
    {
     "name": "stdout",
     "output_type": "stream",
     "text": [
      "✅ Fold 6: Test Accuracy = 99.00%\n"
     ]
    },
    {
     "name": "stderr",
     "output_type": "stream",
     "text": [
      "Epoch [18/60]: 100%|███| 282/282 [01:28<00:00,  3.18it/s, acc=99.3, loss=0.0455]\n"
     ]
    },
    {
     "name": "stdout",
     "output_type": "stream",
     "text": [
      "✅ Fold 6: Test Accuracy = 99.30%\n"
     ]
    },
    {
     "name": "stderr",
     "output_type": "stream",
     "text": [
      "Epoch [19/60]: 100%|██| 282/282 [01:28<00:00,  3.18it/s, acc=99.4, loss=0.00209]\n"
     ]
    },
    {
     "name": "stdout",
     "output_type": "stream",
     "text": [
      "✅ Fold 6: Test Accuracy = 99.30%\n"
     ]
    },
    {
     "name": "stderr",
     "output_type": "stream",
     "text": [
      "Epoch [20/60]: 100%|██| 282/282 [01:28<00:00,  3.19it/s, acc=99.5, loss=0.00159]\n"
     ]
    },
    {
     "name": "stdout",
     "output_type": "stream",
     "text": [
      "✅ Fold 6: Test Accuracy = 99.10%\n"
     ]
    },
    {
     "name": "stderr",
     "output_type": "stream",
     "text": [
      "Epoch [21/60]: 100%|██| 282/282 [01:28<00:00,  3.18it/s, acc=99.6, loss=2.21e-5]\n"
     ]
    },
    {
     "name": "stdout",
     "output_type": "stream",
     "text": [
      "✅ Fold 6: Test Accuracy = 99.10%\n"
     ]
    },
    {
     "name": "stderr",
     "output_type": "stream",
     "text": [
      "Epoch [22/60]: 100%|██| 282/282 [01:28<00:00,  3.18it/s, acc=99.7, loss=9.34e-5]\n"
     ]
    },
    {
     "name": "stdout",
     "output_type": "stream",
     "text": [
      "✅ Fold 6: Test Accuracy = 98.80%\n"
     ]
    },
    {
     "name": "stderr",
     "output_type": "stream",
     "text": [
      "Epoch [23/60]: 100%|████| 282/282 [01:28<00:00,  3.18it/s, acc=99.4, loss=0.373]\n"
     ]
    },
    {
     "name": "stdout",
     "output_type": "stream",
     "text": [
      "✅ Fold 6: Test Accuracy = 99.00%\n"
     ]
    },
    {
     "name": "stderr",
     "output_type": "stream",
     "text": [
      "Epoch [24/60]: 100%|███| 282/282 [01:28<00:00,  3.18it/s, acc=99.1, loss=0.0163]\n"
     ]
    },
    {
     "name": "stdout",
     "output_type": "stream",
     "text": [
      "✅ Fold 6: Test Accuracy = 99.40%\n"
     ]
    },
    {
     "name": "stderr",
     "output_type": "stream",
     "text": [
      "Epoch [25/60]: 100%|█| 282/282 [01:28<00:00,  3.18it/s, acc=99.5, loss=0.000836]\n"
     ]
    },
    {
     "name": "stdout",
     "output_type": "stream",
     "text": [
      "✅ Fold 6: Test Accuracy = 99.00%\n"
     ]
    },
    {
     "name": "stderr",
     "output_type": "stream",
     "text": [
      "Epoch [26/60]: 100%|████| 282/282 [01:28<00:00,  3.18it/s, acc=99.5, loss=0.322]\n"
     ]
    },
    {
     "name": "stdout",
     "output_type": "stream",
     "text": [
      "✅ Fold 6: Test Accuracy = 99.30%\n"
     ]
    },
    {
     "name": "stderr",
     "output_type": "stream",
     "text": [
      "Epoch [27/60]: 100%|██| 282/282 [01:28<00:00,  3.18it/s, acc=99.7, loss=0.00142]\n"
     ]
    },
    {
     "name": "stdout",
     "output_type": "stream",
     "text": [
      "✅ Fold 6: Test Accuracy = 99.30%\n"
     ]
    },
    {
     "name": "stderr",
     "output_type": "stream",
     "text": [
      "Epoch [28/60]: 100%|████| 282/282 [01:28<00:00,  3.18it/s, acc=99.6, loss=0.028]\n"
     ]
    },
    {
     "name": "stdout",
     "output_type": "stream",
     "text": [
      "✅ Fold 6: Test Accuracy = 98.80%\n"
     ]
    },
    {
     "name": "stderr",
     "output_type": "stream",
     "text": [
      "Epoch [29/60]: 100%|█| 282/282 [01:28<00:00,  3.18it/s, acc=99.3, loss=0.000395]\n"
     ]
    },
    {
     "name": "stdout",
     "output_type": "stream",
     "text": [
      "✅ Fold 6: Test Accuracy = 99.40%\n"
     ]
    },
    {
     "name": "stderr",
     "output_type": "stream",
     "text": [
      "Epoch [30/60]: 100%|█| 282/282 [01:28<00:00,  3.18it/s, acc=99.7, loss=0.000385]\n"
     ]
    },
    {
     "name": "stdout",
     "output_type": "stream",
     "text": [
      "✅ Fold 6: Test Accuracy = 99.10%\n"
     ]
    },
    {
     "name": "stderr",
     "output_type": "stream",
     "text": [
      "Epoch [31/60]: 100%|██| 282/282 [01:28<00:00,  3.18it/s, acc=99.6, loss=0.00447]\n"
     ]
    },
    {
     "name": "stdout",
     "output_type": "stream",
     "text": [
      "✅ Fold 6: Test Accuracy = 98.90%\n"
     ]
    },
    {
     "name": "stderr",
     "output_type": "stream",
     "text": [
      "Epoch [32/60]: 100%|██| 282/282 [01:28<00:00,  3.18it/s, acc=99.1, loss=0.00126]\n"
     ]
    },
    {
     "name": "stdout",
     "output_type": "stream",
     "text": [
      "✅ Fold 6: Test Accuracy = 98.60%\n"
     ]
    },
    {
     "name": "stderr",
     "output_type": "stream",
     "text": [
      "Epoch [33/60]: 100%|█| 282/282 [01:28<00:00,  3.18it/s, acc=99.4, loss=0.000615]\n"
     ]
    },
    {
     "name": "stdout",
     "output_type": "stream",
     "text": [
      "✅ Fold 6: Test Accuracy = 99.20%\n"
     ]
    },
    {
     "name": "stderr",
     "output_type": "stream",
     "text": [
      "Epoch [34/60]: 100%|██| 282/282 [01:28<00:00,  3.18it/s, acc=99.8, loss=1.96e-5]\n"
     ]
    },
    {
     "name": "stdout",
     "output_type": "stream",
     "text": [
      "✅ Fold 6: Test Accuracy = 99.20%\n"
     ]
    },
    {
     "name": "stderr",
     "output_type": "stream",
     "text": [
      "Epoch [35/60]: 100%|███| 282/282 [01:28<00:00,  3.19it/s, acc=99.6, loss=0.0638]\n"
     ]
    },
    {
     "name": "stdout",
     "output_type": "stream",
     "text": [
      "✅ Fold 6: Test Accuracy = 99.00%\n"
     ]
    },
    {
     "name": "stderr",
     "output_type": "stream",
     "text": [
      "Epoch [36/60]: 100%|████| 282/282 [01:28<00:00,  3.18it/s, acc=99.5, loss=0.214]\n"
     ]
    },
    {
     "name": "stdout",
     "output_type": "stream",
     "text": [
      "✅ Fold 6: Test Accuracy = 98.90%\n"
     ]
    },
    {
     "name": "stderr",
     "output_type": "stream",
     "text": [
      "Epoch [37/60]: 100%|█| 282/282 [01:28<00:00,  3.18it/s, acc=99.4, loss=0.000929]\n"
     ]
    },
    {
     "name": "stdout",
     "output_type": "stream",
     "text": [
      "✅ Fold 6: Test Accuracy = 99.40%\n"
     ]
    },
    {
     "name": "stderr",
     "output_type": "stream",
     "text": [
      "Epoch [38/60]: 100%|██| 282/282 [01:28<00:00,  3.19it/s, acc=99.6, loss=0.00201]\n"
     ]
    },
    {
     "name": "stdout",
     "output_type": "stream",
     "text": [
      "✅ Fold 6: Test Accuracy = 99.10%\n"
     ]
    },
    {
     "name": "stderr",
     "output_type": "stream",
     "text": [
      "Epoch [39/60]: 100%|█| 282/282 [01:28<00:00,  3.18it/s, acc=99.4, loss=0.000814]\n"
     ]
    },
    {
     "name": "stdout",
     "output_type": "stream",
     "text": [
      "✅ Fold 6: Test Accuracy = 98.70%\n"
     ]
    },
    {
     "name": "stderr",
     "output_type": "stream",
     "text": [
      "Epoch [40/60]: 100%|██| 282/282 [01:28<00:00,  3.18it/s, acc=99.7, loss=0.00561]\n"
     ]
    },
    {
     "name": "stdout",
     "output_type": "stream",
     "text": [
      "✅ Fold 6: Test Accuracy = 99.40%\n"
     ]
    },
    {
     "name": "stderr",
     "output_type": "stream",
     "text": [
      "Epoch [41/60]: 100%|██| 282/282 [01:28<00:00,  3.18it/s, acc=99.6, loss=0.00369]\n"
     ]
    },
    {
     "name": "stdout",
     "output_type": "stream",
     "text": [
      "✅ Fold 6: Test Accuracy = 98.50%\n"
     ]
    },
    {
     "name": "stderr",
     "output_type": "stream",
     "text": [
      "Epoch [42/60]: 100%|███| 282/282 [01:28<00:00,  3.18it/s, acc=99.4, loss=0.0176]\n"
     ]
    },
    {
     "name": "stdout",
     "output_type": "stream",
     "text": [
      "✅ Fold 6: Test Accuracy = 98.40%\n"
     ]
    },
    {
     "name": "stderr",
     "output_type": "stream",
     "text": [
      "Epoch [43/60]: 100%|█| 282/282 [01:28<00:00,  3.18it/s, acc=99.6, loss=0.000107]\n"
     ]
    },
    {
     "name": "stdout",
     "output_type": "stream",
     "text": [
      "✅ Fold 6: Test Accuracy = 98.10%\n"
     ]
    },
    {
     "name": "stderr",
     "output_type": "stream",
     "text": [
      "Epoch [44/60]: 100%|█| 282/282 [01:28<00:00,  3.18it/s, acc=99.3, loss=0.000226]\n"
     ]
    },
    {
     "name": "stdout",
     "output_type": "stream",
     "text": [
      "✅ Fold 6: Test Accuracy = 98.80%\n"
     ]
    },
    {
     "name": "stderr",
     "output_type": "stream",
     "text": [
      "Epoch [45/60]: 100%|██| 282/282 [01:28<00:00,  3.18it/s, acc=99.3, loss=0.00367]\n"
     ]
    },
    {
     "name": "stdout",
     "output_type": "stream",
     "text": [
      "✅ Fold 6: Test Accuracy = 99.00%\n"
     ]
    },
    {
     "name": "stderr",
     "output_type": "stream",
     "text": [
      "Epoch [46/60]: 100%|███| 282/282 [01:28<00:00,  3.18it/s, acc=99.5, loss=0.0181]\n"
     ]
    },
    {
     "name": "stdout",
     "output_type": "stream",
     "text": [
      "✅ Fold 6: Test Accuracy = 99.40%\n"
     ]
    },
    {
     "name": "stderr",
     "output_type": "stream",
     "text": [
      "Epoch [47/60]: 100%|██| 282/282 [01:28<00:00,  3.18it/s, acc=99.6, loss=0.00258]\n"
     ]
    },
    {
     "name": "stdout",
     "output_type": "stream",
     "text": [
      "✅ Fold 6: Test Accuracy = 98.90%\n"
     ]
    },
    {
     "name": "stderr",
     "output_type": "stream",
     "text": [
      "Epoch [48/60]: 100%|██| 282/282 [01:28<00:00,  3.18it/s, acc=99.2, loss=0.00206]\n"
     ]
    },
    {
     "name": "stdout",
     "output_type": "stream",
     "text": [
      "✅ Fold 6: Test Accuracy = 98.90%\n"
     ]
    },
    {
     "name": "stderr",
     "output_type": "stream",
     "text": [
      "Epoch [49/60]: 100%|█| 282/282 [01:28<00:00,  3.18it/s, acc=99.4, loss=0.000798]\n"
     ]
    },
    {
     "name": "stdout",
     "output_type": "stream",
     "text": [
      "✅ Fold 6: Test Accuracy = 98.40%\n"
     ]
    },
    {
     "name": "stderr",
     "output_type": "stream",
     "text": [
      "Epoch [50/60]: 100%|██| 282/282 [01:28<00:00,  3.18it/s, acc=99.3, loss=0.00768]\n"
     ]
    },
    {
     "name": "stdout",
     "output_type": "stream",
     "text": [
      "✅ Fold 6: Test Accuracy = 97.70%\n"
     ]
    },
    {
     "name": "stderr",
     "output_type": "stream",
     "text": [
      "Epoch [51/60]: 100%|█| 282/282 [01:28<00:00,  3.18it/s, acc=99.6, loss=0.000378]\n"
     ]
    },
    {
     "name": "stdout",
     "output_type": "stream",
     "text": [
      "✅ Fold 6: Test Accuracy = 98.60%\n"
     ]
    },
    {
     "name": "stderr",
     "output_type": "stream",
     "text": [
      "Epoch [52/60]: 100%|█| 282/282 [01:28<00:00,  3.18it/s, acc=99.5, loss=0.000279]\n"
     ]
    },
    {
     "name": "stdout",
     "output_type": "stream",
     "text": [
      "✅ Fold 6: Test Accuracy = 98.30%\n"
     ]
    },
    {
     "name": "stderr",
     "output_type": "stream",
     "text": [
      "Epoch [53/60]: 100%|██| 282/282 [01:28<00:00,  3.18it/s, acc=99.8, loss=0.00912]\n"
     ]
    },
    {
     "name": "stdout",
     "output_type": "stream",
     "text": [
      "✅ Fold 6: Test Accuracy = 97.70%\n"
     ]
    },
    {
     "name": "stderr",
     "output_type": "stream",
     "text": [
      "Epoch [54/60]: 100%|██| 282/282 [01:28<00:00,  3.18it/s, acc=99.8, loss=0.00539]\n"
     ]
    },
    {
     "name": "stdout",
     "output_type": "stream",
     "text": [
      "✅ Fold 6: Test Accuracy = 98.20%\n"
     ]
    },
    {
     "name": "stderr",
     "output_type": "stream",
     "text": [
      "Epoch [55/60]: 100%|███| 282/282 [01:28<00:00,  3.18it/s, acc=99.4, loss=0.0788]\n"
     ]
    },
    {
     "name": "stdout",
     "output_type": "stream",
     "text": [
      "✅ Fold 6: Test Accuracy = 97.50%\n"
     ]
    },
    {
     "name": "stderr",
     "output_type": "stream",
     "text": [
      "Epoch [56/60]: 100%|█| 282/282 [01:28<00:00,  3.18it/s, acc=99.4, loss=0.000715]\n"
     ]
    },
    {
     "name": "stdout",
     "output_type": "stream",
     "text": [
      "✅ Fold 6: Test Accuracy = 98.60%\n"
     ]
    },
    {
     "name": "stderr",
     "output_type": "stream",
     "text": [
      "Epoch [57/60]: 100%|██| 282/282 [01:28<00:00,  3.18it/s, acc=99.4, loss=0.00107]\n"
     ]
    },
    {
     "name": "stdout",
     "output_type": "stream",
     "text": [
      "✅ Fold 6: Test Accuracy = 98.70%\n"
     ]
    },
    {
     "name": "stderr",
     "output_type": "stream",
     "text": [
      "Epoch [58/60]: 100%|██| 282/282 [01:28<00:00,  3.18it/s, acc=99.8, loss=0.00175]\n"
     ]
    },
    {
     "name": "stdout",
     "output_type": "stream",
     "text": [
      "✅ Fold 6: Test Accuracy = 98.90%\n"
     ]
    },
    {
     "name": "stderr",
     "output_type": "stream",
     "text": [
      "Epoch [59/60]: 100%|█| 282/282 [01:28<00:00,  3.18it/s, acc=99.7, loss=0.000333]\n"
     ]
    },
    {
     "name": "stdout",
     "output_type": "stream",
     "text": [
      "✅ Fold 6: Test Accuracy = 99.30%\n"
     ]
    },
    {
     "name": "stderr",
     "output_type": "stream",
     "text": [
      "Epoch [60/60]: 100%|█| 282/282 [01:28<00:00,  3.18it/s, acc=99.6, loss=0.000906]\n"
     ]
    },
    {
     "name": "stdout",
     "output_type": "stream",
     "text": [
      "✅ Fold 6: Test Accuracy = 98.20%\n",
      "\n",
      "🚀 Training Fold 7/10\n"
     ]
    },
    {
     "name": "stderr",
     "output_type": "stream",
     "text": [
      "Epoch [1/60]: 100%|███| 282/282 [01:28<00:00,  3.18it/s, acc=96.5, loss=0.00802]\n"
     ]
    },
    {
     "name": "stdout",
     "output_type": "stream",
     "text": [
      "✅ Fold 7: Test Accuracy = 99.60%\n",
      "🎯 New best model saved with accuracy: 99.60%\n"
     ]
    },
    {
     "name": "stderr",
     "output_type": "stream",
     "text": [
      "Epoch [2/60]: 100%|██| 282/282 [01:28<00:00,  3.18it/s, acc=99.3, loss=0.000639]\n"
     ]
    },
    {
     "name": "stdout",
     "output_type": "stream",
     "text": [
      "✅ Fold 7: Test Accuracy = 99.30%\n"
     ]
    },
    {
     "name": "stderr",
     "output_type": "stream",
     "text": [
      "Epoch [3/60]: 100%|████| 282/282 [01:28<00:00,  3.18it/s, acc=99.5, loss=0.0209]\n"
     ]
    },
    {
     "name": "stdout",
     "output_type": "stream",
     "text": [
      "✅ Fold 7: Test Accuracy = 99.20%\n"
     ]
    },
    {
     "name": "stderr",
     "output_type": "stream",
     "text": [
      "Epoch [4/60]: 100%|████| 282/282 [01:28<00:00,  3.18it/s, acc=99.5, loss=0.0244]\n"
     ]
    },
    {
     "name": "stdout",
     "output_type": "stream",
     "text": [
      "✅ Fold 7: Test Accuracy = 100.00%\n",
      "🎯 New best model saved with accuracy: 100.00%\n"
     ]
    },
    {
     "name": "stderr",
     "output_type": "stream",
     "text": [
      "Epoch [5/60]: 100%|███| 282/282 [01:28<00:00,  3.19it/s, acc=99.2, loss=0.00027]\n"
     ]
    },
    {
     "name": "stdout",
     "output_type": "stream",
     "text": [
      "✅ Fold 7: Test Accuracy = 99.40%\n"
     ]
    },
    {
     "name": "stderr",
     "output_type": "stream",
     "text": [
      "Epoch [6/60]: 100%|███| 282/282 [01:28<00:00,  3.18it/s, acc=99.7, loss=3.43e-6]\n"
     ]
    },
    {
     "name": "stdout",
     "output_type": "stream",
     "text": [
      "✅ Fold 7: Test Accuracy = 99.80%\n"
     ]
    },
    {
     "name": "stderr",
     "output_type": "stream",
     "text": [
      "Epoch [7/60]: 100%|███| 282/282 [01:28<00:00,  3.18it/s, acc=99.3, loss=1.66e-5]\n"
     ]
    },
    {
     "name": "stdout",
     "output_type": "stream",
     "text": [
      "✅ Fold 7: Test Accuracy = 99.10%\n"
     ]
    },
    {
     "name": "stderr",
     "output_type": "stream",
     "text": [
      "Epoch [8/60]: 100%|██████| 282/282 [01:28<00:00,  3.18it/s, acc=99, loss=0.0133]\n"
     ]
    },
    {
     "name": "stdout",
     "output_type": "stream",
     "text": [
      "✅ Fold 7: Test Accuracy = 99.80%\n"
     ]
    },
    {
     "name": "stderr",
     "output_type": "stream",
     "text": [
      "Epoch [9/60]: 100%|██| 282/282 [01:28<00:00,  3.18it/s, acc=99.5, loss=0.000189]\n"
     ]
    },
    {
     "name": "stdout",
     "output_type": "stream",
     "text": [
      "✅ Fold 7: Test Accuracy = 99.60%\n"
     ]
    },
    {
     "name": "stderr",
     "output_type": "stream",
     "text": [
      "Epoch [10/60]: 100%|████| 282/282 [01:28<00:00,  3.18it/s, acc=99.6, loss=0.161]\n"
     ]
    },
    {
     "name": "stdout",
     "output_type": "stream",
     "text": [
      "✅ Fold 7: Test Accuracy = 99.20%\n"
     ]
    },
    {
     "name": "stderr",
     "output_type": "stream",
     "text": [
      "Epoch [11/60]: 100%|███| 282/282 [01:28<00:00,  3.18it/s, acc=99.5, loss=0.0176]\n"
     ]
    },
    {
     "name": "stdout",
     "output_type": "stream",
     "text": [
      "✅ Fold 7: Test Accuracy = 99.60%\n"
     ]
    },
    {
     "name": "stderr",
     "output_type": "stream",
     "text": [
      "Epoch [12/60]: 100%|█| 282/282 [01:28<00:00,  3.19it/s, acc=99.8, loss=0.000149]\n"
     ]
    },
    {
     "name": "stdout",
     "output_type": "stream",
     "text": [
      "✅ Fold 7: Test Accuracy = 99.60%\n"
     ]
    },
    {
     "name": "stderr",
     "output_type": "stream",
     "text": [
      "Epoch [13/60]: 100%|███| 282/282 [01:28<00:00,  3.19it/s, acc=99.6, loss=0.0712]\n"
     ]
    },
    {
     "name": "stdout",
     "output_type": "stream",
     "text": [
      "✅ Fold 7: Test Accuracy = 99.10%\n"
     ]
    },
    {
     "name": "stderr",
     "output_type": "stream",
     "text": [
      "Epoch [14/60]: 100%|██| 282/282 [01:28<00:00,  3.18it/s, acc=98.9, loss=0.00415]\n"
     ]
    },
    {
     "name": "stdout",
     "output_type": "stream",
     "text": [
      "✅ Fold 7: Test Accuracy = 99.40%\n"
     ]
    },
    {
     "name": "stderr",
     "output_type": "stream",
     "text": [
      "Epoch [15/60]: 100%|█| 282/282 [01:28<00:00,  3.19it/s, acc=99.5, loss=0.000934]\n"
     ]
    },
    {
     "name": "stdout",
     "output_type": "stream",
     "text": [
      "✅ Fold 7: Test Accuracy = 99.50%\n"
     ]
    },
    {
     "name": "stderr",
     "output_type": "stream",
     "text": [
      "Epoch [16/60]: 100%|█| 282/282 [01:28<00:00,  3.18it/s, acc=99.6, loss=0.000173]\n"
     ]
    },
    {
     "name": "stdout",
     "output_type": "stream",
     "text": [
      "✅ Fold 7: Test Accuracy = 99.40%\n"
     ]
    },
    {
     "name": "stderr",
     "output_type": "stream",
     "text": [
      "Epoch [17/60]: 100%|██| 282/282 [01:28<00:00,  3.19it/s, acc=99.8, loss=8.67e-5]\n"
     ]
    },
    {
     "name": "stdout",
     "output_type": "stream",
     "text": [
      "✅ Fold 7: Test Accuracy = 99.60%\n"
     ]
    },
    {
     "name": "stderr",
     "output_type": "stream",
     "text": [
      "Epoch [18/60]: 100%|███| 282/282 [01:28<00:00,  3.19it/s, acc=99.4, loss=0.0396]\n"
     ]
    },
    {
     "name": "stdout",
     "output_type": "stream",
     "text": [
      "✅ Fold 7: Test Accuracy = 98.90%\n"
     ]
    },
    {
     "name": "stderr",
     "output_type": "stream",
     "text": [
      "Epoch [19/60]: 100%|████| 282/282 [01:28<00:00,  3.18it/s, acc=99.4, loss=0.012]\n"
     ]
    },
    {
     "name": "stdout",
     "output_type": "stream",
     "text": [
      "✅ Fold 7: Test Accuracy = 99.60%\n"
     ]
    },
    {
     "name": "stderr",
     "output_type": "stream",
     "text": [
      "Epoch [20/60]: 100%|█| 282/282 [01:28<00:00,  3.18it/s, acc=99.6, loss=0.000173]\n"
     ]
    },
    {
     "name": "stdout",
     "output_type": "stream",
     "text": [
      "✅ Fold 7: Test Accuracy = 99.60%\n"
     ]
    },
    {
     "name": "stderr",
     "output_type": "stream",
     "text": [
      "Epoch [21/60]: 100%|███| 282/282 [01:28<00:00,  3.18it/s, acc=99.3, loss=0.0168]\n"
     ]
    },
    {
     "name": "stdout",
     "output_type": "stream",
     "text": [
      "✅ Fold 7: Test Accuracy = 99.70%\n"
     ]
    },
    {
     "name": "stderr",
     "output_type": "stream",
     "text": [
      "Epoch [22/60]: 100%|█| 282/282 [01:28<00:00,  3.18it/s, acc=99.3, loss=0.000492]\n"
     ]
    },
    {
     "name": "stdout",
     "output_type": "stream",
     "text": [
      "✅ Fold 7: Test Accuracy = 99.40%\n"
     ]
    },
    {
     "name": "stderr",
     "output_type": "stream",
     "text": [
      "Epoch [23/60]: 100%|███| 282/282 [01:28<00:00,  3.18it/s, acc=99.7, loss=1.2e-5]\n"
     ]
    },
    {
     "name": "stdout",
     "output_type": "stream",
     "text": [
      "✅ Fold 7: Test Accuracy = 99.70%\n"
     ]
    },
    {
     "name": "stderr",
     "output_type": "stream",
     "text": [
      "Epoch [24/60]: 100%|██| 282/282 [01:28<00:00,  3.18it/s, acc=99.9, loss=1.84e-5]\n"
     ]
    },
    {
     "name": "stdout",
     "output_type": "stream",
     "text": [
      "✅ Fold 7: Test Accuracy = 99.50%\n"
     ]
    },
    {
     "name": "stderr",
     "output_type": "stream",
     "text": [
      "Epoch [25/60]: 100%|██| 282/282 [01:28<00:00,  3.18it/s, acc=99.5, loss=0.00186]\n"
     ]
    },
    {
     "name": "stdout",
     "output_type": "stream",
     "text": [
      "✅ Fold 7: Test Accuracy = 99.50%\n"
     ]
    },
    {
     "name": "stderr",
     "output_type": "stream",
     "text": [
      "Epoch [26/60]: 100%|██| 282/282 [01:28<00:00,  3.18it/s, acc=99.5, loss=0.00553]\n"
     ]
    },
    {
     "name": "stdout",
     "output_type": "stream",
     "text": [
      "✅ Fold 7: Test Accuracy = 99.20%\n"
     ]
    },
    {
     "name": "stderr",
     "output_type": "stream",
     "text": [
      "Epoch [27/60]: 100%|███| 282/282 [01:28<00:00,  3.18it/s, acc=99.4, loss=0.0717]\n"
     ]
    },
    {
     "name": "stdout",
     "output_type": "stream",
     "text": [
      "✅ Fold 7: Test Accuracy = 98.80%\n"
     ]
    },
    {
     "name": "stderr",
     "output_type": "stream",
     "text": [
      "Epoch [28/60]: 100%|███| 282/282 [01:28<00:00,  3.18it/s, acc=99.5, loss=0.0455]\n"
     ]
    },
    {
     "name": "stdout",
     "output_type": "stream",
     "text": [
      "✅ Fold 7: Test Accuracy = 98.10%\n"
     ]
    },
    {
     "name": "stderr",
     "output_type": "stream",
     "text": [
      "Epoch [29/60]: 100%|███| 282/282 [01:28<00:00,  3.18it/s, acc=99.5, loss=0.0003]\n"
     ]
    },
    {
     "name": "stdout",
     "output_type": "stream",
     "text": [
      "✅ Fold 7: Test Accuracy = 99.10%\n"
     ]
    },
    {
     "name": "stderr",
     "output_type": "stream",
     "text": [
      "Epoch [30/60]: 100%|█| 282/282 [01:28<00:00,  3.18it/s, acc=99.3, loss=0.000531]\n"
     ]
    },
    {
     "name": "stdout",
     "output_type": "stream",
     "text": [
      "✅ Fold 7: Test Accuracy = 99.30%\n"
     ]
    },
    {
     "name": "stderr",
     "output_type": "stream",
     "text": [
      "Epoch [31/60]: 100%|█| 282/282 [01:28<00:00,  3.18it/s, acc=99.7, loss=0.000107]\n"
     ]
    },
    {
     "name": "stdout",
     "output_type": "stream",
     "text": [
      "✅ Fold 7: Test Accuracy = 99.70%\n"
     ]
    },
    {
     "name": "stderr",
     "output_type": "stream",
     "text": [
      "Epoch [32/60]: 100%|█| 282/282 [01:28<00:00,  3.18it/s, acc=99.4, loss=0.000955]\n"
     ]
    },
    {
     "name": "stdout",
     "output_type": "stream",
     "text": [
      "✅ Fold 7: Test Accuracy = 99.70%\n"
     ]
    },
    {
     "name": "stderr",
     "output_type": "stream",
     "text": [
      "Epoch [33/60]: 100%|██| 282/282 [01:28<00:00,  3.18it/s, acc=99.5, loss=7.33e-5]\n"
     ]
    },
    {
     "name": "stdout",
     "output_type": "stream",
     "text": [
      "✅ Fold 7: Test Accuracy = 99.10%\n"
     ]
    },
    {
     "name": "stderr",
     "output_type": "stream",
     "text": [
      "Epoch [34/60]: 100%|█| 282/282 [01:28<00:00,  3.18it/s, acc=99.5, loss=0.000105]\n"
     ]
    },
    {
     "name": "stdout",
     "output_type": "stream",
     "text": [
      "✅ Fold 7: Test Accuracy = 99.50%\n"
     ]
    },
    {
     "name": "stderr",
     "output_type": "stream",
     "text": [
      "Epoch [35/60]: 100%|███| 282/282 [01:28<00:00,  3.18it/s, acc=99.5, loss=0.0043]\n"
     ]
    },
    {
     "name": "stdout",
     "output_type": "stream",
     "text": [
      "✅ Fold 7: Test Accuracy = 99.40%\n"
     ]
    },
    {
     "name": "stderr",
     "output_type": "stream",
     "text": [
      "Epoch [36/60]: 100%|███| 282/282 [01:28<00:00,  3.18it/s, acc=99.5, loss=0.0726]\n"
     ]
    },
    {
     "name": "stdout",
     "output_type": "stream",
     "text": [
      "✅ Fold 7: Test Accuracy = 98.80%\n"
     ]
    },
    {
     "name": "stderr",
     "output_type": "stream",
     "text": [
      "Epoch [37/60]: 100%|█| 282/282 [01:28<00:00,  3.18it/s, acc=99.7, loss=0.000119]\n"
     ]
    },
    {
     "name": "stdout",
     "output_type": "stream",
     "text": [
      "✅ Fold 7: Test Accuracy = 99.50%\n"
     ]
    },
    {
     "name": "stderr",
     "output_type": "stream",
     "text": [
      "Epoch [38/60]: 100%|███| 282/282 [01:28<00:00,  3.18it/s, acc=99.7, loss=0.0248]\n"
     ]
    },
    {
     "name": "stdout",
     "output_type": "stream",
     "text": [
      "✅ Fold 7: Test Accuracy = 99.80%\n"
     ]
    },
    {
     "name": "stderr",
     "output_type": "stream",
     "text": [
      "Epoch [39/60]: 100%|█| 282/282 [01:28<00:00,  3.18it/s, acc=99.5, loss=0.000557]\n"
     ]
    },
    {
     "name": "stdout",
     "output_type": "stream",
     "text": [
      "✅ Fold 7: Test Accuracy = 98.80%\n"
     ]
    },
    {
     "name": "stderr",
     "output_type": "stream",
     "text": [
      "Epoch [40/60]: 100%|██| 282/282 [01:28<00:00,  3.18it/s, acc=99.2, loss=0.00386]\n"
     ]
    },
    {
     "name": "stdout",
     "output_type": "stream",
     "text": [
      "✅ Fold 7: Test Accuracy = 98.60%\n"
     ]
    },
    {
     "name": "stderr",
     "output_type": "stream",
     "text": [
      "Epoch [41/60]: 100%|██| 282/282 [01:28<00:00,  3.18it/s, acc=99.3, loss=0.00301]\n"
     ]
    },
    {
     "name": "stdout",
     "output_type": "stream",
     "text": [
      "✅ Fold 7: Test Accuracy = 99.30%\n"
     ]
    },
    {
     "name": "stderr",
     "output_type": "stream",
     "text": [
      "Epoch [42/60]: 100%|████| 282/282 [01:28<00:00,  3.18it/s, acc=99.8, loss=0.125]\n"
     ]
    },
    {
     "name": "stdout",
     "output_type": "stream",
     "text": [
      "✅ Fold 7: Test Accuracy = 99.30%\n"
     ]
    },
    {
     "name": "stderr",
     "output_type": "stream",
     "text": [
      "Epoch [43/60]: 100%|██| 282/282 [01:28<00:00,  3.18it/s, acc=99.3, loss=8.15e-5]\n"
     ]
    },
    {
     "name": "stdout",
     "output_type": "stream",
     "text": [
      "✅ Fold 7: Test Accuracy = 99.60%\n"
     ]
    },
    {
     "name": "stderr",
     "output_type": "stream",
     "text": [
      "Epoch [44/60]: 100%|██| 282/282 [01:28<00:00,  3.18it/s, acc=99.7, loss=0.00685]\n"
     ]
    },
    {
     "name": "stdout",
     "output_type": "stream",
     "text": [
      "✅ Fold 7: Test Accuracy = 98.90%\n"
     ]
    },
    {
     "name": "stderr",
     "output_type": "stream",
     "text": [
      "Epoch [45/60]: 100%|█| 282/282 [01:28<00:00,  3.18it/s, acc=99.3, loss=0.000732]\n"
     ]
    },
    {
     "name": "stdout",
     "output_type": "stream",
     "text": [
      "✅ Fold 7: Test Accuracy = 99.40%\n"
     ]
    },
    {
     "name": "stderr",
     "output_type": "stream",
     "text": [
      "Epoch [46/60]: 100%|█| 282/282 [01:28<00:00,  3.18it/s, acc=99.8, loss=0.000137]\n"
     ]
    },
    {
     "name": "stdout",
     "output_type": "stream",
     "text": [
      "✅ Fold 7: Test Accuracy = 99.30%\n"
     ]
    },
    {
     "name": "stderr",
     "output_type": "stream",
     "text": [
      "Epoch [47/60]: 100%|██| 282/282 [01:28<00:00,  3.18it/s, acc=99.5, loss=0.00204]\n"
     ]
    },
    {
     "name": "stdout",
     "output_type": "stream",
     "text": [
      "✅ Fold 7: Test Accuracy = 99.00%\n"
     ]
    },
    {
     "name": "stderr",
     "output_type": "stream",
     "text": [
      "Epoch [48/60]: 100%|█| 282/282 [01:28<00:00,  3.18it/s, acc=99.5, loss=0.000101]\n"
     ]
    },
    {
     "name": "stdout",
     "output_type": "stream",
     "text": [
      "✅ Fold 7: Test Accuracy = 98.60%\n"
     ]
    },
    {
     "name": "stderr",
     "output_type": "stream",
     "text": [
      "Epoch [49/60]: 100%|███| 282/282 [01:28<00:00,  3.18it/s, acc=99.5, loss=0.0104]\n"
     ]
    },
    {
     "name": "stdout",
     "output_type": "stream",
     "text": [
      "✅ Fold 7: Test Accuracy = 98.20%\n"
     ]
    },
    {
     "name": "stderr",
     "output_type": "stream",
     "text": [
      "Epoch [50/60]: 100%|███| 282/282 [01:28<00:00,  3.18it/s, acc=99.4, loss=0.0021]\n"
     ]
    },
    {
     "name": "stdout",
     "output_type": "stream",
     "text": [
      "✅ Fold 7: Test Accuracy = 99.10%\n"
     ]
    },
    {
     "name": "stderr",
     "output_type": "stream",
     "text": [
      "Epoch [51/60]: 100%|██| 282/282 [01:28<00:00,  3.18it/s, acc=99.5, loss=0.00402]\n"
     ]
    },
    {
     "name": "stdout",
     "output_type": "stream",
     "text": [
      "✅ Fold 7: Test Accuracy = 98.80%\n"
     ]
    },
    {
     "name": "stderr",
     "output_type": "stream",
     "text": [
      "Epoch [52/60]: 100%|█| 282/282 [01:28<00:00,  3.18it/s, acc=99.2, loss=0.000789]\n"
     ]
    },
    {
     "name": "stdout",
     "output_type": "stream",
     "text": [
      "✅ Fold 7: Test Accuracy = 98.70%\n"
     ]
    },
    {
     "name": "stderr",
     "output_type": "stream",
     "text": [
      "Epoch [53/60]: 100%|███| 282/282 [01:28<00:00,  3.18it/s, acc=99.7, loss=0.0458]\n"
     ]
    },
    {
     "name": "stdout",
     "output_type": "stream",
     "text": [
      "✅ Fold 7: Test Accuracy = 99.60%\n"
     ]
    },
    {
     "name": "stderr",
     "output_type": "stream",
     "text": [
      "Epoch [54/60]: 100%|██| 282/282 [01:28<00:00,  3.18it/s, acc=99.6, loss=6.76e-5]\n"
     ]
    },
    {
     "name": "stdout",
     "output_type": "stream",
     "text": [
      "✅ Fold 7: Test Accuracy = 99.20%\n"
     ]
    },
    {
     "name": "stderr",
     "output_type": "stream",
     "text": [
      "Epoch [55/60]: 100%|█| 282/282 [01:28<00:00,  3.18it/s, acc=99.7, loss=0.000892]\n"
     ]
    },
    {
     "name": "stdout",
     "output_type": "stream",
     "text": [
      "✅ Fold 7: Test Accuracy = 99.20%\n"
     ]
    },
    {
     "name": "stderr",
     "output_type": "stream",
     "text": [
      "Epoch [56/60]: 100%|██| 282/282 [01:28<00:00,  3.18it/s, acc=99.7, loss=0.00305]\n"
     ]
    },
    {
     "name": "stdout",
     "output_type": "stream",
     "text": [
      "✅ Fold 7: Test Accuracy = 98.80%\n"
     ]
    },
    {
     "name": "stderr",
     "output_type": "stream",
     "text": [
      "Epoch [57/60]: 100%|█| 282/282 [01:28<00:00,  3.18it/s, acc=99.7, loss=0.000406]\n"
     ]
    },
    {
     "name": "stdout",
     "output_type": "stream",
     "text": [
      "✅ Fold 7: Test Accuracy = 99.20%\n"
     ]
    },
    {
     "name": "stderr",
     "output_type": "stream",
     "text": [
      "Epoch [58/60]: 100%|███| 282/282 [01:28<00:00,  3.18it/s, acc=99.4, loss=0.0256]\n"
     ]
    },
    {
     "name": "stdout",
     "output_type": "stream",
     "text": [
      "✅ Fold 7: Test Accuracy = 98.40%\n"
     ]
    },
    {
     "name": "stderr",
     "output_type": "stream",
     "text": [
      "Epoch [59/60]: 100%|██| 282/282 [01:28<00:00,  3.18it/s, acc=99.5, loss=0.00146]\n"
     ]
    },
    {
     "name": "stdout",
     "output_type": "stream",
     "text": [
      "✅ Fold 7: Test Accuracy = 99.40%\n"
     ]
    },
    {
     "name": "stderr",
     "output_type": "stream",
     "text": [
      "Epoch [60/60]: 100%|██| 282/282 [01:28<00:00,  3.18it/s, acc=99.9, loss=2.74e-5]\n"
     ]
    },
    {
     "name": "stdout",
     "output_type": "stream",
     "text": [
      "✅ Fold 7: Test Accuracy = 99.40%\n",
      "\n",
      "🚀 Training Fold 8/10\n"
     ]
    },
    {
     "name": "stderr",
     "output_type": "stream",
     "text": [
      "Epoch [1/60]: 100%|███| 282/282 [01:28<00:00,  3.18it/s, acc=96.3, loss=0.00473]\n"
     ]
    },
    {
     "name": "stdout",
     "output_type": "stream",
     "text": [
      "✅ Fold 8: Test Accuracy = 99.70%\n",
      "🎯 New best model saved with accuracy: 99.70%\n"
     ]
    },
    {
     "name": "stderr",
     "output_type": "stream",
     "text": [
      "Epoch [2/60]: 100%|█████| 282/282 [01:28<00:00,  3.18it/s, acc=99.5, loss=0.208]\n"
     ]
    },
    {
     "name": "stdout",
     "output_type": "stream",
     "text": [
      "✅ Fold 8: Test Accuracy = 99.20%\n"
     ]
    },
    {
     "name": "stderr",
     "output_type": "stream",
     "text": [
      "Epoch [3/60]: 100%|████| 282/282 [01:28<00:00,  3.18it/s, acc=99.5, loss=0.0564]\n"
     ]
    },
    {
     "name": "stdout",
     "output_type": "stream",
     "text": [
      "✅ Fold 8: Test Accuracy = 99.80%\n",
      "🎯 New best model saved with accuracy: 99.80%\n"
     ]
    },
    {
     "name": "stderr",
     "output_type": "stream",
     "text": [
      "Epoch [4/60]: 100%|██████| 282/282 [01:28<00:00,  3.19it/s, acc=99.6, loss=0.01]\n"
     ]
    },
    {
     "name": "stdout",
     "output_type": "stream",
     "text": [
      "✅ Fold 8: Test Accuracy = 99.10%\n"
     ]
    },
    {
     "name": "stderr",
     "output_type": "stream",
     "text": [
      "Epoch [5/60]: 100%|███| 282/282 [01:28<00:00,  3.18it/s, acc=99.1, loss=5.22e-5]\n"
     ]
    },
    {
     "name": "stdout",
     "output_type": "stream",
     "text": [
      "✅ Fold 8: Test Accuracy = 99.60%\n"
     ]
    },
    {
     "name": "stderr",
     "output_type": "stream",
     "text": [
      "Epoch [6/60]: 100%|████| 282/282 [01:28<00:00,  3.18it/s, acc=99.6, loss=0.0148]\n"
     ]
    },
    {
     "name": "stdout",
     "output_type": "stream",
     "text": [
      "✅ Fold 8: Test Accuracy = 99.80%\n"
     ]
    },
    {
     "name": "stderr",
     "output_type": "stream",
     "text": [
      "Epoch [7/60]: 100%|███| 282/282 [01:28<00:00,  3.18it/s, acc=99.9, loss=5.64e-5]\n"
     ]
    },
    {
     "name": "stdout",
     "output_type": "stream",
     "text": [
      "✅ Fold 8: Test Accuracy = 99.80%\n"
     ]
    },
    {
     "name": "stderr",
     "output_type": "stream",
     "text": [
      "Epoch [8/60]: 100%|███| 282/282 [01:28<00:00,  3.18it/s, acc=99.7, loss=0.00239]\n"
     ]
    },
    {
     "name": "stdout",
     "output_type": "stream",
     "text": [
      "✅ Fold 8: Test Accuracy = 100.00%\n",
      "🎯 New best model saved with accuracy: 100.00%\n"
     ]
    },
    {
     "name": "stderr",
     "output_type": "stream",
     "text": [
      "Epoch [9/60]: 100%|██| 282/282 [01:28<00:00,  3.19it/s, acc=99.2, loss=0.000892]\n"
     ]
    },
    {
     "name": "stdout",
     "output_type": "stream",
     "text": [
      "✅ Fold 8: Test Accuracy = 99.50%\n"
     ]
    },
    {
     "name": "stderr",
     "output_type": "stream",
     "text": [
      "Epoch [10/60]: 100%|████| 282/282 [01:28<00:00,  3.18it/s, acc=99.4, loss=0.208]\n"
     ]
    },
    {
     "name": "stdout",
     "output_type": "stream",
     "text": [
      "✅ Fold 8: Test Accuracy = 99.00%\n"
     ]
    },
    {
     "name": "stderr",
     "output_type": "stream",
     "text": [
      "Epoch [11/60]: 100%|█| 282/282 [01:28<00:00,  3.18it/s, acc=99.4, loss=0.000466]\n"
     ]
    },
    {
     "name": "stdout",
     "output_type": "stream",
     "text": [
      "✅ Fold 8: Test Accuracy = 99.40%\n"
     ]
    },
    {
     "name": "stderr",
     "output_type": "stream",
     "text": [
      "Epoch [12/60]: 100%|█| 282/282 [01:28<00:00,  3.18it/s, acc=99.6, loss=0.000291]\n"
     ]
    },
    {
     "name": "stdout",
     "output_type": "stream",
     "text": [
      "✅ Fold 8: Test Accuracy = 100.00%\n"
     ]
    },
    {
     "name": "stderr",
     "output_type": "stream",
     "text": [
      "Epoch [13/60]: 100%|████| 282/282 [01:28<00:00,  3.18it/s, acc=99.7, loss=0.158]\n"
     ]
    },
    {
     "name": "stdout",
     "output_type": "stream",
     "text": [
      "✅ Fold 8: Test Accuracy = 99.40%\n"
     ]
    },
    {
     "name": "stderr",
     "output_type": "stream",
     "text": [
      "Epoch [14/60]: 100%|█| 282/282 [01:28<00:00,  3.18it/s, acc=99.5, loss=0.000112]\n"
     ]
    },
    {
     "name": "stdout",
     "output_type": "stream",
     "text": [
      "✅ Fold 8: Test Accuracy = 99.30%\n"
     ]
    },
    {
     "name": "stderr",
     "output_type": "stream",
     "text": [
      "Epoch [15/60]: 100%|█| 282/282 [01:28<00:00,  3.18it/s, acc=99.3, loss=0.000827]\n"
     ]
    },
    {
     "name": "stdout",
     "output_type": "stream",
     "text": [
      "✅ Fold 8: Test Accuracy = 98.40%\n"
     ]
    },
    {
     "name": "stderr",
     "output_type": "stream",
     "text": [
      "Epoch [16/60]: 100%|█| 282/282 [01:28<00:00,  3.18it/s, acc=99.3, loss=0.000163]\n"
     ]
    },
    {
     "name": "stdout",
     "output_type": "stream",
     "text": [
      "✅ Fold 8: Test Accuracy = 99.70%\n"
     ]
    },
    {
     "name": "stderr",
     "output_type": "stream",
     "text": [
      "Epoch [17/60]: 100%|█| 282/282 [01:28<00:00,  3.18it/s, acc=99.8, loss=0.000214]\n"
     ]
    },
    {
     "name": "stdout",
     "output_type": "stream",
     "text": [
      "✅ Fold 8: Test Accuracy = 99.70%\n"
     ]
    },
    {
     "name": "stderr",
     "output_type": "stream",
     "text": [
      "Epoch [18/60]: 100%|█| 282/282 [01:28<00:00,  3.18it/s, acc=99.7, loss=0.000345]\n"
     ]
    },
    {
     "name": "stdout",
     "output_type": "stream",
     "text": [
      "✅ Fold 8: Test Accuracy = 99.80%\n"
     ]
    },
    {
     "name": "stderr",
     "output_type": "stream",
     "text": [
      "Epoch [19/60]: 100%|████| 282/282 [01:28<00:00,  3.18it/s, acc=99.4, loss=0.199]\n"
     ]
    },
    {
     "name": "stdout",
     "output_type": "stream",
     "text": [
      "✅ Fold 8: Test Accuracy = 98.90%\n"
     ]
    },
    {
     "name": "stderr",
     "output_type": "stream",
     "text": [
      "Epoch [20/60]: 100%|██| 282/282 [01:28<00:00,  3.18it/s, acc=99.5, loss=1.05e-5]\n"
     ]
    },
    {
     "name": "stdout",
     "output_type": "stream",
     "text": [
      "✅ Fold 8: Test Accuracy = 99.50%\n"
     ]
    },
    {
     "name": "stderr",
     "output_type": "stream",
     "text": [
      "Epoch [21/60]: 100%|██| 282/282 [01:28<00:00,  3.19it/s, acc=99.7, loss=4.91e-5]\n"
     ]
    },
    {
     "name": "stdout",
     "output_type": "stream",
     "text": [
      "✅ Fold 8: Test Accuracy = 99.20%\n"
     ]
    },
    {
     "name": "stderr",
     "output_type": "stream",
     "text": [
      "Epoch [22/60]: 100%|█| 282/282 [01:28<00:00,  3.18it/s, acc=99.4, loss=0.000205]\n"
     ]
    },
    {
     "name": "stdout",
     "output_type": "stream",
     "text": [
      "✅ Fold 8: Test Accuracy = 99.60%\n"
     ]
    },
    {
     "name": "stderr",
     "output_type": "stream",
     "text": [
      "Epoch [23/60]: 100%|██| 282/282 [01:28<00:00,  3.18it/s, acc=99.6, loss=6.81e-5]\n"
     ]
    },
    {
     "name": "stdout",
     "output_type": "stream",
     "text": [
      "✅ Fold 8: Test Accuracy = 99.80%\n"
     ]
    },
    {
     "name": "stderr",
     "output_type": "stream",
     "text": [
      "Epoch [24/60]: 100%|█| 282/282 [01:28<00:00,  3.18it/s, acc=99.8, loss=0.000355]\n"
     ]
    },
    {
     "name": "stdout",
     "output_type": "stream",
     "text": [
      "✅ Fold 8: Test Accuracy = 99.80%\n"
     ]
    },
    {
     "name": "stderr",
     "output_type": "stream",
     "text": [
      "Epoch [25/60]: 100%|█| 282/282 [01:28<00:00,  3.18it/s, acc=99.7, loss=0.000138]\n"
     ]
    },
    {
     "name": "stdout",
     "output_type": "stream",
     "text": [
      "✅ Fold 8: Test Accuracy = 99.10%\n"
     ]
    },
    {
     "name": "stderr",
     "output_type": "stream",
     "text": [
      "Epoch [26/60]: 100%|███| 282/282 [01:28<00:00,  3.18it/s, acc=99.4, loss=0.0016]\n"
     ]
    },
    {
     "name": "stdout",
     "output_type": "stream",
     "text": [
      "✅ Fold 8: Test Accuracy = 99.10%\n"
     ]
    },
    {
     "name": "stderr",
     "output_type": "stream",
     "text": [
      "Epoch [27/60]: 100%|██| 282/282 [01:28<00:00,  3.18it/s, acc=99.5, loss=0.00373]\n"
     ]
    },
    {
     "name": "stdout",
     "output_type": "stream",
     "text": [
      "✅ Fold 8: Test Accuracy = 99.80%\n"
     ]
    },
    {
     "name": "stderr",
     "output_type": "stream",
     "text": [
      "Epoch [28/60]: 100%|█| 282/282 [01:28<00:00,  3.18it/s, acc=99.3, loss=0.000519]\n"
     ]
    },
    {
     "name": "stdout",
     "output_type": "stream",
     "text": [
      "✅ Fold 8: Test Accuracy = 99.60%\n"
     ]
    },
    {
     "name": "stderr",
     "output_type": "stream",
     "text": [
      "Epoch [29/60]: 100%|███| 282/282 [01:28<00:00,  3.18it/s, acc=99.5, loss=0.0239]\n"
     ]
    },
    {
     "name": "stdout",
     "output_type": "stream",
     "text": [
      "✅ Fold 8: Test Accuracy = 99.50%\n"
     ]
    },
    {
     "name": "stderr",
     "output_type": "stream",
     "text": [
      "Epoch [30/60]: 100%|██| 282/282 [01:28<00:00,  3.18it/s, acc=99.8, loss=9.54e-7]\n"
     ]
    },
    {
     "name": "stdout",
     "output_type": "stream",
     "text": [
      "✅ Fold 8: Test Accuracy = 99.70%\n"
     ]
    },
    {
     "name": "stderr",
     "output_type": "stream",
     "text": [
      "Epoch [31/60]: 100%|██| 282/282 [01:28<00:00,  3.18it/s, acc=99.6, loss=0.00593]\n"
     ]
    },
    {
     "name": "stdout",
     "output_type": "stream",
     "text": [
      "✅ Fold 8: Test Accuracy = 99.30%\n"
     ]
    },
    {
     "name": "stderr",
     "output_type": "stream",
     "text": [
      "Epoch [32/60]: 100%|███| 282/282 [01:28<00:00,  3.18it/s, acc=99.3, loss=0.0231]\n"
     ]
    },
    {
     "name": "stdout",
     "output_type": "stream",
     "text": [
      "✅ Fold 8: Test Accuracy = 99.10%\n"
     ]
    },
    {
     "name": "stderr",
     "output_type": "stream",
     "text": [
      "Epoch [33/60]: 100%|███| 282/282 [01:28<00:00,  3.18it/s, acc=99.7, loss=0.0289]\n"
     ]
    },
    {
     "name": "stdout",
     "output_type": "stream",
     "text": [
      "✅ Fold 8: Test Accuracy = 99.90%\n"
     ]
    },
    {
     "name": "stderr",
     "output_type": "stream",
     "text": [
      "Epoch [34/60]: 100%|█| 282/282 [01:28<00:00,  3.18it/s, acc=99.3, loss=0.000655]\n"
     ]
    },
    {
     "name": "stdout",
     "output_type": "stream",
     "text": [
      "✅ Fold 8: Test Accuracy = 99.00%\n"
     ]
    },
    {
     "name": "stderr",
     "output_type": "stream",
     "text": [
      "Epoch [35/60]: 100%|█| 282/282 [01:28<00:00,  3.18it/s, acc=99.4, loss=0.000743]\n"
     ]
    },
    {
     "name": "stdout",
     "output_type": "stream",
     "text": [
      "✅ Fold 8: Test Accuracy = 99.20%\n"
     ]
    },
    {
     "name": "stderr",
     "output_type": "stream",
     "text": [
      "Epoch [36/60]: 100%|█| 282/282 [01:28<00:00,  3.18it/s, acc=99.6, loss=0.000139]\n"
     ]
    },
    {
     "name": "stdout",
     "output_type": "stream",
     "text": [
      "✅ Fold 8: Test Accuracy = 99.70%\n"
     ]
    },
    {
     "name": "stderr",
     "output_type": "stream",
     "text": [
      "Epoch [37/60]: 100%|██| 282/282 [01:28<00:00,  3.18it/s, acc=99.8, loss=2.57e-6]\n"
     ]
    },
    {
     "name": "stdout",
     "output_type": "stream",
     "text": [
      "✅ Fold 8: Test Accuracy = 99.30%\n"
     ]
    },
    {
     "name": "stderr",
     "output_type": "stream",
     "text": [
      "Epoch [38/60]: 100%|███| 282/282 [01:28<00:00,  3.18it/s, acc=99.9, loss=8.1e-6]\n"
     ]
    },
    {
     "name": "stdout",
     "output_type": "stream",
     "text": [
      "✅ Fold 8: Test Accuracy = 99.90%\n"
     ]
    },
    {
     "name": "stderr",
     "output_type": "stream",
     "text": [
      "Epoch [39/60]: 100%|███| 282/282 [01:28<00:00,  3.18it/s, acc=99.7, loss=0.0659]\n"
     ]
    },
    {
     "name": "stdout",
     "output_type": "stream",
     "text": [
      "✅ Fold 8: Test Accuracy = 99.10%\n"
     ]
    },
    {
     "name": "stderr",
     "output_type": "stream",
     "text": [
      "Epoch [40/60]: 100%|██| 282/282 [01:28<00:00,  3.18it/s, acc=99.3, loss=0.00528]\n"
     ]
    },
    {
     "name": "stdout",
     "output_type": "stream",
     "text": [
      "✅ Fold 8: Test Accuracy = 99.70%\n"
     ]
    },
    {
     "name": "stderr",
     "output_type": "stream",
     "text": [
      "Epoch [41/60]: 100%|███| 282/282 [01:28<00:00,  3.18it/s, acc=99.7, loss=0.0846]\n"
     ]
    },
    {
     "name": "stdout",
     "output_type": "stream",
     "text": [
      "✅ Fold 8: Test Accuracy = 99.30%\n"
     ]
    },
    {
     "name": "stderr",
     "output_type": "stream",
     "text": [
      "Epoch [42/60]: 100%|██| 282/282 [01:28<00:00,  3.18it/s, acc=99.7, loss=2.65e-5]\n"
     ]
    },
    {
     "name": "stdout",
     "output_type": "stream",
     "text": [
      "✅ Fold 8: Test Accuracy = 98.90%\n"
     ]
    },
    {
     "name": "stderr",
     "output_type": "stream",
     "text": [
      "Epoch [43/60]: 100%|██| 282/282 [01:28<00:00,  3.18it/s, acc=99.7, loss=0.00123]\n"
     ]
    },
    {
     "name": "stdout",
     "output_type": "stream",
     "text": [
      "✅ Fold 8: Test Accuracy = 98.80%\n"
     ]
    },
    {
     "name": "stderr",
     "output_type": "stream",
     "text": [
      "Epoch [44/60]: 100%|█| 282/282 [01:28<00:00,  3.18it/s, acc=99.5, loss=0.000299]\n"
     ]
    },
    {
     "name": "stdout",
     "output_type": "stream",
     "text": [
      "✅ Fold 8: Test Accuracy = 99.00%\n"
     ]
    },
    {
     "name": "stderr",
     "output_type": "stream",
     "text": [
      "Epoch [45/60]: 100%|█| 282/282 [01:28<00:00,  3.18it/s, acc=99.4, loss=0.000819]\n"
     ]
    },
    {
     "name": "stdout",
     "output_type": "stream",
     "text": [
      "✅ Fold 8: Test Accuracy = 99.50%\n"
     ]
    },
    {
     "name": "stderr",
     "output_type": "stream",
     "text": [
      "Epoch [46/60]: 100%|█| 282/282 [01:28<00:00,  3.18it/s, acc=99.5, loss=0.000125]\n"
     ]
    },
    {
     "name": "stdout",
     "output_type": "stream",
     "text": [
      "✅ Fold 8: Test Accuracy = 99.80%\n"
     ]
    },
    {
     "name": "stderr",
     "output_type": "stream",
     "text": [
      "Epoch [47/60]: 100%|██| 282/282 [01:28<00:00,  3.18it/s, acc=99.5, loss=4.76e-6]\n"
     ]
    },
    {
     "name": "stdout",
     "output_type": "stream",
     "text": [
      "✅ Fold 8: Test Accuracy = 99.60%\n"
     ]
    },
    {
     "name": "stderr",
     "output_type": "stream",
     "text": [
      "Epoch [48/60]: 100%|██| 282/282 [01:28<00:00,  3.18it/s, acc=99.7, loss=0.00142]\n"
     ]
    },
    {
     "name": "stdout",
     "output_type": "stream",
     "text": [
      "✅ Fold 8: Test Accuracy = 99.40%\n"
     ]
    },
    {
     "name": "stderr",
     "output_type": "stream",
     "text": [
      "Epoch [49/60]: 100%|██| 282/282 [01:28<00:00,  3.18it/s, acc=99.7, loss=0.00299]\n"
     ]
    },
    {
     "name": "stdout",
     "output_type": "stream",
     "text": [
      "✅ Fold 8: Test Accuracy = 99.40%\n"
     ]
    },
    {
     "name": "stderr",
     "output_type": "stream",
     "text": [
      "Epoch [50/60]: 100%|███| 282/282 [01:28<00:00,  3.18it/s, acc=99.6, loss=0.0136]\n"
     ]
    },
    {
     "name": "stdout",
     "output_type": "stream",
     "text": [
      "✅ Fold 8: Test Accuracy = 98.90%\n"
     ]
    },
    {
     "name": "stderr",
     "output_type": "stream",
     "text": [
      "Epoch [51/60]: 100%|███████| 282/282 [01:28<00:00,  3.18it/s, acc=99, loss=0.27]\n"
     ]
    },
    {
     "name": "stdout",
     "output_type": "stream",
     "text": [
      "✅ Fold 8: Test Accuracy = 99.40%\n"
     ]
    },
    {
     "name": "stderr",
     "output_type": "stream",
     "text": [
      "Epoch [52/60]: 100%|██| 282/282 [01:28<00:00,  3.18it/s, acc=99.6, loss=3.96e-5]\n"
     ]
    },
    {
     "name": "stdout",
     "output_type": "stream",
     "text": [
      "✅ Fold 8: Test Accuracy = 98.50%\n"
     ]
    },
    {
     "name": "stderr",
     "output_type": "stream",
     "text": [
      "Epoch [53/60]: 100%|██| 282/282 [01:28<00:00,  3.18it/s, acc=99.7, loss=0.00171]\n"
     ]
    },
    {
     "name": "stdout",
     "output_type": "stream",
     "text": [
      "✅ Fold 8: Test Accuracy = 99.30%\n"
     ]
    },
    {
     "name": "stderr",
     "output_type": "stream",
     "text": [
      "Epoch [54/60]: 100%|████| 282/282 [01:28<00:00,  3.18it/s, acc=99.7, loss=0.594]\n"
     ]
    },
    {
     "name": "stdout",
     "output_type": "stream",
     "text": [
      "✅ Fold 8: Test Accuracy = 99.30%\n"
     ]
    },
    {
     "name": "stderr",
     "output_type": "stream",
     "text": [
      "Epoch [55/60]: 100%|██| 282/282 [01:28<00:00,  3.17it/s, acc=99.2, loss=0.00636]\n"
     ]
    },
    {
     "name": "stdout",
     "output_type": "stream",
     "text": [
      "✅ Fold 8: Test Accuracy = 99.00%\n"
     ]
    },
    {
     "name": "stderr",
     "output_type": "stream",
     "text": [
      "Epoch [56/60]: 100%|██| 282/282 [01:28<00:00,  3.18it/s, acc=99.4, loss=0.00333]\n"
     ]
    },
    {
     "name": "stdout",
     "output_type": "stream",
     "text": [
      "✅ Fold 8: Test Accuracy = 98.70%\n"
     ]
    },
    {
     "name": "stderr",
     "output_type": "stream",
     "text": [
      "Epoch [57/60]: 100%|█| 282/282 [01:28<00:00,  3.18it/s, acc=99.6, loss=0.000356]\n"
     ]
    },
    {
     "name": "stdout",
     "output_type": "stream",
     "text": [
      "✅ Fold 8: Test Accuracy = 99.00%\n"
     ]
    },
    {
     "name": "stderr",
     "output_type": "stream",
     "text": [
      "Epoch [58/60]: 100%|█| 282/282 [01:28<00:00,  3.18it/s, acc=99.8, loss=0.000745]\n"
     ]
    },
    {
     "name": "stdout",
     "output_type": "stream",
     "text": [
      "✅ Fold 8: Test Accuracy = 99.00%\n"
     ]
    },
    {
     "name": "stderr",
     "output_type": "stream",
     "text": [
      "Epoch [59/60]: 100%|██| 282/282 [01:28<00:00,  3.18it/s, acc=99.7, loss=4.99e-6]\n"
     ]
    },
    {
     "name": "stdout",
     "output_type": "stream",
     "text": [
      "✅ Fold 8: Test Accuracy = 99.00%\n"
     ]
    },
    {
     "name": "stderr",
     "output_type": "stream",
     "text": [
      "Epoch [60/60]: 100%|█| 282/282 [01:28<00:00,  3.18it/s, acc=99.6, loss=0.000333]\n"
     ]
    },
    {
     "name": "stdout",
     "output_type": "stream",
     "text": [
      "✅ Fold 8: Test Accuracy = 99.10%\n",
      "\n",
      "🚀 Training Fold 9/10\n"
     ]
    },
    {
     "name": "stderr",
     "output_type": "stream",
     "text": [
      "Epoch [1/60]: 100%|████| 282/282 [01:28<00:00,  3.18it/s, acc=95.8, loss=0.0054]\n"
     ]
    },
    {
     "name": "stdout",
     "output_type": "stream",
     "text": [
      "✅ Fold 9: Test Accuracy = 99.90%\n",
      "🎯 New best model saved with accuracy: 99.90%\n"
     ]
    },
    {
     "name": "stderr",
     "output_type": "stream",
     "text": [
      "Epoch [2/60]: 100%|███| 282/282 [01:28<00:00,  3.18it/s, acc=99.5, loss=6.01e-5]\n"
     ]
    },
    {
     "name": "stdout",
     "output_type": "stream",
     "text": [
      "✅ Fold 9: Test Accuracy = 100.00%\n",
      "🎯 New best model saved with accuracy: 100.00%\n"
     ]
    },
    {
     "name": "stderr",
     "output_type": "stream",
     "text": [
      "Epoch [3/60]: 100%|██| 282/282 [01:28<00:00,  3.19it/s, acc=99.6, loss=0.000203]\n"
     ]
    },
    {
     "name": "stdout",
     "output_type": "stream",
     "text": [
      "✅ Fold 9: Test Accuracy = 99.00%\n"
     ]
    },
    {
     "name": "stderr",
     "output_type": "stream",
     "text": [
      "Epoch [4/60]: 100%|████| 282/282 [01:28<00:00,  3.18it/s, acc=99.6, loss=0.0421]\n"
     ]
    },
    {
     "name": "stdout",
     "output_type": "stream",
     "text": [
      "✅ Fold 9: Test Accuracy = 99.90%\n"
     ]
    },
    {
     "name": "stderr",
     "output_type": "stream",
     "text": [
      "Epoch [5/60]: 100%|███| 282/282 [01:28<00:00,  3.18it/s, acc=99.7, loss=0.00158]\n"
     ]
    },
    {
     "name": "stdout",
     "output_type": "stream",
     "text": [
      "✅ Fold 9: Test Accuracy = 99.80%\n"
     ]
    },
    {
     "name": "stderr",
     "output_type": "stream",
     "text": [
      "Epoch [6/60]: 100%|███| 282/282 [01:28<00:00,  3.18it/s, acc=99.2, loss=0.00175]\n"
     ]
    },
    {
     "name": "stdout",
     "output_type": "stream",
     "text": [
      "✅ Fold 9: Test Accuracy = 99.60%\n"
     ]
    },
    {
     "name": "stderr",
     "output_type": "stream",
     "text": [
      "Epoch [7/60]: 100%|███| 282/282 [01:28<00:00,  3.18it/s, acc=99.5, loss=0.00324]\n"
     ]
    },
    {
     "name": "stdout",
     "output_type": "stream",
     "text": [
      "✅ Fold 9: Test Accuracy = 99.20%\n"
     ]
    },
    {
     "name": "stderr",
     "output_type": "stream",
     "text": [
      "Epoch [8/60]: 100%|███| 282/282 [01:28<00:00,  3.18it/s, acc=99.7, loss=4.38e-5]\n"
     ]
    },
    {
     "name": "stdout",
     "output_type": "stream",
     "text": [
      "✅ Fold 9: Test Accuracy = 99.80%\n"
     ]
    },
    {
     "name": "stderr",
     "output_type": "stream",
     "text": [
      "Epoch [9/60]: 100%|████| 282/282 [01:28<00:00,  3.18it/s, acc=99.7, loss=0.0002]\n"
     ]
    },
    {
     "name": "stdout",
     "output_type": "stream",
     "text": [
      "✅ Fold 9: Test Accuracy = 99.90%\n"
     ]
    },
    {
     "name": "stderr",
     "output_type": "stream",
     "text": [
      "Epoch [10/60]: 100%|█████| 282/282 [01:28<00:00,  3.18it/s, acc=99.6, loss=0.02]\n"
     ]
    },
    {
     "name": "stdout",
     "output_type": "stream",
     "text": [
      "✅ Fold 9: Test Accuracy = 99.60%\n"
     ]
    },
    {
     "name": "stderr",
     "output_type": "stream",
     "text": [
      "Epoch [11/60]: 100%|█| 282/282 [01:28<00:00,  3.18it/s, acc=99.2, loss=0.000734]\n"
     ]
    },
    {
     "name": "stdout",
     "output_type": "stream",
     "text": [
      "✅ Fold 9: Test Accuracy = 99.80%\n"
     ]
    },
    {
     "name": "stderr",
     "output_type": "stream",
     "text": [
      "Epoch [12/60]: 100%|█| 282/282 [01:28<00:00,  3.18it/s, acc=99.7, loss=0.000311]\n"
     ]
    },
    {
     "name": "stdout",
     "output_type": "stream",
     "text": [
      "✅ Fold 9: Test Accuracy = 99.50%\n"
     ]
    },
    {
     "name": "stderr",
     "output_type": "stream",
     "text": [
      "Epoch [13/60]: 100%|███| 282/282 [01:28<00:00,  3.18it/s, acc=99.5, loss=0.0399]\n"
     ]
    },
    {
     "name": "stdout",
     "output_type": "stream",
     "text": [
      "✅ Fold 9: Test Accuracy = 98.30%\n"
     ]
    },
    {
     "name": "stderr",
     "output_type": "stream",
     "text": [
      "Epoch [14/60]: 100%|█| 282/282 [01:28<00:00,  3.18it/s, acc=99.4, loss=0.000522]\n"
     ]
    },
    {
     "name": "stdout",
     "output_type": "stream",
     "text": [
      "✅ Fold 9: Test Accuracy = 99.80%\n"
     ]
    },
    {
     "name": "stderr",
     "output_type": "stream",
     "text": [
      "Epoch [15/60]: 100%|███| 282/282 [01:28<00:00,  3.18it/s, acc=99.6, loss=0.0205]\n"
     ]
    },
    {
     "name": "stdout",
     "output_type": "stream",
     "text": [
      "✅ Fold 9: Test Accuracy = 99.90%\n"
     ]
    },
    {
     "name": "stderr",
     "output_type": "stream",
     "text": [
      "Epoch [16/60]: 100%|██| 282/282 [01:28<00:00,  3.18it/s, acc=99.7, loss=0.00236]\n"
     ]
    },
    {
     "name": "stdout",
     "output_type": "stream",
     "text": [
      "✅ Fold 9: Test Accuracy = 99.80%\n"
     ]
    },
    {
     "name": "stderr",
     "output_type": "stream",
     "text": [
      "Epoch [17/60]: 100%|█| 282/282 [01:28<00:00,  3.18it/s, acc=99.3, loss=0.000203]\n"
     ]
    },
    {
     "name": "stdout",
     "output_type": "stream",
     "text": [
      "✅ Fold 9: Test Accuracy = 99.90%\n"
     ]
    },
    {
     "name": "stderr",
     "output_type": "stream",
     "text": [
      "Epoch [18/60]: 100%|███| 282/282 [01:28<00:00,  3.18it/s, acc=99.6, loss=0.0856]\n"
     ]
    },
    {
     "name": "stdout",
     "output_type": "stream",
     "text": [
      "✅ Fold 9: Test Accuracy = 99.70%\n"
     ]
    },
    {
     "name": "stderr",
     "output_type": "stream",
     "text": [
      "Epoch [19/60]: 100%|███| 282/282 [01:28<00:00,  3.18it/s, acc=99.8, loss=0.0232]\n"
     ]
    },
    {
     "name": "stdout",
     "output_type": "stream",
     "text": [
      "✅ Fold 9: Test Accuracy = 99.30%\n"
     ]
    },
    {
     "name": "stderr",
     "output_type": "stream",
     "text": [
      "Epoch [20/60]: 100%|██| 282/282 [01:28<00:00,  3.18it/s, acc=99.8, loss=0.00241]\n"
     ]
    },
    {
     "name": "stdout",
     "output_type": "stream",
     "text": [
      "✅ Fold 9: Test Accuracy = 99.80%\n"
     ]
    },
    {
     "name": "stderr",
     "output_type": "stream",
     "text": [
      "Epoch [21/60]: 100%|███| 282/282 [01:28<00:00,  3.18it/s, acc=99.5, loss=0.0023]\n"
     ]
    },
    {
     "name": "stdout",
     "output_type": "stream",
     "text": [
      "✅ Fold 9: Test Accuracy = 99.60%\n"
     ]
    },
    {
     "name": "stderr",
     "output_type": "stream",
     "text": [
      "Epoch [22/60]: 100%|█| 282/282 [01:28<00:00,  3.18it/s, acc=99.8, loss=0.000212]\n"
     ]
    },
    {
     "name": "stdout",
     "output_type": "stream",
     "text": [
      "✅ Fold 9: Test Accuracy = 99.70%\n"
     ]
    },
    {
     "name": "stderr",
     "output_type": "stream",
     "text": [
      "Epoch [23/60]: 100%|██| 282/282 [01:28<00:00,  3.18it/s, acc=99.4, loss=0.00268]\n"
     ]
    },
    {
     "name": "stdout",
     "output_type": "stream",
     "text": [
      "✅ Fold 9: Test Accuracy = 99.70%\n"
     ]
    },
    {
     "name": "stderr",
     "output_type": "stream",
     "text": [
      "Epoch [24/60]: 100%|███| 282/282 [01:28<00:00,  3.18it/s, acc=99.4, loss=0.0322]\n"
     ]
    },
    {
     "name": "stdout",
     "output_type": "stream",
     "text": [
      "✅ Fold 9: Test Accuracy = 98.80%\n"
     ]
    },
    {
     "name": "stderr",
     "output_type": "stream",
     "text": [
      "Epoch [25/60]: 100%|████| 282/282 [01:28<00:00,  3.18it/s, acc=99.6, loss=0.016]\n"
     ]
    },
    {
     "name": "stdout",
     "output_type": "stream",
     "text": [
      "✅ Fold 9: Test Accuracy = 98.50%\n"
     ]
    },
    {
     "name": "stderr",
     "output_type": "stream",
     "text": [
      "Epoch [26/60]: 100%|███| 282/282 [01:28<00:00,  3.18it/s, acc=99.6, loss=0.0701]\n"
     ]
    },
    {
     "name": "stdout",
     "output_type": "stream",
     "text": [
      "✅ Fold 9: Test Accuracy = 98.10%\n"
     ]
    },
    {
     "name": "stderr",
     "output_type": "stream",
     "text": [
      "Epoch [27/60]: 100%|██| 282/282 [01:28<00:00,  3.18it/s, acc=99.5, loss=1.85e-6]\n"
     ]
    },
    {
     "name": "stdout",
     "output_type": "stream",
     "text": [
      "✅ Fold 9: Test Accuracy = 99.40%\n"
     ]
    },
    {
     "name": "stderr",
     "output_type": "stream",
     "text": [
      "Epoch [28/60]: 100%|██| 282/282 [01:28<00:00,  3.18it/s, acc=99.7, loss=0.00492]\n"
     ]
    },
    {
     "name": "stdout",
     "output_type": "stream",
     "text": [
      "✅ Fold 9: Test Accuracy = 99.80%\n"
     ]
    },
    {
     "name": "stderr",
     "output_type": "stream",
     "text": [
      "Epoch [29/60]: 100%|██| 282/282 [01:28<00:00,  3.18it/s, acc=99.7, loss=7.84e-5]\n"
     ]
    },
    {
     "name": "stdout",
     "output_type": "stream",
     "text": [
      "✅ Fold 9: Test Accuracy = 99.60%\n"
     ]
    },
    {
     "name": "stderr",
     "output_type": "stream",
     "text": [
      "Epoch [30/60]: 100%|█| 282/282 [01:28<00:00,  3.18it/s, acc=99.7, loss=0.000601]\n"
     ]
    },
    {
     "name": "stdout",
     "output_type": "stream",
     "text": [
      "✅ Fold 9: Test Accuracy = 99.50%\n"
     ]
    },
    {
     "name": "stderr",
     "output_type": "stream",
     "text": [
      "Epoch [31/60]: 100%|███| 282/282 [01:28<00:00,  3.18it/s, acc=99.6, loss=0.0195]\n"
     ]
    },
    {
     "name": "stdout",
     "output_type": "stream",
     "text": [
      "✅ Fold 9: Test Accuracy = 99.60%\n"
     ]
    },
    {
     "name": "stderr",
     "output_type": "stream",
     "text": [
      "Epoch [32/60]: 100%|██| 282/282 [01:28<00:00,  3.18it/s, acc=99.7, loss=3.51e-5]\n"
     ]
    },
    {
     "name": "stdout",
     "output_type": "stream",
     "text": [
      "✅ Fold 9: Test Accuracy = 99.80%\n"
     ]
    },
    {
     "name": "stderr",
     "output_type": "stream",
     "text": [
      "Epoch [33/60]: 100%|███| 282/282 [01:28<00:00,  3.18it/s, acc=99.5, loss=0.0124]\n"
     ]
    },
    {
     "name": "stdout",
     "output_type": "stream",
     "text": [
      "✅ Fold 9: Test Accuracy = 99.60%\n"
     ]
    },
    {
     "name": "stderr",
     "output_type": "stream",
     "text": [
      "Epoch [34/60]: 100%|██| 282/282 [01:28<00:00,  3.18it/s, acc=99.7, loss=8.37e-5]\n"
     ]
    },
    {
     "name": "stdout",
     "output_type": "stream",
     "text": [
      "✅ Fold 9: Test Accuracy = 99.60%\n"
     ]
    },
    {
     "name": "stderr",
     "output_type": "stream",
     "text": [
      "Epoch [35/60]: 100%|█| 282/282 [01:28<00:00,  3.18it/s, acc=99.9, loss=0.000561]\n"
     ]
    },
    {
     "name": "stdout",
     "output_type": "stream",
     "text": [
      "✅ Fold 9: Test Accuracy = 99.40%\n"
     ]
    },
    {
     "name": "stderr",
     "output_type": "stream",
     "text": [
      "Epoch [36/60]: 100%|█| 282/282 [01:28<00:00,  3.18it/s, acc=99.7, loss=0.000572]\n"
     ]
    },
    {
     "name": "stdout",
     "output_type": "stream",
     "text": [
      "✅ Fold 9: Test Accuracy = 99.30%\n"
     ]
    },
    {
     "name": "stderr",
     "output_type": "stream",
     "text": [
      "Epoch [37/60]: 100%|███| 282/282 [01:28<00:00,  3.18it/s, acc=99.7, loss=0.0049]\n"
     ]
    },
    {
     "name": "stdout",
     "output_type": "stream",
     "text": [
      "✅ Fold 9: Test Accuracy = 99.00%\n"
     ]
    },
    {
     "name": "stderr",
     "output_type": "stream",
     "text": [
      "Epoch [38/60]: 100%|█| 282/282 [01:28<00:00,  3.18it/s, acc=99.7, loss=0.000376]\n"
     ]
    },
    {
     "name": "stdout",
     "output_type": "stream",
     "text": [
      "✅ Fold 9: Test Accuracy = 99.30%\n"
     ]
    },
    {
     "name": "stderr",
     "output_type": "stream",
     "text": [
      "Epoch [39/60]: 100%|███| 282/282 [01:28<00:00,  3.18it/s, acc=99.5, loss=0.0209]\n"
     ]
    },
    {
     "name": "stdout",
     "output_type": "stream",
     "text": [
      "✅ Fold 9: Test Accuracy = 98.30%\n"
     ]
    },
    {
     "name": "stderr",
     "output_type": "stream",
     "text": [
      "Epoch [40/60]: 100%|██| 282/282 [01:28<00:00,  3.18it/s, acc=99.7, loss=0.00277]\n"
     ]
    },
    {
     "name": "stdout",
     "output_type": "stream",
     "text": [
      "✅ Fold 9: Test Accuracy = 99.50%\n"
     ]
    },
    {
     "name": "stderr",
     "output_type": "stream",
     "text": [
      "Epoch [41/60]: 100%|███| 282/282 [01:28<00:00,  3.18it/s, acc=99.5, loss=0.0584]\n"
     ]
    },
    {
     "name": "stdout",
     "output_type": "stream",
     "text": [
      "✅ Fold 9: Test Accuracy = 99.00%\n"
     ]
    },
    {
     "name": "stderr",
     "output_type": "stream",
     "text": [
      "Epoch [42/60]: 100%|███| 282/282 [01:28<00:00,  3.18it/s, acc=99.3, loss=0.0439]\n"
     ]
    },
    {
     "name": "stdout",
     "output_type": "stream",
     "text": [
      "✅ Fold 9: Test Accuracy = 98.80%\n"
     ]
    },
    {
     "name": "stderr",
     "output_type": "stream",
     "text": [
      "Epoch [43/60]: 100%|██| 282/282 [01:28<00:00,  3.18it/s, acc=99.7, loss=0.00315]\n"
     ]
    },
    {
     "name": "stdout",
     "output_type": "stream",
     "text": [
      "✅ Fold 9: Test Accuracy = 98.00%\n"
     ]
    },
    {
     "name": "stderr",
     "output_type": "stream",
     "text": [
      "Epoch [44/60]: 100%|█| 282/282 [01:28<00:00,  3.18it/s, acc=99.7, loss=0.000231]\n"
     ]
    },
    {
     "name": "stdout",
     "output_type": "stream",
     "text": [
      "✅ Fold 9: Test Accuracy = 99.60%\n"
     ]
    },
    {
     "name": "stderr",
     "output_type": "stream",
     "text": [
      "Epoch [45/60]: 100%|██| 282/282 [01:28<00:00,  3.18it/s, acc=99.6, loss=0.00261]\n"
     ]
    },
    {
     "name": "stdout",
     "output_type": "stream",
     "text": [
      "✅ Fold 9: Test Accuracy = 99.10%\n"
     ]
    },
    {
     "name": "stderr",
     "output_type": "stream",
     "text": [
      "Epoch [46/60]: 100%|█| 282/282 [01:28<00:00,  3.18it/s, acc=99.8, loss=0.000132]\n"
     ]
    },
    {
     "name": "stdout",
     "output_type": "stream",
     "text": [
      "✅ Fold 9: Test Accuracy = 98.60%\n"
     ]
    },
    {
     "name": "stderr",
     "output_type": "stream",
     "text": [
      "Epoch [47/60]: 100%|████| 282/282 [01:28<00:00,  3.18it/s, acc=99.3, loss=0.147]\n"
     ]
    },
    {
     "name": "stdout",
     "output_type": "stream",
     "text": [
      "✅ Fold 9: Test Accuracy = 99.40%\n"
     ]
    },
    {
     "name": "stderr",
     "output_type": "stream",
     "text": [
      "Epoch [48/60]: 100%|██| 282/282 [01:28<00:00,  3.18it/s, acc=99.6, loss=2.26e-5]\n"
     ]
    },
    {
     "name": "stdout",
     "output_type": "stream",
     "text": [
      "✅ Fold 9: Test Accuracy = 99.20%\n"
     ]
    },
    {
     "name": "stderr",
     "output_type": "stream",
     "text": [
      "Epoch [49/60]: 100%|█| 282/282 [01:28<00:00,  3.18it/s, acc=99.7, loss=0.000423]\n"
     ]
    },
    {
     "name": "stdout",
     "output_type": "stream",
     "text": [
      "✅ Fold 9: Test Accuracy = 99.20%\n"
     ]
    },
    {
     "name": "stderr",
     "output_type": "stream",
     "text": [
      "Epoch [50/60]: 100%|██| 282/282 [01:28<00:00,  3.18it/s, acc=99.5, loss=0.00777]\n"
     ]
    },
    {
     "name": "stdout",
     "output_type": "stream",
     "text": [
      "✅ Fold 9: Test Accuracy = 99.50%\n"
     ]
    },
    {
     "name": "stderr",
     "output_type": "stream",
     "text": [
      "Epoch [51/60]: 100%|██| 282/282 [01:28<00:00,  3.18it/s, acc=99.4, loss=0.00663]\n"
     ]
    },
    {
     "name": "stdout",
     "output_type": "stream",
     "text": [
      "✅ Fold 9: Test Accuracy = 99.60%\n"
     ]
    },
    {
     "name": "stderr",
     "output_type": "stream",
     "text": [
      "Epoch [52/60]: 100%|█| 282/282 [01:28<00:00,  3.18it/s, acc=99.6, loss=0.000119]\n"
     ]
    },
    {
     "name": "stdout",
     "output_type": "stream",
     "text": [
      "✅ Fold 9: Test Accuracy = 99.50%\n"
     ]
    },
    {
     "name": "stderr",
     "output_type": "stream",
     "text": [
      "Epoch [53/60]: 100%|████| 282/282 [01:28<00:00,  3.18it/s, acc=99.5, loss=0.032]\n"
     ]
    },
    {
     "name": "stdout",
     "output_type": "stream",
     "text": [
      "✅ Fold 9: Test Accuracy = 99.20%\n"
     ]
    },
    {
     "name": "stderr",
     "output_type": "stream",
     "text": [
      "Epoch [54/60]: 100%|█| 282/282 [01:28<00:00,  3.18it/s, acc=99.6, loss=0.000131]\n"
     ]
    },
    {
     "name": "stdout",
     "output_type": "stream",
     "text": [
      "✅ Fold 9: Test Accuracy = 99.60%\n"
     ]
    },
    {
     "name": "stderr",
     "output_type": "stream",
     "text": [
      "Epoch [55/60]: 100%|█| 282/282 [01:28<00:00,  3.18it/s, acc=99.6, loss=0.000589]\n"
     ]
    },
    {
     "name": "stdout",
     "output_type": "stream",
     "text": [
      "✅ Fold 9: Test Accuracy = 99.40%\n"
     ]
    },
    {
     "name": "stderr",
     "output_type": "stream",
     "text": [
      "Epoch [56/60]: 100%|██| 282/282 [01:28<00:00,  3.18it/s, acc=99.5, loss=9.36e-5]\n"
     ]
    },
    {
     "name": "stdout",
     "output_type": "stream",
     "text": [
      "✅ Fold 9: Test Accuracy = 99.40%\n"
     ]
    },
    {
     "name": "stderr",
     "output_type": "stream",
     "text": [
      "Epoch [57/60]: 100%|█| 282/282 [01:28<00:00,  3.18it/s, acc=99.6, loss=0.000304]\n"
     ]
    },
    {
     "name": "stdout",
     "output_type": "stream",
     "text": [
      "✅ Fold 9: Test Accuracy = 99.70%\n"
     ]
    },
    {
     "name": "stderr",
     "output_type": "stream",
     "text": [
      "Epoch [58/60]: 100%|██| 282/282 [01:28<00:00,  3.18it/s, acc=99.8, loss=0.00199]\n"
     ]
    },
    {
     "name": "stdout",
     "output_type": "stream",
     "text": [
      "✅ Fold 9: Test Accuracy = 99.00%\n"
     ]
    },
    {
     "name": "stderr",
     "output_type": "stream",
     "text": [
      "Epoch [59/60]: 100%|██| 282/282 [01:28<00:00,  3.18it/s, acc=99.8, loss=8.55e-5]\n"
     ]
    },
    {
     "name": "stdout",
     "output_type": "stream",
     "text": [
      "✅ Fold 9: Test Accuracy = 99.00%\n"
     ]
    },
    {
     "name": "stderr",
     "output_type": "stream",
     "text": [
      "Epoch [60/60]: 100%|████| 282/282 [01:28<00:00,  3.18it/s, acc=99, loss=0.00739]\n"
     ]
    },
    {
     "name": "stdout",
     "output_type": "stream",
     "text": [
      "✅ Fold 9: Test Accuracy = 97.70%\n",
      "\n",
      "🚀 Training Fold 10/10\n"
     ]
    },
    {
     "name": "stderr",
     "output_type": "stream",
     "text": [
      "Epoch [1/60]: 100%|█████| 282/282 [01:28<00:00,  3.18it/s, acc=94.2, loss=0.124]\n"
     ]
    },
    {
     "name": "stdout",
     "output_type": "stream",
     "text": [
      "✅ Fold 10: Test Accuracy = 99.70%\n",
      "🎯 New best model saved with accuracy: 99.70%\n"
     ]
    },
    {
     "name": "stderr",
     "output_type": "stream",
     "text": [
      "Epoch [2/60]: 100%|██| 282/282 [01:28<00:00,  3.18it/s, acc=99.7, loss=0.000152]\n"
     ]
    },
    {
     "name": "stdout",
     "output_type": "stream",
     "text": [
      "✅ Fold 10: Test Accuracy = 100.00%\n",
      "🎯 New best model saved with accuracy: 100.00%\n"
     ]
    },
    {
     "name": "stderr",
     "output_type": "stream",
     "text": [
      "Epoch [3/60]: 100%|██| 282/282 [01:28<00:00,  3.19it/s, acc=99.5, loss=0.000102]\n"
     ]
    },
    {
     "name": "stdout",
     "output_type": "stream",
     "text": [
      "✅ Fold 10: Test Accuracy = 99.80%\n"
     ]
    },
    {
     "name": "stderr",
     "output_type": "stream",
     "text": [
      "Epoch [4/60]: 100%|███| 282/282 [01:28<00:00,  3.18it/s, acc=99.7, loss=1.54e-5]\n"
     ]
    },
    {
     "name": "stdout",
     "output_type": "stream",
     "text": [
      "✅ Fold 10: Test Accuracy = 99.80%\n"
     ]
    },
    {
     "name": "stderr",
     "output_type": "stream",
     "text": [
      "Epoch [5/60]: 100%|██| 282/282 [01:28<00:00,  3.18it/s, acc=99.7, loss=0.000318]\n"
     ]
    },
    {
     "name": "stdout",
     "output_type": "stream",
     "text": [
      "✅ Fold 10: Test Accuracy = 99.70%\n"
     ]
    },
    {
     "name": "stderr",
     "output_type": "stream",
     "text": [
      "Epoch [6/60]: 100%|███| 282/282 [01:28<00:00,  3.18it/s, acc=99.6, loss=0.00115]\n"
     ]
    },
    {
     "name": "stdout",
     "output_type": "stream",
     "text": [
      "✅ Fold 10: Test Accuracy = 99.90%\n"
     ]
    },
    {
     "name": "stderr",
     "output_type": "stream",
     "text": [
      "Epoch [7/60]: 100%|██| 282/282 [01:28<00:00,  3.18it/s, acc=99.5, loss=0.000121]\n"
     ]
    },
    {
     "name": "stdout",
     "output_type": "stream",
     "text": [
      "✅ Fold 10: Test Accuracy = 100.00%\n"
     ]
    },
    {
     "name": "stderr",
     "output_type": "stream",
     "text": [
      "Epoch [8/60]: 100%|████| 282/282 [01:28<00:00,  3.18it/s, acc=99.6, loss=0.0139]\n"
     ]
    },
    {
     "name": "stdout",
     "output_type": "stream",
     "text": [
      "✅ Fold 10: Test Accuracy = 99.60%\n"
     ]
    },
    {
     "name": "stderr",
     "output_type": "stream",
     "text": [
      "Epoch [9/60]: 100%|███| 282/282 [01:28<00:00,  3.18it/s, acc=99.4, loss=1.85e-5]\n"
     ]
    },
    {
     "name": "stdout",
     "output_type": "stream",
     "text": [
      "✅ Fold 10: Test Accuracy = 99.80%\n"
     ]
    },
    {
     "name": "stderr",
     "output_type": "stream",
     "text": [
      "Epoch [10/60]: 100%|██| 282/282 [01:28<00:00,  3.18it/s, acc=99.7, loss=0.00376]\n"
     ]
    },
    {
     "name": "stdout",
     "output_type": "stream",
     "text": [
      "✅ Fold 10: Test Accuracy = 99.60%\n"
     ]
    },
    {
     "name": "stderr",
     "output_type": "stream",
     "text": [
      "Epoch [11/60]: 100%|██| 282/282 [01:28<00:00,  3.18it/s, acc=99.8, loss=4.66e-7]\n"
     ]
    },
    {
     "name": "stdout",
     "output_type": "stream",
     "text": [
      "✅ Fold 10: Test Accuracy = 99.80%\n"
     ]
    },
    {
     "name": "stderr",
     "output_type": "stream",
     "text": [
      "Epoch [12/60]: 100%|██| 282/282 [01:28<00:00,  3.18it/s, acc=99.5, loss=8.84e-5]\n"
     ]
    },
    {
     "name": "stdout",
     "output_type": "stream",
     "text": [
      "✅ Fold 10: Test Accuracy = 100.00%\n"
     ]
    },
    {
     "name": "stderr",
     "output_type": "stream",
     "text": [
      "Epoch [13/60]: 100%|██| 282/282 [01:28<00:00,  3.18it/s, acc=99.6, loss=0.00013]\n"
     ]
    },
    {
     "name": "stdout",
     "output_type": "stream",
     "text": [
      "✅ Fold 10: Test Accuracy = 99.70%\n"
     ]
    },
    {
     "name": "stderr",
     "output_type": "stream",
     "text": [
      "Epoch [14/60]: 100%|██| 282/282 [01:28<00:00,  3.18it/s, acc=99.8, loss=0.00023]\n"
     ]
    },
    {
     "name": "stdout",
     "output_type": "stream",
     "text": [
      "✅ Fold 10: Test Accuracy = 100.00%\n"
     ]
    },
    {
     "name": "stderr",
     "output_type": "stream",
     "text": [
      "Epoch [15/60]: 100%|███| 282/282 [01:28<00:00,  3.18it/s, acc=99.6, loss=0.0501]\n"
     ]
    },
    {
     "name": "stdout",
     "output_type": "stream",
     "text": [
      "✅ Fold 10: Test Accuracy = 99.70%\n"
     ]
    },
    {
     "name": "stderr",
     "output_type": "stream",
     "text": [
      "Epoch [16/60]: 100%|██| 282/282 [01:28<00:00,  3.18it/s, acc=99.6, loss=2.56e-5]\n"
     ]
    },
    {
     "name": "stdout",
     "output_type": "stream",
     "text": [
      "✅ Fold 10: Test Accuracy = 99.20%\n"
     ]
    },
    {
     "name": "stderr",
     "output_type": "stream",
     "text": [
      "Epoch [17/60]: 100%|██| 282/282 [01:28<00:00,  3.18it/s, acc=99.6, loss=1.18e-5]\n"
     ]
    },
    {
     "name": "stdout",
     "output_type": "stream",
     "text": [
      "✅ Fold 10: Test Accuracy = 99.90%\n"
     ]
    },
    {
     "name": "stderr",
     "output_type": "stream",
     "text": [
      "Epoch [18/60]: 100%|██| 282/282 [01:28<00:00,  3.18it/s, acc=99.5, loss=0.00868]\n"
     ]
    },
    {
     "name": "stdout",
     "output_type": "stream",
     "text": [
      "✅ Fold 10: Test Accuracy = 98.80%\n"
     ]
    },
    {
     "name": "stderr",
     "output_type": "stream",
     "text": [
      "Epoch [19/60]: 100%|█| 282/282 [01:28<00:00,  3.18it/s, acc=99.6, loss=0.000534]\n"
     ]
    },
    {
     "name": "stdout",
     "output_type": "stream",
     "text": [
      "✅ Fold 10: Test Accuracy = 99.50%\n"
     ]
    },
    {
     "name": "stderr",
     "output_type": "stream",
     "text": [
      "Epoch [20/60]: 100%|██| 282/282 [01:28<00:00,  3.18it/s, acc=99.6, loss=0.00746]\n"
     ]
    },
    {
     "name": "stdout",
     "output_type": "stream",
     "text": [
      "✅ Fold 10: Test Accuracy = 99.40%\n"
     ]
    },
    {
     "name": "stderr",
     "output_type": "stream",
     "text": [
      "Epoch [21/60]: 100%|█| 282/282 [01:28<00:00,  3.18it/s, acc=99.4, loss=0.000588]\n"
     ]
    },
    {
     "name": "stdout",
     "output_type": "stream",
     "text": [
      "✅ Fold 10: Test Accuracy = 99.80%\n"
     ]
    },
    {
     "name": "stderr",
     "output_type": "stream",
     "text": [
      "Epoch [22/60]: 100%|███| 282/282 [01:28<00:00,  3.18it/s, acc=99.3, loss=0.0568]\n"
     ]
    },
    {
     "name": "stdout",
     "output_type": "stream",
     "text": [
      "✅ Fold 10: Test Accuracy = 99.60%\n"
     ]
    },
    {
     "name": "stderr",
     "output_type": "stream",
     "text": [
      "Epoch [23/60]: 100%|██| 282/282 [01:28<00:00,  3.18it/s, acc=99.7, loss=4.87e-6]\n"
     ]
    },
    {
     "name": "stdout",
     "output_type": "stream",
     "text": [
      "✅ Fold 10: Test Accuracy = 99.10%\n"
     ]
    },
    {
     "name": "stderr",
     "output_type": "stream",
     "text": [
      "Epoch [24/60]: 100%|█| 282/282 [01:28<00:00,  3.18it/s, acc=99.3, loss=0.000896]\n"
     ]
    },
    {
     "name": "stdout",
     "output_type": "stream",
     "text": [
      "✅ Fold 10: Test Accuracy = 98.60%\n"
     ]
    },
    {
     "name": "stderr",
     "output_type": "stream",
     "text": [
      "Epoch [25/60]: 100%|██| 282/282 [01:28<00:00,  3.18it/s, acc=99.4, loss=0.00136]\n"
     ]
    },
    {
     "name": "stdout",
     "output_type": "stream",
     "text": [
      "✅ Fold 10: Test Accuracy = 99.90%\n"
     ]
    },
    {
     "name": "stderr",
     "output_type": "stream",
     "text": [
      "Epoch [26/60]: 100%|██| 282/282 [01:28<00:00,  3.18it/s, acc=99.7, loss=4.51e-6]\n"
     ]
    },
    {
     "name": "stdout",
     "output_type": "stream",
     "text": [
      "✅ Fold 10: Test Accuracy = 99.70%\n"
     ]
    },
    {
     "name": "stderr",
     "output_type": "stream",
     "text": [
      "Epoch [27/60]: 100%|█| 282/282 [01:28<00:00,  3.18it/s, acc=99.8, loss=0.000342]\n"
     ]
    },
    {
     "name": "stdout",
     "output_type": "stream",
     "text": [
      "✅ Fold 10: Test Accuracy = 99.90%\n"
     ]
    },
    {
     "name": "stderr",
     "output_type": "stream",
     "text": [
      "Epoch [28/60]: 100%|██| 282/282 [01:28<00:00,  3.18it/s, acc=99.9, loss=1.98e-5]\n"
     ]
    },
    {
     "name": "stdout",
     "output_type": "stream",
     "text": [
      "✅ Fold 10: Test Accuracy = 99.70%\n"
     ]
    },
    {
     "name": "stderr",
     "output_type": "stream",
     "text": [
      "Epoch [29/60]: 100%|██| 282/282 [01:28<00:00,  3.18it/s, acc=99.5, loss=0.00299]\n"
     ]
    },
    {
     "name": "stdout",
     "output_type": "stream",
     "text": [
      "✅ Fold 10: Test Accuracy = 99.30%\n"
     ]
    },
    {
     "name": "stderr",
     "output_type": "stream",
     "text": [
      "Epoch [30/60]: 100%|█| 282/282 [01:28<00:00,  3.18it/s, acc=99.7, loss=0.000236]\n"
     ]
    },
    {
     "name": "stdout",
     "output_type": "stream",
     "text": [
      "✅ Fold 10: Test Accuracy = 99.60%\n"
     ]
    },
    {
     "name": "stderr",
     "output_type": "stream",
     "text": [
      "Epoch [31/60]: 100%|██| 282/282 [01:28<00:00,  3.18it/s, acc=99.7, loss=0.00387]\n"
     ]
    },
    {
     "name": "stdout",
     "output_type": "stream",
     "text": [
      "✅ Fold 10: Test Accuracy = 98.50%\n"
     ]
    },
    {
     "name": "stderr",
     "output_type": "stream",
     "text": [
      "Epoch [32/60]: 100%|███| 282/282 [01:28<00:00,  3.18it/s, acc=99.4, loss=0.0207]\n"
     ]
    },
    {
     "name": "stdout",
     "output_type": "stream",
     "text": [
      "✅ Fold 10: Test Accuracy = 99.10%\n"
     ]
    },
    {
     "name": "stderr",
     "output_type": "stream",
     "text": [
      "Epoch [33/60]: 100%|██| 282/282 [01:28<00:00,  3.18it/s, acc=99.7, loss=4.21e-5]\n"
     ]
    },
    {
     "name": "stdout",
     "output_type": "stream",
     "text": [
      "✅ Fold 10: Test Accuracy = 99.40%\n"
     ]
    },
    {
     "name": "stderr",
     "output_type": "stream",
     "text": [
      "Epoch [34/60]: 100%|██| 282/282 [01:28<00:00,  3.18it/s, acc=99.5, loss=4.28e-5]\n"
     ]
    },
    {
     "name": "stdout",
     "output_type": "stream",
     "text": [
      "✅ Fold 10: Test Accuracy = 99.40%\n"
     ]
    },
    {
     "name": "stderr",
     "output_type": "stream",
     "text": [
      "Epoch [35/60]: 100%|███| 282/282 [01:28<00:00,  3.18it/s, acc=99.5, loss=0.0081]\n"
     ]
    },
    {
     "name": "stdout",
     "output_type": "stream",
     "text": [
      "✅ Fold 10: Test Accuracy = 99.00%\n"
     ]
    },
    {
     "name": "stderr",
     "output_type": "stream",
     "text": [
      "Epoch [36/60]: 100%|█| 282/282 [01:28<00:00,  3.18it/s, acc=99.7, loss=0.000208]\n"
     ]
    },
    {
     "name": "stdout",
     "output_type": "stream",
     "text": [
      "✅ Fold 10: Test Accuracy = 99.80%\n"
     ]
    },
    {
     "name": "stderr",
     "output_type": "stream",
     "text": [
      "Epoch [37/60]: 100%|██| 282/282 [01:28<00:00,  3.18it/s, acc=99.7, loss=0.00517]\n"
     ]
    },
    {
     "name": "stdout",
     "output_type": "stream",
     "text": [
      "✅ Fold 10: Test Accuracy = 99.20%\n"
     ]
    },
    {
     "name": "stderr",
     "output_type": "stream",
     "text": [
      "Epoch [38/60]: 100%|█| 282/282 [01:28<00:00,  3.18it/s, acc=99.7, loss=0.000186]\n"
     ]
    },
    {
     "name": "stdout",
     "output_type": "stream",
     "text": [
      "✅ Fold 10: Test Accuracy = 99.20%\n"
     ]
    },
    {
     "name": "stderr",
     "output_type": "stream",
     "text": [
      "Epoch [39/60]: 100%|██| 282/282 [01:28<00:00,  3.18it/s, acc=99.7, loss=0.00743]\n"
     ]
    },
    {
     "name": "stdout",
     "output_type": "stream",
     "text": [
      "✅ Fold 10: Test Accuracy = 99.50%\n"
     ]
    },
    {
     "name": "stderr",
     "output_type": "stream",
     "text": [
      "Epoch [40/60]: 100%|██| 282/282 [01:28<00:00,  3.18it/s, acc=99.6, loss=0.00032]\n"
     ]
    },
    {
     "name": "stdout",
     "output_type": "stream",
     "text": [
      "✅ Fold 10: Test Accuracy = 99.60%\n"
     ]
    },
    {
     "name": "stderr",
     "output_type": "stream",
     "text": [
      "Epoch [41/60]: 100%|██| 282/282 [01:28<00:00,  3.18it/s, acc=99.8, loss=1.18e-5]\n"
     ]
    },
    {
     "name": "stdout",
     "output_type": "stream",
     "text": [
      "✅ Fold 10: Test Accuracy = 99.30%\n"
     ]
    },
    {
     "name": "stderr",
     "output_type": "stream",
     "text": [
      "Epoch [42/60]: 100%|█| 282/282 [01:28<00:00,  3.18it/s, acc=99.9, loss=0.000457]\n"
     ]
    },
    {
     "name": "stdout",
     "output_type": "stream",
     "text": [
      "✅ Fold 10: Test Accuracy = 99.50%\n"
     ]
    },
    {
     "name": "stderr",
     "output_type": "stream",
     "text": [
      "Epoch [43/60]: 100%|██| 282/282 [01:28<00:00,  3.18it/s, acc=99.5, loss=0.00225]\n"
     ]
    },
    {
     "name": "stdout",
     "output_type": "stream",
     "text": [
      "✅ Fold 10: Test Accuracy = 99.40%\n"
     ]
    },
    {
     "name": "stderr",
     "output_type": "stream",
     "text": [
      "Epoch [44/60]: 100%|██| 282/282 [01:28<00:00,  3.18it/s, acc=99.5, loss=0.00762]\n"
     ]
    },
    {
     "name": "stdout",
     "output_type": "stream",
     "text": [
      "✅ Fold 10: Test Accuracy = 98.70%\n"
     ]
    },
    {
     "name": "stderr",
     "output_type": "stream",
     "text": [
      "Epoch [45/60]: 100%|█| 282/282 [01:28<00:00,  3.18it/s, acc=99.7, loss=0.000103]\n"
     ]
    },
    {
     "name": "stdout",
     "output_type": "stream",
     "text": [
      "✅ Fold 10: Test Accuracy = 99.50%\n"
     ]
    },
    {
     "name": "stderr",
     "output_type": "stream",
     "text": [
      "Epoch [46/60]: 100%|██| 282/282 [01:28<00:00,  3.18it/s, acc=99.9, loss=6.64e-5]\n"
     ]
    },
    {
     "name": "stdout",
     "output_type": "stream",
     "text": [
      "✅ Fold 10: Test Accuracy = 99.80%\n"
     ]
    },
    {
     "name": "stderr",
     "output_type": "stream",
     "text": [
      "Epoch [47/60]: 100%|█| 282/282 [01:28<00:00,  3.18it/s, acc=99.8, loss=0.000127]\n"
     ]
    },
    {
     "name": "stdout",
     "output_type": "stream",
     "text": [
      "✅ Fold 10: Test Accuracy = 98.20%\n"
     ]
    },
    {
     "name": "stderr",
     "output_type": "stream",
     "text": [
      "Epoch [48/60]: 100%|██| 282/282 [01:28<00:00,  3.18it/s, acc=99.8, loss=2.67e-6]\n"
     ]
    },
    {
     "name": "stdout",
     "output_type": "stream",
     "text": [
      "✅ Fold 10: Test Accuracy = 99.70%\n"
     ]
    },
    {
     "name": "stderr",
     "output_type": "stream",
     "text": [
      "Epoch [49/60]: 100%|███| 282/282 [01:28<00:00,  3.18it/s, acc=99.2, loss=0.0225]\n"
     ]
    },
    {
     "name": "stdout",
     "output_type": "stream",
     "text": [
      "✅ Fold 10: Test Accuracy = 98.80%\n"
     ]
    },
    {
     "name": "stderr",
     "output_type": "stream",
     "text": [
      "Epoch [50/60]: 100%|███| 282/282 [01:28<00:00,  3.18it/s, acc=99.2, loss=0.0234]\n"
     ]
    },
    {
     "name": "stdout",
     "output_type": "stream",
     "text": [
      "✅ Fold 10: Test Accuracy = 99.10%\n"
     ]
    },
    {
     "name": "stderr",
     "output_type": "stream",
     "text": [
      "Epoch [51/60]: 100%|██| 282/282 [01:28<00:00,  3.18it/s, acc=99.7, loss=0.00017]\n"
     ]
    },
    {
     "name": "stdout",
     "output_type": "stream",
     "text": [
      "✅ Fold 10: Test Accuracy = 99.50%\n"
     ]
    },
    {
     "name": "stderr",
     "output_type": "stream",
     "text": [
      "Epoch [52/60]: 100%|███| 282/282 [01:28<00:00,  3.18it/s, acc=99.9, loss=2.4e-5]\n"
     ]
    },
    {
     "name": "stdout",
     "output_type": "stream",
     "text": [
      "✅ Fold 10: Test Accuracy = 99.30%\n"
     ]
    },
    {
     "name": "stderr",
     "output_type": "stream",
     "text": [
      "Epoch [53/60]: 100%|██| 282/282 [01:28<00:00,  3.18it/s, acc=99.8, loss=5.54e-5]\n"
     ]
    },
    {
     "name": "stdout",
     "output_type": "stream",
     "text": [
      "✅ Fold 10: Test Accuracy = 99.70%\n"
     ]
    },
    {
     "name": "stderr",
     "output_type": "stream",
     "text": [
      "Epoch [54/60]: 100%|██| 282/282 [01:28<00:00,  3.18it/s, acc=99.9, loss=4.27e-6]\n"
     ]
    },
    {
     "name": "stdout",
     "output_type": "stream",
     "text": [
      "✅ Fold 10: Test Accuracy = 99.50%\n"
     ]
    },
    {
     "name": "stderr",
     "output_type": "stream",
     "text": [
      "Epoch [55/60]: 100%|██| 282/282 [01:28<00:00,  3.18it/s, acc=99.3, loss=0.00356]\n"
     ]
    },
    {
     "name": "stdout",
     "output_type": "stream",
     "text": [
      "✅ Fold 10: Test Accuracy = 99.10%\n"
     ]
    },
    {
     "name": "stderr",
     "output_type": "stream",
     "text": [
      "Epoch [56/60]: 100%|██| 282/282 [01:28<00:00,  3.18it/s, acc=99.5, loss=0.00105]\n"
     ]
    },
    {
     "name": "stdout",
     "output_type": "stream",
     "text": [
      "✅ Fold 10: Test Accuracy = 99.60%\n"
     ]
    },
    {
     "name": "stderr",
     "output_type": "stream",
     "text": [
      "Epoch [57/60]: 100%|█| 282/282 [01:28<00:00,  3.18it/s, acc=99.9, loss=0.000155]\n"
     ]
    },
    {
     "name": "stdout",
     "output_type": "stream",
     "text": [
      "✅ Fold 10: Test Accuracy = 99.80%\n"
     ]
    },
    {
     "name": "stderr",
     "output_type": "stream",
     "text": [
      "Epoch [58/60]: 100%|█| 282/282 [01:28<00:00,  3.18it/s, acc=99.8, loss=0.000112]\n"
     ]
    },
    {
     "name": "stdout",
     "output_type": "stream",
     "text": [
      "✅ Fold 10: Test Accuracy = 99.70%\n"
     ]
    },
    {
     "name": "stderr",
     "output_type": "stream",
     "text": [
      "Epoch [59/60]: 100%|██| 282/282 [01:28<00:00,  3.18it/s, acc=99.6, loss=0.00267]\n"
     ]
    },
    {
     "name": "stdout",
     "output_type": "stream",
     "text": [
      "✅ Fold 10: Test Accuracy = 99.30%\n"
     ]
    },
    {
     "name": "stderr",
     "output_type": "stream",
     "text": [
      "Epoch [60/60]: 100%|█| 282/282 [01:28<00:00,  3.18it/s, acc=99.6, loss=0.000311]\n"
     ]
    },
    {
     "name": "stdout",
     "output_type": "stream",
     "text": [
      "✅ Fold 10: Test Accuracy = 97.80%\n"
     ]
    }
   ],
   "source": [
    "from torchvision import transforms\n",
    "import torch\n",
    "import numpy as np\n",
    "import os\n",
    "import matplotlib.pyplot as plt\n",
    "import seaborn as sns\n",
    "from torch.utils.data import DataLoader, Subset\n",
    "from sklearn.model_selection import StratifiedKFold\n",
    "from sklearn.metrics import confusion_matrix, classification_report, roc_curve, auc\n",
    "from torch.optim import Adam\n",
    "from torch.nn import CrossEntropyLoss\n",
    "from tqdm import tqdm\n",
    "\n",
    "# ✅ Data Augmentation for Training\n",
    "train_transform = transforms.Compose([\n",
    "    transforms.RandomHorizontalFlip(p=0.5),\n",
    "    transforms.RandomVerticalFlip(p=0.5),\n",
    "    transforms.RandomRotation(degrees=30),\n",
    "    transforms.ColorJitter(brightness=0.2, contrast=0.2, saturation=0.2, hue=0.1),\n",
    "    transforms.ToTensor(),\n",
    "])\n",
    "\n",
    "# ✅ Only Tensor + Normalization for Testing\n",
    "test_transform = transforms.Compose([\n",
    "    transforms.ToTensor(),\n",
    "])\n",
    "\n",
    "# Load full dataset (with neutral transform for indexing)\n",
    "base_dataset = SkinCancerDataset(root_dir=\"/home/lab115/Downloads/dataset/dataset\", transform=transforms.ToTensor())\n",
    "\n",
    "NUM_CLASSES = len(base_dataset.class_to_idx)\n",
    "BATCH_SIZE = 32\n",
    "EPOCHS = 60\n",
    "K_FOLDS = 10\n",
    "LEARNING_RATE = 0.0001\n",
    "\n",
    "# Extract labels to stratify\n",
    "targets = [base_dataset[i][1] for i in range(len(base_dataset))]\n",
    "\n",
    "skf = StratifiedKFold(n_splits=K_FOLDS, shuffle=True, random_state=42)\n",
    "splits = list(skf.split(np.zeros(len(targets)), targets))\n",
    "\n",
    "all_true_labels = []\n",
    "all_pred_labels = []\n",
    "all_probs = []\n",
    "\n",
    "for fold, (train_idx, test_idx) in enumerate(splits):\n",
    "    print(f\"\\n🚀 Training Fold {fold + 1}/{K_FOLDS}\")\n",
    "\n",
    "    # Separate datasets to avoid transform leakage\n",
    "    train_dataset = SkinCancerDataset(root_dir=\"/home/lab115/Downloads/dataset/dataset\", transform=train_transform)\n",
    "    test_dataset = SkinCancerDataset(root_dir=\"/home/lab115/Downloads/dataset/dataset\", transform=test_transform)\n",
    "\n",
    "    train_subset = Subset(train_dataset, train_idx)\n",
    "    test_subset = Subset(test_dataset, test_idx)\n",
    "\n",
    "    # Data loaders\n",
    "    train_loader = DataLoader(train_subset, batch_size=BATCH_SIZE, shuffle=True, num_workers=2, pin_memory=True)\n",
    "    test_loader = DataLoader(test_subset, batch_size=BATCH_SIZE, shuffle=False, num_workers=2, pin_memory=True)\n",
    "\n",
    "    # Initialize model\n",
    "    model = SPCBViTNet(vit_model=vit_model, num_classes=NUM_CLASSES).to(device)\n",
    "\n",
    "    # Optimizer & Loss\n",
    "    optimizer = Adam(model.parameters(), lr=LEARNING_RATE)\n",
    "    criterion = CrossEntropyLoss()\n",
    "\n",
    "    # Checkpoint path\n",
    "    checkpoint_path = f\"best_model_fold_{fold + 1}.pth\"\n",
    "\n",
    "    # Load checkpoint if available\n",
    "    best_acc = 0.0\n",
    "    start_epoch = 0\n",
    "    if os.path.exists(checkpoint_path):\n",
    "        checkpoint = torch.load(checkpoint_path)\n",
    "        model.load_state_dict(checkpoint[\"model_state_dict\"])\n",
    "        optimizer.load_state_dict(checkpoint[\"optimizer_state_dict\"])\n",
    "        start_epoch = checkpoint[\"epoch\"] + 1\n",
    "        best_acc = checkpoint[\"best_acc\"]\n",
    "        print(f\"🔄 Resuming from epoch {start_epoch}, best accuracy: {best_acc:.2f}%\")\n",
    "\n",
    "    # Training Loop\n",
    "    for epoch in range(start_epoch, EPOCHS):\n",
    "        model.train()\n",
    "        running_loss, correct, total = 0.0, 0, 0\n",
    "\n",
    "        loop = tqdm(train_loader, leave=True)\n",
    "        for images, labels in loop:\n",
    "            images, labels = images.to(device), labels.to(device)\n",
    "\n",
    "            optimizer.zero_grad()\n",
    "            outputs = model(images)\n",
    "            loss = criterion(outputs, labels)\n",
    "            loss.backward()\n",
    "            optimizer.step()\n",
    "\n",
    "            running_loss += loss.item()\n",
    "            _, predicted = torch.max(outputs, 1)\n",
    "            correct += (predicted == labels).sum().item()\n",
    "            total += labels.size(0)\n",
    "\n",
    "            loop.set_description(f\"Epoch [{epoch+1}/{EPOCHS}]\")\n",
    "            loop.set_postfix(loss=loss.item(), acc=100 * correct / total)\n",
    "\n",
    "        # Testing Loop\n",
    "        model.eval()\n",
    "        test_correct, test_total = 0, 0\n",
    "        fold_preds, fold_labels, fold_probs = [], [], []\n",
    "\n",
    "        with torch.no_grad():\n",
    "            for images, labels in test_loader:\n",
    "                images, labels = images.to(device), labels.to(device)\n",
    "                outputs = model(images)\n",
    "\n",
    "                probs = torch.nn.functional.softmax(outputs, dim=1)\n",
    "                _, predicted = torch.max(outputs, 1)\n",
    "\n",
    "                fold_preds.extend(predicted.cpu().numpy())\n",
    "                fold_labels.extend(labels.cpu().numpy())\n",
    "                fold_probs.extend(probs.cpu().numpy())\n",
    "\n",
    "                test_correct += (predicted == labels).sum().item()\n",
    "                test_total += labels.size(0)\n",
    "\n",
    "        test_acc = 100 * test_correct / test_total\n",
    "        print(f\"✅ Fold {fold+1}: Test Accuracy = {test_acc:.2f}%\")\n",
    "\n",
    "        # Save checkpoint if accuracy improves\n",
    "        if test_acc > best_acc:\n",
    "            best_acc = test_acc\n",
    "            torch.save({\n",
    "                \"epoch\": epoch,\n",
    "                \"model_state_dict\": model.state_dict(),\n",
    "                \"optimizer_state_dict\": optimizer.state_dict(),\n",
    "                \"best_acc\": best_acc,\n",
    "            }, checkpoint_path)\n",
    "            print(f\"🎯 New best model saved with accuracy: {best_acc:.2f}%\")\n",
    "\n",
    "    all_true_labels.extend(fold_labels)\n",
    "    all_pred_labels.extend(fold_preds)\n",
    "    all_probs.extend(fold_probs)\n"
   ]
  },
  {
   "cell_type": "code",
   "execution_count": 8,
   "metadata": {},
   "outputs": [
    {
     "name": "stdout",
     "output_type": "stream",
     "text": [
      "\n",
      "📊 Final Evaluation Across All Folds:\n"
     ]
    },
    {
     "data": {
      "image/png": "[encoded data removed]",
      "text/plain": [
       "<Figure size 800x600 with 2 Axes>"
      ]
     },
     "metadata": {},
     "output_type": "display_data"
    },
    {
     "name": "stdout",
     "output_type": "stream",
     "text": [
      "              precision    recall  f1-score   support\n",
      "\n",
      "       akiec     0.9465    0.8654    0.9042       327\n",
      "         bcc     0.9585    0.9436    0.9510       514\n",
      "         bkl     0.9241    0.9299    0.9270      1099\n",
      "          df     0.9636    0.9217    0.9422       115\n",
      "         mel     0.9522    0.9137    0.9326      1113\n",
      "          nv     0.9782    0.9897    0.9839      6705\n",
      "        vasc     0.9789    0.9789    0.9789       142\n",
      "\n",
      "    accuracy                         0.9673     10015\n",
      "   macro avg     0.9574    0.9347    0.9457     10015\n",
      "weighted avg     0.9672    0.9673    0.9671     10015\n",
      "\n"
     ]
    },
    {
     "data": {
      "image/png": "[encoded data removed]",
      "text/plain": [
       "<Figure size 1000x800 with 1 Axes>"
      ]
     },
     "metadata": {},
     "output_type": "display_data"
    }
   ],
   "source": [
    "\n",
    "from sklearn.metrics import confusion_matrix\n",
    "import numpy as np  # Ensure numpy is also imported\n",
    "print(\"\\n📊 Final Evaluation Across All Folds:\")\n",
    "\n",
    "cm = confusion_matrix(all_true_labels, all_pred_labels)\n",
    "cm_percentage = cm.astype('float') / cm.sum(axis=1)[:, np.newaxis] * 100\n",
    "\n",
    "plt.figure(figsize=(8, 6))\n",
    "sns.heatmap(cm_percentage, annot=True, fmt=\".2f\", cmap=\"Blues\",\n",
    "            xticklabels=base_dataset.class_to_idx.keys(), \n",
    "            yticklabels=base_dataset.class_to_idx.keys())\n",
    "\n",
    "plt.xlabel(\"Predicted\")\n",
    "plt.ylabel(\"Actual\")\n",
    "plt.title(\"Final Confusion Matrix Across All Folds (Percentage-wise)\")\n",
    "plt.show()\n",
    "\n",
    "class_report = classification_report(all_true_labels, all_pred_labels, target_names=base_dataset.class_to_idx.keys(), digits=4)\n",
    "print(class_report)\n",
    "\n",
    "plt.figure(figsize=(10, 8))\n",
    "for i in range(NUM_CLASSES):\n",
    "    fpr, tpr, _ = roc_curve(np.array(all_true_labels) == i, np.array(all_probs)[:, i])\n",
    "    roc_auc = auc(fpr, tpr)\n",
    "    plt.plot(fpr, tpr, label=f\"Class {list(base_dataset.class_to_idx.keys())[i]} (AUC = {roc_auc:.2f})\")\n",
    "\n",
    "plt.plot([0, 1], [0, 1], \"k--\")\n",
    "plt.xlabel(\"False Positive Rate\")\n",
    "plt.ylabel(\"True Positive Rate\")\n",
    "plt.title(\"Final ROC Curve Across All Folds\")\n",
    "plt.legend(loc=\"lower right\")\n",
    "plt.show()\n"
   ]
  },
  {
   "cell_type": "code",
   "execution_count": null,
   "metadata": {},
   "outputs": [],
   "source": []
  }
 ],
 "metadata": {
  "kaggle": {
   "accelerator": "gpu",
   "dataSources": [
    {
     "datasetId": 7011822,
     "sourceId": 11226468,
     "sourceType": "datasetVersion"
    },
    {
     "datasetId": 7080709,
     "sourceId": 11320902,
     "sourceType": "datasetVersion"
    }
   ],
   "dockerImageVersionId": 30919,
   "isGpuEnabled": true,
   "isInternetEnabled": true,
   "language": "python",
   "sourceType": "notebook"
  },
  "kernelspec": {
   "display_name": "Python 3 (ipykernel)",
   "language": "python",
   "name": "python3"
  },
  "language_info": {
   "codemirror_mode": {
    "name": "ipython",
    "version": 3
   },
   "file_extension": ".py",
   "mimetype": "text/x-python",
   "name": "python",
   "nbconvert_exporter": "python",
   "pygments_lexer": "ipython3",
   "version": "3.8.10"
  }
 },
 "nbformat": 4,
 "nbformat_minor": 4
}
