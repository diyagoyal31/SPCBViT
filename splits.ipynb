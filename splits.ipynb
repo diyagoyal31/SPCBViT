{
 "cells": [
  {
   "cell_type": "markdown",
   "metadata": {},
   "source": [
    "# Dataset Split – SPCBViTNet Preprocessed Metadata-Based Split\n",
    "\n",
    "📌 This notebook performs final **dataset splitting** based on class labels extracted from metadata, after preprocessing.  \n",
    "It prepares the training, validation, and test sets for experiments on the **HAM10000** and **PAD-UFES-20** datasets.\n",
    "\n",
    "🧪 Part of the submission, titled:  \n",
    "**\"SPCBViTNet: Enhancing Skin Cancer Diagnosis with Multi-Scale Vision Transformers and Adaptive Spatial-Channel Attention\"**\n",
    "🔒 Not peer-reviewed. Please do not cite or reuse until publication.\n",
    "\n",
    "📁 Repository: [https://github.com/diyagoyal31/SPCBViT](https://github.com/diyagoyal31/SPCBViT)\n"
   ]
  },
  {
   "cell_type": "code",
   "execution_count": 2,
   "metadata": {},
   "outputs": [
    {
     "name": "stdout",
     "output_type": "stream",
     "text": [
      "Finished moving images. Missing: 0, Wrong size: 0.\n",
      "Dataset with class-wise subfolders created successfully!\n"
     ]
    }
   ],
   "source": [
    "import pandas as pd\n",
    "import os\n",
    "import shutil\n",
    "from PIL import Image\n",
    "\n",
    "# Load dataset CSV\n",
    "csv_path = \"/Users/diyagoyal/skin_cancer/hello/metadata_PAD.csv\"  # Update path\n",
    "df = pd.read_csv(csv_path)\n",
    "\n",
    "# Define source image folder & output dataset folder\n",
    "image_folder = \"/Users/diyagoyal/skin_cancer/hello/Preprocessed_PAD_224x224_Normalized\"  # Update path\n",
    "output_dataset = \"/Users/diyagoyal/skin_cancer/hello/dataset_split_2/\"  # Single dataset folder\n",
    "\n",
    "# Ensure output directory exists\n",
    "os.makedirs(output_dataset, exist_ok=True)\n",
    "\n",
    "# Pre-create class-wise subdirectories\n",
    "for class_name in df['diagnostic'].unique():\n",
    "    os.makedirs(os.path.join(output_dataset, class_name), exist_ok=True)\n",
    "\n",
    "# Function to move images to class folders\n",
    "def move_images(df, destination_folder):\n",
    "    missing_count = 0  # Track missing files\n",
    "    wrong_size_count = 0  # Track incorrectly sized images\n",
    "    expected_size = (224, 224)  # Expected image size\n",
    "\n",
    "    for _, row in df.iterrows():\n",
    "        src_path = os.path.join(image_folder, row['img_id'] )  # Assuming images are .jpg\n",
    "        dest_path = os.path.join(destination_folder, row['diagnostic'], row['img_id'])\n",
    "\n",
    "        if os.path.exists(src_path):\n",
    "            # Open the image and check its size\n",
    "            with Image.open(src_path) as img:\n",
    "                if img.size != expected_size:\n",
    "                    print(f\"Warning: {src_path} is {img.size}, expected {expected_size}. Skipping...\")\n",
    "                    wrong_size_count += 1\n",
    "                    continue  # Skip moving this image\n",
    "            \n",
    "            shutil.move(src_path, dest_path)  # Move image if size is correct\n",
    "        else:\n",
    "            missing_count += 1\n",
    "            print(f\"Warning: Image {src_path} not found!\")\n",
    "\n",
    "    print(f\"Finished moving images. Missing: {missing_count}, Wrong size: {wrong_size_count}.\")\n",
    "\n",
    "# Move all images class-wise and check size\n",
    "move_images(df, output_dataset)\n",
    "\n",
    "print(\"Dataset with class-wise subfolders created successfully!\")\n"
   ]
  }
 ],
 "metadata": {
  "kernelspec": {
   "display_name": "base",
   "language": "python",
   "name": "python3"
  },
  "language_info": {
   "codemirror_mode": {
    "name": "ipython",
    "version": 3
   },
   "file_extension": ".py",
   "mimetype": "text/x-python",
   "name": "python",
   "nbconvert_exporter": "python",
   "pygments_lexer": "ipython3",
   "version": "3.12.4"
  }
 },
 "nbformat": 4,
 "nbformat_minor": 2
}
